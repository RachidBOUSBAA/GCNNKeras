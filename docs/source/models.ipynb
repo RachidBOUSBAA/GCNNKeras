{
 "cells": [
  {
   "cell_type": "markdown",
   "id": "183317fb",
   "metadata": {},
   "source": [
    "# Models"
   ]
  },
  {
   "cell_type": "markdown",
   "id": "e214914c-e591-4b1a-ab8a-972618784960",
   "metadata": {},
   "source": [
    "Some example data to show model inputs."
   ]
  },
  {
   "cell_type": "code",
   "execution_count": 22,
   "id": "a9324d38-d5c1-4c18-a65b-d5fbba624230",
   "metadata": {},
   "outputs": [],
   "source": [
    "%%capture\n",
    "import keras_core"
   ]
  },
  {
   "cell_type": "markdown",
   "id": "a4447793",
   "metadata": {},
   "source": [
    "## Functional API"
   ]
  },
  {
   "cell_type": "markdown",
   "id": "a409c5e0",
   "metadata": {},
   "source": [
    "Like most models in `kgcnn.literature` the models can be set up with the `keras` functional API. Here an example for a simple message passing GNN. The layers are taken from `kgcnn.layers` . See documentation of layers for further details."
   ]
  },
  {
   "cell_type": "code",
   "execution_count": 81,
   "id": "828e8089-8e98-4645-a08c-914432e79436",
   "metadata": {},
   "outputs": [],
   "source": [
    "from kgcnn.layers.casting import CastBatchedIndicesToDisjoint\n",
    "from kgcnn.layers.gather import GatherNodes\n",
    "from kgcnn.layers.pooling import PoolingNodes\n",
    "from kgcnn.layers.aggr import AggregateLocalEdges\n",
    "\n",
    "ns = ks.layers.Input(shape=(None, 1), dtype=\"float32\")\n",
    "e_idx = ks.layers.Input(shape=(None, 2), dtype=\"int64\")\n",
    "total_n = ks.layers.Input(shape=(), dtype=\"int64\")  # Or mask\n",
    "total_e = ks.layers.Input(shape=(), dtype=\"int64\")  # Or mask\n",
    "\n",
    "# Model is build with padded input.\n",
    "n, idx, batch_id, _, _, _, _, _ = CastBatchedIndicesToDisjoint()([ns, e_idx, total_n, total_e])\n",
    "n_in_out = GatherNodes()([n, idx])\n",
    "node_messages = ks.layers.Dense(64, activation='relu')(n_in_out)\n",
    "node_updates = AggregateLocalEdges()([n, node_messages, idx])\n",
    "n_node_updates = ks.layers.Concatenate()([n, node_updates])\n",
    "n_embedding = ks.layers.Dense(1)(n_node_updates)\n",
    "g_embedding = PoolingNodes()([total_n, n_embedding, batch_id])\n",
    "\n",
    "message_passing = ks.models.Model(inputs=[ns, e_idx, total_n, total_e], outputs=g_embedding)"
   ]
  },
  {
   "cell_type": "markdown",
   "id": "647d81b1",
   "metadata": {},
   "source": [
    "## Subclassing Model"
   ]
  },
  {
   "cell_type": "markdown",
   "id": "41fe0f2f",
   "metadata": {},
   "source": [
    "A model can be constructed by subclassing from `keras.models.Model` where the call method must be implemented. "
   ]
  },
  {
   "cell_type": "code",
   "execution_count": 82,
   "id": "5e47986a-fc66-4736-b74f-e941a4886fd2",
   "metadata": {},
   "outputs": [],
   "source": [
    "class MessagePassingModel(ks.models.Model):\n",
    "\n",
    "    def __init__(self):\n",
    "        super().__init__()\n",
    "        self._layer_casting = CastBatchedIndicesToDisjoint()\n",
    "        self._layer_gather_nodes = GatherNodes()\n",
    "        self._layer_dense = ks.layers.Dense(64, activation='relu')\n",
    "        self._layer_aggregate_edges = AggregateLocalEdges()\n",
    "        self._layer_cat = ks.layers.Concatenate(axis=-1)\n",
    "        self._layer_dense_last = ks.layers.Dense(1)\n",
    "        self._layer_pool_nodes = PoolingNodes()\n",
    "\n",
    "    def build(self, input_shape):\n",
    "        super().build(input_shape)\n",
    "        \n",
    "    def call(self, inputs, **kwargs):\n",
    "        n, idx, batch_id, _, _, _, total_n, _ = self._layer_casting(inputs)\n",
    "        n_in_out = self._layer_gather_nodes([n, idx])\n",
    "        node_messages = self._layer_dense(n_in_out)\n",
    "        node_updates = self._layer_aggregate_edges([n, node_messages, idx])\n",
    "        n_node_updates = self._layer_cat([n, node_updates])\n",
    "        n_embedding = self._layer_dense_last(n_node_updates)\n",
    "        g_embedding = self._layer_pool_nodes([total_n, n_embedding, batch_id])\n",
    "        return g_embedding\n",
    "\n",
    "message_passing_2 = MessagePassingModel()"
   ]
  },
  {
   "cell_type": "markdown",
   "id": "fa190f8b-2d77-49a6-8a7d-9daa921eabee",
   "metadata": {},
   "source": [
    "## Templates"
   ]
  },
  {
   "cell_type": "markdown",
   "id": "810da1f6",
   "metadata": {},
   "source": [
    "Also layers can be further subclassed to create a GNN, for example of the message passing base layer. Where only `message_function` and `update_nodes` must be implemented."
   ]
  },
  {
   "cell_type": "markdown",
   "id": "89ac5472",
   "metadata": {},
   "source": [
    "## Loading options"
   ]
  },
  {
   "cell_type": "markdown",
   "id": "e5397e58",
   "metadata": {},
   "source": [
    "There are many options to load data to a keras model, which depend on the size and location of the data to pass to the model. There may differences in speed and utility depending on the loading method. For more examples, please find https://github.com/aimat-lab/gcnn_keras/blob/master/notebooks/tutorial_model_loading_options.ipynb ."
   ]
  },
  {
   "cell_type": "markdown",
   "id": "8a553cf4-463b-4c29-9b34-3e7a5d748096",
   "metadata": {},
   "source": [
    "##### 1. Padded Tensor\n",
    "\n",
    "The most simple way to pass tensors to the model is to simply pad to same size tensor. For the model input further information is required on the padding. Either a length tensor or a mask."
   ]
  },
  {
   "cell_type": "code",
   "execution_count": 83,
   "id": "43d32927-e70a-4160-a0cb-9d3e22066e65",
   "metadata": {},
   "outputs": [],
   "source": [
    "from keras_core import ops\n",
    "example_nodes = ops.convert_to_tensor([[[1.], [2.]], [[1.0], [0.0]], [[2.0], [0.0]]])\n",
    "example_indices = ops.convert_to_tensor([[[0, 1], [1, 0], [1,1]], [[0, 0], [0, 0], [0, 0]], [[0, 0], [0, 0], [0, 0]]], dtype=\"int64\")\n",
    "example_total_nodes = ops.convert_to_tensor([2, 1, 1], dtype=\"int64\")\n",
    "example_total_edges = ops.convert_to_tensor([3, 1, 1], dtype=\"int64\")"
   ]
  },
  {
   "cell_type": "code",
   "execution_count": 84,
   "id": "c5c60580-3a2e-4eca-8eb4-d42fd6a31401",
   "metadata": {},
   "outputs": [
    {
     "name": "stdout",
     "output_type": "stream",
     "text": [
      "\u001b[1m1/1\u001b[0m \u001b[32m━━━━━━━━━━━━━━━━━━━━\u001b[0m\u001b[37m\u001b[0m \u001b[1m0s\u001b[0m 224ms/step\n"
     ]
    },
    {
     "data": {
      "text/plain": [
       "array([[-0.10487814],\n",
       "       [-0.1265333 ],\n",
       "       [-0.2530666 ]], dtype=float32)"
      ]
     },
     "execution_count": 84,
     "metadata": {},
     "output_type": "execute_result"
    }
   ],
   "source": [
    "message_passing.predict([example_nodes, example_indices, example_total_nodes, example_total_edges])"
   ]
  },
  {
   "cell_type": "markdown",
   "id": "1bbd8bb7-40d2-4ad4-a55c-8290936dc601",
   "metadata": {},
   "source": [
    "##### 2. Ragged input"
   ]
  },
  {
   "cell_type": "code",
   "execution_count": null,
   "id": "5daf500f-1379-4d8e-ac19-69614fd64a11",
   "metadata": {},
   "outputs": [],
   "source": []
  },
  {
   "cell_type": "markdown",
   "id": "18be89df",
   "metadata": {},
   "source": [
    "> **NOTE**: You can find this page as jupyter notebook in https://github.com/aimat-lab/gcnn_keras/tree/master/docs/source"
   ]
  }
 ],
 "metadata": {
  "kernelspec": {
   "display_name": "Python 3 (ipykernel)",
   "language": "python",
   "name": "python3"
  },
  "language_info": {
   "codemirror_mode": {
    "name": "ipython",
    "version": 3
   },
   "file_extension": ".py",
   "mimetype": "text/x-python",
   "name": "python",
   "nbconvert_exporter": "python",
   "pygments_lexer": "ipython3",
   "version": "3.10.13"
  }
 },
 "nbformat": 4,
 "nbformat_minor": 5
}
