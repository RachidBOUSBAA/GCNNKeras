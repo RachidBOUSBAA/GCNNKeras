{
 "cells": [
  {
   "cell_type": "markdown",
   "id": "4d2cfa82",
   "metadata": {},
   "source": [
    "# Forces"
   ]
  },
  {
   "cell_type": "markdown",
   "id": "949fbc43",
   "metadata": {},
   "source": [
    "GNNs can predict the potential energy surface of for example molecules or crystal as a function of composition and geometry with for example `Schnet` or `DimeNetPP` . If a GNN is differentiable by using differentiable update and aggregation functions with for example smooth activations like `swish` or `shifted_softplus` , then automatic differentiation within `tensorflow` and `tensorflow.keras` can derive forces as a function of the model's output.\n",
    "\n",
    "$$\\vec{F} = - \\nabla \\, E$$\n",
    "\n",
    "Note that there are also (equivariant) models that directly predict energy and forces, which yields a prerformance benefit but may not guarantee that forces match the gradient of potential energy surface (integrating forces would therfore not provide strict energy conservation).\n",
    "\n",
    "If reference gradients are available from ab-initio quantum calculations (like e.g. DFT), then models can be trained on both energy and force targets by combining their loss $\\mathcal{L}$ with weights $\\alpha$ and $\\beta$.\n",
    "\n",
    "$$\\mathcal{L} = \\alpha \\; \\mathcal{L}(E, \\hat{E}) + \\beta  \\; \\mathcal{L}(\\vec{F}, \\hat{\\vec{F}}) $$\n",
    "\n",
    "For example mean squared error or mean absolute error can be chosen as loss $\\mathcal{L}$ . \n",
    "\n",
    "$$\\mathcal{L} = \\alpha \\; ||E - \\hat{E}||_2 + \\beta  \\; ||\\vec{F} - \\hat{\\vec{F}}||_2 $$"
   ]
  },
  {
   "cell_type": "markdown",
   "id": "1de21055",
   "metadata": {},
   "source": [
    "Within ``kgcnn`` every model that has geometric inputs with e.g xyz-coordinates for each atom and that can predict a graph-level energy value can be used with the wrapper `kgcnn.model.force.EnergyForceModel` .\n",
    "\n",
    "For example a `Schnet` model with parameters suitable for energy prediciton:"
   ]
  },
  {
   "cell_type": "code",
   "execution_count": 1,
   "id": "6f2e467d",
   "metadata": {},
   "outputs": [
    {
     "name": "stderr",
     "output_type": "stream",
     "text": [
      "INFO:kgcnn.models.utils:Updated model kwargs: '{'name': 'SchnetEnergy', 'inputs': [{'shape': [None], 'name': 'z', 'dtype': 'int64'}, {'shape': [None, 3], 'name': 'R', 'dtype': 'float32'}, {'shape': [None, 2], 'name': 'range_indices', 'dtype': 'int64'}, {'shape': (), 'name': 'total_nodes', 'dtype': 'int64'}, {'shape': (), 'name': 'total_ranges', 'dtype': 'int64'}], 'input_tensor_type': 'padded', 'input_embedding': None, 'cast_disjoint_kwargs': {}, 'input_node_embedding': {'input_dim': 95, 'output_dim': 128}, 'make_distance': True, 'expand_distance': True, 'interaction_args': {'units': 128, 'use_bias': True, 'activation': 'kgcnn>shifted_softplus', 'cfconv_pool': 'sum'}, 'node_pooling_args': {'pooling_method': 'sum'}, 'depth': 6, 'gauss_args': {'bins': 25, 'distance': 5, 'offset': 0.0, 'sigma': 0.4}, 'verbose': 10, 'last_mlp': {'use_bias': [True, True, True], 'units': [128, 64, 1], 'activation': ['kgcnn>shifted_softplus', 'kgcnn>shifted_softplus', 'linear']}, 'output_embedding': 'graph', 'output_to_tensor': None, 'use_output_mlp': False, 'output_tensor_type': 'padded', 'output_scaling': None, 'output_mlp': {}}'.\n"
     ]
    }
   ],
   "source": [
    "from kgcnn.literature.Schnet import make_model\n",
    "config= {\n",
    "    \"name\": \"SchnetEnergy\",\n",
    "    \"inputs\": [\n",
    "        {\"shape\": [None], \"name\": \"z\", \"dtype\": \"int64\"},\n",
    "        {\"shape\": [None, 3], \"name\": \"R\", \"dtype\": \"float32\"},\n",
    "        {\"shape\": [None, 2], \"name\": \"range_indices\", \"dtype\": \"int64\"},\n",
    "        {\"shape\": (), \"name\": \"total_nodes\", \"dtype\": \"int64\"},\n",
    "        {\"shape\": (), \"name\": \"total_ranges\", \"dtype\": \"int64\"}\n",
    "    ],\n",
    "    \"input_tensor_type\": \"padded\",\n",
    "    \"input_node_embedding\": {\"input_dim\": 95, \"output_dim\": 128},\n",
    "    \"last_mlp\": {\"use_bias\": [True, True, True], \"units\": [128, 64, 1],\n",
    "                 \"activation\": ['kgcnn>shifted_softplus', 'kgcnn>shifted_softplus', 'linear']},\n",
    "    \"interaction_args\": {\n",
    "        \"units\": 128, \"use_bias\": True, \"activation\": \"kgcnn>shifted_softplus\", \"cfconv_pool\": \"sum\"\n",
    "    },\n",
    "    \"node_pooling_args\": {\"pooling_method\": \"sum\"},\n",
    "    \"depth\": 6,\n",
    "    \"gauss_args\": {\"bins\": 25, \"distance\": 5, \"offset\": 0.0, \"sigma\": 0.4}, \"verbose\": 10,\n",
    "    \"output_embedding\": \"graph\",\n",
    "    \"use_output_mlp\": False,\n",
    "    \"output_mlp\": {}\n",
    "}\n",
    "model_energy = make_model(**config)"
   ]
  },
  {
   "cell_type": "markdown",
   "id": "868c2dc1",
   "metadata": {},
   "source": [
    "Can be inserted into `kgcnn.model.force.EnergyForceModel` ."
   ]
  },
  {
   "cell_type": "code",
   "execution_count": 2,
   "id": "a57c1382",
   "metadata": {},
   "outputs": [],
   "source": [
    "from kgcnn.models.force import EnergyForceModel\n",
    "\n",
    "model_energy_force = EnergyForceModel(\n",
    "    inputs=[\n",
    "        {\"shape\": [None], \"name\": \"z\", \"dtype\": \"int32\"},\n",
    "        {\"shape\": [None, 3], \"name\": \"node_coordinates\", \"dtype\": \"float32\"},\n",
    "        {\"shape\": [None, 2], \"name\": \"range_indices\", \"dtype\": \"int64\"},\n",
    "        {\"shape\": (), \"name\": \"total_nodes\", \"dtype\": \"int64\"},\n",
    "        {\"shape\": (), \"name\": \"total_ranges\", \"dtype\": \"int64\"}\n",
    "    ],\n",
    "    name=\"SchnetForce\",\n",
    "    model_energy = model_energy,\n",
    "    output_to_tensor = False,\n",
    "    output_squeeze_states = True,\n",
    "    outputs={\n",
    "        \"energy\": {\"name\": \"energy\", \"shape\": (1,)},\n",
    "        \"force\": {\"name\": \"force\", \"shape\": (None, 3)}\n",
    "    }\n",
    ")"
   ]
  },
  {
   "cell_type": "markdown",
   "id": "16a69788",
   "metadata": {},
   "source": [
    "## Fit Force Model"
   ]
  },
  {
   "cell_type": "markdown",
   "id": "7b22c3db",
   "metadata": {},
   "source": [
    "A simple but complete training procedure to train the above `EnergyForceModel` on both energy and force labels is shown below.\n",
    "Example data is the `MD17Dataset` with geometries of ethanol including energy and force labels. \n",
    "\n",
    "The dataset can be loaded directly from `kgcnn.data.datasets.MD17Dataset` ."
   ]
  },
  {
   "cell_type": "code",
   "execution_count": 3,
   "id": "f556da65",
   "metadata": {},
   "outputs": [
    {
     "name": "stderr",
     "output_type": "stream",
     "text": [
      "INFO:kgcnn.data.download:Checking and possibly downloading dataset with name MD17\n",
      "INFO:kgcnn.data.download:Dataset directory located at C:\\Users\\patri\\.kgcnn\\datasets\n",
      "INFO:kgcnn.data.download:Dataset directory found. Done.\n",
      "INFO:kgcnn.data.download:Dataset found. Done.\n",
      "INFO:kgcnn.data.download:Directory for extraction exists. Done.\n",
      "INFO:kgcnn.data.download:Not extracting zip file. Stopped.\n"
     ]
    },
    {
     "name": "stdout",
     "output_type": "stream",
     "text": [
      "Dataset (2000): dict_keys(['R', 'E', 'F', 'z', 'name', 'type', 'md5', 'theory', 'train', 'range_indices', 'range_attributes', 'total_nodes', 'total_ranges'])\n"
     ]
    }
   ],
   "source": [
    "from kgcnn.data.datasets.MD17Dataset import MD17Dataset\n",
    "dataset = MD17Dataset(\"ethanol_ccsd_t\")\n",
    "dataset.map_list(method=\"set_range\", node_coordinates=\"R\", max_distance=4.0)\n",
    "dataset.map_list(method= \"count_nodes_and_edges\", total_edges= \"total_ranges\", count_edges= \"range_indices\", \n",
    "                count_nodes= \"z\", total_nodes= \"total_nodes\")\n",
    "# Change units to eV/A from kcal/mol\n",
    "dataset.set(\"E\", [mol[\"E\"]*0.0433634  for mol in dataset])\n",
    "dataset.set(\"F\", [mol[\"F\"]*0.0433634  for mol in dataset])\n",
    "print(\"Dataset (%s):\" % len(dataset), dataset[0].keys())"
   ]
  },
  {
   "cell_type": "markdown",
   "id": "5f19a8e3",
   "metadata": {},
   "source": [
    "This specific dataset has pre-defined train-test indices which can be retrieved from graph properties \"train\" and \"test\" with `get_train_test_indices()` ."
   ]
  },
  {
   "cell_type": "code",
   "execution_count": 4,
   "id": "95324d24",
   "metadata": {},
   "outputs": [],
   "source": [
    "train_index, test_index = dataset.get_train_test_indices(train=\"train\", test=\"test\")[0]  # Split 0\n",
    "dataset_train, dataset_test = dataset[train_index], dataset[test_index]"
   ]
  },
  {
   "cell_type": "markdown",
   "id": "abd3b82c",
   "metadata": {},
   "source": [
    "To provide properly scaled energy and force labels for ML models, one can apply `EnergyForceExtensiveLabelScaler` to remove a energy offset and standardize the energy scale. \n",
    "This class should also work for different molecules in the dataset by removing a fitted extensive energy based on the atom spcies."
   ]
  },
  {
   "cell_type": "code",
   "execution_count": 5,
   "id": "9ea9ef64",
   "metadata": {},
   "outputs": [],
   "source": [
    "from kgcnn.data.transform.scaler.force import EnergyForceExtensiveLabelScaler\n",
    "\n",
    "# Scaling energy and forces.\n",
    "scaler_mapping = {\"atomic_number\": \"z\", \"energy\": \"E\", \"force\": \"F\"}\n",
    "scaler = EnergyForceExtensiveLabelScaler(standardize_scale=False, **scaler_mapping)\n",
    "scaler.fit_dataset(dataset_train);\n",
    "scaler.transform_dataset(dataset_train)\n",
    "scaler.transform_dataset(dataset_test);"
   ]
  },
  {
   "cell_type": "markdown",
   "id": "33f64527",
   "metadata": {},
   "source": [
    "Next step is the conversion of the data in form of numpy arrays to Tensor for keras model input. This can be done with `tensor()` method of the dataset using the keras Input layer config."
   ]
  },
  {
   "cell_type": "code",
   "execution_count": 6,
   "id": "f6a178b8",
   "metadata": {},
   "outputs": [],
   "source": [
    "# Conversion to tensor input\n",
    "labels_in_dataset = {\n",
    "    \"energy\": {\"name\": \"E\", \"shape\": (1,)},\n",
    "    \"force\": {\"name\": \"F\", \"shape\": (None, 3)}\n",
    "}\n",
    "y_train, y_test = dataset_train.tensor(labels_in_dataset), dataset_test.tensor(labels_in_dataset)\n",
    "x_train, x_test = dataset_train.tensor(config[\"inputs\"]), dataset_test.tensor(config[\"inputs\"])"
   ]
  },
  {
   "cell_type": "markdown",
   "id": "7561e1bc",
   "metadata": {},
   "source": [
    "The model is compiled with optimizer and loss for both energy and force and their respective weights with `loss_weights` . "
   ]
  },
  {
   "cell_type": "code",
   "execution_count": 7,
   "id": "d98de2ec",
   "metadata": {},
   "outputs": [],
   "source": [
    "from kgcnn.losses.losses import ForceMeanAbsoluteError\n",
    "from keras.optimizers import Adam\n",
    "\n",
    "model_energy_force.compile(\n",
    "    loss={\"energy\": \"mean_absolute_error\", \"force\": ForceMeanAbsoluteError()},\n",
    "    optimizer=Adam(learning_rate=1e-03),\n",
    "    metrics=None,\n",
    "    loss_weights={\"energy\": 0.02, \"force\": 0.98},\n",
    ")"
   ]
  },
  {
   "cell_type": "markdown",
   "id": "8176db1e",
   "metadata": {},
   "source": [
    "Training with keras `fit()` and using a `LinearWarmupExponentialLRScheduler` . With a reasonable personal GPU this should take less than one hour."
   ]
  },
  {
   "cell_type": "code",
   "execution_count": 8,
   "id": "ec3ae1b5",
   "metadata": {},
   "outputs": [],
   "source": [
    "%%capture\n",
    "from kgcnn.training.scheduler import LinearWarmupExponentialLRScheduler\n",
    "from kgcnn.utils.plots import plot_train_test_loss\n",
    "\n",
    "hist = model_energy_force.fit(\n",
    "    x_train, y_train,\n",
    "    validation_data=(x_test, y_test),\n",
    "    shuffle=True,\n",
    "    batch_size=32,\n",
    "    epochs=1000,\n",
    "    validation_freq=1,\n",
    "    verbose=1,\n",
    "    callbacks=[\n",
    "        LinearWarmupExponentialLRScheduler(lr_start=1e-03, gamma=0.995, epo_warmup=1, steps_per_epoch=32, verbose=1)\n",
    "    ]\n",
    ");"
   ]
  },
  {
   "cell_type": "code",
   "execution_count": 9,
   "id": "5c65200d-ab11-45a6-8da1-fce3f71ca28b",
   "metadata": {},
   "outputs": [
    {
     "data": {
      "image/png": "[encoded data removed]",
      "text/plain": [
       "<Figure size 640x480 with 1 Axes>"
      ]
     },
     "metadata": {},
     "output_type": "display_data"
    }
   ],
   "source": [
    "plot_train_test_loss([hist]);"
   ]
  },
  {
   "cell_type": "markdown",
   "id": "0d202fcc",
   "metadata": {},
   "source": [
    "The model can be loaded and saved with keras API."
   ]
  },
  {
   "cell_type": "code",
   "execution_count": 10,
   "id": "41da557f",
   "metadata": {},
   "outputs": [],
   "source": [
    "# model_energy_force.save(\"model_energy_force\")\n",
    "# model_energy_force = keras.models.load_model('model_energy_force')"
   ]
  },
  {
   "cell_type": "markdown",
   "id": "1ff79efe",
   "metadata": {},
   "source": [
    "For evaluating the predictions, the reference data and the model predictions have to be transformed back to the proper enery and force scale."
   ]
  },
  {
   "cell_type": "code",
   "execution_count": 11,
   "id": "85b8c40d",
   "metadata": {},
   "outputs": [],
   "source": [
    "scaler.inverse_transform_dataset(dataset)\n",
    "true_y = dataset_test.get(\"E\"), dataset_test.get(\"F\")"
   ]
  },
  {
   "cell_type": "code",
   "execution_count": 12,
   "id": "851ec0a3",
   "metadata": {},
   "outputs": [],
   "source": [
    "%%capture\n",
    "import numpy as np\n",
    "from kgcnn.utils.plots import plot_predict_true\n",
    "predicted_y = model_energy_force.predict(x_test, verbose=0)\n",
    "predicted_y = scaler.inverse_transform(\n",
    "    y=(predicted_y[\"energy\"], predicted_y[\"force\"]), X=dataset_test.get(\"z\"))"
   ]
  },
  {
   "cell_type": "markdown",
   "id": "16481ead",
   "metadata": {},
   "source": [
    "Checking the model performance by plotting model predictions of force $\\vec{F}=(F_x, F_y, F_z)$ vs. actual values. Ideally all points of the test data fall on the red origin line. "
   ]
  },
  {
   "cell_type": "code",
   "execution_count": 13,
   "id": "123b82ca",
   "metadata": {},
   "outputs": [
    {
     "data": {
      "image/png": "[encoded data removed]",
      "text/plain": [
       "<Figure size 640x480 with 1 Axes>"
      ]
     },
     "metadata": {},
     "output_type": "display_data"
    }
   ],
   "source": [
    "plot_predict_true(np.concatenate([np.array(f) for f in predicted_y[1]], axis=0),\n",
    "                  np.concatenate([np.array(f) for f in true_y[1]], axis=0),\n",
    "                  filepath=None, data_unit=\"eV/A\",\n",
    "                  model_name=\"SchNet\", dataset_name=\"MD17(ethanol)\", target_names=\"Force\",\n",
    "                  file_name=None);"
   ]
  },
  {
   "cell_type": "markdown",
   "id": "8bc4255e",
   "metadata": {},
   "source": [
    "## Molecular dynamics simulation"
   ]
  },
  {
   "cell_type": "markdown",
   "id": "fd387e66",
   "metadata": {},
   "source": [
    "To test the GNN for replacing force fields to predict a neural-network potential and gradients, a molecular dynamics simulation can be run with ASE interfaces.\n",
    "\n",
    "The [Atomic Simulation Environment (ASE)](https://wiki.fysik.dtu.dk/ase/) is a set of tools and Python modules for setting up, manipulating, running, visualizing and analyzing atomistic simulations.\n",
    "\n",
    "ASE provides interfaces to different codes through Calculators which are used together with the central Atoms object and the many available algorithms in ASE.\n",
    "\n",
    "Below there is a Calculator for ``kgcnn``."
   ]
  },
  {
   "cell_type": "markdown",
   "id": "773c8153",
   "metadata": {},
   "source": [
    "#### Keras model in MolDynamicsModelPredictor\n",
    "\n",
    "In the first instance, the keras model has to be wrapped with the necessary graph pre- ans post processing methods. Also the input and output names of the model has to be matched with the graph data. This is similar to the input layer config and dataset properties."
   ]
  },
  {
   "cell_type": "code",
   "execution_count": 14,
   "id": "682e083f",
   "metadata": {},
   "outputs": [],
   "source": [
    "from kgcnn.molecule.dynamics.base import MolDynamicsModelPredictor\n",
    "from kgcnn.graph.postprocessor import ExtensiveEnergyForceScalerPostprocessor\n",
    "from kgcnn.graph.preprocessor import SetRange, CountNodesAndEdges\n",
    "\n",
    "dyn_model = MolDynamicsModelPredictor(\n",
    "    model=model_energy_force, \n",
    "    model_inputs=config[\"inputs\"], \n",
    "    model_outputs={\"energy\":\"energy\", \"forces\": \"force\"},\n",
    "    graph_preprocessors=[\n",
    "        SetRange(node_coordinates=\"R\", max_distance=4.0),\n",
    "        CountNodesAndEdges(total_edges=\"total_ranges\", count_edges=\"range_indices\", count_nodes=\"z\", total_nodes=\"total_nodes\")\n",
    "    ],\n",
    "    graph_postprocessors=[\n",
    "        ExtensiveEnergyForceScalerPostprocessor(\n",
    "            scaler, force=\"forces\", atomic_number=\"z\")]\n",
    ")"
   ]
  },
  {
   "cell_type": "code",
   "execution_count": 15,
   "id": "d118de18",
   "metadata": {},
   "outputs": [],
   "source": [
    "%%capture\n",
    "dyn_model(dataset[0:32])[0][\"energy\"], dataset[0].get(\"E\")"
   ]
  },
  {
   "cell_type": "markdown",
   "id": "e2aa6203",
   "metadata": {},
   "source": [
    "#### Use ASE compatible KgcnnSingleCalculator\n",
    "\n",
    "For a single keras-model based `MolDynamicsModelPredictor` , a ASE calculator `KgcnnSingleCalculator` can be constructed, which takes a `ase.Atoms` class and calculate the rquired `Calculator` ouput quantities.\n",
    "\n",
    "To match the `ase.Atoms` and graph properties and their names, use the `AtomsToGraphConverter` class."
   ]
  },
  {
   "cell_type": "code",
   "execution_count": 16,
   "id": "a17953fb",
   "metadata": {},
   "outputs": [
    {
     "data": {
      "text/plain": [
       "Atoms(symbols='C2OH6', pbc=False)"
      ]
     },
     "execution_count": 16,
     "metadata": {},
     "output_type": "execute_result"
    }
   ],
   "source": [
    "from ase import Atoms\n",
    "from kgcnn.molecule.dynamics.ase_calc import AtomsToGraphConverter\n",
    "\n",
    "atoms = Atoms(dataset[0][\"z\"], positions=dataset[0][\"R\"])\n",
    "atoms"
   ]
  },
  {
   "cell_type": "code",
   "execution_count": 17,
   "id": "26914421",
   "metadata": {},
   "outputs": [
    {
     "data": {
      "text/plain": [
       "<MemoryGraphList [{'z': array([6, 6, 8, 1, 1, 1, 1, 1, 1]), 'R': array([[ 5.52056788e-03,  5.91490056e-01, -8.13817516e-04],\n",
       "       [-1.25363934e+00, -2.55356778e-01, -2.98005925e-02],\n",
       "       [ 1.08783065e+00, -3.07554661e-01,  4.82298135e-02],\n",
       "       [ 6.28212061e-02,  1.28375273e+00, -8.42788551e-01],\n",
       "       [ 6.05666964e-03,  1.23031210e+00,  8.85346386e-01],\n",
       "       [-2.21822060e+00,  1.89805043e-01, -5.81601230e-02],\n",
       "       [-9.10971712e-01, -1.05392634e+00, -7.81595844e-01],\n",
       "       [-1.19200947e+00, -7.42476834e-01,  9.21966757e-01],\n",
       "       [ 1.84879848e+00, -2.86324036e-02, -5.25690230e-01]])} ...]>"
      ]
     },
     "execution_count": 17,
     "metadata": {},
     "output_type": "execute_result"
    }
   ],
   "source": [
    "conv = AtomsToGraphConverter({\"z\": \"get_atomic_numbers\", \"R\": \"get_positions\"})\n",
    "conv(atoms)"
   ]
  },
  {
   "cell_type": "code",
   "execution_count": 18,
   "id": "bdcb03b7",
   "metadata": {},
   "outputs": [],
   "source": [
    "from kgcnn.molecule.dynamics.ase_calc import KgcnnSingleCalculator\n",
    "\n",
    "calc = KgcnnSingleCalculator(\n",
    "    model_predictor=dyn_model, \n",
    "    atoms_converter=conv\n",
    ")"
   ]
  },
  {
   "cell_type": "markdown",
   "id": "e2486f76",
   "metadata": {},
   "source": [
    "A simple dynamics calculaion with `VelocityVerlet` propagater via ase and the `KgcnnSingleCalculator` ."
   ]
  },
  {
   "cell_type": "code",
   "execution_count": 19,
   "id": "0fd134a9",
   "metadata": {},
   "outputs": [
    {
     "name": "stdout",
     "output_type": "stream",
     "text": [
      "{'energy': array(-4210.1056349), 'forces': array([[-0.41029084,  1.445263  , -0.09325541],\n",
      "       [ 2.5735703 , -1.8340608 , -0.41830564],\n",
      "       [ 1.602669  , -0.08252943, -0.7950784 ],\n",
      "       [ 0.07904099, -0.23876965, -0.19849436],\n",
      "       [ 0.05621693, -0.04351348,  0.08634967],\n",
      "       [-0.46894395,  0.5051009 , -0.827881  ],\n",
      "       [-1.6850219 ,  1.0685279 ,  0.7068002 ],\n",
      "       [-0.21787213, -0.68336594,  0.5771504 ],\n",
      "       [-1.5293683 , -0.13665256,  0.9627145 ]], dtype=float32)}\n"
     ]
    }
   ],
   "source": [
    "from ase.md.velocitydistribution import MaxwellBoltzmannDistribution\n",
    "from ase.md.verlet import VelocityVerlet\n",
    "from ase import units\n",
    "\n",
    "atoms.calc = calc\n",
    "calc.calculate(atoms)\n",
    "print(calc.results)\n",
    "\n",
    "# Set the momenta corresponding to T=300K\n",
    "MaxwellBoltzmannDistribution(atoms, temperature_K=300)\n",
    "\n",
    "# We want to run MD with constant energy using the VelocityVerlet algorithm.\n",
    "dyn = VelocityVerlet(atoms, 1 * units.fs)  # 5 fs time step."
   ]
  },
  {
   "cell_type": "code",
   "execution_count": 20,
   "id": "ade3f668",
   "metadata": {},
   "outputs": [
    {
     "name": "stdout",
     "output_type": "stream",
     "text": [
      "Energy per atom: Epot = -467.790eV  Ekin = 0.047eV (T=364K)  Etot = -467.742eV\n",
      "Energy per atom: Epot = -467.799eV  Ekin = 0.055eV (T=429K)  Etot = -467.743eV\n",
      "Energy per atom: Epot = -467.804eV  Ekin = 0.061eV (T=470K)  Etot = -467.743eV\n",
      "Energy per atom: Epot = -467.809eV  Ekin = 0.066eV (T=511K)  Etot = -467.743eV\n",
      "Energy per atom: Epot = -467.812eV  Ekin = 0.068eV (T=527K)  Etot = -467.744eV\n",
      "Energy per atom: Epot = -467.797eV  Ekin = 0.053eV (T=413K)  Etot = -467.744eV\n",
      "Energy per atom: Epot = -467.797eV  Ekin = 0.054eV (T=416K)  Etot = -467.743eV\n",
      "Energy per atom: Epot = -467.809eV  Ekin = 0.065eV (T=507K)  Etot = -467.743eV\n",
      "Energy per atom: Epot = -467.795eV  Ekin = 0.052eV (T=402K)  Etot = -467.743eV\n",
      "Energy per atom: Epot = -467.786eV  Ekin = 0.043eV (T=335K)  Etot = -467.742eV\n",
      "Energy per atom: Epot = -467.801eV  Ekin = 0.058eV (T=450K)  Etot = -467.743eV\n",
      "Energy per atom: Epot = -467.787eV  Ekin = 0.044eV (T=342K)  Etot = -467.742eV\n",
      "Energy per atom: Epot = -467.798eV  Ekin = 0.056eV (T=432K)  Etot = -467.742eV\n",
      "Energy per atom: Epot = -467.807eV  Ekin = 0.064eV (T=495K)  Etot = -467.743eV\n",
      "Energy per atom: Epot = -467.799eV  Ekin = 0.056eV (T=436K)  Etot = -467.743eV\n",
      "Energy per atom: Epot = -467.801eV  Ekin = 0.058eV (T=446K)  Etot = -467.743eV\n",
      "Energy per atom: Epot = -467.803eV  Ekin = 0.061eV (T=471K)  Etot = -467.742eV\n",
      "Energy per atom: Epot = -467.778eV  Ekin = 0.037eV (T=289K)  Etot = -467.741eV\n",
      "Energy per atom: Epot = -467.791eV  Ekin = 0.050eV (T=387K)  Etot = -467.741eV\n",
      "Energy per atom: Epot = -467.804eV  Ekin = 0.063eV (T=484K)  Etot = -467.742eV\n",
      "Energy per atom: Epot = -467.800eV  Ekin = 0.058eV (T=450K)  Etot = -467.742eV\n"
     ]
    }
   ],
   "source": [
    "def printenergy(a):\n",
    "    \"\"\"Function to print the potential, kinetic and total energy\"\"\"\n",
    "    epot = a.get_potential_energy() / len(a)\n",
    "    ekin = a.get_kinetic_energy() / len(a)\n",
    "    print('Energy per atom: Epot = %.3feV  Ekin = %.3feV (T=%3.0fK)  '\n",
    "          'Etot = %.3feV' % (epot, ekin, ekin / (1.5 * units.kB), epot + ekin))\n",
    "\n",
    "\n",
    "# Now run the dynamics\n",
    "printenergy(atoms)\n",
    "for i in range(20):\n",
    "    dyn.run(10)\n",
    "    printenergy(atoms)"
   ]
  },
  {
   "cell_type": "markdown",
   "id": "1c938026",
   "metadata": {},
   "source": [
    "> **NOTE**: You can find this page as jupyter notebook in https://github.com/aimat-lab/gcnn_keras/tree/master/docs/source"
   ]
  }
 ],
 "metadata": {
  "kernelspec": {
   "display_name": "Python 3 (ipykernel)",
   "language": "python",
   "name": "python3"
  },
  "language_info": {
   "codemirror_mode": {
    "name": "ipython",
    "version": 3
   },
   "file_extension": ".py",
   "mimetype": "text/x-python",
   "name": "python",
   "nbconvert_exporter": "python",
   "pygments_lexer": "ipython3",
   "version": "3.10.5"
  }
 },
 "nbformat": 4,
 "nbformat_minor": 5
}
