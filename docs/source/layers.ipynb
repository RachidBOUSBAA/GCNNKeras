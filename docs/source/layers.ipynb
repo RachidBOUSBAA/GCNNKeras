{
 "cells": [
  {
   "cell_type": "markdown",
   "id": "9c58117f",
   "metadata": {},
   "source": [
    "# Layers"
   ]
  },
  {
   "cell_type": "markdown",
   "id": "ed66e148",
   "metadata": {},
   "source": [
    "The most general layers in `kgcnn` take normal and ragged tensor as input. The graph oriented operations are im\n",
    "\n",
    "\n",
    "1. The most general layers that kept maintained beyond different models with proper documentation are located in `kgcnn.layers`. These are:\n",
    "    * `activ` Activation layers with learnable parameters.\n",
    "    * `aggr` Aggregatoion layers for e.g. aggregating edge messages. \n",
    "    * `attention` Layers for graph attention.\n",
    "    * `casting` Layers for casting tensor formats.\n",
    "    * `conv` Basic convolution layers.\n",
    "    * `gather` Layers around tf.gather.\n",
    "    * `geom` Geometry operations.\n",
    "    * `message` Message passing base layer.\n",
    "    * `mlp` Multi-layer perceptron for graphs.\n",
    "    * `modules` Keras layers and modules to support ragged tensor input.\n",
    "    * `norm` Normalization layers for graph tensors.\n",
    "    * `polynom` Layers for Polynomials.\n",
    "    * `pooling` General layers for standard aggregation and pooling.\n",
    "    * `relational` Relational message processing.\n",
    "    * `scale` Scaling layer to (constantly) rescale e.g. graph output.\n",
    "    * `set2set` Set2Set type architectures for e.g. pooling nodes.\n",
    "    * `update` Some node/edge update layers.\n"
   ]
  },
  {
   "cell_type": "markdown",
   "id": "0a9a59ab",
   "metadata": {},
   "source": [
    "> **NOTE**: Please check https://kgcnn.readthedocs.io/en/latest/kgcnn.layers.html for documentation of each layer."
   ]
  },
  {
   "cell_type": "markdown",
   "id": "35de5004",
   "metadata": {},
   "source": [
    "## Implementaion details"
   ]
  },
  {
   "cell_type": "markdown",
   "id": "212298b7",
   "metadata": {},
   "source": [
    "TODO"
   ]
  },
  {
   "cell_type": "markdown",
   "id": "432360ab",
   "metadata": {},
   "source": [
    "> **NOTE**: You can find this page as jupyter notebook in https://github.com/aimat-lab/gcnn_keras/tree/master/docs/source"
   ]
  }
 ],
 "metadata": {
  "kernelspec": {
   "display_name": "Python 3 (ipykernel)",
   "language": "python",
   "name": "python3"
  },
  "language_info": {
   "codemirror_mode": {
    "name": "ipython",
    "version": 3
   },
   "file_extension": ".py",
   "mimetype": "text/x-python",
   "name": "python",
   "nbconvert_exporter": "python",
   "pygments_lexer": "ipython3",
   "version": "3.10.5"
  }
 },
 "nbformat": 4,
 "nbformat_minor": 5
}
