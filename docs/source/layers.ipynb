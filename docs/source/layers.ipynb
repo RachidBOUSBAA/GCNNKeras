{
 "cells": [
  {
   "cell_type": "markdown",
   "id": "9c58117f",
   "metadata": {},
   "source": [
    "# Layers"
   ]
  },
  {
   "cell_type": "markdown",
   "id": "ed66e148",
   "metadata": {},
   "source": [
    "The most general layers in `kgcnn` take normal and ragged tensor as input. The graph oriented operations are im\n",
    "\n",
    "\n",
    "1. The most general layers that kept maintained beyond different models with proper documentation are located in `kgcnn.layers`. These are:\n",
    "    * `kgcnn.layers.attention` Layers for graph attention.\n",
    "    * `kgcnn.layers.casting` Layers for casting tensor formats.\n",
    "    * `kgcnn.layers.conv` Basic convolution layers.\n",
    "    * `kgcnn.layers.gather` Layers around tf.gather.\n",
    "    * `kgcnn.layers.geom` Geometry operations.\n",
    "    * `kgcnn.layers.message` Message passing base layer.\n",
    "    * `kgcnn.layers.mlp` Multi-layer perceptron for graphs.\n",
    "    * `kgcnn.layers.modules` Keras layers and modules to support ragged tensor input.\n",
    "    * `kgcnn.layers.norm` Normalization layers for graph tensors.\n",
    "    * `kgcnn.layers.pooling` General layers for standard aggregation and pooling.\n",
    "    * `kgcnn.layers.relational` Relational message processing.\n",
    "    * `kgcnn.layers.set2set` Set2Set type architectures for e.g. pooling nodes.\n",
    "    * `kgcnn.layers.update` Some node/edge update layers.\n"
   ]
  },
  {
   "cell_type": "markdown",
   "id": "0a9a59ab",
   "metadata": {},
   "source": [
    "> **NOTE**: Please check https://kgcnn.readthedocs.io/en/latest/kgcnn.layers.html for documentation of each layer."
   ]
  },
  {
   "cell_type": "markdown",
   "id": "35de5004",
   "metadata": {},
   "source": [
    "## Implementaion details"
   ]
  },
  {
   "cell_type": "markdown",
   "id": "212298b7",
   "metadata": {},
   "source": [
    "## Casting"
   ]
  },
  {
   "cell_type": "markdown",
   "id": "432360ab",
   "metadata": {},
   "source": [
    "> **NOTE**: You can find this page as jupyter notebook in https://github.com/aimat-lab/gcnn_keras/tree/master/docs/source"
   ]
  }
 ],
 "metadata": {
  "kernelspec": {
   "display_name": "Python 3 (ipykernel)",
   "language": "python",
   "name": "python3"
  },
  "language_info": {
   "codemirror_mode": {
    "name": "ipython",
    "version": 3
   },
   "file_extension": ".py",
   "mimetype": "text/x-python",
   "name": "python",
   "nbconvert_exporter": "python",
   "pygments_lexer": "ipython3",
   "version": "3.10.13"
  }
 },
 "nbformat": 4,
 "nbformat_minor": 5
}
