{
 "cells": [
  {
   "cell_type": "markdown",
   "id": "d6d6567f",
   "metadata": {},
   "source": [
    "# Molecules"
   ]
  },
  {
   "cell_type": "markdown",
   "id": "0263619d",
   "metadata": {},
   "source": [
    "A molecular or chemical graph is a structural representation of molecule in which atoms are nodes and chemical bonds define the edges of the graph. "
   ]
  },
  {
   "cell_type": "code",
   "execution_count": 1,
   "id": "92d4c820",
   "metadata": {},
   "outputs": [
    {
     "data": {
      "image/png": "[encoded data removed]",
      "text/plain": [
       "<rdkit.Chem.rdchem.Mol at 0x22d30637450>"
      ]
     },
     "execution_count": 1,
     "metadata": {},
     "output_type": "execute_result"
    }
   ],
   "source": [
    "import rdkit.Chem as Chem\n",
    "Chem.MolFromSmiles(\"CN1C=NC2=C1C(=O)N(C(=O)N2C)C\")"
   ]
  },
  {
   "cell_type": "markdown",
   "id": "2422d333",
   "metadata": {},
   "source": [
    "A chemical structure can be depicted in 2D with chemiformatics software such as [`RDKit`](https://www.rdkit.org/) or [`OpenBabel`](https://www.rdkit.org/). Both have similar class definitions of molecules, atoms and bonds classes and provide a large scope of methods to work with molecular structures.\n",
    "\n",
    "In `kgcnn.mol.base` a general interface `MolGraphInterface` is defined that should unify access to the chemical graph used for deep learning models. Both `RDKit` and `OpenBabel` can be used as backend (Note that `OpenBabel` must be installed manually since no complete pypi installation is yet available). "
   ]
  },
  {
   "cell_type": "code",
   "execution_count": 2,
   "id": "086ae657",
   "metadata": {},
   "outputs": [],
   "source": [
    "from kgcnn.molecule.graph_rdkit import MolecularGraphRDKit\n",
    "from kgcnn.molecule.graph_babel import MolecularGraphOpenBabel"
   ]
  },
  {
   "cell_type": "markdown",
   "id": "bc2dc71c",
   "metadata": {},
   "source": [
    "Main operations to generate a molecular graph from e.g. smiles or mol-tables as well as generating and optimizting conformation or compute charges are methods of the interface and can be used with both `RDKit` or `OpenBabel` backend. Specific kwargs for those methods, however, are handed to the specific functions of the backend and therefore require knowledge about the paramters of the backend."
   ]
  },
  {
   "cell_type": "code",
   "execution_count": 3,
   "id": "27eedfc3",
   "metadata": {},
   "outputs": [
    {
     "data": {
      "text/plain": [
       "<kgcnn.molecule.graph_rdkit.MolecularGraphRDKit at 0x22d5062b460>"
      ]
     },
     "execution_count": 3,
     "metadata": {},
     "output_type": "execute_result"
    }
   ],
   "source": [
    "mg = MolecularGraphRDKit(make_directed=False)\n",
    "mg.from_smiles(\"CN1C=NC2=C1C(=O)N(C(=O)N2C)C\")\n",
    "mg.add_hs()\n",
    "mg.make_conformer()\n",
    "mg.optimize_conformer(force_field=\"mmff94\")\n",
    "mg.compute_partial_charges(method=\"gasteiger\")"
   ]
  },
  {
   "cell_type": "markdown",
   "id": "18936a22",
   "metadata": {},
   "source": [
    "Note that the actual Mol-Class not privaate and accessible via `mol` ."
   ]
  },
  {
   "cell_type": "code",
   "execution_count": 4,
   "id": "44b9d370",
   "metadata": {},
   "outputs": [
    {
     "data": {
      "text/plain": [
       "'<rdkit.Chem.rdchem.Mol object at 0x0000022D2F04A2D0>'"
      ]
     },
     "execution_count": 4,
     "metadata": {},
     "output_type": "execute_result"
    }
   ],
   "source": [
    "str(mg.mol)"
   ]
  },
  {
   "cell_type": "markdown",
   "id": "0c6351a3",
   "metadata": {},
   "source": [
    "Most importantly are methods to generate graph properties from the mol-object. In the example below are node and edge types or numbers, for the first 4 atoms or bonds, respectively:"
   ]
  },
  {
   "cell_type": "code",
   "execution_count": 5,
   "id": "8e5648ce",
   "metadata": {},
   "outputs": [
    {
     "data": {
      "text/plain": [
       "(array([[ 0,  1],\n",
       "        [ 0, 14],\n",
       "        [ 0, 15],\n",
       "        [ 0, 16]], dtype=int64),\n",
       " ['C', 'N', 'C', 'N'],\n",
       " array([[ 3.26735076,  0.61278444, -0.2364124 ],\n",
       "        [ 2.1264268 , -0.26661905, -0.26747634],\n",
       "        [ 2.15131889, -1.61634095, -0.50052716],\n",
       "        [ 0.94130742, -2.13852225, -0.46338622]]),\n",
       " [1, 1, 1, 1])"
      ]
     },
     "execution_count": 5,
     "metadata": {},
     "output_type": "execute_result"
    }
   ],
   "source": [
    "mg.edge_indices[:4], mg.node_symbol[:4], mg.node_coordinates[:4], mg.edge_number[1][:4]  # Indices and bond order"
   ]
  },
  {
   "cell_type": "markdown",
   "id": "da051053",
   "metadata": {},
   "source": [
    "For attributed graphs a feature vector for atoms, bonds and the total graph has been found to improve GNNs. The functions of the interface `node_attributes` , `edge_attributes` and `graph_attributes` and take a list of strings (predifined) or functions for each attributes. Here are the list of attributes for `RDKit` by name:"
   ]
  },
  {
   "cell_type": "code",
   "execution_count": 6,
   "id": "6ea31450",
   "metadata": {},
   "outputs": [
    {
     "data": {
      "text/plain": [
       "dict_keys(['NumBonds', 'AtomicNum', 'AtomMapNum', 'Idx', 'Degree', 'TotalDegree', 'Symbol', 'NumExplicitHs', 'NumImplicitHs', 'TotalNumHs', 'IsAromatic', 'Isotope', 'TotalValence', 'Mass', 'MassScaled', 'IsInRing', 'Hybridization', 'NoImplicit', 'ChiralTag', 'FormalCharge', 'ExplicitValence', 'ImplicitValence', 'NumRadicalElectrons', 'HasOwningMol', 'PDBResidueInfo', 'MonomerInfo', 'Smarts', 'CIPCode', 'CIPRank', 'ChiralityPossible', 'MolFileRLabel', 'GasteigerCharge', 'GasteigerHCharge', 'AtomFeatures', 'DescribeQuery', 'Rvdw', 'RvdwScaled', 'Rcovalent', 'RcovalentScaled'])"
      ]
     },
     "execution_count": 6,
     "metadata": {},
     "output_type": "execute_result"
    }
   ],
   "source": [
    "MolecularGraphRDKit.atom_fun_dict.keys()"
   ]
  },
  {
   "cell_type": "code",
   "execution_count": 7,
   "id": "32b3ae80",
   "metadata": {},
   "outputs": [
    {
     "data": {
      "text/plain": [
       "dict_keys(['BondType', 'IsAromatic', 'IsConjugated', 'IsInRing', 'Stereo', 'Idx', 'BeginAtom', 'BeginAtomIdx', 'BondDir', 'BondTypeAsDouble', 'EndAtom', 'EndAtomIdx', 'Smarts', 'DescribeQuery'])"
      ]
     },
     "execution_count": 7,
     "metadata": {},
     "output_type": "execute_result"
    }
   ],
   "source": [
    "MolecularGraphRDKit.bond_fun_dict.keys()"
   ]
  },
  {
   "cell_type": "code",
   "execution_count": 8,
   "id": "400a2f8c",
   "metadata": {},
   "outputs": [
    {
     "data": {
      "text/plain": [
       "dict_keys(['C', 'N', 'O', 'H', 'S', 'F', 'Cl', 'NumAtoms', 'AtomsIsInRing', 'AtomsIsAromatic', 'NumBonds', 'BondsIsConjugated', 'BondsIsAromatic', 'NumRotatableBonds', 'ExactMolWt', 'FpDensityMorgan3', 'FractionCSP3', 'MolLogP', 'MolMR', 'fr_Al_COO', 'fr_Ar_COO', 'fr_Al_OH', 'fr_Ar_OH', 'fr_C_O_noCOO', 'fr_NH2', 'fr_SH', 'fr_sulfide', 'fr_alkyl_halide'])"
      ]
     },
     "execution_count": 8,
     "metadata": {},
     "output_type": "execute_result"
    }
   ],
   "source": [
    "MolecularGraphRDKit.mol_fun_dict.keys()"
   ]
  },
  {
   "cell_type": "markdown",
   "id": "3052c1ea",
   "metadata": {},
   "source": [
    "Then node attributes for the molecular graph can be generated from a list of attribute names."
   ]
  },
  {
   "cell_type": "code",
   "execution_count": 9,
   "id": "5f1571e5",
   "metadata": {},
   "outputs": [
    {
     "data": {
      "text/plain": [
       "[[4, 12.011, 'C', False, '0.012958350519987684'],\n",
       " [3, 14.007, 'N', True, '-0.32786346609948208'],\n",
       " [3, 12.011, 'C', True, '0.097502273308341464'],\n",
       " [2, 14.007, 'N', True, '-0.21837692759548705']]"
      ]
     },
     "execution_count": 9,
     "metadata": {},
     "output_type": "execute_result"
    }
   ],
   "source": [
    "mg.node_attributes([\"NumBonds\", \"Mass\", \"Symbol\", \"IsInRing\", \"GasteigerCharge\"], encoder={})[:4]"
   ]
  },
  {
   "cell_type": "markdown",
   "id": "31817d9a",
   "metadata": {},
   "source": [
    "In order to have all features of a number data type an encoder can be added for each named feature:"
   ]
  },
  {
   "cell_type": "code",
   "execution_count": 10,
   "id": "7ba059df",
   "metadata": {},
   "outputs": [
    {
     "data": {
      "text/plain": [
       "[[4, 12.011, 1, 0, 0, 0, 0, False, 0.012958350519987684],\n",
       " [3, 14.007, 0, 0, 1, 0, 0, True, -0.3278634660994821],\n",
       " [3, 12.011, 1, 0, 0, 0, 0, True, 0.09750227330834146],\n",
       " [2, 14.007, 0, 0, 1, 0, 0, True, -0.21837692759548705]]"
      ]
     },
     "execution_count": 10,
     "metadata": {},
     "output_type": "execute_result"
    }
   ],
   "source": [
    "from kgcnn.molecule.encoder import OneHotEncoder\n",
    "mg.node_attributes([\"NumBonds\", \"Mass\", \"Symbol\", \"IsInRing\", \"GasteigerCharge\"], \n",
    "                   encoder={\"Symbol\": OneHotEncoder([\"C\", \"O\", \"N\", \"H\"], dtype=\"str\"), \"GasteigerCharge\": float})[:4]"
   ]
  },
  {
   "cell_type": "markdown",
   "id": "bbe8a9d4",
   "metadata": {},
   "source": [
    "If a feature is not in the list of named attributes, a function can be inserted in place. Note that the function should always return a single value or a list of values. Argument will be the bond, molecule or atom class of the backend, respectively."
   ]
  },
  {
   "cell_type": "code",
   "execution_count": 11,
   "id": "9da6076c",
   "metadata": {},
   "outputs": [
    {
     "data": {
      "text/plain": [
       "[[6], [7], [6], [7]]"
      ]
     },
     "execution_count": 11,
     "metadata": {},
     "output_type": "execute_result"
    }
   ],
   "source": [
    "def mol_feature(atom):\n",
    "    # Note that you can also get the mol object with e.g.\n",
    "    # mol = atom.GetOwningMol()\n",
    "    return atom.GetAtomicNum()\n",
    "\n",
    "mg.node_attributes([mol_feature], encoder={})[:4]"
   ]
  },
  {
   "cell_type": "markdown",
   "id": "c3b67397",
   "metadata": {},
   "source": [
    "The dataset `MoleculeNetDataset` uses the `MolGraphInterface` in `map_molecule_callbacks` , which specifies the used interface within `mol_interface_class` ."
   ]
  },
  {
   "cell_type": "markdown",
   "id": "27369250-f8a0-4f7e-9604-3affae60fe9e",
   "metadata": {},
   "source": [
    "### Training example\n",
    "\n",
    "Example with ESOLDataset."
   ]
  },
  {
   "cell_type": "code",
   "execution_count": 12,
   "id": "be422b65-c94d-41d5-ac04-0c063651b05f",
   "metadata": {},
   "outputs": [
    {
     "name": "stderr",
     "output_type": "stream",
     "text": [
      "INFO:kgcnn.data.download:Checking and possibly downloading dataset with name ESOL\n",
      "INFO:kgcnn.data.download:Dataset directory located at C:\\Users\\patri\\.kgcnn\\datasets\n",
      "INFO:kgcnn.data.download:Dataset directory found. Done.\n",
      "INFO:kgcnn.data.download:Dataset found. Done.\n",
      "INFO:kgcnn.data.ESOL:Found SDF C:\\Users\\patri\\.kgcnn\\datasets\\ESOL\\delaney-processed.sdf of pre-computed structures.\n",
      "INFO:kgcnn.data.ESOL:Read molecules from mol-file.\n",
      "INFO:kgcnn.data.ESOL: ... process molecules 0 from 1128\n",
      "INFO:kgcnn.molecule.encoder:OneHotEncoder Symbol found ['O', 'C', 'N', 'S', 'Cl', 'P', 'F', 'I', 'Br']\n",
      "INFO:kgcnn.molecule.encoder:OneHotEncoder Hybridization found [rdkit.Chem.rdchem.HybridizationType.SP3, rdkit.Chem.rdchem.HybridizationType.SP, rdkit.Chem.rdchem.HybridizationType.SP2]\n",
      "INFO:kgcnn.molecule.encoder:OneHotEncoder TotalDegree found [2, 4, 1, 3]\n",
      "INFO:kgcnn.molecule.encoder:OneHotEncoder TotalNumHs found [1, 2, 0, 3, 4]\n",
      "INFO:kgcnn.molecule.encoder:OneHotEncoder CIPCode found [None, 'S', 'R']\n",
      "INFO:kgcnn.molecule.encoder:OneHotEncoder ChiralityPossible found [None, '1']\n",
      "INFO:kgcnn.molecule.encoder:OneHotEncoder BondType found [rdkit.Chem.rdchem.BondType.SINGLE, rdkit.Chem.rdchem.BondType.TRIPLE, rdkit.Chem.rdchem.BondType.AROMATIC, rdkit.Chem.rdchem.BondType.DOUBLE]\n",
      "INFO:kgcnn.molecule.encoder:OneHotEncoder Stereo found [rdkit.Chem.rdchem.BondStereo.STEREONONE, rdkit.Chem.rdchem.BondStereo.STEREOE, rdkit.Chem.rdchem.BondStereo.STEREOZ]\n"
     ]
    }
   ],
   "source": [
    "%%capture\n",
    "from kgcnn.data.datasets.ESOLDataset import ESOLDataset\n",
    "data = ESOLDataset()"
   ]
  },
  {
   "cell_type": "markdown",
   "id": "0eecd520-4839-4bf3-b654-4cd1abc6e7be",
   "metadata": {},
   "source": [
    "The above descriptors can be passed to Molecule datasets via the `read_in_memory` or `set_attributes method`."
   ]
  },
  {
   "cell_type": "code",
   "execution_count": 13,
   "id": "a1a578fc-4af3-4f0b-b1a5-d6746f44a5a9",
   "metadata": {},
   "outputs": [
    {
     "name": "stderr",
     "output_type": "stream",
     "text": [
      "INFO:kgcnn.data.ESOL:Read molecules from mol-file.\n",
      "INFO:kgcnn.data.ESOL: ... process molecules 0 from 1128\n",
      "INFO:kgcnn.molecule.encoder:OneHotEncoder Symbol found ['O', 'C', 'N', 'S', 'Cl', 'P', 'F', 'I', 'Br']\n",
      "INFO:kgcnn.molecule.encoder:OneHotEncoder Hybridization found [rdkit.Chem.rdchem.HybridizationType.SP3, rdkit.Chem.rdchem.HybridizationType.SP, rdkit.Chem.rdchem.HybridizationType.SP2]\n",
      "INFO:kgcnn.molecule.encoder:OneHotEncoder TotalDegree found [2, 4, 1, 3]\n",
      "INFO:kgcnn.molecule.encoder:OneHotEncoder TotalNumHs found [1, 2, 0, 3, 4]\n",
      "INFO:kgcnn.molecule.encoder:OneHotEncoder CIPCode found [None, 'S', 'R']\n",
      "INFO:kgcnn.molecule.encoder:OneHotEncoder ChiralityPossible found [None, '1']\n",
      "INFO:kgcnn.molecule.encoder:OneHotEncoder BondType found [rdkit.Chem.rdchem.BondType.SINGLE, rdkit.Chem.rdchem.BondType.TRIPLE, rdkit.Chem.rdchem.BondType.AROMATIC, rdkit.Chem.rdchem.BondType.DOUBLE]\n",
      "INFO:kgcnn.molecule.encoder:OneHotEncoder Stereo found [rdkit.Chem.rdchem.BondStereo.STEREONONE, rdkit.Chem.rdchem.BondStereo.STEREOE, rdkit.Chem.rdchem.BondStereo.STEREOZ]\n"
     ]
    }
   ],
   "source": [
    "%%capture\n",
    "from kgcnn.molecule.encoder import OneHotEncoder\n",
    "data.read_in_memory(\n",
    "    nodes = [\n",
    "        'Symbol', 'TotalDegree', 'FormalCharge', 'NumRadicalElectrons', 'Hybridization',\n",
    "        'IsAromatic', 'IsInRing', 'TotalNumHs', 'CIPCode', \"ChiralityPossible\", \"ChiralTag\"\n",
    "    ],\n",
    "    encoder_nodes = {\n",
    "        'Symbol': OneHotEncoder(\n",
    "            ['B', 'C', 'N', 'O', 'F', 'Si', 'P', 'S', 'Cl', 'As', 'Se', 'Br', 'Te', 'I', 'At'],\n",
    "            dtype=\"str\"\n",
    "        ),\n",
    "        'Hybridization': OneHotEncoder([2, 3, 4, 5, 6]),\n",
    "        'TotalDegree': OneHotEncoder([0, 1, 2, 3, 4, 5], add_unknown=False),\n",
    "        'TotalNumHs': OneHotEncoder([0, 1, 2, 3, 4], add_unknown=False),\n",
    "        'CIPCode': OneHotEncoder(['R', 'S'], add_unknown=False, dtype='str'),\n",
    "        \"ChiralityPossible\": OneHotEncoder([\"1\"], add_unknown=False, dtype='str'),\n",
    "    },\n",
    "    edges = ['BondType', 'IsAromatic', 'IsConjugated', 'IsInRing', 'Stereo'],\n",
    "    encoder_edges = {\n",
    "        'BondType': OneHotEncoder([1, 2, 3, 12], add_unknown=False),\n",
    "        'Stereo': OneHotEncoder([0, 1, 2, 3], add_unknown=False)\n",
    "    },\n",
    "    graph=['ExactMolWt', 'NumAtoms'],\n",
    "    encoder_graph = {},\n",
    "    add_hydrogen=False,\n",
    "    make_directed=False,\n",
    "    has_conformers=True,\n",
    "    sanitize=True,\n",
    "    compute_partial_charges=None,\n",
    "    label_column_name=\"measured log solubility in mols per litre\"\n",
    ")"
   ]
  },
  {
   "cell_type": "markdown",
   "id": "78e5b78b-07a1-44ac-91d4-002471301421",
   "metadata": {},
   "source": [
    "Additional attributes and tensor properties can be generated with graph preprocessors. \n",
    "Note that there is also a graph preprocessor in `kgcnn.molecule.preprocessor` apart from `MoleculeNetDataset` ."
   ]
  },
  {
   "cell_type": "code",
   "execution_count": 14,
   "id": "f843c838-6735-46c2-a392-eb26713370ba",
   "metadata": {},
   "outputs": [],
   "source": [
    "from kgcnn.graph.preprocessor import SetRange, SetEdgeIndicesReverse\n",
    "data.map_list(SetRange(max_distance=5.0, in_place=True));\n",
    "data.map_list(SetEdgeIndicesReverse(in_place=True));\n",
    "data.map_list(method=\"count_nodes_and_edges\");"
   ]
  },
  {
   "cell_type": "code",
   "execution_count": 15,
   "id": "74c78957-4227-4011-a254-640f2ec54f65",
   "metadata": {},
   "outputs": [
    {
     "data": {
      "text/plain": [
       "dict_keys(['node_symbol', 'node_number', 'edge_indices', 'edge_number', 'graph_size', 'node_coordinates', 'graph_labels', 'node_attributes', 'edge_attributes', 'graph_attributes', 'range_indices', 'range_attributes', 'edge_indices_reverse', 'total_nodes', 'total_edges'])"
      ]
     },
     "execution_count": 15,
     "metadata": {},
     "output_type": "execute_result"
    }
   ],
   "source": [
    "data[0].keys()"
   ]
  },
  {
   "cell_type": "code",
   "execution_count": 16,
   "id": "7c179749-ae23-45d5-b217-b0f96f04efe9",
   "metadata": {},
   "outputs": [
    {
     "name": "stderr",
     "output_type": "stream",
     "text": [
      "INFO:kgcnn.data.ESOL:Property 'edge_indices' is an empty list for graph '934'.\n",
      "WARNING:kgcnn.data.ESOL:Found invalid graphs for properties. Removing graphs '[934]'.\n"
     ]
    },
    {
     "data": {
      "text/plain": [
       "array([934])"
      ]
     },
     "execution_count": 16,
     "metadata": {},
     "output_type": "execute_result"
    }
   ],
   "source": [
    "data.clean(\"edge_indices\")"
   ]
  },
  {
   "cell_type": "markdown",
   "id": "89219e52-86c4-459b-a874-22d5af72d893",
   "metadata": {},
   "source": [
    "Prepare graph labels"
   ]
  },
  {
   "cell_type": "code",
   "execution_count": 17,
   "id": "4162fe35-e6c2-4e11-8ac5-b6507000701a",
   "metadata": {},
   "outputs": [],
   "source": [
    "import numpy as np\n",
    "labels = np.array(data.obtain_property(\"graph_labels\"))\n",
    "if len(labels.shape) <= 1:\n",
    "    labels = np.expand_dims(labels, axis=-1)"
   ]
  },
  {
   "cell_type": "markdown",
   "id": "783e45c7-2f22-44db-92cb-54766703e387",
   "metadata": {},
   "source": [
    "Train test indices with e.g. KFold."
   ]
  },
  {
   "cell_type": "code",
   "execution_count": 18,
   "id": "829e743a-73d2-4a7a-9a7f-deed5518f980",
   "metadata": {},
   "outputs": [],
   "source": [
    "from sklearn.model_selection import KFold\n",
    "kf = KFold(n_splits=5, random_state=42, shuffle=True)\n",
    "train_test_indices = [\n",
    "    [train_index, test_index] for train_index, test_index in kf.split(X=np.zeros((len(data), 1)), y=labels)]"
   ]
  },
  {
   "cell_type": "code",
   "execution_count": 19,
   "id": "3281d779-fda9-46e4-82cf-2fc96b7b2251",
   "metadata": {},
   "outputs": [],
   "source": [
    "model_config= {\n",
    "    \"class_name\": \"make_model\",\n",
    "    \"module_name\": \"kgcnn.literature.GIN\",\n",
    "    \"config\": {\n",
    "        \"name\": \"GIN\",\n",
    "        \"inputs\": [\n",
    "            {\"shape\": [None, 41], \"name\": \"node_attributes\", \"dtype\": \"float32\"},\n",
    "            {\"shape\": [None, 2], \"name\": \"edge_indices\", \"dtype\": \"int64\"},\n",
    "            {\"shape\": (), \"name\": \"total_nodes\", \"dtype\": \"int64\"},\n",
    "            {\"shape\": (), \"name\": \"total_edges\", \"dtype\": \"int64\"}\n",
    "        ],\n",
    "        \"verbose\": 50,\n",
    "        \"cast_disjoint_kwargs\": {\"padded_disjoint\": False},\n",
    "        \"input_node_embedding\": {\"input_dim\": 96, \"output_dim\": 64},\n",
    "        \"depth\": 5,\n",
    "        \"dropout\": 0.05,\n",
    "        \"gin_mlp\": {\"units\": [64, 64], \"use_bias\": True, \"activation\": [\"relu\", \"linear\"],\n",
    "                    \"use_normalization\": True, \"normalization_technique\": \"graph_batch\",\n",
    "                    \"padded_disjoint\": False},\n",
    "        \"gin_args\": {},\n",
    "        \"last_mlp\": {\"use_bias\": True, \"units\": [64, 32, 1], \"activation\": [\"relu\", \"relu\", \"linear\"]},\n",
    "        \"output_embedding\": \"graph\",\n",
    "        \"output_mlp\": {\"activation\": \"linear\", \"units\": 1}\n",
    "    }\n",
    "}"
   ]
  },
  {
   "cell_type": "code",
   "execution_count": 20,
   "id": "c8945ebf-5eb4-48e5-97c5-db7157f19f96",
   "metadata": {},
   "outputs": [],
   "source": [
    "%%capture\n",
    "import time\n",
    "from kgcnn.models.utils import get_model_class\n",
    "from keras.optimizers import Adam\n",
    "from kgcnn.training.scheduler import LinearLearningRateScheduler\n",
    "from kgcnn.literature.GIN import make_model\n",
    "from kgcnn.data.transform.scaler.molecule import QMGraphLabelScaler\n",
    "from kgcnn.data.transform.scaler.standard import StandardLabelScaler\n",
    "from kgcnn.metrics.metrics import ScaledMeanAbsoluteError, ScaledRootMeanSquaredError\n",
    "from datetime import timedelta\n",
    "\n",
    "history_list, test_indices_list = [], []\n",
    "model, hist, x_test, y_test, scaler, atoms_test = None, None, None, None, None, None\n",
    "splits_done = 0\n",
    "for i, (train_index, test_index) in enumerate(train_test_indices):\n",
    "    print(\"Running training on fold: %s\" % i)\n",
    "\n",
    "    # Make the model for current split using model kwargs from hyperparameter.\n",
    "    # They are always updated on top of the models default kwargs.\n",
    "    model = make_model(**model_config[\"config\"])\n",
    "\n",
    "    # First select training and test graphs from indices, then convert them into tensorflow tensor\n",
    "    # representation. Which property of the dataset and whether the tensor will be ragged is retrieved from the\n",
    "    # kwargs of the keras `Input` layers ('name' and 'ragged').\n",
    "    dataset_train, dataset_test = data[train_index], data[test_index]\n",
    "    x_train, y_train = dataset_train.tensor(model_config[\"config\"][\"inputs\"]), labels[train_index]\n",
    "    x_test, y_test = dataset_test.tensor(model_config[\"config\"][\"inputs\"]), labels[test_index]\n",
    "    \n",
    "    atoms_test = dataset_test.get(\"node_number\")\n",
    "    atoms_train = dataset_train.get(\"node_number\")\n",
    "    \n",
    "    scaler = StandardLabelScaler(with_std=True,with_mean=True, copy=True)\n",
    "    scaler.fit(y_train, atomic_number=atoms_train)\n",
    "    y_train = scaler.transform(y_train, atomic_number=atoms_train)\n",
    "    y_test = scaler.transform(y_test, atomic_number=atoms_test)\n",
    "\n",
    "    # If scaler was used we add rescaled standard metrics to compile.\n",
    "    scaler_scale = scaler.get_scaling()\n",
    "    mae_metric = ScaledMeanAbsoluteError(scaler_scale.shape, name=\"scaled_mean_absolute_error\")\n",
    "    rms_metric = ScaledRootMeanSquaredError(scaler_scale.shape, name=\"scaled_root_mean_squared_error\")\n",
    "    if scaler.scale_ is not None:\n",
    "        mae_metric.set_scale(scaler_scale)\n",
    "        rms_metric.set_scale(scaler_scale)\n",
    "    metrics = [mae_metric, rms_metric]\n",
    "\n",
    "    # Compile model with optimizer and loss\n",
    "    model.compile(loss=\"mean_absolute_error\", metrics=metrics, optimizer=Adam(learning_rate=5e-04))\n",
    "\n",
    "    # Build model with reasonable data.\n",
    "    model.predict(x_test, batch_size=2, steps=2)\n",
    "    model._compile_metrics.build(y_test, y_test)\n",
    "    model._compile_loss.build(y_test, y_test)\n",
    "\n",
    "    # Model summary\n",
    "    model.summary()\n",
    "    print(\" Compiled with jit: %s\" % model._jit_compile)  # noqa\n",
    "    print(\" Model is built: %s, with unbuilt: %s\" % (\n",
    "        all([layer.built for layer in model._flatten_layers()]),  # noqa\n",
    "        [layer.name for layer in model._flatten_layers() if not layer.built]\n",
    "    ))\n",
    "\n",
    "    # Start and time training\n",
    "    start = time.process_time()\n",
    "    hist = model.fit(x_train, y_train,\n",
    "                     validation_data=(x_test, y_test),\n",
    "                     batch_size=32, \n",
    "                     epochs=300, \n",
    "                     validation_freq=10, \n",
    "                     # Change to verbose = 2 to see progress\n",
    "                     verbose=0,\n",
    "                     callbacks= [\n",
    "                         LinearLearningRateScheduler(\n",
    "                             learning_rate_start=0.001, learning_rate_stop=1e-05, epo_min=100, epo=300)\n",
    "                     ])\n",
    "    stop = time.process_time()\n",
    "    print(\"Print Time for training: \", str(timedelta(seconds=stop - start)))\n",
    "\n",
    "    # Get loss from history\n",
    "    history_list.append(hist)\n",
    "    test_indices_list.append([train_index, test_index])\n",
    "    splits_done = splits_done + 1"
   ]
  },
  {
   "cell_type": "code",
   "execution_count": 21,
   "id": "1d196735-bacf-44bf-8f64-3aaabc95ff56",
   "metadata": {},
   "outputs": [
    {
     "data": {
      "image/png": "[encoded data removed]",
      "text/plain": [
       "<Figure size 640x480 with 1 Axes>"
      ]
     },
     "metadata": {},
     "output_type": "display_data"
    }
   ],
   "source": [
    "from kgcnn.utils.plots import plot_train_test_loss, plot_predict_true\n",
    "\n",
    "plot_train_test_loss(history_list, loss_name=None, val_loss_name=None,\n",
    "                     model_name=\"GIN\", data_unit=\"mol/L\", dataset_name=\"esol\",\n",
    "                     filepath=\"\", file_name=f\"loss.png\");"
   ]
  },
  {
   "cell_type": "code",
   "execution_count": 22,
   "id": "d07fdaf1-7e82-4ae3-a039-90b4972b9664",
   "metadata": {},
   "outputs": [
    {
     "name": "stdout",
     "output_type": "stream",
     "text": [
      "\u001b[1m8/8\u001b[0m \u001b[32m━━━━━━━━━━━━━━━━━━━━\u001b[0m\u001b[37m\u001b[0m \u001b[1m0s\u001b[0m 27ms/step\n"
     ]
    },
    {
     "data": {
      "image/png": "[encoded data removed]",
      "text/plain": [
       "<Figure size 640x480 with 1 Axes>"
      ]
     },
     "metadata": {},
     "output_type": "display_data"
    }
   ],
   "source": [
    "# Plot prediction for the last split.\n",
    "predicted_y = model.predict(x_test)\n",
    "true_y = y_test\n",
    "\n",
    "# Predictions must be rescaled to original values.\n",
    "predicted_y = scaler.inverse_transform(predicted_y)\n",
    "true_y = scaler.inverse_transform(true_y)\n",
    "\n",
    "# Plotting the prediction vs. true test targets for last split. Note for classification this is also done but\n",
    "# can be ignored.\n",
    "plot_predict_true(predicted_y, true_y,\n",
    "                  filepath=\"\", data_unit=\"mol/L\",\n",
    "                  model_name=\"GIN\", dataset_name=\"ESOL\",\n",
    "                  file_name=f\"predict.png\");"
   ]
  },
  {
   "cell_type": "markdown",
   "id": "c90f4ffd",
   "metadata": {},
   "source": [
    "> **NOTE**: You can find this page as jupyter notebook in https://github.com/aimat-lab/gcnn_keras/tree/master/docs/source"
   ]
  }
 ],
 "metadata": {
  "kernelspec": {
   "display_name": "Python 3 (ipykernel)",
   "language": "python",
   "name": "python3"
  },
  "language_info": {
   "codemirror_mode": {
    "name": "ipython",
    "version": 3
   },
   "file_extension": ".py",
   "mimetype": "text/x-python",
   "name": "python",
   "nbconvert_exporter": "python",
   "pygments_lexer": "ipython3",
   "version": "3.10.5"
  }
 },
 "nbformat": 4,
 "nbformat_minor": 5
}
