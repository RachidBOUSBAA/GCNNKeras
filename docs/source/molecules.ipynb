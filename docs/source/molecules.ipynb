{
 "cells": [
  {
   "cell_type": "markdown",
   "id": "d6d6567f",
   "metadata": {},
   "source": [
    "# Molecules"
   ]
  },
  {
   "cell_type": "markdown",
   "id": "0263619d",
   "metadata": {},
   "source": [
    "A molecular or chemical graph is a structural representation of molecule in which atoms are nodes and chemical bonds define the edges of the graph. "
   ]
  },
  {
   "cell_type": "code",
   "execution_count": 1,
   "id": "92d4c820",
   "metadata": {},
   "outputs": [
    {
     "data": {
      "image/png": "[encoded data removed]",
      "text/plain": [
       "<rdkit.Chem.rdchem.Mol at 0x1bbbb4bf5a0>"
      ]
     },
     "execution_count": 1,
     "metadata": {},
     "output_type": "execute_result"
    }
   ],
   "source": [
    "import rdkit.Chem as Chem\n",
    "Chem.MolFromSmiles(\"CN1C=NC2=C1C(=O)N(C(=O)N2C)C\")"
   ]
  },
  {
   "cell_type": "markdown",
   "id": "2422d333",
   "metadata": {},
   "source": [
    "A chemical structure can be depicted in 2D with chemiformatics software such as [`RDKit`](https://www.rdkit.org/) or [`OpenBabel`](https://www.rdkit.org/). Both have similar class definitions of molecules, atoms and bonds classes and provide a large scope of methods to work with molecular structures.\n",
    "\n",
    "In `kgcnn.mol.base` a general interface `MolGraphInterface` is defined that should unify access to the chemical graph used for deep learning models. Both `RDKit` and `OpenBabel` can be used as backend (Note that `OpenBabel` must be installed manually since no complete pypi installation is yet available). "
   ]
  },
  {
   "cell_type": "code",
   "execution_count": 2,
   "id": "086ae657",
   "metadata": {},
   "outputs": [],
   "source": [
    "from kgcnn.molecule.graph_rdkit import MolecularGraphRDKit\n",
    "from kgcnn.molecule.graph_babel import MolecularGraphOpenBabel"
   ]
  },
  {
   "cell_type": "markdown",
   "id": "bc2dc71c",
   "metadata": {},
   "source": [
    "Main operations to generate a molecular graph from e.g. smiles or mol-tables as well as generating and optimizting conformation or compute charges are methods of the interface and can be used with both `RDKit` or `OpenBabel` backend. Specific kwargs for those methods, however, are handed to the specific functions of the backend and therefore require knowledge about the paramters of the backend."
   ]
  },
  {
   "cell_type": "code",
   "execution_count": 3,
   "id": "27eedfc3",
   "metadata": {},
   "outputs": [
    {
     "data": {
      "text/plain": [
       "<kgcnn.molecule.graph_rdkit.MolecularGraphRDKit at 0x1bbd3559e10>"
      ]
     },
     "execution_count": 3,
     "metadata": {},
     "output_type": "execute_result"
    }
   ],
   "source": [
    "mg = MolecularGraphRDKit(make_directed=False)\n",
    "mg.from_smiles(\"CN1C=NC2=C1C(=O)N(C(=O)N2C)C\")\n",
    "mg.add_hs()\n",
    "mg.make_conformer()\n",
    "mg.optimize_conformer(force_field=\"mmff94\")\n",
    "mg.compute_partial_charges(method=\"gasteiger\")"
   ]
  },
  {
   "cell_type": "markdown",
   "id": "18936a22",
   "metadata": {},
   "source": [
    "Note that the actual Mol-Class not privaate and accessible via `mol` ."
   ]
  },
  {
   "cell_type": "code",
   "execution_count": 4,
   "id": "44b9d370",
   "metadata": {},
   "outputs": [
    {
     "data": {
      "text/plain": [
       "'<rdkit.Chem.rdchem.Mol object at 0x000001BBB9EDB4C0>'"
      ]
     },
     "execution_count": 4,
     "metadata": {},
     "output_type": "execute_result"
    }
   ],
   "source": [
    "str(mg.mol)"
   ]
  },
  {
   "cell_type": "markdown",
   "id": "0c6351a3",
   "metadata": {},
   "source": [
    "Most importantly are methods to generate graph properties from the mol-object. In the example below are node and edge types or numbers, for the first 4 atoms or bonds, respectively:"
   ]
  },
  {
   "cell_type": "code",
   "execution_count": 5,
   "id": "8e5648ce",
   "metadata": {},
   "outputs": [
    {
     "data": {
      "text/plain": [
       "(array([[ 0,  1],\n",
       "        [ 0, 14],\n",
       "        [ 0, 15],\n",
       "        [ 0, 16]], dtype=int64),\n",
       " ['C', 'N', 'C', 'N'],\n",
       " array([[ 3.26735076,  0.61278444, -0.2364124 ],\n",
       "        [ 2.1264268 , -0.26661905, -0.26747634],\n",
       "        [ 2.15131889, -1.61634095, -0.50052716],\n",
       "        [ 0.94130742, -2.13852225, -0.46338622]]),\n",
       " [1, 1, 1, 1])"
      ]
     },
     "execution_count": 5,
     "metadata": {},
     "output_type": "execute_result"
    }
   ],
   "source": [
    "mg.edge_indices[:4], mg.node_symbol[:4], mg.node_coordinates[:4], mg.edge_number[1][:4]  # Indices and bond order"
   ]
  },
  {
   "cell_type": "markdown",
   "id": "da051053",
   "metadata": {},
   "source": [
    "For attributed graphs a feature vector for atoms, bonds and the total graph has been found to improve GNNs. The functions of the interface `node_attributes` , `edge_attributes` and `graph_attributes` and take a list of strings (predifined) or functions for each attributes. Here are the list of attributes for `RDKit` by name:"
   ]
  },
  {
   "cell_type": "code",
   "execution_count": 6,
   "id": "6ea31450",
   "metadata": {},
   "outputs": [
    {
     "data": {
      "text/plain": [
       "dict_keys(['NumBonds', 'AtomicNum', 'AtomMapNum', 'Idx', 'Degree', 'TotalDegree', 'Symbol', 'NumExplicitHs', 'NumImplicitHs', 'TotalNumHs', 'IsAromatic', 'Isotope', 'TotalValence', 'Mass', 'MassScaled', 'IsInRing', 'Hybridization', 'NoImplicit', 'ChiralTag', 'FormalCharge', 'ExplicitValence', 'ImplicitValence', 'NumRadicalElectrons', 'HasOwningMol', 'PDBResidueInfo', 'MonomerInfo', 'Smarts', 'CIPCode', 'CIPRank', 'ChiralityPossible', 'MolFileRLabel', 'GasteigerCharge', 'GasteigerHCharge', 'AtomFeatures', 'DescribeQuery', 'Rvdw', 'RvdwScaled', 'Rcovalent', 'RcovalentScaled'])"
      ]
     },
     "execution_count": 6,
     "metadata": {},
     "output_type": "execute_result"
    }
   ],
   "source": [
    "MolecularGraphRDKit.atom_fun_dict.keys()"
   ]
  },
  {
   "cell_type": "code",
   "execution_count": 7,
   "id": "32b3ae80",
   "metadata": {},
   "outputs": [
    {
     "data": {
      "text/plain": [
       "dict_keys(['BondType', 'IsAromatic', 'IsConjugated', 'IsInRing', 'Stereo', 'Idx', 'BeginAtom', 'BeginAtomIdx', 'BondDir', 'BondTypeAsDouble', 'EndAtom', 'EndAtomIdx', 'Smarts', 'DescribeQuery'])"
      ]
     },
     "execution_count": 7,
     "metadata": {},
     "output_type": "execute_result"
    }
   ],
   "source": [
    "MolecularGraphRDKit.bond_fun_dict.keys()"
   ]
  },
  {
   "cell_type": "code",
   "execution_count": 8,
   "id": "400a2f8c",
   "metadata": {},
   "outputs": [
    {
     "data": {
      "text/plain": [
       "dict_keys(['C', 'N', 'O', 'H', 'S', 'F', 'Cl', 'NumAtoms', 'AtomsIsInRing', 'AtomsIsAromatic', 'NumBonds', 'BondsIsConjugated', 'BondsIsAromatic', 'NumRotatableBonds', 'ExactMolWt', 'FpDensityMorgan3', 'FractionCSP3', 'MolLogP', 'MolMR', 'fr_Al_COO', 'fr_Ar_COO', 'fr_Al_OH', 'fr_Ar_OH', 'fr_C_O_noCOO', 'fr_NH2', 'fr_SH', 'fr_sulfide', 'fr_alkyl_halide'])"
      ]
     },
     "execution_count": 8,
     "metadata": {},
     "output_type": "execute_result"
    }
   ],
   "source": [
    "MolecularGraphRDKit.mol_fun_dict.keys()"
   ]
  },
  {
   "cell_type": "markdown",
   "id": "3052c1ea",
   "metadata": {},
   "source": [
    "Then node attributes for the molecular graph can be generated from a list of attribute names."
   ]
  },
  {
   "cell_type": "code",
   "execution_count": 9,
   "id": "5f1571e5",
   "metadata": {},
   "outputs": [
    {
     "data": {
      "text/plain": [
       "[[4, 12.011, 'C', False, '0.012958350519987684'],\n",
       " [3, 14.007, 'N', True, '-0.32786346609948208'],\n",
       " [3, 12.011, 'C', True, '0.097502273308341464'],\n",
       " [2, 14.007, 'N', True, '-0.21837692759548705']]"
      ]
     },
     "execution_count": 9,
     "metadata": {},
     "output_type": "execute_result"
    }
   ],
   "source": [
    "mg.node_attributes([\"NumBonds\", \"Mass\", \"Symbol\", \"IsInRing\", \"GasteigerCharge\"], encoder={})[:4]"
   ]
  },
  {
   "cell_type": "markdown",
   "id": "31817d9a",
   "metadata": {},
   "source": [
    "In order to have all features of a number data type an encoder can be added for each named feature:"
   ]
  },
  {
   "cell_type": "code",
   "execution_count": 10,
   "id": "7ba059df",
   "metadata": {},
   "outputs": [
    {
     "data": {
      "text/plain": [
       "[[4, 12.011, 1, 0, 0, 0, 0, False, 0.012958350519987684],\n",
       " [3, 14.007, 0, 0, 1, 0, 0, True, -0.3278634660994821],\n",
       " [3, 12.011, 1, 0, 0, 0, 0, True, 0.09750227330834146],\n",
       " [2, 14.007, 0, 0, 1, 0, 0, True, -0.21837692759548705]]"
      ]
     },
     "execution_count": 10,
     "metadata": {},
     "output_type": "execute_result"
    }
   ],
   "source": [
    "from kgcnn.molecule.encoder import OneHotEncoder\n",
    "mg.node_attributes([\"NumBonds\", \"Mass\", \"Symbol\", \"IsInRing\", \"GasteigerCharge\"], \n",
    "                   encoder={\"Symbol\": OneHotEncoder([\"C\", \"O\", \"N\", \"H\"], dtype=\"str\"), \"GasteigerCharge\": float})[:4]"
   ]
  },
  {
   "cell_type": "markdown",
   "id": "bbe8a9d4",
   "metadata": {},
   "source": [
    "If a feature is not in the list of named attributes, a function can be inserted in place. Note that the function should always return a single value or a list of values. Argument will be the bond, molecule or atom class of the backend, respectively."
   ]
  },
  {
   "cell_type": "code",
   "execution_count": 11,
   "id": "9da6076c",
   "metadata": {},
   "outputs": [
    {
     "data": {
      "text/plain": [
       "[[6], [7], [6], [7]]"
      ]
     },
     "execution_count": 11,
     "metadata": {},
     "output_type": "execute_result"
    }
   ],
   "source": [
    "def mol_feature(atom):\n",
    "    # Note that you can also get the mol object with e.g.\n",
    "    # mol = atom.GetOwningMol()\n",
    "    return atom.GetAtomicNum()\n",
    "\n",
    "mg.node_attributes([mol_feature], encoder={})[:4]"
   ]
  },
  {
   "cell_type": "markdown",
   "id": "c3b67397",
   "metadata": {},
   "source": [
    "The dataset `MoleculeNetDataset` uses the `MolGraphInterface` in `map_molecule_callbacks` , which specifies the used interface within `mol_interface_class` ."
   ]
  },
  {
   "cell_type": "markdown",
   "id": "c90f4ffd",
   "metadata": {},
   "source": [
    "> **NOTE**: You can find this page as jupyter notebook in https://github.com/aimat-lab/gcnn_keras/tree/master/docs/source"
   ]
  }
 ],
 "metadata": {
  "kernelspec": {
   "display_name": "Python 3 (ipykernel)",
   "language": "python",
   "name": "python3"
  },
  "language_info": {
   "codemirror_mode": {
    "name": "ipython",
    "version": 3
   },
   "file_extension": ".py",
   "mimetype": "text/x-python",
   "name": "python",
   "nbconvert_exporter": "python",
   "pygments_lexer": "ipython3",
   "version": "3.10.13"
  }
 },
 "nbformat": 4,
 "nbformat_minor": 5
}
