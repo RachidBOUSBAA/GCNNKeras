{
 "cells": [
  {
   "cell_type": "markdown",
   "id": "85f131d4",
   "metadata": {},
   "source": [
    "# In preparation ..."
   ]
  },
  {
   "cell_type": "markdown",
   "id": "4d3134c5",
   "metadata": {},
   "source": [
    "just for downloading the some data in place of your data."
   ]
  },
  {
   "cell_type": "code",
   "execution_count": 1,
   "id": "491bda82",
   "metadata": {},
   "outputs": [],
   "source": [
    "%%capture\n",
    "from kgcnn.data.datasets.QM7Dataset import QM7Dataset\n",
    "QM7Dataset()"
   ]
  },
  {
   "cell_type": "markdown",
   "id": "3c4aa717",
   "metadata": {},
   "source": [
    "move the data from \"~/.kgcnn.datasets.qm7\" to your local \"qm7\" folder. The QM7 data is just some example data for this notebook."
   ]
  },
  {
   "cell_type": "code",
   "execution_count": 2,
   "id": "fcad446d",
   "metadata": {},
   "outputs": [],
   "source": [
    "from kgcnn.data.qm import QMDataset"
   ]
  },
  {
   "cell_type": "code",
   "execution_count": 3,
   "id": "245e1140",
   "metadata": {},
   "outputs": [],
   "source": [
    "data = QMDataset(\n",
    "    data_directory=\"qm7/\",\n",
    "    dataset_name=\"qm7\",\n",
    "    file_name=\"qm7.csv\",\n",
    "    file_name_xyz=\"qm7.xyz\"\n",
    ")"
   ]
  },
  {
   "cell_type": "code",
   "execution_count": 4,
   "id": "d55c2455",
   "metadata": {},
   "outputs": [],
   "source": [
    "data.prepare_data(\n",
    "    overwrite=True,\n",
    "    file_column_name=None,\n",
    "    make_sdf=True\n",
    ");"
   ]
  },
  {
   "cell_type": "code",
   "execution_count": 5,
   "id": "45787e49",
   "metadata": {},
   "outputs": [],
   "source": [
    "%%capture\n",
    "from kgcnn.molecule.encoder import OneHotEncoder\n",
    "data.read_in_memory(\n",
    "    nodes = [\n",
    "        'Symbol', 'TotalDegree', 'FormalCharge', 'NumRadicalElectrons', 'Hybridization',\n",
    "        'IsAromatic', 'IsInRing', 'TotalNumHs', 'CIPCode', \"ChiralityPossible\", \"ChiralTag\"\n",
    "    ],\n",
    "    encoder_nodes = {\n",
    "        'Symbol': OneHotEncoder(\n",
    "            ['B', 'C', 'N', 'O', 'F', 'Si', 'P', 'S', 'Cl', 'As', 'Se', 'Br', 'Te', 'I', 'At'],\n",
    "            dtype=\"str\"\n",
    "        ),\n",
    "        'Hybridization': OneHotEncoder([2, 3, 4, 5, 6]),\n",
    "        'TotalDegree': OneHotEncoder([0, 1, 2, 3, 4, 5], add_unknown=False),\n",
    "        'TotalNumHs': OneHotEncoder([0, 1, 2, 3, 4], add_unknown=False),\n",
    "        'CIPCode': OneHotEncoder(['R', 'S'], add_unknown=False, dtype='str'),\n",
    "        \"ChiralityPossible\": OneHotEncoder([\"1\"], add_unknown=False, dtype='str'),\n",
    "    },\n",
    "    edges = ['BondType', 'IsAromatic', 'IsConjugated', 'IsInRing', 'Stereo'],\n",
    "    encoder_edges = {\n",
    "        'BondType': OneHotEncoder([1, 2, 3, 12], add_unknown=False),\n",
    "        'Stereo': OneHotEncoder([0, 1, 2, 3], add_unknown=False)\n",
    "    },\n",
    "    graph = None,# ['ExactMolWt', 'NumAtoms'],\n",
    "    encoder_graph = {},\n",
    "    \n",
    "    add_hydrogen=True,\n",
    "    make_directed=False,\n",
    "    sanitize=False,\n",
    "    compute_partial_charges=None,\n",
    ")"
   ]
  },
  {
   "cell_type": "code",
   "execution_count": 6,
   "id": "8dad449e",
   "metadata": {},
   "outputs": [
    {
     "name": "stdout",
     "output_type": "stream",
     "text": [
      "{'node_symbol': array(['C', 'H', 'H', 'H', 'H'], dtype='<U1'), 'node_number': array([6, 1, 1, 1, 1]), 'node_coordinates': array([[ 0.9983, -0.0025, -0.0044],\n",
      "       [ 2.0902, -0.0024,  0.0041],\n",
      "       [ 0.6338,  1.0269,  0.0041],\n",
      "       [ 0.627 , -0.5277,  0.8781],\n",
      "       [ 0.6414, -0.5075, -0.9054]]), 'edge_indices': array([[0, 1],\n",
      "       [0, 2],\n",
      "       [0, 3],\n",
      "       [0, 4],\n",
      "       [1, 0],\n",
      "       [2, 0],\n",
      "       [3, 0],\n",
      "       [4, 0]], dtype=int64), 'edge_number': array([1, 1, 1, 1, 1, 1, 1, 1]), 'node_attributes': array([[0., 1., 0., 0., 0., 0., 0., 0., 0., 0., 0., 0., 0., 0., 0., 0.,\n",
      "        0., 0., 0., 0., 1., 0., 0., 0., 0., 0., 0., 0., 0., 1., 0., 0.,\n",
      "        1., 0., 0., 0., 0., 0., 0., 0., 2.],\n",
      "       [0., 0., 0., 0., 0., 0., 0., 0., 0., 0., 0., 0., 0., 0., 0., 1.,\n",
      "        0., 1., 0., 0., 0., 0., 0., 0., 0., 0., 0., 0., 0., 1., 0., 0.,\n",
      "        1., 0., 0., 0., 0., 0., 0., 0., 0.],\n",
      "       [0., 0., 0., 0., 0., 0., 0., 0., 0., 0., 0., 0., 0., 0., 0., 1.,\n",
      "        0., 1., 0., 0., 0., 0., 0., 0., 0., 0., 0., 0., 0., 1., 0., 0.,\n",
      "        1., 0., 0., 0., 0., 0., 0., 0., 0.],\n",
      "       [0., 0., 0., 0., 0., 0., 0., 0., 0., 0., 0., 0., 0., 0., 0., 1.,\n",
      "        0., 1., 0., 0., 0., 0., 0., 0., 0., 0., 0., 0., 0., 1., 0., 0.,\n",
      "        1., 0., 0., 0., 0., 0., 0., 0., 0.],\n",
      "       [0., 0., 0., 0., 0., 0., 0., 0., 0., 0., 0., 0., 0., 0., 0., 1.,\n",
      "        0., 1., 0., 0., 0., 0., 0., 0., 0., 0., 0., 0., 0., 1., 0., 0.,\n",
      "        1., 0., 0., 0., 0., 0., 0., 0., 0.]], dtype=float32), 'edge_attributes': array([[1., 0., 0., 0., 0., 0., 0., 1., 0., 0., 0.],\n",
      "       [1., 0., 0., 0., 0., 0., 0., 1., 0., 0., 0.],\n",
      "       [1., 0., 0., 0., 0., 0., 0., 1., 0., 0., 0.],\n",
      "       [1., 0., 0., 0., 0., 0., 0., 1., 0., 0., 0.],\n",
      "       [1., 0., 0., 0., 0., 0., 0., 1., 0., 0., 0.],\n",
      "       [1., 0., 0., 0., 0., 0., 0., 1., 0., 0., 0.],\n",
      "       [1., 0., 0., 0., 0., 0., 0., 1., 0., 0., 0.],\n",
      "       [1., 0., 0., 0., 0., 0., 0., 1., 0., 0., 0.]], dtype=float32)}\n"
     ]
    }
   ],
   "source": [
    "print(data[0])"
   ]
  },
  {
   "cell_type": "code",
   "execution_count": null,
   "id": "62905899",
   "metadata": {},
   "outputs": [],
   "source": []
  }
 ],
 "metadata": {
  "kernelspec": {
   "display_name": "Python 3 (ipykernel)",
   "language": "python",
   "name": "python3"
  },
  "language_info": {
   "codemirror_mode": {
    "name": "ipython",
    "version": 3
   },
   "file_extension": ".py",
   "mimetype": "text/x-python",
   "name": "python",
   "nbconvert_exporter": "python",
   "pygments_lexer": "ipython3",
   "version": "3.10.10"
  }
 },
 "nbformat": 4,
 "nbformat_minor": 5
}
