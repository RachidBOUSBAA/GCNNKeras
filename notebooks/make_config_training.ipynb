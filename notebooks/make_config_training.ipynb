{
 "cells": [
  {
   "cell_type": "markdown",
   "metadata": {},
   "source": [
    "# Config File Structure"
   ]
  },
  {
   "cell_type": "code",
   "execution_count": 1,
   "metadata": {},
   "outputs": [],
   "source": [
    "import tensorflow as tf\n",
    "import json"
   ]
  },
  {
   "cell_type": "markdown",
   "metadata": {},
   "source": [
    "The hyper-parameter dictionary used for model tuning, fitting and data structue has the following form:\n",
    "```python3\n",
    "hyper = {\n",
    "    \"info\":{ \n",
    "        # General information for training run\n",
    "        \"kgcnn_version\": \"1.1.0\", # Version \n",
    "        \"postfix\": \"\" # postfix for output folder\n",
    "    },\n",
    "    \"model\": { \n",
    "        # Model specific parameter, see kgcnn.literature\n",
    "    },\n",
    "    \"data\": { \n",
    "        # Dataset specific parameter\n",
    "    },\n",
    "    \"training\": {\n",
    "        \"fit\": { \n",
    "            # keras fit arguments serialized\n",
    "        },\n",
    "        \"compile\": { \n",
    "            # Keras compile arguments serialized\n",
    "        },\n",
    "        \"Kfold\": {\n",
    "            # kwargs unpacked in scikit-learn Kfold class.  \n",
    "        }\n",
    "    }\n",
    "}\n",
    "```\n",
    "The following sections explain each block.\n"
   ]
  },
  {
   "cell_type": "code",
   "execution_count": 2,
   "metadata": {},
   "outputs": [],
   "source": [
    "hyper = {}"
   ]
  },
  {
   "cell_type": "markdown",
   "metadata": {},
   "source": [
    "## Model"
   ]
  },
  {
   "cell_type": "markdown",
   "metadata": {},
   "source": [
    "The model parameters can be reviewed from the default values in ``kgcnn.literature``. Mostly model input and output has to be matched depending on the data representation. That is type of input and its shape. An input-type checker will be added in the future to adapt the model input automatically, but as for now the input shape has to be chosen properly. In ``inputs`` a list of kwargs must be given, which are each unpacked in the corresponding ``tf.keras.layers.Input``. The order matters and is model dependent.\n",
    "\n",
    "Moreover, naming of the model input is used to link the tensor properties of the dataset with the model input. "
   ]
  },
  {
   "cell_type": "code",
   "execution_count": 3,
   "metadata": {},
   "outputs": [],
   "source": [
    "hyper.update({\n",
    "    \"model\":{\n",
    "        \"inputs\": [\n",
    "            {\"shape\": [None, 100], \"name\": \"node_attributes\", \"dtype\": \"float32\", \"ragged\": True},\n",
    "            {\"shape\": [None, 2], \"name\": \"edge_indices\", \"dtype\": \"int64\", \"ragged\": True}],\n",
    "        # More model specific kwargs, like:\n",
    "        # \"depth\": 5,\n",
    "        \"output_mlp\": {\"use_bias\": [True, True, False], \"units\": [140, 70, 70],\n",
    "                       \"activation\": [\"relu\", \"relu\", \"softmax\"]}}\n",
    "})"
   ]
  },
  {
   "cell_type": "markdown",
   "metadata": {},
   "source": [
    "Here, the training script will provide ``dataset.edge_indices`` of shape `(batch, None, 2)` and ``dataset.node_attributes`` of shape `(batch, None, 100)`. Note that the shape must match the actual shape in dataset.\n",
    "\n",
    "For output, most models simply have a MLP at the output and the activation as well as the final output dimension can be chosen by setting the kwargs ``output_mlp`` (unpacked in MLP) for last layer in ``units`` and ``activation``. The number in units must macht the labels or classes of the target. This is moslty ``dataset.graph_labels``, but depends on dataset and classification task, either graph or node classification."
   ]
  },
  {
   "cell_type": "markdown",
   "metadata": {},
   "source": [
    "## Data"
   ]
  },
  {
   "cell_type": "markdown",
   "metadata": {},
   "source": [
    "The kwargs for the dataset are not fully identical and vary a little depending on the datset. However, the most common are listed below.\n",
    "\n",
    "Importantly, if the kwargs for example ``set_range`` appears in the data kwargs, this will mean that ``dataset.set_range(**kwargs)`` will be executed before training."
   ]
  },
  {
   "cell_type": "code",
   "execution_count": 4,
   "metadata": {},
   "outputs": [],
   "source": [
    "hyper.update({\n",
    "    \"data\":{\n",
    "        \"dataset\": {},  # Used for constructor, leave out for pre-defined datasets\n",
    "        \"prepare_data\": {},  # Used for cache and pre-compute data, leave out for pre-defined datasets\n",
    "        \"read_in_memory\": {},  # Used for reading into memory, leave out for pre-defined datasets\n",
    "        \"set_attributes\": {},  # If set, modify attributes for dataset.\n",
    "        \"set_edge_indices_reverse\": {},  # If set, compute edge pair map indices like (0,1) to (1,0)\n",
    "        \"set_range\": {},  # If set, define range edges based on geoemtric distance and store at dataset.range_indices\n",
    "        \"set_angle\": {},  # If set, define anlge indices based on dataset.range_indices and store at dataset.angle_indices\n",
    "    }\n",
    "})"
   ]
  },
  {
   "cell_type": "markdown",
   "metadata": {},
   "source": [
    "## Training"
   ]
  },
  {
   "cell_type": "markdown",
   "metadata": {},
   "source": [
    "The kwargs for training simply sets arguments for ``model.compile(**kwargs)`` and ``model.fit(**kwargs)`` that matches keras arguments as well as for the k-fold split from scikit-learn. For now the kwargs are expected to be fully serialized as shown below."
   ]
  },
  {
   "cell_type": "code",
   "execution_count": 5,
   "metadata": {},
   "outputs": [],
   "source": [
    "hyper.update({\n",
    "    \"training\":{\n",
    "        \"KFold\": {\"n_splits\": 10, \"random_state\": None, \n",
    "                  \"shuffle\": True}, # Info on K-fold split used as sklearn.model_selection.KFold(**kwargs)\n",
    "        \"execute_folds\": 10,  # For some training script running all folds would be too expensive for testing.\n",
    "        \n",
    "        # Keras model compile and fit\n",
    "        \"fit\": {\n",
    "            \"batch_size\": 32, \"epochs\": 800, \"verose\": 2, \n",
    "            \"callbacks\": []  # Note: tf.keras.callbacks can not be serialized at the moment\n",
    "        },\n",
    "        \"compile\": {\n",
    "            \"loss\": \"categorical_crossentropy\",\n",
    "            \"optimizer\": tf.keras.optimizers.Adam(learning_rate=0.001).get_config()\n",
    "        }\n",
    "    }\n",
    "})"
   ]
  },
  {
   "cell_type": "markdown",
   "metadata": {},
   "source": [
    "## Info"
   ]
  },
  {
   "cell_type": "markdown",
   "metadata": {},
   "source": [
    "Some general information on the training, such the used kgcnn version or a postfix for the output files."
   ]
  },
  {
   "cell_type": "code",
   "execution_count": 6,
   "metadata": {},
   "outputs": [],
   "source": [
    "hyper.update({\n",
    "    \"info\":{ # Generla information\n",
    "        \"postfix\": \"_v1\", # Appends _v1 to output folder\n",
    "        \"postfix_file\": \"_run2\", # Appends _run2 to log files\n",
    "        \"kgcnn_version\": \"1.1.0\"    \n",
    "    }\n",
    "})"
   ]
  },
  {
   "cell_type": "markdown",
   "metadata": {},
   "source": [
    "# Summary"
   ]
  },
  {
   "cell_type": "markdown",
   "metadata": {},
   "source": [
    "Final hyper dictionary which can be fed to training script:"
   ]
  },
  {
   "cell_type": "code",
   "execution_count": 7,
   "metadata": {},
   "outputs": [
    {
     "data": {
      "text/plain": [
       "{'model': {'inputs': [{'shape': [None, 100],\n",
       "    'name': 'node_attributes',\n",
       "    'dtype': 'float32',\n",
       "    'ragged': True},\n",
       "   {'shape': [None, 2],\n",
       "    'name': 'edge_indices',\n",
       "    'dtype': 'int64',\n",
       "    'ragged': True}],\n",
       "  'output_mlp': {'use_bias': [True, True, False],\n",
       "   'units': [140, 70, 70],\n",
       "   'activation': ['relu', 'relu', 'softmax']}},\n",
       " 'data': {'dataset': {},\n",
       "  'prepare_data': {},\n",
       "  'read_in_memory': {},\n",
       "  'set_attributes': {},\n",
       "  'set_edge_indices_reverse': {},\n",
       "  'set_range': {},\n",
       "  'set_angle': {}},\n",
       " 'training': {'KFold': {'n_splits': 10, 'random_state': None, 'shuffle': True},\n",
       "  'execute_folds': 10,\n",
       "  'fit': {'batch_size': 32, 'epochs': 800, 'verose': 2, 'callbacks': []},\n",
       "  'compile': {'loss': 'categorical_crossentropy',\n",
       "   'optimizer': {'name': 'Adam',\n",
       "    'learning_rate': 0.001,\n",
       "    'decay': 0.0,\n",
       "    'beta_1': 0.9,\n",
       "    'beta_2': 0.999,\n",
       "    'epsilon': 1e-07,\n",
       "    'amsgrad': False}}},\n",
       " 'info': {'postfix': '_v1', 'postfix_file': '_run2', 'kgcnn_version': '1.1.0'}}"
      ]
     },
     "execution_count": 7,
     "metadata": {},
     "output_type": "execute_result"
    }
   ],
   "source": [
    "hyper"
   ]
  },
  {
   "cell_type": "code",
   "execution_count": null,
   "metadata": {},
   "outputs": [],
   "source": []
  }
 ],
 "metadata": {
  "kernelspec": {
   "display_name": "Python 3",
   "language": "python",
   "name": "python3"
  },
  "language_info": {
   "codemirror_mode": {
    "name": "ipython",
    "version": 3
   },
   "file_extension": ".py",
   "mimetype": "text/x-python",
   "name": "python",
   "nbconvert_exporter": "python",
   "pygments_lexer": "ipython3",
   "version": "3.7.6"
  }
 },
 "nbformat": 4,
 "nbformat_minor": 4
}
