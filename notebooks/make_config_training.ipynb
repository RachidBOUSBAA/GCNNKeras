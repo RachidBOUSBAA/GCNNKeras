{
 "cells": [
  {
   "cell_type": "markdown",
   "metadata": {},
   "source": [
    "# Config File Structure"
   ]
  },
  {
   "cell_type": "code",
   "execution_count": 1,
   "metadata": {},
   "outputs": [],
   "source": [
    "import tensorflow as tf\n",
    "import json"
   ]
  },
  {
   "cell_type": "markdown",
   "metadata": {},
   "source": [
    "The hyper-parameter dictionary used for model tuning, fitting and data structue has the following form:\n",
    "```python3\n",
    "hyper = {\n",
    "    \"info\":{ \n",
    "        # General information for training run\n",
    "        \"kgcnn_version\": \"1.1.0\", # Version \n",
    "        \"postfix\": \"\" # postfix for output folder\n",
    "    },\n",
    "    \"model\": { \n",
    "        # Model specific parameter, see kgcnn.literature\n",
    "    },\n",
    "    \"data\": { \n",
    "        # Dataset specific parameter\n",
    "    },\n",
    "    \"training\": {\n",
    "        \"fit\": { \n",
    "            # keras fit arguments serialized\n",
    "        },\n",
    "        \"compile\": { \n",
    "            # Keras compile arguments serialized\n",
    "        },\n",
    "        \"Kfold\": {\n",
    "            # kwargs unpacked in scikit-learn Kfold class.  \n",
    "        }\n",
    "    }\n",
    "}\n",
    "```\n",
    "The following sections explain each block.\n"
   ]
  },
  {
   "cell_type": "markdown",
   "metadata": {},
   "source": [
    "## Model"
   ]
  },
  {
   "cell_type": "markdown",
   "metadata": {},
   "source": [
    "The model parameters can be reviewed from the default values in ``kgcnn.literature``. Mostly model input and output has to be matched depending on the data representation. That is type of input and its shape. An input-type checker will be added in the future to adapt the model input automatically, but as for now the input shape has to be chosen properly. In ``inputs`` a list of kwargs must be given, which are each unpacked in the corresponding ``tf.keras.layers.Input``. The order is model dependent.\n",
    "\n",
    "Moreover, by naming of the model input is used to link the tensor properties of the dataset with the model input. "
   ]
  },
  {
   "cell_type": "code",
   "execution_count": 2,
   "metadata": {},
   "outputs": [],
   "source": [
    "model_kwargs = {\n",
    "    \"inputs\": [\n",
    "        {\"shape\": [None, 100], \"name\": \"node_attributes\", \"dtype\": \"float32\", \"ragged\": True},\n",
    "        {\"shape\": [None, 2], \"name\": \"edge_indices\", \"dtype\": \"int64\", \"ragged\": True}],\n",
    "    # More model specific kwargs, like:\n",
    "    # \"depth\": 5,\n",
    "    \"output_mlp\": {\"use_bias\": [True, True, False], \"units\": [140, 70, 70],\n",
    "                   \"activation\": [\"relu\", \"relu\", \"softmax\"]},\n",
    "}"
   ]
  },
  {
   "cell_type": "markdown",
   "metadata": {},
   "source": [
    "Here, the training script will provide ``dataset.edge_indices`` of shape `(batch, None, 2)` and ``dataset.node_attributes`` of shape `(batch, None, 100)`. Note that the shape must match the actual shape in dataset.\n",
    "\n",
    "For output, most models simply have a MLP at the output and the activation as well as the final output dimension can be chosen by setting the kwargs ``output_mlp`` (unpacked in MLP) for last layer in ``units`` and ``activation``. The number in units must macht the labels or classes of the target. This is moslty ``dataset.graph_labels``, but depends on dataset and classification task, either graph or node classification."
   ]
  },
  {
   "cell_type": "markdown",
   "metadata": {},
   "source": [
    "## Data"
   ]
  },
  {
   "cell_type": "code",
   "execution_count": null,
   "metadata": {},
   "outputs": [],
   "source": []
  }
 ],
 "metadata": {
  "kernelspec": {
   "display_name": "Python 3",
   "language": "python",
   "name": "python3"
  },
  "language_info": {
   "codemirror_mode": {
    "name": "ipython",
    "version": 3
   },
   "file_extension": ".py",
   "mimetype": "text/x-python",
   "name": "python",
   "nbconvert_exporter": "python",
   "pygments_lexer": "ipython3",
   "version": "3.7.6"
  }
 },
 "nbformat": 4,
 "nbformat_minor": 4
}
