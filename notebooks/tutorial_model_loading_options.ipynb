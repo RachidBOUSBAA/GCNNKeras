{
 "cells": [
  {
   "cell_type": "markdown",
   "id": "0cf3f480",
   "metadata": {},
   "source": [
    "# Graph loading\n",
    "\n",
    "Different methods of loading (batched) graph tensors for keras model in- and output."
   ]
  },
  {
   "cell_type": "code",
   "execution_count": 1,
   "id": "3cf55e2e",
   "metadata": {},
   "outputs": [
    {
     "name": "stdout",
     "output_type": "stream",
     "text": [
      "Using TensorFlow backend\n"
     ]
    }
   ],
   "source": [
    "import numpy as np\n",
    "from kgcnn.literature.GIN import make_model"
   ]
  },
  {
   "cell_type": "code",
   "execution_count": 4,
   "id": "04b57bf7",
   "metadata": {},
   "outputs": [],
   "source": [
    "inputs = [\n",
    "    {\"shape\": (None,), \"name\": \"node_number\", \"dtype\": \"int64\"},\n",
    "    {\"shape\": (None, 2), \"name\": \"edge_indices\", \"dtype\": \"int64\"},\n",
    "    {\"shape\": (), \"name\": \"total_nodes\", \"dtype\": \"int64\"},\n",
    "    {\"shape\": (), \"name\": \"total_edges\", \"dtype\": \"int64\"},\n",
    "]\n",
    "outputs = {\"shape\": (1, ), \"name\": \"graph_labels\", \"dtype\": \"float32\"}"
   ]
  },
  {
   "cell_type": "code",
   "execution_count": 5,
   "id": "5b96cd5a",
   "metadata": {},
   "outputs": [
    {
     "name": "stderr",
     "output_type": "stream",
     "text": [
      "INFO:kgcnn.models.utils:Updated model kwargs: '{'name': 'GIN', 'inputs': [{'shape': (None,), 'name': 'node_number', 'dtype': 'int64'}, {'shape': (None, 2), 'name': 'edge_indices', 'dtype': 'int64'}, {'shape': (), 'name': 'total_nodes', 'dtype': 'int64'}, {'shape': (), 'name': 'total_edges', 'dtype': 'int64'}], 'cast_disjoint_kwargs': {'padded_disjoint': False}, 'input_node_embedding': {'input_dim': 95, 'output_dim': 64}, 'gin_mlp': {'units': [64, 64], 'use_bias': True, 'activation': ['relu', 'linear'], 'use_normalization': True, 'normalization_technique': 'graph_batch', 'padded_disjoint': False}, 'gin_args': {}, 'depth': 3, 'dropout': 0.0, 'verbose': 10, 'last_mlp': {'use_bias': [True, True, True], 'units': [64, 64, 64], 'activation': ['relu', 'relu', 'linear']}, 'output_embedding': 'graph', 'output_to_tensor': True, 'output_mlp': {'units': 1, 'activation': 'linear'}}'.\n"
     ]
    }
   ],
   "source": [
    "model = make_model(\n",
    "    inputs=inputs,\n",
    "    output_mlp={\"units\": 1, \"activation\": \"linear\"}\n",
    ")\n",
    "model.compile(loss=\"mean_absolute_error\")"
   ]
  },
  {
   "cell_type": "code",
   "execution_count": null,
   "id": "f3238f5b-4d07-4ec5-aa0d-f4ff4494d32c",
   "metadata": {},
   "outputs": [],
   "source": []
  }
 ],
 "metadata": {
  "kernelspec": {
   "display_name": "Python 3 (ipykernel)",
   "language": "python",
   "name": "python3"
  },
  "language_info": {
   "codemirror_mode": {
    "name": "ipython",
    "version": 3
   },
   "file_extension": ".py",
   "mimetype": "text/x-python",
   "name": "python",
   "nbconvert_exporter": "python",
   "pygments_lexer": "ipython3",
   "version": "3.10.13"
  }
 },
 "nbformat": 4,
 "nbformat_minor": 5
}
