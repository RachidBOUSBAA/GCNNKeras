{
 "cells": [
  {
   "cell_type": "markdown",
   "id": "7def97ab",
   "metadata": {},
   "source": [
    "# Graph loading\n",
    "\n",
    "Different methods of loading (batched) graph tensors for keras model in- and output."
   ]
  },
  {
   "cell_type": "code",
   "execution_count": 1,
   "id": "f26f1196",
   "metadata": {},
   "outputs": [],
   "source": [
    "import tensorflow as tf\n",
    "from kgcnn.literature.GIN import make_model"
   ]
  },
  {
   "cell_type": "code",
   "execution_count": 2,
   "id": "f2bb24fb",
   "metadata": {},
   "outputs": [],
   "source": [
    "inputs = [\n",
    "    {\"shape\": (None,), \"name\": \"node_number\", \"dtype\": \"float32\", \"ragged\": True},\n",
    "    {\"shape\": (None, 2), \"name\": \"edge_indices\", \"dtype\": \"int64\", \"ragged\": True}\n",
    "]\n",
    "outputs = {\"shape\": [], \"name\": \"graph_labels\", \"dtype\": \"float32\", \"ragged\": False}"
   ]
  },
  {
   "cell_type": "code",
   "execution_count": 3,
   "id": "fb38539e",
   "metadata": {},
   "outputs": [
    {
     "name": "stderr",
     "output_type": "stream",
     "text": [
      "INFO:kgcnn.utils.models:Updated model kwargs:\n",
      "INFO:kgcnn.utils.models:{'name': 'GIN', 'inputs': [{'shape': (None,), 'name': 'node_number', 'dtype': 'float32', 'ragged': True}, {'shape': (None, 2), 'name': 'edge_indices', 'dtype': 'int64', 'ragged': True}], 'input_embedding': {'node': {'input_dim': 95, 'output_dim': 64}}, 'gin_mlp': {'units': [64, 64], 'use_bias': True, 'activation': ['relu', 'linear'], 'use_normalization': True, 'normalization_technique': 'batch'}, 'gin_args': {}, 'depth': 3, 'dropout': 0.0, 'verbose': 10, 'last_mlp': {'use_bias': [True, True, True], 'units': [64, 64, 64], 'activation': ['relu', 'relu', 'linear']}, 'output_embedding': 'graph', 'output_to_tensor': True, 'output_mlp': {'use_bias': True, 'units': 1, 'activation': 'linear'}}\n"
     ]
    }
   ],
   "source": [
    "model = make_model(\n",
    "    inputs=inputs,\n",
    "    output_mlp={\"units\": 1, \"activation\": \"linear\"}\n",
    ")\n",
    "model.compile(loss=\"mean_absolute_error\")"
   ]
  },
  {
   "cell_type": "markdown",
   "id": "a5e1300c",
   "metadata": {},
   "source": [
    "### 1. As TensorFlow tensor\n",
    "\n",
    "Via `MemoryGraphList` method `tensor()`:"
   ]
  },
  {
   "cell_type": "code",
   "execution_count": 4,
   "id": "cb8c0ff0",
   "metadata": {},
   "outputs": [
    {
     "name": "stderr",
     "output_type": "stream",
     "text": [
      "INFO:kgcnn.data.download:Checking and possibly downloading dataset with name ESOL\n",
      "INFO:kgcnn.data.download:Dataset directory located at C:\\Users\\patri\\.kgcnn\\datasets\n",
      "INFO:kgcnn.data.download:Dataset directory found. Done.\n",
      "INFO:kgcnn.data.download:Dataset found. Done.\n",
      "INFO:kgcnn.data.ESOL:Found SDF C:\\Users\\patri\\.kgcnn\\datasets\\ESOL\\delaney-processed.sdf of pre-computed structures.\n",
      "INFO:kgcnn.data.ESOL: ... read molecules 0 from 1128\n",
      "INFO:kgcnn.data.ESOL: ... read molecules 1000 from 1128\n",
      "INFO:kgcnn.data.ESOL:Property edge_indices is an empty list for graph 934.\n",
      "WARNING:kgcnn.data.ESOL:Found invalid graphs for properties. Removing graphs [934].\n"
     ]
    },
    {
     "data": {
      "text/plain": [
       "array([934])"
      ]
     },
     "execution_count": 4,
     "metadata": {},
     "output_type": "execute_result"
    }
   ],
   "source": [
    "from kgcnn.data.datasets.ESOLDataset import ESOLDataset\n",
    "dataset = ESOLDataset()\n",
    "dataset.clean([\"node_number\", \"edge_indices\"])"
   ]
  },
  {
   "cell_type": "code",
   "execution_count": 5,
   "id": "841132a7",
   "metadata": {},
   "outputs": [
    {
     "name": "stdout",
     "output_type": "stream",
     "text": [
      "[TensorShape([1127, None]), TensorShape([1127, None, 2])]\n"
     ]
    }
   ],
   "source": [
    "tensor_input = dataset.tensor(inputs)\n",
    "print([x.shape for x in tensor_input])"
   ]
  },
  {
   "cell_type": "code",
   "execution_count": 6,
   "id": "61ed9994",
   "metadata": {},
   "outputs": [
    {
     "name": "stdout",
     "output_type": "stream",
     "text": [
      "(1127, 1)\n"
     ]
    }
   ],
   "source": [
    "tensor_output = tf.expand_dims(dataset.tensor(outputs), axis=-1)\n",
    "print(tensor_output.shape)"
   ]
  },
  {
   "cell_type": "code",
   "execution_count": 7,
   "id": "d0a5a8c4",
   "metadata": {},
   "outputs": [
    {
     "name": "stdout",
     "output_type": "stream",
     "text": [
      "Epoch 1/5\n"
     ]
    },
    {
     "name": "stderr",
     "output_type": "stream",
     "text": [
      "C:\\Users\\patri\\anaconda3\\envs\\gcnn_keras_test\\lib\\site-packages\\tensorflow\\python\\framework\\indexed_slices.py:444: UserWarning: Converting sparse IndexedSlices(IndexedSlices(indices=Tensor(\"gradient_tape/model/gin_2/gather_nodes_outgoing_2/Reshape_1:0\", shape=(None,), dtype=int64), values=Tensor(\"gradient_tape/model/gin_2/gather_nodes_outgoing_2/Reshape:0\", shape=(None, 64), dtype=float32), dense_shape=Tensor(\"gradient_tape/model/gin_2/gather_nodes_outgoing_2/Cast:0\", shape=(2,), dtype=int32))) to a dense Tensor of unknown shape. This may consume a large amount of memory.\n",
      "  warnings.warn(\n",
      "C:\\Users\\patri\\anaconda3\\envs\\gcnn_keras_test\\lib\\site-packages\\tensorflow\\python\\framework\\indexed_slices.py:444: UserWarning: Converting sparse IndexedSlices(IndexedSlices(indices=Tensor(\"gradient_tape/model/gin_1/gather_nodes_outgoing_1/Reshape_1:0\", shape=(None,), dtype=int64), values=Tensor(\"gradient_tape/model/gin_1/gather_nodes_outgoing_1/Reshape:0\", shape=(None, 64), dtype=float32), dense_shape=Tensor(\"gradient_tape/model/gin_1/gather_nodes_outgoing_1/Cast:0\", shape=(2,), dtype=int32))) to a dense Tensor of unknown shape. This may consume a large amount of memory.\n",
      "  warnings.warn(\n",
      "C:\\Users\\patri\\anaconda3\\envs\\gcnn_keras_test\\lib\\site-packages\\tensorflow\\python\\framework\\indexed_slices.py:444: UserWarning: Converting sparse IndexedSlices(IndexedSlices(indices=Tensor(\"gradient_tape/model/gin/gather_nodes_outgoing/Reshape_1:0\", shape=(None,), dtype=int64), values=Tensor(\"gradient_tape/model/gin/gather_nodes_outgoing/Reshape:0\", shape=(None, 64), dtype=float32), dense_shape=Tensor(\"gradient_tape/model/gin/gather_nodes_outgoing/Cast:0\", shape=(2,), dtype=int32))) to a dense Tensor of unknown shape. This may consume a large amount of memory.\n",
      "  warnings.warn(\n"
     ]
    },
    {
     "name": "stdout",
     "output_type": "stream",
     "text": [
      "36/36 [==============================] - 6s 38ms/step - loss: 1.5457\n",
      "Epoch 2/5\n",
      "36/36 [==============================] - 1s 36ms/step - loss: 1.2378\n",
      "Epoch 3/5\n",
      "36/36 [==============================] - 1s 34ms/step - loss: 1.1142\n",
      "Epoch 4/5\n",
      "36/36 [==============================] - 1s 34ms/step - loss: 1.0818\n",
      "Epoch 5/5\n",
      "36/36 [==============================] - 1s 36ms/step - loss: 1.0021\n"
     ]
    },
    {
     "data": {
      "text/plain": [
       "<keras.callbacks.History at 0x20578001d90>"
      ]
     },
     "execution_count": 7,
     "metadata": {},
     "output_type": "execute_result"
    }
   ],
   "source": [
    "model.fit(tensor_input, tensor_output, epochs=5)"
   ]
  },
  {
   "cell_type": "markdown",
   "id": "17761c65",
   "metadata": {},
   "source": [
    "### 2. Via `keras.utils.Sequence`\n",
    "\n",
    "For example `GraphBatchLoader` that inherits from `ks.utils.Sequence` and takes an iterable data object of type `list[dict]`."
   ]
  },
  {
   "cell_type": "code",
   "execution_count": 8,
   "id": "9a20e828",
   "metadata": {},
   "outputs": [],
   "source": [
    "from kgcnn.io.loader import GraphBatchLoader"
   ]
  },
  {
   "cell_type": "code",
   "execution_count": 9,
   "id": "333208f5",
   "metadata": {},
   "outputs": [],
   "source": [
    "loader = GraphBatchLoader(data=dataset, inputs=inputs, outputs=outputs)"
   ]
  },
  {
   "cell_type": "code",
   "execution_count": 11,
   "id": "207a59bd",
   "metadata": {},
   "outputs": [
    {
     "name": "stdout",
     "output_type": "stream",
     "text": [
      "Epoch 1/5\n",
      "36/36 [==============================] - 1s 38ms/step - loss: 0.9854\n",
      "Epoch 2/5\n",
      "36/36 [==============================] - 1s 39ms/step - loss: 0.9118\n",
      "Epoch 3/5\n",
      "36/36 [==============================] - 1s 38ms/step - loss: 0.8588\n",
      "Epoch 4/5\n",
      "36/36 [==============================] - 1s 38ms/step - loss: 0.8635\n",
      "Epoch 5/5\n",
      "36/36 [==============================] - 1s 41ms/step - loss: 0.8495\n"
     ]
    },
    {
     "data": {
      "text/plain": [
       "<keras.callbacks.History at 0x2067b62cd60>"
      ]
     },
     "execution_count": 11,
     "metadata": {},
     "output_type": "execute_result"
    }
   ],
   "source": [
    "model.fit(loader, epochs=5)"
   ]
  },
  {
   "cell_type": "markdown",
   "id": "83dc04c4",
   "metadata": {},
   "source": [
    "### 3. Via `tf.data `"
   ]
  },
  {
   "cell_type": "code",
   "execution_count": null,
   "id": "0d8ab10f",
   "metadata": {},
   "outputs": [],
   "source": []
  }
 ],
 "metadata": {
  "kernelspec": {
   "display_name": "Python 3 (ipykernel)",
   "language": "python",
   "name": "python3"
  },
  "language_info": {
   "codemirror_mode": {
    "name": "ipython",
    "version": 3
   },
   "file_extension": ".py",
   "mimetype": "text/x-python",
   "name": "python",
   "nbconvert_exporter": "python",
   "pygments_lexer": "ipython3",
   "version": "3.9.7"
  }
 },
 "nbformat": 4,
 "nbformat_minor": 5
}
