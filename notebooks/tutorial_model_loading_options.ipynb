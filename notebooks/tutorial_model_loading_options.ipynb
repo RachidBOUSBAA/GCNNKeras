{
 "cells": [
  {
   "cell_type": "markdown",
   "id": "6f3995c0",
   "metadata": {},
   "source": [
    "# Graph loading\n",
    "\n",
    "Different methods of loading (batched) graph tensors for keras model in- and output."
   ]
  },
  {
   "cell_type": "code",
   "execution_count": 7,
   "id": "e3a864dd",
   "metadata": {},
   "outputs": [],
   "source": [
    "import tensorflow as tf\n",
    "from kgcnn.literature.GIN import make_model"
   ]
  },
  {
   "cell_type": "code",
   "execution_count": null,
   "id": "0ad653cb",
   "metadata": {},
   "outputs": [],
   "source": [
    "inputs = [\n",
    "    {\"shape\": (None,), \"name\": \"node_number\", \"dtype\": \"float32\", \"ragged\": True},\n",
    "    {\"shape\": (None, 2), \"name\": \"edge_indices\", \"dtype\": \"int64\", \"ragged\": True}\n",
    "]\n",
    "outputs = {\"shape\": (, ), \"name\": \"graph_labels\", \"dtype\": \"float32\", \"ragged\": False}"
   ]
  },
  {
   "cell_type": "code",
   "execution_count": 41,
   "id": "3c6ca1ca",
   "metadata": {},
   "outputs": [
    {
     "name": "stderr",
     "output_type": "stream",
     "text": [
      "INFO:kgcnn.utils.models:Updated model kwargs:\n",
      "INFO:kgcnn.utils.models:{'name': 'GIN', 'inputs': [{'shape': (None,), 'name': 'node_number', 'dtype': 'float32', 'ragged': True}, {'shape': (None, 2), 'name': 'edge_indices', 'dtype': 'int64', 'ragged': True}], 'input_embedding': {'node': {'input_dim': 95, 'output_dim': 64}}, 'gin_mlp': {'units': [64, 64], 'use_bias': True, 'activation': ['relu', 'linear'], 'use_normalization': True, 'normalization_technique': 'batch'}, 'gin_args': {}, 'depth': 3, 'dropout': 0.0, 'verbose': 10, 'last_mlp': {'use_bias': [True, True, True], 'units': [64, 64, 64], 'activation': ['relu', 'relu', 'linear']}, 'output_embedding': 'graph', 'output_to_tensor': True, 'output_mlp': {'use_bias': True, 'units': 1, 'activation': 'linear'}}\n"
     ]
    }
   ],
   "source": [
    "model = make_model(\n",
    "    inputs=inputs,\n",
    "    output_mlp={\"units\": 1, \"activation\": \"linear\"}\n",
    ")\n",
    "model.compile(loss=\"mean_absolute_error\")"
   ]
  },
  {
   "cell_type": "markdown",
   "id": "9958083e",
   "metadata": {},
   "source": [
    "### 1. As TensorFlow tensor\n",
    "\n",
    "Via `MemoryGraphList` method `tensor()`:"
   ]
  },
  {
   "cell_type": "code",
   "execution_count": 19,
   "id": "c2a5a005",
   "metadata": {},
   "outputs": [
    {
     "name": "stderr",
     "output_type": "stream",
     "text": [
      "INFO:kgcnn.data.download:Checking and possibly downloading dataset with name ESOL\n",
      "INFO:kgcnn.data.download:Dataset directory located at C:\\Users\\patri\\.kgcnn\\datasets\n",
      "INFO:kgcnn.data.download:Dataset directory found. Done.\n",
      "INFO:kgcnn.data.download:Dataset found. Done.\n",
      "INFO:kgcnn.data.ESOL:Found SDF C:\\Users\\patri\\.kgcnn\\datasets\\ESOL\\delaney-processed.sdf of pre-computed structures.\n",
      "INFO:kgcnn.data.ESOL: ... read molecules 0 from 1128\n",
      "INFO:kgcnn.data.ESOL: ... read molecules 1000 from 1128\n",
      "INFO:kgcnn.data.ESOL:Property edge_indices is an empty list for graph 934.\n",
      "WARNING:kgcnn.data.ESOL:Found invalid graphs for properties. Removing graphs [934].\n"
     ]
    },
    {
     "data": {
      "text/plain": [
       "array([934])"
      ]
     },
     "execution_count": 19,
     "metadata": {},
     "output_type": "execute_result"
    }
   ],
   "source": [
    "from kgcnn.data.datasets.ESOLDataset import ESOLDataset\n",
    "dataset = ESOLDataset()\n",
    "dataset.clean([\"node_number\", \"edge_indices\"])"
   ]
  },
  {
   "cell_type": "code",
   "execution_count": 38,
   "id": "65431891",
   "metadata": {},
   "outputs": [
    {
     "name": "stdout",
     "output_type": "stream",
     "text": [
      "[TensorShape([1127, None]), TensorShape([1127, None, 2])]\n"
     ]
    }
   ],
   "source": [
    "tensor_input = dataset.tensor(inputs)\n",
    "print([x.shape for x in tensor_input])"
   ]
  },
  {
   "cell_type": "code",
   "execution_count": 39,
   "id": "175c26a9",
   "metadata": {},
   "outputs": [
    {
     "name": "stdout",
     "output_type": "stream",
     "text": [
      "(1127, 1)\n"
     ]
    }
   ],
   "source": [
    "tensor_output = tf.expand_dims(dataset.tensor(outputs), axis=-1)\n",
    "print(tensor_output.shape)"
   ]
  },
  {
   "cell_type": "code",
   "execution_count": 42,
   "id": "0ea4ad2f",
   "metadata": {},
   "outputs": [
    {
     "name": "stdout",
     "output_type": "stream",
     "text": [
      "Epoch 1/5\n"
     ]
    },
    {
     "name": "stderr",
     "output_type": "stream",
     "text": [
      "C:\\Users\\patri\\anaconda3\\envs\\gcnn_keras_test\\lib\\site-packages\\tensorflow\\python\\framework\\indexed_slices.py:444: UserWarning: Converting sparse IndexedSlices(IndexedSlices(indices=Tensor(\"gradient_tape/model_2/gin_8/gather_nodes_outgoing_8/Reshape_1:0\", shape=(None,), dtype=int64), values=Tensor(\"gradient_tape/model_2/gin_8/gather_nodes_outgoing_8/Reshape:0\", shape=(None, 64), dtype=float32), dense_shape=Tensor(\"gradient_tape/model_2/gin_8/gather_nodes_outgoing_8/Cast:0\", shape=(2,), dtype=int32))) to a dense Tensor of unknown shape. This may consume a large amount of memory.\n",
      "  warnings.warn(\n",
      "C:\\Users\\patri\\anaconda3\\envs\\gcnn_keras_test\\lib\\site-packages\\tensorflow\\python\\framework\\indexed_slices.py:444: UserWarning: Converting sparse IndexedSlices(IndexedSlices(indices=Tensor(\"gradient_tape/model_2/gin_7/gather_nodes_outgoing_7/Reshape_1:0\", shape=(None,), dtype=int64), values=Tensor(\"gradient_tape/model_2/gin_7/gather_nodes_outgoing_7/Reshape:0\", shape=(None, 64), dtype=float32), dense_shape=Tensor(\"gradient_tape/model_2/gin_7/gather_nodes_outgoing_7/Cast:0\", shape=(2,), dtype=int32))) to a dense Tensor of unknown shape. This may consume a large amount of memory.\n",
      "  warnings.warn(\n",
      "C:\\Users\\patri\\anaconda3\\envs\\gcnn_keras_test\\lib\\site-packages\\tensorflow\\python\\framework\\indexed_slices.py:444: UserWarning: Converting sparse IndexedSlices(IndexedSlices(indices=Tensor(\"gradient_tape/model_2/gin_6/gather_nodes_outgoing_6/Reshape_1:0\", shape=(None,), dtype=int64), values=Tensor(\"gradient_tape/model_2/gin_6/gather_nodes_outgoing_6/Reshape:0\", shape=(None, 64), dtype=float32), dense_shape=Tensor(\"gradient_tape/model_2/gin_6/gather_nodes_outgoing_6/Cast:0\", shape=(2,), dtype=int32))) to a dense Tensor of unknown shape. This may consume a large amount of memory.\n",
      "  warnings.warn(\n"
     ]
    },
    {
     "name": "stdout",
     "output_type": "stream",
     "text": [
      "36/36 [==============================] - 7s 43ms/step - loss: 1.4853\n",
      "Epoch 2/5\n",
      "36/36 [==============================] - 1s 37ms/step - loss: 1.2757\n",
      "Epoch 3/5\n",
      "36/36 [==============================] - 1s 42ms/step - loss: 1.1521\n",
      "Epoch 4/5\n",
      "36/36 [==============================] - 2s 45ms/step - loss: 1.0940\n",
      "Epoch 5/5\n",
      "36/36 [==============================] - 2s 45ms/step - loss: 1.0180\n"
     ]
    },
    {
     "data": {
      "text/plain": [
       "<keras.callbacks.History at 0x1907f8c2a90>"
      ]
     },
     "execution_count": 42,
     "metadata": {},
     "output_type": "execute_result"
    }
   ],
   "source": [
    "model.fit(tensor_input, tensor_output, epochs=5)"
   ]
  },
  {
   "cell_type": "markdown",
   "id": "beb4dbbf",
   "metadata": {},
   "source": [
    "### 2. Via `keras.utils.Sequence`"
   ]
  },
  {
   "cell_type": "code",
   "execution_count": 44,
   "id": "eb6ec988",
   "metadata": {},
   "outputs": [],
   "source": [
    "from kgcnn.io.loader import GraphBatchLoader"
   ]
  },
  {
   "cell_type": "code",
   "execution_count": 45,
   "id": "e356f799",
   "metadata": {},
   "outputs": [],
   "source": [
    "loader = GraphBatchLoader(dataset, inputs=inputs, outputs=outputs)"
   ]
  },
  {
   "cell_type": "code",
   "execution_count": 46,
   "id": "e394dce1",
   "metadata": {},
   "outputs": [
    {
     "ename": "AttributeError",
     "evalue": "'GraphBatchLoader' object has no attribute 'indexes'",
     "output_type": "error",
     "traceback": [
      "\u001b[1;31m---------------------------------------------------------------------------\u001b[0m",
      "\u001b[1;31mAttributeError\u001b[0m                            Traceback (most recent call last)",
      "Input \u001b[1;32mIn [46]\u001b[0m, in \u001b[0;36m<module>\u001b[1;34m\u001b[0m\n\u001b[1;32m----> 1\u001b[0m \u001b[43mmodel\u001b[49m\u001b[38;5;241;43m.\u001b[39;49m\u001b[43mfit\u001b[49m\u001b[43m(\u001b[49m\u001b[43mloader\u001b[49m\u001b[43m)\u001b[49m\n",
      "File \u001b[1;32m~\\anaconda3\\envs\\gcnn_keras_test\\lib\\site-packages\\keras\\utils\\traceback_utils.py:67\u001b[0m, in \u001b[0;36mfilter_traceback.<locals>.error_handler\u001b[1;34m(*args, **kwargs)\u001b[0m\n\u001b[0;32m     65\u001b[0m \u001b[38;5;28;01mexcept\u001b[39;00m \u001b[38;5;167;01mException\u001b[39;00m \u001b[38;5;28;01mas\u001b[39;00m e:  \u001b[38;5;66;03m# pylint: disable=broad-except\u001b[39;00m\n\u001b[0;32m     66\u001b[0m   filtered_tb \u001b[38;5;241m=\u001b[39m _process_traceback_frames(e\u001b[38;5;241m.\u001b[39m__traceback__)\n\u001b[1;32m---> 67\u001b[0m   \u001b[38;5;28;01mraise\u001b[39;00m e\u001b[38;5;241m.\u001b[39mwith_traceback(filtered_tb) \u001b[38;5;28;01mfrom\u001b[39;00m \u001b[38;5;28mNone\u001b[39m\n\u001b[0;32m     68\u001b[0m \u001b[38;5;28;01mfinally\u001b[39;00m:\n\u001b[0;32m     69\u001b[0m   \u001b[38;5;28;01mdel\u001b[39;00m filtered_tb\n",
      "File \u001b[1;32mh:\\postdoc\\project_pycharm\\gcnn_keras\\kgcnn\\io\\loader.py:51\u001b[0m, in \u001b[0;36mGraphBatchLoader.__getitem__\u001b[1;34m(self, index)\u001b[0m\n\u001b[0;32m     49\u001b[0m \u001b[38;5;124;03m\"\"\"Generate one batch of data\"\"\"\u001b[39;00m\n\u001b[0;32m     50\u001b[0m \u001b[38;5;66;03m# Generate indexes of the batch\u001b[39;00m\n\u001b[1;32m---> 51\u001b[0m batch_indices \u001b[38;5;241m=\u001b[39m \u001b[38;5;28;43mself\u001b[39;49m\u001b[38;5;241;43m.\u001b[39;49m\u001b[43mindexes\u001b[49m[index \u001b[38;5;241m*\u001b[39m \u001b[38;5;28mself\u001b[39m\u001b[38;5;241m.\u001b[39mbatch_size:(index \u001b[38;5;241m+\u001b[39m \u001b[38;5;241m1\u001b[39m) \u001b[38;5;241m*\u001b[39m \u001b[38;5;28mself\u001b[39m\u001b[38;5;241m.\u001b[39mbatch_size]\n\u001b[0;32m     53\u001b[0m \u001b[38;5;66;03m# Generate data\u001b[39;00m\n\u001b[0;32m     54\u001b[0m x_model, y_model \u001b[38;5;241m=\u001b[39m \u001b[38;5;28mself\u001b[39m\u001b[38;5;241m.\u001b[39m_data_generation(batch_indices)\n",
      "\u001b[1;31mAttributeError\u001b[0m: 'GraphBatchLoader' object has no attribute 'indexes'"
     ]
    }
   ],
   "source": [
    "model.fit(loader)"
   ]
  },
  {
   "cell_type": "code",
   "execution_count": null,
   "id": "224b26a8",
   "metadata": {},
   "outputs": [],
   "source": []
  }
 ],
 "metadata": {
  "kernelspec": {
   "display_name": "Python 3 (ipykernel)",
   "language": "python",
   "name": "python3"
  },
  "language_info": {
   "codemirror_mode": {
    "name": "ipython",
    "version": 3
   },
   "file_extension": ".py",
   "mimetype": "text/x-python",
   "name": "python",
   "nbconvert_exporter": "python",
   "pygments_lexer": "ipython3",
   "version": "3.9.7"
  }
 },
 "nbformat": 4,
 "nbformat_minor": 5
}
