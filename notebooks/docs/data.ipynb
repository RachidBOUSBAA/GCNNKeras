{
 "cells": [
  {
   "cell_type": "markdown",
   "id": "40caf714",
   "metadata": {},
   "source": [
    "# Data"
   ]
  },
  {
   "cell_type": "markdown",
   "id": "7f339450",
   "metadata": {},
   "source": [
    "There are some data classes in `kgcnn` that can help to store and load graph data. In principle a graph is a collection of the follwing objects in tensor-form:\n",
    "\n",
    "* `nodes_attributes`: Node features of shape `(N, F)` where N is the number of nodes and F is the node feature dimension.\n",
    "* edge_indices: \n",
    "* edges_attributes:"
   ]
  },
  {
   "cell_type": "markdown",
   "id": "cfd1b23e",
   "metadata": {},
   "source": [
    "## Graph dictionary"
   ]
  },
  {
   "cell_type": "markdown",
   "id": "4580c7cf",
   "metadata": {},
   "source": [
    "Graphs are represented by a dictionary `GraphDict` of (numpy) arrays which behaves like a python dict."
   ]
  },
  {
   "cell_type": "code",
   "execution_count": 12,
   "id": "5263f309",
   "metadata": {},
   "outputs": [
    {
     "name": "stdout",
     "output_type": "stream",
     "text": [
      "{'edge_indices': (2, 2), 'node_label': (2, 1), 'graph_labels': (1,), 'edge_attributes': (2, 1)}\n"
     ]
    }
   ],
   "source": [
    "import numpy as np\n",
    "from kgcnn.data.base import GraphDict\n",
    "# Single graph.\n",
    "graph = GraphDict({\"edge_indices\": np.array([[1, 0], [0, 1]]), \"node_label\":  np.array([[0], [1]])})\n",
    "graph.set(\"graph_labels\",  np.array([0]))\n",
    "graph.set(\"edge_attributes\", np.array([[1.0], [2.0]]));\n",
    "print({x: v.shape for x,v in graph.items()})"
   ]
  },
  {
   "cell_type": "markdown",
   "id": "55b6adb4",
   "metadata": {},
   "source": [
    "The class `GraphDict` can be converted to for example a strict Graph representation of `networkx` which keeps track of node and edge changes."
   ]
  },
  {
   "cell_type": "code",
   "execution_count": 8,
   "id": "9ad3367f",
   "metadata": {},
   "outputs": [],
   "source": [
    "nx_graph = graph.to_networkx()"
   ]
  },
  {
   "cell_type": "markdown",
   "id": "118cc437",
   "metadata": {},
   "source": [
    "There are graph pre- and postprocessors in `kgcnn.graph` which take specific properties by name and apply a processing function or transformation."
   ]
  },
  {
   "cell_type": "code",
   "execution_count": 9,
   "id": "b1de74bd",
   "metadata": {},
   "outputs": [],
   "source": [
    "from kgcnn.graph.preprocessor import SortEdgeIndices\n",
    "\n",
    "SortEdgeIndices(edge_indices=\"edge_indices\", edge_attributes=\"^edge_(?!indices$).*\", in_place=True)(graph);\n"
   ]
  },
  {
   "cell_type": "markdown",
   "id": "13f7e18c",
   "metadata": {},
   "source": [
    "## Datasets"
   ]
  },
  {
   "cell_type": "markdown",
   "id": "fc984ba1",
   "metadata": {},
   "source": [
    "# Loading Options"
   ]
  },
  {
   "cell_type": "code",
   "execution_count": null,
   "id": "4adf3d12",
   "metadata": {},
   "outputs": [],
   "source": []
  }
 ],
 "metadata": {
  "kernelspec": {
   "display_name": "Python 3 (ipykernel)",
   "language": "python",
   "name": "python3"
  },
  "language_info": {
   "codemirror_mode": {
    "name": "ipython",
    "version": 3
   },
   "file_extension": ".py",
   "mimetype": "text/x-python",
   "name": "python",
   "nbconvert_exporter": "python",
   "pygments_lexer": "ipython3",
   "version": "3.9.7"
  }
 },
 "nbformat": 4,
 "nbformat_minor": 5
}
