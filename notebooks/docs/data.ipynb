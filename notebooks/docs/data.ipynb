{
 "cells": [
  {
   "cell_type": "markdown",
   "id": "40caf714",
   "metadata": {},
   "source": [
    "# Data"
   ]
  },
  {
   "cell_type": "markdown",
   "id": "1d997fbb",
   "metadata": {},
   "source": [
    "There are some data classes in `kgcnn` that can help to store and load graph data. In principle a graph is a collection of the follwing objects in tensor-form:\n",
    "\n",
    "* `nodes_attributes`: Node features of shape `(N, F)` where N is the number of nodes and F is the node feature dimension.\n",
    "* `edge_indices`: Connection list of shape `(M, 2)` where M is the number of edges. The indices denote a connection of incoming or receiving node `i` and outgoing or sending node `j` as `(i, j)`.\n",
    "* `edges_attributes`: Edge features of shape `(M, F)` where M is the number of edges and F is the edge feature dimension.\n",
    "* `graph_attributes`: Graph state information of shape `(F, )` where F denotes the feature dimension.\n",
    "\n",
    "These can be stored in form of numpy arrays in a dictionary type container `GraphDict`. Additional train/test assignment, labels, positions/coordinates, forces or momentum, other connection indices or even symbols or IDs can be added to this dictionary. \n",
    "\n",
    "For multiple small graphs a list of these dictionaries serves to represent the common case of datasets for supervised learning tasks, for example small molecules or crystal structures."
   ]
  },
  {
   "cell_type": "markdown",
   "id": "24f2cc75",
   "metadata": {},
   "source": [
    "## Graph Dict"
   ]
  },
  {
   "cell_type": "markdown",
   "id": "6d8a3eac",
   "metadata": {},
   "source": [
    "Graphs are represented by a dictionary `GraphDict` of (numpy) arrays which behaves like a python dict. In principle the `GraphDict` can take every key and value pair via item operator `[]`. However, for consitency and class methods, keys must be names and values `np.ndarray` . You can use `set` and `get` to out-cast to numpy arrays or run `validate()`. "
   ]
  },
  {
   "cell_type": "code",
   "execution_count": 1,
   "id": "d090abcd",
   "metadata": {},
   "outputs": [
    {
     "name": "stdout",
     "output_type": "stream",
     "text": [
      "{'edge_indices': (2, 2), 'node_label': (2, 1), 'graph_labels': (1,), 'edge_attributes': (2, 1)}\n",
      "Is dict: True\n",
      "Graph label [0]\n"
     ]
    }
   ],
   "source": [
    "import numpy as np\n",
    "from kgcnn.data.base import GraphDict\n",
    "# Single graph.\n",
    "graph = GraphDict({\"edge_indices\": np.array([[1, 0], [0, 1]]), \"node_label\":  np.array([[0], [1]])})\n",
    "graph.set(\"graph_labels\",  np.array([0]))\n",
    "graph.set(\"edge_attributes\", np.array([[1.0], [2.0]]));\n",
    "print({key: value.shape for key, value in graph.items()})\n",
    "print(\"Is dict: %s\" % isinstance(graph, dict))\n",
    "print(\"Graph label\", graph[\"graph_labels\"])"
   ]
  },
  {
   "cell_type": "markdown",
   "id": "a6d738a5",
   "metadata": {},
   "source": [
    "The class `GraphDict` can be converted to for example a strict graph representation of `networkx` which keeps track of node and edge changes."
   ]
  },
  {
   "cell_type": "code",
   "execution_count": 2,
   "id": "d4f9ebc0",
   "metadata": {},
   "outputs": [
    {
     "data": {
      "image/png": "[encoded data removed]",
      "text/plain": [
       "<Figure size 108x108 with 1 Axes>"
      ]
     },
     "metadata": {},
     "output_type": "display_data"
    }
   ],
   "source": [
    "import networkx as nx\n",
    "import matplotlib.pyplot as plt\n",
    "nx_graph = graph.to_networkx()\n",
    "plt.figure(figsize=(1.5,1.5)) \n",
    "nx.draw(nx_graph)\n",
    "plt.show()"
   ]
  },
  {
   "cell_type": "markdown",
   "id": "252a351f",
   "metadata": {},
   "source": [
    "Or compiling a dictionary of (tensorial) graph properties from a `networkx` graph."
   ]
  },
  {
   "cell_type": "code",
   "execution_count": 3,
   "id": "779ca622",
   "metadata": {},
   "outputs": [
    {
     "name": "stdout",
     "output_type": "stream",
     "text": [
      "{'node_number': (8,), 'edge_indices': (12, 2)}\n"
     ]
    }
   ],
   "source": [
    "graph = GraphDict().from_networkx(nx.cubical_graph())\n",
    "print({key: value.shape for key, value in graph.items()})"
   ]
  },
  {
   "cell_type": "markdown",
   "id": "a0b1dd5f",
   "metadata": {},
   "source": [
    "There are graph pre- and postprocessors in `kgcnn.graph` which take specific properties by name and apply a processing function or transformation. The processing function can for example compute angle indices based on edges or sort edge indices and sort dependent features accordingly. \n",
    "\n",
    "> **WARNING**: However, they should be used with caution since they only apply to tensor properties regardless of any underlying graph.\n",
    "\n",
    "\n",
    "For example `SortEdgeIndices` can sort an \"edge_indices\" tensor and sort attributed properties such as \"edge_attributes\" or \"edge_labels\" or a list of multiple (named) properties accordingly. In the example below a generic search string is also valid. To directly update a `GraphDict` make a preprocessor with `in_place=True` . Note that preprocessors can be serialised and habe a `get_config` method."
   ]
  },
  {
   "cell_type": "code",
   "execution_count": 4,
   "id": "c0eb29eb",
   "metadata": {},
   "outputs": [
    {
     "name": "stdout",
     "output_type": "stream",
     "text": [
      "{'node_number': (8,), 'edge_indices': (20, 2), 'edge_weights': (20, 1)}\n"
     ]
    }
   ],
   "source": [
    "from kgcnn.graph.preprocessor import SortEdgeIndices, AddEdgeSelfLoops, SetEdgeWeightsUniform\n",
    "\n",
    "SortEdgeIndices(edge_indices=\"edge_indices\", edge_attributes=\"^edge_(?!indices$).*\", in_place=True)(graph)\n",
    "\n",
    "SetEdgeWeightsUniform(edge_indices=\"edge_indices\", value=1.0, in_place=True)(graph)\n",
    "\n",
    "AddEdgeSelfLoops(\n",
    "    edge_indices=\"edge_indices\", edge_attributes=\"^edge_(?!indices$).*\", \n",
    "    remove_duplicates=True, sort_indices=True, fill_value=0, in_place=True)(graph);\n",
    "\n",
    "print({key: value.shape for key, value in graph.items()})"
   ]
  },
  {
   "cell_type": "markdown",
   "id": "7a4712bf",
   "metadata": {},
   "source": [
    "## Graph List"
   ]
  },
  {
   "cell_type": "markdown",
   "id": "98fd0a3e",
   "metadata": {},
   "source": [
    "A `MemoryGraphList` should behave identical to a python list but contain only `GraphDict` items.\n",
    "Here a few examples with some utility methods of the class."
   ]
  },
  {
   "cell_type": "code",
   "execution_count": 5,
   "id": "d65fb6da",
   "metadata": {},
   "outputs": [
    {
     "name": "stderr",
     "output_type": "stream",
     "text": [
      "INFO:kgcnn.data.base:Property 'edge_indices' is not defined for graph '2'.\n",
      "WARNING:kgcnn.data.base:Found invalid graphs for properties. Removing graphs '[2]'.\n"
     ]
    },
    {
     "name": "stdout",
     "output_type": "stream",
     "text": [
      "New length of graph: 2\n",
      "Labels (list): [array([0]), array([1])]\n",
      "<MemoryGraphList [{'edge_indices': array([[0, 1],\n",
      "       [1, 0]]), 'graph_label': array([0]), 'graph_number': array([0])} ...]>\n"
     ]
    }
   ],
   "source": [
    "from kgcnn.data.base import MemoryGraphList\n",
    "\n",
    "# List of graph dicts.\n",
    "graph_list = MemoryGraphList([\n",
    "    GraphDict({\"edge_indices\": [[0, 1], [1, 0]], \"graph_label\": [0]}), \n",
    "    GraphDict({\"edge_indices\": [[0, 0]], \"graph_label\": [1]}), \n",
    "    GraphDict({\"graph_label\": [0]})\n",
    "])\n",
    "\n",
    "# Remove graphs without certain property\n",
    "graph_list.clean([\"edge_indices\"])\n",
    "print(\"New length of graph:\", len(graph_list))\n",
    "\n",
    "# Go to every graph dict and take out the requested property. Opposite is set().\n",
    "print(\"Labels (list):\", graph_list.get(\"graph_label\"))\n",
    "\n",
    "# Or directly modify list.\n",
    "for i, x in enumerate(graph_list):\n",
    "    x.set(\"graph_number\", [i])\n",
    "\n",
    "print(graph_list)  # Also supports indexing lists."
   ]
  },
  {
   "cell_type": "markdown",
   "id": "bbf61fac",
   "metadata": {},
   "source": [
    "It is also easy to map a a method over the graph dicts in the list. This can be a class method of `GraphDict` or a callable function (or class) or for legacy compatibility a default name of a preprocessor."
   ]
  },
  {
   "cell_type": "code",
   "execution_count": 6,
   "id": "1841bae8",
   "metadata": {},
   "outputs": [
    {
     "data": {
      "text/plain": [
       "<MemoryGraphList [{'edge_indices': array([[0, 0],\n",
       "       [0, 1],\n",
       "       [1, 0],\n",
       "       [1, 1]]), 'graph_label': array([0]), 'graph_number': array([0])} ...]>"
      ]
     },
     "execution_count": 6,
     "metadata": {},
     "output_type": "execute_result"
    }
   ],
   "source": [
    "graph_list.map_list(method=AddEdgeSelfLoops(edge_indices=\"edge_indices\", in_place=True))\n",
    "\n",
    "# Note: Former deprecated option is to use a method name that is looked up in the preprocessor class.\n",
    "# graph_list.map_list(method=\"add_edge_self_loops\")"
   ]
  },
  {
   "cell_type": "markdown",
   "id": "1054ea6e",
   "metadata": {},
   "source": [
    "Most importantly is to obtain a ragged tensor for direct model input. You can simply pass a list or dict of the config of keras Input layers as shown below:"
   ]
  },
  {
   "cell_type": "code",
   "execution_count": 7,
   "id": "61e45a17",
   "metadata": {},
   "outputs": [
    {
     "data": {
      "text/plain": [
       "[<tf.RaggedTensor [[[0, 0],\n",
       "   [0, 1],\n",
       "   [1, 0],\n",
       "   [1, 1]], [[0, 0]]]>,\n",
       " <tf.Tensor: shape=(2, 1), dtype=int32, numpy=\n",
       " array([[0],\n",
       "        [1]])>]"
      ]
     },
     "execution_count": 7,
     "metadata": {},
     "output_type": "execute_result"
    }
   ],
   "source": [
    "graph_list.tensor([\n",
    "    {\"name\": \"edge_indices\", \"shape\": (None, 2), \"ragged\": True, \"dtype\": \"int64\"},\n",
    "    {\"name\": \"graph_label\", \"shape\": (1, ), \"ragged\": False}\n",
    "])"
   ]
  },
  {
   "cell_type": "markdown",
   "id": "a1ee39d9",
   "metadata": {},
   "source": [
    "## Datasets"
   ]
  },
  {
   "cell_type": "markdown",
   "id": "860527bf",
   "metadata": {},
   "source": [
    "The `MemoryGraphDataset` inherits from `MemoryGraphList` but must be initialized with file information on disk that points to a `data_directory` for the dataset. The `data_directory` can have a subdirectory for files and/or single file such as a CSV file. The usual data structure looks like this:\n",
    "\n",
    "```bash\n",
    "├── data_directory\n",
    "    ├── file_directory\n",
    "    │   ├── *.*\n",
    "    │   └── ... \n",
    "    ├── file_name\n",
    "    └── dataset_name.kgcnn.pickle\n",
    "```"
   ]
  },
  {
   "cell_type": "code",
   "execution_count": 8,
   "id": "ff6ac0c6",
   "metadata": {},
   "outputs": [
    {
     "name": "stdout",
     "output_type": "stream",
     "text": [
      "<MemoryGraphDataset [{'edge_indices': array([[0, 0],\n",
      "       [0, 1],\n",
      "       [1, 0],\n",
      "       [1, 1]]), 'graph_label': array([0]), 'graph_number': array([0]), 'node_attributes': array([[0.9, 3.2],\n",
      "       [1.2, 2.4]])} ...]>\n"
     ]
    }
   ],
   "source": [
    "from kgcnn.data.base import MemoryGraphDataset\n",
    "dataset = MemoryGraphDataset(\n",
    "    data_directory=\".\",  # Path to file directory or current folder\n",
    "    dataset_name=\"Example\",\n",
    "    file_name=None, file_directory=None)\n",
    "\n",
    "# Modify like a MemoryGraphList\n",
    "for x in graph_list:\n",
    "    dataset.append(x)\n",
    "dataset[0][\"node_attributes\"] = np.array([[0.9, 3.2], [1.2, 2.4]])\n",
    "print(dataset)"
   ]
  },
  {
   "cell_type": "markdown",
   "id": "286ab43f",
   "metadata": {},
   "source": [
    "You can also change the location on file with `relocate()` . Note that in this case only the file information is changed,\n",
    "but no files are moved or copied. Save the dataset as pickled python list of python dicts to file:"
   ]
  },
  {
   "cell_type": "code",
   "execution_count": 9,
   "id": "2af25b8e",
   "metadata": {},
   "outputs": [
    {
     "name": "stderr",
     "output_type": "stream",
     "text": [
      "INFO:kgcnn.data.Example:Pickle dataset...\n",
      "INFO:kgcnn.data.Example:Load pickled dataset...\n"
     ]
    },
    {
     "data": {
      "text/plain": [
       "<MemoryGraphDataset [{'edge_indices': array([[0, 0],\n",
       "       [0, 1],\n",
       "       [1, 0],\n",
       "       [1, 1]]), 'graph_label': array([0]), 'graph_number': array([0]), 'node_attributes': array([[0.9, 3.2],\n",
       "       [1.2, 2.4]])} ...]>"
      ]
     },
     "execution_count": 9,
     "metadata": {},
     "output_type": "execute_result"
    }
   ],
   "source": [
    "dataset.save()\n",
    "dataset.load()"
   ]
  },
  {
   "cell_type": "markdown",
   "id": "9e797eea",
   "metadata": {},
   "source": [
    "### Special Datasets"
   ]
  },
  {
   "cell_type": "markdown",
   "id": "93c88589",
   "metadata": {},
   "source": [
    "From `MemoryGraphDataset` there are many subclasses `QMDataset`, `MoleculeNetDataset`, `CrystalDataset`, `VisualGraphDataset` and `GraphTUDataset` which further have functions required for the specific dataset type to convert and process files such as '.txt', '.sdf', '.xyz', '.cif', '.jpg' etc. \n",
    "They are located in `kgcnn.data` .\n",
    "Most subclasses implement `prepare_data()` and `read_in_memory()` with dataset dependent arguments to preprocess and finally load data from different formats.\n",
    "\n",
    "Then there are fully prepared subclasses in `kgcnn.data.datasets` which download and process common benchmark datasets and can be used as simple as this:"
   ]
  },
  {
   "cell_type": "code",
   "execution_count": 10,
   "id": "18410c5a",
   "metadata": {},
   "outputs": [
    {
     "name": "stderr",
     "output_type": "stream",
     "text": [
      "INFO:kgcnn.data.download:Checking and possibly downloading dataset with name MUTAG\n",
      "INFO:kgcnn.data.download:Dataset directory located at C:\\Users\\patri\\.kgcnn\\datasets\n",
      "INFO:kgcnn.data.download:Dataset directory found. Done.\n",
      "INFO:kgcnn.data.download:Dataset found. Done.\n",
      "INFO:kgcnn.data.download:Directory for extraction exists. Done.\n",
      "INFO:kgcnn.data.download:Not extracting zip file. Stopped.\n",
      "INFO:kgcnn.data.MUTAG:Reading dataset to memory with name MUTAG\n",
      "INFO:kgcnn.data.MUTAG:Shift start of graph ID to zero for 'MUTAG' to match python indexing.\n",
      "INFO:kgcnn.data.MUTAG:Graph index which has unconnected '[]' with '[]' in total '0'.\n"
     ]
    },
    {
     "data": {
      "text/plain": [
       "dict_keys(['node_degree', 'node_labels', 'edge_indices', 'edge_labels', 'graph_labels', 'node_attributes', 'edge_attributes', 'node_symbol', 'node_number', 'graph_size'])"
      ]
     },
     "execution_count": 10,
     "metadata": {},
     "output_type": "execute_result"
    }
   ],
   "source": [
    "from kgcnn.data.datasets.MUTAGDataset import MUTAGDataset\n",
    "dataset = MUTAGDataset()  # inherits from GraphTUDataset2020()\n",
    "dataset[0].keys()"
   ]
  },
  {
   "cell_type": "markdown",
   "id": "0953a86e",
   "metadata": {},
   "source": [
    "Here are some examples on custom usage of the base classes:"
   ]
  },
  {
   "cell_type": "markdown",
   "id": "1662f5dc",
   "metadata": {},
   "source": [
    "#### MoleculeNetDatasets"
   ]
  },
  {
   "cell_type": "code",
   "execution_count": null,
   "id": "a4f468d1",
   "metadata": {},
   "outputs": [],
   "source": []
  },
  {
   "cell_type": "markdown",
   "id": "10489acf",
   "metadata": {},
   "source": [
    "> **note**: You can find this page as jupyter notebook in https://github.com/aimat-lab/gcnn_keras/tree/master/notebooks/docs . "
   ]
  }
 ],
 "metadata": {
  "kernelspec": {
   "display_name": "Python 3 (ipykernel)",
   "language": "python",
   "name": "python3"
  },
  "language_info": {
   "codemirror_mode": {
    "name": "ipython",
    "version": 3
   },
   "file_extension": ".py",
   "mimetype": "text/x-python",
   "name": "python",
   "nbconvert_exporter": "python",
   "pygments_lexer": "ipython3",
   "version": "3.9.7"
  }
 },
 "nbformat": 4,
 "nbformat_minor": 5
}
