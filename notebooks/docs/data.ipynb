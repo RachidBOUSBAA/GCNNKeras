{
 "cells": [
  {
   "cell_type": "markdown",
   "id": "40caf714",
   "metadata": {},
   "source": [
    "# Data"
   ]
  },
  {
   "cell_type": "markdown",
   "id": "19b24692",
   "metadata": {},
   "source": [
    "There are some data classes in `kgcnn` that can help to store and load graph data. In principle a graph is a collection of the follwing objects in tensor-form:\n",
    "\n",
    "* `nodes_attributes`: Node features of shape `(N, F)` where N is the number of nodes and F is the node feature dimension.\n",
    "* `edge_indices`: Connection list of shape `(M, 2)` where M is the number of edges. The indices denote a connection of incoming or receiving node i and outgoing or sending node j as (i, j).\n",
    "* `edges_attributes`: Edge features of shape `(M, F)` where M is the number of edges and F is the edge feature dimension.\n",
    "* `graph_attributes`: Graph state information of shape `(F, )` where F denotes the feature dimension.\n",
    "\n",
    "These can be stored in form of numpy arrays in a dictionary type container `GraphDict`. Additional train/test assignment, labels, positions/coordinates, forces or momentum, other connection indices or even symbols or IDs can be added to this dictionary. \n",
    "\n",
    "For multiple small graphs a list of these dictionaries serves to represent the common case of datasets for supervised learning tasks, for example small molecules or crystal structures."
   ]
  },
  {
   "cell_type": "markdown",
   "id": "bfbd70aa",
   "metadata": {},
   "source": [
    "## Graph dictionary"
   ]
  },
  {
   "cell_type": "markdown",
   "id": "54079cd4",
   "metadata": {},
   "source": [
    "Graphs are represented by a dictionary `GraphDict` of (numpy) arrays which behaves like a python dict."
   ]
  },
  {
   "cell_type": "code",
   "execution_count": 12,
   "id": "153bbb88",
   "metadata": {},
   "outputs": [
    {
     "name": "stdout",
     "output_type": "stream",
     "text": [
      "{'edge_indices': (2, 2), 'node_label': (2, 1), 'graph_labels': (1,), 'edge_attributes': (2, 1)}\n"
     ]
    }
   ],
   "source": [
    "import numpy as np\n",
    "from kgcnn.data.base import GraphDict\n",
    "# Single graph.\n",
    "graph = GraphDict({\"edge_indices\": np.array([[1, 0], [0, 1]]), \"node_label\":  np.array([[0], [1]])})\n",
    "graph.set(\"graph_labels\",  np.array([0]))\n",
    "graph.set(\"edge_attributes\", np.array([[1.0], [2.0]]));\n",
    "print({x: v.shape for x,v in graph.items()})"
   ]
  },
  {
   "cell_type": "markdown",
   "id": "891a70ce",
   "metadata": {},
   "source": [
    "The class `GraphDict` can be converted to for example a strict Graph representation of `networkx` which keeps track of node and edge changes."
   ]
  },
  {
   "cell_type": "code",
   "execution_count": 8,
   "id": "83eab402",
   "metadata": {},
   "outputs": [],
   "source": [
    "nx_graph = graph.to_networkx()"
   ]
  },
  {
   "cell_type": "markdown",
   "id": "b5a1c55d",
   "metadata": {},
   "source": [
    "There are graph pre- and postprocessors in `kgcnn.graph` which take specific properties by name and apply a processing function or transformation."
   ]
  },
  {
   "cell_type": "code",
   "execution_count": 9,
   "id": "8225f2ee",
   "metadata": {},
   "outputs": [],
   "source": [
    "from kgcnn.graph.preprocessor import SortEdgeIndices\n",
    "\n",
    "SortEdgeIndices(edge_indices=\"edge_indices\", edge_attributes=\"^edge_(?!indices$).*\", in_place=True)(graph);\n"
   ]
  },
  {
   "cell_type": "markdown",
   "id": "95a6f913",
   "metadata": {},
   "source": [
    "## Datasets"
   ]
  },
  {
   "cell_type": "markdown",
   "id": "b667f9a0",
   "metadata": {},
   "source": [
    "# Loading Options"
   ]
  },
  {
   "cell_type": "code",
   "execution_count": null,
   "id": "691ddf3c",
   "metadata": {},
   "outputs": [],
   "source": []
  }
 ],
 "metadata": {
  "kernelspec": {
   "display_name": "Python 3 (ipykernel)",
   "language": "python",
   "name": "python3"
  },
  "language_info": {
   "codemirror_mode": {
    "name": "ipython",
    "version": 3
   },
   "file_extension": ".py",
   "mimetype": "text/x-python",
   "name": "python",
   "nbconvert_exporter": "python",
   "pygments_lexer": "ipython3",
   "version": "3.9.7"
  }
 },
 "nbformat": 4,
 "nbformat_minor": 5
}
