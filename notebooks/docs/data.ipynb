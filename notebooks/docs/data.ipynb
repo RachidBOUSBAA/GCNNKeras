{
 "cells": [
  {
   "cell_type": "markdown",
   "id": "40caf714",
   "metadata": {},
   "source": [
    "# Data"
   ]
  },
  {
   "cell_type": "markdown",
   "id": "1ebb4660",
   "metadata": {},
   "source": [
    "There are some data classes in `kgcnn` that can help to store and load graph data. In principle a graph is a collection of the follwing objects in tensor-form:\n",
    "\n",
    "* `nodes_attributes`: Node features of shape `(N, F)` where N is the number of nodes and F is the node feature dimension.\n",
    "* `edge_indices`: Connection list of shape `(M, 2)` where M is the number of edges. The indices denote a connection of incoming or receiving node `i` and outgoing or sending node `j` as `(i, j)`.\n",
    "* `edges_attributes`: Edge features of shape `(M, F)` where M is the number of edges and F is the edge feature dimension.\n",
    "* `graph_attributes`: Graph state information of shape `(F, )` where F denotes the feature dimension.\n",
    "\n",
    "These can be stored in form of numpy arrays in a dictionary type container `GraphDict`. Additional train/test assignment, labels, positions/coordinates, forces or momentum, other connection indices or even symbols or IDs can be added to this dictionary. \n",
    "\n",
    "For multiple small graphs a list of these dictionaries serves to represent the common case of datasets for supervised learning tasks, for example small molecules or crystal structures.\n",
    "You can find this page as jupyter notebook in https://github.com/aimat-lab/gcnn_keras/tree/master/notebooks/docs . "
   ]
  },
  {
   "cell_type": "markdown",
   "id": "2117ca90",
   "metadata": {},
   "source": [
    "## Graph dictionary"
   ]
  },
  {
   "cell_type": "markdown",
   "id": "c36dc7cd",
   "metadata": {},
   "source": [
    "Graphs are represented by a dictionary `GraphDict` of (numpy) arrays which behaves like a python dict. In principle the `GraphDict` can take every key and value pair via item operator `[]`. However, for consitency and class methods, keys must be names and values `np.ndarray` . You can use `set` and `get` to out-cast to numpy arrays or run `validate()`. "
   ]
  },
  {
   "cell_type": "code",
   "execution_count": 40,
   "id": "c03980c4",
   "metadata": {},
   "outputs": [
    {
     "name": "stdout",
     "output_type": "stream",
     "text": [
      "{'edge_indices': (2, 2), 'node_label': (2, 1), 'graph_labels': (1,), 'edge_attributes': (2, 1)}\n",
      "Is dict: True\n"
     ]
    }
   ],
   "source": [
    "import numpy as np\n",
    "from kgcnn.data.base import GraphDict\n",
    "# Single graph.\n",
    "graph = GraphDict({\"edge_indices\": np.array([[1, 0], [0, 1]]), \"node_label\":  np.array([[0], [1]])})\n",
    "graph.set(\"graph_labels\",  np.array([0]))\n",
    "graph.set(\"edge_attributes\", np.array([[1.0], [2.0]]));\n",
    "print({x: v.shape for x,v in graph.items()})\n",
    "print(\"Is dict: %s\" % isinstance(graph, dict))"
   ]
  },
  {
   "cell_type": "markdown",
   "id": "a03f6f6f",
   "metadata": {},
   "source": [
    "The class `GraphDict` can be converted to for example a strict graph representation of `networkx` which keeps track of node and edge changes."
   ]
  },
  {
   "cell_type": "code",
   "execution_count": 41,
   "id": "2a78dd71",
   "metadata": {},
   "outputs": [
    {
     "data": {
      "image/png": "[encoded data removed]",
      "text/plain": [
       "<Figure size 108x108 with 1 Axes>"
      ]
     },
     "metadata": {},
     "output_type": "display_data"
    }
   ],
   "source": [
    "import networkx as nx\n",
    "import matplotlib.pyplot as plt\n",
    "nx_graph = graph.to_networkx()\n",
    "plt.figure(figsize=(1.5,1.5)) \n",
    "nx.draw(nx_graph)\n",
    "plt.show()"
   ]
  },
  {
   "cell_type": "markdown",
   "id": "acf32137",
   "metadata": {},
   "source": [
    "Or compiling a dictionary of (tensorial) graph properties in tensorflow from a `networkx` graph."
   ]
  },
  {
   "cell_type": "code",
   "execution_count": 42,
   "id": "35181b96",
   "metadata": {},
   "outputs": [
    {
     "name": "stdout",
     "output_type": "stream",
     "text": [
      "{'node_number': (8,), 'edge_indices': (12, 2)}\n"
     ]
    }
   ],
   "source": [
    "graph = GraphDict().from_networkx(nx.cubical_graph())\n",
    "print({x: v.shape for x,v in graph.items()})"
   ]
  },
  {
   "cell_type": "markdown",
   "id": "276948b0",
   "metadata": {},
   "source": [
    "There are graph pre- and postprocessors in `kgcnn.graph` which take specific properties by name and apply a processing function or transformation. The processing function can for example compute angle indices based on edges or sort edge indices and sort dependent features accordingly. However, they should be used with caution since they only apply to tensor properties regardless of any underlying graph."
   ]
  },
  {
   "cell_type": "code",
   "execution_count": 43,
   "id": "3f0ae7ca",
   "metadata": {},
   "outputs": [
    {
     "ename": "ImportError",
     "evalue": "cannot import name 'AddSelfLoops' from 'kgcnn.graph.preprocessor' (h:\\postdoc\\project_pycharm\\gcnn_keras\\kgcnn\\graph\\preprocessor.py)",
     "output_type": "error",
     "traceback": [
      "\u001b[1;31m---------------------------------------------------------------------------\u001b[0m",
      "\u001b[1;31mImportError\u001b[0m                               Traceback (most recent call last)",
      "Input \u001b[1;32mIn [43]\u001b[0m, in \u001b[0;36m<module>\u001b[1;34m\u001b[0m\n\u001b[1;32m----> 1\u001b[0m \u001b[38;5;28;01mfrom\u001b[39;00m \u001b[38;5;21;01mkgcnn\u001b[39;00m\u001b[38;5;21;01m.\u001b[39;00m\u001b[38;5;21;01mgraph\u001b[39;00m\u001b[38;5;21;01m.\u001b[39;00m\u001b[38;5;21;01mpreprocessor\u001b[39;00m \u001b[38;5;28;01mimport\u001b[39;00m SortEdgeIndices, AddSelfLoops\n\u001b[0;32m      3\u001b[0m SortEdgeIndices(edge_indices\u001b[38;5;241m=\u001b[39m\u001b[38;5;124m\"\u001b[39m\u001b[38;5;124medge_indices\u001b[39m\u001b[38;5;124m\"\u001b[39m, edge_attributes\u001b[38;5;241m=\u001b[39m\u001b[38;5;124m\"\u001b[39m\u001b[38;5;124m^edge_(?!indices$).*\u001b[39m\u001b[38;5;124m\"\u001b[39m, in_place\u001b[38;5;241m=\u001b[39m\u001b[38;5;28;01mTrue\u001b[39;00m)(graph);\n\u001b[0;32m      4\u001b[0m AddSelfLoops()\n",
      "\u001b[1;31mImportError\u001b[0m: cannot import name 'AddSelfLoops' from 'kgcnn.graph.preprocessor' (h:\\postdoc\\project_pycharm\\gcnn_keras\\kgcnn\\graph\\preprocessor.py)"
     ]
    }
   ],
   "source": [
    "from kgcnn.graph.preprocessor import SortEdgeIndices, AddSelfLoops\n",
    "\n",
    "SortEdgeIndices(edge_indices=\"edge_indices\", edge_attributes=\"^edge_(?!indices$).*\", in_place=True)(graph);\n",
    "AddSelfLoops()"
   ]
  },
  {
   "cell_type": "markdown",
   "id": "af2d580d",
   "metadata": {},
   "source": [
    "## Datasets"
   ]
  },
  {
   "cell_type": "markdown",
   "id": "49aa16ae",
   "metadata": {},
   "source": [
    "## Loading Options"
   ]
  },
  {
   "cell_type": "code",
   "execution_count": null,
   "id": "12e57b40",
   "metadata": {},
   "outputs": [],
   "source": []
  }
 ],
 "metadata": {
  "kernelspec": {
   "display_name": "Python 3 (ipykernel)",
   "language": "python",
   "name": "python3"
  },
  "language_info": {
   "codemirror_mode": {
    "name": "ipython",
    "version": 3
   },
   "file_extension": ".py",
   "mimetype": "text/x-python",
   "name": "python",
   "nbconvert_exporter": "python",
   "pygments_lexer": "ipython3",
   "version": "3.9.7"
  }
 },
 "nbformat": 4,
 "nbformat_minor": 5
}
