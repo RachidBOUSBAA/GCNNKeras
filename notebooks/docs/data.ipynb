{
 "cells": [
  {
   "cell_type": "markdown",
   "id": "40caf714",
   "metadata": {},
   "source": [
    "## Data"
   ]
  },
  {
   "cell_type": "markdown",
   "id": "3bf51c51",
   "metadata": {},
   "source": [
    "## Graph dictionary"
   ]
  },
  {
   "cell_type": "markdown",
   "id": "cbf2ce48",
   "metadata": {},
   "source": [
    "Graphs are represented by a dictionary `GraphDict` of (numpy) arrays which behaves like a python dict. There are graph pre- and postprocessors in `kgcnn.graph` which take specific properties by name and apply a processing function or transformation."
   ]
  },
  {
   "cell_type": "code",
   "execution_count": 3,
   "id": "d8876285",
   "metadata": {},
   "outputs": [],
   "source": [
    "from kgcnn.data.base import GraphDict\n",
    "# Single graph.\n",
    "graph = GraphDict({\"edge_indices\": [[1, 0], [0, 1]], \"node_label\": [[0], [1]]})\n",
    "graph.set(\"graph_labels\", [0])  # use set(), get() to assign (tensor) properties.\n",
    "graph.set(\"edge_attributes\", [[1.0], [2.0]])\n",
    "graph.to_networkx()\n",
    "# Modify with e.g. preprocessor.\n",
    "from kgcnn.graph.preprocessor import SortEdgeIndices\n",
    "SortEdgeIndices(edge_indices=\"edge_indices\", edge_attributes=\"^edge_(?!indices$).*\", in_place=True)(graph);"
   ]
  },
  {
   "cell_type": "markdown",
   "id": "f120cd1b",
   "metadata": {},
   "source": [
    "## Datasets"
   ]
  },
  {
   "cell_type": "markdown",
   "id": "26b6c01f",
   "metadata": {},
   "source": [
    "## Loading Options"
   ]
  },
  {
   "cell_type": "code",
   "execution_count": null,
   "id": "e0ea31f7",
   "metadata": {},
   "outputs": [],
   "source": []
  }
 ],
 "metadata": {
  "kernelspec": {
   "display_name": "Python 3 (ipykernel)",
   "language": "python",
   "name": "python3"
  },
  "language_info": {
   "codemirror_mode": {
    "name": "ipython",
    "version": 3
   },
   "file_extension": ".py",
   "mimetype": "text/x-python",
   "name": "python",
   "nbconvert_exporter": "python",
   "pygments_lexer": "ipython3",
   "version": "3.9.7"
  }
 },
 "nbformat": 4,
 "nbformat_minor": 5
}
