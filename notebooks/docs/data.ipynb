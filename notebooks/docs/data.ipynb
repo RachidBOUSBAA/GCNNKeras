{
 "cells": [
  {
   "cell_type": "markdown",
   "id": "40caf714",
   "metadata": {},
   "source": [
    "# Data"
   ]
  },
  {
   "cell_type": "markdown",
   "id": "068f8d79",
   "metadata": {},
   "source": [
    "There are some data classes in `kgcnn` that can help to store and load graph data. In principle a graph is a collection of the follwing objects in tensor-form:\n",
    "\n",
    "* `nodes_attributes`: Node features of shape `(N, F)` where N is the number of nodes and F is the node feature dimension.\n",
    "* `edge_indices`: Connection list of shape `(M, 2)` where M is the number of edges. The indices denote a connection of incoming or receiving node `i` and outgoing or sending node `j` as `(i, j)`.\n",
    "* `edges_attributes`: Edge features of shape `(M, F)` where M is the number of edges and F is the edge feature dimension.\n",
    "* `graph_attributes`: Graph state information of shape `(F, )` where F denotes the feature dimension.\n",
    "\n",
    "These can be stored in form of numpy arrays in a dictionary type container `GraphDict`. Additional train/test assignment, labels, positions/coordinates, forces or momentum, other connection indices or even symbols or IDs can be added to this dictionary. \n",
    "\n",
    "For multiple small graphs a list of these dictionaries serves to represent the common case of datasets for supervised learning tasks, for example small molecules or crystal structures."
   ]
  },
  {
   "cell_type": "markdown",
   "id": "0746f301",
   "metadata": {},
   "source": [
    "## Graph dictionary"
   ]
  },
  {
   "cell_type": "markdown",
   "id": "ab005f00",
   "metadata": {},
   "source": [
    "Graphs are represented by a dictionary `GraphDict` of (numpy) arrays which behaves like a python dict. In principle the `GraphDict` can take every key and value pair via item operator `[]`. However, for consitency and class methods, keys must be names and values `np.ndarray` . You can use `set` and `get` to out-cast to numpy arrays or run `validate()`. "
   ]
  },
  {
   "cell_type": "code",
   "execution_count": 1,
   "id": "b0698c66",
   "metadata": {},
   "outputs": [
    {
     "name": "stdout",
     "output_type": "stream",
     "text": [
      "{'edge_indices': (2, 2), 'node_label': (2, 1), 'graph_labels': (1,), 'edge_attributes': (2, 1)}\n",
      "Is dict: True\n"
     ]
    }
   ],
   "source": [
    "import numpy as np\n",
    "from kgcnn.data.base import GraphDict\n",
    "# Single graph.\n",
    "graph = GraphDict({\"edge_indices\": np.array([[1, 0], [0, 1]]), \"node_label\":  np.array([[0], [1]])})\n",
    "graph.set(\"graph_labels\",  np.array([0]))\n",
    "graph.set(\"edge_attributes\", np.array([[1.0], [2.0]]));\n",
    "print({x: v.shape for x,v in graph.items()})\n",
    "print(\"Is dict: %s\" % isinstance(graph, dict))"
   ]
  },
  {
   "cell_type": "markdown",
   "id": "cd089da7",
   "metadata": {},
   "source": [
    "The class `GraphDict` can be converted to for example a strict graph representation of `networkx` which keeps track of node and edge changes."
   ]
  },
  {
   "cell_type": "code",
   "execution_count": 2,
   "id": "0b2b5afe",
   "metadata": {},
   "outputs": [
    {
     "data": {
      "image/png": "[encoded data removed]",
      "text/plain": [
       "<Figure size 108x108 with 1 Axes>"
      ]
     },
     "metadata": {},
     "output_type": "display_data"
    }
   ],
   "source": [
    "import networkx as nx\n",
    "import matplotlib.pyplot as plt\n",
    "nx_graph = graph.to_networkx()\n",
    "plt.figure(figsize=(1.5,1.5)) \n",
    "nx.draw(nx_graph)\n",
    "plt.show()"
   ]
  },
  {
   "cell_type": "markdown",
   "id": "36a3782e",
   "metadata": {},
   "source": [
    "Or compiling a dictionary of (tensorial) graph properties from a `networkx` graph."
   ]
  },
  {
   "cell_type": "code",
   "execution_count": 3,
   "id": "026988a0",
   "metadata": {},
   "outputs": [
    {
     "name": "stdout",
     "output_type": "stream",
     "text": [
      "{'node_number': (8,), 'edge_indices': (12, 2)}\n"
     ]
    }
   ],
   "source": [
    "graph = GraphDict().from_networkx(nx.cubical_graph())\n",
    "print({x: v.shape for x,v in graph.items()})"
   ]
  },
  {
   "cell_type": "markdown",
   "id": "feeb3d3f",
   "metadata": {},
   "source": [
    "There are graph pre- and postprocessors in `kgcnn.graph` which take specific properties by name and apply a processing function or transformation. The processing function can for example compute angle indices based on edges or sort edge indices and sort dependent features accordingly. \n",
    "\n",
    "> **WARNING**: However, they should be used with caution since they only apply to tensor properties regardless of any underlying graph.\n",
    "\n",
    "\n",
    "For example `SortEdgeIndices` can sort an 'edge_indices' tensor and sort attributed properties such as 'edge_attributes' or 'edge_labels' or a list of multiple (named) properties accordingly. In the example below a generic search string is also valid. To directly update a `GraphDict` make a preprocessor with `in_place=True` ."
   ]
  },
  {
   "cell_type": "code",
   "execution_count": 4,
   "id": "0fa40e45",
   "metadata": {},
   "outputs": [
    {
     "name": "stdout",
     "output_type": "stream",
     "text": [
      "{'node_number': (8,), 'edge_indices': (20, 2), 'edge_weights': (20, 1)}\n"
     ]
    }
   ],
   "source": [
    "from kgcnn.graph.preprocessor import SortEdgeIndices, AddEdgeSelfLoops, SetEdgeWeightsUniform\n",
    "\n",
    "SortEdgeIndices(edge_indices=\"edge_indices\", edge_attributes=\"^edge_(?!indices$).*\", in_place=True)(graph)\n",
    "SetEdgeWeightsUniform(edge_indices=\"edge_indices\", value=1.0, in_place=True)(graph)\n",
    "AddEdgeSelfLoops(\n",
    "    edge_indices=\"edge_indices\", edge_attributes=\"^edge_(?!indices$).*\", \n",
    "    remove_duplicates=True, sort_indices=True, fill_value=0, in_place=True)(graph);\n",
    "\n",
    "print({x: v.shape for x,v in graph.items()})"
   ]
  },
  {
   "cell_type": "markdown",
   "id": "693bf5d4",
   "metadata": {},
   "source": [
    "## Graph list"
   ]
  },
  {
   "cell_type": "markdown",
   "id": "d569198c",
   "metadata": {},
   "source": [
    "A `MemoryGraphList` should behave identical to a python list but contain only `GraphDict` items."
   ]
  },
  {
   "cell_type": "markdown",
   "id": "8f0b34cb",
   "metadata": {},
   "source": [
    "## Datasets"
   ]
  },
  {
   "cell_type": "markdown",
   "id": "16b000a0",
   "metadata": {},
   "source": [
    "## Model input"
   ]
  },
  {
   "cell_type": "code",
   "execution_count": null,
   "id": "14f98ec3",
   "metadata": {},
   "outputs": [],
   "source": []
  },
  {
   "cell_type": "markdown",
   "id": "d2e08a99",
   "metadata": {},
   "source": [
    "> **note**: You can find this page as jupyter notebook in https://github.com/aimat-lab/gcnn_keras/tree/master/notebooks/docs . "
   ]
  }
 ],
 "metadata": {
  "kernelspec": {
   "display_name": "Python 3 (ipykernel)",
   "language": "python",
   "name": "python3"
  },
  "language_info": {
   "codemirror_mode": {
    "name": "ipython",
    "version": 3
   },
   "file_extension": ".py",
   "mimetype": "text/x-python",
   "name": "python",
   "nbconvert_exporter": "python",
   "pygments_lexer": "ipython3",
   "version": "3.9.7"
  }
 },
 "nbformat": 4,
 "nbformat_minor": 5
}
