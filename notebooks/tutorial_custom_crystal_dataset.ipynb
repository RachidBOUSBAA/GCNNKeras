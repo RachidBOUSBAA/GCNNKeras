{
 "cells": [
  {
   "cell_type": "markdown",
   "id": "9869d1b7",
   "metadata": {},
   "source": [
    "# Crystal Dataset"
   ]
  },
  {
   "cell_type": "code",
   "execution_count": 1,
   "id": "3f012f9b",
   "metadata": {},
   "outputs": [],
   "source": [
    "import pymatgen\n",
    "import pymatgen.core.structure\n",
    "import numpy as np\n",
    "import os"
   ]
  },
  {
   "cell_type": "markdown",
   "id": "5af55431",
   "metadata": {},
   "source": [
    "Prepare some test data."
   ]
  },
  {
   "cell_type": "code",
   "execution_count": 2,
   "id": "e52f2cb3",
   "metadata": {},
   "outputs": [],
   "source": [
    "test_data = [\n",
    "    pymatgen.core.Structure(lattice=np.array([[4.34157255, 0., 2.50660808], [1.44719085, 4.09327385, 2.50660808], [0., 0., 5.01321616]]), species=[\"Te\", \"Ba\"], coords=np.array([[0.5, 0.5, 0.5], [0. , 0. , 0. ]])),\n",
    "    pymatgen.core.Structure(lattice=np.array([[2.95117784, 0., 1.70386332], [0.98372595, 2.78239715, 1.70386332], [0., 0., 3.40772664]]), species=[\"B\", \"As\"], coords=np.array([[0.25, 0.25, 0.25], [0. , 0. , 0. ]])),\n",
    "    pymatgen.core.Structure(lattice=np.array([[4.3015, 0., 0.],[-2.15075, 3.725208, 0.], [0., 0., 5.2703]]), species=[\"Ba\", \"Ga\", \"Si\", \"H\"], coords=np.array([[0., 0., 0.],[0.6666, 0.3333, 0.5423], [0.3334, 0.6667, 0.4555], [0.6666, 0.3333, 0.8759]])),\n",
    "]\n",
    "os.makedirs(\"ExampleCrystal\", exist_ok=True)\n",
    "os.makedirs(\"ExampleCrystal/CifFiles\", exist_ok=True)\n",
    "for i, x in enumerate(test_data):\n",
    "    x.to(filename=\"ExampleCrystal/CifFiles/file_%s.cif\" % i, fmt=\"cif\")\n",
    "csv_data = \"\".join([\n",
    "    \"file_name,index,label\\n\",  # Need header!\n",
    "    \"file_0.cif, 0, 98.58577122703691\\n\",\n",
    "    \"file_1.cif, 1, 701.5857233477558\\n\",\n",
    "    \"file_2.cif, 2, 1138.5856886491724\"\n",
    "])\n",
    "with open(\"ExampleCrystal/data.csv\", \"w\") as f:\n",
    "    f.write(csv_data)"
   ]
  },
  {
   "cell_type": "markdown",
   "id": "5d972eb6",
   "metadata": {},
   "source": [
    "### 0. Crystal dataset\n",
    "\n",
    "Data is organized like:\n",
    "\n",
    " ```bash\n",
    " ├── data_directory\n",
    "    ├── file_directory\n",
    "    │   ├── *.cif\n",
    "    │   ├── *.cif\n",
    "    │   └── ...\n",
    "    ├── file_name.csv\n",
    "    └── file_name.pymatgen.json\n",
    " ```"
   ]
  },
  {
   "cell_type": "code",
   "execution_count": 3,
   "id": "3ae7d2c3",
   "metadata": {},
   "outputs": [],
   "source": [
    "from kgcnn.data.crystal import CrystalDataset"
   ]
  },
  {
   "cell_type": "code",
   "execution_count": 4,
   "id": "1fe66910",
   "metadata": {},
   "outputs": [],
   "source": [
    "dataset = CrystalDataset(\n",
    "    data_directory=\"ExampleCrystal/\", \n",
    "    dataset_name=\"ExampleCrystal\", \n",
    "    file_name=\"data.csv\", \n",
    "    file_directory=\"CifFiles\"\n",
    ")"
   ]
  },
  {
   "cell_type": "markdown",
   "id": "42832256",
   "metadata": {},
   "source": [
    "### 1. Generate a json-serialized list of structures via `prepare_data`"
   ]
  },
  {
   "cell_type": "code",
   "execution_count": 5,
   "id": "3632bba5",
   "metadata": {},
   "outputs": [
    {
     "name": "stderr",
     "output_type": "stream",
     "text": [
      "INFO:kgcnn.data.ExampleCrystal:Searching for structure files in 'ExampleCrystal/CifFiles'\n",
      "INFO:kgcnn.data.ExampleCrystal:Read 3 single files.\n",
      "INFO:kgcnn.data.ExampleCrystal:... Read .cif file 0 from 3\n",
      "C:\\Users\\patri\\anaconda3\\envs\\gcnn_keras_test\\lib\\site-packages\\pymatgen\\io\\cif.py:1224: UserWarning: Issues encountered while parsing CIF: 5 fractional coordinates rounded to ideal values to avoid issues with finite precision.\n",
      "  warnings.warn(\"Issues encountered while parsing CIF: \" + \"\\n\".join(self.warnings))\n",
      "INFO:kgcnn.data.ExampleCrystal:Exporting as dict for pymatgen ...\n",
      "INFO:kgcnn.data.ExampleCrystal:Saving structures as .json ...\n"
     ]
    },
    {
     "data": {
      "text/plain": [
       "<CrystalDataset []>"
      ]
     },
     "execution_count": 5,
     "metadata": {},
     "output_type": "execute_result"
    }
   ],
   "source": [
    "dataset.prepare_data(file_column_name=\"file_name\", overwrite=True)"
   ]
  },
  {
   "cell_type": "markdown",
   "id": "375c1c44",
   "metadata": {},
   "source": [
    "### 2. Read in memory with `read_in_memory`."
   ]
  },
  {
   "cell_type": "code",
   "execution_count": 6,
   "id": "f263c524",
   "metadata": {
    "scrolled": true
   },
   "outputs": [
    {
     "name": "stderr",
     "output_type": "stream",
     "text": [
      "INFO:kgcnn.data.ExampleCrystal:Making node features from structure...\n",
      "INFO:kgcnn.data.ExampleCrystal:Reading structures from .json ...\n",
      "INFO:kgcnn.data.ExampleCrystal: ... read structures 0 from 3\n"
     ]
    },
    {
     "name": "stdout",
     "output_type": "stream",
     "text": [
      "{'graph_labels': array(98.58577123), 'node_coordinates': array([[0.00000000e+00, 0.00000000e+00, 0.00000000e+00],\n",
      "       [1.31245681e-09, 6.13991078e+00, 2.27324404e-09]]), 'node_frac_coordinates': array([[0. , 0. , 0. ],\n",
      "       [0.5, 0.5, 0.5]]), 'graph_lattice': array([[ 1.44719085e+00,  4.09327385e+00,  2.50660808e+00],\n",
      "       [ 1.44719085e+00,  4.09327385e+00, -2.50660808e+00],\n",
      "       [-2.89438170e+00,  4.09327385e+00,  1.51549528e-09]]), 'abc': array([5.01321616, 5.01321616, 5.01321616]), 'charge': array([0.]), 'volume': array([89.0910946]), 'node_number': array([56, 52])}\n"
     ]
    }
   ],
   "source": [
    "dataset.read_in_memory(label_column_name=\"label\")\n",
    "print(dataset[0])"
   ]
  },
  {
   "cell_type": "markdown",
   "id": "3bb2d359",
   "metadata": {},
   "source": [
    "Read pymatgen only via `get_structures_from_json_file`. The structures are not assigned to the dataset but returned by the function."
   ]
  },
  {
   "cell_type": "code",
   "execution_count": 7,
   "id": "d8a29936",
   "metadata": {},
   "outputs": [
    {
     "name": "stderr",
     "output_type": "stream",
     "text": [
      "INFO:kgcnn.data.ExampleCrystal:Reading structures from .json ...\n"
     ]
    },
    {
     "data": {
      "text/plain": [
       "[Structure Summary\n",
       " Lattice\n",
       "     abc : 5.01321616 5.013216158484504 5.0132161584845045\n",
       "  angles : 60.00000002 60.00000001 60.00000001\n",
       "  volume : 89.09109460256703\n",
       "       A : 1.4471908506158624 4.093273852854227 2.5066080815154956\n",
       "       B : 1.4471908506158624 4.093273852854227 -2.506608078484504\n",
       "       C : -2.8943816986068107 4.093273852854227 1.5154952848206449e-09\n",
       "     pbc : True True True\n",
       " PeriodicSite: Ba1 (Ba) (0.0, 0.0, 0.0) [0.0, 0.0, 0.0]\n",
       " PeriodicSite: Te0 (Te) (1.312e-09, 6.14, 2.273e-09) [0.5, 0.5, 0.5],\n",
       " Structure Summary\n",
       " Lattice\n",
       "     abc : 3.40772664 3.4077266405150777 3.407726637424612\n",
       "  angles : 60.000000029999995 60.000000024999984 59.999999995\n",
       "  volume : 27.98203208499981\n",
       "       A : 0.9837259499337652 2.7823971493851167 1.7038633194849222\n",
       "       B : 0.9837259499337652 2.7823971493851167 -1.7038633205150777\n",
       "       C : -1.9674518897566036 2.7823971493851167 -0.0\n",
       "     pbc : True True True\n",
       " PeriodicSite: B0 (B) (7.583e-09, 6.26, -7.726e-10) [0.75, 0.75, 0.75]\n",
       " PeriodicSite: As1 (As) (0.0, 0.0, 0.0) [0.0, 0.0, 0.0],\n",
       " Structure Summary\n",
       " Lattice\n",
       "     abc : 4.301499761018623 4.30149976 5.2703\n",
       "  angles : 90.00000000000001 90.0 119.99999631649949\n",
       "  volume : 84.45119340290724\n",
       "       A : -2.150750001018624 -3.725207997838733 -5.267818059574724e-16\n",
       "       B : -2.150749998981376 3.725207997838733 2.633908956308554e-16\n",
       "       C : 0.0 0.0 -5.2703\n",
       "     pbc : True True True\n",
       " PeriodicSite: Ba0 (Ba) (0.0, 0.0, 0.0) [0.0, 0.0, 0.0]\n",
       " PeriodicSite: Ga1 (Ga) (-2.151, 1.242, -2.412) [0.3333, 0.6667, 0.4577]\n",
       " PeriodicSite: Si2 (Si) (-2.15, -1.242, -2.87) [0.6666, 0.3333, 0.5445]\n",
       " PeriodicSite: H3 (H) (-2.151, 1.242, -0.654) [0.3333, 0.6667, 0.1241]]"
      ]
     },
     "execution_count": 7,
     "metadata": {},
     "output_type": "execute_result"
    }
   ],
   "source": [
    "dataset.get_structures_from_json_file()"
   ]
  },
  {
   "cell_type": "markdown",
   "id": "dccc3129",
   "metadata": {},
   "source": [
    "Or save them directly to json without collecting individual files."
   ]
  },
  {
   "cell_type": "code",
   "execution_count": 8,
   "id": "7cd221bf",
   "metadata": {},
   "outputs": [
    {
     "name": "stderr",
     "output_type": "stream",
     "text": [
      "INFO:kgcnn.data.ExampleCrystal:Exporting as dict for pymatgen ...\n",
      "INFO:kgcnn.data.ExampleCrystal:Saving structures as .json ...\n"
     ]
    }
   ],
   "source": [
    "dataset.save_structures_to_json_file(test_data)"
   ]
  },
  {
   "cell_type": "markdown",
   "id": "2841c4ad",
   "metadata": {},
   "source": [
    "### 3. Generate graph"
   ]
  },
  {
   "cell_type": "code",
   "execution_count": 9,
   "id": "ccfceb8a",
   "metadata": {},
   "outputs": [
    {
     "data": {
      "text/plain": [
       "<CrystalDataset [{'graph_labels': array(98.58577123), 'node_coordinates': array([[0.00000000e+00, 0.00000000e+00, 0.00000000e+00],\n",
       "       [1.31245681e-09, 6.13991078e+00, 2.27324404e-09]]), 'node_frac_coordinates': array([[0. , 0. , 0. ],\n",
       "       [0.5, 0.5, 0.5]]), 'graph_lattice': array([[ 1.44719085e+00,  4.09327385e+00,  2.50660808e+00],\n",
       "       [ 1.44719085e+00,  4.09327385e+00, -2.50660808e+00],\n",
       "       [-2.89438170e+00,  4.09327385e+00,  1.51549528e-09]]), 'abc': array([5.01321616, 5.01321616, 5.01321616]), 'charge': array([0.]), 'volume': array([89.0910946]), 'node_number': array([56, 52]), 'range_indices': array([[0, 1],\n",
       "       [0, 1],\n",
       "       [0, 1],\n",
       "       [0, 1],\n",
       "       [0, 1],\n",
       "       [0, 1],\n",
       "       [1, 0],\n",
       "       [1, 0],\n",
       "       [1, 0],\n",
       "       [1, 0],\n",
       "       [1, 0],\n",
       "       [1, 0]], dtype=int32), 'range_image': array([[-1,  0,  0],\n",
       "       [ 0, -1, -1],\n",
       "       [-1,  0, -1],\n",
       "       [ 0,  0, -1],\n",
       "       [-1, -1,  0],\n",
       "       [ 0, -1,  0],\n",
       "       [ 1,  0,  0],\n",
       "       [ 0,  1,  1],\n",
       "       [ 0,  0,  1],\n",
       "       [ 1,  0,  1],\n",
       "       [ 0,  1,  0],\n",
       "       [ 1,  1,  0]], dtype=int16), 'range_attributes': array([[3.54487914],\n",
       "       [3.54487914],\n",
       "       [3.54487914],\n",
       "       [3.54487914],\n",
       "       [3.54487914],\n",
       "       [3.54487914],\n",
       "       [3.54487914],\n",
       "       [3.54487914],\n",
       "       [3.54487914],\n",
       "       [3.54487914],\n",
       "       [3.54487914],\n",
       "       [3.54487914]])} ...]>"
      ]
     },
     "execution_count": 9,
     "metadata": {},
     "output_type": "execute_result"
    }
   ],
   "source": [
    "dataset.map_list(method=\"set_range_periodic\", max_distance=5.0, max_neighbours=20)"
   ]
  },
  {
   "cell_type": "code",
   "execution_count": 10,
   "id": "415ce564",
   "metadata": {},
   "outputs": [
    {
     "data": {
      "text/plain": [
       "{'graph_labels': array(98.58577123),\n",
       " 'node_coordinates': array([[0.00000000e+00, 0.00000000e+00, 0.00000000e+00],\n",
       "        [1.31245681e-09, 6.13991078e+00, 2.27324404e-09]]),\n",
       " 'node_frac_coordinates': array([[0. , 0. , 0. ],\n",
       "        [0.5, 0.5, 0.5]]),\n",
       " 'graph_lattice': array([[ 1.44719085e+00,  4.09327385e+00,  2.50660808e+00],\n",
       "        [ 1.44719085e+00,  4.09327385e+00, -2.50660808e+00],\n",
       "        [-2.89438170e+00,  4.09327385e+00,  1.51549528e-09]]),\n",
       " 'abc': array([5.01321616, 5.01321616, 5.01321616]),\n",
       " 'charge': array([0.]),\n",
       " 'volume': array([89.0910946]),\n",
       " 'node_number': array([56, 52]),\n",
       " 'range_indices': array([[0, 1],\n",
       "        [0, 1],\n",
       "        [0, 1],\n",
       "        [0, 1],\n",
       "        [0, 1],\n",
       "        [0, 1],\n",
       "        [1, 0],\n",
       "        [1, 0],\n",
       "        [1, 0],\n",
       "        [1, 0],\n",
       "        [1, 0],\n",
       "        [1, 0]], dtype=int32),\n",
       " 'range_image': array([[-1,  0,  0],\n",
       "        [ 0, -1, -1],\n",
       "        [-1,  0, -1],\n",
       "        [ 0,  0, -1],\n",
       "        [-1, -1,  0],\n",
       "        [ 0, -1,  0],\n",
       "        [ 1,  0,  0],\n",
       "        [ 0,  1,  1],\n",
       "        [ 0,  0,  1],\n",
       "        [ 1,  0,  1],\n",
       "        [ 0,  1,  0],\n",
       "        [ 1,  1,  0]], dtype=int16),\n",
       " 'range_attributes': array([[3.54487914],\n",
       "        [3.54487914],\n",
       "        [3.54487914],\n",
       "        [3.54487914],\n",
       "        [3.54487914],\n",
       "        [3.54487914],\n",
       "        [3.54487914],\n",
       "        [3.54487914],\n",
       "        [3.54487914],\n",
       "        [3.54487914],\n",
       "        [3.54487914],\n",
       "        [3.54487914]])}"
      ]
     },
     "execution_count": 10,
     "metadata": {},
     "output_type": "execute_result"
    }
   ],
   "source": [
    "dataset[0]"
   ]
  },
  {
   "cell_type": "markdown",
   "id": "88f07d0d",
   "metadata": {},
   "source": [
    "### 4. Model training"
   ]
  },
  {
   "cell_type": "code",
   "execution_count": 11,
   "id": "c6fd8c98",
   "metadata": {},
   "outputs": [],
   "source": [
    "from kgcnn.literature.Schnet import make_crystal_model\n",
    "from keras.optimizers import Adam"
   ]
  },
  {
   "cell_type": "code",
   "execution_count": 12,
   "id": "65a00242",
   "metadata": {},
   "outputs": [
    {
     "name": "stderr",
     "output_type": "stream",
     "text": [
      "WARNING:kgcnn.models.utils:Model kwargs: Overwriting dictionary of output_mlp with None\n",
      "INFO:kgcnn.models.utils:Updated model kwargs: '{'name': 'Schnet', 'inputs': [{'shape': (None,), 'name': 'node_number', 'dtype': 'int64', 'ragged': True}, {'shape': (None, 3), 'name': 'node_coordinates', 'dtype': 'float32', 'ragged': True}, {'shape': (None, 2), 'name': 'range_indices', 'dtype': 'int64', 'ragged': True}, {'shape': (None, 3), 'name': 'range_image', 'dtype': 'int64', 'ragged': True}, {'shape': (3, 3), 'name': 'graph_lattice', 'dtype': 'float32', 'ragged': False}], 'input_tensor_type': 'ragged', 'input_embedding': None, 'cast_disjoint_kwargs': {}, 'input_node_embedding': {'input_dim': 95, 'output_dim': 64}, 'make_distance': True, 'expand_distance': True, 'interaction_args': {'units': 128, 'use_bias': True, 'activation': {'class_name': 'function', 'config': 'kgcnn>shifted_softplus'}, 'cfconv_pool': 'scatter_sum'}, 'node_pooling_args': {'pooling_method': 'scatter_mean'}, 'depth': 4, 'gauss_args': {'bins': 25, 'distance': 5, 'offset': 0.0, 'sigma': 0.4}, 'verbose': 10, 'last_mlp': {'use_bias': [True, True, True], 'units': [128, 64, 1], 'activation': [{'class_name': 'function', 'config': 'kgcnn>shifted_softplus'}, {'class_name': 'function', 'config': 'kgcnn>shifted_softplus'}, 'linear']}, 'output_embedding': 'graph', 'output_to_tensor': None, 'use_output_mlp': False, 'output_scaling': None, 'output_tensor_type': 'padded', 'output_mlp': None}'.\n"
     ]
    }
   ],
   "source": [
    "model_config = {\n",
    "    \"name\": \"Schnet\",\n",
    "    \"inputs\": [\n",
    "        {'shape': (None,), 'name': \"node_number\", 'dtype': 'int64', 'ragged': True},\n",
    "        {'shape': (None, 3), 'name': \"node_coordinates\", 'dtype': 'float32', 'ragged': True},\n",
    "        {'shape': (None, 2), 'name': \"range_indices\", 'dtype': 'int64', 'ragged': True},\n",
    "        {'shape': (None, 3), 'name': \"range_image\", 'dtype': 'int64', 'ragged': True},\n",
    "        {'shape': (3, 3), 'name': \"graph_lattice\", 'dtype': 'float32', 'ragged': False}\n",
    "    ],\n",
    "    \"input_tensor_type\": \"ragged\",\n",
    "    \"input_node_embedding\": {\"input_dim\": 95, \"output_dim\": 64},\n",
    "    \"interaction_args\": {\n",
    "        \"units\": 128, \"use_bias\": True, \n",
    "        \"activation\": {\"class_name\": \"function\", \"config\": 'kgcnn>shifted_softplus'}, \n",
    "        \"cfconv_pool\": \"scatter_sum\"\n",
    "    },\n",
    "    \"node_pooling_args\": {\"pooling_method\": \"scatter_mean\"},\n",
    "    \"depth\": 4,\n",
    "    \"gauss_args\": {\"bins\": 25, \"distance\": 5, \"offset\": 0.0, \"sigma\": 0.4}, \"verbose\": 10,\n",
    "    \"last_mlp\": {\"use_bias\": [True, True, True], \"units\": [128, 64, 1],\n",
    "                 \"activation\": [\n",
    "                     {\"class_name\": \"function\", \"config\": 'kgcnn>shifted_softplus'}, \n",
    "                     {\"class_name\": \"function\", \"config\": 'kgcnn>shifted_softplus'}, \n",
    "                     'linear'\n",
    "                 ]},\n",
    "    \"output_embedding\": \"graph\",\n",
    "    \"use_output_mlp\": False,\n",
    "    \"output_mlp\": None,  # Last MLP sets output dimension if None.\n",
    "}\n",
    "model = make_crystal_model(**model_config)"
   ]
  },
  {
   "cell_type": "code",
   "execution_count": 13,
   "id": "9630cdf3",
   "metadata": {},
   "outputs": [
    {
     "name": "stderr",
     "output_type": "stream",
     "text": [
      "INFO:kgcnn.data.ExampleCrystal:No invalid graphs for assigned properties found.\n"
     ]
    },
    {
     "data": {
      "text/plain": [
       "array([], dtype=int32)"
      ]
     },
     "execution_count": 13,
     "metadata": {},
     "output_type": "execute_result"
    }
   ],
   "source": [
    "dataset.clean(model_config[\"inputs\"])"
   ]
  },
  {
   "cell_type": "code",
   "execution_count": 14,
   "id": "a36e6f6a",
   "metadata": {},
   "outputs": [
    {
     "data": {
      "text/plain": [
       "(3, 1)"
      ]
     },
     "execution_count": 14,
     "metadata": {},
     "output_type": "execute_result"
    }
   ],
   "source": [
    "y_train = np.expand_dims(dataset.get(\"graph_labels\"), axis=-1)/1000  # Change units by 1000\n",
    "x_train = dataset.tensor(model_config[\"inputs\"])\n",
    "y_train.shape"
   ]
  },
  {
   "cell_type": "code",
   "execution_count": 15,
   "id": "5c61ef2c",
   "metadata": {},
   "outputs": [
    {
     "name": "stdout",
     "output_type": "stream",
     "text": [
      "\u001b[1m1/1\u001b[0m \u001b[32m━━━━━━━━━━━━━━━━━━━━\u001b[0m\u001b[37m\u001b[0m \u001b[1m1s\u001b[0m 520ms/step\n",
      "Epoch 1/20\n",
      "1/1 - 4s - 4s/step - loss: 0.6491 - mean_absolute_error: 0.6491\n",
      "Epoch 2/20\n",
      "1/1 - 0s - 23ms/step - loss: 0.6362 - mean_absolute_error: 0.6362\n",
      "Epoch 3/20\n",
      "1/1 - 0s - 22ms/step - loss: 0.6232 - mean_absolute_error: 0.6232\n",
      "Epoch 4/20\n",
      "1/1 - 0s - 20ms/step - loss: 0.6097 - mean_absolute_error: 0.6097\n",
      "Epoch 5/20\n",
      "1/1 - 0s - 21ms/step - loss: 0.5952 - mean_absolute_error: 0.5952\n",
      "Epoch 6/20\n",
      "1/1 - 0s - 24ms/step - loss: 0.5795 - mean_absolute_error: 0.5795\n",
      "Epoch 7/20\n",
      "1/1 - 0s - 23ms/step - loss: 0.5622 - mean_absolute_error: 0.5622\n",
      "Epoch 8/20\n",
      "1/1 - 0s - 23ms/step - loss: 0.5429 - mean_absolute_error: 0.5429\n",
      "Epoch 9/20\n",
      "1/1 - 0s - 23ms/step - loss: 0.5210 - mean_absolute_error: 0.5210\n",
      "Epoch 10/20\n",
      "1/1 - 0s - 24ms/step - loss: 0.4960 - mean_absolute_error: 0.4960\n",
      "Epoch 11/20\n",
      "1/1 - 0s - 23ms/step - loss: 0.4674 - mean_absolute_error: 0.4674\n",
      "Epoch 12/20\n",
      "1/1 - 0s - 23ms/step - loss: 0.4343 - mean_absolute_error: 0.4343\n",
      "Epoch 13/20\n",
      "1/1 - 0s - 24ms/step - loss: 0.3959 - mean_absolute_error: 0.3959\n",
      "Epoch 14/20\n",
      "1/1 - 0s - 25ms/step - loss: 0.3512 - mean_absolute_error: 0.3512\n",
      "Epoch 15/20\n",
      "1/1 - 0s - 24ms/step - loss: 0.2989 - mean_absolute_error: 0.2989\n",
      "Epoch 16/20\n",
      "1/1 - 0s - 23ms/step - loss: 0.2591 - mean_absolute_error: 0.2591\n",
      "Epoch 17/20\n",
      "1/1 - 0s - 21ms/step - loss: 0.2700 - mean_absolute_error: 0.2700\n",
      "Epoch 18/20\n",
      "1/1 - 0s - 22ms/step - loss: 0.2699 - mean_absolute_error: 0.2699\n",
      "Epoch 19/20\n",
      "1/1 - 0s - 22ms/step - loss: 0.2601 - mean_absolute_error: 0.2601\n",
      "Epoch 20/20\n",
      "1/1 - 0s - 21ms/step - loss: 0.2422 - mean_absolute_error: 0.2422\n"
     ]
    },
    {
     "data": {
      "text/plain": [
       "<keras.src.callbacks.history.History at 0x1b974302110>"
      ]
     },
     "execution_count": 15,
     "metadata": {},
     "output_type": "execute_result"
    }
   ],
   "source": [
    "model.compile(\n",
    "    loss=\"mean_absolute_error\",\n",
    "    optimizer=Adam(learning_rate=1e-04),\n",
    "    metrics=[\"mean_absolute_error\"],\n",
    ")\n",
    "\n",
    "# Build model with reasonable data.\n",
    "model.predict(x_train)\n",
    "model._compile_metrics.build(y_train, y_train)\n",
    "model._compile_loss.build(y_train, y_train)\n",
    "\n",
    "model.fit(\n",
    "    x_train, y_train,\n",
    "    shuffle=True,\n",
    "    batch_size=3,\n",
    "    epochs=20,\n",
    "    verbose=2,\n",
    ")"
   ]
  },
  {
   "cell_type": "code",
   "execution_count": null,
   "id": "e3812d4e-9364-451e-b37b-2c746b59dea5",
   "metadata": {},
   "outputs": [],
   "source": []
  }
 ],
 "metadata": {
  "kernelspec": {
   "display_name": "Python 3 (ipykernel)",
   "language": "python",
   "name": "python3"
  },
  "language_info": {
   "codemirror_mode": {
    "name": "ipython",
    "version": 3
   },
   "file_extension": ".py",
   "mimetype": "text/x-python",
   "name": "python",
   "nbconvert_exporter": "python",
   "pygments_lexer": "ipython3",
   "version": "3.10.5"
  }
 },
 "nbformat": 4,
 "nbformat_minor": 5
}
