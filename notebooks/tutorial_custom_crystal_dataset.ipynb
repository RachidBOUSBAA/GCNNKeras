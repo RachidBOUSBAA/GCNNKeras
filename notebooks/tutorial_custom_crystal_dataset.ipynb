{
 "cells": [
  {
   "cell_type": "markdown",
   "id": "de7bda15",
   "metadata": {},
   "source": [
    "# Crystal Dataset"
   ]
  },
  {
   "cell_type": "code",
   "execution_count": 3,
   "id": "02b8f3f8",
   "metadata": {},
   "outputs": [],
   "source": [
    "import pymatgen"
   ]
  },
  {
   "cell_type": "code",
   "execution_count": null,
   "id": "154b234f",
   "metadata": {},
   "outputs": [],
   "source": [
    "test_data = [\n",
    "    pymatgen.core.Structure()\n",
    "]"
   ]
  },
  {
   "cell_type": "code",
   "execution_count": 10,
   "id": "cee53963",
   "metadata": {},
   "outputs": [],
   "source": [
    "from kgcnn.data.datasets.MatProjectPhononsDataset import MatProjectPhononsDataset"
   ]
  },
  {
   "cell_type": "code",
   "execution_count": 13,
   "id": "b6b9e320",
   "metadata": {},
   "outputs": [
    {
     "name": "stderr",
     "output_type": "stream",
     "text": [
      "INFO:kgcnn.data.download:Checking and possibly downloading dataset with name matbench_phonons\n",
      "INFO:kgcnn.data.download:Dataset directory located at C:\\Users\\patri\\.kgcnn\\datasets\n",
      "INFO:kgcnn.data.download:Dataset directory found. Done.\n",
      "INFO:kgcnn.data.download:Dataset found. Done.\n",
      "INFO:kgcnn.data.download:Extracted file exists. Done.\n",
      "INFO:kgcnn.data.download:Not extracting gz-file. Stopped.\n",
      "INFO:kgcnn.data.matbench_phonons:Found matbench_phonons.pymatgen.json of structures.\n",
      "INFO:kgcnn.data.matbench_phonons:Making node features from structure...\n",
      "INFO:kgcnn.data.matbench_phonons:Reading structures from .json ...\n",
      "INFO:kgcnn.data.matbench_phonons: ... read structures 0 from 1265\n"
     ]
    }
   ],
   "source": [
    "data = MatProjectPhononsDataset()"
   ]
  },
  {
   "cell_type": "code",
   "execution_count": 14,
   "id": "1f4dc2bc",
   "metadata": {},
   "outputs": [
    {
     "data": {
      "text/plain": [
       "{'graph_labels': array(98.58577123),\n",
       " 'node_coordinates': array([[2.8943817 , 2.04663693, 5.01321616],\n",
       "        [0.        , 0.        , 0.        ]]),\n",
       " 'node_frac_coordinates': array([[0.5, 0.5, 0.5],\n",
       "        [0. , 0. , 0. ]]),\n",
       " 'graph_lattice': array([[4.34157255, 0.        , 2.50660808],\n",
       "        [1.44719085, 4.09327385, 2.50660808],\n",
       "        [0.        , 0.        , 5.01321616]]),\n",
       " 'abc': array([5.01321616, 5.01321616, 5.01321616]),\n",
       " 'charge': array([0.]),\n",
       " 'volume': array([89.09109456]),\n",
       " 'node_number': array([52, 56])}"
      ]
     },
     "execution_count": 14,
     "metadata": {},
     "output_type": "execute_result"
    }
   ],
   "source": [
    "data[0]"
   ]
  },
  {
   "cell_type": "code",
   "execution_count": null,
   "id": "d916060a",
   "metadata": {},
   "outputs": [],
   "source": []
  }
 ],
 "metadata": {
  "kernelspec": {
   "display_name": "Python 3 (ipykernel)",
   "language": "python",
   "name": "python3"
  },
  "language_info": {
   "codemirror_mode": {
    "name": "ipython",
    "version": 3
   },
   "file_extension": ".py",
   "mimetype": "text/x-python",
   "name": "python",
   "nbconvert_exporter": "python",
   "pygments_lexer": "ipython3",
   "version": "3.9.7"
  }
 },
 "nbformat": 4,
 "nbformat_minor": 5
}
