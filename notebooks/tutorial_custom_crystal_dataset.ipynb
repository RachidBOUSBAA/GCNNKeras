{
 "cells": [
  {
   "cell_type": "markdown",
   "id": "607dce0d",
   "metadata": {},
   "source": [
    "# Crystal Dataset"
   ]
  },
  {
   "cell_type": "code",
   "execution_count": 1,
   "id": "3820cb8d",
   "metadata": {},
   "outputs": [],
   "source": [
    "import pymatgen\n",
    "import pymatgen.core.structure\n",
    "import numpy as np\n",
    "import os"
   ]
  },
  {
   "cell_type": "markdown",
   "id": "98aae212",
   "metadata": {},
   "source": [
    " Prepare some test data. The data structure is as follows:\n",
    " \n",
    " ```bash\n",
    " ├── data_directory\n",
    "    ├── file_directory\n",
    "    │   ├── *.cif\n",
    "    │   ├── *.cif\n",
    "    │   └── ...\n",
    "    ├── file_name.csv\n",
    "    └── file_name.pymatgen.json\n",
    " ```"
   ]
  },
  {
   "cell_type": "code",
   "execution_count": 2,
   "id": "dcdd9f45",
   "metadata": {},
   "outputs": [],
   "source": [
    "test_data = [\n",
    "    pymatgen.core.Structure(lattice=np.array([[4.34157255, 0., 2.50660808], [1.44719085, 4.09327385, 2.50660808], [0., 0., 5.01321616]]), species=[\"Te\", \"Ba\"], coords=np.array([[0.5, 0.5, 0.5], [0. , 0. , 0. ]])),\n",
    "    pymatgen.core.Structure(lattice=np.array([[2.95117784, 0., 1.70386332], [0.98372595, 2.78239715, 1.70386332], [0., 0., 3.40772664]]), species=[\"B\", \"As\"], coords=np.array([[0.25, 0.25, 0.25], [0. , 0. , 0. ]])),\n",
    "    pymatgen.core.Structure(lattice=np.array([[4.3015, 0., 0.],[-2.15075, 3.725208, 0.], [0., 0., 5.2703]]), species=[\"Ba\", \"Ga\", \"Si\", \"H\"], coords=np.array([[0., 0., 0.],[0.6666, 0.3333, 0.5423], [0.3334, 0.6667, 0.4555], [0.6666, 0.3333, 0.8759]])),\n",
    "]\n",
    "os.makedirs(\"ExampleCrystal\", exist_ok=True)\n",
    "os.makedirs(\"ExampleCrystal/CifFiles\", exist_ok=True)\n",
    "for i, x in enumerate(test_data):\n",
    "    x.to(filename=\"ExampleCrystal/CifFiles/file_%s.cif\" % i, fmt=\"cif\")\n",
    "csv_data = \"\".join([\n",
    "    \"file_name,index,label\\n\",  # Need header!\n",
    "    \"file_0.cif, 0, 98.58577122703691\\n\",\n",
    "    \"file_1.cif, 1, 701.5857233477558\\n\",\n",
    "    \"file_2.cif, 2, 1138.5856886491724\"\n",
    "])\n",
    "with open(\"ExampleCrystal/data.csv\", \"w\") as f:\n",
    "    f.write(csv_data)"
   ]
  },
  {
   "cell_type": "code",
   "execution_count": 3,
   "id": "50963584",
   "metadata": {},
   "outputs": [
    {
     "name": "stderr",
     "output_type": "stream",
     "text": [
      "WARNING:kgcnn.crystal.base:Modules in `kgcnn.crystal` are still in development and not fully tested.\n"
     ]
    }
   ],
   "source": [
    "from kgcnn.data.crystal import CrystalDataset"
   ]
  },
  {
   "cell_type": "code",
   "execution_count": 4,
   "id": "7e297a22",
   "metadata": {},
   "outputs": [],
   "source": [
    "dataset = CrystalDataset(\n",
    "    data_directory=\"ExampleCrystal/\", \n",
    "    dataset_name=\"ExampleCrystal\", \n",
    "    file_name=\"data.csv\", \n",
    "    file_directory=\"CifFiles\"\n",
    ")"
   ]
  },
  {
   "cell_type": "markdown",
   "id": "bf477f31",
   "metadata": {},
   "source": [
    "Generate a json-serialized list of structures via `prepare_data`"
   ]
  },
  {
   "cell_type": "code",
   "execution_count": 5,
   "id": "791f5280",
   "metadata": {},
   "outputs": [
    {
     "name": "stderr",
     "output_type": "stream",
     "text": [
      "INFO:kgcnn.data.ExampleCrystal:Read 3 cif-file via pymatgen ...\n",
      "INFO:kgcnn.data.ExampleCrystal: ... load structure 0 from 3\n",
      "C:\\Users\\patri\\anaconda3\\envs\\gcnn_keras_test\\lib\\site-packages\\pymatgen\\io\\cif.py:1153: UserWarning: Issues encountered while parsing CIF: Some fractional coordinates rounded to ideal values to avoid issues with finite precision.\n",
      "  warnings.warn(\"Issues encountered while parsing CIF: \" + \"\\n\".join(self.warnings))\n",
      "INFO:kgcnn.data.ExampleCrystal:Exporting as dict for pymatgen ...\n",
      "INFO:kgcnn.data.ExampleCrystal:Saving structures as .json ...\n"
     ]
    },
    {
     "data": {
      "text/plain": [
       "<kgcnn.data.crystal.CrystalDataset at 0x2064ffe0c40>"
      ]
     },
     "execution_count": 5,
     "metadata": {},
     "output_type": "execute_result"
    }
   ],
   "source": [
    "dataset.prepare_data(file_column_name=\"file_name\", overwrite=True)"
   ]
  },
  {
   "cell_type": "markdown",
   "id": "65f3616c",
   "metadata": {},
   "source": [
    "Read in memory with `read_in_memory`."
   ]
  },
  {
   "cell_type": "code",
   "execution_count": 6,
   "id": "b6893f75",
   "metadata": {},
   "outputs": [
    {
     "name": "stderr",
     "output_type": "stream",
     "text": [
      "INFO:kgcnn.data.ExampleCrystal:Making node features from structure...\n",
      "INFO:kgcnn.data.ExampleCrystal:Reading structures from .json ...\n",
      "INFO:kgcnn.data.ExampleCrystal: ... read structures 0 from 3\n"
     ]
    },
    {
     "name": "stdout",
     "output_type": "stream",
     "text": [
      "{'graph_labels': array(98.58577123), 'node_coordinates': array([[0.00000000e+00, 0.00000000e+00, 0.00000000e+00],\n",
      "       [1.31245659e-09, 6.13991078e+00, 2.27324426e-09]]), 'node_frac_coordinates': array([[0. , 0. , 0. ],\n",
      "       [0.5, 0.5, 0.5]]), 'graph_lattice': array([[ 1.44719085e+00,  4.09327385e+00,  2.50660808e+00],\n",
      "       [ 1.44719085e+00,  4.09327385e+00, -2.50660808e+00],\n",
      "       [-2.89438170e+00,  4.09327385e+00,  1.51549528e-09]]), 'abc': array([5.01321616, 5.01321616, 5.01321616]), 'charge': array([0.]), 'volume': array([89.0910946]), 'node_number': array([56, 52])}\n"
     ]
    }
   ],
   "source": [
    "dataset.read_in_memory(label_column_name=\"label\")\n",
    "print(dataset[0])"
   ]
  },
  {
   "cell_type": "markdown",
   "id": "1e3e46d6",
   "metadata": {},
   "source": [
    "Read pymatgen only via `load_pymatgen_structures`. The structures are not assigned to the dataset but returned by the function."
   ]
  },
  {
   "cell_type": "code",
   "execution_count": 9,
   "id": "84d5fdd3",
   "metadata": {},
   "outputs": [
    {
     "name": "stderr",
     "output_type": "stream",
     "text": [
      "INFO:kgcnn.data.ExampleCrystal:Reading structures from .json ...\n"
     ]
    },
    {
     "data": {
      "text/plain": [
       "[Structure Summary\n",
       " Lattice\n",
       "     abc : 5.013216160673185 5.013216156734002 5.01321616\n",
       "  angles : 59.999999978449296 60.00000000444202 59.999999976968624\n",
       "  volume : 89.09109455639522\n",
       "       A : 4.34157255 0.0 2.50660808\n",
       "       B : 1.44719085 4.09327385 2.50660808\n",
       "       C : 0.0 0.0 5.01321616\n",
       "     pbc : True True True\n",
       " PeriodicSite: Te (2.8944, 2.0466, 5.0132) [0.5000, 0.5000, 0.5000]\n",
       " PeriodicSite: Ba (0.0000, 0.0000, 0.0000) [0.0000, 0.0000, 0.0000],\n",
       " Structure Summary\n",
       " Lattice\n",
       "     abc : 3.407726640525688 3.4077266407787095 3.40772664\n",
       "  angles : 60.000000007559144 60.000000005103 59.99999994981319\n",
       "  volume : 27.982032094119386\n",
       "       A : 2.95117784 0.0 1.70386332\n",
       "       B : 0.98372595 2.78239715 1.70386332\n",
       "       C : 0.0 0.0 3.40772664\n",
       "     pbc : True True True\n",
       " PeriodicSite: B (0.9837, 0.6956, 1.7039) [0.2500, 0.2500, 0.2500]\n",
       " PeriodicSite: As (0.0000, 0.0000, 0.0000) [0.0000, 0.0000, 0.0000],\n",
       " Structure Summary\n",
       " Lattice\n",
       "     abc : 4.3015 4.301499762381023 5.2703\n",
       "  angles : 90.0 90.0 120.00000182735626\n",
       "  volume : 84.45119345190359\n",
       "       A : 4.3015 0.0 0.0\n",
       "       B : -2.15075 3.725208 0.0\n",
       "       C : 0.0 0.0 5.2703\n",
       "     pbc : True True True\n",
       " PeriodicSite: Ba (0.0000, 0.0000, 0.0000) [0.0000, 0.0000, 0.0000]\n",
       " PeriodicSite: Ga (2.1505, 1.2416, 2.8581) [0.6666, 0.3333, 0.5423]\n",
       " PeriodicSite: Si (0.0002, 2.4836, 2.4006) [0.3334, 0.6667, 0.4555]\n",
       " PeriodicSite: H (2.1505, 1.2416, 4.6163) [0.6666, 0.3333, 0.8759]]"
      ]
     },
     "execution_count": 9,
     "metadata": {},
     "output_type": "execute_result"
    }
   ],
   "source": [
    "dataset.load_pymatgen_structures()"
   ]
  },
  {
   "cell_type": "markdown",
   "id": "044369cd",
   "metadata": {},
   "source": [
    "Or save them directly to json without collecting individual files."
   ]
  },
  {
   "cell_type": "code",
   "execution_count": 8,
   "id": "c1ca1da0",
   "metadata": {},
   "outputs": [
    {
     "name": "stderr",
     "output_type": "stream",
     "text": [
      "INFO:kgcnn.data.ExampleCrystal:Exporting as dict for pymatgen ...\n",
      "INFO:kgcnn.data.ExampleCrystal:Saving structures as .json ...\n"
     ]
    }
   ],
   "source": [
    "dataset.save_pymatgen_structures(test_data)"
   ]
  },
  {
   "cell_type": "code",
   "execution_count": null,
   "id": "ac02e3b5",
   "metadata": {},
   "outputs": [],
   "source": []
  }
 ],
 "metadata": {
  "kernelspec": {
   "display_name": "Python 3 (ipykernel)",
   "language": "python",
   "name": "python3"
  },
  "language_info": {
   "codemirror_mode": {
    "name": "ipython",
    "version": 3
   },
   "file_extension": ".py",
   "mimetype": "text/x-python",
   "name": "python",
   "nbconvert_exporter": "python",
   "pygments_lexer": "ipython3",
   "version": "3.9.7"
  }
 },
 "nbformat": 4,
 "nbformat_minor": 5
}
