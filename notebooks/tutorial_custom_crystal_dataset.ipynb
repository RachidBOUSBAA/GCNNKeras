{
 "cells": [
  {
   "cell_type": "markdown",
   "id": "4ce1273e",
   "metadata": {},
   "source": [
    "# Crystal Dataset"
   ]
  },
  {
   "cell_type": "code",
   "execution_count": 9,
   "id": "11704d20",
   "metadata": {},
   "outputs": [],
   "source": [
    "import pymatgen\n",
    "import pymatgen.core.structure\n",
    "import numpy as np\n",
    "import os"
   ]
  },
  {
   "cell_type": "markdown",
   "id": "e60135ae",
   "metadata": {},
   "source": [
    "Prepare some test data."
   ]
  },
  {
   "cell_type": "code",
   "execution_count": 10,
   "id": "5618c8c2",
   "metadata": {},
   "outputs": [],
   "source": [
    "test_data = [\n",
    "    pymatgen.core.Structure(lattice=np.array([[4.34157255, 0., 2.50660808], [1.44719085, 4.09327385, 2.50660808], [0., 0., 5.01321616]]), species=[\"Te\", \"Ba\"], coords=np.array([[0.5, 0.5, 0.5], [0. , 0. , 0. ]])),\n",
    "    pymatgen.core.Structure(lattice=np.array([[2.95117784, 0., 1.70386332], [0.98372595, 2.78239715, 1.70386332], [0., 0., 3.40772664]]), species=[\"B\", \"As\"], coords=np.array([[0.25, 0.25, 0.25], [0. , 0. , 0. ]])),\n",
    "    pymatgen.core.Structure(lattice=np.array([[4.3015, 0., 0.],[-2.15075, 3.725208, 0.], [0., 0., 5.2703]]), species=[\"Ba\", \"Ga\", \"Si\", \"H\"], coords=np.array([[0., 0., 0.],[0.6666, 0.3333, 0.5423], [0.3334, 0.6667, 0.4555], [0.6666, 0.3333, 0.8759]])),\n",
    "]\n",
    "os.makedirs(\"ExampleCrystal\", exist_ok=True)\n",
    "os.makedirs(\"ExampleCrystal/CifFiles\", exist_ok=True)\n",
    "for i, x in enumerate(test_data):\n",
    "    x.to(filename=\"ExampleCrystal/CifFiles/file_%s.cif\" % i, fmt=\"cif\")\n",
    "csv_data = \"\".join([\n",
    "    \"file_name,index,label\\n\",  # Need header!\n",
    "    \"file_0.cif, 0, 98.58577122703691\\n\",\n",
    "    \"file_1.cif, 1, 701.5857233477558\\n\",\n",
    "    \"file_2.cif, 2, 1138.5856886491724\"\n",
    "])\n",
    "with open(\"ExampleCrystal/data.csv\", \"w\") as f:\n",
    "    f.write(csv_data)"
   ]
  },
  {
   "cell_type": "code",
   "execution_count": 11,
   "id": "74f93196",
   "metadata": {},
   "outputs": [
    {
     "ename": "SyntaxError",
     "evalue": "invalid syntax (2826302219.py, line 3)",
     "output_type": "error",
     "traceback": [
      "\u001b[1;36m  Input \u001b[1;32mIn [11]\u001b[1;36m\u001b[0m\n\u001b[1;33m    Data is organized like:\u001b[0m\n\u001b[1;37m                      ^\u001b[0m\n\u001b[1;31mSyntaxError\u001b[0m\u001b[1;31m:\u001b[0m invalid syntax\n"
     ]
    }
   ],
   "source": [
    "### 0. Crystal dataset\n",
    "\n",
    "Data is organized like:\n",
    "\n",
    " ```bash\n",
    " ├── data_directory\n",
    "    ├── file_directory\n",
    "    │   ├── *.cif\n",
    "    │   ├── *.cif\n",
    "    │   └── ...\n",
    "    ├── file_name.csv\n",
    "    └── file_name.pymatgen.json\n",
    " ```"
   ]
  },
  {
   "cell_type": "code",
   "execution_count": 3,
   "id": "9729007e",
   "metadata": {},
   "outputs": [
    {
     "name": "stderr",
     "output_type": "stream",
     "text": [
      "WARNING:kgcnn.crystal.base:Modules in `kgcnn.crystal` are still in development and not fully tested.\n"
     ]
    }
   ],
   "source": [
    "from kgcnn.data.crystal import CrystalDataset"
   ]
  },
  {
   "cell_type": "code",
   "execution_count": 4,
   "id": "df2a08bb",
   "metadata": {},
   "outputs": [],
   "source": [
    "dataset = CrystalDataset(\n",
    "    data_directory=\"ExampleCrystal/\", \n",
    "    dataset_name=\"ExampleCrystal\", \n",
    "    file_name=\"data.csv\", \n",
    "    file_directory=\"CifFiles\"\n",
    ")"
   ]
  },
  {
   "cell_type": "markdown",
   "id": "89b4201b",
   "metadata": {},
   "source": [
    "### 1. Generate a json-serialized list of structures via `prepare_data`"
   ]
  },
  {
   "cell_type": "code",
   "execution_count": 5,
   "id": "ddbda6e7",
   "metadata": {},
   "outputs": [
    {
     "name": "stderr",
     "output_type": "stream",
     "text": [
      "INFO:kgcnn.data.ExampleCrystal:Read 3 cif-file via pymatgen ...\n",
      "INFO:kgcnn.data.ExampleCrystal: ... load structure 0 from 3\n",
      "C:\\Users\\patri\\anaconda3\\envs\\gcnn_keras_test\\lib\\site-packages\\pymatgen\\io\\cif.py:1153: UserWarning: Issues encountered while parsing CIF: Some fractional coordinates rounded to ideal values to avoid issues with finite precision.\n",
      "  warnings.warn(\"Issues encountered while parsing CIF: \" + \"\\n\".join(self.warnings))\n",
      "INFO:kgcnn.data.ExampleCrystal:Exporting as dict for pymatgen ...\n",
      "INFO:kgcnn.data.ExampleCrystal:Saving structures as .json ...\n"
     ]
    },
    {
     "data": {
      "text/plain": [
       "<kgcnn.data.crystal.CrystalDataset at 0x2ceb8d3db50>"
      ]
     },
     "execution_count": 5,
     "metadata": {},
     "output_type": "execute_result"
    }
   ],
   "source": [
    "dataset.prepare_data(file_column_name=\"file_name\", overwrite=True)"
   ]
  },
  {
   "cell_type": "markdown",
   "id": "d53759cf",
   "metadata": {},
   "source": [
    "### 2. Read in memory with `read_in_memory`."
   ]
  },
  {
   "cell_type": "code",
   "execution_count": 6,
   "id": "e5bfb176",
   "metadata": {},
   "outputs": [
    {
     "name": "stderr",
     "output_type": "stream",
     "text": [
      "INFO:kgcnn.data.ExampleCrystal:Making node features from structure...\n",
      "INFO:kgcnn.data.ExampleCrystal:Reading structures from .json ...\n",
      "INFO:kgcnn.data.ExampleCrystal: ... read structures 0 from 3\n"
     ]
    },
    {
     "name": "stdout",
     "output_type": "stream",
     "text": [
      "{'graph_labels': array(98.58577123), 'node_coordinates': array([[0.00000000e+00, 0.00000000e+00, 0.00000000e+00],\n",
      "       [1.31245659e-09, 6.13991078e+00, 2.27324426e-09]]), 'node_frac_coordinates': array([[0. , 0. , 0. ],\n",
      "       [0.5, 0.5, 0.5]]), 'graph_lattice': array([[ 1.44719085e+00,  4.09327385e+00,  2.50660808e+00],\n",
      "       [ 1.44719085e+00,  4.09327385e+00, -2.50660808e+00],\n",
      "       [-2.89438170e+00,  4.09327385e+00,  1.51549528e-09]]), 'abc': array([5.01321616, 5.01321616, 5.01321616]), 'charge': array([0.]), 'volume': array([89.0910946]), 'node_number': array([56, 52])}\n"
     ]
    }
   ],
   "source": [
    "dataset.read_in_memory(label_column_name=\"label\")\n",
    "print(dataset[0])"
   ]
  },
  {
   "cell_type": "markdown",
   "id": "d89b4ff1",
   "metadata": {},
   "source": [
    "Read pymatgen only via `load_pymatgen_structures`. The structures are not assigned to the dataset but returned by the function."
   ]
  },
  {
   "cell_type": "code",
   "execution_count": 7,
   "id": "fd5807ba",
   "metadata": {},
   "outputs": [
    {
     "name": "stderr",
     "output_type": "stream",
     "text": [
      "INFO:kgcnn.data.ExampleCrystal:Reading structures from .json ...\n"
     ]
    },
    {
     "data": {
      "text/plain": [
       "[Structure Summary\n",
       " Lattice\n",
       "     abc : 5.01321616 5.013216158484504 5.0132161584845045\n",
       "  angles : 60.00000002 60.00000001 60.00000001\n",
       "  volume : 89.09109460256703\n",
       "       A : 1.4471908506158624 4.093273852854227 2.5066080815154956\n",
       "       B : 1.4471908506158624 4.093273852854227 -2.506608078484504\n",
       "       C : -2.8943816986068107 4.093273852854227 1.5154952848206449e-09\n",
       "     pbc : True True True\n",
       " PeriodicSite: Ba (0.0000, 0.0000, 0.0000) [0.0000, 0.0000, 0.0000]\n",
       " PeriodicSite: Te (0.0000, 6.1399, 0.0000) [0.5000, 0.5000, 0.5000],\n",
       " Structure Summary\n",
       " Lattice\n",
       "     abc : 3.40772664 3.4077266405150777 3.407726637424612\n",
       "  angles : 60.000000029999995 60.000000024999984 59.999999995\n",
       "  volume : 27.98203208499981\n",
       "       A : 0.9837259499337652 2.7823971493851167 1.7038633194849222\n",
       "       B : 0.9837259499337652 2.7823971493851167 -1.7038633205150777\n",
       "       C : -1.9674518897566036 2.7823971493851167 -0.0\n",
       "     pbc : True True True\n",
       " PeriodicSite: B (0.0000, 6.2604, -0.0000) [0.7500, 0.7500, 0.7500]\n",
       " PeriodicSite: As (0.0000, 0.0000, 0.0000) [0.0000, 0.0000, 0.0000],\n",
       " Structure Summary\n",
       " Lattice\n",
       "     abc : 4.301499761018623 4.30149976 5.2703\n",
       "  angles : 90.00000000000001 90.0 119.99999631649949\n",
       "  volume : 84.45119340290724\n",
       "       A : -2.150750001018624 -3.725207997838733 -5.267818059574724e-16\n",
       "       B : -2.150749998981376 3.725207997838733 2.633908956308554e-16\n",
       "       C : 0.0 0.0 -5.2703\n",
       "     pbc : True True True\n",
       " PeriodicSite: Ba (0.0000, 0.0000, 0.0000) [0.0000, 0.0000, 0.0000]\n",
       " PeriodicSite: Ga (-2.1507, 1.2417, -2.4122) [0.3333, 0.6667, 0.4577]\n",
       " PeriodicSite: Si (-2.1505, -1.2417, -2.8697) [0.6666, 0.3333, 0.5445]\n",
       " PeriodicSite: H (-2.1507, 1.2417, -0.6540) [0.3333, 0.6667, 0.1241]]"
      ]
     },
     "execution_count": 7,
     "metadata": {},
     "output_type": "execute_result"
    }
   ],
   "source": [
    "dataset.get_structures_from_json_file()"
   ]
  },
  {
   "cell_type": "markdown",
   "id": "17320dee",
   "metadata": {},
   "source": [
    "Or save them directly to json without collecting individual files."
   ]
  },
  {
   "cell_type": "code",
   "execution_count": 8,
   "id": "049cf311",
   "metadata": {},
   "outputs": [
    {
     "name": "stderr",
     "output_type": "stream",
     "text": [
      "INFO:kgcnn.data.ExampleCrystal:Exporting as dict for pymatgen ...\n",
      "INFO:kgcnn.data.ExampleCrystal:Saving structures as .json ...\n"
     ]
    }
   ],
   "source": [
    "dataset.save_structures_to_json_file(test_data)"
   ]
  },
  {
   "cell_type": "markdown",
   "id": "9a00f997",
   "metadata": {},
   "source": [
    "### 3. Generate graph"
   ]
  },
  {
   "cell_type": "code",
   "execution_count": null,
   "id": "0cbafd8f",
   "metadata": {},
   "outputs": [],
   "source": []
  }
 ],
 "metadata": {
  "kernelspec": {
   "display_name": "Python 3 (ipykernel)",
   "language": "python",
   "name": "python3"
  },
  "language_info": {
   "codemirror_mode": {
    "name": "ipython",
    "version": 3
   },
   "file_extension": ".py",
   "mimetype": "text/x-python",
   "name": "python",
   "nbconvert_exporter": "python",
   "pygments_lexer": "ipython3",
   "version": "3.9.7"
  }
 },
 "nbformat": 4,
 "nbformat_minor": 5
}
