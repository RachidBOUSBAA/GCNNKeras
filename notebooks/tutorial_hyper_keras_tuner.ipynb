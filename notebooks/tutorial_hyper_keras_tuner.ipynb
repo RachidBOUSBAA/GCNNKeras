{
 "cells": [
  {
   "cell_type": "markdown",
   "id": "a890e09c",
   "metadata": {},
   "source": [
    "# Hyperoptimization with keras-tuner"
   ]
  },
  {
   "cell_type": "markdown",
   "id": "44fc8ddc",
   "metadata": {},
   "source": [
    "## 1. Dataset\n",
    "\n",
    "Example for dataset ESOL from Moleculenet."
   ]
  },
  {
   "cell_type": "code",
   "execution_count": 1,
   "id": "d4f23fce",
   "metadata": {},
   "outputs": [],
   "source": [
    "import numpy as np\n",
    "import tensorflow as tf"
   ]
  },
  {
   "cell_type": "code",
   "execution_count": 2,
   "id": "189277c7",
   "metadata": {},
   "outputs": [
    {
     "name": "stderr",
     "output_type": "stream",
     "text": [
      "INFO:kgcnn.data.download:Checking and possibly downloading dataset with name ESOL\n",
      "INFO:kgcnn.data.download:Dataset directory located at C:\\Users\\patri\\.kgcnn\\datasets\n",
      "INFO:kgcnn.data.download:Dataset directory found. Done.\n",
      "INFO:kgcnn.data.download:Dataset found. Done.\n",
      "INFO:kgcnn.data.ESOL:Found SDF C:\\Users\\patri\\.kgcnn\\datasets\\ESOL\\delaney-processed.sdf of pre-computed structures.\n",
      "INFO:kgcnn.data.ESOL:Read molecules from mol-file.\n",
      "INFO:kgcnn.data.ESOL: ... process molecules 0 from 1128\n",
      "INFO:kgcnn.data.ESOL: ... process molecules 1000 from 1128\n",
      "INFO:kgcnn.mol.encoder:OneHotEncoder Symbol found ['O', 'C', 'N', 'S', 'Cl', 'P', 'F', 'I', 'Br']\n",
      "INFO:kgcnn.mol.encoder:OneHotEncoder Hybridization found [rdkit.Chem.rdchem.HybridizationType.SP3, rdkit.Chem.rdchem.HybridizationType.SP, rdkit.Chem.rdchem.HybridizationType.SP2]\n",
      "INFO:kgcnn.mol.encoder:OneHotEncoder TotalDegree found [2, 4, 1, 3]\n",
      "INFO:kgcnn.mol.encoder:OneHotEncoder TotalNumHs found [1, 2, 0, 3, 4]\n",
      "INFO:kgcnn.mol.encoder:OneHotEncoder CIPCode found [None, 'S', 'R']\n",
      "INFO:kgcnn.mol.encoder:OneHotEncoder ChiralityPossible found [None, '1']\n",
      "INFO:kgcnn.mol.encoder:OneHotEncoder BondType found [rdkit.Chem.rdchem.BondType.SINGLE, rdkit.Chem.rdchem.BondType.TRIPLE, rdkit.Chem.rdchem.BondType.AROMATIC, rdkit.Chem.rdchem.BondType.DOUBLE]\n",
      "INFO:kgcnn.mol.encoder:OneHotEncoder Stereo found [rdkit.Chem.rdchem.BondStereo.STEREONONE, rdkit.Chem.rdchem.BondStereo.STEREOZ, rdkit.Chem.rdchem.BondStereo.STEREOE]\n"
     ]
    },
    {
     "data": {
      "text/plain": [
       "<kgcnn.data.datasets.ESOLDataset.ESOLDataset at 0x1caedba78e0>"
      ]
     },
     "execution_count": 2,
     "metadata": {},
     "output_type": "execute_result"
    }
   ],
   "source": [
    "from kgcnn.data.datasets.ESOLDataset import ESOLDataset\n",
    "dataset = ESOLDataset()\n",
    "# dataset.set_attributes()\n",
    "dataset.map_list(method=\"set_edge_indices_reverse\")"
   ]
  },
  {
   "cell_type": "markdown",
   "id": "f537e620",
   "metadata": {},
   "source": [
    "## 2. Model\n",
    "\n",
    "Pick DMPNN as example model."
   ]
  },
  {
   "cell_type": "code",
   "execution_count": 3,
   "id": "f3cffd2e",
   "metadata": {},
   "outputs": [],
   "source": [
    "from kgcnn.literature.DMPNN import make_model"
   ]
  },
  {
   "cell_type": "code",
   "execution_count": 4,
   "id": "f34d2eb0",
   "metadata": {},
   "outputs": [
    {
     "name": "stderr",
     "output_type": "stream",
     "text": [
      "INFO:kgcnn.utils.models:Updated model kwargs:\n",
      "INFO:kgcnn.utils.models:{'name': 'DMPNN', 'inputs': [{'shape': [None, 41], 'name': 'node_attributes', 'dtype': 'float32', 'ragged': True}, {'shape': [None, 11], 'name': 'edge_attributes', 'dtype': 'float32', 'ragged': True}, {'shape': [None, 2], 'name': 'edge_indices', 'dtype': 'int64', 'ragged': True}, {'shape': [None, 1], 'name': 'edge_indices_reverse', 'dtype': 'int64', 'ragged': True}], 'input_embedding': {'node': {'input_dim': 95, 'output_dim': 64}, 'edge': {'input_dim': 5, 'output_dim': 64}, 'graph': {'input_dim': 100, 'output_dim': 64}}, 'pooling_args': {'pooling_method': 'sum'}, 'use_graph_state': False, 'edge_initialize': {'units': 128, 'use_bias': True, 'activation': 'relu'}, 'edge_dense': {'units': 128, 'use_bias': True, 'activation': 'linear'}, 'edge_activation': {'activation': 'relu'}, 'node_dense': {'units': 128, 'use_bias': True, 'activation': 'relu'}, 'verbose': 10, 'depth': 5, 'dropout': {'rate': 0.1}, 'output_embedding': 'graph', 'output_to_tensor': True, 'output_mlp': {'use_bias': [True, True, False], 'units': [64, 32, 1], 'activation': ['relu', 'relu', 'linear']}}\n"
     ]
    }
   ],
   "source": [
    "model_config = {\n",
    "    \"name\": \"DMPNN\",\n",
    "    \"inputs\": [\n",
    "        {\"shape\": [None, 41], \"name\": \"node_attributes\", \"dtype\": \"float32\", \"ragged\": True},\n",
    "        {\"shape\": [None, 11], \"name\": \"edge_attributes\", \"dtype\": \"float32\", \"ragged\": True},\n",
    "        {\"shape\": [None, 2], \"name\": \"edge_indices\", \"dtype\": \"int64\", \"ragged\": True},\n",
    "        {\"shape\": [None, 1], \"name\": \"edge_indices_reverse\", \"dtype\": \"int64\", \"ragged\": True}\n",
    "    ],\n",
    "    \"input_embedding\": {\"node\": {\"input_dim\": 95, \"output_dim\": 64},\n",
    "                        \"edge\": {\"input_dim\": 5, \"output_dim\": 64}},\n",
    "    \"pooling_args\": {\"pooling_method\": \"sum\"},\n",
    "    \"edge_initialize\": {\"units\": 128, \"use_bias\": True, \"activation\": \"relu\"},\n",
    "    \"edge_dense\": {\"units\": 128, \"use_bias\": True, \"activation\": \"linear\"},\n",
    "    \"edge_activation\": {\"activation\": \"relu\"},\n",
    "    \"node_dense\": {\"units\": 128, \"use_bias\": True, \"activation\": \"relu\"},\n",
    "    \"verbose\": 10, \"depth\": 5,\n",
    "    \"dropout\": {\"rate\": 0.1},\n",
    "    \"output_embedding\": \"graph\",\n",
    "    \"output_mlp\": {\n",
    "        \"use_bias\": [True, True, False], \"units\": [64, 32, 1],\n",
    "        \"activation\": [\"relu\", \"relu\", \"linear\"]\n",
    "    }\n",
    "}\n",
    "# Test making model\n",
    "model = make_model(**model_config)"
   ]
  },
  {
   "cell_type": "code",
   "execution_count": 5,
   "id": "b13c8282",
   "metadata": {},
   "outputs": [
    {
     "name": "stderr",
     "output_type": "stream",
     "text": [
      "INFO:kgcnn.data.ESOL:Property edge_attributes is an empty list for graph 934.\n",
      "INFO:kgcnn.data.ESOL:Property edge_indices is an empty list for graph 934.\n",
      "INFO:kgcnn.data.ESOL:Property edge_indices_reverse is an empty list for graph 934.\n",
      "WARNING:kgcnn.data.ESOL:Found invalid graphs for properties. Removing graphs [934].\n"
     ]
    },
    {
     "data": {
      "text/plain": [
       "array([934])"
      ]
     },
     "execution_count": 5,
     "metadata": {},
     "output_type": "execute_result"
    }
   ],
   "source": [
    "dataset.clean(model_config[\"inputs\"])"
   ]
  },
  {
   "cell_type": "code",
   "execution_count": 6,
   "id": "74ba8493",
   "metadata": {},
   "outputs": [
    {
     "data": {
      "text/plain": [
       "(1127, 1)"
      ]
     },
     "execution_count": 6,
     "metadata": {},
     "output_type": "execute_result"
    }
   ],
   "source": [
    "labels = np.expand_dims(dataset.get(\"graph_labels\"), axis=-1)\n",
    "labels.shape"
   ]
  },
  {
   "cell_type": "markdown",
   "id": "7cefd66a",
   "metadata": {},
   "source": [
    "## 3. Keras Tuner\n",
    "\n",
    "Optimize hyperparameter with keras tuner."
   ]
  },
  {
   "cell_type": "code",
   "execution_count": 7,
   "id": "435dcaa8",
   "metadata": {},
   "outputs": [],
   "source": [
    "import warnings\n",
    "import keras_tuner as kt\n",
    "from copy import deepcopy\n",
    "from sklearn.model_selection import train_test_split\n",
    "from tensorflow.keras.optimizers import Adam\n",
    "from keras.backend import clear_session"
   ]
  },
  {
   "cell_type": "code",
   "execution_count": 8,
   "id": "c6ece2b2",
   "metadata": {},
   "outputs": [],
   "source": [
    "train_index, test_index = train_test_split(np.arange(len(dataset)), test_size=0.25, random_state=42)\n",
    "x_train, y_train = dataset[train_index].tensor(model_config[\"inputs\"]), labels[train_index]\n",
    "x_valid, y_valid = dataset[test_index].tensor(model_config[\"inputs\"]), labels[test_index]"
   ]
  },
  {
   "cell_type": "code",
   "execution_count": 9,
   "id": "23f06d4d",
   "metadata": {},
   "outputs": [],
   "source": [
    "# Define model build()\n",
    "def build_model(hp):\n",
    "    # Clear clutter from previous Keras session graphs.\n",
    "    clear_session()\n",
    "\n",
    "    hyper_trial = deepcopy(model_config)    \n",
    "    hyper_trial[\"depth\"] = hp.Int('depth', min_value=3, max_value=5, step=1)\n",
    "    hyper_trial[\"pooling_args\"][\"pooling_method\"] = hp.Choice(\"pooling_method\", [\"sum\", \"mean\"])\n",
    "    units = hp.Int('nn_size', min_value=25, max_value=400, step=25)\n",
    "    hyper_trial[\"node_dense\"][\"units\"] = units\n",
    "    hyper_trial[\"edge_dense\"][\"units\"] = units\n",
    "    hyper_trial[\"edge_initialize\"][\"units\"] = units\n",
    "    # print(hyper_trial)\n",
    "    \n",
    "    model = make_model(**hyper_trial)\n",
    "    \n",
    "    # We compile our model\n",
    "    learning_rate = hp.Choice('lr_start', [1e-3, 5e-4, 1e-4])\n",
    "    model.compile(\n",
    "        loss=\"mean_squared_error\",\n",
    "        optimizer=Adam(learning_rate=learning_rate),\n",
    "        metrics=[\"mean_absolute_error\"],\n",
    "    )\n",
    "\n",
    "    return model"
   ]
  },
  {
   "cell_type": "code",
   "execution_count": 10,
   "id": "5396b881",
   "metadata": {},
   "outputs": [
    {
     "name": "stderr",
     "output_type": "stream",
     "text": [
      "INFO:kgcnn.utils.models:Updated model kwargs:\n",
      "INFO:kgcnn.utils.models:{'name': 'DMPNN', 'inputs': [{'shape': [None, 41], 'name': 'node_attributes', 'dtype': 'float32', 'ragged': True}, {'shape': [None, 11], 'name': 'edge_attributes', 'dtype': 'float32', 'ragged': True}, {'shape': [None, 2], 'name': 'edge_indices', 'dtype': 'int64', 'ragged': True}, {'shape': [None, 1], 'name': 'edge_indices_reverse', 'dtype': 'int64', 'ragged': True}], 'input_embedding': {'node': {'input_dim': 95, 'output_dim': 64}, 'edge': {'input_dim': 5, 'output_dim': 64}, 'graph': {'input_dim': 100, 'output_dim': 64}}, 'pooling_args': {'pooling_method': 'sum'}, 'use_graph_state': False, 'edge_initialize': {'units': 25, 'use_bias': True, 'activation': 'relu'}, 'edge_dense': {'units': 25, 'use_bias': True, 'activation': 'linear'}, 'edge_activation': {'activation': 'relu'}, 'node_dense': {'units': 25, 'use_bias': True, 'activation': 'relu'}, 'verbose': 10, 'depth': 3, 'dropout': {'rate': 0.1}, 'output_embedding': 'graph', 'output_to_tensor': True, 'output_mlp': {'use_bias': [True, True, False], 'units': [64, 32, 1], 'activation': ['relu', 'relu', 'linear']}}\n"
     ]
    }
   ],
   "source": [
    "tuner = kt.Hyperband(build_model,\n",
    "                     objective='val_loss',\n",
    "                     max_epochs=10, factor=3, directory=\"kt_dmpnn\")"
   ]
  },
  {
   "cell_type": "code",
   "execution_count": 11,
   "id": "ae7ba82e",
   "metadata": {},
   "outputs": [
    {
     "name": "stdout",
     "output_type": "stream",
     "text": [
      "Trial 30 Complete [00h 00m 10s]\n",
      "val_loss: 2.643721103668213\n",
      "\n",
      "Best val_loss So Far: 0.7835061550140381\n",
      "Total elapsed time: 00h 03m 08s\n",
      "INFO:tensorflow:Oracle triggered exit\n"
     ]
    },
    {
     "name": "stderr",
     "output_type": "stream",
     "text": [
      "INFO:tensorflow:Oracle triggered exit\n"
     ]
    }
   ],
   "source": [
    "tuner.search(x_train,y_train,\n",
    "            shuffle=True,\n",
    "            epochs=100, validation_data=(x_valid, y_valid))"
   ]
  },
  {
   "cell_type": "code",
   "execution_count": 12,
   "id": "5c35fcfd",
   "metadata": {},
   "outputs": [
    {
     "name": "stdout",
     "output_type": "stream",
     "text": [
      "\n",
      "    Search complete, best hyperparameters:\n",
      "    depth = 4\n",
      "    nn_size = 275\n",
      "    ene_wt = mean\n",
      "    learn rate = 0.0005\n",
      "\n"
     ]
    }
   ],
   "source": [
    "best_hps = tuner.get_best_hyperparameters(num_trials=1)[0]\n",
    "\n",
    "print(f\"\"\"\n",
    "    Search complete, best hyperparameters:\n",
    "    depth = {best_hps.get('depth')}\n",
    "    nn_size = {best_hps.get('nn_size')}\n",
    "    ene_wt = {best_hps.get('pooling_method')}\n",
    "    learn rate = {best_hps.get('lr_start')}\n",
    "\"\"\")"
   ]
  }
 ],
 "metadata": {
  "kernelspec": {
   "display_name": "Python 3 (ipykernel)",
   "language": "python",
   "name": "python3"
  },
  "language_info": {
   "codemirror_mode": {
    "name": "ipython",
    "version": 3
   },
   "file_extension": ".py",
   "mimetype": "text/x-python",
   "name": "python",
   "nbconvert_exporter": "python",
   "pygments_lexer": "ipython3",
   "version": "3.9.7"
  }
 },
 "nbformat": 4,
 "nbformat_minor": 5
}
