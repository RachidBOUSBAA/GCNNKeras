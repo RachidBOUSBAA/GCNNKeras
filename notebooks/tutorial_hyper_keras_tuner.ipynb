{
 "cells": [
  {
   "cell_type": "markdown",
   "id": "a890e09c",
   "metadata": {},
   "source": [
    "# Hyperoptimization with keras-tuner"
   ]
  },
  {
   "cell_type": "markdown",
   "id": "44fc8ddc",
   "metadata": {},
   "source": [
    "## 1. Dataset\n",
    "\n",
    "Example for dataset ESOL from Moleculenet."
   ]
  },
  {
   "cell_type": "code",
   "execution_count": 1,
   "id": "d4f23fce",
   "metadata": {},
   "outputs": [
    {
     "name": "stdout",
     "output_type": "stream",
     "text": [
      "Using TensorFlow backend\n"
     ]
    }
   ],
   "source": [
    "import numpy as np\n",
    "import keras_core as ks"
   ]
  },
  {
   "cell_type": "code",
   "execution_count": 2,
   "id": "189277c7",
   "metadata": {},
   "outputs": [
    {
     "name": "stderr",
     "output_type": "stream",
     "text": [
      "ERROR:kgcnn.molecule.convert:Can not import `OpenBabel` package for conversion.\n",
      "INFO:kgcnn.data.download:Checking and possibly downloading dataset with name ESOL\n",
      "INFO:kgcnn.data.download:Dataset directory located at C:\\Users\\patri\\.kgcnn\\datasets\n",
      "INFO:kgcnn.data.download:Dataset directory found. Done.\n",
      "INFO:kgcnn.data.download:Dataset found. Done.\n",
      "INFO:kgcnn.data.ESOL:Found SDF C:\\Users\\patri\\.kgcnn\\datasets\\ESOL\\delaney-processed.sdf of pre-computed structures.\n",
      "INFO:kgcnn.data.ESOL:Read molecules from mol-file.\n",
      "INFO:kgcnn.data.ESOL: ... process molecules 0 from 1128\n",
      "INFO:kgcnn.molecule.encoder:OneHotEncoder Symbol found ['O', 'C', 'N', 'S', 'Cl', 'P', 'F', 'I', 'Br']\n",
      "INFO:kgcnn.molecule.encoder:OneHotEncoder Hybridization found [rdkit.Chem.rdchem.HybridizationType.SP3, rdkit.Chem.rdchem.HybridizationType.SP, rdkit.Chem.rdchem.HybridizationType.SP2]\n",
      "INFO:kgcnn.molecule.encoder:OneHotEncoder TotalDegree found [2, 4, 1, 3]\n",
      "INFO:kgcnn.molecule.encoder:OneHotEncoder TotalNumHs found [1, 2, 0, 3, 4]\n",
      "INFO:kgcnn.molecule.encoder:OneHotEncoder CIPCode found [None, 'S', 'R']\n",
      "INFO:kgcnn.molecule.encoder:OneHotEncoder ChiralityPossible found [None, '1']\n",
      "INFO:kgcnn.molecule.encoder:OneHotEncoder BondType found [rdkit.Chem.rdchem.BondType.SINGLE, rdkit.Chem.rdchem.BondType.TRIPLE, rdkit.Chem.rdchem.BondType.AROMATIC, rdkit.Chem.rdchem.BondType.DOUBLE]\n",
      "INFO:kgcnn.molecule.encoder:OneHotEncoder Stereo found [rdkit.Chem.rdchem.BondStereo.STEREONONE, rdkit.Chem.rdchem.BondStereo.STEREOE, rdkit.Chem.rdchem.BondStereo.STEREOZ]\n"
     ]
    }
   ],
   "source": [
    "from kgcnn.data.datasets.ESOLDataset import ESOLDataset\n",
    "dataset = ESOLDataset()\n",
    "# dataset.set_attributes()\n",
    "dataset.map_list(method=\"set_edge_indices_reverse\");\n",
    "dataset.map_list(method=\"count_nodes_and_edges\");"
   ]
  },
  {
   "cell_type": "markdown",
   "id": "f537e620",
   "metadata": {},
   "source": [
    "## 2. Model\n",
    "\n",
    "Pick DMPNN as example model."
   ]
  },
  {
   "cell_type": "code",
   "execution_count": 3,
   "id": "f3cffd2e",
   "metadata": {},
   "outputs": [],
   "source": [
    "from kgcnn.literature.DMPNN import make_model"
   ]
  },
  {
   "cell_type": "code",
   "execution_count": 4,
   "id": "f34d2eb0",
   "metadata": {},
   "outputs": [
    {
     "name": "stderr",
     "output_type": "stream",
     "text": [
      "INFO:kgcnn.models.utils:Updated model kwargs: '{'name': 'DMPNN', 'inputs': [{'shape': (None, 41), 'name': 'node_attributes', 'dtype': 'float32'}, {'shape': (None, 11), 'name': 'edge_attributes', 'dtype': 'float32'}, {'shape': (None, 2), 'name': 'edge_indices', 'dtype': 'int64'}, {'shape': (None, 1), 'name': 'edge_indices_reverse', 'dtype': 'int64'}, {'shape': (), 'name': 'total_nodes', 'dtype': 'int64'}, {'shape': (), 'name': 'total_edges', 'dtype': 'int64'}], 'cast_disjoint_kwargs': {}, 'input_node_embedding': {'input_dim': 95, 'output_dim': 64}, 'input_edge_embedding': {'input_dim': 5, 'output_dim': 64}, 'input_graph_embedding': {'input_dim': 100, 'output_dim': 64}, 'pooling_args': {'pooling_method': 'scatter_sum'}, 'use_graph_state': False, 'edge_initialize': {'units': 128, 'use_bias': True, 'activation': 'relu'}, 'edge_dense': {'units': 128, 'use_bias': True, 'activation': 'linear'}, 'edge_activation': {'activation': 'relu'}, 'node_dense': {'units': 128, 'use_bias': True, 'activation': 'relu'}, 'verbose': 10, 'depth': 5, 'dropout': {'rate': 0.1}, 'output_embedding': 'graph', 'output_to_tensor': True, 'output_mlp': {'use_bias': [True, True, False], 'units': [64, 32, 1], 'activation': ['relu', 'relu', 'linear']}, 'output_scaling': None}'.\n"
     ]
    }
   ],
   "source": [
    "model_config = {\n",
    "    \"name\": \"DMPNN\",\n",
    "    \"inputs\": [\n",
    "        {\"shape\": (None, 41), \"name\": \"node_attributes\", \"dtype\": \"float32\"},\n",
    "        {\"shape\": (None, 11), \"name\": \"edge_attributes\", \"dtype\": \"float32\"},\n",
    "        {\"shape\": (None, 2), \"name\": \"edge_indices\", \"dtype\": \"int64\"},\n",
    "        {\"shape\": (None, 1), \"name\": \"edge_indices_reverse\", \"dtype\": \"int64\"},\n",
    "        {\"shape\": (), \"name\": \"total_nodes\", \"dtype\": \"int64\"},\n",
    "        {\"shape\": (), \"name\": \"total_edges\", \"dtype\": \"int64\"}\n",
    "    ],\n",
    "    \"cast_disjoint_kwargs\": {},\n",
    "    \"input_node_embedding\": {\"input_dim\": 95, \"output_dim\": 64},\n",
    "    \"input_edge_embedding\": {\"input_dim\": 5, \"output_dim\": 64},\n",
    "    \"input_graph_embedding\": {\"input_dim\": 100, \"output_dim\": 64},\n",
    "    \"pooling_args\": {\"pooling_method\": \"scatter_sum\"},\n",
    "    \"edge_initialize\": {\"units\": 128, \"use_bias\": True, \"activation\": \"relu\"},\n",
    "    \"edge_dense\": {\"units\": 128, \"use_bias\": True, \"activation\": \"linear\"},\n",
    "    \"edge_activation\": {\"activation\": \"relu\"},\n",
    "    \"node_dense\": {\"units\": 128, \"use_bias\": True, \"activation\": \"relu\"},\n",
    "    \"verbose\": 10, \"depth\": 5,\n",
    "    \"dropout\": {\"rate\": 0.1},\n",
    "    \"output_embedding\": \"graph\",\n",
    "    \"output_mlp\": {\n",
    "        \"use_bias\": [True, True, False], \"units\": [64, 32, 1],\n",
    "        \"activation\": [\"relu\", \"relu\", \"linear\"]\n",
    "    }\n",
    "}\n",
    "# Test making model\n",
    "model = make_model(**model_config)"
   ]
  },
  {
   "cell_type": "code",
   "execution_count": 5,
   "id": "b13c8282",
   "metadata": {},
   "outputs": [
    {
     "name": "stderr",
     "output_type": "stream",
     "text": [
      "INFO:kgcnn.data.ESOL:Property 'edge_attributes' is an empty list for graph '934'.\n",
      "INFO:kgcnn.data.ESOL:Property 'edge_indices' is an empty list for graph '934'.\n",
      "INFO:kgcnn.data.ESOL:Property 'edge_indices_reverse' is an empty list for graph '934'.\n",
      "WARNING:kgcnn.data.ESOL:Found invalid graphs for properties. Removing graphs '[934]'.\n"
     ]
    },
    {
     "data": {
      "text/plain": [
       "array([934])"
      ]
     },
     "execution_count": 5,
     "metadata": {},
     "output_type": "execute_result"
    }
   ],
   "source": [
    "dataset.clean(model_config[\"inputs\"])"
   ]
  },
  {
   "cell_type": "code",
   "execution_count": 6,
   "id": "74ba8493",
   "metadata": {},
   "outputs": [
    {
     "data": {
      "text/plain": [
       "(1127, 1)"
      ]
     },
     "execution_count": 6,
     "metadata": {},
     "output_type": "execute_result"
    }
   ],
   "source": [
    "labels = np.expand_dims(dataset.get(\"graph_labels\"), axis=-1)\n",
    "labels.shape"
   ]
  },
  {
   "cell_type": "markdown",
   "id": "7cefd66a",
   "metadata": {},
   "source": [
    "## 3. Keras Tuner\n",
    "\n",
    "Optimize hyperparameter with keras tuner."
   ]
  },
  {
   "cell_type": "code",
   "execution_count": 7,
   "id": "435dcaa8",
   "metadata": {},
   "outputs": [],
   "source": [
    "import warnings\n",
    "import keras_tuner as kt\n",
    "from copy import deepcopy\n",
    "from sklearn.model_selection import train_test_split\n",
    "from keras_core.optimizers import Adam\n",
    "from keras_core.backend import clear_session"
   ]
  },
  {
   "cell_type": "code",
   "execution_count": 8,
   "id": "c6ece2b2",
   "metadata": {},
   "outputs": [],
   "source": [
    "train_index, test_index = train_test_split(np.arange(len(dataset)), test_size=0.25, random_state=42)\n",
    "x_train, y_train = dataset[train_index].tensor(model_config[\"inputs\"]), labels[train_index]\n",
    "x_valid, y_valid = dataset[test_index].tensor(model_config[\"inputs\"]), labels[test_index]"
   ]
  },
  {
   "cell_type": "code",
   "execution_count": 9,
   "id": "23f06d4d",
   "metadata": {},
   "outputs": [],
   "source": [
    "# Define model build()\n",
    "def build_model(hp):\n",
    "    # Clear clutter from previous Keras session graphs.\n",
    "    clear_session()\n",
    "\n",
    "    hyper_trial = deepcopy(model_config)    \n",
    "    hyper_trial[\"depth\"] = hp.Int('depth', min_value=3, max_value=5, step=1)\n",
    "    hyper_trial[\"pooling_args\"][\"pooling_method\"] = hp.Choice(\"pooling_method\", [\"scatter_sum\", \"scatter_mean\"])\n",
    "    units = hp.Int('nn_size', min_value=25, max_value=400, step=25)\n",
    "    hyper_trial[\"node_dense\"][\"units\"] = units\n",
    "    hyper_trial[\"edge_dense\"][\"units\"] = units\n",
    "    hyper_trial[\"edge_initialize\"][\"units\"] = units\n",
    "    # print(hyper_trial)\n",
    "    \n",
    "    model = make_model(**hyper_trial)\n",
    "    \n",
    "    # We compile our model\n",
    "    learning_rate = hp.Choice('lr_start', [1e-3, 5e-4, 1e-4])\n",
    "    model.compile(\n",
    "        loss=\"mean_squared_error\",\n",
    "        optimizer=Adam(learning_rate=learning_rate),\n",
    "        metrics=[\"mean_absolute_error\"],\n",
    "    )\n",
    "\n",
    "    return model"
   ]
  },
  {
   "cell_type": "code",
   "execution_count": 10,
   "id": "5396b881",
   "metadata": {},
   "outputs": [
    {
     "name": "stderr",
     "output_type": "stream",
     "text": [
      "INFO:kgcnn.models.utils:Updated model kwargs: '{'name': 'DMPNN', 'inputs': [{'shape': (None, 41), 'name': 'node_attributes', 'dtype': 'float32'}, {'shape': (None, 11), 'name': 'edge_attributes', 'dtype': 'float32'}, {'shape': (None, 2), 'name': 'edge_indices', 'dtype': 'int64'}, {'shape': (None, 1), 'name': 'edge_indices_reverse', 'dtype': 'int64'}, {'shape': (), 'name': 'total_nodes', 'dtype': 'int64'}, {'shape': (), 'name': 'total_edges', 'dtype': 'int64'}], 'cast_disjoint_kwargs': {}, 'input_node_embedding': {'input_dim': 95, 'output_dim': 64}, 'input_edge_embedding': {'input_dim': 5, 'output_dim': 64}, 'input_graph_embedding': {'input_dim': 100, 'output_dim': 64}, 'pooling_args': {'pooling_method': 'scatter_sum'}, 'use_graph_state': False, 'edge_initialize': {'units': 25, 'use_bias': True, 'activation': 'relu'}, 'edge_dense': {'units': 25, 'use_bias': True, 'activation': 'linear'}, 'edge_activation': {'activation': 'relu'}, 'node_dense': {'units': 25, 'use_bias': True, 'activation': 'relu'}, 'verbose': 10, 'depth': 3, 'dropout': {'rate': 0.1}, 'output_embedding': 'graph', 'output_to_tensor': True, 'output_mlp': {'use_bias': [True, True, False], 'units': [64, 32, 1], 'activation': ['relu', 'relu', 'linear']}, 'output_scaling': None}'.\n"
     ]
    }
   ],
   "source": [
    "tuner = kt.Hyperband(build_model,\n",
    "                     objective='val_loss',\n",
    "                     max_epochs=10, factor=3, directory=\"kt_dmpnn\")"
   ]
  },
  {
   "cell_type": "code",
   "execution_count": 11,
   "id": "ae7ba82e",
   "metadata": {},
   "outputs": [
    {
     "name": "stderr",
     "output_type": "stream",
     "text": [
      "INFO:kgcnn.models.utils:Updated model kwargs: '{'name': 'DMPNN', 'inputs': [{'shape': (None, 41), 'name': 'node_attributes', 'dtype': 'float32'}, {'shape': (None, 11), 'name': 'edge_attributes', 'dtype': 'float32'}, {'shape': (None, 2), 'name': 'edge_indices', 'dtype': 'int64'}, {'shape': (None, 1), 'name': 'edge_indices_reverse', 'dtype': 'int64'}, {'shape': (), 'name': 'total_nodes', 'dtype': 'int64'}, {'shape': (), 'name': 'total_edges', 'dtype': 'int64'}], 'cast_disjoint_kwargs': {}, 'input_node_embedding': {'input_dim': 95, 'output_dim': 64}, 'input_edge_embedding': {'input_dim': 5, 'output_dim': 64}, 'input_graph_embedding': {'input_dim': 100, 'output_dim': 64}, 'pooling_args': {'pooling_method': 'scatter_mean'}, 'use_graph_state': False, 'edge_initialize': {'units': 250, 'use_bias': True, 'activation': 'relu'}, 'edge_dense': {'units': 250, 'use_bias': True, 'activation': 'linear'}, 'edge_activation': {'activation': 'relu'}, 'node_dense': {'units': 250, 'use_bias': True, 'activation': 'relu'}, 'verbose': 10, 'depth': 5, 'dropout': {'rate': 0.1}, 'output_embedding': 'graph', 'output_to_tensor': True, 'output_mlp': {'use_bias': [True, True, False], 'units': [64, 32, 1], 'activation': ['relu', 'relu', 'linear']}, 'output_scaling': None}'.\n"
     ]
    },
    {
     "name": "stdout",
     "output_type": "stream",
     "text": [
      "\n",
      "Search: Running Trial #1\n",
      "\n",
      "Value             |Best Value So Far |Hyperparameter\n",
      "5                 |5                 |depth\n",
      "scatter_mean      |scatter_mean      |pooling_method\n",
      "250               |250               |nn_size\n",
      "0.001             |0.001             |lr_start\n",
      "2                 |2                 |tuner/epochs\n",
      "0                 |0                 |tuner/initial_epoch\n",
      "2                 |2                 |tuner/bracket\n",
      "0                 |0                 |tuner/round\n",
      "\n"
     ]
    },
    {
     "ename": "FatalTypeError",
     "evalue": "Expected the model-building function, or HyperModel.build() to return a valid Keras Model instance. Received: <Functional name=DMPNN, built=True> of type <class 'keras_core.src.models.functional.Functional'>.",
     "output_type": "error",
     "traceback": [
      "\u001b[1;31m---------------------------------------------------------------------------\u001b[0m",
      "\u001b[1;31mFatalTypeError\u001b[0m                            Traceback (most recent call last)",
      "Cell \u001b[1;32mIn[11], line 1\u001b[0m\n\u001b[1;32m----> 1\u001b[0m \u001b[43mtuner\u001b[49m\u001b[38;5;241;43m.\u001b[39;49m\u001b[43msearch\u001b[49m\u001b[43m(\u001b[49m\u001b[43mx_train\u001b[49m\u001b[43m,\u001b[49m\u001b[43my_train\u001b[49m\u001b[43m,\u001b[49m\n\u001b[0;32m      2\u001b[0m \u001b[43m            \u001b[49m\u001b[43mshuffle\u001b[49m\u001b[38;5;241;43m=\u001b[39;49m\u001b[38;5;28;43;01mTrue\u001b[39;49;00m\u001b[43m,\u001b[49m\n\u001b[0;32m      3\u001b[0m \u001b[43m            \u001b[49m\u001b[43mepochs\u001b[49m\u001b[38;5;241;43m=\u001b[39;49m\u001b[38;5;241;43m100\u001b[39;49m\u001b[43m,\u001b[49m\u001b[43m \u001b[49m\u001b[43mvalidation_data\u001b[49m\u001b[38;5;241;43m=\u001b[39;49m\u001b[43m(\u001b[49m\u001b[43mx_valid\u001b[49m\u001b[43m,\u001b[49m\u001b[43m \u001b[49m\u001b[43my_valid\u001b[49m\u001b[43m)\u001b[49m\u001b[43m)\u001b[49m\n",
      "File \u001b[1;32m~\\anaconda3\\envs\\gcnn_keras_test\\lib\\site-packages\\keras_tuner\\src\\engine\\base_tuner.py:233\u001b[0m, in \u001b[0;36mBaseTuner.search\u001b[1;34m(self, *fit_args, **fit_kwargs)\u001b[0m\n\u001b[0;32m    230\u001b[0m         \u001b[38;5;28;01mcontinue\u001b[39;00m\n\u001b[0;32m    232\u001b[0m     \u001b[38;5;28mself\u001b[39m\u001b[38;5;241m.\u001b[39mon_trial_begin(trial)\n\u001b[1;32m--> 233\u001b[0m     \u001b[38;5;28mself\u001b[39m\u001b[38;5;241m.\u001b[39m_try_run_and_update_trial(trial, \u001b[38;5;241m*\u001b[39mfit_args, \u001b[38;5;241m*\u001b[39m\u001b[38;5;241m*\u001b[39mfit_kwargs)\n\u001b[0;32m    234\u001b[0m     \u001b[38;5;28mself\u001b[39m\u001b[38;5;241m.\u001b[39mon_trial_end(trial)\n\u001b[0;32m    235\u001b[0m \u001b[38;5;28mself\u001b[39m\u001b[38;5;241m.\u001b[39mon_search_end()\n",
      "File \u001b[1;32m~\\anaconda3\\envs\\gcnn_keras_test\\lib\\site-packages\\keras_tuner\\src\\engine\\base_tuner.py:278\u001b[0m, in \u001b[0;36mBaseTuner._try_run_and_update_trial\u001b[1;34m(self, trial, *fit_args, **fit_kwargs)\u001b[0m\n\u001b[0;32m    276\u001b[0m \u001b[38;5;28;01mexcept\u001b[39;00m \u001b[38;5;167;01mException\u001b[39;00m \u001b[38;5;28;01mas\u001b[39;00m e:\n\u001b[0;32m    277\u001b[0m     \u001b[38;5;28;01mif\u001b[39;00m \u001b[38;5;28misinstance\u001b[39m(e, errors\u001b[38;5;241m.\u001b[39mFatalError):\n\u001b[1;32m--> 278\u001b[0m         \u001b[38;5;28;01mraise\u001b[39;00m e\n\u001b[0;32m    279\u001b[0m     \u001b[38;5;28;01mif\u001b[39;00m config_module\u001b[38;5;241m.\u001b[39mDEBUG:\n\u001b[0;32m    280\u001b[0m         \u001b[38;5;66;03m# Printing the stacktrace and the error.\u001b[39;00m\n\u001b[0;32m    281\u001b[0m         traceback\u001b[38;5;241m.\u001b[39mprint_exc()\n",
      "File \u001b[1;32m~\\anaconda3\\envs\\gcnn_keras_test\\lib\\site-packages\\keras_tuner\\src\\engine\\base_tuner.py:273\u001b[0m, in \u001b[0;36mBaseTuner._try_run_and_update_trial\u001b[1;34m(self, trial, *fit_args, **fit_kwargs)\u001b[0m\n\u001b[0;32m    271\u001b[0m \u001b[38;5;28;01mdef\u001b[39;00m \u001b[38;5;21m_try_run_and_update_trial\u001b[39m(\u001b[38;5;28mself\u001b[39m, trial, \u001b[38;5;241m*\u001b[39mfit_args, \u001b[38;5;241m*\u001b[39m\u001b[38;5;241m*\u001b[39mfit_kwargs):\n\u001b[0;32m    272\u001b[0m     \u001b[38;5;28;01mtry\u001b[39;00m:\n\u001b[1;32m--> 273\u001b[0m         \u001b[38;5;28mself\u001b[39m\u001b[38;5;241m.\u001b[39m_run_and_update_trial(trial, \u001b[38;5;241m*\u001b[39mfit_args, \u001b[38;5;241m*\u001b[39m\u001b[38;5;241m*\u001b[39mfit_kwargs)\n\u001b[0;32m    274\u001b[0m         trial\u001b[38;5;241m.\u001b[39mstatus \u001b[38;5;241m=\u001b[39m trial_module\u001b[38;5;241m.\u001b[39mTrialStatus\u001b[38;5;241m.\u001b[39mCOMPLETED\n\u001b[0;32m    275\u001b[0m         \u001b[38;5;28;01mreturn\u001b[39;00m\n",
      "File \u001b[1;32m~\\anaconda3\\envs\\gcnn_keras_test\\lib\\site-packages\\keras_tuner\\src\\engine\\base_tuner.py:238\u001b[0m, in \u001b[0;36mBaseTuner._run_and_update_trial\u001b[1;34m(self, trial, *fit_args, **fit_kwargs)\u001b[0m\n\u001b[0;32m    237\u001b[0m \u001b[38;5;28;01mdef\u001b[39;00m \u001b[38;5;21m_run_and_update_trial\u001b[39m(\u001b[38;5;28mself\u001b[39m, trial, \u001b[38;5;241m*\u001b[39mfit_args, \u001b[38;5;241m*\u001b[39m\u001b[38;5;241m*\u001b[39mfit_kwargs):\n\u001b[1;32m--> 238\u001b[0m     results \u001b[38;5;241m=\u001b[39m \u001b[38;5;28mself\u001b[39m\u001b[38;5;241m.\u001b[39mrun_trial(trial, \u001b[38;5;241m*\u001b[39mfit_args, \u001b[38;5;241m*\u001b[39m\u001b[38;5;241m*\u001b[39mfit_kwargs)\n\u001b[0;32m    239\u001b[0m     \u001b[38;5;28;01mif\u001b[39;00m \u001b[38;5;28mself\u001b[39m\u001b[38;5;241m.\u001b[39moracle\u001b[38;5;241m.\u001b[39mget_trial(trial\u001b[38;5;241m.\u001b[39mtrial_id)\u001b[38;5;241m.\u001b[39mmetrics\u001b[38;5;241m.\u001b[39mexists(\n\u001b[0;32m    240\u001b[0m         \u001b[38;5;28mself\u001b[39m\u001b[38;5;241m.\u001b[39moracle\u001b[38;5;241m.\u001b[39mobjective\u001b[38;5;241m.\u001b[39mname\n\u001b[0;32m    241\u001b[0m     ):\n\u001b[0;32m    242\u001b[0m         \u001b[38;5;66;03m# The oracle is updated by calling `self.oracle.update_trial()` in\u001b[39;00m\n\u001b[0;32m    243\u001b[0m         \u001b[38;5;66;03m# `Tuner.run_trial()`. For backward compatibility, we support this\u001b[39;00m\n\u001b[0;32m    244\u001b[0m         \u001b[38;5;66;03m# use case. No further action needed in this case.\u001b[39;00m\n\u001b[0;32m    245\u001b[0m         warnings\u001b[38;5;241m.\u001b[39mwarn(\n\u001b[0;32m    246\u001b[0m             \u001b[38;5;124m\"\u001b[39m\u001b[38;5;124mThe use case of calling \u001b[39m\u001b[38;5;124m\"\u001b[39m\n\u001b[0;32m    247\u001b[0m             \u001b[38;5;124m\"\u001b[39m\u001b[38;5;124m`self.oracle.update_trial(trial_id, metrics)` \u001b[39m\u001b[38;5;124m\"\u001b[39m\n\u001b[1;32m   (...)\u001b[0m\n\u001b[0;32m    253\u001b[0m             stacklevel\u001b[38;5;241m=\u001b[39m\u001b[38;5;241m2\u001b[39m,\n\u001b[0;32m    254\u001b[0m         )\n",
      "File \u001b[1;32m~\\anaconda3\\envs\\gcnn_keras_test\\lib\\site-packages\\keras_tuner\\src\\tuners\\hyperband.py:427\u001b[0m, in \u001b[0;36mHyperband.run_trial\u001b[1;34m(self, trial, *fit_args, **fit_kwargs)\u001b[0m\n\u001b[0;32m    425\u001b[0m     fit_kwargs[\u001b[38;5;124m\"\u001b[39m\u001b[38;5;124mepochs\u001b[39m\u001b[38;5;124m\"\u001b[39m] \u001b[38;5;241m=\u001b[39m hp\u001b[38;5;241m.\u001b[39mvalues[\u001b[38;5;124m\"\u001b[39m\u001b[38;5;124mtuner/epochs\u001b[39m\u001b[38;5;124m\"\u001b[39m]\n\u001b[0;32m    426\u001b[0m     fit_kwargs[\u001b[38;5;124m\"\u001b[39m\u001b[38;5;124minitial_epoch\u001b[39m\u001b[38;5;124m\"\u001b[39m] \u001b[38;5;241m=\u001b[39m hp\u001b[38;5;241m.\u001b[39mvalues[\u001b[38;5;124m\"\u001b[39m\u001b[38;5;124mtuner/initial_epoch\u001b[39m\u001b[38;5;124m\"\u001b[39m]\n\u001b[1;32m--> 427\u001b[0m \u001b[38;5;28;01mreturn\u001b[39;00m \u001b[38;5;28msuper\u001b[39m()\u001b[38;5;241m.\u001b[39mrun_trial(trial, \u001b[38;5;241m*\u001b[39mfit_args, \u001b[38;5;241m*\u001b[39m\u001b[38;5;241m*\u001b[39mfit_kwargs)\n",
      "File \u001b[1;32m~\\anaconda3\\envs\\gcnn_keras_test\\lib\\site-packages\\keras_tuner\\src\\engine\\tuner.py:314\u001b[0m, in \u001b[0;36mTuner.run_trial\u001b[1;34m(self, trial, *args, **kwargs)\u001b[0m\n\u001b[0;32m    312\u001b[0m     callbacks\u001b[38;5;241m.\u001b[39mappend(model_checkpoint)\n\u001b[0;32m    313\u001b[0m     copied_kwargs[\u001b[38;5;124m\"\u001b[39m\u001b[38;5;124mcallbacks\u001b[39m\u001b[38;5;124m\"\u001b[39m] \u001b[38;5;241m=\u001b[39m callbacks\n\u001b[1;32m--> 314\u001b[0m     obj_value \u001b[38;5;241m=\u001b[39m \u001b[38;5;28mself\u001b[39m\u001b[38;5;241m.\u001b[39m_build_and_fit_model(trial, \u001b[38;5;241m*\u001b[39margs, \u001b[38;5;241m*\u001b[39m\u001b[38;5;241m*\u001b[39mcopied_kwargs)\n\u001b[0;32m    316\u001b[0m     histories\u001b[38;5;241m.\u001b[39mappend(obj_value)\n\u001b[0;32m    317\u001b[0m \u001b[38;5;28;01mreturn\u001b[39;00m histories\n",
      "File \u001b[1;32m~\\anaconda3\\envs\\gcnn_keras_test\\lib\\site-packages\\keras_tuner\\src\\engine\\tuner.py:232\u001b[0m, in \u001b[0;36mTuner._build_and_fit_model\u001b[1;34m(self, trial, *args, **kwargs)\u001b[0m\n\u001b[0;32m    214\u001b[0m \u001b[38;5;250m\u001b[39m\u001b[38;5;124;03m\"\"\"For AutoKeras to override.\u001b[39;00m\n\u001b[0;32m    215\u001b[0m \n\u001b[0;32m    216\u001b[0m \u001b[38;5;124;03mDO NOT REMOVE this function. AutoKeras overrides the function to tune\u001b[39;00m\n\u001b[1;32m   (...)\u001b[0m\n\u001b[0;32m    229\u001b[0m \u001b[38;5;124;03m    The fit history.\u001b[39;00m\n\u001b[0;32m    230\u001b[0m \u001b[38;5;124;03m\"\"\"\u001b[39;00m\n\u001b[0;32m    231\u001b[0m hp \u001b[38;5;241m=\u001b[39m trial\u001b[38;5;241m.\u001b[39mhyperparameters\n\u001b[1;32m--> 232\u001b[0m model \u001b[38;5;241m=\u001b[39m \u001b[38;5;28;43mself\u001b[39;49m\u001b[38;5;241;43m.\u001b[39;49m\u001b[43m_try_build\u001b[49m\u001b[43m(\u001b[49m\u001b[43mhp\u001b[49m\u001b[43m)\u001b[49m\n\u001b[0;32m    233\u001b[0m results \u001b[38;5;241m=\u001b[39m \u001b[38;5;28mself\u001b[39m\u001b[38;5;241m.\u001b[39mhypermodel\u001b[38;5;241m.\u001b[39mfit(hp, model, \u001b[38;5;241m*\u001b[39margs, \u001b[38;5;241m*\u001b[39m\u001b[38;5;241m*\u001b[39mkwargs)\n\u001b[0;32m    235\u001b[0m \u001b[38;5;66;03m# Save the build config for model loading later.\u001b[39;00m\n",
      "File \u001b[1;32m~\\anaconda3\\envs\\gcnn_keras_test\\lib\\site-packages\\keras_tuner\\src\\engine\\tuner.py:167\u001b[0m, in \u001b[0;36mTuner._try_build\u001b[1;34m(self, hp)\u001b[0m\n\u001b[0;32m    165\u001b[0m \u001b[38;5;66;03m# Stop if `build()` does not return a valid model.\u001b[39;00m\n\u001b[0;32m    166\u001b[0m \u001b[38;5;28;01mif\u001b[39;00m \u001b[38;5;129;01mnot\u001b[39;00m \u001b[38;5;28misinstance\u001b[39m(model, keras\u001b[38;5;241m.\u001b[39mmodels\u001b[38;5;241m.\u001b[39mModel):\n\u001b[1;32m--> 167\u001b[0m     \u001b[38;5;28;01mraise\u001b[39;00m errors\u001b[38;5;241m.\u001b[39mFatalTypeError(\n\u001b[0;32m    168\u001b[0m         \u001b[38;5;124m\"\u001b[39m\u001b[38;5;124mExpected the model-building function, or HyperModel.build() \u001b[39m\u001b[38;5;124m\"\u001b[39m\n\u001b[0;32m    169\u001b[0m         \u001b[38;5;124m\"\u001b[39m\u001b[38;5;124mto return a valid Keras Model instance. \u001b[39m\u001b[38;5;124m\"\u001b[39m\n\u001b[0;32m    170\u001b[0m         \u001b[38;5;124mf\u001b[39m\u001b[38;5;124m\"\u001b[39m\u001b[38;5;124mReceived: \u001b[39m\u001b[38;5;132;01m{\u001b[39;00mmodel\u001b[38;5;132;01m}\u001b[39;00m\u001b[38;5;124m of type \u001b[39m\u001b[38;5;132;01m{\u001b[39;00m\u001b[38;5;28mtype\u001b[39m(model)\u001b[38;5;132;01m}\u001b[39;00m\u001b[38;5;124m.\u001b[39m\u001b[38;5;124m\"\u001b[39m\n\u001b[0;32m    171\u001b[0m     )\n\u001b[0;32m    172\u001b[0m \u001b[38;5;66;03m# Check model size.\u001b[39;00m\n\u001b[0;32m    173\u001b[0m size \u001b[38;5;241m=\u001b[39m maybe_compute_model_size(model)\n",
      "\u001b[1;31mFatalTypeError\u001b[0m: Expected the model-building function, or HyperModel.build() to return a valid Keras Model instance. Received: <Functional name=DMPNN, built=True> of type <class 'keras_core.src.models.functional.Functional'>."
     ]
    }
   ],
   "source": [
    "tuner.search(x_train,y_train,\n",
    "            shuffle=True,\n",
    "            epochs=100, validation_data=(x_valid, y_valid))"
   ]
  },
  {
   "cell_type": "code",
   "execution_count": null,
   "id": "5c35fcfd",
   "metadata": {},
   "outputs": [],
   "source": [
    "best_hps = tuner.get_best_hyperparameters(num_trials=1)[0]\n",
    "\n",
    "print(f\"\"\"\n",
    "    Search complete, best hyperparameters:\n",
    "    depth = {best_hps.get('depth')}\n",
    "    nn_size = {best_hps.get('nn_size')}\n",
    "    ene_wt = {best_hps.get('pooling_method')}\n",
    "    learn rate = {best_hps.get('lr_start')}\n",
    "\"\"\")"
   ]
  },
  {
   "cell_type": "code",
   "execution_count": null,
   "id": "e6278087-9f9e-45e2-815e-8e1360311a55",
   "metadata": {},
   "outputs": [],
   "source": []
  }
 ],
 "metadata": {
  "kernelspec": {
   "display_name": "Python 3 (ipykernel)",
   "language": "python",
   "name": "python3"
  },
  "language_info": {
   "codemirror_mode": {
    "name": "ipython",
    "version": 3
   },
   "file_extension": ".py",
   "mimetype": "text/x-python",
   "name": "python",
   "nbconvert_exporter": "python",
   "pygments_lexer": "ipython3",
   "version": "3.10.13"
  }
 },
 "nbformat": 4,
 "nbformat_minor": 5
}
