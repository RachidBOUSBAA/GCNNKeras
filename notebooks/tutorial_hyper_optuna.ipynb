{
 "cells": [
  {
   "cell_type": "markdown",
   "id": "74e4b407",
   "metadata": {},
   "source": [
    "# Hyperoptimization with optuna"
   ]
  },
  {
   "cell_type": "markdown",
   "id": "da92ae57",
   "metadata": {},
   "source": [
    "## 1. Dataset"
   ]
  },
  {
   "cell_type": "markdown",
   "id": "63824b7d",
   "metadata": {},
   "source": [
    "Example for dataset ESOL from Moleculenet."
   ]
  },
  {
   "cell_type": "code",
   "execution_count": 1,
   "id": "fdb5d640",
   "metadata": {},
   "outputs": [],
   "source": [
    "import numpy as np\n",
    "import keras as ks"
   ]
  },
  {
   "cell_type": "code",
   "execution_count": 2,
   "id": "889762a0",
   "metadata": {},
   "outputs": [
    {
     "name": "stderr",
     "output_type": "stream",
     "text": [
      "INFO:kgcnn.data.download:Checking and possibly downloading dataset with name ESOL\n",
      "INFO:kgcnn.data.download:Dataset directory located at C:\\Users\\patri\\.kgcnn\\datasets\n",
      "INFO:kgcnn.data.download:Dataset directory found. Done.\n",
      "INFO:kgcnn.data.download:Dataset found. Done.\n",
      "INFO:kgcnn.data.ESOL:Found SDF C:\\Users\\patri\\.kgcnn\\datasets\\ESOL\\delaney-processed.sdf of pre-computed structures.\n",
      "INFO:kgcnn.data.ESOL:Read molecules from mol-file.\n",
      "INFO:kgcnn.data.ESOL: ... process molecules 0 from 1128\n",
      "INFO:kgcnn.molecule.encoder:OneHotEncoder Symbol found ['O', 'C', 'N', 'S', 'Cl', 'P', 'F', 'I', 'Br']\n",
      "INFO:kgcnn.molecule.encoder:OneHotEncoder Hybridization found [rdkit.Chem.rdchem.HybridizationType.SP3, rdkit.Chem.rdchem.HybridizationType.SP, rdkit.Chem.rdchem.HybridizationType.SP2]\n",
      "INFO:kgcnn.molecule.encoder:OneHotEncoder TotalDegree found [2, 4, 1, 3]\n",
      "INFO:kgcnn.molecule.encoder:OneHotEncoder TotalNumHs found [1, 2, 0, 3, 4]\n",
      "INFO:kgcnn.molecule.encoder:OneHotEncoder CIPCode found [None, 'S', 'R']\n",
      "INFO:kgcnn.molecule.encoder:OneHotEncoder ChiralityPossible found [None, '1']\n",
      "INFO:kgcnn.molecule.encoder:OneHotEncoder BondType found [rdkit.Chem.rdchem.BondType.SINGLE, rdkit.Chem.rdchem.BondType.TRIPLE, rdkit.Chem.rdchem.BondType.AROMATIC, rdkit.Chem.rdchem.BondType.DOUBLE]\n",
      "INFO:kgcnn.molecule.encoder:OneHotEncoder Stereo found [rdkit.Chem.rdchem.BondStereo.STEREONONE, rdkit.Chem.rdchem.BondStereo.STEREOE, rdkit.Chem.rdchem.BondStereo.STEREOZ]\n",
      "INFO:kgcnn.data.ESOL:Read molecules from mol-file.\n",
      "INFO:kgcnn.data.ESOL: ... process molecules 0 from 1128\n",
      "INFO:kgcnn.molecule.encoder:OneHotEncoder Symbol found ['O', 'C', 'N', 'S', 'Cl', 'P', 'F', 'I', 'Br']\n",
      "INFO:kgcnn.molecule.encoder:OneHotEncoder Hybridization found [rdkit.Chem.rdchem.HybridizationType.SP3, rdkit.Chem.rdchem.HybridizationType.SP, rdkit.Chem.rdchem.HybridizationType.SP2]\n",
      "INFO:kgcnn.molecule.encoder:OneHotEncoder TotalDegree found [2, 4, 1, 3]\n",
      "INFO:kgcnn.molecule.encoder:OneHotEncoder TotalNumHs found [1, 2, 0, 3, 4]\n",
      "INFO:kgcnn.molecule.encoder:OneHotEncoder CIPCode found [None, 'S', 'R']\n",
      "INFO:kgcnn.molecule.encoder:OneHotEncoder ChiralityPossible found [None, '1']\n",
      "INFO:kgcnn.molecule.encoder:OneHotEncoder BondType found [rdkit.Chem.rdchem.BondType.SINGLE, rdkit.Chem.rdchem.BondType.TRIPLE, rdkit.Chem.rdchem.BondType.AROMATIC, rdkit.Chem.rdchem.BondType.DOUBLE]\n",
      "INFO:kgcnn.molecule.encoder:OneHotEncoder Stereo found [rdkit.Chem.rdchem.BondStereo.STEREONONE, rdkit.Chem.rdchem.BondStereo.STEREOE, rdkit.Chem.rdchem.BondStereo.STEREOZ]\n"
     ]
    }
   ],
   "source": [
    "from kgcnn.data.datasets.ESOLDataset import ESOLDataset\n",
    "dataset = ESOLDataset()\n",
    "dataset.set_attributes()\n",
    "dataset.map_list(method=\"set_edge_indices_reverse\");\n",
    "dataset.map_list(method=\"count_nodes_and_edges\");\n",
    "dataset.map_list(**{\"method\": \"count_nodes_and_edges\", \"total_edges\": \"total_reverse\"});"
   ]
  },
  {
   "cell_type": "markdown",
   "id": "a9a6926a",
   "metadata": {},
   "source": [
    "## 2. Model"
   ]
  },
  {
   "cell_type": "markdown",
   "id": "953ffe78",
   "metadata": {},
   "source": [
    "Pick DMPNN as example model."
   ]
  },
  {
   "cell_type": "code",
   "execution_count": 3,
   "id": "85974dc3",
   "metadata": {},
   "outputs": [],
   "source": [
    "from kgcnn.literature.DMPNN import make_model"
   ]
  },
  {
   "cell_type": "code",
   "execution_count": 4,
   "id": "d7b64955",
   "metadata": {},
   "outputs": [
    {
     "name": "stderr",
     "output_type": "stream",
     "text": [
      "INFO:kgcnn.models.utils:Updated model kwargs: '{'name': 'DMPNN', 'inputs': [{'shape': (None, 41), 'name': 'node_attributes', 'dtype': 'float32'}, {'shape': (None, 11), 'name': 'edge_attributes', 'dtype': 'float32'}, {'shape': (None, 2), 'name': 'edge_indices', 'dtype': 'int64'}, {'shape': (None, 1), 'name': 'edge_indices_reverse', 'dtype': 'int64'}, {'shape': (), 'name': 'total_nodes', 'dtype': 'int64'}, {'shape': (), 'name': 'total_edges', 'dtype': 'int64'}, {'shape': (), 'name': 'total_reverse', 'dtype': 'int64'}], 'input_tensor_type': 'padded', 'cast_disjoint_kwargs': {}, 'input_embedding': None, 'input_node_embedding': {'input_dim': 95, 'output_dim': 64}, 'input_edge_embedding': {'input_dim': 5, 'output_dim': 64}, 'input_graph_embedding': {'input_dim': 100, 'output_dim': 64}, 'pooling_args': {'pooling_method': 'scatter_sum'}, 'use_graph_state': False, 'edge_initialize': {'units': 128, 'use_bias': True, 'activation': 'relu'}, 'edge_dense': {'units': 128, 'use_bias': True, 'activation': 'linear'}, 'edge_activation': {'activation': 'relu'}, 'node_dense': {'units': 128, 'use_bias': True, 'activation': 'relu'}, 'verbose': 10, 'depth': 5, 'dropout': {'rate': 0.1}, 'output_embedding': 'graph', 'output_to_tensor': None, 'output_tensor_type': 'padded', 'output_mlp': {'use_bias': [True, True, False], 'units': [64, 32, 1], 'activation': ['relu', 'relu', 'linear']}, 'output_scaling': None}'.\n"
     ]
    }
   ],
   "source": [
    "model_config = {\n",
    "    \"name\": \"DMPNN\",\n",
    "    \"inputs\": [\n",
    "        {\"shape\": (None, 41), \"name\": \"node_attributes\", \"dtype\": \"float32\"},\n",
    "        {\"shape\": (None, 11), \"name\": \"edge_attributes\", \"dtype\": \"float32\"},\n",
    "        {\"shape\": (None, 2), \"name\": \"edge_indices\", \"dtype\": \"int64\"},\n",
    "        {\"shape\": (None, 1), \"name\": \"edge_indices_reverse\", \"dtype\": \"int64\"},\n",
    "        {\"shape\": (), \"name\": \"total_nodes\", \"dtype\": \"int64\"},\n",
    "        {\"shape\": (), \"name\": \"total_edges\", \"dtype\": \"int64\"},\n",
    "        {\"shape\": (), \"name\": \"total_reverse\", \"dtype\": \"int64\"}\n",
    "    ],\n",
    "    \"cast_disjoint_kwargs\": {},\n",
    "    \"input_node_embedding\": {\"input_dim\": 95, \"output_dim\": 64},\n",
    "    \"input_edge_embedding\": {\"input_dim\": 5, \"output_dim\": 64},\n",
    "    \"input_graph_embedding\": {\"input_dim\": 100, \"output_dim\": 64},\n",
    "    \"pooling_args\": {\"pooling_method\": \"scatter_sum\"},\n",
    "    \"edge_initialize\": {\"units\": 128, \"use_bias\": True, \"activation\": \"relu\"},\n",
    "    \"edge_dense\": {\"units\": 128, \"use_bias\": True, \"activation\": \"linear\"},\n",
    "    \"edge_activation\": {\"activation\": \"relu\"},\n",
    "    \"node_dense\": {\"units\": 128, \"use_bias\": True, \"activation\": \"relu\"},\n",
    "    \"verbose\": 10, \"depth\": 5,\n",
    "    \"dropout\": {\"rate\": 0.1},\n",
    "    \"output_embedding\": \"graph\",\n",
    "    \"output_mlp\": {\n",
    "        \"use_bias\": [True, True, False], \"units\": [64, 32, 1],\n",
    "        \"activation\": [\"relu\", \"relu\", \"linear\"]\n",
    "    }\n",
    "}\n",
    "# Test making model\n",
    "model = make_model(**model_config)"
   ]
  },
  {
   "cell_type": "code",
   "execution_count": 5,
   "id": "e303bdc1",
   "metadata": {},
   "outputs": [
    {
     "name": "stderr",
     "output_type": "stream",
     "text": [
      "INFO:kgcnn.data.ESOL:Property 'edge_attributes' is an empty list for graph '934'.\n",
      "INFO:kgcnn.data.ESOL:Property 'edge_indices' is an empty list for graph '934'.\n",
      "INFO:kgcnn.data.ESOL:Property 'edge_indices_reverse' is an empty list for graph '934'.\n",
      "WARNING:kgcnn.data.ESOL:Found invalid graphs for properties. Removing graphs '[934]'.\n"
     ]
    },
    {
     "data": {
      "text/plain": [
       "array([934])"
      ]
     },
     "execution_count": 5,
     "metadata": {},
     "output_type": "execute_result"
    }
   ],
   "source": [
    "dataset.clean(model_config[\"inputs\"])"
   ]
  },
  {
   "cell_type": "code",
   "execution_count": 6,
   "id": "286c0881",
   "metadata": {},
   "outputs": [
    {
     "data": {
      "text/plain": [
       "(1127, 1)"
      ]
     },
     "execution_count": 6,
     "metadata": {},
     "output_type": "execute_result"
    }
   ],
   "source": [
    "labels = np.expand_dims(dataset.get(\"graph_labels\"), axis=-1)\n",
    "labels.shape"
   ]
  },
  {
   "cell_type": "markdown",
   "id": "c2f52fa6",
   "metadata": {},
   "source": [
    "## 3. Optuna"
   ]
  },
  {
   "cell_type": "markdown",
   "id": "7933e138",
   "metadata": {},
   "source": [
    "Loading optuna for hyperoptimization example. Example is modified from optuna [github](https://github.com/optuna/optuna-examples/blob/main/keras/keras_simple.py>) or web page https://optuna.org/#code_examples.\n",
    "\n",
    "For this example we neglect target standardization or more metric options."
   ]
  },
  {
   "cell_type": "code",
   "execution_count": 7,
   "id": "acc3f305",
   "metadata": {},
   "outputs": [],
   "source": [
    "import warnings\n",
    "import optuna\n",
    "from copy import deepcopy\n",
    "from sklearn.model_selection import train_test_split\n",
    "from keras.optimizers import Adam\n",
    "from keras.backend import clear_session"
   ]
  },
  {
   "cell_type": "code",
   "execution_count": 8,
   "id": "4f777d0b",
   "metadata": {},
   "outputs": [],
   "source": [
    "BATCHSIZE = 128\n",
    "EPOCHS = 100"
   ]
  },
  {
   "cell_type": "code",
   "execution_count": 9,
   "id": "367cc73a",
   "metadata": {},
   "outputs": [],
   "source": [
    "# Define objective function\n",
    "def objective(trial):\n",
    "    # Clear clutter from previous Keras session graphs.\n",
    "    clear_session()\n",
    "\n",
    "    train_index, test_index = train_test_split(np.arange(len(dataset)), test_size=0.25, random_state=42)\n",
    "    x_train, y_train = dataset[train_index].tensor(model_config[\"inputs\"]), labels[train_index]\n",
    "    x_valid, y_valid = dataset[test_index].tensor(model_config[\"inputs\"]), labels[test_index]\n",
    "    \n",
    "    hyper_trial = deepcopy(model_config)\n",
    "    hyper_trial[\"depth\"] = trial.suggest_int(\"depth\", 1, 6, 2)\n",
    "    hyper_trial[\"pooling_args\"][\"pooling_method\"] = trial.suggest_categorical(\"pooling_method\", [\"scatter_sum\", \"scatter_mean\"])\n",
    "    units = trial.suggest_int(\"units\", 32, 256, 32)\n",
    "    hyper_trial[\"node_dense\"][\"units\"] = units\n",
    "    hyper_trial[\"edge_dense\"][\"units\"] = units\n",
    "    hyper_trial[\"edge_initialize\"][\"units\"] = units\n",
    "    # print(hyper_trial)\n",
    "    \n",
    "    model = make_model(**hyper_trial)\n",
    "    \n",
    "    # We compile our model\n",
    "    learning_rate = trial.suggest_float(\"learning_rate\", 1e-5, 1e-1, log=True)\n",
    "    model.compile(\n",
    "        loss=\"mean_squared_error\",\n",
    "        optimizer=Adam(learning_rate=learning_rate),\n",
    "        metrics=[\"mean_absolute_error\"],\n",
    "    )\n",
    "\n",
    "    # Build model with reasonable data.\n",
    "    model.predict(x_valid, batch_size=2, steps=2)\n",
    "    model._compile_metrics.build(y_valid, y_valid)\n",
    "    model._compile_loss.build(y_valid, y_valid)\n",
    "\n",
    "    model.fit(\n",
    "        x_train,\n",
    "        y_train,\n",
    "        validation_data=(x_valid, y_valid),\n",
    "        shuffle=True,\n",
    "        batch_size=BATCHSIZE,\n",
    "        epochs=EPOCHS,\n",
    "        verbose=False,\n",
    "    )\n",
    "\n",
    "    # Evaluate the model accuracy on the validation set.\n",
    "    score = model.evaluate(x_valid, y_valid, verbose=0)\n",
    "    return score[1]"
   ]
  },
  {
   "cell_type": "markdown",
   "id": "0c7a7af0",
   "metadata": {},
   "source": [
    "### Optimization"
   ]
  },
  {
   "cell_type": "code",
   "execution_count": 10,
   "id": "fa22f509",
   "metadata": {},
   "outputs": [
    {
     "name": "stderr",
     "output_type": "stream",
     "text": [
      "[I 2024-02-21 14:35:54,601] A new study created in memory with name: no-name-16931786-d75d-4ef9-b1e2-aa22bd26fbca\n",
      "C:\\Users\\patri\\anaconda3\\envs\\gcnn_keras_test\\lib\\site-packages\\optuna\\distributions.py:700: UserWarning: The distribution is specified by [1, 6] and step=2, but the range is not divisible by `step`. It will be replaced by [1, 5].\n",
      "  warnings.warn(\n",
      "INFO:kgcnn.models.utils:Updated model kwargs: '{'name': 'DMPNN', 'inputs': [{'shape': (None, 41), 'name': 'node_attributes', 'dtype': 'float32'}, {'shape': (None, 11), 'name': 'edge_attributes', 'dtype': 'float32'}, {'shape': (None, 2), 'name': 'edge_indices', 'dtype': 'int64'}, {'shape': (None, 1), 'name': 'edge_indices_reverse', 'dtype': 'int64'}, {'shape': (), 'name': 'total_nodes', 'dtype': 'int64'}, {'shape': (), 'name': 'total_edges', 'dtype': 'int64'}, {'shape': (), 'name': 'total_reverse', 'dtype': 'int64'}], 'input_tensor_type': 'padded', 'cast_disjoint_kwargs': {}, 'input_embedding': None, 'input_node_embedding': {'input_dim': 95, 'output_dim': 64}, 'input_edge_embedding': {'input_dim': 5, 'output_dim': 64}, 'input_graph_embedding': {'input_dim': 100, 'output_dim': 64}, 'pooling_args': {'pooling_method': 'scatter_mean'}, 'use_graph_state': False, 'edge_initialize': {'units': 128, 'use_bias': True, 'activation': 'relu'}, 'edge_dense': {'units': 128, 'use_bias': True, 'activation': 'linear'}, 'edge_activation': {'activation': 'relu'}, 'node_dense': {'units': 128, 'use_bias': True, 'activation': 'relu'}, 'verbose': 10, 'depth': 5, 'dropout': {'rate': 0.1}, 'output_embedding': 'graph', 'output_to_tensor': None, 'output_tensor_type': 'padded', 'output_mlp': {'use_bias': [True, True, False], 'units': [64, 32, 1], 'activation': ['relu', 'relu', 'linear']}, 'output_scaling': None}'.\n"
     ]
    },
    {
     "name": "stdout",
     "output_type": "stream",
     "text": [
      "\u001b[1m2/2\u001b[0m \u001b[32m━━━━━━━━━━━━━━━━━━━━\u001b[0m\u001b[37m\u001b[0m \u001b[1m1s\u001b[0m 19ms/step \n"
     ]
    },
    {
     "name": "stderr",
     "output_type": "stream",
     "text": [
      "[I 2024-02-21 14:36:22,205] Trial 0 finished with value: 0.7681335210800171 and parameters: {'depth': 5, 'pooling_method': 'scatter_mean', 'units': 128, 'learning_rate': 0.0674115961180617}. Best is trial 0 with value: 0.7681335210800171.\n",
      "INFO:kgcnn.models.utils:Updated model kwargs: '{'name': 'DMPNN', 'inputs': [{'shape': (None, 41), 'name': 'node_attributes', 'dtype': 'float32'}, {'shape': (None, 11), 'name': 'edge_attributes', 'dtype': 'float32'}, {'shape': (None, 2), 'name': 'edge_indices', 'dtype': 'int64'}, {'shape': (None, 1), 'name': 'edge_indices_reverse', 'dtype': 'int64'}, {'shape': (), 'name': 'total_nodes', 'dtype': 'int64'}, {'shape': (), 'name': 'total_edges', 'dtype': 'int64'}, {'shape': (), 'name': 'total_reverse', 'dtype': 'int64'}], 'input_tensor_type': 'padded', 'cast_disjoint_kwargs': {}, 'input_embedding': None, 'input_node_embedding': {'input_dim': 95, 'output_dim': 64}, 'input_edge_embedding': {'input_dim': 5, 'output_dim': 64}, 'input_graph_embedding': {'input_dim': 100, 'output_dim': 64}, 'pooling_args': {'pooling_method': 'scatter_mean'}, 'use_graph_state': False, 'edge_initialize': {'units': 128, 'use_bias': True, 'activation': 'relu'}, 'edge_dense': {'units': 128, 'use_bias': True, 'activation': 'linear'}, 'edge_activation': {'activation': 'relu'}, 'node_dense': {'units': 128, 'use_bias': True, 'activation': 'relu'}, 'verbose': 10, 'depth': 3, 'dropout': {'rate': 0.1}, 'output_embedding': 'graph', 'output_to_tensor': None, 'output_tensor_type': 'padded', 'output_mlp': {'use_bias': [True, True, False], 'units': [64, 32, 1], 'activation': ['relu', 'relu', 'linear']}, 'output_scaling': None}'.\n"
     ]
    },
    {
     "name": "stdout",
     "output_type": "stream",
     "text": [
      "\u001b[1m2/2\u001b[0m \u001b[32m━━━━━━━━━━━━━━━━━━━━\u001b[0m\u001b[37m\u001b[0m \u001b[1m0s\u001b[0m 18ms/step\n"
     ]
    },
    {
     "name": "stderr",
     "output_type": "stream",
     "text": [
      "[I 2024-02-21 14:36:43,721] Trial 1 finished with value: 0.6996632814407349 and parameters: {'depth': 3, 'pooling_method': 'scatter_mean', 'units': 128, 'learning_rate': 0.0002253139800745597}. Best is trial 1 with value: 0.6996632814407349.\n",
      "INFO:kgcnn.models.utils:Updated model kwargs: '{'name': 'DMPNN', 'inputs': [{'shape': (None, 41), 'name': 'node_attributes', 'dtype': 'float32'}, {'shape': (None, 11), 'name': 'edge_attributes', 'dtype': 'float32'}, {'shape': (None, 2), 'name': 'edge_indices', 'dtype': 'int64'}, {'shape': (None, 1), 'name': 'edge_indices_reverse', 'dtype': 'int64'}, {'shape': (), 'name': 'total_nodes', 'dtype': 'int64'}, {'shape': (), 'name': 'total_edges', 'dtype': 'int64'}, {'shape': (), 'name': 'total_reverse', 'dtype': 'int64'}], 'input_tensor_type': 'padded', 'cast_disjoint_kwargs': {}, 'input_embedding': None, 'input_node_embedding': {'input_dim': 95, 'output_dim': 64}, 'input_edge_embedding': {'input_dim': 5, 'output_dim': 64}, 'input_graph_embedding': {'input_dim': 100, 'output_dim': 64}, 'pooling_args': {'pooling_method': 'scatter_sum'}, 'use_graph_state': False, 'edge_initialize': {'units': 224, 'use_bias': True, 'activation': 'relu'}, 'edge_dense': {'units': 224, 'use_bias': True, 'activation': 'linear'}, 'edge_activation': {'activation': 'relu'}, 'node_dense': {'units': 224, 'use_bias': True, 'activation': 'relu'}, 'verbose': 10, 'depth': 3, 'dropout': {'rate': 0.1}, 'output_embedding': 'graph', 'output_to_tensor': None, 'output_tensor_type': 'padded', 'output_mlp': {'use_bias': [True, True, False], 'units': [64, 32, 1], 'activation': ['relu', 'relu', 'linear']}, 'output_scaling': None}'.\n"
     ]
    },
    {
     "name": "stdout",
     "output_type": "stream",
     "text": [
      "\u001b[1m2/2\u001b[0m \u001b[32m━━━━━━━━━━━━━━━━━━━━\u001b[0m\u001b[37m\u001b[0m \u001b[1m0s\u001b[0m 18ms/step\n"
     ]
    },
    {
     "name": "stderr",
     "output_type": "stream",
     "text": [
      "[I 2024-02-21 14:37:05,544] Trial 2 finished with value: 0.6339492201805115 and parameters: {'depth': 3, 'pooling_method': 'scatter_sum', 'units': 224, 'learning_rate': 0.00010382151720335295}. Best is trial 2 with value: 0.6339492201805115.\n",
      "INFO:kgcnn.models.utils:Updated model kwargs: '{'name': 'DMPNN', 'inputs': [{'shape': (None, 41), 'name': 'node_attributes', 'dtype': 'float32'}, {'shape': (None, 11), 'name': 'edge_attributes', 'dtype': 'float32'}, {'shape': (None, 2), 'name': 'edge_indices', 'dtype': 'int64'}, {'shape': (None, 1), 'name': 'edge_indices_reverse', 'dtype': 'int64'}, {'shape': (), 'name': 'total_nodes', 'dtype': 'int64'}, {'shape': (), 'name': 'total_edges', 'dtype': 'int64'}, {'shape': (), 'name': 'total_reverse', 'dtype': 'int64'}], 'input_tensor_type': 'padded', 'cast_disjoint_kwargs': {}, 'input_embedding': None, 'input_node_embedding': {'input_dim': 95, 'output_dim': 64}, 'input_edge_embedding': {'input_dim': 5, 'output_dim': 64}, 'input_graph_embedding': {'input_dim': 100, 'output_dim': 64}, 'pooling_args': {'pooling_method': 'scatter_sum'}, 'use_graph_state': False, 'edge_initialize': {'units': 96, 'use_bias': True, 'activation': 'relu'}, 'edge_dense': {'units': 96, 'use_bias': True, 'activation': 'linear'}, 'edge_activation': {'activation': 'relu'}, 'node_dense': {'units': 96, 'use_bias': True, 'activation': 'relu'}, 'verbose': 10, 'depth': 1, 'dropout': {'rate': 0.1}, 'output_embedding': 'graph', 'output_to_tensor': None, 'output_tensor_type': 'padded', 'output_mlp': {'use_bias': [True, True, False], 'units': [64, 32, 1], 'activation': ['relu', 'relu', 'linear']}, 'output_scaling': None}'.\n"
     ]
    },
    {
     "name": "stdout",
     "output_type": "stream",
     "text": [
      "\u001b[1m2/2\u001b[0m \u001b[32m━━━━━━━━━━━━━━━━━━━━\u001b[0m\u001b[37m\u001b[0m \u001b[1m0s\u001b[0m 11ms/step\n"
     ]
    },
    {
     "name": "stderr",
     "output_type": "stream",
     "text": [
      "[I 2024-02-21 14:37:22,312] Trial 3 finished with value: 1.7666791677474976 and parameters: {'depth': 1, 'pooling_method': 'scatter_sum', 'units': 96, 'learning_rate': 0.06501836029953206}. Best is trial 2 with value: 0.6339492201805115.\n",
      "INFO:kgcnn.models.utils:Updated model kwargs: '{'name': 'DMPNN', 'inputs': [{'shape': (None, 41), 'name': 'node_attributes', 'dtype': 'float32'}, {'shape': (None, 11), 'name': 'edge_attributes', 'dtype': 'float32'}, {'shape': (None, 2), 'name': 'edge_indices', 'dtype': 'int64'}, {'shape': (None, 1), 'name': 'edge_indices_reverse', 'dtype': 'int64'}, {'shape': (), 'name': 'total_nodes', 'dtype': 'int64'}, {'shape': (), 'name': 'total_edges', 'dtype': 'int64'}, {'shape': (), 'name': 'total_reverse', 'dtype': 'int64'}], 'input_tensor_type': 'padded', 'cast_disjoint_kwargs': {}, 'input_embedding': None, 'input_node_embedding': {'input_dim': 95, 'output_dim': 64}, 'input_edge_embedding': {'input_dim': 5, 'output_dim': 64}, 'input_graph_embedding': {'input_dim': 100, 'output_dim': 64}, 'pooling_args': {'pooling_method': 'scatter_sum'}, 'use_graph_state': False, 'edge_initialize': {'units': 32, 'use_bias': True, 'activation': 'relu'}, 'edge_dense': {'units': 32, 'use_bias': True, 'activation': 'linear'}, 'edge_activation': {'activation': 'relu'}, 'node_dense': {'units': 32, 'use_bias': True, 'activation': 'relu'}, 'verbose': 10, 'depth': 3, 'dropout': {'rate': 0.1}, 'output_embedding': 'graph', 'output_to_tensor': None, 'output_tensor_type': 'padded', 'output_mlp': {'use_bias': [True, True, False], 'units': [64, 32, 1], 'activation': ['relu', 'relu', 'linear']}, 'output_scaling': None}'.\n"
     ]
    },
    {
     "name": "stdout",
     "output_type": "stream",
     "text": [
      "\u001b[1m2/2\u001b[0m \u001b[32m━━━━━━━━━━━━━━━━━━━━\u001b[0m\u001b[37m\u001b[0m \u001b[1m0s\u001b[0m 15ms/step\n"
     ]
    },
    {
     "name": "stderr",
     "output_type": "stream",
     "text": [
      "[I 2024-02-21 14:37:44,777] Trial 4 finished with value: 0.6483758091926575 and parameters: {'depth': 3, 'pooling_method': 'scatter_sum', 'units': 32, 'learning_rate': 0.0003013903953785464}. Best is trial 2 with value: 0.6339492201805115.\n",
      "INFO:kgcnn.models.utils:Updated model kwargs: '{'name': 'DMPNN', 'inputs': [{'shape': (None, 41), 'name': 'node_attributes', 'dtype': 'float32'}, {'shape': (None, 11), 'name': 'edge_attributes', 'dtype': 'float32'}, {'shape': (None, 2), 'name': 'edge_indices', 'dtype': 'int64'}, {'shape': (None, 1), 'name': 'edge_indices_reverse', 'dtype': 'int64'}, {'shape': (), 'name': 'total_nodes', 'dtype': 'int64'}, {'shape': (), 'name': 'total_edges', 'dtype': 'int64'}, {'shape': (), 'name': 'total_reverse', 'dtype': 'int64'}], 'input_tensor_type': 'padded', 'cast_disjoint_kwargs': {}, 'input_embedding': None, 'input_node_embedding': {'input_dim': 95, 'output_dim': 64}, 'input_edge_embedding': {'input_dim': 5, 'output_dim': 64}, 'input_graph_embedding': {'input_dim': 100, 'output_dim': 64}, 'pooling_args': {'pooling_method': 'scatter_mean'}, 'use_graph_state': False, 'edge_initialize': {'units': 160, 'use_bias': True, 'activation': 'relu'}, 'edge_dense': {'units': 160, 'use_bias': True, 'activation': 'linear'}, 'edge_activation': {'activation': 'relu'}, 'node_dense': {'units': 160, 'use_bias': True, 'activation': 'relu'}, 'verbose': 10, 'depth': 3, 'dropout': {'rate': 0.1}, 'output_embedding': 'graph', 'output_to_tensor': None, 'output_tensor_type': 'padded', 'output_mlp': {'use_bias': [True, True, False], 'units': [64, 32, 1], 'activation': ['relu', 'relu', 'linear']}, 'output_scaling': None}'.\n"
     ]
    },
    {
     "name": "stdout",
     "output_type": "stream",
     "text": [
      "\u001b[1m2/2\u001b[0m \u001b[32m━━━━━━━━━━━━━━━━━━━━\u001b[0m\u001b[37m\u001b[0m \u001b[1m0s\u001b[0m 16ms/step\n"
     ]
    },
    {
     "name": "stderr",
     "output_type": "stream",
     "text": [
      "[I 2024-02-21 14:38:06,970] Trial 5 finished with value: 0.5615861415863037 and parameters: {'depth': 3, 'pooling_method': 'scatter_mean', 'units': 160, 'learning_rate': 0.0005043928321292983}. Best is trial 5 with value: 0.5615861415863037.\n",
      "INFO:kgcnn.models.utils:Updated model kwargs: '{'name': 'DMPNN', 'inputs': [{'shape': (None, 41), 'name': 'node_attributes', 'dtype': 'float32'}, {'shape': (None, 11), 'name': 'edge_attributes', 'dtype': 'float32'}, {'shape': (None, 2), 'name': 'edge_indices', 'dtype': 'int64'}, {'shape': (None, 1), 'name': 'edge_indices_reverse', 'dtype': 'int64'}, {'shape': (), 'name': 'total_nodes', 'dtype': 'int64'}, {'shape': (), 'name': 'total_edges', 'dtype': 'int64'}, {'shape': (), 'name': 'total_reverse', 'dtype': 'int64'}], 'input_tensor_type': 'padded', 'cast_disjoint_kwargs': {}, 'input_embedding': None, 'input_node_embedding': {'input_dim': 95, 'output_dim': 64}, 'input_edge_embedding': {'input_dim': 5, 'output_dim': 64}, 'input_graph_embedding': {'input_dim': 100, 'output_dim': 64}, 'pooling_args': {'pooling_method': 'scatter_sum'}, 'use_graph_state': False, 'edge_initialize': {'units': 64, 'use_bias': True, 'activation': 'relu'}, 'edge_dense': {'units': 64, 'use_bias': True, 'activation': 'linear'}, 'edge_activation': {'activation': 'relu'}, 'node_dense': {'units': 64, 'use_bias': True, 'activation': 'relu'}, 'verbose': 10, 'depth': 3, 'dropout': {'rate': 0.1}, 'output_embedding': 'graph', 'output_to_tensor': None, 'output_tensor_type': 'padded', 'output_mlp': {'use_bias': [True, True, False], 'units': [64, 32, 1], 'activation': ['relu', 'relu', 'linear']}, 'output_scaling': None}'.\n"
     ]
    },
    {
     "name": "stdout",
     "output_type": "stream",
     "text": [
      "\u001b[1m2/2\u001b[0m \u001b[32m━━━━━━━━━━━━━━━━━━━━\u001b[0m\u001b[37m\u001b[0m \u001b[1m0s\u001b[0m 15ms/step\n"
     ]
    },
    {
     "name": "stderr",
     "output_type": "stream",
     "text": [
      "[I 2024-02-21 14:38:29,215] Trial 6 finished with value: 1.0494120121002197 and parameters: {'depth': 3, 'pooling_method': 'scatter_sum', 'units': 64, 'learning_rate': 1.9993563134982137e-05}. Best is trial 5 with value: 0.5615861415863037.\n",
      "INFO:kgcnn.models.utils:Updated model kwargs: '{'name': 'DMPNN', 'inputs': [{'shape': (None, 41), 'name': 'node_attributes', 'dtype': 'float32'}, {'shape': (None, 11), 'name': 'edge_attributes', 'dtype': 'float32'}, {'shape': (None, 2), 'name': 'edge_indices', 'dtype': 'int64'}, {'shape': (None, 1), 'name': 'edge_indices_reverse', 'dtype': 'int64'}, {'shape': (), 'name': 'total_nodes', 'dtype': 'int64'}, {'shape': (), 'name': 'total_edges', 'dtype': 'int64'}, {'shape': (), 'name': 'total_reverse', 'dtype': 'int64'}], 'input_tensor_type': 'padded', 'cast_disjoint_kwargs': {}, 'input_embedding': None, 'input_node_embedding': {'input_dim': 95, 'output_dim': 64}, 'input_edge_embedding': {'input_dim': 5, 'output_dim': 64}, 'input_graph_embedding': {'input_dim': 100, 'output_dim': 64}, 'pooling_args': {'pooling_method': 'scatter_sum'}, 'use_graph_state': False, 'edge_initialize': {'units': 64, 'use_bias': True, 'activation': 'relu'}, 'edge_dense': {'units': 64, 'use_bias': True, 'activation': 'linear'}, 'edge_activation': {'activation': 'relu'}, 'node_dense': {'units': 64, 'use_bias': True, 'activation': 'relu'}, 'verbose': 10, 'depth': 1, 'dropout': {'rate': 0.1}, 'output_embedding': 'graph', 'output_to_tensor': None, 'output_tensor_type': 'padded', 'output_mlp': {'use_bias': [True, True, False], 'units': [64, 32, 1], 'activation': ['relu', 'relu', 'linear']}, 'output_scaling': None}'.\n"
     ]
    },
    {
     "name": "stdout",
     "output_type": "stream",
     "text": [
      "\u001b[1m2/2\u001b[0m \u001b[32m━━━━━━━━━━━━━━━━━━━━\u001b[0m\u001b[37m\u001b[0m \u001b[1m0s\u001b[0m 12ms/step\n"
     ]
    },
    {
     "name": "stderr",
     "output_type": "stream",
     "text": [
      "[I 2024-02-21 14:38:45,549] Trial 7 finished with value: 0.5329099893569946 and parameters: {'depth': 1, 'pooling_method': 'scatter_sum', 'units': 64, 'learning_rate': 0.007565294880833583}. Best is trial 7 with value: 0.5329099893569946.\n",
      "INFO:kgcnn.models.utils:Updated model kwargs: '{'name': 'DMPNN', 'inputs': [{'shape': (None, 41), 'name': 'node_attributes', 'dtype': 'float32'}, {'shape': (None, 11), 'name': 'edge_attributes', 'dtype': 'float32'}, {'shape': (None, 2), 'name': 'edge_indices', 'dtype': 'int64'}, {'shape': (None, 1), 'name': 'edge_indices_reverse', 'dtype': 'int64'}, {'shape': (), 'name': 'total_nodes', 'dtype': 'int64'}, {'shape': (), 'name': 'total_edges', 'dtype': 'int64'}, {'shape': (), 'name': 'total_reverse', 'dtype': 'int64'}], 'input_tensor_type': 'padded', 'cast_disjoint_kwargs': {}, 'input_embedding': None, 'input_node_embedding': {'input_dim': 95, 'output_dim': 64}, 'input_edge_embedding': {'input_dim': 5, 'output_dim': 64}, 'input_graph_embedding': {'input_dim': 100, 'output_dim': 64}, 'pooling_args': {'pooling_method': 'scatter_mean'}, 'use_graph_state': False, 'edge_initialize': {'units': 256, 'use_bias': True, 'activation': 'relu'}, 'edge_dense': {'units': 256, 'use_bias': True, 'activation': 'linear'}, 'edge_activation': {'activation': 'relu'}, 'node_dense': {'units': 256, 'use_bias': True, 'activation': 'relu'}, 'verbose': 10, 'depth': 3, 'dropout': {'rate': 0.1}, 'output_embedding': 'graph', 'output_to_tensor': None, 'output_tensor_type': 'padded', 'output_mlp': {'use_bias': [True, True, False], 'units': [64, 32, 1], 'activation': ['relu', 'relu', 'linear']}, 'output_scaling': None}'.\n"
     ]
    },
    {
     "name": "stdout",
     "output_type": "stream",
     "text": [
      "\u001b[1m2/2\u001b[0m \u001b[32m━━━━━━━━━━━━━━━━━━━━\u001b[0m\u001b[37m\u001b[0m \u001b[1m0s\u001b[0m 15ms/step\n"
     ]
    },
    {
     "name": "stderr",
     "output_type": "stream",
     "text": [
      "[I 2024-02-21 14:39:07,402] Trial 8 finished with value: 0.7243728637695312 and parameters: {'depth': 3, 'pooling_method': 'scatter_mean', 'units': 256, 'learning_rate': 0.045271034845108575}. Best is trial 7 with value: 0.5329099893569946.\n",
      "INFO:kgcnn.models.utils:Updated model kwargs: '{'name': 'DMPNN', 'inputs': [{'shape': (None, 41), 'name': 'node_attributes', 'dtype': 'float32'}, {'shape': (None, 11), 'name': 'edge_attributes', 'dtype': 'float32'}, {'shape': (None, 2), 'name': 'edge_indices', 'dtype': 'int64'}, {'shape': (None, 1), 'name': 'edge_indices_reverse', 'dtype': 'int64'}, {'shape': (), 'name': 'total_nodes', 'dtype': 'int64'}, {'shape': (), 'name': 'total_edges', 'dtype': 'int64'}, {'shape': (), 'name': 'total_reverse', 'dtype': 'int64'}], 'input_tensor_type': 'padded', 'cast_disjoint_kwargs': {}, 'input_embedding': None, 'input_node_embedding': {'input_dim': 95, 'output_dim': 64}, 'input_edge_embedding': {'input_dim': 5, 'output_dim': 64}, 'input_graph_embedding': {'input_dim': 100, 'output_dim': 64}, 'pooling_args': {'pooling_method': 'scatter_sum'}, 'use_graph_state': False, 'edge_initialize': {'units': 32, 'use_bias': True, 'activation': 'relu'}, 'edge_dense': {'units': 32, 'use_bias': True, 'activation': 'linear'}, 'edge_activation': {'activation': 'relu'}, 'node_dense': {'units': 32, 'use_bias': True, 'activation': 'relu'}, 'verbose': 10, 'depth': 1, 'dropout': {'rate': 0.1}, 'output_embedding': 'graph', 'output_to_tensor': None, 'output_tensor_type': 'padded', 'output_mlp': {'use_bias': [True, True, False], 'units': [64, 32, 1], 'activation': ['relu', 'relu', 'linear']}, 'output_scaling': None}'.\n"
     ]
    },
    {
     "name": "stdout",
     "output_type": "stream",
     "text": [
      "\u001b[1m2/2\u001b[0m \u001b[32m━━━━━━━━━━━━━━━━━━━━\u001b[0m\u001b[37m\u001b[0m \u001b[1m0s\u001b[0m 11ms/step\n"
     ]
    },
    {
     "name": "stderr",
     "output_type": "stream",
     "text": [
      "[I 2024-02-21 14:39:23,985] Trial 9 finished with value: 1.7121961116790771 and parameters: {'depth': 1, 'pooling_method': 'scatter_sum', 'units': 32, 'learning_rate': 0.0766274385977937}. Best is trial 7 with value: 0.5329099893569946.\n",
      "INFO:kgcnn.models.utils:Updated model kwargs: '{'name': 'DMPNN', 'inputs': [{'shape': (None, 41), 'name': 'node_attributes', 'dtype': 'float32'}, {'shape': (None, 11), 'name': 'edge_attributes', 'dtype': 'float32'}, {'shape': (None, 2), 'name': 'edge_indices', 'dtype': 'int64'}, {'shape': (None, 1), 'name': 'edge_indices_reverse', 'dtype': 'int64'}, {'shape': (), 'name': 'total_nodes', 'dtype': 'int64'}, {'shape': (), 'name': 'total_edges', 'dtype': 'int64'}, {'shape': (), 'name': 'total_reverse', 'dtype': 'int64'}], 'input_tensor_type': 'padded', 'cast_disjoint_kwargs': {}, 'input_embedding': None, 'input_node_embedding': {'input_dim': 95, 'output_dim': 64}, 'input_edge_embedding': {'input_dim': 5, 'output_dim': 64}, 'input_graph_embedding': {'input_dim': 100, 'output_dim': 64}, 'pooling_args': {'pooling_method': 'scatter_sum'}, 'use_graph_state': False, 'edge_initialize': {'units': 192, 'use_bias': True, 'activation': 'relu'}, 'edge_dense': {'units': 192, 'use_bias': True, 'activation': 'linear'}, 'edge_activation': {'activation': 'relu'}, 'node_dense': {'units': 192, 'use_bias': True, 'activation': 'relu'}, 'verbose': 10, 'depth': 1, 'dropout': {'rate': 0.1}, 'output_embedding': 'graph', 'output_to_tensor': None, 'output_tensor_type': 'padded', 'output_mlp': {'use_bias': [True, True, False], 'units': [64, 32, 1], 'activation': ['relu', 'relu', 'linear']}, 'output_scaling': None}'.\n"
     ]
    },
    {
     "name": "stdout",
     "output_type": "stream",
     "text": [
      "\u001b[1m2/2\u001b[0m \u001b[32m━━━━━━━━━━━━━━━━━━━━\u001b[0m\u001b[37m\u001b[0m \u001b[1m0s\u001b[0m 12ms/step\n"
     ]
    },
    {
     "name": "stderr",
     "output_type": "stream",
     "text": [
      "[I 2024-02-21 14:39:39,632] Trial 10 finished with value: 0.46965232491493225 and parameters: {'depth': 1, 'pooling_method': 'scatter_sum', 'units': 192, 'learning_rate': 0.0038012182199441556}. Best is trial 10 with value: 0.46965232491493225.\n",
      "INFO:kgcnn.models.utils:Updated model kwargs: '{'name': 'DMPNN', 'inputs': [{'shape': (None, 41), 'name': 'node_attributes', 'dtype': 'float32'}, {'shape': (None, 11), 'name': 'edge_attributes', 'dtype': 'float32'}, {'shape': (None, 2), 'name': 'edge_indices', 'dtype': 'int64'}, {'shape': (None, 1), 'name': 'edge_indices_reverse', 'dtype': 'int64'}, {'shape': (), 'name': 'total_nodes', 'dtype': 'int64'}, {'shape': (), 'name': 'total_edges', 'dtype': 'int64'}, {'shape': (), 'name': 'total_reverse', 'dtype': 'int64'}], 'input_tensor_type': 'padded', 'cast_disjoint_kwargs': {}, 'input_embedding': None, 'input_node_embedding': {'input_dim': 95, 'output_dim': 64}, 'input_edge_embedding': {'input_dim': 5, 'output_dim': 64}, 'input_graph_embedding': {'input_dim': 100, 'output_dim': 64}, 'pooling_args': {'pooling_method': 'scatter_sum'}, 'use_graph_state': False, 'edge_initialize': {'units': 192, 'use_bias': True, 'activation': 'relu'}, 'edge_dense': {'units': 192, 'use_bias': True, 'activation': 'linear'}, 'edge_activation': {'activation': 'relu'}, 'node_dense': {'units': 192, 'use_bias': True, 'activation': 'relu'}, 'verbose': 10, 'depth': 1, 'dropout': {'rate': 0.1}, 'output_embedding': 'graph', 'output_to_tensor': None, 'output_tensor_type': 'padded', 'output_mlp': {'use_bias': [True, True, False], 'units': [64, 32, 1], 'activation': ['relu', 'relu', 'linear']}, 'output_scaling': None}'.\n"
     ]
    },
    {
     "name": "stdout",
     "output_type": "stream",
     "text": [
      "\u001b[1m2/2\u001b[0m \u001b[32m━━━━━━━━━━━━━━━━━━━━\u001b[0m\u001b[37m\u001b[0m \u001b[1m0s\u001b[0m 10ms/step\n"
     ]
    },
    {
     "name": "stderr",
     "output_type": "stream",
     "text": [
      "[I 2024-02-21 14:39:55,274] Trial 11 finished with value: 0.4475615918636322 and parameters: {'depth': 1, 'pooling_method': 'scatter_sum', 'units': 192, 'learning_rate': 0.005056621090307322}. Best is trial 11 with value: 0.4475615918636322.\n",
      "INFO:kgcnn.models.utils:Updated model kwargs: '{'name': 'DMPNN', 'inputs': [{'shape': (None, 41), 'name': 'node_attributes', 'dtype': 'float32'}, {'shape': (None, 11), 'name': 'edge_attributes', 'dtype': 'float32'}, {'shape': (None, 2), 'name': 'edge_indices', 'dtype': 'int64'}, {'shape': (None, 1), 'name': 'edge_indices_reverse', 'dtype': 'int64'}, {'shape': (), 'name': 'total_nodes', 'dtype': 'int64'}, {'shape': (), 'name': 'total_edges', 'dtype': 'int64'}, {'shape': (), 'name': 'total_reverse', 'dtype': 'int64'}], 'input_tensor_type': 'padded', 'cast_disjoint_kwargs': {}, 'input_embedding': None, 'input_node_embedding': {'input_dim': 95, 'output_dim': 64}, 'input_edge_embedding': {'input_dim': 5, 'output_dim': 64}, 'input_graph_embedding': {'input_dim': 100, 'output_dim': 64}, 'pooling_args': {'pooling_method': 'scatter_sum'}, 'use_graph_state': False, 'edge_initialize': {'units': 192, 'use_bias': True, 'activation': 'relu'}, 'edge_dense': {'units': 192, 'use_bias': True, 'activation': 'linear'}, 'edge_activation': {'activation': 'relu'}, 'node_dense': {'units': 192, 'use_bias': True, 'activation': 'relu'}, 'verbose': 10, 'depth': 1, 'dropout': {'rate': 0.1}, 'output_embedding': 'graph', 'output_to_tensor': None, 'output_tensor_type': 'padded', 'output_mlp': {'use_bias': [True, True, False], 'units': [64, 32, 1], 'activation': ['relu', 'relu', 'linear']}, 'output_scaling': None}'.\n"
     ]
    },
    {
     "name": "stdout",
     "output_type": "stream",
     "text": [
      "\u001b[1m2/2\u001b[0m \u001b[32m━━━━━━━━━━━━━━━━━━━━\u001b[0m\u001b[37m\u001b[0m \u001b[1m0s\u001b[0m 11ms/step\n"
     ]
    },
    {
     "name": "stderr",
     "output_type": "stream",
     "text": [
      "[I 2024-02-21 14:40:10,845] Trial 12 finished with value: 0.4407065510749817 and parameters: {'depth': 1, 'pooling_method': 'scatter_sum', 'units': 192, 'learning_rate': 0.002920636602320461}. Best is trial 12 with value: 0.4407065510749817.\n",
      "INFO:kgcnn.models.utils:Updated model kwargs: '{'name': 'DMPNN', 'inputs': [{'shape': (None, 41), 'name': 'node_attributes', 'dtype': 'float32'}, {'shape': (None, 11), 'name': 'edge_attributes', 'dtype': 'float32'}, {'shape': (None, 2), 'name': 'edge_indices', 'dtype': 'int64'}, {'shape': (None, 1), 'name': 'edge_indices_reverse', 'dtype': 'int64'}, {'shape': (), 'name': 'total_nodes', 'dtype': 'int64'}, {'shape': (), 'name': 'total_edges', 'dtype': 'int64'}, {'shape': (), 'name': 'total_reverse', 'dtype': 'int64'}], 'input_tensor_type': 'padded', 'cast_disjoint_kwargs': {}, 'input_embedding': None, 'input_node_embedding': {'input_dim': 95, 'output_dim': 64}, 'input_edge_embedding': {'input_dim': 5, 'output_dim': 64}, 'input_graph_embedding': {'input_dim': 100, 'output_dim': 64}, 'pooling_args': {'pooling_method': 'scatter_sum'}, 'use_graph_state': False, 'edge_initialize': {'units': 192, 'use_bias': True, 'activation': 'relu'}, 'edge_dense': {'units': 192, 'use_bias': True, 'activation': 'linear'}, 'edge_activation': {'activation': 'relu'}, 'node_dense': {'units': 192, 'use_bias': True, 'activation': 'relu'}, 'verbose': 10, 'depth': 1, 'dropout': {'rate': 0.1}, 'output_embedding': 'graph', 'output_to_tensor': None, 'output_tensor_type': 'padded', 'output_mlp': {'use_bias': [True, True, False], 'units': [64, 32, 1], 'activation': ['relu', 'relu', 'linear']}, 'output_scaling': None}'.\n"
     ]
    },
    {
     "name": "stdout",
     "output_type": "stream",
     "text": [
      "\u001b[1m2/2\u001b[0m \u001b[32m━━━━━━━━━━━━━━━━━━━━\u001b[0m\u001b[37m\u001b[0m \u001b[1m0s\u001b[0m 12ms/step\n"
     ]
    },
    {
     "name": "stderr",
     "output_type": "stream",
     "text": [
      "[I 2024-02-21 14:40:26,572] Trial 13 finished with value: 0.46596792340278625 and parameters: {'depth': 1, 'pooling_method': 'scatter_sum', 'units': 192, 'learning_rate': 0.0021115821528122493}. Best is trial 12 with value: 0.4407065510749817.\n",
      "INFO:kgcnn.models.utils:Updated model kwargs: '{'name': 'DMPNN', 'inputs': [{'shape': (None, 41), 'name': 'node_attributes', 'dtype': 'float32'}, {'shape': (None, 11), 'name': 'edge_attributes', 'dtype': 'float32'}, {'shape': (None, 2), 'name': 'edge_indices', 'dtype': 'int64'}, {'shape': (None, 1), 'name': 'edge_indices_reverse', 'dtype': 'int64'}, {'shape': (), 'name': 'total_nodes', 'dtype': 'int64'}, {'shape': (), 'name': 'total_edges', 'dtype': 'int64'}, {'shape': (), 'name': 'total_reverse', 'dtype': 'int64'}], 'input_tensor_type': 'padded', 'cast_disjoint_kwargs': {}, 'input_embedding': None, 'input_node_embedding': {'input_dim': 95, 'output_dim': 64}, 'input_edge_embedding': {'input_dim': 5, 'output_dim': 64}, 'input_graph_embedding': {'input_dim': 100, 'output_dim': 64}, 'pooling_args': {'pooling_method': 'scatter_sum'}, 'use_graph_state': False, 'edge_initialize': {'units': 256, 'use_bias': True, 'activation': 'relu'}, 'edge_dense': {'units': 256, 'use_bias': True, 'activation': 'linear'}, 'edge_activation': {'activation': 'relu'}, 'node_dense': {'units': 256, 'use_bias': True, 'activation': 'relu'}, 'verbose': 10, 'depth': 5, 'dropout': {'rate': 0.1}, 'output_embedding': 'graph', 'output_to_tensor': None, 'output_tensor_type': 'padded', 'output_mlp': {'use_bias': [True, True, False], 'units': [64, 32, 1], 'activation': ['relu', 'relu', 'linear']}, 'output_scaling': None}'.\n"
     ]
    },
    {
     "name": "stdout",
     "output_type": "stream",
     "text": [
      "\u001b[1m2/2\u001b[0m \u001b[32m━━━━━━━━━━━━━━━━━━━━\u001b[0m\u001b[37m\u001b[0m \u001b[1m0s\u001b[0m 18ms/step\n"
     ]
    },
    {
     "name": "stderr",
     "output_type": "stream",
     "text": [
      "[I 2024-02-21 14:40:53,532] Trial 14 finished with value: 0.5813702344894409 and parameters: {'depth': 5, 'pooling_method': 'scatter_sum', 'units': 256, 'learning_rate': 0.008131795355294852}. Best is trial 12 with value: 0.4407065510749817.\n",
      "INFO:kgcnn.models.utils:Updated model kwargs: '{'name': 'DMPNN', 'inputs': [{'shape': (None, 41), 'name': 'node_attributes', 'dtype': 'float32'}, {'shape': (None, 11), 'name': 'edge_attributes', 'dtype': 'float32'}, {'shape': (None, 2), 'name': 'edge_indices', 'dtype': 'int64'}, {'shape': (None, 1), 'name': 'edge_indices_reverse', 'dtype': 'int64'}, {'shape': (), 'name': 'total_nodes', 'dtype': 'int64'}, {'shape': (), 'name': 'total_edges', 'dtype': 'int64'}, {'shape': (), 'name': 'total_reverse', 'dtype': 'int64'}], 'input_tensor_type': 'padded', 'cast_disjoint_kwargs': {}, 'input_embedding': None, 'input_node_embedding': {'input_dim': 95, 'output_dim': 64}, 'input_edge_embedding': {'input_dim': 5, 'output_dim': 64}, 'input_graph_embedding': {'input_dim': 100, 'output_dim': 64}, 'pooling_args': {'pooling_method': 'scatter_sum'}, 'use_graph_state': False, 'edge_initialize': {'units': 192, 'use_bias': True, 'activation': 'relu'}, 'edge_dense': {'units': 192, 'use_bias': True, 'activation': 'linear'}, 'edge_activation': {'activation': 'relu'}, 'node_dense': {'units': 192, 'use_bias': True, 'activation': 'relu'}, 'verbose': 10, 'depth': 1, 'dropout': {'rate': 0.1}, 'output_embedding': 'graph', 'output_to_tensor': None, 'output_tensor_type': 'padded', 'output_mlp': {'use_bias': [True, True, False], 'units': [64, 32, 1], 'activation': ['relu', 'relu', 'linear']}, 'output_scaling': None}'.\n"
     ]
    },
    {
     "name": "stdout",
     "output_type": "stream",
     "text": [
      "\u001b[1m2/2\u001b[0m \u001b[32m━━━━━━━━━━━━━━━━━━━━\u001b[0m\u001b[37m\u001b[0m \u001b[1m0s\u001b[0m 12ms/step\n"
     ]
    },
    {
     "name": "stderr",
     "output_type": "stream",
     "text": [
      "[I 2024-02-21 14:41:09,192] Trial 15 finished with value: 0.4966147541999817 and parameters: {'depth': 1, 'pooling_method': 'scatter_sum', 'units': 192, 'learning_rate': 0.0011197329206860196}. Best is trial 12 with value: 0.4407065510749817.\n",
      "INFO:kgcnn.models.utils:Updated model kwargs: '{'name': 'DMPNN', 'inputs': [{'shape': (None, 41), 'name': 'node_attributes', 'dtype': 'float32'}, {'shape': (None, 11), 'name': 'edge_attributes', 'dtype': 'float32'}, {'shape': (None, 2), 'name': 'edge_indices', 'dtype': 'int64'}, {'shape': (None, 1), 'name': 'edge_indices_reverse', 'dtype': 'int64'}, {'shape': (), 'name': 'total_nodes', 'dtype': 'int64'}, {'shape': (), 'name': 'total_edges', 'dtype': 'int64'}, {'shape': (), 'name': 'total_reverse', 'dtype': 'int64'}], 'input_tensor_type': 'padded', 'cast_disjoint_kwargs': {}, 'input_embedding': None, 'input_node_embedding': {'input_dim': 95, 'output_dim': 64}, 'input_edge_embedding': {'input_dim': 5, 'output_dim': 64}, 'input_graph_embedding': {'input_dim': 100, 'output_dim': 64}, 'pooling_args': {'pooling_method': 'scatter_sum'}, 'use_graph_state': False, 'edge_initialize': {'units': 160, 'use_bias': True, 'activation': 'relu'}, 'edge_dense': {'units': 160, 'use_bias': True, 'activation': 'linear'}, 'edge_activation': {'activation': 'relu'}, 'node_dense': {'units': 160, 'use_bias': True, 'activation': 'relu'}, 'verbose': 10, 'depth': 1, 'dropout': {'rate': 0.1}, 'output_embedding': 'graph', 'output_to_tensor': None, 'output_tensor_type': 'padded', 'output_mlp': {'use_bias': [True, True, False], 'units': [64, 32, 1], 'activation': ['relu', 'relu', 'linear']}, 'output_scaling': None}'.\n"
     ]
    },
    {
     "name": "stdout",
     "output_type": "stream",
     "text": [
      "\u001b[1m2/2\u001b[0m \u001b[32m━━━━━━━━━━━━━━━━━━━━\u001b[0m\u001b[37m\u001b[0m \u001b[1m0s\u001b[0m 12ms/step\n"
     ]
    },
    {
     "name": "stderr",
     "output_type": "stream",
     "text": [
      "[I 2024-02-21 14:41:24,972] Trial 16 finished with value: 0.5125184655189514 and parameters: {'depth': 1, 'pooling_method': 'scatter_sum', 'units': 160, 'learning_rate': 0.012990289013792653}. Best is trial 12 with value: 0.4407065510749817.\n",
      "INFO:kgcnn.models.utils:Updated model kwargs: '{'name': 'DMPNN', 'inputs': [{'shape': (None, 41), 'name': 'node_attributes', 'dtype': 'float32'}, {'shape': (None, 11), 'name': 'edge_attributes', 'dtype': 'float32'}, {'shape': (None, 2), 'name': 'edge_indices', 'dtype': 'int64'}, {'shape': (None, 1), 'name': 'edge_indices_reverse', 'dtype': 'int64'}, {'shape': (), 'name': 'total_nodes', 'dtype': 'int64'}, {'shape': (), 'name': 'total_edges', 'dtype': 'int64'}, {'shape': (), 'name': 'total_reverse', 'dtype': 'int64'}], 'input_tensor_type': 'padded', 'cast_disjoint_kwargs': {}, 'input_embedding': None, 'input_node_embedding': {'input_dim': 95, 'output_dim': 64}, 'input_edge_embedding': {'input_dim': 5, 'output_dim': 64}, 'input_graph_embedding': {'input_dim': 100, 'output_dim': 64}, 'pooling_args': {'pooling_method': 'scatter_sum'}, 'use_graph_state': False, 'edge_initialize': {'units': 224, 'use_bias': True, 'activation': 'relu'}, 'edge_dense': {'units': 224, 'use_bias': True, 'activation': 'linear'}, 'edge_activation': {'activation': 'relu'}, 'node_dense': {'units': 224, 'use_bias': True, 'activation': 'relu'}, 'verbose': 10, 'depth': 1, 'dropout': {'rate': 0.1}, 'output_embedding': 'graph', 'output_to_tensor': None, 'output_tensor_type': 'padded', 'output_mlp': {'use_bias': [True, True, False], 'units': [64, 32, 1], 'activation': ['relu', 'relu', 'linear']}, 'output_scaling': None}'.\n"
     ]
    },
    {
     "name": "stdout",
     "output_type": "stream",
     "text": [
      "\u001b[1m2/2\u001b[0m \u001b[32m━━━━━━━━━━━━━━━━━━━━\u001b[0m\u001b[37m\u001b[0m \u001b[1m0s\u001b[0m 12ms/step\n"
     ]
    },
    {
     "name": "stderr",
     "output_type": "stream",
     "text": [
      "[I 2024-02-21 14:41:40,651] Trial 17 finished with value: 0.4994126558303833 and parameters: {'depth': 1, 'pooling_method': 'scatter_sum', 'units': 224, 'learning_rate': 0.0017809636860561748}. Best is trial 12 with value: 0.4407065510749817.\n",
      "INFO:kgcnn.models.utils:Updated model kwargs: '{'name': 'DMPNN', 'inputs': [{'shape': (None, 41), 'name': 'node_attributes', 'dtype': 'float32'}, {'shape': (None, 11), 'name': 'edge_attributes', 'dtype': 'float32'}, {'shape': (None, 2), 'name': 'edge_indices', 'dtype': 'int64'}, {'shape': (None, 1), 'name': 'edge_indices_reverse', 'dtype': 'int64'}, {'shape': (), 'name': 'total_nodes', 'dtype': 'int64'}, {'shape': (), 'name': 'total_edges', 'dtype': 'int64'}, {'shape': (), 'name': 'total_reverse', 'dtype': 'int64'}], 'input_tensor_type': 'padded', 'cast_disjoint_kwargs': {}, 'input_embedding': None, 'input_node_embedding': {'input_dim': 95, 'output_dim': 64}, 'input_edge_embedding': {'input_dim': 5, 'output_dim': 64}, 'input_graph_embedding': {'input_dim': 100, 'output_dim': 64}, 'pooling_args': {'pooling_method': 'scatter_mean'}, 'use_graph_state': False, 'edge_initialize': {'units': 224, 'use_bias': True, 'activation': 'relu'}, 'edge_dense': {'units': 224, 'use_bias': True, 'activation': 'linear'}, 'edge_activation': {'activation': 'relu'}, 'node_dense': {'units': 224, 'use_bias': True, 'activation': 'relu'}, 'verbose': 10, 'depth': 1, 'dropout': {'rate': 0.1}, 'output_embedding': 'graph', 'output_to_tensor': None, 'output_tensor_type': 'padded', 'output_mlp': {'use_bias': [True, True, False], 'units': [64, 32, 1], 'activation': ['relu', 'relu', 'linear']}, 'output_scaling': None}'.\n"
     ]
    },
    {
     "name": "stdout",
     "output_type": "stream",
     "text": [
      "\u001b[1m2/2\u001b[0m \u001b[32m━━━━━━━━━━━━━━━━━━━━\u001b[0m\u001b[37m\u001b[0m \u001b[1m0s\u001b[0m 12ms/step\n"
     ]
    },
    {
     "name": "stderr",
     "output_type": "stream",
     "text": [
      "[I 2024-02-21 14:41:57,133] Trial 18 finished with value: 0.6579980254173279 and parameters: {'depth': 1, 'pooling_method': 'scatter_mean', 'units': 224, 'learning_rate': 0.021024403130558776}. Best is trial 12 with value: 0.4407065510749817.\n",
      "INFO:kgcnn.models.utils:Updated model kwargs: '{'name': 'DMPNN', 'inputs': [{'shape': (None, 41), 'name': 'node_attributes', 'dtype': 'float32'}, {'shape': (None, 11), 'name': 'edge_attributes', 'dtype': 'float32'}, {'shape': (None, 2), 'name': 'edge_indices', 'dtype': 'int64'}, {'shape': (None, 1), 'name': 'edge_indices_reverse', 'dtype': 'int64'}, {'shape': (), 'name': 'total_nodes', 'dtype': 'int64'}, {'shape': (), 'name': 'total_edges', 'dtype': 'int64'}, {'shape': (), 'name': 'total_reverse', 'dtype': 'int64'}], 'input_tensor_type': 'padded', 'cast_disjoint_kwargs': {}, 'input_embedding': None, 'input_node_embedding': {'input_dim': 95, 'output_dim': 64}, 'input_edge_embedding': {'input_dim': 5, 'output_dim': 64}, 'input_graph_embedding': {'input_dim': 100, 'output_dim': 64}, 'pooling_args': {'pooling_method': 'scatter_sum'}, 'use_graph_state': False, 'edge_initialize': {'units': 160, 'use_bias': True, 'activation': 'relu'}, 'edge_dense': {'units': 160, 'use_bias': True, 'activation': 'linear'}, 'edge_activation': {'activation': 'relu'}, 'node_dense': {'units': 160, 'use_bias': True, 'activation': 'relu'}, 'verbose': 10, 'depth': 5, 'dropout': {'rate': 0.1}, 'output_embedding': 'graph', 'output_to_tensor': None, 'output_tensor_type': 'padded', 'output_mlp': {'use_bias': [True, True, False], 'units': [64, 32, 1], 'activation': ['relu', 'relu', 'linear']}, 'output_scaling': None}'.\n"
     ]
    },
    {
     "name": "stdout",
     "output_type": "stream",
     "text": [
      "\u001b[1m2/2\u001b[0m \u001b[32m━━━━━━━━━━━━━━━━━━━━\u001b[0m\u001b[37m\u001b[0m \u001b[1m0s\u001b[0m 19ms/step\n"
     ]
    },
    {
     "name": "stderr",
     "output_type": "stream",
     "text": [
      "[I 2024-02-21 14:42:24,978] Trial 19 finished with value: 0.48735788464546204 and parameters: {'depth': 5, 'pooling_method': 'scatter_sum', 'units': 160, 'learning_rate': 0.003843506724920451}. Best is trial 12 with value: 0.4407065510749817.\n",
      "INFO:kgcnn.models.utils:Updated model kwargs: '{'name': 'DMPNN', 'inputs': [{'shape': (None, 41), 'name': 'node_attributes', 'dtype': 'float32'}, {'shape': (None, 11), 'name': 'edge_attributes', 'dtype': 'float32'}, {'shape': (None, 2), 'name': 'edge_indices', 'dtype': 'int64'}, {'shape': (None, 1), 'name': 'edge_indices_reverse', 'dtype': 'int64'}, {'shape': (), 'name': 'total_nodes', 'dtype': 'int64'}, {'shape': (), 'name': 'total_edges', 'dtype': 'int64'}, {'shape': (), 'name': 'total_reverse', 'dtype': 'int64'}], 'input_tensor_type': 'padded', 'cast_disjoint_kwargs': {}, 'input_embedding': None, 'input_node_embedding': {'input_dim': 95, 'output_dim': 64}, 'input_edge_embedding': {'input_dim': 5, 'output_dim': 64}, 'input_graph_embedding': {'input_dim': 100, 'output_dim': 64}, 'pooling_args': {'pooling_method': 'scatter_sum'}, 'use_graph_state': False, 'edge_initialize': {'units': 192, 'use_bias': True, 'activation': 'relu'}, 'edge_dense': {'units': 192, 'use_bias': True, 'activation': 'linear'}, 'edge_activation': {'activation': 'relu'}, 'node_dense': {'units': 192, 'use_bias': True, 'activation': 'relu'}, 'verbose': 10, 'depth': 1, 'dropout': {'rate': 0.1}, 'output_embedding': 'graph', 'output_to_tensor': None, 'output_tensor_type': 'padded', 'output_mlp': {'use_bias': [True, True, False], 'units': [64, 32, 1], 'activation': ['relu', 'relu', 'linear']}, 'output_scaling': None}'.\n"
     ]
    },
    {
     "name": "stdout",
     "output_type": "stream",
     "text": [
      "\u001b[1m2/2\u001b[0m \u001b[32m━━━━━━━━━━━━━━━━━━━━\u001b[0m\u001b[37m\u001b[0m \u001b[1m0s\u001b[0m 13ms/step\n"
     ]
    },
    {
     "name": "stderr",
     "output_type": "stream",
     "text": [
      "[I 2024-02-21 14:42:41,130] Trial 20 finished with value: 0.5123136639595032 and parameters: {'depth': 1, 'pooling_method': 'scatter_sum', 'units': 192, 'learning_rate': 0.0008611954285106379}. Best is trial 12 with value: 0.4407065510749817.\n",
      "INFO:kgcnn.models.utils:Updated model kwargs: '{'name': 'DMPNN', 'inputs': [{'shape': (None, 41), 'name': 'node_attributes', 'dtype': 'float32'}, {'shape': (None, 11), 'name': 'edge_attributes', 'dtype': 'float32'}, {'shape': (None, 2), 'name': 'edge_indices', 'dtype': 'int64'}, {'shape': (None, 1), 'name': 'edge_indices_reverse', 'dtype': 'int64'}, {'shape': (), 'name': 'total_nodes', 'dtype': 'int64'}, {'shape': (), 'name': 'total_edges', 'dtype': 'int64'}, {'shape': (), 'name': 'total_reverse', 'dtype': 'int64'}], 'input_tensor_type': 'padded', 'cast_disjoint_kwargs': {}, 'input_embedding': None, 'input_node_embedding': {'input_dim': 95, 'output_dim': 64}, 'input_edge_embedding': {'input_dim': 5, 'output_dim': 64}, 'input_graph_embedding': {'input_dim': 100, 'output_dim': 64}, 'pooling_args': {'pooling_method': 'scatter_sum'}, 'use_graph_state': False, 'edge_initialize': {'units': 192, 'use_bias': True, 'activation': 'relu'}, 'edge_dense': {'units': 192, 'use_bias': True, 'activation': 'linear'}, 'edge_activation': {'activation': 'relu'}, 'node_dense': {'units': 192, 'use_bias': True, 'activation': 'relu'}, 'verbose': 10, 'depth': 1, 'dropout': {'rate': 0.1}, 'output_embedding': 'graph', 'output_to_tensor': None, 'output_tensor_type': 'padded', 'output_mlp': {'use_bias': [True, True, False], 'units': [64, 32, 1], 'activation': ['relu', 'relu', 'linear']}, 'output_scaling': None}'.\n"
     ]
    },
    {
     "name": "stdout",
     "output_type": "stream",
     "text": [
      "\u001b[1m2/2\u001b[0m \u001b[32m━━━━━━━━━━━━━━━━━━━━\u001b[0m\u001b[37m\u001b[0m \u001b[1m0s\u001b[0m 11ms/step\n"
     ]
    },
    {
     "name": "stderr",
     "output_type": "stream",
     "text": [
      "[I 2024-02-21 14:42:57,250] Trial 21 finished with value: 0.4641869068145752 and parameters: {'depth': 1, 'pooling_method': 'scatter_sum', 'units': 192, 'learning_rate': 0.0021297443329203396}. Best is trial 12 with value: 0.4407065510749817.\n",
      "INFO:kgcnn.models.utils:Updated model kwargs: '{'name': 'DMPNN', 'inputs': [{'shape': (None, 41), 'name': 'node_attributes', 'dtype': 'float32'}, {'shape': (None, 11), 'name': 'edge_attributes', 'dtype': 'float32'}, {'shape': (None, 2), 'name': 'edge_indices', 'dtype': 'int64'}, {'shape': (None, 1), 'name': 'edge_indices_reverse', 'dtype': 'int64'}, {'shape': (), 'name': 'total_nodes', 'dtype': 'int64'}, {'shape': (), 'name': 'total_edges', 'dtype': 'int64'}, {'shape': (), 'name': 'total_reverse', 'dtype': 'int64'}], 'input_tensor_type': 'padded', 'cast_disjoint_kwargs': {}, 'input_embedding': None, 'input_node_embedding': {'input_dim': 95, 'output_dim': 64}, 'input_edge_embedding': {'input_dim': 5, 'output_dim': 64}, 'input_graph_embedding': {'input_dim': 100, 'output_dim': 64}, 'pooling_args': {'pooling_method': 'scatter_sum'}, 'use_graph_state': False, 'edge_initialize': {'units': 224, 'use_bias': True, 'activation': 'relu'}, 'edge_dense': {'units': 224, 'use_bias': True, 'activation': 'linear'}, 'edge_activation': {'activation': 'relu'}, 'node_dense': {'units': 224, 'use_bias': True, 'activation': 'relu'}, 'verbose': 10, 'depth': 1, 'dropout': {'rate': 0.1}, 'output_embedding': 'graph', 'output_to_tensor': None, 'output_tensor_type': 'padded', 'output_mlp': {'use_bias': [True, True, False], 'units': [64, 32, 1], 'activation': ['relu', 'relu', 'linear']}, 'output_scaling': None}'.\n"
     ]
    },
    {
     "name": "stdout",
     "output_type": "stream",
     "text": [
      "\u001b[1m2/2\u001b[0m \u001b[32m━━━━━━━━━━━━━━━━━━━━\u001b[0m\u001b[37m\u001b[0m \u001b[1m0s\u001b[0m 11ms/step\n"
     ]
    },
    {
     "name": "stderr",
     "output_type": "stream",
     "text": [
      "[I 2024-02-21 14:43:13,204] Trial 22 finished with value: 0.5830323696136475 and parameters: {'depth': 1, 'pooling_method': 'scatter_sum', 'units': 224, 'learning_rate': 0.0023849948642435254}. Best is trial 12 with value: 0.4407065510749817.\n",
      "INFO:kgcnn.models.utils:Updated model kwargs: '{'name': 'DMPNN', 'inputs': [{'shape': (None, 41), 'name': 'node_attributes', 'dtype': 'float32'}, {'shape': (None, 11), 'name': 'edge_attributes', 'dtype': 'float32'}, {'shape': (None, 2), 'name': 'edge_indices', 'dtype': 'int64'}, {'shape': (None, 1), 'name': 'edge_indices_reverse', 'dtype': 'int64'}, {'shape': (), 'name': 'total_nodes', 'dtype': 'int64'}, {'shape': (), 'name': 'total_edges', 'dtype': 'int64'}, {'shape': (), 'name': 'total_reverse', 'dtype': 'int64'}], 'input_tensor_type': 'padded', 'cast_disjoint_kwargs': {}, 'input_embedding': None, 'input_node_embedding': {'input_dim': 95, 'output_dim': 64}, 'input_edge_embedding': {'input_dim': 5, 'output_dim': 64}, 'input_graph_embedding': {'input_dim': 100, 'output_dim': 64}, 'pooling_args': {'pooling_method': 'scatter_sum'}, 'use_graph_state': False, 'edge_initialize': {'units': 160, 'use_bias': True, 'activation': 'relu'}, 'edge_dense': {'units': 160, 'use_bias': True, 'activation': 'linear'}, 'edge_activation': {'activation': 'relu'}, 'node_dense': {'units': 160, 'use_bias': True, 'activation': 'relu'}, 'verbose': 10, 'depth': 1, 'dropout': {'rate': 0.1}, 'output_embedding': 'graph', 'output_to_tensor': None, 'output_tensor_type': 'padded', 'output_mlp': {'use_bias': [True, True, False], 'units': [64, 32, 1], 'activation': ['relu', 'relu', 'linear']}, 'output_scaling': None}'.\n"
     ]
    },
    {
     "name": "stdout",
     "output_type": "stream",
     "text": [
      "\u001b[1m2/2\u001b[0m \u001b[32m━━━━━━━━━━━━━━━━━━━━\u001b[0m\u001b[37m\u001b[0m \u001b[1m0s\u001b[0m 15ms/step\n"
     ]
    },
    {
     "name": "stderr",
     "output_type": "stream",
     "text": [
      "[I 2024-02-21 14:43:29,142] Trial 23 finished with value: 0.47779083251953125 and parameters: {'depth': 1, 'pooling_method': 'scatter_sum', 'units': 160, 'learning_rate': 0.005921638046673211}. Best is trial 12 with value: 0.4407065510749817.\n",
      "INFO:kgcnn.models.utils:Updated model kwargs: '{'name': 'DMPNN', 'inputs': [{'shape': (None, 41), 'name': 'node_attributes', 'dtype': 'float32'}, {'shape': (None, 11), 'name': 'edge_attributes', 'dtype': 'float32'}, {'shape': (None, 2), 'name': 'edge_indices', 'dtype': 'int64'}, {'shape': (None, 1), 'name': 'edge_indices_reverse', 'dtype': 'int64'}, {'shape': (), 'name': 'total_nodes', 'dtype': 'int64'}, {'shape': (), 'name': 'total_edges', 'dtype': 'int64'}, {'shape': (), 'name': 'total_reverse', 'dtype': 'int64'}], 'input_tensor_type': 'padded', 'cast_disjoint_kwargs': {}, 'input_embedding': None, 'input_node_embedding': {'input_dim': 95, 'output_dim': 64}, 'input_edge_embedding': {'input_dim': 5, 'output_dim': 64}, 'input_graph_embedding': {'input_dim': 100, 'output_dim': 64}, 'pooling_args': {'pooling_method': 'scatter_sum'}, 'use_graph_state': False, 'edge_initialize': {'units': 192, 'use_bias': True, 'activation': 'relu'}, 'edge_dense': {'units': 192, 'use_bias': True, 'activation': 'linear'}, 'edge_activation': {'activation': 'relu'}, 'node_dense': {'units': 192, 'use_bias': True, 'activation': 'relu'}, 'verbose': 10, 'depth': 1, 'dropout': {'rate': 0.1}, 'output_embedding': 'graph', 'output_to_tensor': None, 'output_tensor_type': 'padded', 'output_mlp': {'use_bias': [True, True, False], 'units': [64, 32, 1], 'activation': ['relu', 'relu', 'linear']}, 'output_scaling': None}'.\n"
     ]
    },
    {
     "name": "stdout",
     "output_type": "stream",
     "text": [
      "\u001b[1m2/2\u001b[0m \u001b[32m━━━━━━━━━━━━━━━━━━━━\u001b[0m\u001b[37m\u001b[0m \u001b[1m0s\u001b[0m 11ms/step\n"
     ]
    },
    {
     "name": "stderr",
     "output_type": "stream",
     "text": [
      "[I 2024-02-21 14:43:45,106] Trial 24 finished with value: 0.5518026351928711 and parameters: {'depth': 1, 'pooling_method': 'scatter_sum', 'units': 192, 'learning_rate': 0.021476339417056716}. Best is trial 12 with value: 0.4407065510749817.\n",
      "INFO:kgcnn.models.utils:Updated model kwargs: '{'name': 'DMPNN', 'inputs': [{'shape': (None, 41), 'name': 'node_attributes', 'dtype': 'float32'}, {'shape': (None, 11), 'name': 'edge_attributes', 'dtype': 'float32'}, {'shape': (None, 2), 'name': 'edge_indices', 'dtype': 'int64'}, {'shape': (None, 1), 'name': 'edge_indices_reverse', 'dtype': 'int64'}, {'shape': (), 'name': 'total_nodes', 'dtype': 'int64'}, {'shape': (), 'name': 'total_edges', 'dtype': 'int64'}, {'shape': (), 'name': 'total_reverse', 'dtype': 'int64'}], 'input_tensor_type': 'padded', 'cast_disjoint_kwargs': {}, 'input_embedding': None, 'input_node_embedding': {'input_dim': 95, 'output_dim': 64}, 'input_edge_embedding': {'input_dim': 5, 'output_dim': 64}, 'input_graph_embedding': {'input_dim': 100, 'output_dim': 64}, 'pooling_args': {'pooling_method': 'scatter_sum'}, 'use_graph_state': False, 'edge_initialize': {'units': 128, 'use_bias': True, 'activation': 'relu'}, 'edge_dense': {'units': 128, 'use_bias': True, 'activation': 'linear'}, 'edge_activation': {'activation': 'relu'}, 'node_dense': {'units': 128, 'use_bias': True, 'activation': 'relu'}, 'verbose': 10, 'depth': 3, 'dropout': {'rate': 0.1}, 'output_embedding': 'graph', 'output_to_tensor': None, 'output_tensor_type': 'padded', 'output_mlp': {'use_bias': [True, True, False], 'units': [64, 32, 1], 'activation': ['relu', 'relu', 'linear']}, 'output_scaling': None}'.\n"
     ]
    },
    {
     "name": "stdout",
     "output_type": "stream",
     "text": [
      "\u001b[1m2/2\u001b[0m \u001b[32m━━━━━━━━━━━━━━━━━━━━\u001b[0m\u001b[37m\u001b[0m \u001b[1m0s\u001b[0m 15ms/step\n"
     ]
    },
    {
     "name": "stderr",
     "output_type": "stream",
     "text": [
      "[I 2024-02-21 14:44:06,049] Trial 25 finished with value: 0.4505356550216675 and parameters: {'depth': 3, 'pooling_method': 'scatter_sum', 'units': 128, 'learning_rate': 0.003578521322801359}. Best is trial 12 with value: 0.4407065510749817.\n",
      "INFO:kgcnn.models.utils:Updated model kwargs: '{'name': 'DMPNN', 'inputs': [{'shape': (None, 41), 'name': 'node_attributes', 'dtype': 'float32'}, {'shape': (None, 11), 'name': 'edge_attributes', 'dtype': 'float32'}, {'shape': (None, 2), 'name': 'edge_indices', 'dtype': 'int64'}, {'shape': (None, 1), 'name': 'edge_indices_reverse', 'dtype': 'int64'}, {'shape': (), 'name': 'total_nodes', 'dtype': 'int64'}, {'shape': (), 'name': 'total_edges', 'dtype': 'int64'}, {'shape': (), 'name': 'total_reverse', 'dtype': 'int64'}], 'input_tensor_type': 'padded', 'cast_disjoint_kwargs': {}, 'input_embedding': None, 'input_node_embedding': {'input_dim': 95, 'output_dim': 64}, 'input_edge_embedding': {'input_dim': 5, 'output_dim': 64}, 'input_graph_embedding': {'input_dim': 100, 'output_dim': 64}, 'pooling_args': {'pooling_method': 'scatter_mean'}, 'use_graph_state': False, 'edge_initialize': {'units': 128, 'use_bias': True, 'activation': 'relu'}, 'edge_dense': {'units': 128, 'use_bias': True, 'activation': 'linear'}, 'edge_activation': {'activation': 'relu'}, 'node_dense': {'units': 128, 'use_bias': True, 'activation': 'relu'}, 'verbose': 10, 'depth': 5, 'dropout': {'rate': 0.1}, 'output_embedding': 'graph', 'output_to_tensor': None, 'output_tensor_type': 'padded', 'output_mlp': {'use_bias': [True, True, False], 'units': [64, 32, 1], 'activation': ['relu', 'relu', 'linear']}, 'output_scaling': None}'.\n"
     ]
    },
    {
     "name": "stdout",
     "output_type": "stream",
     "text": [
      "\u001b[1m2/2\u001b[0m \u001b[32m━━━━━━━━━━━━━━━━━━━━\u001b[0m\u001b[37m\u001b[0m \u001b[1m0s\u001b[0m 20ms/step\n"
     ]
    },
    {
     "name": "stderr",
     "output_type": "stream",
     "text": [
      "[I 2024-02-21 14:44:33,340] Trial 26 finished with value: 0.4766325056552887 and parameters: {'depth': 5, 'pooling_method': 'scatter_mean', 'units': 128, 'learning_rate': 0.004437979102417812}. Best is trial 12 with value: 0.4407065510749817.\n",
      "INFO:kgcnn.models.utils:Updated model kwargs: '{'name': 'DMPNN', 'inputs': [{'shape': (None, 41), 'name': 'node_attributes', 'dtype': 'float32'}, {'shape': (None, 11), 'name': 'edge_attributes', 'dtype': 'float32'}, {'shape': (None, 2), 'name': 'edge_indices', 'dtype': 'int64'}, {'shape': (None, 1), 'name': 'edge_indices_reverse', 'dtype': 'int64'}, {'shape': (), 'name': 'total_nodes', 'dtype': 'int64'}, {'shape': (), 'name': 'total_edges', 'dtype': 'int64'}, {'shape': (), 'name': 'total_reverse', 'dtype': 'int64'}], 'input_tensor_type': 'padded', 'cast_disjoint_kwargs': {}, 'input_embedding': None, 'input_node_embedding': {'input_dim': 95, 'output_dim': 64}, 'input_edge_embedding': {'input_dim': 5, 'output_dim': 64}, 'input_graph_embedding': {'input_dim': 100, 'output_dim': 64}, 'pooling_args': {'pooling_method': 'scatter_sum'}, 'use_graph_state': False, 'edge_initialize': {'units': 128, 'use_bias': True, 'activation': 'relu'}, 'edge_dense': {'units': 128, 'use_bias': True, 'activation': 'linear'}, 'edge_activation': {'activation': 'relu'}, 'node_dense': {'units': 128, 'use_bias': True, 'activation': 'relu'}, 'verbose': 10, 'depth': 3, 'dropout': {'rate': 0.1}, 'output_embedding': 'graph', 'output_to_tensor': None, 'output_tensor_type': 'padded', 'output_mlp': {'use_bias': [True, True, False], 'units': [64, 32, 1], 'activation': ['relu', 'relu', 'linear']}, 'output_scaling': None}'.\n"
     ]
    },
    {
     "name": "stdout",
     "output_type": "stream",
     "text": [
      "\u001b[1m2/2\u001b[0m \u001b[32m━━━━━━━━━━━━━━━━━━━━\u001b[0m\u001b[37m\u001b[0m \u001b[1m0s\u001b[0m 14ms/step\n"
     ]
    },
    {
     "name": "stderr",
     "output_type": "stream",
     "text": [
      "[I 2024-02-21 14:44:54,507] Trial 27 finished with value: 0.47992539405822754 and parameters: {'depth': 3, 'pooling_method': 'scatter_sum', 'units': 128, 'learning_rate': 0.012364803871245899}. Best is trial 12 with value: 0.4407065510749817.\n",
      "INFO:kgcnn.models.utils:Updated model kwargs: '{'name': 'DMPNN', 'inputs': [{'shape': (None, 41), 'name': 'node_attributes', 'dtype': 'float32'}, {'shape': (None, 11), 'name': 'edge_attributes', 'dtype': 'float32'}, {'shape': (None, 2), 'name': 'edge_indices', 'dtype': 'int64'}, {'shape': (None, 1), 'name': 'edge_indices_reverse', 'dtype': 'int64'}, {'shape': (), 'name': 'total_nodes', 'dtype': 'int64'}, {'shape': (), 'name': 'total_edges', 'dtype': 'int64'}, {'shape': (), 'name': 'total_reverse', 'dtype': 'int64'}], 'input_tensor_type': 'padded', 'cast_disjoint_kwargs': {}, 'input_embedding': None, 'input_node_embedding': {'input_dim': 95, 'output_dim': 64}, 'input_edge_embedding': {'input_dim': 5, 'output_dim': 64}, 'input_graph_embedding': {'input_dim': 100, 'output_dim': 64}, 'pooling_args': {'pooling_method': 'scatter_sum'}, 'use_graph_state': False, 'edge_initialize': {'units': 96, 'use_bias': True, 'activation': 'relu'}, 'edge_dense': {'units': 96, 'use_bias': True, 'activation': 'linear'}, 'edge_activation': {'activation': 'relu'}, 'node_dense': {'units': 96, 'use_bias': True, 'activation': 'relu'}, 'verbose': 10, 'depth': 3, 'dropout': {'rate': 0.1}, 'output_embedding': 'graph', 'output_to_tensor': None, 'output_tensor_type': 'padded', 'output_mlp': {'use_bias': [True, True, False], 'units': [64, 32, 1], 'activation': ['relu', 'relu', 'linear']}, 'output_scaling': None}'.\n"
     ]
    },
    {
     "name": "stdout",
     "output_type": "stream",
     "text": [
      "\u001b[1m2/2\u001b[0m \u001b[32m━━━━━━━━━━━━━━━━━━━━\u001b[0m\u001b[37m\u001b[0m \u001b[1m0s\u001b[0m 15ms/step\n"
     ]
    },
    {
     "name": "stderr",
     "output_type": "stream",
     "text": [
      "[I 2024-02-21 14:45:16,042] Trial 28 finished with value: 0.5951202511787415 and parameters: {'depth': 3, 'pooling_method': 'scatter_sum', 'units': 96, 'learning_rate': 0.000964052380444521}. Best is trial 12 with value: 0.4407065510749817.\n",
      "INFO:kgcnn.models.utils:Updated model kwargs: '{'name': 'DMPNN', 'inputs': [{'shape': (None, 41), 'name': 'node_attributes', 'dtype': 'float32'}, {'shape': (None, 11), 'name': 'edge_attributes', 'dtype': 'float32'}, {'shape': (None, 2), 'name': 'edge_indices', 'dtype': 'int64'}, {'shape': (None, 1), 'name': 'edge_indices_reverse', 'dtype': 'int64'}, {'shape': (), 'name': 'total_nodes', 'dtype': 'int64'}, {'shape': (), 'name': 'total_edges', 'dtype': 'int64'}, {'shape': (), 'name': 'total_reverse', 'dtype': 'int64'}], 'input_tensor_type': 'padded', 'cast_disjoint_kwargs': {}, 'input_embedding': None, 'input_node_embedding': {'input_dim': 95, 'output_dim': 64}, 'input_edge_embedding': {'input_dim': 5, 'output_dim': 64}, 'input_graph_embedding': {'input_dim': 100, 'output_dim': 64}, 'pooling_args': {'pooling_method': 'scatter_mean'}, 'use_graph_state': False, 'edge_initialize': {'units': 96, 'use_bias': True, 'activation': 'relu'}, 'edge_dense': {'units': 96, 'use_bias': True, 'activation': 'linear'}, 'edge_activation': {'activation': 'relu'}, 'node_dense': {'units': 96, 'use_bias': True, 'activation': 'relu'}, 'verbose': 10, 'depth': 5, 'dropout': {'rate': 0.1}, 'output_embedding': 'graph', 'output_to_tensor': None, 'output_tensor_type': 'padded', 'output_mlp': {'use_bias': [True, True, False], 'units': [64, 32, 1], 'activation': ['relu', 'relu', 'linear']}, 'output_scaling': None}'.\n"
     ]
    },
    {
     "name": "stdout",
     "output_type": "stream",
     "text": [
      "\u001b[1m2/2\u001b[0m \u001b[32m━━━━━━━━━━━━━━━━━━━━\u001b[0m\u001b[37m\u001b[0m \u001b[1m0s\u001b[0m 18ms/step\n"
     ]
    },
    {
     "name": "stderr",
     "output_type": "stream",
     "text": [
      "[I 2024-02-21 14:45:42,435] Trial 29 finished with value: 0.49220335483551025 and parameters: {'depth': 5, 'pooling_method': 'scatter_mean', 'units': 96, 'learning_rate': 0.005499322949196709}. Best is trial 12 with value: 0.4407065510749817.\n",
      "INFO:kgcnn.models.utils:Updated model kwargs: '{'name': 'DMPNN', 'inputs': [{'shape': (None, 41), 'name': 'node_attributes', 'dtype': 'float32'}, {'shape': (None, 11), 'name': 'edge_attributes', 'dtype': 'float32'}, {'shape': (None, 2), 'name': 'edge_indices', 'dtype': 'int64'}, {'shape': (None, 1), 'name': 'edge_indices_reverse', 'dtype': 'int64'}, {'shape': (), 'name': 'total_nodes', 'dtype': 'int64'}, {'shape': (), 'name': 'total_edges', 'dtype': 'int64'}, {'shape': (), 'name': 'total_reverse', 'dtype': 'int64'}], 'input_tensor_type': 'padded', 'cast_disjoint_kwargs': {}, 'input_embedding': None, 'input_node_embedding': {'input_dim': 95, 'output_dim': 64}, 'input_edge_embedding': {'input_dim': 5, 'output_dim': 64}, 'input_graph_embedding': {'input_dim': 100, 'output_dim': 64}, 'pooling_args': {'pooling_method': 'scatter_sum'}, 'use_graph_state': False, 'edge_initialize': {'units': 160, 'use_bias': True, 'activation': 'relu'}, 'edge_dense': {'units': 160, 'use_bias': True, 'activation': 'linear'}, 'edge_activation': {'activation': 'relu'}, 'node_dense': {'units': 160, 'use_bias': True, 'activation': 'relu'}, 'verbose': 10, 'depth': 3, 'dropout': {'rate': 0.1}, 'output_embedding': 'graph', 'output_to_tensor': None, 'output_tensor_type': 'padded', 'output_mlp': {'use_bias': [True, True, False], 'units': [64, 32, 1], 'activation': ['relu', 'relu', 'linear']}, 'output_scaling': None}'.\n"
     ]
    },
    {
     "name": "stdout",
     "output_type": "stream",
     "text": [
      "\u001b[1m2/2\u001b[0m \u001b[32m━━━━━━━━━━━━━━━━━━━━\u001b[0m\u001b[37m\u001b[0m \u001b[1m0s\u001b[0m 15ms/step\n"
     ]
    },
    {
     "name": "stderr",
     "output_type": "stream",
     "text": [
      "[I 2024-02-21 14:46:04,123] Trial 30 finished with value: 0.6318603754043579 and parameters: {'depth': 3, 'pooling_method': 'scatter_sum', 'units': 160, 'learning_rate': 0.024697595514383587}. Best is trial 12 with value: 0.4407065510749817.\n"
     ]
    },
    {
     "name": "stderr",
     "output_type": "stream",
     "text": [
      "C:\\Users\\patri\\anaconda3\\envs\\gcnn_keras_test\\lib\\site-packages\\tensorflow\\python\\framework\\indexed_slices.py:444: UserWarning: Converting sparse IndexedSlices(IndexedSlices(indices=Tensor(\"gradient_tape/DMPNN/pooling_local_edges_3/Reshape_1:0\", shape=(None,), dtype=int32), values=Tensor(\"gradient_tape/DMPNN/pooling_local_edges_3/Reshape:0\", shape=(None, 256), dtype=float32), dense_shape=Tensor(\"gradient_tape/DMPNN/pooling_local_edges_3/Cast:0\", shape=(2,), dtype=int32))) to a dense Tensor of unknown shape. This may consume a large amount of memory.\n",
      "  warnings.warn(\n",
      "C:\\Users\\patri\\anaconda3\\envs\\gcnn_keras_test\\lib\\site-packages\\tensorflow\\python\\framework\\indexed_slices.py:444: UserWarning: Converting sparse IndexedSlices(IndexedSlices(indices=Tensor(\"gradient_tape/DMPNN/dmpnnp_pooling_edges_directed_2/gather_nodes_outgoing_3/Reshape_1:0\", shape=(None,), dtype=int64), values=Tensor(\"gradient_tape/DMPNN/dmpnnp_pooling_edges_directed_2/gather_nodes_outgoing_3/Reshape:0\", shape=(None, 256), dtype=float32), dense_shape=Tensor(\"gradient_tape/DMPNN/dmpnnp_pooling_edges_directed_2/gather_nodes_outgoing_3/Cast:0\", shape=(2,), dtype=int32))) to a dense Tensor of unknown shape. This may consume a large amount of memory.\n",
      "  warnings.warn(\n",
      "C:\\Users\\patri\\anaconda3\\envs\\gcnn_keras_test\\lib\\site-packages\\tensorflow\\python\\framework\\indexed_slices.py:444: UserWarning: Converting sparse IndexedSlices(IndexedSlices(indices=Tensor(\"Adam/gradients/concat_1:0\", shape=(None,), dtype=int64), values=Tensor(\"Adam/gradients/concat:0\", shape=(None, 256), dtype=float32), dense_shape=Tensor(\"gradient_tape/DMPNN/dmpnnp_pooling_edges_directed_2/dmpnn_gather_edges_pairs_2/gather_nodes_ingoing_2/Cast:0\", shape=(2,), dtype=int32))) to a dense Tensor of unknown shape. This may consume a large amount of memory.\n",
      "  warnings.warn(\n",
      "C:\\Users\\patri\\anaconda3\\envs\\gcnn_keras_test\\lib\\site-packages\\tensorflow\\python\\framework\\indexed_slices.py:444: UserWarning: Converting sparse IndexedSlices(IndexedSlices(indices=Tensor(\"gradient_tape/DMPNN/dmpnnp_pooling_edges_directed_1/gather_nodes_outgoing_2/Reshape_1:0\", shape=(None,), dtype=int64), values=Tensor(\"gradient_tape/DMPNN/dmpnnp_pooling_edges_directed_1/gather_nodes_outgoing_2/Reshape:0\", shape=(None, 256), dtype=float32), dense_shape=Tensor(\"gradient_tape/DMPNN/dmpnnp_pooling_edges_directed_1/gather_nodes_outgoing_2/Cast:0\", shape=(2,), dtype=int32))) to a dense Tensor of unknown shape. This may consume a large amount of memory.\n",
      "  warnings.warn(\n",
      "C:\\Users\\patri\\anaconda3\\envs\\gcnn_keras_test\\lib\\site-packages\\tensorflow\\python\\framework\\indexed_slices.py:444: UserWarning: Converting sparse IndexedSlices(IndexedSlices(indices=Tensor(\"Adam/gradients/concat_3:0\", shape=(None,), dtype=int64), values=Tensor(\"Adam/gradients/concat_2:0\", shape=(None, 256), dtype=float32), dense_shape=Tensor(\"gradient_tape/DMPNN/dmpnnp_pooling_edges_directed_1/dmpnn_gather_edges_pairs_1/gather_nodes_ingoing_1/Cast:0\", shape=(2,), dtype=int32))) to a dense Tensor of unknown shape. This may consume a large amount of memory.\n",
      "  warnings.warn(\n",
      "C:\\Users\\patri\\anaconda3\\envs\\gcnn_keras_test\\lib\\site-packages\\tensorflow\\python\\framework\\indexed_slices.py:444: UserWarning: Converting sparse IndexedSlices(IndexedSlices(indices=Tensor(\"gradient_tape/DMPNN/dmpnnp_pooling_edges_directed/gather_nodes_outgoing_1/Reshape_1:0\", shape=(None,), dtype=int64), values=Tensor(\"gradient_tape/DMPNN/dmpnnp_pooling_edges_directed/gather_nodes_outgoing_1/Reshape:0\", shape=(None, 256), dtype=float32), dense_shape=Tensor(\"gradient_tape/DMPNN/dmpnnp_pooling_edges_directed/gather_nodes_outgoing_1/Cast:0\", shape=(2,), dtype=int32))) to a dense Tensor of unknown shape. This may consume a large amount of memory.\n",
      "  warnings.warn(\n",
      "C:\\Users\\patri\\anaconda3\\envs\\gcnn_keras_test\\lib\\site-packages\\tensorflow\\python\\framework\\indexed_slices.py:444: UserWarning: Converting sparse IndexedSlices(IndexedSlices(indices=Tensor(\"gradient_tape/DMPNN/dmpnnp_pooling_edges_directed/dmpnn_gather_edges_pairs/gather_nodes_ingoing/Reshape_1:0\", shape=(None,), dtype=int64), values=Tensor(\"gradient_tape/DMPNN/dmpnnp_pooling_edges_directed/dmpnn_gather_edges_pairs/gather_nodes_ingoing/Reshape:0\", shape=(None, 256), dtype=float32), dense_shape=Tensor(\"gradient_tape/DMPNN/dmpnnp_pooling_edges_directed/dmpnn_gather_edges_pairs/gather_nodes_ingoing/Cast:0\", shape=(2,), dtype=int32))) to a dense Tensor of unknown shape. This may consume a large amount of memory.\n",
      "  warnings.warn(\n",
      "C:\\Users\\patri\\anaconda3\\envs\\gcnn_keras_test\\lib\\site-packages\\tensorflow\\python\\framework\\indexed_slices.py:444: UserWarning: Converting sparse IndexedSlices(IndexedSlices(indices=Tensor(\"gradient_tape/DMPNN/dmpnnp_pooling_edges_directed/pooling_local_edges/Reshape_1:0\", shape=(None,), dtype=int32), values=Tensor(\"gradient_tape/DMPNN/dmpnnp_pooling_edges_directed/pooling_local_edges/Reshape:0\", shape=(None, 256), dtype=float32), dense_shape=Tensor(\"gradient_tape/DMPNN/dmpnnp_pooling_edges_directed/pooling_local_edges/Cast:0\", shape=(2,), dtype=int32))) to a dense Tensor of unknown shape. This may consume a large amount of memory.\n",
      "  warnings.warn(\n",
      "\u001b[32m[I 2023-02-09 15:58:12,917]\u001b[0m Trial 9 finished with value: 0.5556215643882751 and parameters: {'depth': 3, 'pooling_method': 'mean', 'units': 256, 'learning_rate': 0.0009133964636526151}. Best is trial 1 with value: 0.4369063079357147.\u001b[0m\n",
      "C:\\Users\\patri\\anaconda3\\envs\\gcnn_keras_test\\lib\\site-packages\\optuna\\distributions.py:560: UserWarning: The distribution is specified by [1, 6] and step=2, but the range is not divisible by `step`. It will be replaced by [1, 5].\n",
      "  warnings.warn(\n",
      "INFO:kgcnn.model.utils:Updated model kwargs:\n",
      "INFO:kgcnn.model.utils:{'name': 'DMPNN', 'inputs': [{'shape': [None, 41], 'name': 'node_attributes', 'dtype': 'float32', 'ragged': True}, {'shape': [None, 11], 'name': 'edge_attributes', 'dtype': 'float32', 'ragged': True}, {'shape': [None, 2], 'name': 'edge_indices', 'dtype': 'int64', 'ragged': True}, {'shape': [None, 1], 'name': 'edge_indices_reverse', 'dtype': 'int64', 'ragged': True}], 'input_embedding': {'node': {'input_dim': 95, 'output_dim': 64}, 'edge': {'input_dim': 5, 'output_dim': 64}, 'graph': {'input_dim': 100, 'output_dim': 64}}, 'pooling_args': {'pooling_method': 'sum'}, 'use_graph_state': False, 'edge_initialize': {'units': 128, 'use_bias': True, 'activation': 'relu'}, 'edge_dense': {'units': 128, 'use_bias': True, 'activation': 'linear'}, 'edge_activation': {'activation': 'relu'}, 'node_dense': {'units': 128, 'use_bias': True, 'activation': 'relu'}, 'verbose': 10, 'depth': 5, 'dropout': {'rate': 0.1}, 'output_embedding': 'graph', 'output_to_tensor': True, 'output_mlp': {'use_bias': [True, True, False], 'units': [64, 32, 1], 'activation': ['relu', 'relu', 'linear']}}\n",
      "C:\\Users\\patri\\anaconda3\\envs\\gcnn_keras_test\\lib\\site-packages\\tensorflow\\python\\framework\\indexed_slices.py:444: UserWarning: Converting sparse IndexedSlices(IndexedSlices(indices=Tensor(\"gradient_tape/DMPNN/pooling_local_edges_5/Reshape_1:0\", shape=(None,), dtype=int32), values=Tensor(\"gradient_tape/DMPNN/pooling_local_edges_5/Reshape:0\", shape=(None, 128), dtype=float32), dense_shape=Tensor(\"gradient_tape/DMPNN/pooling_local_edges_5/Cast:0\", shape=(2,), dtype=int32))) to a dense Tensor of unknown shape. This may consume a large amount of memory.\n",
      "  warnings.warn(\n",
      "C:\\Users\\patri\\anaconda3\\envs\\gcnn_keras_test\\lib\\site-packages\\tensorflow\\python\\framework\\indexed_slices.py:444: UserWarning: Converting sparse IndexedSlices(IndexedSlices(indices=Tensor(\"gradient_tape/DMPNN/dmpnnp_pooling_edges_directed_4/gather_nodes_outgoing_5/Reshape_1:0\", shape=(None,), dtype=int64), values=Tensor(\"gradient_tape/DMPNN/dmpnnp_pooling_edges_directed_4/gather_nodes_outgoing_5/Reshape:0\", shape=(None, 128), dtype=float32), dense_shape=Tensor(\"gradient_tape/DMPNN/dmpnnp_pooling_edges_directed_4/gather_nodes_outgoing_5/Cast:0\", shape=(2,), dtype=int32))) to a dense Tensor of unknown shape. This may consume a large amount of memory.\n",
      "  warnings.warn(\n",
      "C:\\Users\\patri\\anaconda3\\envs\\gcnn_keras_test\\lib\\site-packages\\tensorflow\\python\\framework\\indexed_slices.py:444: UserWarning: Converting sparse IndexedSlices(IndexedSlices(indices=Tensor(\"Adam/gradients/concat_1:0\", shape=(None,), dtype=int64), values=Tensor(\"Adam/gradients/concat:0\", shape=(None, 128), dtype=float32), dense_shape=Tensor(\"gradient_tape/DMPNN/dmpnnp_pooling_edges_directed_4/dmpnn_gather_edges_pairs_4/gather_nodes_ingoing_4/Cast:0\", shape=(2,), dtype=int32))) to a dense Tensor of unknown shape. This may consume a large amount of memory.\n",
      "  warnings.warn(\n",
      "C:\\Users\\patri\\anaconda3\\envs\\gcnn_keras_test\\lib\\site-packages\\tensorflow\\python\\framework\\indexed_slices.py:444: UserWarning: Converting sparse IndexedSlices(IndexedSlices(indices=Tensor(\"gradient_tape/DMPNN/dmpnnp_pooling_edges_directed_3/gather_nodes_outgoing_4/Reshape_1:0\", shape=(None,), dtype=int64), values=Tensor(\"gradient_tape/DMPNN/dmpnnp_pooling_edges_directed_3/gather_nodes_outgoing_4/Reshape:0\", shape=(None, 128), dtype=float32), dense_shape=Tensor(\"gradient_tape/DMPNN/dmpnnp_pooling_edges_directed_3/gather_nodes_outgoing_4/Cast:0\", shape=(2,), dtype=int32))) to a dense Tensor of unknown shape. This may consume a large amount of memory.\n",
      "  warnings.warn(\n",
      "C:\\Users\\patri\\anaconda3\\envs\\gcnn_keras_test\\lib\\site-packages\\tensorflow\\python\\framework\\indexed_slices.py:444: UserWarning: Converting sparse IndexedSlices(IndexedSlices(indices=Tensor(\"Adam/gradients/concat_3:0\", shape=(None,), dtype=int64), values=Tensor(\"Adam/gradients/concat_2:0\", shape=(None, 128), dtype=float32), dense_shape=Tensor(\"gradient_tape/DMPNN/dmpnnp_pooling_edges_directed_3/dmpnn_gather_edges_pairs_3/gather_nodes_ingoing_3/Cast:0\", shape=(2,), dtype=int32))) to a dense Tensor of unknown shape. This may consume a large amount of memory.\n",
      "  warnings.warn(\n",
      "C:\\Users\\patri\\anaconda3\\envs\\gcnn_keras_test\\lib\\site-packages\\tensorflow\\python\\framework\\indexed_slices.py:444: UserWarning: Converting sparse IndexedSlices(IndexedSlices(indices=Tensor(\"gradient_tape/DMPNN/dmpnnp_pooling_edges_directed_2/gather_nodes_outgoing_3/Reshape_1:0\", shape=(None,), dtype=int64), values=Tensor(\"gradient_tape/DMPNN/dmpnnp_pooling_edges_directed_2/gather_nodes_outgoing_3/Reshape:0\", shape=(None, 128), dtype=float32), dense_shape=Tensor(\"gradient_tape/DMPNN/dmpnnp_pooling_edges_directed_2/gather_nodes_outgoing_3/Cast:0\", shape=(2,), dtype=int32))) to a dense Tensor of unknown shape. This may consume a large amount of memory.\n",
      "  warnings.warn(\n",
      "C:\\Users\\patri\\anaconda3\\envs\\gcnn_keras_test\\lib\\site-packages\\tensorflow\\python\\framework\\indexed_slices.py:444: UserWarning: Converting sparse IndexedSlices(IndexedSlices(indices=Tensor(\"Adam/gradients/concat_5:0\", shape=(None,), dtype=int64), values=Tensor(\"Adam/gradients/concat_4:0\", shape=(None, 128), dtype=float32), dense_shape=Tensor(\"gradient_tape/DMPNN/dmpnnp_pooling_edges_directed_2/dmpnn_gather_edges_pairs_2/gather_nodes_ingoing_2/Cast:0\", shape=(2,), dtype=int32))) to a dense Tensor of unknown shape. This may consume a large amount of memory.\n",
      "  warnings.warn(\n",
      "C:\\Users\\patri\\anaconda3\\envs\\gcnn_keras_test\\lib\\site-packages\\tensorflow\\python\\framework\\indexed_slices.py:444: UserWarning: Converting sparse IndexedSlices(IndexedSlices(indices=Tensor(\"gradient_tape/DMPNN/dmpnnp_pooling_edges_directed_1/gather_nodes_outgoing_2/Reshape_1:0\", shape=(None,), dtype=int64), values=Tensor(\"gradient_tape/DMPNN/dmpnnp_pooling_edges_directed_1/gather_nodes_outgoing_2/Reshape:0\", shape=(None, 128), dtype=float32), dense_shape=Tensor(\"gradient_tape/DMPNN/dmpnnp_pooling_edges_directed_1/gather_nodes_outgoing_2/Cast:0\", shape=(2,), dtype=int32))) to a dense Tensor of unknown shape. This may consume a large amount of memory.\n",
      "  warnings.warn(\n",
      "C:\\Users\\patri\\anaconda3\\envs\\gcnn_keras_test\\lib\\site-packages\\tensorflow\\python\\framework\\indexed_slices.py:444: UserWarning: Converting sparse IndexedSlices(IndexedSlices(indices=Tensor(\"Adam/gradients/concat_7:0\", shape=(None,), dtype=int64), values=Tensor(\"Adam/gradients/concat_6:0\", shape=(None, 128), dtype=float32), dense_shape=Tensor(\"gradient_tape/DMPNN/dmpnnp_pooling_edges_directed_1/dmpnn_gather_edges_pairs_1/gather_nodes_ingoing_1/Cast:0\", shape=(2,), dtype=int32))) to a dense Tensor of unknown shape. This may consume a large amount of memory.\n",
      "  warnings.warn(\n"
     ]
    },
    {
     "name": "stderr",
     "output_type": "stream",
     "text": [
      "C:\\Users\\patri\\anaconda3\\envs\\gcnn_keras_test\\lib\\site-packages\\tensorflow\\python\\framework\\indexed_slices.py:444: UserWarning: Converting sparse IndexedSlices(IndexedSlices(indices=Tensor(\"gradient_tape/DMPNN/dmpnnp_pooling_edges_directed/gather_nodes_outgoing_1/Reshape_1:0\", shape=(None,), dtype=int64), values=Tensor(\"gradient_tape/DMPNN/dmpnnp_pooling_edges_directed/gather_nodes_outgoing_1/Reshape:0\", shape=(None, 128), dtype=float32), dense_shape=Tensor(\"gradient_tape/DMPNN/dmpnnp_pooling_edges_directed/gather_nodes_outgoing_1/Cast:0\", shape=(2,), dtype=int32))) to a dense Tensor of unknown shape. This may consume a large amount of memory.\n",
      "  warnings.warn(\n",
      "C:\\Users\\patri\\anaconda3\\envs\\gcnn_keras_test\\lib\\site-packages\\tensorflow\\python\\framework\\indexed_slices.py:444: UserWarning: Converting sparse IndexedSlices(IndexedSlices(indices=Tensor(\"gradient_tape/DMPNN/dmpnnp_pooling_edges_directed/dmpnn_gather_edges_pairs/gather_nodes_ingoing/Reshape_1:0\", shape=(None,), dtype=int64), values=Tensor(\"gradient_tape/DMPNN/dmpnnp_pooling_edges_directed/dmpnn_gather_edges_pairs/gather_nodes_ingoing/Reshape:0\", shape=(None, 128), dtype=float32), dense_shape=Tensor(\"gradient_tape/DMPNN/dmpnnp_pooling_edges_directed/dmpnn_gather_edges_pairs/gather_nodes_ingoing/Cast:0\", shape=(2,), dtype=int32))) to a dense Tensor of unknown shape. This may consume a large amount of memory.\n",
      "  warnings.warn(\n",
      "C:\\Users\\patri\\anaconda3\\envs\\gcnn_keras_test\\lib\\site-packages\\tensorflow\\python\\framework\\indexed_slices.py:444: UserWarning: Converting sparse IndexedSlices(IndexedSlices(indices=Tensor(\"gradient_tape/DMPNN/dmpnnp_pooling_edges_directed/pooling_local_edges/Reshape_1:0\", shape=(None,), dtype=int32), values=Tensor(\"gradient_tape/DMPNN/dmpnnp_pooling_edges_directed/pooling_local_edges/Reshape:0\", shape=(None, 128), dtype=float32), dense_shape=Tensor(\"gradient_tape/DMPNN/dmpnnp_pooling_edges_directed/pooling_local_edges/Cast:0\", shape=(2,), dtype=int32))) to a dense Tensor of unknown shape. This may consume a large amount of memory.\n",
      "  warnings.warn(\n",
      "\u001b[32m[I 2023-02-09 15:58:36,375]\u001b[0m Trial 10 finished with value: 0.7036182880401611 and parameters: {'depth': 5, 'pooling_method': 'sum', 'units': 128, 'learning_rate': 0.03717396273318084}. Best is trial 1 with value: 0.4369063079357147.\u001b[0m\n",
      "C:\\Users\\patri\\anaconda3\\envs\\gcnn_keras_test\\lib\\site-packages\\optuna\\distributions.py:560: UserWarning: The distribution is specified by [1, 6] and step=2, but the range is not divisible by `step`. It will be replaced by [1, 5].\n",
      "  warnings.warn(\n",
      "INFO:kgcnn.model.utils:Updated model kwargs:\n",
      "INFO:kgcnn.model.utils:{'name': 'DMPNN', 'inputs': [{'shape': [None, 41], 'name': 'node_attributes', 'dtype': 'float32', 'ragged': True}, {'shape': [None, 11], 'name': 'edge_attributes', 'dtype': 'float32', 'ragged': True}, {'shape': [None, 2], 'name': 'edge_indices', 'dtype': 'int64', 'ragged': True}, {'shape': [None, 1], 'name': 'edge_indices_reverse', 'dtype': 'int64', 'ragged': True}], 'input_embedding': {'node': {'input_dim': 95, 'output_dim': 64}, 'edge': {'input_dim': 5, 'output_dim': 64}, 'graph': {'input_dim': 100, 'output_dim': 64}}, 'pooling_args': {'pooling_method': 'mean'}, 'use_graph_state': False, 'edge_initialize': {'units': 160, 'use_bias': True, 'activation': 'relu'}, 'edge_dense': {'units': 160, 'use_bias': True, 'activation': 'linear'}, 'edge_activation': {'activation': 'relu'}, 'node_dense': {'units': 160, 'use_bias': True, 'activation': 'relu'}, 'verbose': 10, 'depth': 1, 'dropout': {'rate': 0.1}, 'output_embedding': 'graph', 'output_to_tensor': True, 'output_mlp': {'use_bias': [True, True, False], 'units': [64, 32, 1], 'activation': ['relu', 'relu', 'linear']}}\n",
      "C:\\Users\\patri\\anaconda3\\envs\\gcnn_keras_test\\lib\\site-packages\\tensorflow\\python\\framework\\indexed_slices.py:444: UserWarning: Converting sparse IndexedSlices(IndexedSlices(indices=Tensor(\"gradient_tape/DMPNN/pooling_local_edges_1/Reshape_1:0\", shape=(None,), dtype=int32), values=Tensor(\"gradient_tape/DMPNN/pooling_local_edges_1/Reshape:0\", shape=(None, 160), dtype=float32), dense_shape=Tensor(\"gradient_tape/DMPNN/pooling_local_edges_1/Cast:0\", shape=(2,), dtype=int32))) to a dense Tensor of unknown shape. This may consume a large amount of memory.\n",
      "  warnings.warn(\n",
      "C:\\Users\\patri\\anaconda3\\envs\\gcnn_keras_test\\lib\\site-packages\\tensorflow\\python\\framework\\indexed_slices.py:444: UserWarning: Converting sparse IndexedSlices(IndexedSlices(indices=Tensor(\"gradient_tape/DMPNN/dmpnnp_pooling_edges_directed/gather_nodes_outgoing_1/Reshape_1:0\", shape=(None,), dtype=int64), values=Tensor(\"gradient_tape/DMPNN/dmpnnp_pooling_edges_directed/gather_nodes_outgoing_1/Reshape:0\", shape=(None, 160), dtype=float32), dense_shape=Tensor(\"gradient_tape/DMPNN/dmpnnp_pooling_edges_directed/gather_nodes_outgoing_1/Cast:0\", shape=(2,), dtype=int32))) to a dense Tensor of unknown shape. This may consume a large amount of memory.\n",
      "  warnings.warn(\n",
      "C:\\Users\\patri\\anaconda3\\envs\\gcnn_keras_test\\lib\\site-packages\\tensorflow\\python\\framework\\indexed_slices.py:444: UserWarning: Converting sparse IndexedSlices(IndexedSlices(indices=Tensor(\"gradient_tape/DMPNN/dmpnnp_pooling_edges_directed/dmpnn_gather_edges_pairs/gather_nodes_ingoing/Reshape_1:0\", shape=(None,), dtype=int64), values=Tensor(\"gradient_tape/DMPNN/dmpnnp_pooling_edges_directed/dmpnn_gather_edges_pairs/gather_nodes_ingoing/Reshape:0\", shape=(None, 160), dtype=float32), dense_shape=Tensor(\"gradient_tape/DMPNN/dmpnnp_pooling_edges_directed/dmpnn_gather_edges_pairs/gather_nodes_ingoing/Cast:0\", shape=(2,), dtype=int32))) to a dense Tensor of unknown shape. This may consume a large amount of memory.\n",
      "  warnings.warn(\n",
      "C:\\Users\\patri\\anaconda3\\envs\\gcnn_keras_test\\lib\\site-packages\\tensorflow\\python\\framework\\indexed_slices.py:444: UserWarning: Converting sparse IndexedSlices(IndexedSlices(indices=Tensor(\"gradient_tape/DMPNN/dmpnnp_pooling_edges_directed/pooling_local_edges/Reshape_1:0\", shape=(None,), dtype=int32), values=Tensor(\"gradient_tape/DMPNN/dmpnnp_pooling_edges_directed/pooling_local_edges/Reshape:0\", shape=(None, 160), dtype=float32), dense_shape=Tensor(\"gradient_tape/DMPNN/dmpnnp_pooling_edges_directed/pooling_local_edges/Cast:0\", shape=(2,), dtype=int32))) to a dense Tensor of unknown shape. This may consume a large amount of memory.\n",
      "  warnings.warn(\n",
      "\u001b[32m[I 2023-02-09 15:58:56,247]\u001b[0m Trial 11 finished with value: 0.8324724435806274 and parameters: {'depth': 1, 'pooling_method': 'mean', 'units': 160, 'learning_rate': 0.0289175263522761}. Best is trial 1 with value: 0.4369063079357147.\u001b[0m\n",
      "C:\\Users\\patri\\anaconda3\\envs\\gcnn_keras_test\\lib\\site-packages\\optuna\\distributions.py:560: UserWarning: The distribution is specified by [1, 6] and step=2, but the range is not divisible by `step`. It will be replaced by [1, 5].\n",
      "  warnings.warn(\n",
      "INFO:kgcnn.model.utils:Updated model kwargs:\n",
      "INFO:kgcnn.model.utils:{'name': 'DMPNN', 'inputs': [{'shape': [None, 41], 'name': 'node_attributes', 'dtype': 'float32', 'ragged': True}, {'shape': [None, 11], 'name': 'edge_attributes', 'dtype': 'float32', 'ragged': True}, {'shape': [None, 2], 'name': 'edge_indices', 'dtype': 'int64', 'ragged': True}, {'shape': [None, 1], 'name': 'edge_indices_reverse', 'dtype': 'int64', 'ragged': True}], 'input_embedding': {'node': {'input_dim': 95, 'output_dim': 64}, 'edge': {'input_dim': 5, 'output_dim': 64}, 'graph': {'input_dim': 100, 'output_dim': 64}}, 'pooling_args': {'pooling_method': 'mean'}, 'use_graph_state': False, 'edge_initialize': {'units': 128, 'use_bias': True, 'activation': 'relu'}, 'edge_dense': {'units': 128, 'use_bias': True, 'activation': 'linear'}, 'edge_activation': {'activation': 'relu'}, 'node_dense': {'units': 128, 'use_bias': True, 'activation': 'relu'}, 'verbose': 10, 'depth': 5, 'dropout': {'rate': 0.1}, 'output_embedding': 'graph', 'output_to_tensor': True, 'output_mlp': {'use_bias': [True, True, False], 'units': [64, 32, 1], 'activation': ['relu', 'relu', 'linear']}}\n",
      "C:\\Users\\patri\\anaconda3\\envs\\gcnn_keras_test\\lib\\site-packages\\tensorflow\\python\\framework\\indexed_slices.py:444: UserWarning: Converting sparse IndexedSlices(IndexedSlices(indices=Tensor(\"gradient_tape/DMPNN/pooling_local_edges_5/Reshape_1:0\", shape=(None,), dtype=int32), values=Tensor(\"gradient_tape/DMPNN/pooling_local_edges_5/Reshape:0\", shape=(None, 128), dtype=float32), dense_shape=Tensor(\"gradient_tape/DMPNN/pooling_local_edges_5/Cast:0\", shape=(2,), dtype=int32))) to a dense Tensor of unknown shape. This may consume a large amount of memory.\n",
      "  warnings.warn(\n",
      "C:\\Users\\patri\\anaconda3\\envs\\gcnn_keras_test\\lib\\site-packages\\tensorflow\\python\\framework\\indexed_slices.py:444: UserWarning: Converting sparse IndexedSlices(IndexedSlices(indices=Tensor(\"gradient_tape/DMPNN/dmpnnp_pooling_edges_directed_4/gather_nodes_outgoing_5/Reshape_1:0\", shape=(None,), dtype=int64), values=Tensor(\"gradient_tape/DMPNN/dmpnnp_pooling_edges_directed_4/gather_nodes_outgoing_5/Reshape:0\", shape=(None, 128), dtype=float32), dense_shape=Tensor(\"gradient_tape/DMPNN/dmpnnp_pooling_edges_directed_4/gather_nodes_outgoing_5/Cast:0\", shape=(2,), dtype=int32))) to a dense Tensor of unknown shape. This may consume a large amount of memory.\n",
      "  warnings.warn(\n",
      "C:\\Users\\patri\\anaconda3\\envs\\gcnn_keras_test\\lib\\site-packages\\tensorflow\\python\\framework\\indexed_slices.py:444: UserWarning: Converting sparse IndexedSlices(IndexedSlices(indices=Tensor(\"Adam/gradients/concat_1:0\", shape=(None,), dtype=int64), values=Tensor(\"Adam/gradients/concat:0\", shape=(None, 128), dtype=float32), dense_shape=Tensor(\"gradient_tape/DMPNN/dmpnnp_pooling_edges_directed_4/dmpnn_gather_edges_pairs_4/gather_nodes_ingoing_4/Cast:0\", shape=(2,), dtype=int32))) to a dense Tensor of unknown shape. This may consume a large amount of memory.\n",
      "  warnings.warn(\n",
      "C:\\Users\\patri\\anaconda3\\envs\\gcnn_keras_test\\lib\\site-packages\\tensorflow\\python\\framework\\indexed_slices.py:444: UserWarning: Converting sparse IndexedSlices(IndexedSlices(indices=Tensor(\"gradient_tape/DMPNN/dmpnnp_pooling_edges_directed_3/gather_nodes_outgoing_4/Reshape_1:0\", shape=(None,), dtype=int64), values=Tensor(\"gradient_tape/DMPNN/dmpnnp_pooling_edges_directed_3/gather_nodes_outgoing_4/Reshape:0\", shape=(None, 128), dtype=float32), dense_shape=Tensor(\"gradient_tape/DMPNN/dmpnnp_pooling_edges_directed_3/gather_nodes_outgoing_4/Cast:0\", shape=(2,), dtype=int32))) to a dense Tensor of unknown shape. This may consume a large amount of memory.\n",
      "  warnings.warn(\n",
      "C:\\Users\\patri\\anaconda3\\envs\\gcnn_keras_test\\lib\\site-packages\\tensorflow\\python\\framework\\indexed_slices.py:444: UserWarning: Converting sparse IndexedSlices(IndexedSlices(indices=Tensor(\"Adam/gradients/concat_3:0\", shape=(None,), dtype=int64), values=Tensor(\"Adam/gradients/concat_2:0\", shape=(None, 128), dtype=float32), dense_shape=Tensor(\"gradient_tape/DMPNN/dmpnnp_pooling_edges_directed_3/dmpnn_gather_edges_pairs_3/gather_nodes_ingoing_3/Cast:0\", shape=(2,), dtype=int32))) to a dense Tensor of unknown shape. This may consume a large amount of memory.\n",
      "  warnings.warn(\n",
      "C:\\Users\\patri\\anaconda3\\envs\\gcnn_keras_test\\lib\\site-packages\\tensorflow\\python\\framework\\indexed_slices.py:444: UserWarning: Converting sparse IndexedSlices(IndexedSlices(indices=Tensor(\"gradient_tape/DMPNN/dmpnnp_pooling_edges_directed_2/gather_nodes_outgoing_3/Reshape_1:0\", shape=(None,), dtype=int64), values=Tensor(\"gradient_tape/DMPNN/dmpnnp_pooling_edges_directed_2/gather_nodes_outgoing_3/Reshape:0\", shape=(None, 128), dtype=float32), dense_shape=Tensor(\"gradient_tape/DMPNN/dmpnnp_pooling_edges_directed_2/gather_nodes_outgoing_3/Cast:0\", shape=(2,), dtype=int32))) to a dense Tensor of unknown shape. This may consume a large amount of memory.\n",
      "  warnings.warn(\n",
      "C:\\Users\\patri\\anaconda3\\envs\\gcnn_keras_test\\lib\\site-packages\\tensorflow\\python\\framework\\indexed_slices.py:444: UserWarning: Converting sparse IndexedSlices(IndexedSlices(indices=Tensor(\"Adam/gradients/concat_5:0\", shape=(None,), dtype=int64), values=Tensor(\"Adam/gradients/concat_4:0\", shape=(None, 128), dtype=float32), dense_shape=Tensor(\"gradient_tape/DMPNN/dmpnnp_pooling_edges_directed_2/dmpnn_gather_edges_pairs_2/gather_nodes_ingoing_2/Cast:0\", shape=(2,), dtype=int32))) to a dense Tensor of unknown shape. This may consume a large amount of memory.\n",
      "  warnings.warn(\n",
      "C:\\Users\\patri\\anaconda3\\envs\\gcnn_keras_test\\lib\\site-packages\\tensorflow\\python\\framework\\indexed_slices.py:444: UserWarning: Converting sparse IndexedSlices(IndexedSlices(indices=Tensor(\"gradient_tape/DMPNN/dmpnnp_pooling_edges_directed_1/gather_nodes_outgoing_2/Reshape_1:0\", shape=(None,), dtype=int64), values=Tensor(\"gradient_tape/DMPNN/dmpnnp_pooling_edges_directed_1/gather_nodes_outgoing_2/Reshape:0\", shape=(None, 128), dtype=float32), dense_shape=Tensor(\"gradient_tape/DMPNN/dmpnnp_pooling_edges_directed_1/gather_nodes_outgoing_2/Cast:0\", shape=(2,), dtype=int32))) to a dense Tensor of unknown shape. This may consume a large amount of memory.\n",
      "  warnings.warn(\n",
      "C:\\Users\\patri\\anaconda3\\envs\\gcnn_keras_test\\lib\\site-packages\\tensorflow\\python\\framework\\indexed_slices.py:444: UserWarning: Converting sparse IndexedSlices(IndexedSlices(indices=Tensor(\"Adam/gradients/concat_7:0\", shape=(None,), dtype=int64), values=Tensor(\"Adam/gradients/concat_6:0\", shape=(None, 128), dtype=float32), dense_shape=Tensor(\"gradient_tape/DMPNN/dmpnnp_pooling_edges_directed_1/dmpnn_gather_edges_pairs_1/gather_nodes_ingoing_1/Cast:0\", shape=(2,), dtype=int32))) to a dense Tensor of unknown shape. This may consume a large amount of memory.\n",
      "  warnings.warn(\n",
      "C:\\Users\\patri\\anaconda3\\envs\\gcnn_keras_test\\lib\\site-packages\\tensorflow\\python\\framework\\indexed_slices.py:444: UserWarning: Converting sparse IndexedSlices(IndexedSlices(indices=Tensor(\"gradient_tape/DMPNN/dmpnnp_pooling_edges_directed/gather_nodes_outgoing_1/Reshape_1:0\", shape=(None,), dtype=int64), values=Tensor(\"gradient_tape/DMPNN/dmpnnp_pooling_edges_directed/gather_nodes_outgoing_1/Reshape:0\", shape=(None, 128), dtype=float32), dense_shape=Tensor(\"gradient_tape/DMPNN/dmpnnp_pooling_edges_directed/gather_nodes_outgoing_1/Cast:0\", shape=(2,), dtype=int32))) to a dense Tensor of unknown shape. This may consume a large amount of memory.\n",
      "  warnings.warn(\n"
     ]
    },
    {
     "name": "stderr",
     "output_type": "stream",
     "text": [
      "C:\\Users\\patri\\anaconda3\\envs\\gcnn_keras_test\\lib\\site-packages\\tensorflow\\python\\framework\\indexed_slices.py:444: UserWarning: Converting sparse IndexedSlices(IndexedSlices(indices=Tensor(\"gradient_tape/DMPNN/dmpnnp_pooling_edges_directed/dmpnn_gather_edges_pairs/gather_nodes_ingoing/Reshape_1:0\", shape=(None,), dtype=int64), values=Tensor(\"gradient_tape/DMPNN/dmpnnp_pooling_edges_directed/dmpnn_gather_edges_pairs/gather_nodes_ingoing/Reshape:0\", shape=(None, 128), dtype=float32), dense_shape=Tensor(\"gradient_tape/DMPNN/dmpnnp_pooling_edges_directed/dmpnn_gather_edges_pairs/gather_nodes_ingoing/Cast:0\", shape=(2,), dtype=int32))) to a dense Tensor of unknown shape. This may consume a large amount of memory.\n",
      "  warnings.warn(\n",
      "C:\\Users\\patri\\anaconda3\\envs\\gcnn_keras_test\\lib\\site-packages\\tensorflow\\python\\framework\\indexed_slices.py:444: UserWarning: Converting sparse IndexedSlices(IndexedSlices(indices=Tensor(\"gradient_tape/DMPNN/dmpnnp_pooling_edges_directed/pooling_local_edges/Reshape_1:0\", shape=(None,), dtype=int32), values=Tensor(\"gradient_tape/DMPNN/dmpnnp_pooling_edges_directed/pooling_local_edges/Reshape:0\", shape=(None, 128), dtype=float32), dense_shape=Tensor(\"gradient_tape/DMPNN/dmpnnp_pooling_edges_directed/pooling_local_edges/Cast:0\", shape=(2,), dtype=int32))) to a dense Tensor of unknown shape. This may consume a large amount of memory.\n",
      "  warnings.warn(\n",
      "\u001b[32m[I 2023-02-09 15:59:20,343]\u001b[0m Trial 12 finished with value: 0.4929485321044922 and parameters: {'depth': 5, 'pooling_method': 'mean', 'units': 128, 'learning_rate': 0.005155422493185154}. Best is trial 1 with value: 0.4369063079357147.\u001b[0m\n",
      "C:\\Users\\patri\\anaconda3\\envs\\gcnn_keras_test\\lib\\site-packages\\optuna\\distributions.py:560: UserWarning: The distribution is specified by [1, 6] and step=2, but the range is not divisible by `step`. It will be replaced by [1, 5].\n",
      "  warnings.warn(\n",
      "INFO:kgcnn.model.utils:Updated model kwargs:\n",
      "INFO:kgcnn.model.utils:{'name': 'DMPNN', 'inputs': [{'shape': [None, 41], 'name': 'node_attributes', 'dtype': 'float32', 'ragged': True}, {'shape': [None, 11], 'name': 'edge_attributes', 'dtype': 'float32', 'ragged': True}, {'shape': [None, 2], 'name': 'edge_indices', 'dtype': 'int64', 'ragged': True}, {'shape': [None, 1], 'name': 'edge_indices_reverse', 'dtype': 'int64', 'ragged': True}], 'input_embedding': {'node': {'input_dim': 95, 'output_dim': 64}, 'edge': {'input_dim': 5, 'output_dim': 64}, 'graph': {'input_dim': 100, 'output_dim': 64}}, 'pooling_args': {'pooling_method': 'sum'}, 'use_graph_state': False, 'edge_initialize': {'units': 96, 'use_bias': True, 'activation': 'relu'}, 'edge_dense': {'units': 96, 'use_bias': True, 'activation': 'linear'}, 'edge_activation': {'activation': 'relu'}, 'node_dense': {'units': 96, 'use_bias': True, 'activation': 'relu'}, 'verbose': 10, 'depth': 5, 'dropout': {'rate': 0.1}, 'output_embedding': 'graph', 'output_to_tensor': True, 'output_mlp': {'use_bias': [True, True, False], 'units': [64, 32, 1], 'activation': ['relu', 'relu', 'linear']}}\n",
      "C:\\Users\\patri\\anaconda3\\envs\\gcnn_keras_test\\lib\\site-packages\\tensorflow\\python\\framework\\indexed_slices.py:444: UserWarning: Converting sparse IndexedSlices(IndexedSlices(indices=Tensor(\"gradient_tape/DMPNN/pooling_local_edges_5/Reshape_1:0\", shape=(None,), dtype=int32), values=Tensor(\"gradient_tape/DMPNN/pooling_local_edges_5/Reshape:0\", shape=(None, 96), dtype=float32), dense_shape=Tensor(\"gradient_tape/DMPNN/pooling_local_edges_5/Cast:0\", shape=(2,), dtype=int32))) to a dense Tensor of unknown shape. This may consume a large amount of memory.\n",
      "  warnings.warn(\n",
      "C:\\Users\\patri\\anaconda3\\envs\\gcnn_keras_test\\lib\\site-packages\\tensorflow\\python\\framework\\indexed_slices.py:444: UserWarning: Converting sparse IndexedSlices(IndexedSlices(indices=Tensor(\"gradient_tape/DMPNN/dmpnnp_pooling_edges_directed_4/gather_nodes_outgoing_5/Reshape_1:0\", shape=(None,), dtype=int64), values=Tensor(\"gradient_tape/DMPNN/dmpnnp_pooling_edges_directed_4/gather_nodes_outgoing_5/Reshape:0\", shape=(None, 96), dtype=float32), dense_shape=Tensor(\"gradient_tape/DMPNN/dmpnnp_pooling_edges_directed_4/gather_nodes_outgoing_5/Cast:0\", shape=(2,), dtype=int32))) to a dense Tensor of unknown shape. This may consume a large amount of memory.\n",
      "  warnings.warn(\n",
      "C:\\Users\\patri\\anaconda3\\envs\\gcnn_keras_test\\lib\\site-packages\\tensorflow\\python\\framework\\indexed_slices.py:444: UserWarning: Converting sparse IndexedSlices(IndexedSlices(indices=Tensor(\"Adam/gradients/concat_1:0\", shape=(None,), dtype=int64), values=Tensor(\"Adam/gradients/concat:0\", shape=(None, 96), dtype=float32), dense_shape=Tensor(\"gradient_tape/DMPNN/dmpnnp_pooling_edges_directed_4/dmpnn_gather_edges_pairs_4/gather_nodes_ingoing_4/Cast:0\", shape=(2,), dtype=int32))) to a dense Tensor of unknown shape. This may consume a large amount of memory.\n",
      "  warnings.warn(\n",
      "C:\\Users\\patri\\anaconda3\\envs\\gcnn_keras_test\\lib\\site-packages\\tensorflow\\python\\framework\\indexed_slices.py:444: UserWarning: Converting sparse IndexedSlices(IndexedSlices(indices=Tensor(\"gradient_tape/DMPNN/dmpnnp_pooling_edges_directed_3/gather_nodes_outgoing_4/Reshape_1:0\", shape=(None,), dtype=int64), values=Tensor(\"gradient_tape/DMPNN/dmpnnp_pooling_edges_directed_3/gather_nodes_outgoing_4/Reshape:0\", shape=(None, 96), dtype=float32), dense_shape=Tensor(\"gradient_tape/DMPNN/dmpnnp_pooling_edges_directed_3/gather_nodes_outgoing_4/Cast:0\", shape=(2,), dtype=int32))) to a dense Tensor of unknown shape. This may consume a large amount of memory.\n",
      "  warnings.warn(\n",
      "C:\\Users\\patri\\anaconda3\\envs\\gcnn_keras_test\\lib\\site-packages\\tensorflow\\python\\framework\\indexed_slices.py:444: UserWarning: Converting sparse IndexedSlices(IndexedSlices(indices=Tensor(\"Adam/gradients/concat_3:0\", shape=(None,), dtype=int64), values=Tensor(\"Adam/gradients/concat_2:0\", shape=(None, 96), dtype=float32), dense_shape=Tensor(\"gradient_tape/DMPNN/dmpnnp_pooling_edges_directed_3/dmpnn_gather_edges_pairs_3/gather_nodes_ingoing_3/Cast:0\", shape=(2,), dtype=int32))) to a dense Tensor of unknown shape. This may consume a large amount of memory.\n",
      "  warnings.warn(\n",
      "C:\\Users\\patri\\anaconda3\\envs\\gcnn_keras_test\\lib\\site-packages\\tensorflow\\python\\framework\\indexed_slices.py:444: UserWarning: Converting sparse IndexedSlices(IndexedSlices(indices=Tensor(\"gradient_tape/DMPNN/dmpnnp_pooling_edges_directed_2/gather_nodes_outgoing_3/Reshape_1:0\", shape=(None,), dtype=int64), values=Tensor(\"gradient_tape/DMPNN/dmpnnp_pooling_edges_directed_2/gather_nodes_outgoing_3/Reshape:0\", shape=(None, 96), dtype=float32), dense_shape=Tensor(\"gradient_tape/DMPNN/dmpnnp_pooling_edges_directed_2/gather_nodes_outgoing_3/Cast:0\", shape=(2,), dtype=int32))) to a dense Tensor of unknown shape. This may consume a large amount of memory.\n",
      "  warnings.warn(\n",
      "C:\\Users\\patri\\anaconda3\\envs\\gcnn_keras_test\\lib\\site-packages\\tensorflow\\python\\framework\\indexed_slices.py:444: UserWarning: Converting sparse IndexedSlices(IndexedSlices(indices=Tensor(\"Adam/gradients/concat_5:0\", shape=(None,), dtype=int64), values=Tensor(\"Adam/gradients/concat_4:0\", shape=(None, 96), dtype=float32), dense_shape=Tensor(\"gradient_tape/DMPNN/dmpnnp_pooling_edges_directed_2/dmpnn_gather_edges_pairs_2/gather_nodes_ingoing_2/Cast:0\", shape=(2,), dtype=int32))) to a dense Tensor of unknown shape. This may consume a large amount of memory.\n",
      "  warnings.warn(\n",
      "C:\\Users\\patri\\anaconda3\\envs\\gcnn_keras_test\\lib\\site-packages\\tensorflow\\python\\framework\\indexed_slices.py:444: UserWarning: Converting sparse IndexedSlices(IndexedSlices(indices=Tensor(\"gradient_tape/DMPNN/dmpnnp_pooling_edges_directed_1/gather_nodes_outgoing_2/Reshape_1:0\", shape=(None,), dtype=int64), values=Tensor(\"gradient_tape/DMPNN/dmpnnp_pooling_edges_directed_1/gather_nodes_outgoing_2/Reshape:0\", shape=(None, 96), dtype=float32), dense_shape=Tensor(\"gradient_tape/DMPNN/dmpnnp_pooling_edges_directed_1/gather_nodes_outgoing_2/Cast:0\", shape=(2,), dtype=int32))) to a dense Tensor of unknown shape. This may consume a large amount of memory.\n",
      "  warnings.warn(\n",
      "C:\\Users\\patri\\anaconda3\\envs\\gcnn_keras_test\\lib\\site-packages\\tensorflow\\python\\framework\\indexed_slices.py:444: UserWarning: Converting sparse IndexedSlices(IndexedSlices(indices=Tensor(\"Adam/gradients/concat_7:0\", shape=(None,), dtype=int64), values=Tensor(\"Adam/gradients/concat_6:0\", shape=(None, 96), dtype=float32), dense_shape=Tensor(\"gradient_tape/DMPNN/dmpnnp_pooling_edges_directed_1/dmpnn_gather_edges_pairs_1/gather_nodes_ingoing_1/Cast:0\", shape=(2,), dtype=int32))) to a dense Tensor of unknown shape. This may consume a large amount of memory.\n",
      "  warnings.warn(\n",
      "C:\\Users\\patri\\anaconda3\\envs\\gcnn_keras_test\\lib\\site-packages\\tensorflow\\python\\framework\\indexed_slices.py:444: UserWarning: Converting sparse IndexedSlices(IndexedSlices(indices=Tensor(\"gradient_tape/DMPNN/dmpnnp_pooling_edges_directed/gather_nodes_outgoing_1/Reshape_1:0\", shape=(None,), dtype=int64), values=Tensor(\"gradient_tape/DMPNN/dmpnnp_pooling_edges_directed/gather_nodes_outgoing_1/Reshape:0\", shape=(None, 96), dtype=float32), dense_shape=Tensor(\"gradient_tape/DMPNN/dmpnnp_pooling_edges_directed/gather_nodes_outgoing_1/Cast:0\", shape=(2,), dtype=int32))) to a dense Tensor of unknown shape. This may consume a large amount of memory.\n",
      "  warnings.warn(\n",
      "C:\\Users\\patri\\anaconda3\\envs\\gcnn_keras_test\\lib\\site-packages\\tensorflow\\python\\framework\\indexed_slices.py:444: UserWarning: Converting sparse IndexedSlices(IndexedSlices(indices=Tensor(\"gradient_tape/DMPNN/dmpnnp_pooling_edges_directed/dmpnn_gather_edges_pairs/gather_nodes_ingoing/Reshape_1:0\", shape=(None,), dtype=int64), values=Tensor(\"gradient_tape/DMPNN/dmpnnp_pooling_edges_directed/dmpnn_gather_edges_pairs/gather_nodes_ingoing/Reshape:0\", shape=(None, 96), dtype=float32), dense_shape=Tensor(\"gradient_tape/DMPNN/dmpnnp_pooling_edges_directed/dmpnn_gather_edges_pairs/gather_nodes_ingoing/Cast:0\", shape=(2,), dtype=int32))) to a dense Tensor of unknown shape. This may consume a large amount of memory.\n",
      "  warnings.warn(\n",
      "C:\\Users\\patri\\anaconda3\\envs\\gcnn_keras_test\\lib\\site-packages\\tensorflow\\python\\framework\\indexed_slices.py:444: UserWarning: Converting sparse IndexedSlices(IndexedSlices(indices=Tensor(\"gradient_tape/DMPNN/dmpnnp_pooling_edges_directed/pooling_local_edges/Reshape_1:0\", shape=(None,), dtype=int32), values=Tensor(\"gradient_tape/DMPNN/dmpnnp_pooling_edges_directed/pooling_local_edges/Reshape:0\", shape=(None, 96), dtype=float32), dense_shape=Tensor(\"gradient_tape/DMPNN/dmpnnp_pooling_edges_directed/pooling_local_edges/Cast:0\", shape=(2,), dtype=int32))) to a dense Tensor of unknown shape. This may consume a large amount of memory.\n",
      "  warnings.warn(\n"
     ]
    },
    {
     "name": "stderr",
     "output_type": "stream",
     "text": [
      "\u001b[32m[I 2023-02-09 15:59:43,568]\u001b[0m Trial 13 finished with value: 0.5272407531738281 and parameters: {'depth': 5, 'pooling_method': 'sum', 'units': 96, 'learning_rate': 0.0017200995391809509}. Best is trial 1 with value: 0.4369063079357147.\u001b[0m\n",
      "C:\\Users\\patri\\anaconda3\\envs\\gcnn_keras_test\\lib\\site-packages\\optuna\\distributions.py:560: UserWarning: The distribution is specified by [1, 6] and step=2, but the range is not divisible by `step`. It will be replaced by [1, 5].\n",
      "  warnings.warn(\n",
      "INFO:kgcnn.model.utils:Updated model kwargs:\n",
      "INFO:kgcnn.model.utils:{'name': 'DMPNN', 'inputs': [{'shape': [None, 41], 'name': 'node_attributes', 'dtype': 'float32', 'ragged': True}, {'shape': [None, 11], 'name': 'edge_attributes', 'dtype': 'float32', 'ragged': True}, {'shape': [None, 2], 'name': 'edge_indices', 'dtype': 'int64', 'ragged': True}, {'shape': [None, 1], 'name': 'edge_indices_reverse', 'dtype': 'int64', 'ragged': True}], 'input_embedding': {'node': {'input_dim': 95, 'output_dim': 64}, 'edge': {'input_dim': 5, 'output_dim': 64}, 'graph': {'input_dim': 100, 'output_dim': 64}}, 'pooling_args': {'pooling_method': 'mean'}, 'use_graph_state': False, 'edge_initialize': {'units': 128, 'use_bias': True, 'activation': 'relu'}, 'edge_dense': {'units': 128, 'use_bias': True, 'activation': 'linear'}, 'edge_activation': {'activation': 'relu'}, 'node_dense': {'units': 128, 'use_bias': True, 'activation': 'relu'}, 'verbose': 10, 'depth': 5, 'dropout': {'rate': 0.1}, 'output_embedding': 'graph', 'output_to_tensor': True, 'output_mlp': {'use_bias': [True, True, False], 'units': [64, 32, 1], 'activation': ['relu', 'relu', 'linear']}}\n",
      "C:\\Users\\patri\\anaconda3\\envs\\gcnn_keras_test\\lib\\site-packages\\tensorflow\\python\\framework\\indexed_slices.py:444: UserWarning: Converting sparse IndexedSlices(IndexedSlices(indices=Tensor(\"gradient_tape/DMPNN/pooling_local_edges_5/Reshape_1:0\", shape=(None,), dtype=int32), values=Tensor(\"gradient_tape/DMPNN/pooling_local_edges_5/Reshape:0\", shape=(None, 128), dtype=float32), dense_shape=Tensor(\"gradient_tape/DMPNN/pooling_local_edges_5/Cast:0\", shape=(2,), dtype=int32))) to a dense Tensor of unknown shape. This may consume a large amount of memory.\n",
      "  warnings.warn(\n",
      "C:\\Users\\patri\\anaconda3\\envs\\gcnn_keras_test\\lib\\site-packages\\tensorflow\\python\\framework\\indexed_slices.py:444: UserWarning: Converting sparse IndexedSlices(IndexedSlices(indices=Tensor(\"gradient_tape/DMPNN/dmpnnp_pooling_edges_directed_4/gather_nodes_outgoing_5/Reshape_1:0\", shape=(None,), dtype=int64), values=Tensor(\"gradient_tape/DMPNN/dmpnnp_pooling_edges_directed_4/gather_nodes_outgoing_5/Reshape:0\", shape=(None, 128), dtype=float32), dense_shape=Tensor(\"gradient_tape/DMPNN/dmpnnp_pooling_edges_directed_4/gather_nodes_outgoing_5/Cast:0\", shape=(2,), dtype=int32))) to a dense Tensor of unknown shape. This may consume a large amount of memory.\n",
      "  warnings.warn(\n",
      "C:\\Users\\patri\\anaconda3\\envs\\gcnn_keras_test\\lib\\site-packages\\tensorflow\\python\\framework\\indexed_slices.py:444: UserWarning: Converting sparse IndexedSlices(IndexedSlices(indices=Tensor(\"Adam/gradients/concat_1:0\", shape=(None,), dtype=int64), values=Tensor(\"Adam/gradients/concat:0\", shape=(None, 128), dtype=float32), dense_shape=Tensor(\"gradient_tape/DMPNN/dmpnnp_pooling_edges_directed_4/dmpnn_gather_edges_pairs_4/gather_nodes_ingoing_4/Cast:0\", shape=(2,), dtype=int32))) to a dense Tensor of unknown shape. This may consume a large amount of memory.\n",
      "  warnings.warn(\n",
      "C:\\Users\\patri\\anaconda3\\envs\\gcnn_keras_test\\lib\\site-packages\\tensorflow\\python\\framework\\indexed_slices.py:444: UserWarning: Converting sparse IndexedSlices(IndexedSlices(indices=Tensor(\"gradient_tape/DMPNN/dmpnnp_pooling_edges_directed_3/gather_nodes_outgoing_4/Reshape_1:0\", shape=(None,), dtype=int64), values=Tensor(\"gradient_tape/DMPNN/dmpnnp_pooling_edges_directed_3/gather_nodes_outgoing_4/Reshape:0\", shape=(None, 128), dtype=float32), dense_shape=Tensor(\"gradient_tape/DMPNN/dmpnnp_pooling_edges_directed_3/gather_nodes_outgoing_4/Cast:0\", shape=(2,), dtype=int32))) to a dense Tensor of unknown shape. This may consume a large amount of memory.\n",
      "  warnings.warn(\n",
      "C:\\Users\\patri\\anaconda3\\envs\\gcnn_keras_test\\lib\\site-packages\\tensorflow\\python\\framework\\indexed_slices.py:444: UserWarning: Converting sparse IndexedSlices(IndexedSlices(indices=Tensor(\"Adam/gradients/concat_3:0\", shape=(None,), dtype=int64), values=Tensor(\"Adam/gradients/concat_2:0\", shape=(None, 128), dtype=float32), dense_shape=Tensor(\"gradient_tape/DMPNN/dmpnnp_pooling_edges_directed_3/dmpnn_gather_edges_pairs_3/gather_nodes_ingoing_3/Cast:0\", shape=(2,), dtype=int32))) to a dense Tensor of unknown shape. This may consume a large amount of memory.\n",
      "  warnings.warn(\n",
      "C:\\Users\\patri\\anaconda3\\envs\\gcnn_keras_test\\lib\\site-packages\\tensorflow\\python\\framework\\indexed_slices.py:444: UserWarning: Converting sparse IndexedSlices(IndexedSlices(indices=Tensor(\"gradient_tape/DMPNN/dmpnnp_pooling_edges_directed_2/gather_nodes_outgoing_3/Reshape_1:0\", shape=(None,), dtype=int64), values=Tensor(\"gradient_tape/DMPNN/dmpnnp_pooling_edges_directed_2/gather_nodes_outgoing_3/Reshape:0\", shape=(None, 128), dtype=float32), dense_shape=Tensor(\"gradient_tape/DMPNN/dmpnnp_pooling_edges_directed_2/gather_nodes_outgoing_3/Cast:0\", shape=(2,), dtype=int32))) to a dense Tensor of unknown shape. This may consume a large amount of memory.\n",
      "  warnings.warn(\n",
      "C:\\Users\\patri\\anaconda3\\envs\\gcnn_keras_test\\lib\\site-packages\\tensorflow\\python\\framework\\indexed_slices.py:444: UserWarning: Converting sparse IndexedSlices(IndexedSlices(indices=Tensor(\"Adam/gradients/concat_5:0\", shape=(None,), dtype=int64), values=Tensor(\"Adam/gradients/concat_4:0\", shape=(None, 128), dtype=float32), dense_shape=Tensor(\"gradient_tape/DMPNN/dmpnnp_pooling_edges_directed_2/dmpnn_gather_edges_pairs_2/gather_nodes_ingoing_2/Cast:0\", shape=(2,), dtype=int32))) to a dense Tensor of unknown shape. This may consume a large amount of memory.\n",
      "  warnings.warn(\n",
      "C:\\Users\\patri\\anaconda3\\envs\\gcnn_keras_test\\lib\\site-packages\\tensorflow\\python\\framework\\indexed_slices.py:444: UserWarning: Converting sparse IndexedSlices(IndexedSlices(indices=Tensor(\"gradient_tape/DMPNN/dmpnnp_pooling_edges_directed_1/gather_nodes_outgoing_2/Reshape_1:0\", shape=(None,), dtype=int64), values=Tensor(\"gradient_tape/DMPNN/dmpnnp_pooling_edges_directed_1/gather_nodes_outgoing_2/Reshape:0\", shape=(None, 128), dtype=float32), dense_shape=Tensor(\"gradient_tape/DMPNN/dmpnnp_pooling_edges_directed_1/gather_nodes_outgoing_2/Cast:0\", shape=(2,), dtype=int32))) to a dense Tensor of unknown shape. This may consume a large amount of memory.\n",
      "  warnings.warn(\n",
      "C:\\Users\\patri\\anaconda3\\envs\\gcnn_keras_test\\lib\\site-packages\\tensorflow\\python\\framework\\indexed_slices.py:444: UserWarning: Converting sparse IndexedSlices(IndexedSlices(indices=Tensor(\"Adam/gradients/concat_7:0\", shape=(None,), dtype=int64), values=Tensor(\"Adam/gradients/concat_6:0\", shape=(None, 128), dtype=float32), dense_shape=Tensor(\"gradient_tape/DMPNN/dmpnnp_pooling_edges_directed_1/dmpnn_gather_edges_pairs_1/gather_nodes_ingoing_1/Cast:0\", shape=(2,), dtype=int32))) to a dense Tensor of unknown shape. This may consume a large amount of memory.\n",
      "  warnings.warn(\n",
      "C:\\Users\\patri\\anaconda3\\envs\\gcnn_keras_test\\lib\\site-packages\\tensorflow\\python\\framework\\indexed_slices.py:444: UserWarning: Converting sparse IndexedSlices(IndexedSlices(indices=Tensor(\"gradient_tape/DMPNN/dmpnnp_pooling_edges_directed/gather_nodes_outgoing_1/Reshape_1:0\", shape=(None,), dtype=int64), values=Tensor(\"gradient_tape/DMPNN/dmpnnp_pooling_edges_directed/gather_nodes_outgoing_1/Reshape:0\", shape=(None, 128), dtype=float32), dense_shape=Tensor(\"gradient_tape/DMPNN/dmpnnp_pooling_edges_directed/gather_nodes_outgoing_1/Cast:0\", shape=(2,), dtype=int32))) to a dense Tensor of unknown shape. This may consume a large amount of memory.\n",
      "  warnings.warn(\n",
      "C:\\Users\\patri\\anaconda3\\envs\\gcnn_keras_test\\lib\\site-packages\\tensorflow\\python\\framework\\indexed_slices.py:444: UserWarning: Converting sparse IndexedSlices(IndexedSlices(indices=Tensor(\"gradient_tape/DMPNN/dmpnnp_pooling_edges_directed/dmpnn_gather_edges_pairs/gather_nodes_ingoing/Reshape_1:0\", shape=(None,), dtype=int64), values=Tensor(\"gradient_tape/DMPNN/dmpnnp_pooling_edges_directed/dmpnn_gather_edges_pairs/gather_nodes_ingoing/Reshape:0\", shape=(None, 128), dtype=float32), dense_shape=Tensor(\"gradient_tape/DMPNN/dmpnnp_pooling_edges_directed/dmpnn_gather_edges_pairs/gather_nodes_ingoing/Cast:0\", shape=(2,), dtype=int32))) to a dense Tensor of unknown shape. This may consume a large amount of memory.\n",
      "  warnings.warn(\n",
      "C:\\Users\\patri\\anaconda3\\envs\\gcnn_keras_test\\lib\\site-packages\\tensorflow\\python\\framework\\indexed_slices.py:444: UserWarning: Converting sparse IndexedSlices(IndexedSlices(indices=Tensor(\"gradient_tape/DMPNN/dmpnnp_pooling_edges_directed/pooling_local_edges/Reshape_1:0\", shape=(None,), dtype=int32), values=Tensor(\"gradient_tape/DMPNN/dmpnnp_pooling_edges_directed/pooling_local_edges/Reshape:0\", shape=(None, 128), dtype=float32), dense_shape=Tensor(\"gradient_tape/DMPNN/dmpnnp_pooling_edges_directed/pooling_local_edges/Cast:0\", shape=(2,), dtype=int32))) to a dense Tensor of unknown shape. This may consume a large amount of memory.\n",
      "  warnings.warn(\n"
     ]
    },
    {
     "name": "stderr",
     "output_type": "stream",
     "text": [
      "\u001b[32m[I 2023-02-09 16:00:08,135]\u001b[0m Trial 14 finished with value: 0.5822202563285828 and parameters: {'depth': 5, 'pooling_method': 'mean', 'units': 128, 'learning_rate': 0.0003527025037274523}. Best is trial 1 with value: 0.4369063079357147.\u001b[0m\n",
      "C:\\Users\\patri\\anaconda3\\envs\\gcnn_keras_test\\lib\\site-packages\\optuna\\distributions.py:560: UserWarning: The distribution is specified by [1, 6] and step=2, but the range is not divisible by `step`. It will be replaced by [1, 5].\n",
      "  warnings.warn(\n",
      "INFO:kgcnn.model.utils:Updated model kwargs:\n",
      "INFO:kgcnn.model.utils:{'name': 'DMPNN', 'inputs': [{'shape': [None, 41], 'name': 'node_attributes', 'dtype': 'float32', 'ragged': True}, {'shape': [None, 11], 'name': 'edge_attributes', 'dtype': 'float32', 'ragged': True}, {'shape': [None, 2], 'name': 'edge_indices', 'dtype': 'int64', 'ragged': True}, {'shape': [None, 1], 'name': 'edge_indices_reverse', 'dtype': 'int64', 'ragged': True}], 'input_embedding': {'node': {'input_dim': 95, 'output_dim': 64}, 'edge': {'input_dim': 5, 'output_dim': 64}, 'graph': {'input_dim': 100, 'output_dim': 64}}, 'pooling_args': {'pooling_method': 'sum'}, 'use_graph_state': False, 'edge_initialize': {'units': 96, 'use_bias': True, 'activation': 'relu'}, 'edge_dense': {'units': 96, 'use_bias': True, 'activation': 'linear'}, 'edge_activation': {'activation': 'relu'}, 'node_dense': {'units': 96, 'use_bias': True, 'activation': 'relu'}, 'verbose': 10, 'depth': 5, 'dropout': {'rate': 0.1}, 'output_embedding': 'graph', 'output_to_tensor': True, 'output_mlp': {'use_bias': [True, True, False], 'units': [64, 32, 1], 'activation': ['relu', 'relu', 'linear']}}\n",
      "C:\\Users\\patri\\anaconda3\\envs\\gcnn_keras_test\\lib\\site-packages\\tensorflow\\python\\framework\\indexed_slices.py:444: UserWarning: Converting sparse IndexedSlices(IndexedSlices(indices=Tensor(\"gradient_tape/DMPNN/pooling_local_edges_5/Reshape_1:0\", shape=(None,), dtype=int32), values=Tensor(\"gradient_tape/DMPNN/pooling_local_edges_5/Reshape:0\", shape=(None, 96), dtype=float32), dense_shape=Tensor(\"gradient_tape/DMPNN/pooling_local_edges_5/Cast:0\", shape=(2,), dtype=int32))) to a dense Tensor of unknown shape. This may consume a large amount of memory.\n",
      "  warnings.warn(\n",
      "C:\\Users\\patri\\anaconda3\\envs\\gcnn_keras_test\\lib\\site-packages\\tensorflow\\python\\framework\\indexed_slices.py:444: UserWarning: Converting sparse IndexedSlices(IndexedSlices(indices=Tensor(\"gradient_tape/DMPNN/dmpnnp_pooling_edges_directed_4/gather_nodes_outgoing_5/Reshape_1:0\", shape=(None,), dtype=int64), values=Tensor(\"gradient_tape/DMPNN/dmpnnp_pooling_edges_directed_4/gather_nodes_outgoing_5/Reshape:0\", shape=(None, 96), dtype=float32), dense_shape=Tensor(\"gradient_tape/DMPNN/dmpnnp_pooling_edges_directed_4/gather_nodes_outgoing_5/Cast:0\", shape=(2,), dtype=int32))) to a dense Tensor of unknown shape. This may consume a large amount of memory.\n",
      "  warnings.warn(\n",
      "C:\\Users\\patri\\anaconda3\\envs\\gcnn_keras_test\\lib\\site-packages\\tensorflow\\python\\framework\\indexed_slices.py:444: UserWarning: Converting sparse IndexedSlices(IndexedSlices(indices=Tensor(\"Adam/gradients/concat_1:0\", shape=(None,), dtype=int64), values=Tensor(\"Adam/gradients/concat:0\", shape=(None, 96), dtype=float32), dense_shape=Tensor(\"gradient_tape/DMPNN/dmpnnp_pooling_edges_directed_4/dmpnn_gather_edges_pairs_4/gather_nodes_ingoing_4/Cast:0\", shape=(2,), dtype=int32))) to a dense Tensor of unknown shape. This may consume a large amount of memory.\n",
      "  warnings.warn(\n",
      "C:\\Users\\patri\\anaconda3\\envs\\gcnn_keras_test\\lib\\site-packages\\tensorflow\\python\\framework\\indexed_slices.py:444: UserWarning: Converting sparse IndexedSlices(IndexedSlices(indices=Tensor(\"gradient_tape/DMPNN/dmpnnp_pooling_edges_directed_3/gather_nodes_outgoing_4/Reshape_1:0\", shape=(None,), dtype=int64), values=Tensor(\"gradient_tape/DMPNN/dmpnnp_pooling_edges_directed_3/gather_nodes_outgoing_4/Reshape:0\", shape=(None, 96), dtype=float32), dense_shape=Tensor(\"gradient_tape/DMPNN/dmpnnp_pooling_edges_directed_3/gather_nodes_outgoing_4/Cast:0\", shape=(2,), dtype=int32))) to a dense Tensor of unknown shape. This may consume a large amount of memory.\n",
      "  warnings.warn(\n",
      "C:\\Users\\patri\\anaconda3\\envs\\gcnn_keras_test\\lib\\site-packages\\tensorflow\\python\\framework\\indexed_slices.py:444: UserWarning: Converting sparse IndexedSlices(IndexedSlices(indices=Tensor(\"Adam/gradients/concat_3:0\", shape=(None,), dtype=int64), values=Tensor(\"Adam/gradients/concat_2:0\", shape=(None, 96), dtype=float32), dense_shape=Tensor(\"gradient_tape/DMPNN/dmpnnp_pooling_edges_directed_3/dmpnn_gather_edges_pairs_3/gather_nodes_ingoing_3/Cast:0\", shape=(2,), dtype=int32))) to a dense Tensor of unknown shape. This may consume a large amount of memory.\n",
      "  warnings.warn(\n",
      "C:\\Users\\patri\\anaconda3\\envs\\gcnn_keras_test\\lib\\site-packages\\tensorflow\\python\\framework\\indexed_slices.py:444: UserWarning: Converting sparse IndexedSlices(IndexedSlices(indices=Tensor(\"gradient_tape/DMPNN/dmpnnp_pooling_edges_directed_2/gather_nodes_outgoing_3/Reshape_1:0\", shape=(None,), dtype=int64), values=Tensor(\"gradient_tape/DMPNN/dmpnnp_pooling_edges_directed_2/gather_nodes_outgoing_3/Reshape:0\", shape=(None, 96), dtype=float32), dense_shape=Tensor(\"gradient_tape/DMPNN/dmpnnp_pooling_edges_directed_2/gather_nodes_outgoing_3/Cast:0\", shape=(2,), dtype=int32))) to a dense Tensor of unknown shape. This may consume a large amount of memory.\n",
      "  warnings.warn(\n",
      "C:\\Users\\patri\\anaconda3\\envs\\gcnn_keras_test\\lib\\site-packages\\tensorflow\\python\\framework\\indexed_slices.py:444: UserWarning: Converting sparse IndexedSlices(IndexedSlices(indices=Tensor(\"Adam/gradients/concat_5:0\", shape=(None,), dtype=int64), values=Tensor(\"Adam/gradients/concat_4:0\", shape=(None, 96), dtype=float32), dense_shape=Tensor(\"gradient_tape/DMPNN/dmpnnp_pooling_edges_directed_2/dmpnn_gather_edges_pairs_2/gather_nodes_ingoing_2/Cast:0\", shape=(2,), dtype=int32))) to a dense Tensor of unknown shape. This may consume a large amount of memory.\n",
      "  warnings.warn(\n",
      "C:\\Users\\patri\\anaconda3\\envs\\gcnn_keras_test\\lib\\site-packages\\tensorflow\\python\\framework\\indexed_slices.py:444: UserWarning: Converting sparse IndexedSlices(IndexedSlices(indices=Tensor(\"gradient_tape/DMPNN/dmpnnp_pooling_edges_directed_1/gather_nodes_outgoing_2/Reshape_1:0\", shape=(None,), dtype=int64), values=Tensor(\"gradient_tape/DMPNN/dmpnnp_pooling_edges_directed_1/gather_nodes_outgoing_2/Reshape:0\", shape=(None, 96), dtype=float32), dense_shape=Tensor(\"gradient_tape/DMPNN/dmpnnp_pooling_edges_directed_1/gather_nodes_outgoing_2/Cast:0\", shape=(2,), dtype=int32))) to a dense Tensor of unknown shape. This may consume a large amount of memory.\n",
      "  warnings.warn(\n",
      "C:\\Users\\patri\\anaconda3\\envs\\gcnn_keras_test\\lib\\site-packages\\tensorflow\\python\\framework\\indexed_slices.py:444: UserWarning: Converting sparse IndexedSlices(IndexedSlices(indices=Tensor(\"Adam/gradients/concat_7:0\", shape=(None,), dtype=int64), values=Tensor(\"Adam/gradients/concat_6:0\", shape=(None, 96), dtype=float32), dense_shape=Tensor(\"gradient_tape/DMPNN/dmpnnp_pooling_edges_directed_1/dmpnn_gather_edges_pairs_1/gather_nodes_ingoing_1/Cast:0\", shape=(2,), dtype=int32))) to a dense Tensor of unknown shape. This may consume a large amount of memory.\n",
      "  warnings.warn(\n",
      "C:\\Users\\patri\\anaconda3\\envs\\gcnn_keras_test\\lib\\site-packages\\tensorflow\\python\\framework\\indexed_slices.py:444: UserWarning: Converting sparse IndexedSlices(IndexedSlices(indices=Tensor(\"gradient_tape/DMPNN/dmpnnp_pooling_edges_directed/gather_nodes_outgoing_1/Reshape_1:0\", shape=(None,), dtype=int64), values=Tensor(\"gradient_tape/DMPNN/dmpnnp_pooling_edges_directed/gather_nodes_outgoing_1/Reshape:0\", shape=(None, 96), dtype=float32), dense_shape=Tensor(\"gradient_tape/DMPNN/dmpnnp_pooling_edges_directed/gather_nodes_outgoing_1/Cast:0\", shape=(2,), dtype=int32))) to a dense Tensor of unknown shape. This may consume a large amount of memory.\n",
      "  warnings.warn(\n",
      "C:\\Users\\patri\\anaconda3\\envs\\gcnn_keras_test\\lib\\site-packages\\tensorflow\\python\\framework\\indexed_slices.py:444: UserWarning: Converting sparse IndexedSlices(IndexedSlices(indices=Tensor(\"gradient_tape/DMPNN/dmpnnp_pooling_edges_directed/dmpnn_gather_edges_pairs/gather_nodes_ingoing/Reshape_1:0\", shape=(None,), dtype=int64), values=Tensor(\"gradient_tape/DMPNN/dmpnnp_pooling_edges_directed/dmpnn_gather_edges_pairs/gather_nodes_ingoing/Reshape:0\", shape=(None, 96), dtype=float32), dense_shape=Tensor(\"gradient_tape/DMPNN/dmpnnp_pooling_edges_directed/dmpnn_gather_edges_pairs/gather_nodes_ingoing/Cast:0\", shape=(2,), dtype=int32))) to a dense Tensor of unknown shape. This may consume a large amount of memory.\n",
      "  warnings.warn(\n",
      "C:\\Users\\patri\\anaconda3\\envs\\gcnn_keras_test\\lib\\site-packages\\tensorflow\\python\\framework\\indexed_slices.py:444: UserWarning: Converting sparse IndexedSlices(IndexedSlices(indices=Tensor(\"gradient_tape/DMPNN/dmpnnp_pooling_edges_directed/pooling_local_edges/Reshape_1:0\", shape=(None,), dtype=int32), values=Tensor(\"gradient_tape/DMPNN/dmpnnp_pooling_edges_directed/pooling_local_edges/Reshape:0\", shape=(None, 96), dtype=float32), dense_shape=Tensor(\"gradient_tape/DMPNN/dmpnnp_pooling_edges_directed/pooling_local_edges/Cast:0\", shape=(2,), dtype=int32))) to a dense Tensor of unknown shape. This may consume a large amount of memory.\n",
      "  warnings.warn(\n"
     ]
    },
    {
     "name": "stderr",
     "output_type": "stream",
     "text": [
      "\u001b[32m[I 2023-02-09 16:00:30,788]\u001b[0m Trial 15 finished with value: 0.4751746952533722 and parameters: {'depth': 5, 'pooling_method': 'sum', 'units': 96, 'learning_rate': 0.004518686369240291}. Best is trial 1 with value: 0.4369063079357147.\u001b[0m\n",
      "C:\\Users\\patri\\anaconda3\\envs\\gcnn_keras_test\\lib\\site-packages\\optuna\\distributions.py:560: UserWarning: The distribution is specified by [1, 6] and step=2, but the range is not divisible by `step`. It will be replaced by [1, 5].\n",
      "  warnings.warn(\n",
      "INFO:kgcnn.model.utils:Updated model kwargs:\n",
      "INFO:kgcnn.model.utils:{'name': 'DMPNN', 'inputs': [{'shape': [None, 41], 'name': 'node_attributes', 'dtype': 'float32', 'ragged': True}, {'shape': [None, 11], 'name': 'edge_attributes', 'dtype': 'float32', 'ragged': True}, {'shape': [None, 2], 'name': 'edge_indices', 'dtype': 'int64', 'ragged': True}, {'shape': [None, 1], 'name': 'edge_indices_reverse', 'dtype': 'int64', 'ragged': True}], 'input_embedding': {'node': {'input_dim': 95, 'output_dim': 64}, 'edge': {'input_dim': 5, 'output_dim': 64}, 'graph': {'input_dim': 100, 'output_dim': 64}}, 'pooling_args': {'pooling_method': 'sum'}, 'use_graph_state': False, 'edge_initialize': {'units': 96, 'use_bias': True, 'activation': 'relu'}, 'edge_dense': {'units': 96, 'use_bias': True, 'activation': 'linear'}, 'edge_activation': {'activation': 'relu'}, 'node_dense': {'units': 96, 'use_bias': True, 'activation': 'relu'}, 'verbose': 10, 'depth': 5, 'dropout': {'rate': 0.1}, 'output_embedding': 'graph', 'output_to_tensor': True, 'output_mlp': {'use_bias': [True, True, False], 'units': [64, 32, 1], 'activation': ['relu', 'relu', 'linear']}}\n",
      "C:\\Users\\patri\\anaconda3\\envs\\gcnn_keras_test\\lib\\site-packages\\tensorflow\\python\\framework\\indexed_slices.py:444: UserWarning: Converting sparse IndexedSlices(IndexedSlices(indices=Tensor(\"gradient_tape/DMPNN/pooling_local_edges_5/Reshape_1:0\", shape=(None,), dtype=int32), values=Tensor(\"gradient_tape/DMPNN/pooling_local_edges_5/Reshape:0\", shape=(None, 96), dtype=float32), dense_shape=Tensor(\"gradient_tape/DMPNN/pooling_local_edges_5/Cast:0\", shape=(2,), dtype=int32))) to a dense Tensor of unknown shape. This may consume a large amount of memory.\n",
      "  warnings.warn(\n",
      "C:\\Users\\patri\\anaconda3\\envs\\gcnn_keras_test\\lib\\site-packages\\tensorflow\\python\\framework\\indexed_slices.py:444: UserWarning: Converting sparse IndexedSlices(IndexedSlices(indices=Tensor(\"gradient_tape/DMPNN/dmpnnp_pooling_edges_directed_4/gather_nodes_outgoing_5/Reshape_1:0\", shape=(None,), dtype=int64), values=Tensor(\"gradient_tape/DMPNN/dmpnnp_pooling_edges_directed_4/gather_nodes_outgoing_5/Reshape:0\", shape=(None, 96), dtype=float32), dense_shape=Tensor(\"gradient_tape/DMPNN/dmpnnp_pooling_edges_directed_4/gather_nodes_outgoing_5/Cast:0\", shape=(2,), dtype=int32))) to a dense Tensor of unknown shape. This may consume a large amount of memory.\n",
      "  warnings.warn(\n",
      "C:\\Users\\patri\\anaconda3\\envs\\gcnn_keras_test\\lib\\site-packages\\tensorflow\\python\\framework\\indexed_slices.py:444: UserWarning: Converting sparse IndexedSlices(IndexedSlices(indices=Tensor(\"Adam/gradients/concat_1:0\", shape=(None,), dtype=int64), values=Tensor(\"Adam/gradients/concat:0\", shape=(None, 96), dtype=float32), dense_shape=Tensor(\"gradient_tape/DMPNN/dmpnnp_pooling_edges_directed_4/dmpnn_gather_edges_pairs_4/gather_nodes_ingoing_4/Cast:0\", shape=(2,), dtype=int32))) to a dense Tensor of unknown shape. This may consume a large amount of memory.\n",
      "  warnings.warn(\n",
      "C:\\Users\\patri\\anaconda3\\envs\\gcnn_keras_test\\lib\\site-packages\\tensorflow\\python\\framework\\indexed_slices.py:444: UserWarning: Converting sparse IndexedSlices(IndexedSlices(indices=Tensor(\"gradient_tape/DMPNN/dmpnnp_pooling_edges_directed_3/gather_nodes_outgoing_4/Reshape_1:0\", shape=(None,), dtype=int64), values=Tensor(\"gradient_tape/DMPNN/dmpnnp_pooling_edges_directed_3/gather_nodes_outgoing_4/Reshape:0\", shape=(None, 96), dtype=float32), dense_shape=Tensor(\"gradient_tape/DMPNN/dmpnnp_pooling_edges_directed_3/gather_nodes_outgoing_4/Cast:0\", shape=(2,), dtype=int32))) to a dense Tensor of unknown shape. This may consume a large amount of memory.\n",
      "  warnings.warn(\n",
      "C:\\Users\\patri\\anaconda3\\envs\\gcnn_keras_test\\lib\\site-packages\\tensorflow\\python\\framework\\indexed_slices.py:444: UserWarning: Converting sparse IndexedSlices(IndexedSlices(indices=Tensor(\"Adam/gradients/concat_3:0\", shape=(None,), dtype=int64), values=Tensor(\"Adam/gradients/concat_2:0\", shape=(None, 96), dtype=float32), dense_shape=Tensor(\"gradient_tape/DMPNN/dmpnnp_pooling_edges_directed_3/dmpnn_gather_edges_pairs_3/gather_nodes_ingoing_3/Cast:0\", shape=(2,), dtype=int32))) to a dense Tensor of unknown shape. This may consume a large amount of memory.\n",
      "  warnings.warn(\n",
      "C:\\Users\\patri\\anaconda3\\envs\\gcnn_keras_test\\lib\\site-packages\\tensorflow\\python\\framework\\indexed_slices.py:444: UserWarning: Converting sparse IndexedSlices(IndexedSlices(indices=Tensor(\"gradient_tape/DMPNN/dmpnnp_pooling_edges_directed_2/gather_nodes_outgoing_3/Reshape_1:0\", shape=(None,), dtype=int64), values=Tensor(\"gradient_tape/DMPNN/dmpnnp_pooling_edges_directed_2/gather_nodes_outgoing_3/Reshape:0\", shape=(None, 96), dtype=float32), dense_shape=Tensor(\"gradient_tape/DMPNN/dmpnnp_pooling_edges_directed_2/gather_nodes_outgoing_3/Cast:0\", shape=(2,), dtype=int32))) to a dense Tensor of unknown shape. This may consume a large amount of memory.\n",
      "  warnings.warn(\n",
      "C:\\Users\\patri\\anaconda3\\envs\\gcnn_keras_test\\lib\\site-packages\\tensorflow\\python\\framework\\indexed_slices.py:444: UserWarning: Converting sparse IndexedSlices(IndexedSlices(indices=Tensor(\"Adam/gradients/concat_5:0\", shape=(None,), dtype=int64), values=Tensor(\"Adam/gradients/concat_4:0\", shape=(None, 96), dtype=float32), dense_shape=Tensor(\"gradient_tape/DMPNN/dmpnnp_pooling_edges_directed_2/dmpnn_gather_edges_pairs_2/gather_nodes_ingoing_2/Cast:0\", shape=(2,), dtype=int32))) to a dense Tensor of unknown shape. This may consume a large amount of memory.\n",
      "  warnings.warn(\n",
      "C:\\Users\\patri\\anaconda3\\envs\\gcnn_keras_test\\lib\\site-packages\\tensorflow\\python\\framework\\indexed_slices.py:444: UserWarning: Converting sparse IndexedSlices(IndexedSlices(indices=Tensor(\"gradient_tape/DMPNN/dmpnnp_pooling_edges_directed_1/gather_nodes_outgoing_2/Reshape_1:0\", shape=(None,), dtype=int64), values=Tensor(\"gradient_tape/DMPNN/dmpnnp_pooling_edges_directed_1/gather_nodes_outgoing_2/Reshape:0\", shape=(None, 96), dtype=float32), dense_shape=Tensor(\"gradient_tape/DMPNN/dmpnnp_pooling_edges_directed_1/gather_nodes_outgoing_2/Cast:0\", shape=(2,), dtype=int32))) to a dense Tensor of unknown shape. This may consume a large amount of memory.\n",
      "  warnings.warn(\n",
      "C:\\Users\\patri\\anaconda3\\envs\\gcnn_keras_test\\lib\\site-packages\\tensorflow\\python\\framework\\indexed_slices.py:444: UserWarning: Converting sparse IndexedSlices(IndexedSlices(indices=Tensor(\"Adam/gradients/concat_7:0\", shape=(None,), dtype=int64), values=Tensor(\"Adam/gradients/concat_6:0\", shape=(None, 96), dtype=float32), dense_shape=Tensor(\"gradient_tape/DMPNN/dmpnnp_pooling_edges_directed_1/dmpnn_gather_edges_pairs_1/gather_nodes_ingoing_1/Cast:0\", shape=(2,), dtype=int32))) to a dense Tensor of unknown shape. This may consume a large amount of memory.\n",
      "  warnings.warn(\n",
      "C:\\Users\\patri\\anaconda3\\envs\\gcnn_keras_test\\lib\\site-packages\\tensorflow\\python\\framework\\indexed_slices.py:444: UserWarning: Converting sparse IndexedSlices(IndexedSlices(indices=Tensor(\"gradient_tape/DMPNN/dmpnnp_pooling_edges_directed/gather_nodes_outgoing_1/Reshape_1:0\", shape=(None,), dtype=int64), values=Tensor(\"gradient_tape/DMPNN/dmpnnp_pooling_edges_directed/gather_nodes_outgoing_1/Reshape:0\", shape=(None, 96), dtype=float32), dense_shape=Tensor(\"gradient_tape/DMPNN/dmpnnp_pooling_edges_directed/gather_nodes_outgoing_1/Cast:0\", shape=(2,), dtype=int32))) to a dense Tensor of unknown shape. This may consume a large amount of memory.\n",
      "  warnings.warn(\n",
      "C:\\Users\\patri\\anaconda3\\envs\\gcnn_keras_test\\lib\\site-packages\\tensorflow\\python\\framework\\indexed_slices.py:444: UserWarning: Converting sparse IndexedSlices(IndexedSlices(indices=Tensor(\"gradient_tape/DMPNN/dmpnnp_pooling_edges_directed/dmpnn_gather_edges_pairs/gather_nodes_ingoing/Reshape_1:0\", shape=(None,), dtype=int64), values=Tensor(\"gradient_tape/DMPNN/dmpnnp_pooling_edges_directed/dmpnn_gather_edges_pairs/gather_nodes_ingoing/Reshape:0\", shape=(None, 96), dtype=float32), dense_shape=Tensor(\"gradient_tape/DMPNN/dmpnnp_pooling_edges_directed/dmpnn_gather_edges_pairs/gather_nodes_ingoing/Cast:0\", shape=(2,), dtype=int32))) to a dense Tensor of unknown shape. This may consume a large amount of memory.\n",
      "  warnings.warn(\n",
      "C:\\Users\\patri\\anaconda3\\envs\\gcnn_keras_test\\lib\\site-packages\\tensorflow\\python\\framework\\indexed_slices.py:444: UserWarning: Converting sparse IndexedSlices(IndexedSlices(indices=Tensor(\"gradient_tape/DMPNN/dmpnnp_pooling_edges_directed/pooling_local_edges/Reshape_1:0\", shape=(None,), dtype=int32), values=Tensor(\"gradient_tape/DMPNN/dmpnnp_pooling_edges_directed/pooling_local_edges/Reshape:0\", shape=(None, 96), dtype=float32), dense_shape=Tensor(\"gradient_tape/DMPNN/dmpnnp_pooling_edges_directed/pooling_local_edges/Cast:0\", shape=(2,), dtype=int32))) to a dense Tensor of unknown shape. This may consume a large amount of memory.\n",
      "  warnings.warn(\n"
     ]
    },
    {
     "name": "stderr",
     "output_type": "stream",
     "text": [
      "\u001b[32m[I 2023-02-09 16:00:53,115]\u001b[0m Trial 16 finished with value: 0.8374723196029663 and parameters: {'depth': 5, 'pooling_method': 'sum', 'units': 96, 'learning_rate': 0.0881430886393023}. Best is trial 1 with value: 0.4369063079357147.\u001b[0m\n",
      "C:\\Users\\patri\\anaconda3\\envs\\gcnn_keras_test\\lib\\site-packages\\optuna\\distributions.py:560: UserWarning: The distribution is specified by [1, 6] and step=2, but the range is not divisible by `step`. It will be replaced by [1, 5].\n",
      "  warnings.warn(\n",
      "INFO:kgcnn.model.utils:Updated model kwargs:\n",
      "INFO:kgcnn.model.utils:{'name': 'DMPNN', 'inputs': [{'shape': [None, 41], 'name': 'node_attributes', 'dtype': 'float32', 'ragged': True}, {'shape': [None, 11], 'name': 'edge_attributes', 'dtype': 'float32', 'ragged': True}, {'shape': [None, 2], 'name': 'edge_indices', 'dtype': 'int64', 'ragged': True}, {'shape': [None, 1], 'name': 'edge_indices_reverse', 'dtype': 'int64', 'ragged': True}], 'input_embedding': {'node': {'input_dim': 95, 'output_dim': 64}, 'edge': {'input_dim': 5, 'output_dim': 64}, 'graph': {'input_dim': 100, 'output_dim': 64}}, 'pooling_args': {'pooling_method': 'sum'}, 'use_graph_state': False, 'edge_initialize': {'units': 96, 'use_bias': True, 'activation': 'relu'}, 'edge_dense': {'units': 96, 'use_bias': True, 'activation': 'linear'}, 'edge_activation': {'activation': 'relu'}, 'node_dense': {'units': 96, 'use_bias': True, 'activation': 'relu'}, 'verbose': 10, 'depth': 5, 'dropout': {'rate': 0.1}, 'output_embedding': 'graph', 'output_to_tensor': True, 'output_mlp': {'use_bias': [True, True, False], 'units': [64, 32, 1], 'activation': ['relu', 'relu', 'linear']}}\n",
      "C:\\Users\\patri\\anaconda3\\envs\\gcnn_keras_test\\lib\\site-packages\\tensorflow\\python\\framework\\indexed_slices.py:444: UserWarning: Converting sparse IndexedSlices(IndexedSlices(indices=Tensor(\"gradient_tape/DMPNN/pooling_local_edges_5/Reshape_1:0\", shape=(None,), dtype=int32), values=Tensor(\"gradient_tape/DMPNN/pooling_local_edges_5/Reshape:0\", shape=(None, 96), dtype=float32), dense_shape=Tensor(\"gradient_tape/DMPNN/pooling_local_edges_5/Cast:0\", shape=(2,), dtype=int32))) to a dense Tensor of unknown shape. This may consume a large amount of memory.\n",
      "  warnings.warn(\n",
      "C:\\Users\\patri\\anaconda3\\envs\\gcnn_keras_test\\lib\\site-packages\\tensorflow\\python\\framework\\indexed_slices.py:444: UserWarning: Converting sparse IndexedSlices(IndexedSlices(indices=Tensor(\"gradient_tape/DMPNN/dmpnnp_pooling_edges_directed_4/gather_nodes_outgoing_5/Reshape_1:0\", shape=(None,), dtype=int64), values=Tensor(\"gradient_tape/DMPNN/dmpnnp_pooling_edges_directed_4/gather_nodes_outgoing_5/Reshape:0\", shape=(None, 96), dtype=float32), dense_shape=Tensor(\"gradient_tape/DMPNN/dmpnnp_pooling_edges_directed_4/gather_nodes_outgoing_5/Cast:0\", shape=(2,), dtype=int32))) to a dense Tensor of unknown shape. This may consume a large amount of memory.\n",
      "  warnings.warn(\n",
      "C:\\Users\\patri\\anaconda3\\envs\\gcnn_keras_test\\lib\\site-packages\\tensorflow\\python\\framework\\indexed_slices.py:444: UserWarning: Converting sparse IndexedSlices(IndexedSlices(indices=Tensor(\"Adam/gradients/concat_1:0\", shape=(None,), dtype=int64), values=Tensor(\"Adam/gradients/concat:0\", shape=(None, 96), dtype=float32), dense_shape=Tensor(\"gradient_tape/DMPNN/dmpnnp_pooling_edges_directed_4/dmpnn_gather_edges_pairs_4/gather_nodes_ingoing_4/Cast:0\", shape=(2,), dtype=int32))) to a dense Tensor of unknown shape. This may consume a large amount of memory.\n",
      "  warnings.warn(\n",
      "C:\\Users\\patri\\anaconda3\\envs\\gcnn_keras_test\\lib\\site-packages\\tensorflow\\python\\framework\\indexed_slices.py:444: UserWarning: Converting sparse IndexedSlices(IndexedSlices(indices=Tensor(\"gradient_tape/DMPNN/dmpnnp_pooling_edges_directed_3/gather_nodes_outgoing_4/Reshape_1:0\", shape=(None,), dtype=int64), values=Tensor(\"gradient_tape/DMPNN/dmpnnp_pooling_edges_directed_3/gather_nodes_outgoing_4/Reshape:0\", shape=(None, 96), dtype=float32), dense_shape=Tensor(\"gradient_tape/DMPNN/dmpnnp_pooling_edges_directed_3/gather_nodes_outgoing_4/Cast:0\", shape=(2,), dtype=int32))) to a dense Tensor of unknown shape. This may consume a large amount of memory.\n",
      "  warnings.warn(\n",
      "C:\\Users\\patri\\anaconda3\\envs\\gcnn_keras_test\\lib\\site-packages\\tensorflow\\python\\framework\\indexed_slices.py:444: UserWarning: Converting sparse IndexedSlices(IndexedSlices(indices=Tensor(\"Adam/gradients/concat_3:0\", shape=(None,), dtype=int64), values=Tensor(\"Adam/gradients/concat_2:0\", shape=(None, 96), dtype=float32), dense_shape=Tensor(\"gradient_tape/DMPNN/dmpnnp_pooling_edges_directed_3/dmpnn_gather_edges_pairs_3/gather_nodes_ingoing_3/Cast:0\", shape=(2,), dtype=int32))) to a dense Tensor of unknown shape. This may consume a large amount of memory.\n",
      "  warnings.warn(\n",
      "C:\\Users\\patri\\anaconda3\\envs\\gcnn_keras_test\\lib\\site-packages\\tensorflow\\python\\framework\\indexed_slices.py:444: UserWarning: Converting sparse IndexedSlices(IndexedSlices(indices=Tensor(\"gradient_tape/DMPNN/dmpnnp_pooling_edges_directed_2/gather_nodes_outgoing_3/Reshape_1:0\", shape=(None,), dtype=int64), values=Tensor(\"gradient_tape/DMPNN/dmpnnp_pooling_edges_directed_2/gather_nodes_outgoing_3/Reshape:0\", shape=(None, 96), dtype=float32), dense_shape=Tensor(\"gradient_tape/DMPNN/dmpnnp_pooling_edges_directed_2/gather_nodes_outgoing_3/Cast:0\", shape=(2,), dtype=int32))) to a dense Tensor of unknown shape. This may consume a large amount of memory.\n",
      "  warnings.warn(\n",
      "C:\\Users\\patri\\anaconda3\\envs\\gcnn_keras_test\\lib\\site-packages\\tensorflow\\python\\framework\\indexed_slices.py:444: UserWarning: Converting sparse IndexedSlices(IndexedSlices(indices=Tensor(\"Adam/gradients/concat_5:0\", shape=(None,), dtype=int64), values=Tensor(\"Adam/gradients/concat_4:0\", shape=(None, 96), dtype=float32), dense_shape=Tensor(\"gradient_tape/DMPNN/dmpnnp_pooling_edges_directed_2/dmpnn_gather_edges_pairs_2/gather_nodes_ingoing_2/Cast:0\", shape=(2,), dtype=int32))) to a dense Tensor of unknown shape. This may consume a large amount of memory.\n",
      "  warnings.warn(\n",
      "C:\\Users\\patri\\anaconda3\\envs\\gcnn_keras_test\\lib\\site-packages\\tensorflow\\python\\framework\\indexed_slices.py:444: UserWarning: Converting sparse IndexedSlices(IndexedSlices(indices=Tensor(\"gradient_tape/DMPNN/dmpnnp_pooling_edges_directed_1/gather_nodes_outgoing_2/Reshape_1:0\", shape=(None,), dtype=int64), values=Tensor(\"gradient_tape/DMPNN/dmpnnp_pooling_edges_directed_1/gather_nodes_outgoing_2/Reshape:0\", shape=(None, 96), dtype=float32), dense_shape=Tensor(\"gradient_tape/DMPNN/dmpnnp_pooling_edges_directed_1/gather_nodes_outgoing_2/Cast:0\", shape=(2,), dtype=int32))) to a dense Tensor of unknown shape. This may consume a large amount of memory.\n",
      "  warnings.warn(\n",
      "C:\\Users\\patri\\anaconda3\\envs\\gcnn_keras_test\\lib\\site-packages\\tensorflow\\python\\framework\\indexed_slices.py:444: UserWarning: Converting sparse IndexedSlices(IndexedSlices(indices=Tensor(\"Adam/gradients/concat_7:0\", shape=(None,), dtype=int64), values=Tensor(\"Adam/gradients/concat_6:0\", shape=(None, 96), dtype=float32), dense_shape=Tensor(\"gradient_tape/DMPNN/dmpnnp_pooling_edges_directed_1/dmpnn_gather_edges_pairs_1/gather_nodes_ingoing_1/Cast:0\", shape=(2,), dtype=int32))) to a dense Tensor of unknown shape. This may consume a large amount of memory.\n",
      "  warnings.warn(\n",
      "C:\\Users\\patri\\anaconda3\\envs\\gcnn_keras_test\\lib\\site-packages\\tensorflow\\python\\framework\\indexed_slices.py:444: UserWarning: Converting sparse IndexedSlices(IndexedSlices(indices=Tensor(\"gradient_tape/DMPNN/dmpnnp_pooling_edges_directed/gather_nodes_outgoing_1/Reshape_1:0\", shape=(None,), dtype=int64), values=Tensor(\"gradient_tape/DMPNN/dmpnnp_pooling_edges_directed/gather_nodes_outgoing_1/Reshape:0\", shape=(None, 96), dtype=float32), dense_shape=Tensor(\"gradient_tape/DMPNN/dmpnnp_pooling_edges_directed/gather_nodes_outgoing_1/Cast:0\", shape=(2,), dtype=int32))) to a dense Tensor of unknown shape. This may consume a large amount of memory.\n",
      "  warnings.warn(\n",
      "C:\\Users\\patri\\anaconda3\\envs\\gcnn_keras_test\\lib\\site-packages\\tensorflow\\python\\framework\\indexed_slices.py:444: UserWarning: Converting sparse IndexedSlices(IndexedSlices(indices=Tensor(\"gradient_tape/DMPNN/dmpnnp_pooling_edges_directed/dmpnn_gather_edges_pairs/gather_nodes_ingoing/Reshape_1:0\", shape=(None,), dtype=int64), values=Tensor(\"gradient_tape/DMPNN/dmpnnp_pooling_edges_directed/dmpnn_gather_edges_pairs/gather_nodes_ingoing/Reshape:0\", shape=(None, 96), dtype=float32), dense_shape=Tensor(\"gradient_tape/DMPNN/dmpnnp_pooling_edges_directed/dmpnn_gather_edges_pairs/gather_nodes_ingoing/Cast:0\", shape=(2,), dtype=int32))) to a dense Tensor of unknown shape. This may consume a large amount of memory.\n",
      "  warnings.warn(\n",
      "C:\\Users\\patri\\anaconda3\\envs\\gcnn_keras_test\\lib\\site-packages\\tensorflow\\python\\framework\\indexed_slices.py:444: UserWarning: Converting sparse IndexedSlices(IndexedSlices(indices=Tensor(\"gradient_tape/DMPNN/dmpnnp_pooling_edges_directed/pooling_local_edges/Reshape_1:0\", shape=(None,), dtype=int32), values=Tensor(\"gradient_tape/DMPNN/dmpnnp_pooling_edges_directed/pooling_local_edges/Reshape:0\", shape=(None, 96), dtype=float32), dense_shape=Tensor(\"gradient_tape/DMPNN/dmpnnp_pooling_edges_directed/pooling_local_edges/Cast:0\", shape=(2,), dtype=int32))) to a dense Tensor of unknown shape. This may consume a large amount of memory.\n",
      "  warnings.warn(\n"
     ]
    },
    {
     "name": "stderr",
     "output_type": "stream",
     "text": [
      "\u001b[32m[I 2023-02-09 16:01:16,242]\u001b[0m Trial 17 finished with value: 0.7324935793876648 and parameters: {'depth': 5, 'pooling_method': 'sum', 'units': 96, 'learning_rate': 0.0002808840048169501}. Best is trial 1 with value: 0.4369063079357147.\u001b[0m\n",
      "C:\\Users\\patri\\anaconda3\\envs\\gcnn_keras_test\\lib\\site-packages\\optuna\\distributions.py:560: UserWarning: The distribution is specified by [1, 6] and step=2, but the range is not divisible by `step`. It will be replaced by [1, 5].\n",
      "  warnings.warn(\n",
      "INFO:kgcnn.model.utils:Updated model kwargs:\n",
      "INFO:kgcnn.model.utils:{'name': 'DMPNN', 'inputs': [{'shape': [None, 41], 'name': 'node_attributes', 'dtype': 'float32', 'ragged': True}, {'shape': [None, 11], 'name': 'edge_attributes', 'dtype': 'float32', 'ragged': True}, {'shape': [None, 2], 'name': 'edge_indices', 'dtype': 'int64', 'ragged': True}, {'shape': [None, 1], 'name': 'edge_indices_reverse', 'dtype': 'int64', 'ragged': True}], 'input_embedding': {'node': {'input_dim': 95, 'output_dim': 64}, 'edge': {'input_dim': 5, 'output_dim': 64}, 'graph': {'input_dim': 100, 'output_dim': 64}}, 'pooling_args': {'pooling_method': 'sum'}, 'use_graph_state': False, 'edge_initialize': {'units': 32, 'use_bias': True, 'activation': 'relu'}, 'edge_dense': {'units': 32, 'use_bias': True, 'activation': 'linear'}, 'edge_activation': {'activation': 'relu'}, 'node_dense': {'units': 32, 'use_bias': True, 'activation': 'relu'}, 'verbose': 10, 'depth': 5, 'dropout': {'rate': 0.1}, 'output_embedding': 'graph', 'output_to_tensor': True, 'output_mlp': {'use_bias': [True, True, False], 'units': [64, 32, 1], 'activation': ['relu', 'relu', 'linear']}}\n",
      "C:\\Users\\patri\\anaconda3\\envs\\gcnn_keras_test\\lib\\site-packages\\tensorflow\\python\\framework\\indexed_slices.py:444: UserWarning: Converting sparse IndexedSlices(IndexedSlices(indices=Tensor(\"gradient_tape/DMPNN/pooling_local_edges_5/Reshape_1:0\", shape=(None,), dtype=int32), values=Tensor(\"gradient_tape/DMPNN/pooling_local_edges_5/Reshape:0\", shape=(None, 32), dtype=float32), dense_shape=Tensor(\"gradient_tape/DMPNN/pooling_local_edges_5/Cast:0\", shape=(2,), dtype=int32))) to a dense Tensor of unknown shape. This may consume a large amount of memory.\n",
      "  warnings.warn(\n",
      "C:\\Users\\patri\\anaconda3\\envs\\gcnn_keras_test\\lib\\site-packages\\tensorflow\\python\\framework\\indexed_slices.py:444: UserWarning: Converting sparse IndexedSlices(IndexedSlices(indices=Tensor(\"gradient_tape/DMPNN/dmpnnp_pooling_edges_directed_4/gather_nodes_outgoing_5/Reshape_1:0\", shape=(None,), dtype=int64), values=Tensor(\"gradient_tape/DMPNN/dmpnnp_pooling_edges_directed_4/gather_nodes_outgoing_5/Reshape:0\", shape=(None, 32), dtype=float32), dense_shape=Tensor(\"gradient_tape/DMPNN/dmpnnp_pooling_edges_directed_4/gather_nodes_outgoing_5/Cast:0\", shape=(2,), dtype=int32))) to a dense Tensor of unknown shape. This may consume a large amount of memory.\n",
      "  warnings.warn(\n",
      "C:\\Users\\patri\\anaconda3\\envs\\gcnn_keras_test\\lib\\site-packages\\tensorflow\\python\\framework\\indexed_slices.py:444: UserWarning: Converting sparse IndexedSlices(IndexedSlices(indices=Tensor(\"Adam/gradients/concat_1:0\", shape=(None,), dtype=int64), values=Tensor(\"Adam/gradients/concat:0\", shape=(None, 32), dtype=float32), dense_shape=Tensor(\"gradient_tape/DMPNN/dmpnnp_pooling_edges_directed_4/dmpnn_gather_edges_pairs_4/gather_nodes_ingoing_4/Cast:0\", shape=(2,), dtype=int32))) to a dense Tensor of unknown shape. This may consume a large amount of memory.\n",
      "  warnings.warn(\n",
      "C:\\Users\\patri\\anaconda3\\envs\\gcnn_keras_test\\lib\\site-packages\\tensorflow\\python\\framework\\indexed_slices.py:444: UserWarning: Converting sparse IndexedSlices(IndexedSlices(indices=Tensor(\"gradient_tape/DMPNN/dmpnnp_pooling_edges_directed_3/gather_nodes_outgoing_4/Reshape_1:0\", shape=(None,), dtype=int64), values=Tensor(\"gradient_tape/DMPNN/dmpnnp_pooling_edges_directed_3/gather_nodes_outgoing_4/Reshape:0\", shape=(None, 32), dtype=float32), dense_shape=Tensor(\"gradient_tape/DMPNN/dmpnnp_pooling_edges_directed_3/gather_nodes_outgoing_4/Cast:0\", shape=(2,), dtype=int32))) to a dense Tensor of unknown shape. This may consume a large amount of memory.\n",
      "  warnings.warn(\n",
      "C:\\Users\\patri\\anaconda3\\envs\\gcnn_keras_test\\lib\\site-packages\\tensorflow\\python\\framework\\indexed_slices.py:444: UserWarning: Converting sparse IndexedSlices(IndexedSlices(indices=Tensor(\"Adam/gradients/concat_3:0\", shape=(None,), dtype=int64), values=Tensor(\"Adam/gradients/concat_2:0\", shape=(None, 32), dtype=float32), dense_shape=Tensor(\"gradient_tape/DMPNN/dmpnnp_pooling_edges_directed_3/dmpnn_gather_edges_pairs_3/gather_nodes_ingoing_3/Cast:0\", shape=(2,), dtype=int32))) to a dense Tensor of unknown shape. This may consume a large amount of memory.\n",
      "  warnings.warn(\n",
      "C:\\Users\\patri\\anaconda3\\envs\\gcnn_keras_test\\lib\\site-packages\\tensorflow\\python\\framework\\indexed_slices.py:444: UserWarning: Converting sparse IndexedSlices(IndexedSlices(indices=Tensor(\"gradient_tape/DMPNN/dmpnnp_pooling_edges_directed_2/gather_nodes_outgoing_3/Reshape_1:0\", shape=(None,), dtype=int64), values=Tensor(\"gradient_tape/DMPNN/dmpnnp_pooling_edges_directed_2/gather_nodes_outgoing_3/Reshape:0\", shape=(None, 32), dtype=float32), dense_shape=Tensor(\"gradient_tape/DMPNN/dmpnnp_pooling_edges_directed_2/gather_nodes_outgoing_3/Cast:0\", shape=(2,), dtype=int32))) to a dense Tensor of unknown shape. This may consume a large amount of memory.\n",
      "  warnings.warn(\n",
      "C:\\Users\\patri\\anaconda3\\envs\\gcnn_keras_test\\lib\\site-packages\\tensorflow\\python\\framework\\indexed_slices.py:444: UserWarning: Converting sparse IndexedSlices(IndexedSlices(indices=Tensor(\"Adam/gradients/concat_5:0\", shape=(None,), dtype=int64), values=Tensor(\"Adam/gradients/concat_4:0\", shape=(None, 32), dtype=float32), dense_shape=Tensor(\"gradient_tape/DMPNN/dmpnnp_pooling_edges_directed_2/dmpnn_gather_edges_pairs_2/gather_nodes_ingoing_2/Cast:0\", shape=(2,), dtype=int32))) to a dense Tensor of unknown shape. This may consume a large amount of memory.\n",
      "  warnings.warn(\n",
      "C:\\Users\\patri\\anaconda3\\envs\\gcnn_keras_test\\lib\\site-packages\\tensorflow\\python\\framework\\indexed_slices.py:444: UserWarning: Converting sparse IndexedSlices(IndexedSlices(indices=Tensor(\"gradient_tape/DMPNN/dmpnnp_pooling_edges_directed_1/gather_nodes_outgoing_2/Reshape_1:0\", shape=(None,), dtype=int64), values=Tensor(\"gradient_tape/DMPNN/dmpnnp_pooling_edges_directed_1/gather_nodes_outgoing_2/Reshape:0\", shape=(None, 32), dtype=float32), dense_shape=Tensor(\"gradient_tape/DMPNN/dmpnnp_pooling_edges_directed_1/gather_nodes_outgoing_2/Cast:0\", shape=(2,), dtype=int32))) to a dense Tensor of unknown shape. This may consume a large amount of memory.\n",
      "  warnings.warn(\n",
      "C:\\Users\\patri\\anaconda3\\envs\\gcnn_keras_test\\lib\\site-packages\\tensorflow\\python\\framework\\indexed_slices.py:444: UserWarning: Converting sparse IndexedSlices(IndexedSlices(indices=Tensor(\"Adam/gradients/concat_7:0\", shape=(None,), dtype=int64), values=Tensor(\"Adam/gradients/concat_6:0\", shape=(None, 32), dtype=float32), dense_shape=Tensor(\"gradient_tape/DMPNN/dmpnnp_pooling_edges_directed_1/dmpnn_gather_edges_pairs_1/gather_nodes_ingoing_1/Cast:0\", shape=(2,), dtype=int32))) to a dense Tensor of unknown shape. This may consume a large amount of memory.\n",
      "  warnings.warn(\n",
      "C:\\Users\\patri\\anaconda3\\envs\\gcnn_keras_test\\lib\\site-packages\\tensorflow\\python\\framework\\indexed_slices.py:444: UserWarning: Converting sparse IndexedSlices(IndexedSlices(indices=Tensor(\"gradient_tape/DMPNN/dmpnnp_pooling_edges_directed/gather_nodes_outgoing_1/Reshape_1:0\", shape=(None,), dtype=int64), values=Tensor(\"gradient_tape/DMPNN/dmpnnp_pooling_edges_directed/gather_nodes_outgoing_1/Reshape:0\", shape=(None, 32), dtype=float32), dense_shape=Tensor(\"gradient_tape/DMPNN/dmpnnp_pooling_edges_directed/gather_nodes_outgoing_1/Cast:0\", shape=(2,), dtype=int32))) to a dense Tensor of unknown shape. This may consume a large amount of memory.\n",
      "  warnings.warn(\n",
      "C:\\Users\\patri\\anaconda3\\envs\\gcnn_keras_test\\lib\\site-packages\\tensorflow\\python\\framework\\indexed_slices.py:444: UserWarning: Converting sparse IndexedSlices(IndexedSlices(indices=Tensor(\"gradient_tape/DMPNN/dmpnnp_pooling_edges_directed/dmpnn_gather_edges_pairs/gather_nodes_ingoing/Reshape_1:0\", shape=(None,), dtype=int64), values=Tensor(\"gradient_tape/DMPNN/dmpnnp_pooling_edges_directed/dmpnn_gather_edges_pairs/gather_nodes_ingoing/Reshape:0\", shape=(None, 32), dtype=float32), dense_shape=Tensor(\"gradient_tape/DMPNN/dmpnnp_pooling_edges_directed/dmpnn_gather_edges_pairs/gather_nodes_ingoing/Cast:0\", shape=(2,), dtype=int32))) to a dense Tensor of unknown shape. This may consume a large amount of memory.\n",
      "  warnings.warn(\n",
      "C:\\Users\\patri\\anaconda3\\envs\\gcnn_keras_test\\lib\\site-packages\\tensorflow\\python\\framework\\indexed_slices.py:444: UserWarning: Converting sparse IndexedSlices(IndexedSlices(indices=Tensor(\"gradient_tape/DMPNN/dmpnnp_pooling_edges_directed/pooling_local_edges/Reshape_1:0\", shape=(None,), dtype=int32), values=Tensor(\"gradient_tape/DMPNN/dmpnnp_pooling_edges_directed/pooling_local_edges/Reshape:0\", shape=(None, 32), dtype=float32), dense_shape=Tensor(\"gradient_tape/DMPNN/dmpnnp_pooling_edges_directed/pooling_local_edges/Cast:0\", shape=(2,), dtype=int32))) to a dense Tensor of unknown shape. This may consume a large amount of memory.\n",
      "  warnings.warn(\n"
     ]
    },
    {
     "name": "stderr",
     "output_type": "stream",
     "text": [
      "\u001b[32m[I 2023-02-09 16:01:37,898]\u001b[0m Trial 18 finished with value: 0.5323747396469116 and parameters: {'depth': 5, 'pooling_method': 'sum', 'units': 32, 'learning_rate': 0.010769441176925163}. Best is trial 1 with value: 0.4369063079357147.\u001b[0m\n",
      "C:\\Users\\patri\\anaconda3\\envs\\gcnn_keras_test\\lib\\site-packages\\optuna\\distributions.py:560: UserWarning: The distribution is specified by [1, 6] and step=2, but the range is not divisible by `step`. It will be replaced by [1, 5].\n",
      "  warnings.warn(\n",
      "INFO:kgcnn.model.utils:Updated model kwargs:\n",
      "INFO:kgcnn.model.utils:{'name': 'DMPNN', 'inputs': [{'shape': [None, 41], 'name': 'node_attributes', 'dtype': 'float32', 'ragged': True}, {'shape': [None, 11], 'name': 'edge_attributes', 'dtype': 'float32', 'ragged': True}, {'shape': [None, 2], 'name': 'edge_indices', 'dtype': 'int64', 'ragged': True}, {'shape': [None, 1], 'name': 'edge_indices_reverse', 'dtype': 'int64', 'ragged': True}], 'input_embedding': {'node': {'input_dim': 95, 'output_dim': 64}, 'edge': {'input_dim': 5, 'output_dim': 64}, 'graph': {'input_dim': 100, 'output_dim': 64}}, 'pooling_args': {'pooling_method': 'sum'}, 'use_graph_state': False, 'edge_initialize': {'units': 64, 'use_bias': True, 'activation': 'relu'}, 'edge_dense': {'units': 64, 'use_bias': True, 'activation': 'linear'}, 'edge_activation': {'activation': 'relu'}, 'node_dense': {'units': 64, 'use_bias': True, 'activation': 'relu'}, 'verbose': 10, 'depth': 5, 'dropout': {'rate': 0.1}, 'output_embedding': 'graph', 'output_to_tensor': True, 'output_mlp': {'use_bias': [True, True, False], 'units': [64, 32, 1], 'activation': ['relu', 'relu', 'linear']}}\n",
      "C:\\Users\\patri\\anaconda3\\envs\\gcnn_keras_test\\lib\\site-packages\\tensorflow\\python\\framework\\indexed_slices.py:444: UserWarning: Converting sparse IndexedSlices(IndexedSlices(indices=Tensor(\"gradient_tape/DMPNN/pooling_local_edges_5/Reshape_1:0\", shape=(None,), dtype=int32), values=Tensor(\"gradient_tape/DMPNN/pooling_local_edges_5/Reshape:0\", shape=(None, 64), dtype=float32), dense_shape=Tensor(\"gradient_tape/DMPNN/pooling_local_edges_5/Cast:0\", shape=(2,), dtype=int32))) to a dense Tensor of unknown shape. This may consume a large amount of memory.\n",
      "  warnings.warn(\n",
      "C:\\Users\\patri\\anaconda3\\envs\\gcnn_keras_test\\lib\\site-packages\\tensorflow\\python\\framework\\indexed_slices.py:444: UserWarning: Converting sparse IndexedSlices(IndexedSlices(indices=Tensor(\"gradient_tape/DMPNN/dmpnnp_pooling_edges_directed_4/gather_nodes_outgoing_5/Reshape_1:0\", shape=(None,), dtype=int64), values=Tensor(\"gradient_tape/DMPNN/dmpnnp_pooling_edges_directed_4/gather_nodes_outgoing_5/Reshape:0\", shape=(None, 64), dtype=float32), dense_shape=Tensor(\"gradient_tape/DMPNN/dmpnnp_pooling_edges_directed_4/gather_nodes_outgoing_5/Cast:0\", shape=(2,), dtype=int32))) to a dense Tensor of unknown shape. This may consume a large amount of memory.\n",
      "  warnings.warn(\n",
      "C:\\Users\\patri\\anaconda3\\envs\\gcnn_keras_test\\lib\\site-packages\\tensorflow\\python\\framework\\indexed_slices.py:444: UserWarning: Converting sparse IndexedSlices(IndexedSlices(indices=Tensor(\"Adam/gradients/concat_1:0\", shape=(None,), dtype=int64), values=Tensor(\"Adam/gradients/concat:0\", shape=(None, 64), dtype=float32), dense_shape=Tensor(\"gradient_tape/DMPNN/dmpnnp_pooling_edges_directed_4/dmpnn_gather_edges_pairs_4/gather_nodes_ingoing_4/Cast:0\", shape=(2,), dtype=int32))) to a dense Tensor of unknown shape. This may consume a large amount of memory.\n",
      "  warnings.warn(\n",
      "C:\\Users\\patri\\anaconda3\\envs\\gcnn_keras_test\\lib\\site-packages\\tensorflow\\python\\framework\\indexed_slices.py:444: UserWarning: Converting sparse IndexedSlices(IndexedSlices(indices=Tensor(\"gradient_tape/DMPNN/dmpnnp_pooling_edges_directed_3/gather_nodes_outgoing_4/Reshape_1:0\", shape=(None,), dtype=int64), values=Tensor(\"gradient_tape/DMPNN/dmpnnp_pooling_edges_directed_3/gather_nodes_outgoing_4/Reshape:0\", shape=(None, 64), dtype=float32), dense_shape=Tensor(\"gradient_tape/DMPNN/dmpnnp_pooling_edges_directed_3/gather_nodes_outgoing_4/Cast:0\", shape=(2,), dtype=int32))) to a dense Tensor of unknown shape. This may consume a large amount of memory.\n",
      "  warnings.warn(\n",
      "C:\\Users\\patri\\anaconda3\\envs\\gcnn_keras_test\\lib\\site-packages\\tensorflow\\python\\framework\\indexed_slices.py:444: UserWarning: Converting sparse IndexedSlices(IndexedSlices(indices=Tensor(\"Adam/gradients/concat_3:0\", shape=(None,), dtype=int64), values=Tensor(\"Adam/gradients/concat_2:0\", shape=(None, 64), dtype=float32), dense_shape=Tensor(\"gradient_tape/DMPNN/dmpnnp_pooling_edges_directed_3/dmpnn_gather_edges_pairs_3/gather_nodes_ingoing_3/Cast:0\", shape=(2,), dtype=int32))) to a dense Tensor of unknown shape. This may consume a large amount of memory.\n",
      "  warnings.warn(\n",
      "C:\\Users\\patri\\anaconda3\\envs\\gcnn_keras_test\\lib\\site-packages\\tensorflow\\python\\framework\\indexed_slices.py:444: UserWarning: Converting sparse IndexedSlices(IndexedSlices(indices=Tensor(\"gradient_tape/DMPNN/dmpnnp_pooling_edges_directed_2/gather_nodes_outgoing_3/Reshape_1:0\", shape=(None,), dtype=int64), values=Tensor(\"gradient_tape/DMPNN/dmpnnp_pooling_edges_directed_2/gather_nodes_outgoing_3/Reshape:0\", shape=(None, 64), dtype=float32), dense_shape=Tensor(\"gradient_tape/DMPNN/dmpnnp_pooling_edges_directed_2/gather_nodes_outgoing_3/Cast:0\", shape=(2,), dtype=int32))) to a dense Tensor of unknown shape. This may consume a large amount of memory.\n",
      "  warnings.warn(\n",
      "C:\\Users\\patri\\anaconda3\\envs\\gcnn_keras_test\\lib\\site-packages\\tensorflow\\python\\framework\\indexed_slices.py:444: UserWarning: Converting sparse IndexedSlices(IndexedSlices(indices=Tensor(\"Adam/gradients/concat_5:0\", shape=(None,), dtype=int64), values=Tensor(\"Adam/gradients/concat_4:0\", shape=(None, 64), dtype=float32), dense_shape=Tensor(\"gradient_tape/DMPNN/dmpnnp_pooling_edges_directed_2/dmpnn_gather_edges_pairs_2/gather_nodes_ingoing_2/Cast:0\", shape=(2,), dtype=int32))) to a dense Tensor of unknown shape. This may consume a large amount of memory.\n",
      "  warnings.warn(\n",
      "C:\\Users\\patri\\anaconda3\\envs\\gcnn_keras_test\\lib\\site-packages\\tensorflow\\python\\framework\\indexed_slices.py:444: UserWarning: Converting sparse IndexedSlices(IndexedSlices(indices=Tensor(\"gradient_tape/DMPNN/dmpnnp_pooling_edges_directed_1/gather_nodes_outgoing_2/Reshape_1:0\", shape=(None,), dtype=int64), values=Tensor(\"gradient_tape/DMPNN/dmpnnp_pooling_edges_directed_1/gather_nodes_outgoing_2/Reshape:0\", shape=(None, 64), dtype=float32), dense_shape=Tensor(\"gradient_tape/DMPNN/dmpnnp_pooling_edges_directed_1/gather_nodes_outgoing_2/Cast:0\", shape=(2,), dtype=int32))) to a dense Tensor of unknown shape. This may consume a large amount of memory.\n",
      "  warnings.warn(\n",
      "C:\\Users\\patri\\anaconda3\\envs\\gcnn_keras_test\\lib\\site-packages\\tensorflow\\python\\framework\\indexed_slices.py:444: UserWarning: Converting sparse IndexedSlices(IndexedSlices(indices=Tensor(\"Adam/gradients/concat_7:0\", shape=(None,), dtype=int64), values=Tensor(\"Adam/gradients/concat_6:0\", shape=(None, 64), dtype=float32), dense_shape=Tensor(\"gradient_tape/DMPNN/dmpnnp_pooling_edges_directed_1/dmpnn_gather_edges_pairs_1/gather_nodes_ingoing_1/Cast:0\", shape=(2,), dtype=int32))) to a dense Tensor of unknown shape. This may consume a large amount of memory.\n",
      "  warnings.warn(\n",
      "C:\\Users\\patri\\anaconda3\\envs\\gcnn_keras_test\\lib\\site-packages\\tensorflow\\python\\framework\\indexed_slices.py:444: UserWarning: Converting sparse IndexedSlices(IndexedSlices(indices=Tensor(\"gradient_tape/DMPNN/dmpnnp_pooling_edges_directed/gather_nodes_outgoing_1/Reshape_1:0\", shape=(None,), dtype=int64), values=Tensor(\"gradient_tape/DMPNN/dmpnnp_pooling_edges_directed/gather_nodes_outgoing_1/Reshape:0\", shape=(None, 64), dtype=float32), dense_shape=Tensor(\"gradient_tape/DMPNN/dmpnnp_pooling_edges_directed/gather_nodes_outgoing_1/Cast:0\", shape=(2,), dtype=int32))) to a dense Tensor of unknown shape. This may consume a large amount of memory.\n",
      "  warnings.warn(\n",
      "C:\\Users\\patri\\anaconda3\\envs\\gcnn_keras_test\\lib\\site-packages\\tensorflow\\python\\framework\\indexed_slices.py:444: UserWarning: Converting sparse IndexedSlices(IndexedSlices(indices=Tensor(\"gradient_tape/DMPNN/dmpnnp_pooling_edges_directed/dmpnn_gather_edges_pairs/gather_nodes_ingoing/Reshape_1:0\", shape=(None,), dtype=int64), values=Tensor(\"gradient_tape/DMPNN/dmpnnp_pooling_edges_directed/dmpnn_gather_edges_pairs/gather_nodes_ingoing/Reshape:0\", shape=(None, 64), dtype=float32), dense_shape=Tensor(\"gradient_tape/DMPNN/dmpnnp_pooling_edges_directed/dmpnn_gather_edges_pairs/gather_nodes_ingoing/Cast:0\", shape=(2,), dtype=int32))) to a dense Tensor of unknown shape. This may consume a large amount of memory.\n",
      "  warnings.warn(\n",
      "C:\\Users\\patri\\anaconda3\\envs\\gcnn_keras_test\\lib\\site-packages\\tensorflow\\python\\framework\\indexed_slices.py:444: UserWarning: Converting sparse IndexedSlices(IndexedSlices(indices=Tensor(\"gradient_tape/DMPNN/dmpnnp_pooling_edges_directed/pooling_local_edges/Reshape_1:0\", shape=(None,), dtype=int32), values=Tensor(\"gradient_tape/DMPNN/dmpnnp_pooling_edges_directed/pooling_local_edges/Reshape:0\", shape=(None, 64), dtype=float32), dense_shape=Tensor(\"gradient_tape/DMPNN/dmpnnp_pooling_edges_directed/pooling_local_edges/Cast:0\", shape=(2,), dtype=int32))) to a dense Tensor of unknown shape. This may consume a large amount of memory.\n",
      "  warnings.warn(\n"
     ]
    },
    {
     "name": "stderr",
     "output_type": "stream",
     "text": [
      "\u001b[32m[I 2023-02-09 16:02:00,748]\u001b[0m Trial 19 finished with value: 0.523918628692627 and parameters: {'depth': 5, 'pooling_method': 'sum', 'units': 64, 'learning_rate': 0.0026747897014051994}. Best is trial 1 with value: 0.4369063079357147.\u001b[0m\n",
      "C:\\Users\\patri\\anaconda3\\envs\\gcnn_keras_test\\lib\\site-packages\\optuna\\distributions.py:560: UserWarning: The distribution is specified by [1, 6] and step=2, but the range is not divisible by `step`. It will be replaced by [1, 5].\n",
      "  warnings.warn(\n",
      "INFO:kgcnn.model.utils:Updated model kwargs:\n",
      "INFO:kgcnn.model.utils:{'name': 'DMPNN', 'inputs': [{'shape': [None, 41], 'name': 'node_attributes', 'dtype': 'float32', 'ragged': True}, {'shape': [None, 11], 'name': 'edge_attributes', 'dtype': 'float32', 'ragged': True}, {'shape': [None, 2], 'name': 'edge_indices', 'dtype': 'int64', 'ragged': True}, {'shape': [None, 1], 'name': 'edge_indices_reverse', 'dtype': 'int64', 'ragged': True}], 'input_embedding': {'node': {'input_dim': 95, 'output_dim': 64}, 'edge': {'input_dim': 5, 'output_dim': 64}, 'graph': {'input_dim': 100, 'output_dim': 64}}, 'pooling_args': {'pooling_method': 'sum'}, 'use_graph_state': False, 'edge_initialize': {'units': 192, 'use_bias': True, 'activation': 'relu'}, 'edge_dense': {'units': 192, 'use_bias': True, 'activation': 'linear'}, 'edge_activation': {'activation': 'relu'}, 'node_dense': {'units': 192, 'use_bias': True, 'activation': 'relu'}, 'verbose': 10, 'depth': 3, 'dropout': {'rate': 0.1}, 'output_embedding': 'graph', 'output_to_tensor': True, 'output_mlp': {'use_bias': [True, True, False], 'units': [64, 32, 1], 'activation': ['relu', 'relu', 'linear']}}\n",
      "C:\\Users\\patri\\anaconda3\\envs\\gcnn_keras_test\\lib\\site-packages\\tensorflow\\python\\framework\\indexed_slices.py:444: UserWarning: Converting sparse IndexedSlices(IndexedSlices(indices=Tensor(\"gradient_tape/DMPNN/pooling_local_edges_3/Reshape_1:0\", shape=(None,), dtype=int32), values=Tensor(\"gradient_tape/DMPNN/pooling_local_edges_3/Reshape:0\", shape=(None, 192), dtype=float32), dense_shape=Tensor(\"gradient_tape/DMPNN/pooling_local_edges_3/Cast:0\", shape=(2,), dtype=int32))) to a dense Tensor of unknown shape. This may consume a large amount of memory.\n",
      "  warnings.warn(\n",
      "C:\\Users\\patri\\anaconda3\\envs\\gcnn_keras_test\\lib\\site-packages\\tensorflow\\python\\framework\\indexed_slices.py:444: UserWarning: Converting sparse IndexedSlices(IndexedSlices(indices=Tensor(\"gradient_tape/DMPNN/dmpnnp_pooling_edges_directed_2/gather_nodes_outgoing_3/Reshape_1:0\", shape=(None,), dtype=int64), values=Tensor(\"gradient_tape/DMPNN/dmpnnp_pooling_edges_directed_2/gather_nodes_outgoing_3/Reshape:0\", shape=(None, 192), dtype=float32), dense_shape=Tensor(\"gradient_tape/DMPNN/dmpnnp_pooling_edges_directed_2/gather_nodes_outgoing_3/Cast:0\", shape=(2,), dtype=int32))) to a dense Tensor of unknown shape. This may consume a large amount of memory.\n",
      "  warnings.warn(\n",
      "C:\\Users\\patri\\anaconda3\\envs\\gcnn_keras_test\\lib\\site-packages\\tensorflow\\python\\framework\\indexed_slices.py:444: UserWarning: Converting sparse IndexedSlices(IndexedSlices(indices=Tensor(\"Adam/gradients/concat_1:0\", shape=(None,), dtype=int64), values=Tensor(\"Adam/gradients/concat:0\", shape=(None, 192), dtype=float32), dense_shape=Tensor(\"gradient_tape/DMPNN/dmpnnp_pooling_edges_directed_2/dmpnn_gather_edges_pairs_2/gather_nodes_ingoing_2/Cast:0\", shape=(2,), dtype=int32))) to a dense Tensor of unknown shape. This may consume a large amount of memory.\n",
      "  warnings.warn(\n",
      "C:\\Users\\patri\\anaconda3\\envs\\gcnn_keras_test\\lib\\site-packages\\tensorflow\\python\\framework\\indexed_slices.py:444: UserWarning: Converting sparse IndexedSlices(IndexedSlices(indices=Tensor(\"gradient_tape/DMPNN/dmpnnp_pooling_edges_directed_1/gather_nodes_outgoing_2/Reshape_1:0\", shape=(None,), dtype=int64), values=Tensor(\"gradient_tape/DMPNN/dmpnnp_pooling_edges_directed_1/gather_nodes_outgoing_2/Reshape:0\", shape=(None, 192), dtype=float32), dense_shape=Tensor(\"gradient_tape/DMPNN/dmpnnp_pooling_edges_directed_1/gather_nodes_outgoing_2/Cast:0\", shape=(2,), dtype=int32))) to a dense Tensor of unknown shape. This may consume a large amount of memory.\n",
      "  warnings.warn(\n",
      "C:\\Users\\patri\\anaconda3\\envs\\gcnn_keras_test\\lib\\site-packages\\tensorflow\\python\\framework\\indexed_slices.py:444: UserWarning: Converting sparse IndexedSlices(IndexedSlices(indices=Tensor(\"Adam/gradients/concat_3:0\", shape=(None,), dtype=int64), values=Tensor(\"Adam/gradients/concat_2:0\", shape=(None, 192), dtype=float32), dense_shape=Tensor(\"gradient_tape/DMPNN/dmpnnp_pooling_edges_directed_1/dmpnn_gather_edges_pairs_1/gather_nodes_ingoing_1/Cast:0\", shape=(2,), dtype=int32))) to a dense Tensor of unknown shape. This may consume a large amount of memory.\n",
      "  warnings.warn(\n",
      "C:\\Users\\patri\\anaconda3\\envs\\gcnn_keras_test\\lib\\site-packages\\tensorflow\\python\\framework\\indexed_slices.py:444: UserWarning: Converting sparse IndexedSlices(IndexedSlices(indices=Tensor(\"gradient_tape/DMPNN/dmpnnp_pooling_edges_directed/gather_nodes_outgoing_1/Reshape_1:0\", shape=(None,), dtype=int64), values=Tensor(\"gradient_tape/DMPNN/dmpnnp_pooling_edges_directed/gather_nodes_outgoing_1/Reshape:0\", shape=(None, 192), dtype=float32), dense_shape=Tensor(\"gradient_tape/DMPNN/dmpnnp_pooling_edges_directed/gather_nodes_outgoing_1/Cast:0\", shape=(2,), dtype=int32))) to a dense Tensor of unknown shape. This may consume a large amount of memory.\n",
      "  warnings.warn(\n",
      "C:\\Users\\patri\\anaconda3\\envs\\gcnn_keras_test\\lib\\site-packages\\tensorflow\\python\\framework\\indexed_slices.py:444: UserWarning: Converting sparse IndexedSlices(IndexedSlices(indices=Tensor(\"gradient_tape/DMPNN/dmpnnp_pooling_edges_directed/dmpnn_gather_edges_pairs/gather_nodes_ingoing/Reshape_1:0\", shape=(None,), dtype=int64), values=Tensor(\"gradient_tape/DMPNN/dmpnnp_pooling_edges_directed/dmpnn_gather_edges_pairs/gather_nodes_ingoing/Reshape:0\", shape=(None, 192), dtype=float32), dense_shape=Tensor(\"gradient_tape/DMPNN/dmpnnp_pooling_edges_directed/dmpnn_gather_edges_pairs/gather_nodes_ingoing/Cast:0\", shape=(2,), dtype=int32))) to a dense Tensor of unknown shape. This may consume a large amount of memory.\n",
      "  warnings.warn(\n",
      "C:\\Users\\patri\\anaconda3\\envs\\gcnn_keras_test\\lib\\site-packages\\tensorflow\\python\\framework\\indexed_slices.py:444: UserWarning: Converting sparse IndexedSlices(IndexedSlices(indices=Tensor(\"gradient_tape/DMPNN/dmpnnp_pooling_edges_directed/pooling_local_edges/Reshape_1:0\", shape=(None,), dtype=int32), values=Tensor(\"gradient_tape/DMPNN/dmpnnp_pooling_edges_directed/pooling_local_edges/Reshape:0\", shape=(None, 192), dtype=float32), dense_shape=Tensor(\"gradient_tape/DMPNN/dmpnnp_pooling_edges_directed/pooling_local_edges/Cast:0\", shape=(2,), dtype=int32))) to a dense Tensor of unknown shape. This may consume a large amount of memory.\n",
      "  warnings.warn(\n",
      "\u001b[32m[I 2023-02-09 16:02:20,854]\u001b[0m Trial 20 finished with value: 0.5007112622261047 and parameters: {'depth': 3, 'pooling_method': 'sum', 'units': 192, 'learning_rate': 0.00042660818688274987}. Best is trial 1 with value: 0.4369063079357147.\u001b[0m\n",
      "C:\\Users\\patri\\anaconda3\\envs\\gcnn_keras_test\\lib\\site-packages\\optuna\\distributions.py:560: UserWarning: The distribution is specified by [1, 6] and step=2, but the range is not divisible by `step`. It will be replaced by [1, 5].\n",
      "  warnings.warn(\n",
      "INFO:kgcnn.model.utils:Updated model kwargs:\n",
      "INFO:kgcnn.model.utils:{'name': 'DMPNN', 'inputs': [{'shape': [None, 41], 'name': 'node_attributes', 'dtype': 'float32', 'ragged': True}, {'shape': [None, 11], 'name': 'edge_attributes', 'dtype': 'float32', 'ragged': True}, {'shape': [None, 2], 'name': 'edge_indices', 'dtype': 'int64', 'ragged': True}, {'shape': [None, 1], 'name': 'edge_indices_reverse', 'dtype': 'int64', 'ragged': True}], 'input_embedding': {'node': {'input_dim': 95, 'output_dim': 64}, 'edge': {'input_dim': 5, 'output_dim': 64}, 'graph': {'input_dim': 100, 'output_dim': 64}}, 'pooling_args': {'pooling_method': 'mean'}, 'use_graph_state': False, 'edge_initialize': {'units': 128, 'use_bias': True, 'activation': 'relu'}, 'edge_dense': {'units': 128, 'use_bias': True, 'activation': 'linear'}, 'edge_activation': {'activation': 'relu'}, 'node_dense': {'units': 128, 'use_bias': True, 'activation': 'relu'}, 'verbose': 10, 'depth': 5, 'dropout': {'rate': 0.1}, 'output_embedding': 'graph', 'output_to_tensor': True, 'output_mlp': {'use_bias': [True, True, False], 'units': [64, 32, 1], 'activation': ['relu', 'relu', 'linear']}}\n"
     ]
    },
    {
     "name": "stderr",
     "output_type": "stream",
     "text": [
      "C:\\Users\\patri\\anaconda3\\envs\\gcnn_keras_test\\lib\\site-packages\\tensorflow\\python\\framework\\indexed_slices.py:444: UserWarning: Converting sparse IndexedSlices(IndexedSlices(indices=Tensor(\"gradient_tape/DMPNN/pooling_local_edges_5/Reshape_1:0\", shape=(None,), dtype=int32), values=Tensor(\"gradient_tape/DMPNN/pooling_local_edges_5/Reshape:0\", shape=(None, 128), dtype=float32), dense_shape=Tensor(\"gradient_tape/DMPNN/pooling_local_edges_5/Cast:0\", shape=(2,), dtype=int32))) to a dense Tensor of unknown shape. This may consume a large amount of memory.\n",
      "  warnings.warn(\n",
      "C:\\Users\\patri\\anaconda3\\envs\\gcnn_keras_test\\lib\\site-packages\\tensorflow\\python\\framework\\indexed_slices.py:444: UserWarning: Converting sparse IndexedSlices(IndexedSlices(indices=Tensor(\"gradient_tape/DMPNN/dmpnnp_pooling_edges_directed_4/gather_nodes_outgoing_5/Reshape_1:0\", shape=(None,), dtype=int64), values=Tensor(\"gradient_tape/DMPNN/dmpnnp_pooling_edges_directed_4/gather_nodes_outgoing_5/Reshape:0\", shape=(None, 128), dtype=float32), dense_shape=Tensor(\"gradient_tape/DMPNN/dmpnnp_pooling_edges_directed_4/gather_nodes_outgoing_5/Cast:0\", shape=(2,), dtype=int32))) to a dense Tensor of unknown shape. This may consume a large amount of memory.\n",
      "  warnings.warn(\n",
      "C:\\Users\\patri\\anaconda3\\envs\\gcnn_keras_test\\lib\\site-packages\\tensorflow\\python\\framework\\indexed_slices.py:444: UserWarning: Converting sparse IndexedSlices(IndexedSlices(indices=Tensor(\"Adam/gradients/concat_1:0\", shape=(None,), dtype=int64), values=Tensor(\"Adam/gradients/concat:0\", shape=(None, 128), dtype=float32), dense_shape=Tensor(\"gradient_tape/DMPNN/dmpnnp_pooling_edges_directed_4/dmpnn_gather_edges_pairs_4/gather_nodes_ingoing_4/Cast:0\", shape=(2,), dtype=int32))) to a dense Tensor of unknown shape. This may consume a large amount of memory.\n",
      "  warnings.warn(\n",
      "C:\\Users\\patri\\anaconda3\\envs\\gcnn_keras_test\\lib\\site-packages\\tensorflow\\python\\framework\\indexed_slices.py:444: UserWarning: Converting sparse IndexedSlices(IndexedSlices(indices=Tensor(\"gradient_tape/DMPNN/dmpnnp_pooling_edges_directed_3/gather_nodes_outgoing_4/Reshape_1:0\", shape=(None,), dtype=int64), values=Tensor(\"gradient_tape/DMPNN/dmpnnp_pooling_edges_directed_3/gather_nodes_outgoing_4/Reshape:0\", shape=(None, 128), dtype=float32), dense_shape=Tensor(\"gradient_tape/DMPNN/dmpnnp_pooling_edges_directed_3/gather_nodes_outgoing_4/Cast:0\", shape=(2,), dtype=int32))) to a dense Tensor of unknown shape. This may consume a large amount of memory.\n",
      "  warnings.warn(\n",
      "C:\\Users\\patri\\anaconda3\\envs\\gcnn_keras_test\\lib\\site-packages\\tensorflow\\python\\framework\\indexed_slices.py:444: UserWarning: Converting sparse IndexedSlices(IndexedSlices(indices=Tensor(\"Adam/gradients/concat_3:0\", shape=(None,), dtype=int64), values=Tensor(\"Adam/gradients/concat_2:0\", shape=(None, 128), dtype=float32), dense_shape=Tensor(\"gradient_tape/DMPNN/dmpnnp_pooling_edges_directed_3/dmpnn_gather_edges_pairs_3/gather_nodes_ingoing_3/Cast:0\", shape=(2,), dtype=int32))) to a dense Tensor of unknown shape. This may consume a large amount of memory.\n",
      "  warnings.warn(\n",
      "C:\\Users\\patri\\anaconda3\\envs\\gcnn_keras_test\\lib\\site-packages\\tensorflow\\python\\framework\\indexed_slices.py:444: UserWarning: Converting sparse IndexedSlices(IndexedSlices(indices=Tensor(\"gradient_tape/DMPNN/dmpnnp_pooling_edges_directed_2/gather_nodes_outgoing_3/Reshape_1:0\", shape=(None,), dtype=int64), values=Tensor(\"gradient_tape/DMPNN/dmpnnp_pooling_edges_directed_2/gather_nodes_outgoing_3/Reshape:0\", shape=(None, 128), dtype=float32), dense_shape=Tensor(\"gradient_tape/DMPNN/dmpnnp_pooling_edges_directed_2/gather_nodes_outgoing_3/Cast:0\", shape=(2,), dtype=int32))) to a dense Tensor of unknown shape. This may consume a large amount of memory.\n",
      "  warnings.warn(\n",
      "C:\\Users\\patri\\anaconda3\\envs\\gcnn_keras_test\\lib\\site-packages\\tensorflow\\python\\framework\\indexed_slices.py:444: UserWarning: Converting sparse IndexedSlices(IndexedSlices(indices=Tensor(\"Adam/gradients/concat_5:0\", shape=(None,), dtype=int64), values=Tensor(\"Adam/gradients/concat_4:0\", shape=(None, 128), dtype=float32), dense_shape=Tensor(\"gradient_tape/DMPNN/dmpnnp_pooling_edges_directed_2/dmpnn_gather_edges_pairs_2/gather_nodes_ingoing_2/Cast:0\", shape=(2,), dtype=int32))) to a dense Tensor of unknown shape. This may consume a large amount of memory.\n",
      "  warnings.warn(\n",
      "C:\\Users\\patri\\anaconda3\\envs\\gcnn_keras_test\\lib\\site-packages\\tensorflow\\python\\framework\\indexed_slices.py:444: UserWarning: Converting sparse IndexedSlices(IndexedSlices(indices=Tensor(\"gradient_tape/DMPNN/dmpnnp_pooling_edges_directed_1/gather_nodes_outgoing_2/Reshape_1:0\", shape=(None,), dtype=int64), values=Tensor(\"gradient_tape/DMPNN/dmpnnp_pooling_edges_directed_1/gather_nodes_outgoing_2/Reshape:0\", shape=(None, 128), dtype=float32), dense_shape=Tensor(\"gradient_tape/DMPNN/dmpnnp_pooling_edges_directed_1/gather_nodes_outgoing_2/Cast:0\", shape=(2,), dtype=int32))) to a dense Tensor of unknown shape. This may consume a large amount of memory.\n",
      "  warnings.warn(\n",
      "C:\\Users\\patri\\anaconda3\\envs\\gcnn_keras_test\\lib\\site-packages\\tensorflow\\python\\framework\\indexed_slices.py:444: UserWarning: Converting sparse IndexedSlices(IndexedSlices(indices=Tensor(\"Adam/gradients/concat_7:0\", shape=(None,), dtype=int64), values=Tensor(\"Adam/gradients/concat_6:0\", shape=(None, 128), dtype=float32), dense_shape=Tensor(\"gradient_tape/DMPNN/dmpnnp_pooling_edges_directed_1/dmpnn_gather_edges_pairs_1/gather_nodes_ingoing_1/Cast:0\", shape=(2,), dtype=int32))) to a dense Tensor of unknown shape. This may consume a large amount of memory.\n",
      "  warnings.warn(\n",
      "C:\\Users\\patri\\anaconda3\\envs\\gcnn_keras_test\\lib\\site-packages\\tensorflow\\python\\framework\\indexed_slices.py:444: UserWarning: Converting sparse IndexedSlices(IndexedSlices(indices=Tensor(\"gradient_tape/DMPNN/dmpnnp_pooling_edges_directed/gather_nodes_outgoing_1/Reshape_1:0\", shape=(None,), dtype=int64), values=Tensor(\"gradient_tape/DMPNN/dmpnnp_pooling_edges_directed/gather_nodes_outgoing_1/Reshape:0\", shape=(None, 128), dtype=float32), dense_shape=Tensor(\"gradient_tape/DMPNN/dmpnnp_pooling_edges_directed/gather_nodes_outgoing_1/Cast:0\", shape=(2,), dtype=int32))) to a dense Tensor of unknown shape. This may consume a large amount of memory.\n",
      "  warnings.warn(\n",
      "C:\\Users\\patri\\anaconda3\\envs\\gcnn_keras_test\\lib\\site-packages\\tensorflow\\python\\framework\\indexed_slices.py:444: UserWarning: Converting sparse IndexedSlices(IndexedSlices(indices=Tensor(\"gradient_tape/DMPNN/dmpnnp_pooling_edges_directed/dmpnn_gather_edges_pairs/gather_nodes_ingoing/Reshape_1:0\", shape=(None,), dtype=int64), values=Tensor(\"gradient_tape/DMPNN/dmpnnp_pooling_edges_directed/dmpnn_gather_edges_pairs/gather_nodes_ingoing/Reshape:0\", shape=(None, 128), dtype=float32), dense_shape=Tensor(\"gradient_tape/DMPNN/dmpnnp_pooling_edges_directed/dmpnn_gather_edges_pairs/gather_nodes_ingoing/Cast:0\", shape=(2,), dtype=int32))) to a dense Tensor of unknown shape. This may consume a large amount of memory.\n",
      "  warnings.warn(\n",
      "C:\\Users\\patri\\anaconda3\\envs\\gcnn_keras_test\\lib\\site-packages\\tensorflow\\python\\framework\\indexed_slices.py:444: UserWarning: Converting sparse IndexedSlices(IndexedSlices(indices=Tensor(\"gradient_tape/DMPNN/dmpnnp_pooling_edges_directed/pooling_local_edges/Reshape_1:0\", shape=(None,), dtype=int32), values=Tensor(\"gradient_tape/DMPNN/dmpnnp_pooling_edges_directed/pooling_local_edges/Reshape:0\", shape=(None, 128), dtype=float32), dense_shape=Tensor(\"gradient_tape/DMPNN/dmpnnp_pooling_edges_directed/pooling_local_edges/Cast:0\", shape=(2,), dtype=int32))) to a dense Tensor of unknown shape. This may consume a large amount of memory.\n",
      "  warnings.warn(\n",
      "\u001b[32m[I 2023-02-09 16:02:44,561]\u001b[0m Trial 21 finished with value: 0.5327972769737244 and parameters: {'depth': 5, 'pooling_method': 'mean', 'units': 128, 'learning_rate': 0.005921735691915732}. Best is trial 1 with value: 0.4369063079357147.\u001b[0m\n",
      "C:\\Users\\patri\\anaconda3\\envs\\gcnn_keras_test\\lib\\site-packages\\optuna\\distributions.py:560: UserWarning: The distribution is specified by [1, 6] and step=2, but the range is not divisible by `step`. It will be replaced by [1, 5].\n",
      "  warnings.warn(\n",
      "INFO:kgcnn.model.utils:Updated model kwargs:\n",
      "INFO:kgcnn.model.utils:{'name': 'DMPNN', 'inputs': [{'shape': [None, 41], 'name': 'node_attributes', 'dtype': 'float32', 'ragged': True}, {'shape': [None, 11], 'name': 'edge_attributes', 'dtype': 'float32', 'ragged': True}, {'shape': [None, 2], 'name': 'edge_indices', 'dtype': 'int64', 'ragged': True}, {'shape': [None, 1], 'name': 'edge_indices_reverse', 'dtype': 'int64', 'ragged': True}], 'input_embedding': {'node': {'input_dim': 95, 'output_dim': 64}, 'edge': {'input_dim': 5, 'output_dim': 64}, 'graph': {'input_dim': 100, 'output_dim': 64}}, 'pooling_args': {'pooling_method': 'sum'}, 'use_graph_state': False, 'edge_initialize': {'units': 160, 'use_bias': True, 'activation': 'relu'}, 'edge_dense': {'units': 160, 'use_bias': True, 'activation': 'linear'}, 'edge_activation': {'activation': 'relu'}, 'node_dense': {'units': 160, 'use_bias': True, 'activation': 'relu'}, 'verbose': 10, 'depth': 5, 'dropout': {'rate': 0.1}, 'output_embedding': 'graph', 'output_to_tensor': True, 'output_mlp': {'use_bias': [True, True, False], 'units': [64, 32, 1], 'activation': ['relu', 'relu', 'linear']}}\n"
     ]
    },
    {
     "name": "stderr",
     "output_type": "stream",
     "text": [
      "C:\\Users\\patri\\anaconda3\\envs\\gcnn_keras_test\\lib\\site-packages\\tensorflow\\python\\framework\\indexed_slices.py:444: UserWarning: Converting sparse IndexedSlices(IndexedSlices(indices=Tensor(\"gradient_tape/DMPNN/pooling_local_edges_5/Reshape_1:0\", shape=(None,), dtype=int32), values=Tensor(\"gradient_tape/DMPNN/pooling_local_edges_5/Reshape:0\", shape=(None, 160), dtype=float32), dense_shape=Tensor(\"gradient_tape/DMPNN/pooling_local_edges_5/Cast:0\", shape=(2,), dtype=int32))) to a dense Tensor of unknown shape. This may consume a large amount of memory.\n",
      "  warnings.warn(\n",
      "C:\\Users\\patri\\anaconda3\\envs\\gcnn_keras_test\\lib\\site-packages\\tensorflow\\python\\framework\\indexed_slices.py:444: UserWarning: Converting sparse IndexedSlices(IndexedSlices(indices=Tensor(\"gradient_tape/DMPNN/dmpnnp_pooling_edges_directed_4/gather_nodes_outgoing_5/Reshape_1:0\", shape=(None,), dtype=int64), values=Tensor(\"gradient_tape/DMPNN/dmpnnp_pooling_edges_directed_4/gather_nodes_outgoing_5/Reshape:0\", shape=(None, 160), dtype=float32), dense_shape=Tensor(\"gradient_tape/DMPNN/dmpnnp_pooling_edges_directed_4/gather_nodes_outgoing_5/Cast:0\", shape=(2,), dtype=int32))) to a dense Tensor of unknown shape. This may consume a large amount of memory.\n",
      "  warnings.warn(\n",
      "C:\\Users\\patri\\anaconda3\\envs\\gcnn_keras_test\\lib\\site-packages\\tensorflow\\python\\framework\\indexed_slices.py:444: UserWarning: Converting sparse IndexedSlices(IndexedSlices(indices=Tensor(\"Adam/gradients/concat_1:0\", shape=(None,), dtype=int64), values=Tensor(\"Adam/gradients/concat:0\", shape=(None, 160), dtype=float32), dense_shape=Tensor(\"gradient_tape/DMPNN/dmpnnp_pooling_edges_directed_4/dmpnn_gather_edges_pairs_4/gather_nodes_ingoing_4/Cast:0\", shape=(2,), dtype=int32))) to a dense Tensor of unknown shape. This may consume a large amount of memory.\n",
      "  warnings.warn(\n",
      "C:\\Users\\patri\\anaconda3\\envs\\gcnn_keras_test\\lib\\site-packages\\tensorflow\\python\\framework\\indexed_slices.py:444: UserWarning: Converting sparse IndexedSlices(IndexedSlices(indices=Tensor(\"gradient_tape/DMPNN/dmpnnp_pooling_edges_directed_3/gather_nodes_outgoing_4/Reshape_1:0\", shape=(None,), dtype=int64), values=Tensor(\"gradient_tape/DMPNN/dmpnnp_pooling_edges_directed_3/gather_nodes_outgoing_4/Reshape:0\", shape=(None, 160), dtype=float32), dense_shape=Tensor(\"gradient_tape/DMPNN/dmpnnp_pooling_edges_directed_3/gather_nodes_outgoing_4/Cast:0\", shape=(2,), dtype=int32))) to a dense Tensor of unknown shape. This may consume a large amount of memory.\n",
      "  warnings.warn(\n",
      "C:\\Users\\patri\\anaconda3\\envs\\gcnn_keras_test\\lib\\site-packages\\tensorflow\\python\\framework\\indexed_slices.py:444: UserWarning: Converting sparse IndexedSlices(IndexedSlices(indices=Tensor(\"Adam/gradients/concat_3:0\", shape=(None,), dtype=int64), values=Tensor(\"Adam/gradients/concat_2:0\", shape=(None, 160), dtype=float32), dense_shape=Tensor(\"gradient_tape/DMPNN/dmpnnp_pooling_edges_directed_3/dmpnn_gather_edges_pairs_3/gather_nodes_ingoing_3/Cast:0\", shape=(2,), dtype=int32))) to a dense Tensor of unknown shape. This may consume a large amount of memory.\n",
      "  warnings.warn(\n",
      "C:\\Users\\patri\\anaconda3\\envs\\gcnn_keras_test\\lib\\site-packages\\tensorflow\\python\\framework\\indexed_slices.py:444: UserWarning: Converting sparse IndexedSlices(IndexedSlices(indices=Tensor(\"gradient_tape/DMPNN/dmpnnp_pooling_edges_directed_2/gather_nodes_outgoing_3/Reshape_1:0\", shape=(None,), dtype=int64), values=Tensor(\"gradient_tape/DMPNN/dmpnnp_pooling_edges_directed_2/gather_nodes_outgoing_3/Reshape:0\", shape=(None, 160), dtype=float32), dense_shape=Tensor(\"gradient_tape/DMPNN/dmpnnp_pooling_edges_directed_2/gather_nodes_outgoing_3/Cast:0\", shape=(2,), dtype=int32))) to a dense Tensor of unknown shape. This may consume a large amount of memory.\n",
      "  warnings.warn(\n",
      "C:\\Users\\patri\\anaconda3\\envs\\gcnn_keras_test\\lib\\site-packages\\tensorflow\\python\\framework\\indexed_slices.py:444: UserWarning: Converting sparse IndexedSlices(IndexedSlices(indices=Tensor(\"Adam/gradients/concat_5:0\", shape=(None,), dtype=int64), values=Tensor(\"Adam/gradients/concat_4:0\", shape=(None, 160), dtype=float32), dense_shape=Tensor(\"gradient_tape/DMPNN/dmpnnp_pooling_edges_directed_2/dmpnn_gather_edges_pairs_2/gather_nodes_ingoing_2/Cast:0\", shape=(2,), dtype=int32))) to a dense Tensor of unknown shape. This may consume a large amount of memory.\n",
      "  warnings.warn(\n",
      "C:\\Users\\patri\\anaconda3\\envs\\gcnn_keras_test\\lib\\site-packages\\tensorflow\\python\\framework\\indexed_slices.py:444: UserWarning: Converting sparse IndexedSlices(IndexedSlices(indices=Tensor(\"gradient_tape/DMPNN/dmpnnp_pooling_edges_directed_1/gather_nodes_outgoing_2/Reshape_1:0\", shape=(None,), dtype=int64), values=Tensor(\"gradient_tape/DMPNN/dmpnnp_pooling_edges_directed_1/gather_nodes_outgoing_2/Reshape:0\", shape=(None, 160), dtype=float32), dense_shape=Tensor(\"gradient_tape/DMPNN/dmpnnp_pooling_edges_directed_1/gather_nodes_outgoing_2/Cast:0\", shape=(2,), dtype=int32))) to a dense Tensor of unknown shape. This may consume a large amount of memory.\n",
      "  warnings.warn(\n",
      "C:\\Users\\patri\\anaconda3\\envs\\gcnn_keras_test\\lib\\site-packages\\tensorflow\\python\\framework\\indexed_slices.py:444: UserWarning: Converting sparse IndexedSlices(IndexedSlices(indices=Tensor(\"Adam/gradients/concat_7:0\", shape=(None,), dtype=int64), values=Tensor(\"Adam/gradients/concat_6:0\", shape=(None, 160), dtype=float32), dense_shape=Tensor(\"gradient_tape/DMPNN/dmpnnp_pooling_edges_directed_1/dmpnn_gather_edges_pairs_1/gather_nodes_ingoing_1/Cast:0\", shape=(2,), dtype=int32))) to a dense Tensor of unknown shape. This may consume a large amount of memory.\n",
      "  warnings.warn(\n",
      "C:\\Users\\patri\\anaconda3\\envs\\gcnn_keras_test\\lib\\site-packages\\tensorflow\\python\\framework\\indexed_slices.py:444: UserWarning: Converting sparse IndexedSlices(IndexedSlices(indices=Tensor(\"gradient_tape/DMPNN/dmpnnp_pooling_edges_directed/gather_nodes_outgoing_1/Reshape_1:0\", shape=(None,), dtype=int64), values=Tensor(\"gradient_tape/DMPNN/dmpnnp_pooling_edges_directed/gather_nodes_outgoing_1/Reshape:0\", shape=(None, 160), dtype=float32), dense_shape=Tensor(\"gradient_tape/DMPNN/dmpnnp_pooling_edges_directed/gather_nodes_outgoing_1/Cast:0\", shape=(2,), dtype=int32))) to a dense Tensor of unknown shape. This may consume a large amount of memory.\n",
      "  warnings.warn(\n",
      "C:\\Users\\patri\\anaconda3\\envs\\gcnn_keras_test\\lib\\site-packages\\tensorflow\\python\\framework\\indexed_slices.py:444: UserWarning: Converting sparse IndexedSlices(IndexedSlices(indices=Tensor(\"gradient_tape/DMPNN/dmpnnp_pooling_edges_directed/dmpnn_gather_edges_pairs/gather_nodes_ingoing/Reshape_1:0\", shape=(None,), dtype=int64), values=Tensor(\"gradient_tape/DMPNN/dmpnnp_pooling_edges_directed/dmpnn_gather_edges_pairs/gather_nodes_ingoing/Reshape:0\", shape=(None, 160), dtype=float32), dense_shape=Tensor(\"gradient_tape/DMPNN/dmpnnp_pooling_edges_directed/dmpnn_gather_edges_pairs/gather_nodes_ingoing/Cast:0\", shape=(2,), dtype=int32))) to a dense Tensor of unknown shape. This may consume a large amount of memory.\n",
      "  warnings.warn(\n",
      "C:\\Users\\patri\\anaconda3\\envs\\gcnn_keras_test\\lib\\site-packages\\tensorflow\\python\\framework\\indexed_slices.py:444: UserWarning: Converting sparse IndexedSlices(IndexedSlices(indices=Tensor(\"gradient_tape/DMPNN/dmpnnp_pooling_edges_directed/pooling_local_edges/Reshape_1:0\", shape=(None,), dtype=int32), values=Tensor(\"gradient_tape/DMPNN/dmpnnp_pooling_edges_directed/pooling_local_edges/Reshape:0\", shape=(None, 160), dtype=float32), dense_shape=Tensor(\"gradient_tape/DMPNN/dmpnnp_pooling_edges_directed/pooling_local_edges/Cast:0\", shape=(2,), dtype=int32))) to a dense Tensor of unknown shape. This may consume a large amount of memory.\n",
      "  warnings.warn(\n",
      "\u001b[32m[I 2023-02-09 16:03:09,400]\u001b[0m Trial 22 finished with value: 0.5564912557601929 and parameters: {'depth': 5, 'pooling_method': 'sum', 'units': 160, 'learning_rate': 0.0036905321477358507}. Best is trial 1 with value: 0.4369063079357147.\u001b[0m\n",
      "C:\\Users\\patri\\anaconda3\\envs\\gcnn_keras_test\\lib\\site-packages\\optuna\\distributions.py:560: UserWarning: The distribution is specified by [1, 6] and step=2, but the range is not divisible by `step`. It will be replaced by [1, 5].\n",
      "  warnings.warn(\n",
      "INFO:kgcnn.model.utils:Updated model kwargs:\n",
      "INFO:kgcnn.model.utils:{'name': 'DMPNN', 'inputs': [{'shape': [None, 41], 'name': 'node_attributes', 'dtype': 'float32', 'ragged': True}, {'shape': [None, 11], 'name': 'edge_attributes', 'dtype': 'float32', 'ragged': True}, {'shape': [None, 2], 'name': 'edge_indices', 'dtype': 'int64', 'ragged': True}, {'shape': [None, 1], 'name': 'edge_indices_reverse', 'dtype': 'int64', 'ragged': True}], 'input_embedding': {'node': {'input_dim': 95, 'output_dim': 64}, 'edge': {'input_dim': 5, 'output_dim': 64}, 'graph': {'input_dim': 100, 'output_dim': 64}}, 'pooling_args': {'pooling_method': 'mean'}, 'use_graph_state': False, 'edge_initialize': {'units': 96, 'use_bias': True, 'activation': 'relu'}, 'edge_dense': {'units': 96, 'use_bias': True, 'activation': 'linear'}, 'edge_activation': {'activation': 'relu'}, 'node_dense': {'units': 96, 'use_bias': True, 'activation': 'relu'}, 'verbose': 10, 'depth': 5, 'dropout': {'rate': 0.1}, 'output_embedding': 'graph', 'output_to_tensor': True, 'output_mlp': {'use_bias': [True, True, False], 'units': [64, 32, 1], 'activation': ['relu', 'relu', 'linear']}}\n"
     ]
    },
    {
     "name": "stderr",
     "output_type": "stream",
     "text": [
      "C:\\Users\\patri\\anaconda3\\envs\\gcnn_keras_test\\lib\\site-packages\\tensorflow\\python\\framework\\indexed_slices.py:444: UserWarning: Converting sparse IndexedSlices(IndexedSlices(indices=Tensor(\"gradient_tape/DMPNN/pooling_local_edges_5/Reshape_1:0\", shape=(None,), dtype=int32), values=Tensor(\"gradient_tape/DMPNN/pooling_local_edges_5/Reshape:0\", shape=(None, 96), dtype=float32), dense_shape=Tensor(\"gradient_tape/DMPNN/pooling_local_edges_5/Cast:0\", shape=(2,), dtype=int32))) to a dense Tensor of unknown shape. This may consume a large amount of memory.\n",
      "  warnings.warn(\n",
      "C:\\Users\\patri\\anaconda3\\envs\\gcnn_keras_test\\lib\\site-packages\\tensorflow\\python\\framework\\indexed_slices.py:444: UserWarning: Converting sparse IndexedSlices(IndexedSlices(indices=Tensor(\"gradient_tape/DMPNN/dmpnnp_pooling_edges_directed_4/gather_nodes_outgoing_5/Reshape_1:0\", shape=(None,), dtype=int64), values=Tensor(\"gradient_tape/DMPNN/dmpnnp_pooling_edges_directed_4/gather_nodes_outgoing_5/Reshape:0\", shape=(None, 96), dtype=float32), dense_shape=Tensor(\"gradient_tape/DMPNN/dmpnnp_pooling_edges_directed_4/gather_nodes_outgoing_5/Cast:0\", shape=(2,), dtype=int32))) to a dense Tensor of unknown shape. This may consume a large amount of memory.\n",
      "  warnings.warn(\n",
      "C:\\Users\\patri\\anaconda3\\envs\\gcnn_keras_test\\lib\\site-packages\\tensorflow\\python\\framework\\indexed_slices.py:444: UserWarning: Converting sparse IndexedSlices(IndexedSlices(indices=Tensor(\"Adam/gradients/concat_1:0\", shape=(None,), dtype=int64), values=Tensor(\"Adam/gradients/concat:0\", shape=(None, 96), dtype=float32), dense_shape=Tensor(\"gradient_tape/DMPNN/dmpnnp_pooling_edges_directed_4/dmpnn_gather_edges_pairs_4/gather_nodes_ingoing_4/Cast:0\", shape=(2,), dtype=int32))) to a dense Tensor of unknown shape. This may consume a large amount of memory.\n",
      "  warnings.warn(\n",
      "C:\\Users\\patri\\anaconda3\\envs\\gcnn_keras_test\\lib\\site-packages\\tensorflow\\python\\framework\\indexed_slices.py:444: UserWarning: Converting sparse IndexedSlices(IndexedSlices(indices=Tensor(\"gradient_tape/DMPNN/dmpnnp_pooling_edges_directed_3/gather_nodes_outgoing_4/Reshape_1:0\", shape=(None,), dtype=int64), values=Tensor(\"gradient_tape/DMPNN/dmpnnp_pooling_edges_directed_3/gather_nodes_outgoing_4/Reshape:0\", shape=(None, 96), dtype=float32), dense_shape=Tensor(\"gradient_tape/DMPNN/dmpnnp_pooling_edges_directed_3/gather_nodes_outgoing_4/Cast:0\", shape=(2,), dtype=int32))) to a dense Tensor of unknown shape. This may consume a large amount of memory.\n",
      "  warnings.warn(\n",
      "C:\\Users\\patri\\anaconda3\\envs\\gcnn_keras_test\\lib\\site-packages\\tensorflow\\python\\framework\\indexed_slices.py:444: UserWarning: Converting sparse IndexedSlices(IndexedSlices(indices=Tensor(\"Adam/gradients/concat_3:0\", shape=(None,), dtype=int64), values=Tensor(\"Adam/gradients/concat_2:0\", shape=(None, 96), dtype=float32), dense_shape=Tensor(\"gradient_tape/DMPNN/dmpnnp_pooling_edges_directed_3/dmpnn_gather_edges_pairs_3/gather_nodes_ingoing_3/Cast:0\", shape=(2,), dtype=int32))) to a dense Tensor of unknown shape. This may consume a large amount of memory.\n",
      "  warnings.warn(\n",
      "C:\\Users\\patri\\anaconda3\\envs\\gcnn_keras_test\\lib\\site-packages\\tensorflow\\python\\framework\\indexed_slices.py:444: UserWarning: Converting sparse IndexedSlices(IndexedSlices(indices=Tensor(\"gradient_tape/DMPNN/dmpnnp_pooling_edges_directed_2/gather_nodes_outgoing_3/Reshape_1:0\", shape=(None,), dtype=int64), values=Tensor(\"gradient_tape/DMPNN/dmpnnp_pooling_edges_directed_2/gather_nodes_outgoing_3/Reshape:0\", shape=(None, 96), dtype=float32), dense_shape=Tensor(\"gradient_tape/DMPNN/dmpnnp_pooling_edges_directed_2/gather_nodes_outgoing_3/Cast:0\", shape=(2,), dtype=int32))) to a dense Tensor of unknown shape. This may consume a large amount of memory.\n",
      "  warnings.warn(\n",
      "C:\\Users\\patri\\anaconda3\\envs\\gcnn_keras_test\\lib\\site-packages\\tensorflow\\python\\framework\\indexed_slices.py:444: UserWarning: Converting sparse IndexedSlices(IndexedSlices(indices=Tensor(\"Adam/gradients/concat_5:0\", shape=(None,), dtype=int64), values=Tensor(\"Adam/gradients/concat_4:0\", shape=(None, 96), dtype=float32), dense_shape=Tensor(\"gradient_tape/DMPNN/dmpnnp_pooling_edges_directed_2/dmpnn_gather_edges_pairs_2/gather_nodes_ingoing_2/Cast:0\", shape=(2,), dtype=int32))) to a dense Tensor of unknown shape. This may consume a large amount of memory.\n",
      "  warnings.warn(\n",
      "C:\\Users\\patri\\anaconda3\\envs\\gcnn_keras_test\\lib\\site-packages\\tensorflow\\python\\framework\\indexed_slices.py:444: UserWarning: Converting sparse IndexedSlices(IndexedSlices(indices=Tensor(\"gradient_tape/DMPNN/dmpnnp_pooling_edges_directed_1/gather_nodes_outgoing_2/Reshape_1:0\", shape=(None,), dtype=int64), values=Tensor(\"gradient_tape/DMPNN/dmpnnp_pooling_edges_directed_1/gather_nodes_outgoing_2/Reshape:0\", shape=(None, 96), dtype=float32), dense_shape=Tensor(\"gradient_tape/DMPNN/dmpnnp_pooling_edges_directed_1/gather_nodes_outgoing_2/Cast:0\", shape=(2,), dtype=int32))) to a dense Tensor of unknown shape. This may consume a large amount of memory.\n",
      "  warnings.warn(\n",
      "C:\\Users\\patri\\anaconda3\\envs\\gcnn_keras_test\\lib\\site-packages\\tensorflow\\python\\framework\\indexed_slices.py:444: UserWarning: Converting sparse IndexedSlices(IndexedSlices(indices=Tensor(\"Adam/gradients/concat_7:0\", shape=(None,), dtype=int64), values=Tensor(\"Adam/gradients/concat_6:0\", shape=(None, 96), dtype=float32), dense_shape=Tensor(\"gradient_tape/DMPNN/dmpnnp_pooling_edges_directed_1/dmpnn_gather_edges_pairs_1/gather_nodes_ingoing_1/Cast:0\", shape=(2,), dtype=int32))) to a dense Tensor of unknown shape. This may consume a large amount of memory.\n",
      "  warnings.warn(\n",
      "C:\\Users\\patri\\anaconda3\\envs\\gcnn_keras_test\\lib\\site-packages\\tensorflow\\python\\framework\\indexed_slices.py:444: UserWarning: Converting sparse IndexedSlices(IndexedSlices(indices=Tensor(\"gradient_tape/DMPNN/dmpnnp_pooling_edges_directed/gather_nodes_outgoing_1/Reshape_1:0\", shape=(None,), dtype=int64), values=Tensor(\"gradient_tape/DMPNN/dmpnnp_pooling_edges_directed/gather_nodes_outgoing_1/Reshape:0\", shape=(None, 96), dtype=float32), dense_shape=Tensor(\"gradient_tape/DMPNN/dmpnnp_pooling_edges_directed/gather_nodes_outgoing_1/Cast:0\", shape=(2,), dtype=int32))) to a dense Tensor of unknown shape. This may consume a large amount of memory.\n",
      "  warnings.warn(\n",
      "C:\\Users\\patri\\anaconda3\\envs\\gcnn_keras_test\\lib\\site-packages\\tensorflow\\python\\framework\\indexed_slices.py:444: UserWarning: Converting sparse IndexedSlices(IndexedSlices(indices=Tensor(\"gradient_tape/DMPNN/dmpnnp_pooling_edges_directed/dmpnn_gather_edges_pairs/gather_nodes_ingoing/Reshape_1:0\", shape=(None,), dtype=int64), values=Tensor(\"gradient_tape/DMPNN/dmpnnp_pooling_edges_directed/dmpnn_gather_edges_pairs/gather_nodes_ingoing/Reshape:0\", shape=(None, 96), dtype=float32), dense_shape=Tensor(\"gradient_tape/DMPNN/dmpnnp_pooling_edges_directed/dmpnn_gather_edges_pairs/gather_nodes_ingoing/Cast:0\", shape=(2,), dtype=int32))) to a dense Tensor of unknown shape. This may consume a large amount of memory.\n",
      "  warnings.warn(\n",
      "C:\\Users\\patri\\anaconda3\\envs\\gcnn_keras_test\\lib\\site-packages\\tensorflow\\python\\framework\\indexed_slices.py:444: UserWarning: Converting sparse IndexedSlices(IndexedSlices(indices=Tensor(\"gradient_tape/DMPNN/dmpnnp_pooling_edges_directed/pooling_local_edges/Reshape_1:0\", shape=(None,), dtype=int32), values=Tensor(\"gradient_tape/DMPNN/dmpnnp_pooling_edges_directed/pooling_local_edges/Reshape:0\", shape=(None, 96), dtype=float32), dense_shape=Tensor(\"gradient_tape/DMPNN/dmpnnp_pooling_edges_directed/pooling_local_edges/Cast:0\", shape=(2,), dtype=int32))) to a dense Tensor of unknown shape. This may consume a large amount of memory.\n",
      "  warnings.warn(\n",
      "\u001b[32m[I 2023-02-09 16:03:31,450]\u001b[0m Trial 23 finished with value: 0.5642741322517395 and parameters: {'depth': 5, 'pooling_method': 'mean', 'units': 96, 'learning_rate': 0.017697609512311092}. Best is trial 1 with value: 0.4369063079357147.\u001b[0m\n",
      "C:\\Users\\patri\\anaconda3\\envs\\gcnn_keras_test\\lib\\site-packages\\optuna\\distributions.py:560: UserWarning: The distribution is specified by [1, 6] and step=2, but the range is not divisible by `step`. It will be replaced by [1, 5].\n",
      "  warnings.warn(\n",
      "INFO:kgcnn.model.utils:Updated model kwargs:\n",
      "INFO:kgcnn.model.utils:{'name': 'DMPNN', 'inputs': [{'shape': [None, 41], 'name': 'node_attributes', 'dtype': 'float32', 'ragged': True}, {'shape': [None, 11], 'name': 'edge_attributes', 'dtype': 'float32', 'ragged': True}, {'shape': [None, 2], 'name': 'edge_indices', 'dtype': 'int64', 'ragged': True}, {'shape': [None, 1], 'name': 'edge_indices_reverse', 'dtype': 'int64', 'ragged': True}], 'input_embedding': {'node': {'input_dim': 95, 'output_dim': 64}, 'edge': {'input_dim': 5, 'output_dim': 64}, 'graph': {'input_dim': 100, 'output_dim': 64}}, 'pooling_args': {'pooling_method': 'sum'}, 'use_graph_state': False, 'edge_initialize': {'units': 128, 'use_bias': True, 'activation': 'relu'}, 'edge_dense': {'units': 128, 'use_bias': True, 'activation': 'linear'}, 'edge_activation': {'activation': 'relu'}, 'node_dense': {'units': 128, 'use_bias': True, 'activation': 'relu'}, 'verbose': 10, 'depth': 5, 'dropout': {'rate': 0.1}, 'output_embedding': 'graph', 'output_to_tensor': True, 'output_mlp': {'use_bias': [True, True, False], 'units': [64, 32, 1], 'activation': ['relu', 'relu', 'linear']}}\n"
     ]
    },
    {
     "name": "stderr",
     "output_type": "stream",
     "text": [
      "C:\\Users\\patri\\anaconda3\\envs\\gcnn_keras_test\\lib\\site-packages\\tensorflow\\python\\framework\\indexed_slices.py:444: UserWarning: Converting sparse IndexedSlices(IndexedSlices(indices=Tensor(\"gradient_tape/DMPNN/pooling_local_edges_5/Reshape_1:0\", shape=(None,), dtype=int32), values=Tensor(\"gradient_tape/DMPNN/pooling_local_edges_5/Reshape:0\", shape=(None, 128), dtype=float32), dense_shape=Tensor(\"gradient_tape/DMPNN/pooling_local_edges_5/Cast:0\", shape=(2,), dtype=int32))) to a dense Tensor of unknown shape. This may consume a large amount of memory.\n",
      "  warnings.warn(\n",
      "C:\\Users\\patri\\anaconda3\\envs\\gcnn_keras_test\\lib\\site-packages\\tensorflow\\python\\framework\\indexed_slices.py:444: UserWarning: Converting sparse IndexedSlices(IndexedSlices(indices=Tensor(\"gradient_tape/DMPNN/dmpnnp_pooling_edges_directed_4/gather_nodes_outgoing_5/Reshape_1:0\", shape=(None,), dtype=int64), values=Tensor(\"gradient_tape/DMPNN/dmpnnp_pooling_edges_directed_4/gather_nodes_outgoing_5/Reshape:0\", shape=(None, 128), dtype=float32), dense_shape=Tensor(\"gradient_tape/DMPNN/dmpnnp_pooling_edges_directed_4/gather_nodes_outgoing_5/Cast:0\", shape=(2,), dtype=int32))) to a dense Tensor of unknown shape. This may consume a large amount of memory.\n",
      "  warnings.warn(\n",
      "C:\\Users\\patri\\anaconda3\\envs\\gcnn_keras_test\\lib\\site-packages\\tensorflow\\python\\framework\\indexed_slices.py:444: UserWarning: Converting sparse IndexedSlices(IndexedSlices(indices=Tensor(\"Adam/gradients/concat_1:0\", shape=(None,), dtype=int64), values=Tensor(\"Adam/gradients/concat:0\", shape=(None, 128), dtype=float32), dense_shape=Tensor(\"gradient_tape/DMPNN/dmpnnp_pooling_edges_directed_4/dmpnn_gather_edges_pairs_4/gather_nodes_ingoing_4/Cast:0\", shape=(2,), dtype=int32))) to a dense Tensor of unknown shape. This may consume a large amount of memory.\n",
      "  warnings.warn(\n",
      "C:\\Users\\patri\\anaconda3\\envs\\gcnn_keras_test\\lib\\site-packages\\tensorflow\\python\\framework\\indexed_slices.py:444: UserWarning: Converting sparse IndexedSlices(IndexedSlices(indices=Tensor(\"gradient_tape/DMPNN/dmpnnp_pooling_edges_directed_3/gather_nodes_outgoing_4/Reshape_1:0\", shape=(None,), dtype=int64), values=Tensor(\"gradient_tape/DMPNN/dmpnnp_pooling_edges_directed_3/gather_nodes_outgoing_4/Reshape:0\", shape=(None, 128), dtype=float32), dense_shape=Tensor(\"gradient_tape/DMPNN/dmpnnp_pooling_edges_directed_3/gather_nodes_outgoing_4/Cast:0\", shape=(2,), dtype=int32))) to a dense Tensor of unknown shape. This may consume a large amount of memory.\n",
      "  warnings.warn(\n",
      "C:\\Users\\patri\\anaconda3\\envs\\gcnn_keras_test\\lib\\site-packages\\tensorflow\\python\\framework\\indexed_slices.py:444: UserWarning: Converting sparse IndexedSlices(IndexedSlices(indices=Tensor(\"Adam/gradients/concat_3:0\", shape=(None,), dtype=int64), values=Tensor(\"Adam/gradients/concat_2:0\", shape=(None, 128), dtype=float32), dense_shape=Tensor(\"gradient_tape/DMPNN/dmpnnp_pooling_edges_directed_3/dmpnn_gather_edges_pairs_3/gather_nodes_ingoing_3/Cast:0\", shape=(2,), dtype=int32))) to a dense Tensor of unknown shape. This may consume a large amount of memory.\n",
      "  warnings.warn(\n",
      "C:\\Users\\patri\\anaconda3\\envs\\gcnn_keras_test\\lib\\site-packages\\tensorflow\\python\\framework\\indexed_slices.py:444: UserWarning: Converting sparse IndexedSlices(IndexedSlices(indices=Tensor(\"gradient_tape/DMPNN/dmpnnp_pooling_edges_directed_2/gather_nodes_outgoing_3/Reshape_1:0\", shape=(None,), dtype=int64), values=Tensor(\"gradient_tape/DMPNN/dmpnnp_pooling_edges_directed_2/gather_nodes_outgoing_3/Reshape:0\", shape=(None, 128), dtype=float32), dense_shape=Tensor(\"gradient_tape/DMPNN/dmpnnp_pooling_edges_directed_2/gather_nodes_outgoing_3/Cast:0\", shape=(2,), dtype=int32))) to a dense Tensor of unknown shape. This may consume a large amount of memory.\n",
      "  warnings.warn(\n",
      "C:\\Users\\patri\\anaconda3\\envs\\gcnn_keras_test\\lib\\site-packages\\tensorflow\\python\\framework\\indexed_slices.py:444: UserWarning: Converting sparse IndexedSlices(IndexedSlices(indices=Tensor(\"Adam/gradients/concat_5:0\", shape=(None,), dtype=int64), values=Tensor(\"Adam/gradients/concat_4:0\", shape=(None, 128), dtype=float32), dense_shape=Tensor(\"gradient_tape/DMPNN/dmpnnp_pooling_edges_directed_2/dmpnn_gather_edges_pairs_2/gather_nodes_ingoing_2/Cast:0\", shape=(2,), dtype=int32))) to a dense Tensor of unknown shape. This may consume a large amount of memory.\n",
      "  warnings.warn(\n",
      "C:\\Users\\patri\\anaconda3\\envs\\gcnn_keras_test\\lib\\site-packages\\tensorflow\\python\\framework\\indexed_slices.py:444: UserWarning: Converting sparse IndexedSlices(IndexedSlices(indices=Tensor(\"gradient_tape/DMPNN/dmpnnp_pooling_edges_directed_1/gather_nodes_outgoing_2/Reshape_1:0\", shape=(None,), dtype=int64), values=Tensor(\"gradient_tape/DMPNN/dmpnnp_pooling_edges_directed_1/gather_nodes_outgoing_2/Reshape:0\", shape=(None, 128), dtype=float32), dense_shape=Tensor(\"gradient_tape/DMPNN/dmpnnp_pooling_edges_directed_1/gather_nodes_outgoing_2/Cast:0\", shape=(2,), dtype=int32))) to a dense Tensor of unknown shape. This may consume a large amount of memory.\n",
      "  warnings.warn(\n",
      "C:\\Users\\patri\\anaconda3\\envs\\gcnn_keras_test\\lib\\site-packages\\tensorflow\\python\\framework\\indexed_slices.py:444: UserWarning: Converting sparse IndexedSlices(IndexedSlices(indices=Tensor(\"Adam/gradients/concat_7:0\", shape=(None,), dtype=int64), values=Tensor(\"Adam/gradients/concat_6:0\", shape=(None, 128), dtype=float32), dense_shape=Tensor(\"gradient_tape/DMPNN/dmpnnp_pooling_edges_directed_1/dmpnn_gather_edges_pairs_1/gather_nodes_ingoing_1/Cast:0\", shape=(2,), dtype=int32))) to a dense Tensor of unknown shape. This may consume a large amount of memory.\n",
      "  warnings.warn(\n",
      "C:\\Users\\patri\\anaconda3\\envs\\gcnn_keras_test\\lib\\site-packages\\tensorflow\\python\\framework\\indexed_slices.py:444: UserWarning: Converting sparse IndexedSlices(IndexedSlices(indices=Tensor(\"gradient_tape/DMPNN/dmpnnp_pooling_edges_directed/gather_nodes_outgoing_1/Reshape_1:0\", shape=(None,), dtype=int64), values=Tensor(\"gradient_tape/DMPNN/dmpnnp_pooling_edges_directed/gather_nodes_outgoing_1/Reshape:0\", shape=(None, 128), dtype=float32), dense_shape=Tensor(\"gradient_tape/DMPNN/dmpnnp_pooling_edges_directed/gather_nodes_outgoing_1/Cast:0\", shape=(2,), dtype=int32))) to a dense Tensor of unknown shape. This may consume a large amount of memory.\n",
      "  warnings.warn(\n",
      "C:\\Users\\patri\\anaconda3\\envs\\gcnn_keras_test\\lib\\site-packages\\tensorflow\\python\\framework\\indexed_slices.py:444: UserWarning: Converting sparse IndexedSlices(IndexedSlices(indices=Tensor(\"gradient_tape/DMPNN/dmpnnp_pooling_edges_directed/dmpnn_gather_edges_pairs/gather_nodes_ingoing/Reshape_1:0\", shape=(None,), dtype=int64), values=Tensor(\"gradient_tape/DMPNN/dmpnnp_pooling_edges_directed/dmpnn_gather_edges_pairs/gather_nodes_ingoing/Reshape:0\", shape=(None, 128), dtype=float32), dense_shape=Tensor(\"gradient_tape/DMPNN/dmpnnp_pooling_edges_directed/dmpnn_gather_edges_pairs/gather_nodes_ingoing/Cast:0\", shape=(2,), dtype=int32))) to a dense Tensor of unknown shape. This may consume a large amount of memory.\n",
      "  warnings.warn(\n",
      "C:\\Users\\patri\\anaconda3\\envs\\gcnn_keras_test\\lib\\site-packages\\tensorflow\\python\\framework\\indexed_slices.py:444: UserWarning: Converting sparse IndexedSlices(IndexedSlices(indices=Tensor(\"gradient_tape/DMPNN/dmpnnp_pooling_edges_directed/pooling_local_edges/Reshape_1:0\", shape=(None,), dtype=int32), values=Tensor(\"gradient_tape/DMPNN/dmpnnp_pooling_edges_directed/pooling_local_edges/Reshape:0\", shape=(None, 128), dtype=float32), dense_shape=Tensor(\"gradient_tape/DMPNN/dmpnnp_pooling_edges_directed/pooling_local_edges/Cast:0\", shape=(2,), dtype=int32))) to a dense Tensor of unknown shape. This may consume a large amount of memory.\n",
      "  warnings.warn(\n",
      "\u001b[32m[I 2023-02-09 16:03:55,854]\u001b[0m Trial 24 finished with value: 0.48792174458503723 and parameters: {'depth': 5, 'pooling_method': 'sum', 'units': 128, 'learning_rate': 0.0009892320007184987}. Best is trial 1 with value: 0.4369063079357147.\u001b[0m\n",
      "C:\\Users\\patri\\anaconda3\\envs\\gcnn_keras_test\\lib\\site-packages\\optuna\\distributions.py:560: UserWarning: The distribution is specified by [1, 6] and step=2, but the range is not divisible by `step`. It will be replaced by [1, 5].\n",
      "  warnings.warn(\n",
      "INFO:kgcnn.model.utils:Updated model kwargs:\n",
      "INFO:kgcnn.model.utils:{'name': 'DMPNN', 'inputs': [{'shape': [None, 41], 'name': 'node_attributes', 'dtype': 'float32', 'ragged': True}, {'shape': [None, 11], 'name': 'edge_attributes', 'dtype': 'float32', 'ragged': True}, {'shape': [None, 2], 'name': 'edge_indices', 'dtype': 'int64', 'ragged': True}, {'shape': [None, 1], 'name': 'edge_indices_reverse', 'dtype': 'int64', 'ragged': True}], 'input_embedding': {'node': {'input_dim': 95, 'output_dim': 64}, 'edge': {'input_dim': 5, 'output_dim': 64}, 'graph': {'input_dim': 100, 'output_dim': 64}}, 'pooling_args': {'pooling_method': 'sum'}, 'use_graph_state': False, 'edge_initialize': {'units': 96, 'use_bias': True, 'activation': 'relu'}, 'edge_dense': {'units': 96, 'use_bias': True, 'activation': 'linear'}, 'edge_activation': {'activation': 'relu'}, 'node_dense': {'units': 96, 'use_bias': True, 'activation': 'relu'}, 'verbose': 10, 'depth': 5, 'dropout': {'rate': 0.1}, 'output_embedding': 'graph', 'output_to_tensor': True, 'output_mlp': {'use_bias': [True, True, False], 'units': [64, 32, 1], 'activation': ['relu', 'relu', 'linear']}}\n"
     ]
    },
    {
     "name": "stderr",
     "output_type": "stream",
     "text": [
      "C:\\Users\\patri\\anaconda3\\envs\\gcnn_keras_test\\lib\\site-packages\\tensorflow\\python\\framework\\indexed_slices.py:444: UserWarning: Converting sparse IndexedSlices(IndexedSlices(indices=Tensor(\"gradient_tape/DMPNN/pooling_local_edges_5/Reshape_1:0\", shape=(None,), dtype=int32), values=Tensor(\"gradient_tape/DMPNN/pooling_local_edges_5/Reshape:0\", shape=(None, 96), dtype=float32), dense_shape=Tensor(\"gradient_tape/DMPNN/pooling_local_edges_5/Cast:0\", shape=(2,), dtype=int32))) to a dense Tensor of unknown shape. This may consume a large amount of memory.\n",
      "  warnings.warn(\n",
      "C:\\Users\\patri\\anaconda3\\envs\\gcnn_keras_test\\lib\\site-packages\\tensorflow\\python\\framework\\indexed_slices.py:444: UserWarning: Converting sparse IndexedSlices(IndexedSlices(indices=Tensor(\"gradient_tape/DMPNN/dmpnnp_pooling_edges_directed_4/gather_nodes_outgoing_5/Reshape_1:0\", shape=(None,), dtype=int64), values=Tensor(\"gradient_tape/DMPNN/dmpnnp_pooling_edges_directed_4/gather_nodes_outgoing_5/Reshape:0\", shape=(None, 96), dtype=float32), dense_shape=Tensor(\"gradient_tape/DMPNN/dmpnnp_pooling_edges_directed_4/gather_nodes_outgoing_5/Cast:0\", shape=(2,), dtype=int32))) to a dense Tensor of unknown shape. This may consume a large amount of memory.\n",
      "  warnings.warn(\n",
      "C:\\Users\\patri\\anaconda3\\envs\\gcnn_keras_test\\lib\\site-packages\\tensorflow\\python\\framework\\indexed_slices.py:444: UserWarning: Converting sparse IndexedSlices(IndexedSlices(indices=Tensor(\"Adam/gradients/concat_1:0\", shape=(None,), dtype=int64), values=Tensor(\"Adam/gradients/concat:0\", shape=(None, 96), dtype=float32), dense_shape=Tensor(\"gradient_tape/DMPNN/dmpnnp_pooling_edges_directed_4/dmpnn_gather_edges_pairs_4/gather_nodes_ingoing_4/Cast:0\", shape=(2,), dtype=int32))) to a dense Tensor of unknown shape. This may consume a large amount of memory.\n",
      "  warnings.warn(\n",
      "C:\\Users\\patri\\anaconda3\\envs\\gcnn_keras_test\\lib\\site-packages\\tensorflow\\python\\framework\\indexed_slices.py:444: UserWarning: Converting sparse IndexedSlices(IndexedSlices(indices=Tensor(\"gradient_tape/DMPNN/dmpnnp_pooling_edges_directed_3/gather_nodes_outgoing_4/Reshape_1:0\", shape=(None,), dtype=int64), values=Tensor(\"gradient_tape/DMPNN/dmpnnp_pooling_edges_directed_3/gather_nodes_outgoing_4/Reshape:0\", shape=(None, 96), dtype=float32), dense_shape=Tensor(\"gradient_tape/DMPNN/dmpnnp_pooling_edges_directed_3/gather_nodes_outgoing_4/Cast:0\", shape=(2,), dtype=int32))) to a dense Tensor of unknown shape. This may consume a large amount of memory.\n",
      "  warnings.warn(\n",
      "C:\\Users\\patri\\anaconda3\\envs\\gcnn_keras_test\\lib\\site-packages\\tensorflow\\python\\framework\\indexed_slices.py:444: UserWarning: Converting sparse IndexedSlices(IndexedSlices(indices=Tensor(\"Adam/gradients/concat_3:0\", shape=(None,), dtype=int64), values=Tensor(\"Adam/gradients/concat_2:0\", shape=(None, 96), dtype=float32), dense_shape=Tensor(\"gradient_tape/DMPNN/dmpnnp_pooling_edges_directed_3/dmpnn_gather_edges_pairs_3/gather_nodes_ingoing_3/Cast:0\", shape=(2,), dtype=int32))) to a dense Tensor of unknown shape. This may consume a large amount of memory.\n",
      "  warnings.warn(\n",
      "C:\\Users\\patri\\anaconda3\\envs\\gcnn_keras_test\\lib\\site-packages\\tensorflow\\python\\framework\\indexed_slices.py:444: UserWarning: Converting sparse IndexedSlices(IndexedSlices(indices=Tensor(\"gradient_tape/DMPNN/dmpnnp_pooling_edges_directed_2/gather_nodes_outgoing_3/Reshape_1:0\", shape=(None,), dtype=int64), values=Tensor(\"gradient_tape/DMPNN/dmpnnp_pooling_edges_directed_2/gather_nodes_outgoing_3/Reshape:0\", shape=(None, 96), dtype=float32), dense_shape=Tensor(\"gradient_tape/DMPNN/dmpnnp_pooling_edges_directed_2/gather_nodes_outgoing_3/Cast:0\", shape=(2,), dtype=int32))) to a dense Tensor of unknown shape. This may consume a large amount of memory.\n",
      "  warnings.warn(\n",
      "C:\\Users\\patri\\anaconda3\\envs\\gcnn_keras_test\\lib\\site-packages\\tensorflow\\python\\framework\\indexed_slices.py:444: UserWarning: Converting sparse IndexedSlices(IndexedSlices(indices=Tensor(\"Adam/gradients/concat_5:0\", shape=(None,), dtype=int64), values=Tensor(\"Adam/gradients/concat_4:0\", shape=(None, 96), dtype=float32), dense_shape=Tensor(\"gradient_tape/DMPNN/dmpnnp_pooling_edges_directed_2/dmpnn_gather_edges_pairs_2/gather_nodes_ingoing_2/Cast:0\", shape=(2,), dtype=int32))) to a dense Tensor of unknown shape. This may consume a large amount of memory.\n",
      "  warnings.warn(\n",
      "C:\\Users\\patri\\anaconda3\\envs\\gcnn_keras_test\\lib\\site-packages\\tensorflow\\python\\framework\\indexed_slices.py:444: UserWarning: Converting sparse IndexedSlices(IndexedSlices(indices=Tensor(\"gradient_tape/DMPNN/dmpnnp_pooling_edges_directed_1/gather_nodes_outgoing_2/Reshape_1:0\", shape=(None,), dtype=int64), values=Tensor(\"gradient_tape/DMPNN/dmpnnp_pooling_edges_directed_1/gather_nodes_outgoing_2/Reshape:0\", shape=(None, 96), dtype=float32), dense_shape=Tensor(\"gradient_tape/DMPNN/dmpnnp_pooling_edges_directed_1/gather_nodes_outgoing_2/Cast:0\", shape=(2,), dtype=int32))) to a dense Tensor of unknown shape. This may consume a large amount of memory.\n",
      "  warnings.warn(\n",
      "C:\\Users\\patri\\anaconda3\\envs\\gcnn_keras_test\\lib\\site-packages\\tensorflow\\python\\framework\\indexed_slices.py:444: UserWarning: Converting sparse IndexedSlices(IndexedSlices(indices=Tensor(\"Adam/gradients/concat_7:0\", shape=(None,), dtype=int64), values=Tensor(\"Adam/gradients/concat_6:0\", shape=(None, 96), dtype=float32), dense_shape=Tensor(\"gradient_tape/DMPNN/dmpnnp_pooling_edges_directed_1/dmpnn_gather_edges_pairs_1/gather_nodes_ingoing_1/Cast:0\", shape=(2,), dtype=int32))) to a dense Tensor of unknown shape. This may consume a large amount of memory.\n",
      "  warnings.warn(\n",
      "C:\\Users\\patri\\anaconda3\\envs\\gcnn_keras_test\\lib\\site-packages\\tensorflow\\python\\framework\\indexed_slices.py:444: UserWarning: Converting sparse IndexedSlices(IndexedSlices(indices=Tensor(\"gradient_tape/DMPNN/dmpnnp_pooling_edges_directed/gather_nodes_outgoing_1/Reshape_1:0\", shape=(None,), dtype=int64), values=Tensor(\"gradient_tape/DMPNN/dmpnnp_pooling_edges_directed/gather_nodes_outgoing_1/Reshape:0\", shape=(None, 96), dtype=float32), dense_shape=Tensor(\"gradient_tape/DMPNN/dmpnnp_pooling_edges_directed/gather_nodes_outgoing_1/Cast:0\", shape=(2,), dtype=int32))) to a dense Tensor of unknown shape. This may consume a large amount of memory.\n",
      "  warnings.warn(\n",
      "C:\\Users\\patri\\anaconda3\\envs\\gcnn_keras_test\\lib\\site-packages\\tensorflow\\python\\framework\\indexed_slices.py:444: UserWarning: Converting sparse IndexedSlices(IndexedSlices(indices=Tensor(\"gradient_tape/DMPNN/dmpnnp_pooling_edges_directed/dmpnn_gather_edges_pairs/gather_nodes_ingoing/Reshape_1:0\", shape=(None,), dtype=int64), values=Tensor(\"gradient_tape/DMPNN/dmpnnp_pooling_edges_directed/dmpnn_gather_edges_pairs/gather_nodes_ingoing/Reshape:0\", shape=(None, 96), dtype=float32), dense_shape=Tensor(\"gradient_tape/DMPNN/dmpnnp_pooling_edges_directed/dmpnn_gather_edges_pairs/gather_nodes_ingoing/Cast:0\", shape=(2,), dtype=int32))) to a dense Tensor of unknown shape. This may consume a large amount of memory.\n",
      "  warnings.warn(\n",
      "C:\\Users\\patri\\anaconda3\\envs\\gcnn_keras_test\\lib\\site-packages\\tensorflow\\python\\framework\\indexed_slices.py:444: UserWarning: Converting sparse IndexedSlices(IndexedSlices(indices=Tensor(\"gradient_tape/DMPNN/dmpnnp_pooling_edges_directed/pooling_local_edges/Reshape_1:0\", shape=(None,), dtype=int32), values=Tensor(\"gradient_tape/DMPNN/dmpnnp_pooling_edges_directed/pooling_local_edges/Reshape:0\", shape=(None, 96), dtype=float32), dense_shape=Tensor(\"gradient_tape/DMPNN/dmpnnp_pooling_edges_directed/pooling_local_edges/Cast:0\", shape=(2,), dtype=int32))) to a dense Tensor of unknown shape. This may consume a large amount of memory.\n",
      "  warnings.warn(\n",
      "\u001b[32m[I 2023-02-09 16:04:18,593]\u001b[0m Trial 25 finished with value: 0.6622803807258606 and parameters: {'depth': 5, 'pooling_method': 'sum', 'units': 96, 'learning_rate': 0.0001654257707841718}. Best is trial 1 with value: 0.4369063079357147.\u001b[0m\n",
      "C:\\Users\\patri\\anaconda3\\envs\\gcnn_keras_test\\lib\\site-packages\\optuna\\distributions.py:560: UserWarning: The distribution is specified by [1, 6] and step=2, but the range is not divisible by `step`. It will be replaced by [1, 5].\n",
      "  warnings.warn(\n",
      "INFO:kgcnn.model.utils:Updated model kwargs:\n",
      "INFO:kgcnn.model.utils:{'name': 'DMPNN', 'inputs': [{'shape': [None, 41], 'name': 'node_attributes', 'dtype': 'float32', 'ragged': True}, {'shape': [None, 11], 'name': 'edge_attributes', 'dtype': 'float32', 'ragged': True}, {'shape': [None, 2], 'name': 'edge_indices', 'dtype': 'int64', 'ragged': True}, {'shape': [None, 1], 'name': 'edge_indices_reverse', 'dtype': 'int64', 'ragged': True}], 'input_embedding': {'node': {'input_dim': 95, 'output_dim': 64}, 'edge': {'input_dim': 5, 'output_dim': 64}, 'graph': {'input_dim': 100, 'output_dim': 64}}, 'pooling_args': {'pooling_method': 'sum'}, 'use_graph_state': False, 'edge_initialize': {'units': 192, 'use_bias': True, 'activation': 'relu'}, 'edge_dense': {'units': 192, 'use_bias': True, 'activation': 'linear'}, 'edge_activation': {'activation': 'relu'}, 'node_dense': {'units': 192, 'use_bias': True, 'activation': 'relu'}, 'verbose': 10, 'depth': 5, 'dropout': {'rate': 0.1}, 'output_embedding': 'graph', 'output_to_tensor': True, 'output_mlp': {'use_bias': [True, True, False], 'units': [64, 32, 1], 'activation': ['relu', 'relu', 'linear']}}\n"
     ]
    },
    {
     "name": "stderr",
     "output_type": "stream",
     "text": [
      "C:\\Users\\patri\\anaconda3\\envs\\gcnn_keras_test\\lib\\site-packages\\tensorflow\\python\\framework\\indexed_slices.py:444: UserWarning: Converting sparse IndexedSlices(IndexedSlices(indices=Tensor(\"gradient_tape/DMPNN/pooling_local_edges_5/Reshape_1:0\", shape=(None,), dtype=int32), values=Tensor(\"gradient_tape/DMPNN/pooling_local_edges_5/Reshape:0\", shape=(None, 192), dtype=float32), dense_shape=Tensor(\"gradient_tape/DMPNN/pooling_local_edges_5/Cast:0\", shape=(2,), dtype=int32))) to a dense Tensor of unknown shape. This may consume a large amount of memory.\n",
      "  warnings.warn(\n",
      "C:\\Users\\patri\\anaconda3\\envs\\gcnn_keras_test\\lib\\site-packages\\tensorflow\\python\\framework\\indexed_slices.py:444: UserWarning: Converting sparse IndexedSlices(IndexedSlices(indices=Tensor(\"gradient_tape/DMPNN/dmpnnp_pooling_edges_directed_4/gather_nodes_outgoing_5/Reshape_1:0\", shape=(None,), dtype=int64), values=Tensor(\"gradient_tape/DMPNN/dmpnnp_pooling_edges_directed_4/gather_nodes_outgoing_5/Reshape:0\", shape=(None, 192), dtype=float32), dense_shape=Tensor(\"gradient_tape/DMPNN/dmpnnp_pooling_edges_directed_4/gather_nodes_outgoing_5/Cast:0\", shape=(2,), dtype=int32))) to a dense Tensor of unknown shape. This may consume a large amount of memory.\n",
      "  warnings.warn(\n",
      "C:\\Users\\patri\\anaconda3\\envs\\gcnn_keras_test\\lib\\site-packages\\tensorflow\\python\\framework\\indexed_slices.py:444: UserWarning: Converting sparse IndexedSlices(IndexedSlices(indices=Tensor(\"Adam/gradients/concat_1:0\", shape=(None,), dtype=int64), values=Tensor(\"Adam/gradients/concat:0\", shape=(None, 192), dtype=float32), dense_shape=Tensor(\"gradient_tape/DMPNN/dmpnnp_pooling_edges_directed_4/dmpnn_gather_edges_pairs_4/gather_nodes_ingoing_4/Cast:0\", shape=(2,), dtype=int32))) to a dense Tensor of unknown shape. This may consume a large amount of memory.\n",
      "  warnings.warn(\n",
      "C:\\Users\\patri\\anaconda3\\envs\\gcnn_keras_test\\lib\\site-packages\\tensorflow\\python\\framework\\indexed_slices.py:444: UserWarning: Converting sparse IndexedSlices(IndexedSlices(indices=Tensor(\"gradient_tape/DMPNN/dmpnnp_pooling_edges_directed_3/gather_nodes_outgoing_4/Reshape_1:0\", shape=(None,), dtype=int64), values=Tensor(\"gradient_tape/DMPNN/dmpnnp_pooling_edges_directed_3/gather_nodes_outgoing_4/Reshape:0\", shape=(None, 192), dtype=float32), dense_shape=Tensor(\"gradient_tape/DMPNN/dmpnnp_pooling_edges_directed_3/gather_nodes_outgoing_4/Cast:0\", shape=(2,), dtype=int32))) to a dense Tensor of unknown shape. This may consume a large amount of memory.\n",
      "  warnings.warn(\n",
      "C:\\Users\\patri\\anaconda3\\envs\\gcnn_keras_test\\lib\\site-packages\\tensorflow\\python\\framework\\indexed_slices.py:444: UserWarning: Converting sparse IndexedSlices(IndexedSlices(indices=Tensor(\"Adam/gradients/concat_3:0\", shape=(None,), dtype=int64), values=Tensor(\"Adam/gradients/concat_2:0\", shape=(None, 192), dtype=float32), dense_shape=Tensor(\"gradient_tape/DMPNN/dmpnnp_pooling_edges_directed_3/dmpnn_gather_edges_pairs_3/gather_nodes_ingoing_3/Cast:0\", shape=(2,), dtype=int32))) to a dense Tensor of unknown shape. This may consume a large amount of memory.\n",
      "  warnings.warn(\n",
      "C:\\Users\\patri\\anaconda3\\envs\\gcnn_keras_test\\lib\\site-packages\\tensorflow\\python\\framework\\indexed_slices.py:444: UserWarning: Converting sparse IndexedSlices(IndexedSlices(indices=Tensor(\"gradient_tape/DMPNN/dmpnnp_pooling_edges_directed_2/gather_nodes_outgoing_3/Reshape_1:0\", shape=(None,), dtype=int64), values=Tensor(\"gradient_tape/DMPNN/dmpnnp_pooling_edges_directed_2/gather_nodes_outgoing_3/Reshape:0\", shape=(None, 192), dtype=float32), dense_shape=Tensor(\"gradient_tape/DMPNN/dmpnnp_pooling_edges_directed_2/gather_nodes_outgoing_3/Cast:0\", shape=(2,), dtype=int32))) to a dense Tensor of unknown shape. This may consume a large amount of memory.\n",
      "  warnings.warn(\n",
      "C:\\Users\\patri\\anaconda3\\envs\\gcnn_keras_test\\lib\\site-packages\\tensorflow\\python\\framework\\indexed_slices.py:444: UserWarning: Converting sparse IndexedSlices(IndexedSlices(indices=Tensor(\"Adam/gradients/concat_5:0\", shape=(None,), dtype=int64), values=Tensor(\"Adam/gradients/concat_4:0\", shape=(None, 192), dtype=float32), dense_shape=Tensor(\"gradient_tape/DMPNN/dmpnnp_pooling_edges_directed_2/dmpnn_gather_edges_pairs_2/gather_nodes_ingoing_2/Cast:0\", shape=(2,), dtype=int32))) to a dense Tensor of unknown shape. This may consume a large amount of memory.\n",
      "  warnings.warn(\n",
      "C:\\Users\\patri\\anaconda3\\envs\\gcnn_keras_test\\lib\\site-packages\\tensorflow\\python\\framework\\indexed_slices.py:444: UserWarning: Converting sparse IndexedSlices(IndexedSlices(indices=Tensor(\"gradient_tape/DMPNN/dmpnnp_pooling_edges_directed_1/gather_nodes_outgoing_2/Reshape_1:0\", shape=(None,), dtype=int64), values=Tensor(\"gradient_tape/DMPNN/dmpnnp_pooling_edges_directed_1/gather_nodes_outgoing_2/Reshape:0\", shape=(None, 192), dtype=float32), dense_shape=Tensor(\"gradient_tape/DMPNN/dmpnnp_pooling_edges_directed_1/gather_nodes_outgoing_2/Cast:0\", shape=(2,), dtype=int32))) to a dense Tensor of unknown shape. This may consume a large amount of memory.\n",
      "  warnings.warn(\n",
      "C:\\Users\\patri\\anaconda3\\envs\\gcnn_keras_test\\lib\\site-packages\\tensorflow\\python\\framework\\indexed_slices.py:444: UserWarning: Converting sparse IndexedSlices(IndexedSlices(indices=Tensor(\"Adam/gradients/concat_7:0\", shape=(None,), dtype=int64), values=Tensor(\"Adam/gradients/concat_6:0\", shape=(None, 192), dtype=float32), dense_shape=Tensor(\"gradient_tape/DMPNN/dmpnnp_pooling_edges_directed_1/dmpnn_gather_edges_pairs_1/gather_nodes_ingoing_1/Cast:0\", shape=(2,), dtype=int32))) to a dense Tensor of unknown shape. This may consume a large amount of memory.\n",
      "  warnings.warn(\n",
      "C:\\Users\\patri\\anaconda3\\envs\\gcnn_keras_test\\lib\\site-packages\\tensorflow\\python\\framework\\indexed_slices.py:444: UserWarning: Converting sparse IndexedSlices(IndexedSlices(indices=Tensor(\"gradient_tape/DMPNN/dmpnnp_pooling_edges_directed/gather_nodes_outgoing_1/Reshape_1:0\", shape=(None,), dtype=int64), values=Tensor(\"gradient_tape/DMPNN/dmpnnp_pooling_edges_directed/gather_nodes_outgoing_1/Reshape:0\", shape=(None, 192), dtype=float32), dense_shape=Tensor(\"gradient_tape/DMPNN/dmpnnp_pooling_edges_directed/gather_nodes_outgoing_1/Cast:0\", shape=(2,), dtype=int32))) to a dense Tensor of unknown shape. This may consume a large amount of memory.\n",
      "  warnings.warn(\n",
      "C:\\Users\\patri\\anaconda3\\envs\\gcnn_keras_test\\lib\\site-packages\\tensorflow\\python\\framework\\indexed_slices.py:444: UserWarning: Converting sparse IndexedSlices(IndexedSlices(indices=Tensor(\"gradient_tape/DMPNN/dmpnnp_pooling_edges_directed/dmpnn_gather_edges_pairs/gather_nodes_ingoing/Reshape_1:0\", shape=(None,), dtype=int64), values=Tensor(\"gradient_tape/DMPNN/dmpnnp_pooling_edges_directed/dmpnn_gather_edges_pairs/gather_nodes_ingoing/Reshape:0\", shape=(None, 192), dtype=float32), dense_shape=Tensor(\"gradient_tape/DMPNN/dmpnnp_pooling_edges_directed/dmpnn_gather_edges_pairs/gather_nodes_ingoing/Cast:0\", shape=(2,), dtype=int32))) to a dense Tensor of unknown shape. This may consume a large amount of memory.\n",
      "  warnings.warn(\n",
      "C:\\Users\\patri\\anaconda3\\envs\\gcnn_keras_test\\lib\\site-packages\\tensorflow\\python\\framework\\indexed_slices.py:444: UserWarning: Converting sparse IndexedSlices(IndexedSlices(indices=Tensor(\"gradient_tape/DMPNN/dmpnnp_pooling_edges_directed/pooling_local_edges/Reshape_1:0\", shape=(None,), dtype=int32), values=Tensor(\"gradient_tape/DMPNN/dmpnnp_pooling_edges_directed/pooling_local_edges/Reshape:0\", shape=(None, 192), dtype=float32), dense_shape=Tensor(\"gradient_tape/DMPNN/dmpnnp_pooling_edges_directed/pooling_local_edges/Cast:0\", shape=(2,), dtype=int32))) to a dense Tensor of unknown shape. This may consume a large amount of memory.\n",
      "  warnings.warn(\n",
      "\u001b[32m[I 2023-02-09 16:04:44,751]\u001b[0m Trial 26 finished with value: 0.5552071928977966 and parameters: {'depth': 5, 'pooling_method': 'sum', 'units': 192, 'learning_rate': 0.000974225669134804}. Best is trial 1 with value: 0.4369063079357147.\u001b[0m\n"
     ]
    }
   ],
   "source": [
    "study = optuna.create_study(direction=\"minimize\")\n",
    "study.optimize(objective, n_trials=100, timeout=600)"
   ]
  },
  {
   "cell_type": "code",
   "execution_count": 11,
   "id": "fcf843d8",
   "metadata": {},
   "outputs": [
    {
     "name": "stdout",
     "output_type": "stream",
     "text": [
      "Number of finished trials: 31\n",
      "Best trial:\n",
      "  Value: 0.4407065510749817\n",
      "  Params: \n",
      "    depth: 1\n",
      "    pooling_method: scatter_sum\n",
      "    units: 192\n",
      "    learning_rate: 0.002920636602320461\n"
     ]
    }
   ],
   "source": [
    "print(\"Number of finished trials: {}\".format(len(study.trials)))\n",
    "\n",
    "print(\"Best trial:\")\n",
    "trial = study.best_trial\n",
    "\n",
    "print(\"  Value: {}\".format(trial.value))\n",
    "\n",
    "print(\"  Params: \")\n",
    "for key, value in trial.params.items():\n",
    "    print(\"    {}: {}\".format(key, value))"
   ]
  }
 ],
 "metadata": {
  "kernelspec": {
   "display_name": "Python 3 (ipykernel)",
   "language": "python",
   "name": "python3"
  },
  "language_info": {
   "codemirror_mode": {
    "name": "ipython",
    "version": 3
   },
   "file_extension": ".py",
   "mimetype": "text/x-python",
   "name": "python",
   "nbconvert_exporter": "python",
   "pygments_lexer": "ipython3",
   "version": "3.10.5"
  }
 },
 "nbformat": 4,
 "nbformat_minor": 5
}
