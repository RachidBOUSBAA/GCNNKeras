{
 "cells": [
  {
   "cell_type": "markdown",
   "metadata": {},
   "source": [
    "# QM Dataset"
   ]
  },
  {
   "cell_type": "markdown",
   "metadata": {},
   "source": [
    "This is a base class for 'quantum mechanical' datasets. It generates graph properties from a xyz-file, which\n",
    "stores atomic coordinates.\n",
    "\n",
    "Additionally, it should be possible to generate approximate chemical bonding information via `OpenBabel`, if this\n",
    "additional package is installed.\n",
    "The class inherits from `MemoryGraphDataset`.\n",
    "\n",
    "At the moment, there is no connection to `MoleculeNetDataset` since usually for geometric data, the usage is\n",
    "related to learning quantum properties like energy, orbitals or forces and no \"chemical\" feature information is\n",
    "required.\n",
    "\n",
    "For demonstration, we make an artifical table of coordinates and some target values and store them to file."
   ]
  },
  {
   "cell_type": "code",
   "execution_count": 1,
   "metadata": {},
   "outputs": [],
   "source": [
    "import os\n",
    "os.makedirs(\"ExampleQM\", exist_ok=True)\n",
    "xyz_list = [\n",
    "    \"3\\n\\nC -0.8513 1.7563 0.5028\\nC -1.1415 0.2664 0.4371\\nC -0.7681 -0.3186 -0.9144\\n\",\n",
    "    \"4\\n\\nC 2.4098 0.5514 -2.1836\\nC 2.5000 -0.4800 -1.0676\\nC 1.1575 -0.7559 -0.3909\\nN 0.6356 0.4257 0.2851\\n\",\n",
    "    \"1\\n\\nC 0.0 0.0 0.0\\n\"\n",
    "]\n",
    "xyz_data = \"\".join(xyz_list)\n",
    "with open(\"ExampleQM/qm.xyz\", \"w\") as f:\n",
    "    f.write(xyz_data)"
   ]
  },
  {
   "cell_type": "markdown",
   "metadata": {},
   "source": [
    "Or if single files are used"
   ]
  },
  {
   "cell_type": "code",
   "execution_count": 2,
   "metadata": {},
   "outputs": [],
   "source": [
    "os.makedirs(\"ExampleQM/XYZ_files\", exist_ok=True)\n",
    "for i, x in enumerate(xyz_list):\n",
    "    with open(\"ExampleQM/XYZ_files/mol_%i.xyz\" % i, \"w\") as f:\n",
    "        f.write(x)\n",
    "csv_info = \"ID,files,energy\\n0,mol_0.xyz,-13.0\\n1,mol_1.xyz,-20.0\\n2,mol_2.xyz,-34.0\"\n",
    "with open(\"ExampleQM/qm.csv\", \"w\") as f:\n",
    "    f.write(csv_info)"
   ]
  },
  {
   "cell_type": "markdown",
   "metadata": {},
   "source": [
    "The file structure is:\n",
    "\n",
    "\n",
    "```bash\n",
    "├── ExampleQM\n",
    "    ├── qm.csv\n",
    "    ├── XYZ_files  # Need a qm.csv if singe files are used.\n",
    "    │   ├── *.*\n",
    "    │   └── ... \n",
    "    ├── qm.xyz\n",
    "    └── qm.sdf  # After prepare_data\n",
    "```"
   ]
  },
  {
   "cell_type": "markdown",
   "metadata": {},
   "source": [
    "##  1. Initialization"
   ]
  },
  {
   "cell_type": "markdown",
   "metadata": {},
   "source": [
    "To load the dataset from memeory the `QMDataset` class requires the information of the directory the data is in and the name of the xyz-file. Also required is to provide a name of the dataset. If no single xyz file is available, a csv file of the same base-name must have also a column of files-names in addition to labels."
   ]
  },
  {
   "cell_type": "code",
   "execution_count": 3,
   "metadata": {},
   "outputs": [],
   "source": [
    "import numpy as np\n",
    "from kgcnn.data.qm import QMDataset\n",
    "dts = QMDataset(\n",
    "    file_name=\"qm.xyz\",\n",
    "    file_directory=\"XYZ_files\",\n",
    "    data_directory=\"ExampleQM\", \n",
    "    dataset_name=\"ExampleQM\"\n",
    ")"
   ]
  },
  {
   "cell_type": "markdown",
   "metadata": {},
   "source": [
    "## 2. Prepare Data"
   ]
  },
  {
   "cell_type": "markdown",
   "metadata": {},
   "source": [
    "Prepare Data generates a single XYZ file if it is not available and also tries to maks a mol SDF file from XYZ information via `OpenBabel` if installed."
   ]
  },
  {
   "cell_type": "code",
   "execution_count": 4,
   "metadata": {},
   "outputs": [
    {
     "name": "stderr",
     "output_type": "stream",
     "text": [
      "INFO:kgcnn.data.ExampleQM:Reading single xyz-file.\n",
      "INFO:kgcnn.data.ExampleQM:Converting xyz to mol information.\n"
     ]
    },
    {
     "data": {
      "text/plain": [
       "<kgcnn.data.qm.QMDataset at 0x21e1bceef10>"
      ]
     },
     "execution_count": 4,
     "metadata": {},
     "output_type": "execute_result"
    }
   ],
   "source": [
    "dts.prepare_data(\n",
    "    overwrite=True,\n",
    "    xyz_column_name=\"files\",  # Delete qm.xyz file to see if it is generated from single files\n",
    "    make_sdf=True\n",
    ")"
   ]
  },
  {
   "cell_type": "markdown",
   "metadata": {},
   "source": [
    "## 3. Read Data"
   ]
  },
  {
   "cell_type": "markdown",
   "metadata": {},
   "source": [
    "The information from XYZ file and optinally also form SDF and CSV files are read from disk."
   ]
  },
  {
   "cell_type": "code",
   "execution_count": 5,
   "metadata": {},
   "outputs": [
    {
     "name": "stderr",
     "output_type": "stream",
     "text": [
      "INFO:kgcnn.data.ExampleQM:Parsing mol information ...\n"
     ]
    },
    {
     "ename": "TypeError",
     "evalue": "__init__() got an unexpected keyword argument 'add_hydrogen'",
     "output_type": "error",
     "traceback": [
      "\u001b[1;31m---------------------------------------------------------------------------\u001b[0m",
      "\u001b[1;31mTypeError\u001b[0m                                 Traceback (most recent call last)",
      "Input \u001b[1;32mIn [5]\u001b[0m, in \u001b[0;36m<module>\u001b[1;34m\u001b[0m\n\u001b[1;32m----> 1\u001b[0m \u001b[43mdts\u001b[49m\u001b[38;5;241;43m.\u001b[39;49m\u001b[43mread_in_memory\u001b[49m\u001b[43m(\u001b[49m\n\u001b[0;32m      2\u001b[0m \u001b[43m    \u001b[49m\u001b[43mlabel_column_name\u001b[49m\u001b[38;5;241;43m=\u001b[39;49m\u001b[38;5;124;43m\"\u001b[39;49m\u001b[38;5;124;43menergy\u001b[39;49m\u001b[38;5;124;43m\"\u001b[39;49m\n\u001b[0;32m      3\u001b[0m \u001b[43m)\u001b[49m\n",
      "File \u001b[1;32mh:\\postdoc\\project_pycharm\\gcnn_keras\\kgcnn\\data\\qm.py:157\u001b[0m, in \u001b[0;36mQMDataset.read_in_memory\u001b[1;34m(self, label_column_name)\u001b[0m\n\u001b[0;32m    154\u001b[0m \u001b[38;5;28mself\u001b[39m\u001b[38;5;241m.\u001b[39massign_property(\u001b[38;5;124m\"\u001b[39m\u001b[38;5;124mnode_number\u001b[39m\u001b[38;5;124m\"\u001b[39m, nodes)\n\u001b[0;32m    156\u001b[0m \u001b[38;5;66;03m# Try also to read SDF file.\u001b[39;00m\n\u001b[1;32m--> 157\u001b[0m \u001b[38;5;28;43mself\u001b[39;49m\u001b[38;5;241;43m.\u001b[39;49m\u001b[43mread_in_memory_sdf\u001b[49m\u001b[43m(\u001b[49m\u001b[43m)\u001b[49m\n\u001b[0;32m    159\u001b[0m \u001b[38;5;66;03m# Try also to read labels\u001b[39;00m\n\u001b[0;32m    160\u001b[0m \u001b[38;5;28mself\u001b[39m\u001b[38;5;241m.\u001b[39mread_in_table_file()\n",
      "File \u001b[1;32mh:\\postdoc\\project_pycharm\\gcnn_keras\\kgcnn\\data\\qm.py:189\u001b[0m, in \u001b[0;36mQMDataset.read_in_memory_sdf\u001b[1;34m(self)\u001b[0m\n\u001b[0;32m    186\u001b[0m edge_attr \u001b[38;5;241m=\u001b[39m []\n\u001b[0;32m    187\u001b[0m \u001b[38;5;28;01mfor\u001b[39;00m x \u001b[38;5;129;01min\u001b[39;00m mol_list:\n\u001b[0;32m    188\u001b[0m     \u001b[38;5;66;03m# Must not change number of atoms or coordinates here.\u001b[39;00m\n\u001b[1;32m--> 189\u001b[0m     mol \u001b[38;5;241m=\u001b[39m \u001b[43mMolecularGraphOpenBabel\u001b[49m\u001b[43m(\u001b[49m\u001b[43madd_hydrogen\u001b[49m\u001b[38;5;241;43m=\u001b[39;49m\u001b[38;5;28;43;01mFalse\u001b[39;49;00m\u001b[43m,\u001b[49m\u001b[43m \u001b[49m\u001b[43mmake_conformer\u001b[49m\u001b[38;5;241;43m=\u001b[39;49m\u001b[38;5;28;43;01mFalse\u001b[39;49;00m\u001b[43m,\u001b[49m\n\u001b[0;32m    190\u001b[0m \u001b[43m                                  \u001b[49m\u001b[43moptimize_conformer\u001b[49m\u001b[38;5;241;43m=\u001b[39;49m\u001b[38;5;28;43;01mFalse\u001b[39;49;00m\u001b[43m)\u001b[49m\u001b[38;5;241m.\u001b[39mfrom_mol_block(x)\n\u001b[0;32m    191\u001b[0m     \u001b[38;5;28;01mif\u001b[39;00m mol \u001b[38;5;129;01mis\u001b[39;00m \u001b[38;5;28;01mNone\u001b[39;00m:\n\u001b[0;32m    192\u001b[0m         bond_number\u001b[38;5;241m.\u001b[39mappend(\u001b[38;5;28;01mNone\u001b[39;00m)\n",
      "\u001b[1;31mTypeError\u001b[0m: __init__() got an unexpected keyword argument 'add_hydrogen'"
     ]
    }
   ],
   "source": [
    "dts.read_in_memory(\n",
    "    label_column_name=\"energy\"\n",
    ")"
   ]
  },
  {
   "cell_type": "markdown",
   "metadata": {},
   "source": [
    "## 4. Check dataset and graphs"
   ]
  },
  {
   "cell_type": "markdown",
   "metadata": {},
   "source": [
    "With openbabel QMDataset has both geometric and apporximate bond information."
   ]
  },
  {
   "cell_type": "code",
   "execution_count": null,
   "metadata": {},
   "outputs": [],
   "source": [
    "dts.obtain_property(\"node_coordinates\")"
   ]
  },
  {
   "cell_type": "markdown",
   "metadata": {},
   "source": [
    "The graph then must be constructed with edges based on pairwise distances:"
   ]
  },
  {
   "cell_type": "code",
   "execution_count": null,
   "metadata": {},
   "outputs": [],
   "source": [
    "dts.map_list(\"set_range\", \n",
    "    max_distance=2,\n",
    "    max_neighbours=15,\n",
    "    do_invert_distance=False, \n",
    "    self_loops=False, \n",
    "    exclusive=True\n",
    ")"
   ]
  },
  {
   "cell_type": "code",
   "execution_count": null,
   "metadata": {},
   "outputs": [],
   "source": [
    "dts.obtain_property(\"range_attributes\")"
   ]
  },
  {
   "cell_type": "code",
   "execution_count": null,
   "metadata": {},
   "outputs": [],
   "source": [
    "dts.obtain_property(\"range_indices\")"
   ]
  },
  {
   "cell_type": "markdown",
   "metadata": {},
   "source": [
    "If openbabel is available, the also bond information are given."
   ]
  },
  {
   "cell_type": "code",
   "execution_count": null,
   "metadata": {},
   "outputs": [],
   "source": [
    "dts.obtain_property(\"edge_indices\")"
   ]
  },
  {
   "cell_type": "code",
   "execution_count": null,
   "metadata": {},
   "outputs": [],
   "source": [
    "dts.obtain_property(\"edge_number\")"
   ]
  },
  {
   "cell_type": "code",
   "execution_count": null,
   "metadata": {},
   "outputs": [],
   "source": [
    "# We can also clean the dataset to ensure there are no un-connected graphs or empty arrays.\n",
    "dts.clean(inputs=[\"edge_number\", \"edge_indices\"])"
   ]
  },
  {
   "cell_type": "markdown",
   "metadata": {},
   "source": [
    "Cleaned dataset without empty or zero-length nodes/edges"
   ]
  },
  {
   "cell_type": "code",
   "execution_count": null,
   "metadata": {},
   "outputs": [],
   "source": [
    "dts.obtain_property(\"edge_indices\")"
   ]
  },
  {
   "cell_type": "code",
   "execution_count": null,
   "metadata": {},
   "outputs": [],
   "source": [
    "dts[0]"
   ]
  },
  {
   "cell_type": "markdown",
   "metadata": {},
   "source": [
    "## 5. Extensive scaler"
   ]
  },
  {
   "cell_type": "markdown",
   "metadata": {},
   "source": [
    "For extensive targets like energies, it can be helpful to remove an energy offset which is like a sum of atomization energies. "
   ]
  },
  {
   "cell_type": "code",
   "execution_count": null,
   "metadata": {},
   "outputs": [],
   "source": [
    "from kgcnn.scaler.mol import ExtensiveMolecularScaler"
   ]
  },
  {
   "cell_type": "code",
   "execution_count": null,
   "metadata": {},
   "outputs": [],
   "source": [
    "scaler = ExtensiveMolecularScaler()\n",
    "energies_scaled = scaler.fit_transform(dts.obtain_property(\"node_number\"), dts.obtain_property(\"graph_labels\"))\n",
    "energies_scaled"
   ]
  },
  {
   "cell_type": "code",
   "execution_count": null,
   "metadata": {},
   "outputs": [],
   "source": [
    "scaler._plot_predict(dts.obtain_property(\"node_number\"), dts.obtain_property(\"graph_labels\"))"
   ]
  },
  {
   "cell_type": "code",
   "execution_count": null,
   "metadata": {},
   "outputs": [],
   "source": []
  }
 ],
 "metadata": {
  "kernelspec": {
   "display_name": "Python 3 (ipykernel)",
   "language": "python",
   "name": "python3"
  },
  "language_info": {
   "codemirror_mode": {
    "name": "ipython",
    "version": 3
   },
   "file_extension": ".py",
   "mimetype": "text/x-python",
   "name": "python",
   "nbconvert_exporter": "python",
   "pygments_lexer": "ipython3",
   "version": "3.9.7"
  }
 },
 "nbformat": 4,
 "nbformat_minor": 4
}
