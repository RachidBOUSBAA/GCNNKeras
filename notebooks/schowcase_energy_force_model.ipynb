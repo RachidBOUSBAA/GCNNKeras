{
 "cells": [
  {
   "cell_type": "markdown",
   "id": "8bf28f0c",
   "metadata": {},
   "source": [
    "# Molecular dynamics from NN potentials"
   ]
  },
  {
   "cell_type": "markdown",
   "id": "9c14ef85",
   "metadata": {},
   "source": [
    "## 1. Datset with energy and forces"
   ]
  },
  {
   "cell_type": "code",
   "execution_count": 1,
   "id": "9039a4c8",
   "metadata": {},
   "outputs": [],
   "source": [
    "import numpy as np\n",
    "from kgcnn.data.datasets.MD17RevisedDataset import MD17RevisedDataset"
   ]
  },
  {
   "cell_type": "code",
   "execution_count": 2,
   "id": "968d1d52",
   "metadata": {},
   "outputs": [
    {
     "name": "stderr",
     "output_type": "stream",
     "text": [
      "INFO:kgcnn.data.download:Checking and possibly downloading dataset with name MD17Revised\n",
      "INFO:kgcnn.data.download:Dataset directory located at C:\\Users\\patri\\.kgcnn\\datasets\n",
      "INFO:kgcnn.data.download:Dataset directory found. Done.\n",
      "INFO:kgcnn.data.download:Dataset found. Done.\n",
      "INFO:kgcnn.data.download:Directory for extraction exists. Done.\n",
      "INFO:kgcnn.data.download:Not extracting tar File. Stopped.\n"
     ]
    },
    {
     "name": "stdout",
     "output_type": "stream",
     "text": [
      "Number of steps 100000\n"
     ]
    }
   ],
   "source": [
    "dataset = MD17RevisedDataset(\"aspirin\")\n",
    "print(\"Number of steps\", len(dataset))"
   ]
  },
  {
   "cell_type": "code",
   "execution_count": 3,
   "id": "31504d0a",
   "metadata": {},
   "outputs": [
    {
     "data": {
      "text/plain": [
       "dict_keys(['coords', 'energies', 'forces', 'old_indices', 'old_energies', 'old_forces', 'nuclear_charges', 'range_indices', 'range_attributes'])"
      ]
     },
     "execution_count": 3,
     "metadata": {},
     "output_type": "execute_result"
    }
   ],
   "source": [
    "data = dataset[:500]\n",
    "data.map_list(method=\"set_range\", node_coordinates=\"coords\")\n",
    "data[0].keys()"
   ]
  },
  {
   "cell_type": "code",
   "execution_count": 4,
   "id": "b4fce4b0",
   "metadata": {},
   "outputs": [
    {
     "data": {
      "text/plain": [
       "((500, 1), array([-17469.90164208]))"
      ]
     },
     "execution_count": 4,
     "metadata": {},
     "output_type": "execute_result"
    }
   ],
   "source": [
    "eng = np.expand_dims(data.get(\"energies\"), axis=-1)*0.043  # kcal/mol to eV\n",
    "eng.shape, eng[0]"
   ]
  },
  {
   "cell_type": "code",
   "execution_count": 5,
   "id": "4b0e78fa",
   "metadata": {},
   "outputs": [
    {
     "data": {
      "text/plain": [
       "<tf.Tensor: shape=(21, 3), dtype=float64, numpy=\n",
       "array([[-2.74137341,  2.67700611, -0.75129579],\n",
       "       [-0.90631249, -0.85888416,  2.00726686],\n",
       "       [ 3.08056969, -2.19163918, -0.22727128],\n",
       "       [-0.37739256,  1.81854455, -0.04203819],\n",
       "       [ 0.06849278,  1.909797  ,  0.88471585],\n",
       "       [-0.57261954,  0.14867004, -0.18995724],\n",
       "       [ 0.22410948,  0.77632092, -2.1626258 ],\n",
       "       [-0.33297714, -1.23917868, -0.10066419],\n",
       "       [ 0.52634416,  3.8645722 ,  2.08451895],\n",
       "       [-0.72435461,  1.99949058,  0.7122311 ],\n",
       "       [ 1.25228829, -1.18763783,  0.57869244],\n",
       "       [ 0.61277482, -3.80501328, -2.03832495],\n",
       "       [ 1.67075583, -0.99873548, -0.52365172],\n",
       "       [-0.30834985, -0.53698349,  0.41058368],\n",
       "       [ 1.24551168, -1.9163207 ,  1.40335446],\n",
       "       [ 0.13337422,  0.1260334 , -0.94909162],\n",
       "       [-1.12054561,  0.36520689, -0.17419492],\n",
       "       [-0.46182796,  0.5091511 , -0.24017999],\n",
       "       [-0.29275676, -1.11448041, -0.71522209],\n",
       "       [-0.47046873,  0.30675033, -0.52878298],\n",
       "       [-0.50524218, -0.65266984,  0.56193748]])>"
      ]
     },
     "execution_count": 5,
     "metadata": {},
     "output_type": "execute_result"
    }
   ],
   "source": [
    "forces = data.tensor({\"name\": \"forces\", \"ragged\": True, \"shape\": (None, 3)})*0.043  # kcal/mol to eV\n",
    "atoms = data.get(\"nuclear_charges\")\n",
    "forces[0]"
   ]
  },
  {
   "cell_type": "code",
   "execution_count": 6,
   "id": "44e093c6",
   "metadata": {},
   "outputs": [
    {
     "data": {
      "text/plain": [
       "array([[-0.09150233],\n",
       "       [ 0.09685228],\n",
       "       [-0.32295041]])"
      ]
     },
     "execution_count": 6,
     "metadata": {},
     "output_type": "execute_result"
    }
   ],
   "source": [
    "from kgcnn.data.transform.scaler.force import EnergyForceExtensiveLabelScaler\n",
    "scaler = EnergyForceExtensiveLabelScaler(standardize_coordinates=False, standardize_scale=False)  # For testing no scale.\n",
    "eng, _ = scaler.fit_transform(X=None, y=eng, force=forces, atomic_number=atoms)\n",
    "eng[:3]"
   ]
  },
  {
   "cell_type": "markdown",
   "id": "8970c9a2",
   "metadata": {},
   "source": [
    "## 2. `EnergyForceModel` container"
   ]
  },
  {
   "cell_type": "code",
   "execution_count": 7,
   "id": "a4e73b9b",
   "metadata": {},
   "outputs": [],
   "source": [
    "from kgcnn.model.force import EnergyForceModel"
   ]
  },
  {
   "cell_type": "code",
   "execution_count": 8,
   "id": "893c1b09",
   "metadata": {},
   "outputs": [
    {
     "name": "stderr",
     "output_type": "stream",
     "text": [
      "INFO:kgcnn.model.utils:Updated model kwargs:\n",
      "INFO:kgcnn.model.utils:{'name': 'Schnet', 'inputs': ListWrapper([DictWrapper({'shape': (None,), 'name': 'nuclear_charges', 'dtype': 'float32', 'ragged': True}), DictWrapper({'shape': (None, 3), 'name': 'coords', 'dtype': 'float32', 'ragged': True}), DictWrapper({'shape': (None, 2), 'name': 'range_indices', 'dtype': 'int64', 'ragged': True})]), 'input_embedding': {'node': {'input_dim': 95, 'output_dim': 64}}, 'make_distance': True, 'expand_distance': True, 'interaction_args': {'units': 128, 'use_bias': True, 'activation': 'kgcnn>shifted_softplus', 'cfconv_pool': 'sum'}, 'node_pooling_args': {'pooling_method': 'sum'}, 'depth': 4, 'gauss_args': {'bins': 20, 'distance': 4, 'offset': 0.0, 'sigma': 0.4}, 'verbose': 10, 'last_mlp': {'use_bias': ListWrapper([True, True]), 'units': ListWrapper([128, 64]), 'activation': ListWrapper(['kgcnn>shifted_softplus', 'kgcnn>shifted_softplus'])}, 'output_embedding': 'graph', 'output_to_tensor': True, 'use_output_mlp': True, 'output_mlp': {'use_bias': ListWrapper([True, True]), 'units': ListWrapper([64, 1]), 'activation': ListWrapper(['kgcnn>shifted_softplus', 'linear'])}}\n"
     ]
    }
   ],
   "source": [
    "model_config = {\n",
    "    \"model_energy\":{\n",
    "        \"module_name\": \"kgcnn.literature.Schnet\", \n",
    "        \"class_name\":\"make_model\", \n",
    "        \"config\":{\n",
    "            \"name\": \"Schnet\",\n",
    "            \"inputs\": [{\"shape\": (None,), \"name\": \"nuclear_charges\", \"dtype\": \"float32\", \"ragged\": True},\n",
    "                       {\"shape\": (None, 3), \"name\": \"coords\", \"dtype\": \"float32\", \"ragged\": True},\n",
    "                       {\"shape\": (None, 2), \"name\": \"range_indices\", \"dtype\": \"int64\", \"ragged\": True}],\n",
    "            \"input_embedding\": {\"node\": {\"input_dim\": 95, \"output_dim\": 64}},\n",
    "            \"make_distance\": True, \"expand_distance\": True,\n",
    "            \"interaction_args\": {\"units\": 128, \"use_bias\": True,\n",
    "                                 \"activation\": \"kgcnn>shifted_softplus\", \"cfconv_pool\": \"sum\"},\n",
    "            \"node_pooling_args\": {\"pooling_method\": \"sum\"},\n",
    "            \"depth\": 4,\n",
    "            \"gauss_args\": {\"bins\": 20, \"distance\": 4, \"offset\": 0.0, \"sigma\": 0.4},\n",
    "            \"verbose\": 10,\n",
    "            \"last_mlp\": {\"use_bias\": [True, True], \"units\": [128, 64],\n",
    "                         \"activation\": [\"kgcnn>shifted_softplus\", \"kgcnn>shifted_softplus\"]},\n",
    "            \"output_embedding\": \"graph\", \"output_to_tensor\": True,\n",
    "            \"use_output_mlp\": True,\n",
    "            \"output_mlp\": {\"use_bias\": [True, True], \"units\": [64, 1],\n",
    "                           \"activation\": [\"kgcnn>shifted_softplus\", \"linear\"]}}\n",
    "    },\n",
    "    \"output_as_dict\":True,\n",
    "    \"output_to_tensor\":False,\n",
    "    \"output_squeeze_states\":True,\n",
    "}\n",
    "model = EnergyForceModel(**model_config)"
   ]
  },
  {
   "cell_type": "code",
   "execution_count": 9,
   "id": "95618ef0",
   "metadata": {},
   "outputs": [
    {
     "name": "stdout",
     "output_type": "stream",
     "text": [
      "[TensorShape([500, None]), TensorShape([500, None, 3]), TensorShape([500, None, 2])]\n"
     ]
    }
   ],
   "source": [
    "x_tensor = data.tensor(model_config[\"model_energy\"][\"config\"][\"inputs\"])\n",
    "print([x.shape for x in x_tensor])"
   ]
  },
  {
   "cell_type": "code",
   "execution_count": 10,
   "id": "4c51344b",
   "metadata": {},
   "outputs": [
    {
     "name": "stderr",
     "output_type": "stream",
     "text": [
      "C:\\Users\\patri\\anaconda3\\envs\\gcnn_keras_test\\lib\\site-packages\\tensorflow\\python\\framework\\indexed_slices.py:444: UserWarning: Converting sparse IndexedSlices(IndexedSlices(indices=Tensor(\"gradient_tape/energy_force_model/model/sch_net_interaction_3/sch_net_c_fconv_3/pooling_local_edges_3/Reshape_1:0\", shape=(None,), dtype=int32), values=Tensor(\"gradient_tape/energy_force_model/model/sch_net_interaction_3/sch_net_c_fconv_3/pooling_local_edges_3/Reshape:0\", shape=(None, 128), dtype=float32), dense_shape=Tensor(\"gradient_tape/energy_force_model/model/sch_net_interaction_3/sch_net_c_fconv_3/pooling_local_edges_3/Cast:0\", shape=(2,), dtype=int32))) to a dense Tensor of unknown shape. This may consume a large amount of memory.\n",
      "  warnings.warn(\n",
      "C:\\Users\\patri\\anaconda3\\envs\\gcnn_keras_test\\lib\\site-packages\\tensorflow\\python\\framework\\indexed_slices.py:444: UserWarning: Converting sparse IndexedSlices(IndexedSlices(indices=Tensor(\"gradient_tape/energy_force_model/model/sch_net_interaction_3/sch_net_c_fconv_3/gather_nodes_outgoing_3/Reshape_1:0\", shape=(None,), dtype=int64), values=Tensor(\"gradient_tape/energy_force_model/model/sch_net_interaction_3/sch_net_c_fconv_3/gather_nodes_outgoing_3/Reshape:0\", shape=(None, 128), dtype=float32), dense_shape=Tensor(\"gradient_tape/energy_force_model/model/sch_net_interaction_3/sch_net_c_fconv_3/gather_nodes_outgoing_3/Cast:0\", shape=(2,), dtype=int32))) to a dense Tensor of unknown shape. This may consume a large amount of memory.\n",
      "  warnings.warn(\n",
      "C:\\Users\\patri\\anaconda3\\envs\\gcnn_keras_test\\lib\\site-packages\\tensorflow\\python\\framework\\indexed_slices.py:444: UserWarning: Converting sparse IndexedSlices(IndexedSlices(indices=Tensor(\"gradient_tape/energy_force_model/model/sch_net_interaction_2/sch_net_c_fconv_2/pooling_local_edges_2/Reshape_1:0\", shape=(None,), dtype=int32), values=Tensor(\"gradient_tape/energy_force_model/model/sch_net_interaction_2/sch_net_c_fconv_2/pooling_local_edges_2/Reshape:0\", shape=(None, 128), dtype=float32), dense_shape=Tensor(\"gradient_tape/energy_force_model/model/sch_net_interaction_2/sch_net_c_fconv_2/pooling_local_edges_2/Cast:0\", shape=(2,), dtype=int32))) to a dense Tensor of unknown shape. This may consume a large amount of memory.\n",
      "  warnings.warn(\n",
      "C:\\Users\\patri\\anaconda3\\envs\\gcnn_keras_test\\lib\\site-packages\\tensorflow\\python\\framework\\indexed_slices.py:444: UserWarning: Converting sparse IndexedSlices(IndexedSlices(indices=Tensor(\"gradient_tape/energy_force_model/model/sch_net_interaction_2/sch_net_c_fconv_2/gather_nodes_outgoing_2/Reshape_1:0\", shape=(None,), dtype=int64), values=Tensor(\"gradient_tape/energy_force_model/model/sch_net_interaction_2/sch_net_c_fconv_2/gather_nodes_outgoing_2/Reshape:0\", shape=(None, 128), dtype=float32), dense_shape=Tensor(\"gradient_tape/energy_force_model/model/sch_net_interaction_2/sch_net_c_fconv_2/gather_nodes_outgoing_2/Cast:0\", shape=(2,), dtype=int32))) to a dense Tensor of unknown shape. This may consume a large amount of memory.\n",
      "  warnings.warn(\n",
      "C:\\Users\\patri\\anaconda3\\envs\\gcnn_keras_test\\lib\\site-packages\\tensorflow\\python\\framework\\indexed_slices.py:444: UserWarning: Converting sparse IndexedSlices(IndexedSlices(indices=Tensor(\"gradient_tape/energy_force_model/model/sch_net_interaction_1/sch_net_c_fconv_1/pooling_local_edges_1/Reshape_1:0\", shape=(None,), dtype=int32), values=Tensor(\"gradient_tape/energy_force_model/model/sch_net_interaction_1/sch_net_c_fconv_1/pooling_local_edges_1/Reshape:0\", shape=(None, 128), dtype=float32), dense_shape=Tensor(\"gradient_tape/energy_force_model/model/sch_net_interaction_1/sch_net_c_fconv_1/pooling_local_edges_1/Cast:0\", shape=(2,), dtype=int32))) to a dense Tensor of unknown shape. This may consume a large amount of memory.\n",
      "  warnings.warn(\n",
      "C:\\Users\\patri\\anaconda3\\envs\\gcnn_keras_test\\lib\\site-packages\\tensorflow\\python\\framework\\indexed_slices.py:444: UserWarning: Converting sparse IndexedSlices(IndexedSlices(indices=Tensor(\"gradient_tape/energy_force_model/model/sch_net_interaction_1/sch_net_c_fconv_1/gather_nodes_outgoing_1/Reshape_1:0\", shape=(None,), dtype=int64), values=Tensor(\"gradient_tape/energy_force_model/model/sch_net_interaction_1/sch_net_c_fconv_1/gather_nodes_outgoing_1/Reshape:0\", shape=(None, 128), dtype=float32), dense_shape=Tensor(\"gradient_tape/energy_force_model/model/sch_net_interaction_1/sch_net_c_fconv_1/gather_nodes_outgoing_1/Cast:0\", shape=(2,), dtype=int32))) to a dense Tensor of unknown shape. This may consume a large amount of memory.\n",
      "  warnings.warn(\n",
      "C:\\Users\\patri\\anaconda3\\envs\\gcnn_keras_test\\lib\\site-packages\\tensorflow\\python\\framework\\indexed_slices.py:444: UserWarning: Converting sparse IndexedSlices(IndexedSlices(indices=Tensor(\"gradient_tape/energy_force_model/model/sch_net_interaction/sch_net_c_fconv/pooling_local_edges/Reshape_1:0\", shape=(None,), dtype=int32), values=Tensor(\"gradient_tape/energy_force_model/model/sch_net_interaction/sch_net_c_fconv/pooling_local_edges/Reshape:0\", shape=(None, 128), dtype=float32), dense_shape=Tensor(\"gradient_tape/energy_force_model/model/sch_net_interaction/sch_net_c_fconv/pooling_local_edges/Cast:0\", shape=(2,), dtype=int32))) to a dense Tensor of unknown shape. This may consume a large amount of memory.\n",
      "  warnings.warn(\n",
      "C:\\Users\\patri\\anaconda3\\envs\\gcnn_keras_test\\lib\\site-packages\\tensorflow\\python\\framework\\indexed_slices.py:444: UserWarning: Converting sparse IndexedSlices(IndexedSlices(indices=Tensor(\"gradient_tape/energy_force_model/model/sch_net_interaction/sch_net_c_fconv/gather_nodes_outgoing/Reshape_1:0\", shape=(None,), dtype=int64), values=Tensor(\"gradient_tape/energy_force_model/model/sch_net_interaction/sch_net_c_fconv/gather_nodes_outgoing/Reshape:0\", shape=(None, 128), dtype=float32), dense_shape=Tensor(\"gradient_tape/energy_force_model/model/sch_net_interaction/sch_net_c_fconv/gather_nodes_outgoing/Cast:0\", shape=(2,), dtype=int32))) to a dense Tensor of unknown shape. This may consume a large amount of memory.\n",
      "  warnings.warn(\n",
      "C:\\Users\\patri\\anaconda3\\envs\\gcnn_keras_test\\lib\\site-packages\\tensorflow\\python\\framework\\indexed_slices.py:444: UserWarning: Converting sparse IndexedSlices(IndexedSlices(indices=Tensor(\"energy_force_model/loop_body/concat_1:0\", shape=(None,), dtype=int64), values=Tensor(\"energy_force_model/loop_body/concat:0\", shape=(None, 3), dtype=float32), dense_shape=Tensor(\"gradient_tape/energy_force_model/model/node_position/gather_embedding_selection/Cast:0\", shape=(2,), dtype=int32))) to a dense Tensor of unknown shape. This may consume a large amount of memory.\n",
      "  warnings.warn(\n"
     ]
    },
    {
     "name": "stdout",
     "output_type": "stream",
     "text": [
      "16/16 [==============================] - 6s 54ms/step\n"
     ]
    }
   ],
   "source": [
    "test_out = model.predict(x_tensor)"
   ]
  },
  {
   "cell_type": "code",
   "execution_count": 11,
   "id": "c031e38b",
   "metadata": {},
   "outputs": [
    {
     "data": {
      "text/plain": [
       "[(500, 1), TensorShape([500, None, 3])]"
      ]
     },
     "execution_count": 11,
     "metadata": {},
     "output_type": "execute_result"
    }
   ],
   "source": [
    "[i.shape for i in test_out.values()]"
   ]
  },
  {
   "cell_type": "code",
   "execution_count": 12,
   "id": "9d43121c",
   "metadata": {},
   "outputs": [],
   "source": [
    "from kgcnn.metrics.loss import RaggedMeanAbsoluteError\n",
    "from tensorflow.keras.optimizers import Adam"
   ]
  },
  {
   "cell_type": "code",
   "execution_count": 13,
   "id": "654166f5",
   "metadata": {},
   "outputs": [],
   "source": [
    "model.compile(\n",
    "    loss={\"energy\": \"mean_absolute_error\", \"force\": RaggedMeanAbsoluteError()},\n",
    "    optimizer=Adam(learning_rate=5e-04),\n",
    "    metrics=None,\n",
    "    loss_weights=[1, 20],\n",
    ")"
   ]
  },
  {
   "cell_type": "code",
   "execution_count": null,
   "id": "4747a58b",
   "metadata": {},
   "outputs": [
    {
     "name": "stdout",
     "output_type": "stream",
     "text": [
      "Epoch 1/1500\n"
     ]
    },
    {
     "name": "stderr",
     "output_type": "stream",
     "text": [
      "C:\\Users\\patri\\anaconda3\\envs\\gcnn_keras_test\\lib\\site-packages\\tensorflow\\python\\framework\\indexed_slices.py:444: UserWarning: Converting sparse IndexedSlices(IndexedSlices(indices=Tensor(\"gradient_tape/energy_force_model/model/sch_net_interaction_3/sch_net_c_fconv_3/pooling_local_edges_3/Reshape_3:0\", shape=(None,), dtype=int32), values=Tensor(\"gradient_tape/energy_force_model/model/sch_net_interaction_3/sch_net_c_fconv_3/pooling_local_edges_3/Reshape_2:0\", shape=(None, 128), dtype=float32), dense_shape=Tensor(\"gradient_tape/energy_force_model/model/sch_net_interaction_3/sch_net_c_fconv_3/pooling_local_edges_3/Cast_1:0\", shape=(2,), dtype=int32))) to a dense Tensor of unknown shape. This may consume a large amount of memory.\n",
      "  warnings.warn(\n",
      "C:\\Users\\patri\\anaconda3\\envs\\gcnn_keras_test\\lib\\site-packages\\tensorflow\\python\\framework\\indexed_slices.py:444: UserWarning: Converting sparse IndexedSlices(IndexedSlices(indices=Tensor(\"gradient_tape/energy_force_model/model/sch_net_interaction_3/sch_net_c_fconv_3/gather_nodes_outgoing_3/Reshape_3:0\", shape=(None,), dtype=int64), values=Tensor(\"gradient_tape/energy_force_model/model/sch_net_interaction_3/sch_net_c_fconv_3/gather_nodes_outgoing_3/Reshape_2:0\", shape=(None, 128), dtype=float32), dense_shape=Tensor(\"gradient_tape/energy_force_model/model/sch_net_interaction_3/sch_net_c_fconv_3/gather_nodes_outgoing_3/Cast_1:0\", shape=(2,), dtype=int32))) to a dense Tensor of unknown shape. This may consume a large amount of memory.\n",
      "  warnings.warn(\n",
      "C:\\Users\\patri\\anaconda3\\envs\\gcnn_keras_test\\lib\\site-packages\\tensorflow\\python\\framework\\indexed_slices.py:444: UserWarning: Converting sparse IndexedSlices(IndexedSlices(indices=Tensor(\"gradient_tape/energy_force_model/model/sch_net_interaction_2/sch_net_c_fconv_2/pooling_local_edges_2/Reshape_3:0\", shape=(None,), dtype=int32), values=Tensor(\"gradient_tape/energy_force_model/model/sch_net_interaction_2/sch_net_c_fconv_2/pooling_local_edges_2/Reshape_2:0\", shape=(None, 128), dtype=float32), dense_shape=Tensor(\"gradient_tape/energy_force_model/model/sch_net_interaction_2/sch_net_c_fconv_2/pooling_local_edges_2/Cast_1:0\", shape=(2,), dtype=int32))) to a dense Tensor of unknown shape. This may consume a large amount of memory.\n",
      "  warnings.warn(\n",
      "C:\\Users\\patri\\anaconda3\\envs\\gcnn_keras_test\\lib\\site-packages\\tensorflow\\python\\framework\\indexed_slices.py:444: UserWarning: Converting sparse IndexedSlices(IndexedSlices(indices=Tensor(\"gradient_tape/energy_force_model/model/sch_net_interaction_2/sch_net_c_fconv_2/gather_nodes_outgoing_2/Reshape_3:0\", shape=(None,), dtype=int64), values=Tensor(\"gradient_tape/energy_force_model/model/sch_net_interaction_2/sch_net_c_fconv_2/gather_nodes_outgoing_2/Reshape_2:0\", shape=(None, 128), dtype=float32), dense_shape=Tensor(\"gradient_tape/energy_force_model/model/sch_net_interaction_2/sch_net_c_fconv_2/gather_nodes_outgoing_2/Cast_1:0\", shape=(2,), dtype=int32))) to a dense Tensor of unknown shape. This may consume a large amount of memory.\n",
      "  warnings.warn(\n",
      "C:\\Users\\patri\\anaconda3\\envs\\gcnn_keras_test\\lib\\site-packages\\tensorflow\\python\\framework\\indexed_slices.py:444: UserWarning: Converting sparse IndexedSlices(IndexedSlices(indices=Tensor(\"gradient_tape/energy_force_model/model/sch_net_interaction_1/sch_net_c_fconv_1/pooling_local_edges_1/Reshape_3:0\", shape=(None,), dtype=int32), values=Tensor(\"gradient_tape/energy_force_model/model/sch_net_interaction_1/sch_net_c_fconv_1/pooling_local_edges_1/Reshape_2:0\", shape=(None, 128), dtype=float32), dense_shape=Tensor(\"gradient_tape/energy_force_model/model/sch_net_interaction_1/sch_net_c_fconv_1/pooling_local_edges_1/Cast_1:0\", shape=(2,), dtype=int32))) to a dense Tensor of unknown shape. This may consume a large amount of memory.\n",
      "  warnings.warn(\n",
      "C:\\Users\\patri\\anaconda3\\envs\\gcnn_keras_test\\lib\\site-packages\\tensorflow\\python\\framework\\indexed_slices.py:444: UserWarning: Converting sparse IndexedSlices(IndexedSlices(indices=Tensor(\"gradient_tape/energy_force_model/model/sch_net_interaction_1/sch_net_c_fconv_1/gather_nodes_outgoing_1/Reshape_3:0\", shape=(None,), dtype=int64), values=Tensor(\"gradient_tape/energy_force_model/model/sch_net_interaction_1/sch_net_c_fconv_1/gather_nodes_outgoing_1/Reshape_2:0\", shape=(None, 128), dtype=float32), dense_shape=Tensor(\"gradient_tape/energy_force_model/model/sch_net_interaction_1/sch_net_c_fconv_1/gather_nodes_outgoing_1/Cast_1:0\", shape=(2,), dtype=int32))) to a dense Tensor of unknown shape. This may consume a large amount of memory.\n",
      "  warnings.warn(\n",
      "C:\\Users\\patri\\anaconda3\\envs\\gcnn_keras_test\\lib\\site-packages\\tensorflow\\python\\framework\\indexed_slices.py:444: UserWarning: Converting sparse IndexedSlices(IndexedSlices(indices=Tensor(\"gradient_tape/energy_force_model/model/sch_net_interaction/sch_net_c_fconv/pooling_local_edges/Reshape_3:0\", shape=(None,), dtype=int32), values=Tensor(\"gradient_tape/energy_force_model/model/sch_net_interaction/sch_net_c_fconv/pooling_local_edges/Reshape_2:0\", shape=(None, 128), dtype=float32), dense_shape=Tensor(\"gradient_tape/energy_force_model/model/sch_net_interaction/sch_net_c_fconv/pooling_local_edges/Cast_1:0\", shape=(2,), dtype=int32))) to a dense Tensor of unknown shape. This may consume a large amount of memory.\n",
      "  warnings.warn(\n",
      "C:\\Users\\patri\\anaconda3\\envs\\gcnn_keras_test\\lib\\site-packages\\tensorflow\\python\\framework\\indexed_slices.py:444: UserWarning: Converting sparse IndexedSlices(IndexedSlices(indices=Tensor(\"gradient_tape/energy_force_model/model/sch_net_interaction/sch_net_c_fconv/gather_nodes_outgoing/Reshape_3:0\", shape=(None,), dtype=int64), values=Tensor(\"gradient_tape/energy_force_model/model/sch_net_interaction/sch_net_c_fconv/gather_nodes_outgoing/Reshape_2:0\", shape=(None, 128), dtype=float32), dense_shape=Tensor(\"gradient_tape/energy_force_model/model/sch_net_interaction/sch_net_c_fconv/gather_nodes_outgoing/Cast_1:0\", shape=(2,), dtype=int32))) to a dense Tensor of unknown shape. This may consume a large amount of memory.\n",
      "  warnings.warn(\n"
     ]
    },
    {
     "name": "stdout",
     "output_type": "stream",
     "text": [
      "8/8 - 11s - loss: 18.9493 - energy_loss: 0.2303 - force_loss: 0.9360 - 11s/epoch - 1s/step\n",
      "Epoch 2/1500\n",
      "8/8 - 1s - loss: 18.9188 - energy_loss: 0.2099 - force_loss: 0.9354 - 587ms/epoch - 73ms/step\n",
      "Epoch 3/1500\n",
      "8/8 - 1s - loss: 18.8831 - energy_loss: 0.2150 - force_loss: 0.9334 - 592ms/epoch - 74ms/step\n",
      "Epoch 4/1500\n",
      "8/8 - 1s - loss: 18.7143 - energy_loss: 0.2488 - force_loss: 0.9233 - 584ms/epoch - 73ms/step\n",
      "Epoch 5/1500\n",
      "8/8 - 1s - loss: 18.5554 - energy_loss: 0.4021 - force_loss: 0.9077 - 583ms/epoch - 73ms/step\n",
      "Epoch 6/1500\n",
      "8/8 - 1s - loss: 18.1943 - energy_loss: 0.3454 - force_loss: 0.8924 - 583ms/epoch - 73ms/step\n",
      "Epoch 7/1500\n",
      "8/8 - 1s - loss: 17.7579 - energy_loss: 0.6452 - force_loss: 0.8556 - 582ms/epoch - 73ms/step\n",
      "Epoch 8/1500\n",
      "8/8 - 1s - loss: 16.9282 - energy_loss: 0.6940 - force_loss: 0.8117 - 583ms/epoch - 73ms/step\n",
      "Epoch 9/1500\n",
      "8/8 - 1s - loss: 19.1140 - energy_loss: 2.9005 - force_loss: 0.8107 - 585ms/epoch - 73ms/step\n",
      "Epoch 10/1500\n",
      "8/8 - 1s - loss: 18.1483 - energy_loss: 0.8212 - force_loss: 0.8664 - 580ms/epoch - 72ms/step\n",
      "Epoch 11/1500\n",
      "8/8 - 1s - loss: 17.7699 - energy_loss: 0.6083 - force_loss: 0.8581 - 582ms/epoch - 73ms/step\n",
      "Epoch 12/1500\n",
      "8/8 - 1s - loss: 16.1740 - energy_loss: 0.5566 - force_loss: 0.7809 - 575ms/epoch - 72ms/step\n",
      "Epoch 13/1500\n",
      "8/8 - 1s - loss: 15.8127 - energy_loss: 1.2852 - force_loss: 0.7264 - 579ms/epoch - 72ms/step\n",
      "Epoch 14/1500\n",
      "8/8 - 1s - loss: 14.9153 - energy_loss: 1.0376 - force_loss: 0.6939 - 580ms/epoch - 72ms/step\n",
      "Epoch 15/1500\n",
      "8/8 - 1s - loss: 14.2037 - energy_loss: 1.1433 - force_loss: 0.6530 - 574ms/epoch - 72ms/step\n",
      "Epoch 16/1500\n",
      "8/8 - 1s - loss: 14.6255 - energy_loss: 2.0711 - force_loss: 0.6277 - 574ms/epoch - 72ms/step\n",
      "Epoch 17/1500\n",
      "8/8 - 1s - loss: 14.3514 - energy_loss: 2.4687 - force_loss: 0.5941 - 575ms/epoch - 72ms/step\n",
      "Epoch 18/1500\n",
      "8/8 - 1s - loss: 12.6812 - energy_loss: 1.6296 - force_loss: 0.5526 - 573ms/epoch - 72ms/step\n",
      "Epoch 19/1500\n",
      "8/8 - 1s - loss: 12.8904 - energy_loss: 1.9131 - force_loss: 0.5489 - 578ms/epoch - 72ms/step\n",
      "Epoch 20/1500\n",
      "8/8 - 1s - loss: 11.5737 - energy_loss: 1.1328 - force_loss: 0.5220 - 577ms/epoch - 72ms/step\n",
      "Epoch 21/1500\n",
      "8/8 - 1s - loss: 10.7288 - energy_loss: 0.6077 - force_loss: 0.5061 - 580ms/epoch - 72ms/step\n",
      "Epoch 22/1500\n",
      "8/8 - 1s - loss: 10.4542 - energy_loss: 0.6484 - force_loss: 0.4903 - 573ms/epoch - 72ms/step\n",
      "Epoch 23/1500\n",
      "8/8 - 1s - loss: 10.9672 - energy_loss: 1.3183 - force_loss: 0.4824 - 579ms/epoch - 72ms/step\n",
      "Epoch 24/1500\n",
      "8/8 - 1s - loss: 10.0117 - energy_loss: 0.5796 - force_loss: 0.4716 - 576ms/epoch - 72ms/step\n",
      "Epoch 25/1500\n",
      "8/8 - 1s - loss: 9.8257 - energy_loss: 0.5811 - force_loss: 0.4622 - 584ms/epoch - 73ms/step\n",
      "Epoch 26/1500\n",
      "8/8 - 1s - loss: 9.5130 - energy_loss: 0.5033 - force_loss: 0.4505 - 570ms/epoch - 71ms/step\n",
      "Epoch 27/1500\n",
      "8/8 - 1s - loss: 9.3240 - energy_loss: 0.5185 - force_loss: 0.4403 - 575ms/epoch - 72ms/step\n",
      "Epoch 28/1500\n",
      "8/8 - 1s - loss: 9.2765 - energy_loss: 0.6285 - force_loss: 0.4324 - 582ms/epoch - 73ms/step\n",
      "Epoch 29/1500\n",
      "8/8 - 1s - loss: 9.1223 - energy_loss: 0.5939 - force_loss: 0.4264 - 604ms/epoch - 75ms/step\n",
      "Epoch 30/1500\n",
      "8/8 - 1s - loss: 9.5186 - energy_loss: 1.1268 - force_loss: 0.4196 - 580ms/epoch - 72ms/step\n",
      "Epoch 31/1500\n",
      "8/8 - 1s - loss: 8.7387 - energy_loss: 0.5278 - force_loss: 0.4105 - 584ms/epoch - 73ms/step\n",
      "Epoch 32/1500\n",
      "8/8 - 1s - loss: 8.6870 - energy_loss: 0.5893 - force_loss: 0.4049 - 581ms/epoch - 73ms/step\n",
      "Epoch 33/1500\n",
      "8/8 - 1s - loss: 9.0266 - energy_loss: 1.0876 - force_loss: 0.3970 - 565ms/epoch - 71ms/step\n",
      "Epoch 34/1500\n",
      "8/8 - 1s - loss: 10.2679 - energy_loss: 2.1796 - force_loss: 0.4044 - 579ms/epoch - 72ms/step\n",
      "Epoch 35/1500\n",
      "8/8 - 1s - loss: 10.0422 - energy_loss: 1.9217 - force_loss: 0.4060 - 599ms/epoch - 75ms/step\n",
      "Epoch 36/1500\n",
      "8/8 - 1s - loss: 10.3787 - energy_loss: 2.1906 - force_loss: 0.4094 - 579ms/epoch - 72ms/step\n",
      "Epoch 37/1500\n",
      "8/8 - 1s - loss: 9.5210 - energy_loss: 0.8450 - force_loss: 0.4338 - 578ms/epoch - 72ms/step\n",
      "Epoch 38/1500\n",
      "8/8 - 1s - loss: 9.6865 - energy_loss: 0.9231 - force_loss: 0.4382 - 584ms/epoch - 73ms/step\n",
      "Epoch 39/1500\n",
      "8/8 - 1s - loss: 8.7262 - energy_loss: 0.5996 - force_loss: 0.4063 - 581ms/epoch - 73ms/step\n",
      "Epoch 40/1500\n",
      "8/8 - 1s - loss: 9.5311 - energy_loss: 1.6067 - force_loss: 0.3962 - 576ms/epoch - 72ms/step\n",
      "Epoch 41/1500\n",
      "8/8 - 1s - loss: 8.1922 - energy_loss: 0.4829 - force_loss: 0.3855 - 573ms/epoch - 72ms/step\n",
      "Epoch 42/1500\n",
      "8/8 - 1s - loss: 7.9808 - energy_loss: 0.4586 - force_loss: 0.3761 - 583ms/epoch - 73ms/step\n",
      "Epoch 43/1500\n",
      "8/8 - 1s - loss: 7.7107 - energy_loss: 0.3878 - force_loss: 0.3661 - 580ms/epoch - 72ms/step\n",
      "Epoch 44/1500\n",
      "8/8 - 1s - loss: 7.6334 - energy_loss: 0.4316 - force_loss: 0.3601 - 579ms/epoch - 72ms/step\n",
      "Epoch 45/1500\n",
      "8/8 - 1s - loss: 7.4943 - energy_loss: 0.3786 - force_loss: 0.3558 - 572ms/epoch - 72ms/step\n",
      "Epoch 46/1500\n",
      "8/8 - 1s - loss: 8.1066 - energy_loss: 0.9857 - force_loss: 0.3560 - 571ms/epoch - 71ms/step\n",
      "Epoch 47/1500\n",
      "8/8 - 1s - loss: 8.4974 - energy_loss: 1.0607 - force_loss: 0.3718 - 572ms/epoch - 71ms/step\n",
      "Epoch 48/1500\n",
      "8/8 - 1s - loss: 8.2539 - energy_loss: 1.0824 - force_loss: 0.3586 - 575ms/epoch - 72ms/step\n",
      "Epoch 49/1500\n",
      "8/8 - 1s - loss: 8.7752 - energy_loss: 1.5612 - force_loss: 0.3607 - 638ms/epoch - 80ms/step\n",
      "Epoch 50/1500\n",
      "8/8 - 1s - loss: 8.2483 - energy_loss: 1.0709 - force_loss: 0.3589 - 606ms/epoch - 76ms/step\n",
      "Epoch 51/1500\n",
      "8/8 - 1s - loss: 7.8256 - energy_loss: 0.8153 - force_loss: 0.3505 - 596ms/epoch - 74ms/step\n",
      "Epoch 52/1500\n",
      "8/8 - 1s - loss: 8.7449 - energy_loss: 1.7446 - force_loss: 0.3500 - 574ms/epoch - 72ms/step\n",
      "Epoch 53/1500\n",
      "8/8 - 1s - loss: 9.7488 - energy_loss: 2.4194 - force_loss: 0.3665 - 573ms/epoch - 72ms/step\n",
      "Epoch 54/1500\n",
      "8/8 - 1s - loss: 9.4736 - energy_loss: 1.8163 - force_loss: 0.3829 - 572ms/epoch - 71ms/step\n",
      "Epoch 55/1500\n",
      "8/8 - 1s - loss: 8.0557 - energy_loss: 0.6255 - force_loss: 0.3715 - 569ms/epoch - 71ms/step\n",
      "Epoch 56/1500\n",
      "8/8 - 1s - loss: 7.7591 - energy_loss: 0.7512 - force_loss: 0.3504 - 593ms/epoch - 74ms/step\n",
      "Epoch 57/1500\n",
      "8/8 - 1s - loss: 7.2733 - energy_loss: 0.5097 - force_loss: 0.3382 - 580ms/epoch - 72ms/step\n",
      "Epoch 58/1500\n",
      "8/8 - 1s - loss: 6.9301 - energy_loss: 0.3642 - force_loss: 0.3283 - 595ms/epoch - 74ms/step\n",
      "Epoch 59/1500\n",
      "8/8 - 1s - loss: 6.9685 - energy_loss: 0.4985 - force_loss: 0.3235 - 582ms/epoch - 73ms/step\n",
      "Epoch 60/1500\n",
      "8/8 - 1s - loss: 7.4190 - energy_loss: 0.8632 - force_loss: 0.3278 - 594ms/epoch - 74ms/step\n",
      "Epoch 61/1500\n"
     ]
    }
   ],
   "source": [
    "hist = model.fit(\n",
    "    x_tensor, {\"energy\": eng, \"force\": forces},\n",
    "    shuffle=True,\n",
    "    batch_size=64,\n",
    "    epochs=1500,\n",
    "    verbose=2,\n",
    ")"
   ]
  },
  {
   "cell_type": "code",
   "execution_count": null,
   "id": "e312e998",
   "metadata": {},
   "outputs": [],
   "source": [
    "from kgcnn.utils.plots import plot_train_test_loss"
   ]
  },
  {
   "cell_type": "code",
   "execution_count": null,
   "id": "1370f095",
   "metadata": {},
   "outputs": [],
   "source": [
    "plot_train_test_loss([hist]);"
   ]
  },
  {
   "cell_type": "markdown",
   "id": "8d0a0440",
   "metadata": {},
   "source": [
    "## 3. `MolDynamicsModelPredictor` wrapping pre- and postprocessing"
   ]
  },
  {
   "cell_type": "code",
   "execution_count": null,
   "id": "957e8025",
   "metadata": {},
   "outputs": [],
   "source": [
    "from kgcnn.moldyn.base import MolDynamicsModelPredictor\n",
    "from kgcnn.graph.postprocessor import ExtensiveEnergyForceScalerPostprocessor\n",
    "from kgcnn.graph.preprocessor import SetRange"
   ]
  },
  {
   "cell_type": "code",
   "execution_count": null,
   "id": "a239c889",
   "metadata": {},
   "outputs": [],
   "source": [
    "dyn_model = MolDynamicsModelPredictor(\n",
    "    model=model, \n",
    "    model_inputs=model_config[\"model_energy\"][\"config\"][\"inputs\"], \n",
    "    model_outputs={\"energy\":\"energy\", \"forces\": \"force\"},\n",
    "    graph_preprocessors=[SetRange(node_coordinates= \"coords\")],\n",
    "    model_postprocessors=[\n",
    "        ExtensiveEnergyForceScalerPostprocessor(\n",
    "            scaler, force=\"forces\", atomic_number=\"nuclear_charges\")]\n",
    ")"
   ]
  },
  {
   "cell_type": "code",
   "execution_count": null,
   "id": "9f62e23f",
   "metadata": {},
   "outputs": [],
   "source": [
    "dyn_model(dataset[0:510])[0]"
   ]
  },
  {
   "cell_type": "markdown",
   "id": "ecd94305",
   "metadata": {},
   "source": [
    "## 4. Use ASE compatible `KgcnnSingleCalculator`"
   ]
  },
  {
   "cell_type": "code",
   "execution_count": null,
   "id": "c78027e9",
   "metadata": {},
   "outputs": [],
   "source": [
    "from ase import Atoms\n",
    "from kgcnn.mdyn.ase_calc import KgcnnSingleCalculator, AtomsToGraphConverter"
   ]
  },
  {
   "cell_type": "code",
   "execution_count": null,
   "id": "ff3a525d",
   "metadata": {},
   "outputs": [],
   "source": [
    "atoms = Atoms(dataset[0][\"nuclear_charges\"], positions=dataset[0][\"coords\"])\n",
    "atoms"
   ]
  },
  {
   "cell_type": "code",
   "execution_count": null,
   "id": "b86c71fa",
   "metadata": {},
   "outputs": [],
   "source": [
    "conv=AtomsToGraphConverter({\"nuclear_charges\": \"get_atomic_numbers\", \"coords\": \"get_positions\"})\n",
    "conv(atoms)"
   ]
  },
  {
   "cell_type": "code",
   "execution_count": null,
   "id": "f886b267",
   "metadata": {},
   "outputs": [],
   "source": [
    "calc = KgcnnSingleCalculator(model_predictor=dyn_model, atoms_converter=conv)\n",
    "calc"
   ]
  },
  {
   "cell_type": "code",
   "execution_count": null,
   "id": "5e323e89",
   "metadata": {},
   "outputs": [],
   "source": [
    "from ase.md.velocitydistribution import MaxwellBoltzmannDistribution\n",
    "from ase.md.verlet import VelocityVerlet\n",
    "from ase import units"
   ]
  },
  {
   "cell_type": "code",
   "execution_count": null,
   "id": "e0d59a45",
   "metadata": {},
   "outputs": [],
   "source": [
    "atoms.calc = calc\n",
    "calc.calculate(atoms)\n",
    "print(calc.results)\n",
    "\n",
    "# Set the momenta corresponding to T=300K\n",
    "MaxwellBoltzmannDistribution(atoms, temperature_K=300)\n",
    "\n",
    "# We want to run MD with constant energy using the VelocityVerlet algorithm.\n",
    "dyn = VelocityVerlet(atoms, 1 * units.fs)  # 5 fs time step."
   ]
  },
  {
   "cell_type": "code",
   "execution_count": null,
   "id": "e9f42dc3",
   "metadata": {},
   "outputs": [],
   "source": [
    "def printenergy(a):\n",
    "    \"\"\"Function to print the potential, kinetic and total energy\"\"\"\n",
    "    epot = a.get_potential_energy() / len(a)\n",
    "    ekin = a.get_kinetic_energy() / len(a)\n",
    "    print('Energy per atom: Epot = %.3feV  Ekin = %.3feV (T=%3.0fK)  '\n",
    "          'Etot = %.3feV' % (epot, ekin, ekin / (1.5 * units.kB), epot + ekin))\n",
    "\n",
    "\n",
    "# Now run the dynamics\n",
    "printenergy(atoms)\n",
    "for i in range(20):\n",
    "    dyn.run(10)\n",
    "    printenergy(atoms)"
   ]
  }
 ],
 "metadata": {
  "kernelspec": {
   "display_name": "Python 3 (ipykernel)",
   "language": "python",
   "name": "python3"
  },
  "language_info": {
   "codemirror_mode": {
    "name": "ipython",
    "version": 3
   },
   "file_extension": ".py",
   "mimetype": "text/x-python",
   "name": "python",
   "nbconvert_exporter": "python",
   "pygments_lexer": "ipython3",
   "version": "3.9.7"
  }
 },
 "nbformat": 4,
 "nbformat_minor": 5
}
