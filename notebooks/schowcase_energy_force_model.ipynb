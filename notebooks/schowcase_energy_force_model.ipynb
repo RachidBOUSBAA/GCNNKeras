{
 "cells": [
  {
   "cell_type": "code",
   "execution_count": 2,
   "id": "9ddde6ac",
   "metadata": {},
   "outputs": [
    {
     "ename": "ImportError",
     "evalue": "cannot import name 'MD17RevisedDataset' from 'kgcnn.data.datasets.MD17RevisedDataset' (h:\\postdoc\\project_pycharm\\gcnn_keras\\kgcnn\\data\\datasets\\MD17RevisedDataset.py)",
     "output_type": "error",
     "traceback": [
      "\u001b[1;31m---------------------------------------------------------------------------\u001b[0m",
      "\u001b[1;31mImportError\u001b[0m                               Traceback (most recent call last)",
      "Input \u001b[1;32mIn [2]\u001b[0m, in \u001b[0;36m<module>\u001b[1;34m\u001b[0m\n\u001b[1;32m----> 1\u001b[0m \u001b[38;5;28;01mfrom\u001b[39;00m \u001b[38;5;21;01mkgcnn\u001b[39;00m\u001b[38;5;21;01m.\u001b[39;00m\u001b[38;5;21;01mdata\u001b[39;00m\u001b[38;5;21;01m.\u001b[39;00m\u001b[38;5;21;01mdatasets\u001b[39;00m\u001b[38;5;21;01m.\u001b[39;00m\u001b[38;5;21;01mMD17RevisedDataset\u001b[39;00m \u001b[38;5;28;01mimport\u001b[39;00m MD17RevisedDataset\n",
      "\u001b[1;31mImportError\u001b[0m: cannot import name 'MD17RevisedDataset' from 'kgcnn.data.datasets.MD17RevisedDataset' (h:\\postdoc\\project_pycharm\\gcnn_keras\\kgcnn\\data\\datasets\\MD17RevisedDataset.py)"
     ]
    }
   ],
   "source": [
    "from kgcnn.data.datasets.MD17RevisedDataset import MD17RevisedDataset"
   ]
  },
  {
   "cell_type": "code",
   "execution_count": null,
   "id": "506fef6f",
   "metadata": {},
   "outputs": [],
   "source": []
  }
 ],
 "metadata": {
  "kernelspec": {
   "display_name": "Python 3 (ipykernel)",
   "language": "python",
   "name": "python3"
  },
  "language_info": {
   "codemirror_mode": {
    "name": "ipython",
    "version": 3
   },
   "file_extension": ".py",
   "mimetype": "text/x-python",
   "name": "python",
   "nbconvert_exporter": "python",
   "pygments_lexer": "ipython3",
   "version": "3.9.7"
  }
 },
 "nbformat": 4,
 "nbformat_minor": 5
}
