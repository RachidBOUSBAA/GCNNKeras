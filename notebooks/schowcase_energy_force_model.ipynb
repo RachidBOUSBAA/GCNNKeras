{
 "cells": [
  {
   "cell_type": "markdown",
   "id": "8bf28f0c",
   "metadata": {},
   "source": [
    "# Molecular dynamics from NN potentials"
   ]
  },
  {
   "cell_type": "markdown",
   "id": "9c14ef85",
   "metadata": {},
   "source": [
    "## 1. Datset with energy and forces"
   ]
  },
  {
   "cell_type": "code",
   "execution_count": 1,
   "id": "9039a4c8",
   "metadata": {},
   "outputs": [],
   "source": [
    "import numpy as np\n",
    "from kgcnn.data.datasets.MD17RevisedDataset import MD17RevisedDataset"
   ]
  },
  {
   "cell_type": "code",
   "execution_count": 2,
   "id": "968d1d52",
   "metadata": {},
   "outputs": [
    {
     "name": "stderr",
     "output_type": "stream",
     "text": [
      "INFO:kgcnn.data.download:Checking and possibly downloading dataset with name MD17Revised\n",
      "INFO:kgcnn.data.download:Dataset directory located at C:\\Users\\patri\\.kgcnn\\datasets\n",
      "INFO:kgcnn.data.download:Dataset directory found. Done.\n",
      "INFO:kgcnn.data.download:Dataset found. Done.\n",
      "INFO:kgcnn.data.download:Directory for extraction exists. Done.\n",
      "INFO:kgcnn.data.download:Not extracting tar File. Stopped.\n"
     ]
    },
    {
     "name": "stdout",
     "output_type": "stream",
     "text": [
      "Number of steps 100000\n"
     ]
    }
   ],
   "source": [
    "dataset = MD17RevisedDataset(\"aspirin\")\n",
    "print(\"Number of steps\", len(dataset))"
   ]
  },
  {
   "cell_type": "code",
   "execution_count": 3,
   "id": "31504d0a",
   "metadata": {},
   "outputs": [
    {
     "data": {
      "text/plain": [
       "dict_keys(['old_indices', 'old_energies', 'old_forces', 'energy', 'force', 'atomic_number', 'node_coordinates', 'range_indices', 'range_attributes', 'total_nodes', 'total_ranges'])"
      ]
     },
     "execution_count": 3,
     "metadata": {},
     "output_type": "execute_result"
    }
   ],
   "source": [
    "dataset.rename_property_on_graphs(old_property_name=\"energies\", new_property_name=\"energy\")\n",
    "dataset.rename_property_on_graphs(old_property_name=\"forces\", new_property_name=\"force\")\n",
    "dataset.rename_property_on_graphs(old_property_name=\"nuclear_charges\", new_property_name=\"atomic_number\")\n",
    "dataset.rename_property_on_graphs(old_property_name=\"coords\", new_property_name=\"node_coordinates\")\n",
    "data = dataset[:500]\n",
    "data.map_list(method=\"set_range\", node_coordinates=\"node_coordinates\")\n",
    "data.map_list(method=\"count_nodes_and_edges\", total_edges=\"total_ranges\", count_edges=\"range_indices\", \n",
    "    count_nodes=\"atomic_number\", total_nodes=\"total_nodes\")\n",
    "data[0].keys()"
   ]
  },
  {
   "cell_type": "code",
   "execution_count": 4,
   "id": "b4fce4b0",
   "metadata": {},
   "outputs": [
    {
     "data": {
      "text/plain": [
       "((500, 1), array([-17469.90164208]))"
      ]
     },
     "execution_count": 4,
     "metadata": {},
     "output_type": "execute_result"
    }
   ],
   "source": [
    "eng = np.array(data.get(\"energy\"))*0.043  # kcal/mol to eV\n",
    "eng.shape, eng[0]"
   ]
  },
  {
   "cell_type": "code",
   "execution_count": 5,
   "id": "4b0e78fa",
   "metadata": {},
   "outputs": [
    {
     "data": {
      "text/plain": [
       "array([[-2.74137341,  2.67700611, -0.75129579],\n",
       "       [-0.90631249, -0.85888416,  2.00726686],\n",
       "       [ 3.08056969, -2.19163918, -0.22727128],\n",
       "       [-0.37739256,  1.81854455, -0.04203819],\n",
       "       [ 0.06849278,  1.909797  ,  0.88471585],\n",
       "       [-0.57261954,  0.14867004, -0.18995724],\n",
       "       [ 0.22410948,  0.77632092, -2.1626258 ],\n",
       "       [-0.33297714, -1.23917868, -0.10066419],\n",
       "       [ 0.52634416,  3.8645722 ,  2.08451895],\n",
       "       [-0.72435461,  1.99949058,  0.7122311 ],\n",
       "       [ 1.25228829, -1.18763783,  0.57869244],\n",
       "       [ 0.61277482, -3.80501328, -2.03832495],\n",
       "       [ 1.67075583, -0.99873548, -0.52365172],\n",
       "       [-0.30834985, -0.53698349,  0.41058368],\n",
       "       [ 1.24551168, -1.9163207 ,  1.40335446],\n",
       "       [ 0.13337422,  0.1260334 , -0.94909162],\n",
       "       [-1.12054561,  0.36520689, -0.17419492],\n",
       "       [-0.46182796,  0.5091511 , -0.24017999],\n",
       "       [-0.29275676, -1.11448041, -0.71522209],\n",
       "       [-0.47046873,  0.30675033, -0.52878298],\n",
       "       [-0.50524218, -0.65266984,  0.56193748]])"
      ]
     },
     "execution_count": 5,
     "metadata": {},
     "output_type": "execute_result"
    }
   ],
   "source": [
    "forces = data.tensor({\"name\": \"force\", \"shape\": (None, 3)})*0.043  # kcal/mol to eV\n",
    "atoms = data.get(\"atomic_number\")\n",
    "forces[0]"
   ]
  },
  {
   "cell_type": "code",
   "execution_count": 6,
   "id": "44e093c6",
   "metadata": {},
   "outputs": [
    {
     "data": {
      "text/plain": [
       "array([[-0.09150233],\n",
       "       [ 0.09685228],\n",
       "       [-0.32295041]])"
      ]
     },
     "execution_count": 6,
     "metadata": {},
     "output_type": "execute_result"
    }
   ],
   "source": [
    "from kgcnn.data.transform.scaler.force import EnergyForceExtensiveLabelScaler\n",
    "scaler = EnergyForceExtensiveLabelScaler(standardize_coordinates=False, standardize_scale=False)  # For testing no scale.\n",
    "eng, _ = scaler.fit_transform(X=None, y=eng, force=forces, atomic_number=atoms)\n",
    "eng[:3]"
   ]
  },
  {
   "cell_type": "markdown",
   "id": "8970c9a2",
   "metadata": {},
   "source": [
    "## 2. `EnergyForceModel` container"
   ]
  },
  {
   "cell_type": "code",
   "execution_count": 7,
   "id": "a4e73b9b",
   "metadata": {},
   "outputs": [],
   "source": [
    "from kgcnn.models.force import EnergyForceModel"
   ]
  },
  {
   "cell_type": "code",
   "execution_count": 8,
   "id": "893c1b09",
   "metadata": {},
   "outputs": [
    {
     "name": "stderr",
     "output_type": "stream",
     "text": [
      "WARNING:kgcnn.models.utils:Model kwargs: Overwriting dictionary of output_mlp with None\n",
      "INFO:kgcnn.models.utils:Updated model kwargs: '{'name': 'Schnet', 'inputs': [{'shape': [None], 'name': 'atomic_number', 'dtype': 'int32'}, {'shape': [None, 3], 'name': 'node_coordinates', 'dtype': 'float32'}, {'shape': [None, 2], 'name': 'range_indices', 'dtype': 'int64'}, {'shape': (), 'name': 'total_nodes', 'dtype': 'int64'}, {'shape': (), 'name': 'total_ranges', 'dtype': 'int64'}], 'input_tensor_type': 'padded', 'input_embedding': None, 'cast_disjoint_kwargs': {'padded_disjoint': False}, 'input_node_embedding': {'input_dim': 95, 'output_dim': 64}, 'make_distance': True, 'expand_distance': True, 'interaction_args': {'units': 128, 'use_bias': True, 'activation': {'class_name': 'function', 'config': 'kgcnn>shifted_softplus'}, 'cfconv_pool': 'scatter_sum'}, 'node_pooling_args': {'pooling_method': 'scatter_sum'}, 'depth': 4, 'gauss_args': {'bins': 20, 'distance': 4, 'offset': 0.0, 'sigma': 0.4}, 'verbose': 10, 'last_mlp': {'use_bias': [True, True, True], 'units': [128, 64, 1], 'activation': [{'class_name': 'function', 'config': 'kgcnn>shifted_softplus'}, {'class_name': 'function', 'config': 'kgcnn>shifted_softplus'}, 'linear']}, 'output_embedding': 'graph', 'output_to_tensor': None, 'use_output_mlp': False, 'output_tensor_type': 'padded', 'output_scaling': None, 'output_mlp': None}'.\n"
     ]
    }
   ],
   "source": [
    "model_config = {\n",
    "    \"name\": \"Schnet\",\n",
    "    \"coordinate_input\": 1,\n",
    "    \"inputs\": [\n",
    "        {\"shape\": [None], \"name\": \"node_number\", \"dtype\": \"int32\"},\n",
    "        {\"shape\": [None, 3], \"name\": \"node_coordinates\", \"dtype\": \"float32\"},\n",
    "        {\"shape\": [None, 2], \"name\": \"range_indices\", \"dtype\": \"int64\"},\n",
    "        {\"shape\": (), \"name\": \"total_nodes\", \"dtype\": \"int64\"},\n",
    "        {\"shape\": (), \"name\": \"total_ranges\", \"dtype\": \"int64\"}\n",
    "    ],\n",
    "    \"nested_model_config\": True,\n",
    "    \"output_to_tensor\": True,\n",
    "    \"output_squeeze_states\": True,\n",
    "    \"model_energy\": {\n",
    "        \"class_name\": \"make_model\",\n",
    "        \"module_name\": \"kgcnn.literature.Schnet\",\n",
    "        \"config\": {\n",
    "            \"name\": \"Schnet\",\n",
    "            \"inputs\": [\n",
    "                {\"shape\": [None], \"name\": \"atomic_number\", \"dtype\": \"int32\"},\n",
    "                {\"shape\": [None, 3], \"name\": \"node_coordinates\", \"dtype\": \"float32\"},\n",
    "                {\"shape\": [None, 2], \"name\": \"range_indices\", \"dtype\": \"int64\"},\n",
    "                {\"shape\": (), \"name\": \"total_nodes\", \"dtype\": \"int64\"},\n",
    "                {\"shape\": (), \"name\": \"total_ranges\", \"dtype\": \"int64\"}\n",
    "            ],\n",
    "            \"cast_disjoint_kwargs\": {\"padded_disjoint\": False},\n",
    "            \"input_node_embedding\": {\"input_dim\": 95, \"output_dim\": 64},\n",
    "            \"last_mlp\": {\"use_bias\": [True, True, True], \"units\": [128, 64, 1],\n",
    "                         \"activation\": [\n",
    "                             {\"class_name\": \"function\", \"config\": \"kgcnn>shifted_softplus\"}, \n",
    "                             {\"class_name\": \"function\", \"config\": \"kgcnn>shifted_softplus\"}, \n",
    "                             'linear'\n",
    "                         ]},\n",
    "            \"interaction_args\": {\n",
    "                \"units\": 128, \"use_bias\": True, \n",
    "                \"activation\": {\"class_name\": \"function\", \"config\": \"kgcnn>shifted_softplus\"},\n",
    "                \"cfconv_pool\": \"scatter_sum\"\n",
    "            },\n",
    "            \"node_pooling_args\": {\"pooling_method\": \"scatter_sum\"},\n",
    "            \"depth\": 4,\n",
    "            \"gauss_args\": {\"bins\": 20, \"distance\": 4, \"offset\": 0.0, \"sigma\": 0.4}, \"verbose\": 10,\n",
    "            \"output_embedding\": \"graph\",\n",
    "            \"use_output_mlp\": False,\n",
    "            \"output_mlp\": None\n",
    "        }\n",
    "    },\n",
    "    \"outputs\": {\"energy\": {\"name\": \"energy\", \"shape\": (1,)},\n",
    "                \"forces\": {\"name\": \"force\", \"shape\": (None, 3)}}\n",
    "\n",
    "}\n",
    "model = EnergyForceModel(**model_config)"
   ]
  },
  {
   "cell_type": "code",
   "execution_count": 9,
   "id": "95618ef0",
   "metadata": {},
   "outputs": [
    {
     "name": "stdout",
     "output_type": "stream",
     "text": [
      "[(500, 21), (500, 21, 3), (500, 232, 2), (500,), (500,)]\n"
     ]
    }
   ],
   "source": [
    "x_tensor = data.tensor(model_config[\"model_energy\"][\"config\"][\"inputs\"])\n",
    "print([x.shape for x in x_tensor])"
   ]
  },
  {
   "cell_type": "code",
   "execution_count": 10,
   "id": "4c51344b",
   "metadata": {},
   "outputs": [
    {
     "name": "stdout",
     "output_type": "stream",
     "text": [
      "\u001b[1m16/16\u001b[0m \u001b[32m━━━━━━━━━━━━━━━━━━━━\u001b[0m\u001b[37m\u001b[0m \u001b[1m1s\u001b[0m 25ms/step\n"
     ]
    }
   ],
   "source": [
    "test_out = model.predict(x_tensor)"
   ]
  },
  {
   "cell_type": "code",
   "execution_count": 11,
   "id": "c031e38b",
   "metadata": {},
   "outputs": [
    {
     "data": {
      "text/plain": [
       "[(500, 1), (500, 21, 3)]"
      ]
     },
     "execution_count": 11,
     "metadata": {},
     "output_type": "execute_result"
    }
   ],
   "source": [
    "[i.shape for i in test_out.values()]"
   ]
  },
  {
   "cell_type": "code",
   "execution_count": 12,
   "id": "9d43121c",
   "metadata": {},
   "outputs": [],
   "source": [
    "from keras.optimizers import Adam"
   ]
  },
  {
   "cell_type": "code",
   "execution_count": 13,
   "id": "654166f5",
   "metadata": {},
   "outputs": [],
   "source": [
    "model.compile(\n",
    "    loss={\"energy\": \"mean_absolute_error\", \"force\": \"mean_absolute_error\"},\n",
    "    optimizer=Adam(learning_rate=5e-04),\n",
    "    metrics=None,\n",
    "    loss_weights={\"energy\":1.0, \"force\":20.0},\n",
    ")"
   ]
  },
  {
   "cell_type": "code",
   "execution_count": 14,
   "id": "2b8f903a-1c54-4132-8133-704859832bcc",
   "metadata": {},
   "outputs": [
    {
     "name": "stdout",
     "output_type": "stream",
     "text": [
      "\u001b[1m2/2\u001b[0m \u001b[32m━━━━━━━━━━━━━━━━━━━━\u001b[0m\u001b[37m\u001b[0m \u001b[1m0s\u001b[0m 21ms/step\n"
     ]
    }
   ],
   "source": [
    "model.predict(x_tensor, batch_size=2, steps=2)\n",
    "model._compile_loss.build({\"energy\": eng, \"force\": forces}, {\"energy\": eng, \"force\": forces})"
   ]
  },
  {
   "cell_type": "code",
   "execution_count": 15,
   "id": "4747a58b",
   "metadata": {},
   "outputs": [
    {
     "name": "stdout",
     "output_type": "stream",
     "text": [
      "Epoch 1294/1500\n",
      "8/8 - 1s - loss: 1.8698 - energy_loss: 0.3706 - force_loss: 0.0750 - 610ms/epoch - 76ms/step\n",
      "Epoch 1295/1500\n",
      "8/8 - 1s - loss: 1.8268 - energy_loss: 0.2774 - force_loss: 0.0775 - 645ms/epoch - 81ms/step\n",
      "Epoch 1296/1500\n",
      "8/8 - 1s - loss: 1.7237 - energy_loss: 0.3004 - force_loss: 0.0712 - 611ms/epoch - 76ms/step\n",
      "Epoch 1297/1500\n",
      "8/8 - 1s - loss: 1.7796 - energy_loss: 0.3744 - force_loss: 0.0703 - 603ms/epoch - 75ms/step\n",
      "Epoch 1298/1500\n",
      "8/8 - 1s - loss: 1.6922 - energy_loss: 0.2727 - force_loss: 0.0710 - 598ms/epoch - 75ms/step\n",
      "Epoch 1299/1500\n",
      "8/8 - 1s - loss: 1.7245 - energy_loss: 0.2860 - force_loss: 0.0719 - 614ms/epoch - 77ms/step\n",
      "Epoch 1300/1500\n",
      "8/8 - 1s - loss: 1.8538 - energy_loss: 0.2733 - force_loss: 0.0790 - 618ms/epoch - 77ms/step\n",
      "Epoch 1301/1500\n",
      "8/8 - 1s - loss: 1.9914 - energy_loss: 0.3206 - force_loss: 0.0835 - 652ms/epoch - 81ms/step\n",
      "Epoch 1302/1500\n",
      "8/8 - 1s - loss: 2.0053 - energy_loss: 0.3555 - force_loss: 0.0825 - 633ms/epoch - 79ms/step\n",
      "Epoch 1303/1500\n",
      "8/8 - 1s - loss: 1.9532 - energy_loss: 0.3366 - force_loss: 0.0808 - 626ms/epoch - 78ms/step\n",
      "Epoch 1304/1500\n",
      "8/8 - 1s - loss: 1.8114 - energy_loss: 0.3398 - force_loss: 0.0736 - 700ms/epoch - 88ms/step\n",
      "Epoch 1305/1500\n",
      "8/8 - 1s - loss: 1.7916 - energy_loss: 0.3008 - force_loss: 0.0745 - 622ms/epoch - 78ms/step\n",
      "Epoch 1306/1500\n",
      "8/8 - 1s - loss: 1.8668 - energy_loss: 0.3107 - force_loss: 0.0778 - 643ms/epoch - 80ms/step\n",
      "Epoch 1307/1500\n",
      "8/8 - 1s - loss: 1.8482 - energy_loss: 0.3210 - force_loss: 0.0764 - 656ms/epoch - 82ms/step\n",
      "Epoch 1308/1500\n",
      "8/8 - 1s - loss: 1.7902 - energy_loss: 0.3178 - force_loss: 0.0736 - 608ms/epoch - 76ms/step\n",
      "Epoch 1309/1500\n",
      "8/8 - 1s - loss: 1.8800 - energy_loss: 0.3030 - force_loss: 0.0788 - 608ms/epoch - 76ms/step\n",
      "Epoch 1310/1500\n",
      "8/8 - 1s - loss: 1.8607 - energy_loss: 0.3030 - force_loss: 0.0779 - 613ms/epoch - 77ms/step\n",
      "Epoch 1311/1500\n",
      "8/8 - 1s - loss: 1.8861 - energy_loss: 0.3625 - force_loss: 0.0762 - 688ms/epoch - 86ms/step\n",
      "Epoch 1312/1500\n",
      "8/8 - 1s - loss: 1.8314 - energy_loss: 0.3846 - force_loss: 0.0723 - 682ms/epoch - 85ms/step\n",
      "Epoch 1313/1500\n",
      "8/8 - 1s - loss: 1.7122 - energy_loss: 0.2850 - force_loss: 0.0714 - 624ms/epoch - 78ms/step\n",
      "Epoch 1314/1500\n",
      "8/8 - 1s - loss: 1.7456 - energy_loss: 0.3504 - force_loss: 0.0698 - 623ms/epoch - 78ms/step\n",
      "Epoch 1315/1500\n",
      "8/8 - 1s - loss: 1.7063 - energy_loss: 0.3121 - force_loss: 0.0697 - 622ms/epoch - 78ms/step\n",
      "Epoch 1316/1500\n",
      "8/8 - 1s - loss: 1.8857 - energy_loss: 0.5552 - force_loss: 0.0665 - 631ms/epoch - 79ms/step\n",
      "Epoch 1317/1500\n",
      "8/8 - 1s - loss: 1.6442 - energy_loss: 0.2896 - force_loss: 0.0677 - 593ms/epoch - 74ms/step\n",
      "Epoch 1318/1500\n",
      "8/8 - 1s - loss: 1.6358 - energy_loss: 0.2713 - force_loss: 0.0682 - 551ms/epoch - 69ms/step\n",
      "Epoch 1319/1500\n",
      "8/8 - 1s - loss: 1.9531 - energy_loss: 0.5791 - force_loss: 0.0687 - 551ms/epoch - 69ms/step\n",
      "Epoch 1320/1500\n",
      "8/8 - 1s - loss: 2.0096 - energy_loss: 0.5549 - force_loss: 0.0727 - 550ms/epoch - 69ms/step\n",
      "Epoch 1321/1500\n",
      "8/8 - 1s - loss: 1.6032 - energy_loss: 0.1511 - force_loss: 0.0726 - 543ms/epoch - 68ms/step\n",
      "Epoch 1322/1500\n",
      "8/8 - 1s - loss: 1.5218 - energy_loss: 0.1413 - force_loss: 0.0690 - 555ms/epoch - 69ms/step\n",
      "Epoch 1323/1500\n",
      "8/8 - 1s - loss: 1.4943 - energy_loss: 0.1413 - force_loss: 0.0676 - 545ms/epoch - 68ms/step\n",
      "Epoch 1324/1500\n",
      "8/8 - 1s - loss: 1.4555 - energy_loss: 0.1461 - force_loss: 0.0655 - 548ms/epoch - 69ms/step\n",
      "Epoch 1325/1500\n",
      "8/8 - 1s - loss: 1.4779 - energy_loss: 0.1428 - force_loss: 0.0668 - 545ms/epoch - 68ms/step\n",
      "Epoch 1326/1500\n",
      "8/8 - 1s - loss: 1.9965 - energy_loss: 0.6132 - force_loss: 0.0692 - 550ms/epoch - 69ms/step\n",
      "Epoch 1327/1500\n",
      "8/8 - 1s - loss: 1.9107 - energy_loss: 0.5445 - force_loss: 0.0683 - 553ms/epoch - 69ms/step\n",
      "Epoch 1328/1500\n",
      "8/8 - 1s - loss: 1.9064 - energy_loss: 0.4953 - force_loss: 0.0706 - 569ms/epoch - 71ms/step\n",
      "Epoch 1329/1500\n",
      "8/8 - 1s - loss: 2.0184 - energy_loss: 0.5366 - force_loss: 0.0741 - 555ms/epoch - 69ms/step\n",
      "Epoch 1330/1500\n",
      "8/8 - 1s - loss: 1.7325 - energy_loss: 0.2032 - force_loss: 0.0765 - 552ms/epoch - 69ms/step\n",
      "Epoch 1331/1500\n",
      "8/8 - 1s - loss: 1.8084 - energy_loss: 0.3060 - force_loss: 0.0751 - 561ms/epoch - 70ms/step\n",
      "Epoch 1332/1500\n",
      "8/8 - 1s - loss: 1.9649 - energy_loss: 0.4145 - force_loss: 0.0775 - 555ms/epoch - 69ms/step\n",
      "Epoch 1333/1500\n",
      "8/8 - 1s - loss: 1.7471 - energy_loss: 0.2308 - force_loss: 0.0758 - 564ms/epoch - 70ms/step\n",
      "Epoch 1334/1500\n",
      "8/8 - 1s - loss: 1.8575 - energy_loss: 0.2861 - force_loss: 0.0786 - 604ms/epoch - 76ms/step\n",
      "Epoch 1335/1500\n",
      "8/8 - 1s - loss: 1.5489 - energy_loss: 0.1508 - force_loss: 0.0699 - 592ms/epoch - 74ms/step\n",
      "Epoch 1336/1500\n",
      "8/8 - 1s - loss: 1.5171 - energy_loss: 0.2153 - force_loss: 0.0651 - 566ms/epoch - 71ms/step\n",
      "Epoch 1337/1500\n",
      "8/8 - 1s - loss: 1.9267 - energy_loss: 0.5114 - force_loss: 0.0708 - 555ms/epoch - 69ms/step\n",
      "Epoch 1338/1500\n",
      "8/8 - 1s - loss: 2.0011 - energy_loss: 0.5551 - force_loss: 0.0723 - 556ms/epoch - 69ms/step\n",
      "Epoch 1339/1500\n",
      "8/8 - 1s - loss: 1.9602 - energy_loss: 0.5046 - force_loss: 0.0728 - 550ms/epoch - 69ms/step\n",
      "Epoch 1340/1500\n",
      "8/8 - 1s - loss: 2.0389 - energy_loss: 0.4959 - force_loss: 0.0771 - 574ms/epoch - 72ms/step\n",
      "Epoch 1341/1500\n",
      "8/8 - 1s - loss: 1.7677 - energy_loss: 0.2068 - force_loss: 0.0780 - 548ms/epoch - 68ms/step\n",
      "Epoch 1342/1500\n",
      "8/8 - 1s - loss: 1.9272 - energy_loss: 0.3756 - force_loss: 0.0776 - 554ms/epoch - 69ms/step\n",
      "Epoch 1343/1500\n",
      "8/8 - 1s - loss: 1.8437 - energy_loss: 0.2634 - force_loss: 0.0790 - 551ms/epoch - 69ms/step\n",
      "Epoch 1344/1500\n",
      "8/8 - 1s - loss: 1.5960 - energy_loss: 0.1641 - force_loss: 0.0716 - 556ms/epoch - 70ms/step\n",
      "Epoch 1345/1500\n",
      "8/8 - 1s - loss: 1.5234 - energy_loss: 0.1488 - force_loss: 0.0687 - 552ms/epoch - 69ms/step\n",
      "Epoch 1346/1500\n",
      "8/8 - 1s - loss: 1.7121 - energy_loss: 0.2717 - force_loss: 0.0720 - 545ms/epoch - 68ms/step\n",
      "Epoch 1347/1500\n",
      "8/8 - 1s - loss: 1.5657 - energy_loss: 0.1385 - force_loss: 0.0714 - 552ms/epoch - 69ms/step\n",
      "Epoch 1348/1500\n",
      "8/8 - 1s - loss: 1.5822 - energy_loss: 0.1553 - force_loss: 0.0713 - 551ms/epoch - 69ms/step\n",
      "Epoch 1349/1500\n",
      "8/8 - 1s - loss: 1.6498 - energy_loss: 0.2428 - force_loss: 0.0704 - 559ms/epoch - 70ms/step\n",
      "Epoch 1350/1500\n",
      "8/8 - 1s - loss: 1.6609 - energy_loss: 0.1821 - force_loss: 0.0739 - 564ms/epoch - 70ms/step\n",
      "Epoch 1351/1500\n",
      "8/8 - 1s - loss: 1.5474 - energy_loss: 0.1568 - force_loss: 0.0695 - 566ms/epoch - 71ms/step\n",
      "Epoch 1352/1500\n",
      "8/8 - 1s - loss: 1.5891 - energy_loss: 0.2398 - force_loss: 0.0675 - 638ms/epoch - 80ms/step\n",
      "Epoch 1353/1500\n",
      "8/8 - 1s - loss: 1.5455 - energy_loss: 0.1689 - force_loss: 0.0688 - 723ms/epoch - 90ms/step\n",
      "Epoch 1354/1500\n",
      "8/8 - 1s - loss: 1.5816 - energy_loss: 0.2057 - force_loss: 0.0688 - 668ms/epoch - 83ms/step\n",
      "Epoch 1355/1500\n",
      "8/8 - 1s - loss: 1.7079 - energy_loss: 0.3165 - force_loss: 0.0696 - 595ms/epoch - 74ms/step\n",
      "Epoch 1356/1500\n",
      "8/8 - 1s - loss: 1.7344 - energy_loss: 0.3037 - force_loss: 0.0715 - 586ms/epoch - 73ms/step\n",
      "Epoch 1357/1500\n",
      "8/8 - 1s - loss: 1.7894 - energy_loss: 0.2999 - force_loss: 0.0745 - 586ms/epoch - 73ms/step\n",
      "Epoch 1358/1500\n",
      "8/8 - 1s - loss: 1.8854 - energy_loss: 0.3148 - force_loss: 0.0785 - 580ms/epoch - 72ms/step\n",
      "Epoch 1359/1500\n",
      "8/8 - 1s - loss: 2.1008 - energy_loss: 0.3338 - force_loss: 0.0884 - 576ms/epoch - 72ms/step\n",
      "Epoch 1360/1500\n",
      "8/8 - 1s - loss: 2.0157 - energy_loss: 0.3440 - force_loss: 0.0836 - 567ms/epoch - 71ms/step\n",
      "Epoch 1361/1500\n",
      "8/8 - 1s - loss: 1.9676 - energy_loss: 0.3260 - force_loss: 0.0821 - 575ms/epoch - 72ms/step\n",
      "Epoch 1362/1500\n",
      "8/8 - 1s - loss: 1.9627 - energy_loss: 0.3308 - force_loss: 0.0816 - 570ms/epoch - 71ms/step\n",
      "Epoch 1363/1500\n",
      "8/8 - 1s - loss: 1.8339 - energy_loss: 0.3027 - force_loss: 0.0766 - 581ms/epoch - 73ms/step\n",
      "Epoch 1364/1500\n",
      "8/8 - 1s - loss: 1.7370 - energy_loss: 0.2971 - force_loss: 0.0720 - 581ms/epoch - 73ms/step\n",
      "Epoch 1365/1500\n",
      "8/8 - 1s - loss: 1.7098 - energy_loss: 0.3056 - force_loss: 0.0702 - 579ms/epoch - 72ms/step\n",
      "Epoch 1366/1500\n",
      "8/8 - 1s - loss: 1.7968 - energy_loss: 0.3052 - force_loss: 0.0746 - 578ms/epoch - 72ms/step\n",
      "Epoch 1367/1500\n",
      "8/8 - 1s - loss: 1.8571 - energy_loss: 0.3102 - force_loss: 0.0773 - 582ms/epoch - 73ms/step\n",
      "Epoch 1368/1500\n",
      "8/8 - 1s - loss: 1.7911 - energy_loss: 0.3017 - force_loss: 0.0745 - 587ms/epoch - 73ms/step\n",
      "Epoch 1369/1500\n",
      "8/8 - 1s - loss: 1.7614 - energy_loss: 0.3122 - force_loss: 0.0725 - 579ms/epoch - 72ms/step\n"
     ]
    },
    {
     "name": "stdout",
     "output_type": "stream",
     "text": [
      "Epoch 1370/1500\n",
      "8/8 - 1s - loss: 1.7885 - energy_loss: 0.3029 - force_loss: 0.0743 - 584ms/epoch - 73ms/step\n",
      "Epoch 1371/1500\n",
      "8/8 - 1s - loss: 1.8967 - energy_loss: 0.3072 - force_loss: 0.0795 - 579ms/epoch - 72ms/step\n",
      "Epoch 1372/1500\n",
      "8/8 - 1s - loss: 1.7590 - energy_loss: 0.3019 - force_loss: 0.0729 - 668ms/epoch - 83ms/step\n",
      "Epoch 1373/1500\n",
      "8/8 - 1s - loss: 1.7160 - energy_loss: 0.3050 - force_loss: 0.0706 - 657ms/epoch - 82ms/step\n",
      "Epoch 1374/1500\n",
      "8/8 - 1s - loss: 1.7361 - energy_loss: 0.2934 - force_loss: 0.0721 - 631ms/epoch - 79ms/step\n",
      "Epoch 1375/1500\n",
      "8/8 - 1s - loss: 1.7108 - energy_loss: 0.3144 - force_loss: 0.0698 - 656ms/epoch - 82ms/step\n",
      "Epoch 1376/1500\n",
      "8/8 - 1s - loss: 1.7204 - energy_loss: 0.2977 - force_loss: 0.0711 - 671ms/epoch - 84ms/step\n",
      "Epoch 1377/1500\n",
      "8/8 - 1s - loss: 1.7563 - energy_loss: 0.2909 - force_loss: 0.0733 - 668ms/epoch - 84ms/step\n",
      "Epoch 1378/1500\n",
      "8/8 - 1s - loss: 1.6346 - energy_loss: 0.2272 - force_loss: 0.0704 - 677ms/epoch - 85ms/step\n",
      "Epoch 1379/1500\n",
      "8/8 - 1s - loss: 1.4787 - energy_loss: 0.1299 - force_loss: 0.0674 - 650ms/epoch - 81ms/step\n",
      "Epoch 1380/1500\n",
      "8/8 - 1s - loss: 1.4705 - energy_loss: 0.1207 - force_loss: 0.0675 - 650ms/epoch - 81ms/step\n",
      "Epoch 1381/1500\n",
      "8/8 - 1s - loss: 1.4323 - energy_loss: 0.1204 - force_loss: 0.0656 - 636ms/epoch - 80ms/step\n",
      "Epoch 1382/1500\n",
      "8/8 - 1s - loss: 1.4460 - energy_loss: 0.1421 - force_loss: 0.0652 - 693ms/epoch - 87ms/step\n",
      "Epoch 1383/1500\n",
      "8/8 - 1s - loss: 1.4287 - energy_loss: 0.1408 - force_loss: 0.0644 - 699ms/epoch - 87ms/step\n",
      "Epoch 1384/1500\n",
      "8/8 - 1s - loss: 1.4174 - energy_loss: 0.1463 - force_loss: 0.0636 - 668ms/epoch - 84ms/step\n",
      "Epoch 1385/1500\n",
      "8/8 - 1s - loss: 1.6143 - energy_loss: 0.3707 - force_loss: 0.0622 - 641ms/epoch - 80ms/step\n",
      "Epoch 1386/1500\n",
      "8/8 - 1s - loss: 1.5389 - energy_loss: 0.2857 - force_loss: 0.0627 - 635ms/epoch - 79ms/step\n",
      "Epoch 1387/1500\n",
      "8/8 - 1s - loss: 1.6808 - energy_loss: 0.3181 - force_loss: 0.0681 - 687ms/epoch - 86ms/step\n",
      "Epoch 1388/1500\n",
      "8/8 - 1s - loss: 1.7815 - energy_loss: 0.3039 - force_loss: 0.0739 - 678ms/epoch - 85ms/step\n",
      "Epoch 1389/1500\n",
      "8/8 - 1s - loss: 1.7883 - energy_loss: 0.2923 - force_loss: 0.0748 - 623ms/epoch - 78ms/step\n",
      "Epoch 1390/1500\n",
      "8/8 - 1s - loss: 1.9108 - energy_loss: 0.2961 - force_loss: 0.0807 - 667ms/epoch - 83ms/step\n",
      "Epoch 1391/1500\n",
      "8/8 - 1s - loss: 1.8718 - energy_loss: 0.3324 - force_loss: 0.0770 - 680ms/epoch - 85ms/step\n",
      "Epoch 1392/1500\n",
      "8/8 - 1s - loss: 1.8189 - energy_loss: 0.3300 - force_loss: 0.0744 - 644ms/epoch - 80ms/step\n",
      "Epoch 1393/1500\n",
      "8/8 - 1s - loss: 1.6770 - energy_loss: 0.2717 - force_loss: 0.0703 - 669ms/epoch - 84ms/step\n",
      "Epoch 1394/1500\n",
      "8/8 - 1s - loss: 1.4869 - energy_loss: 0.1313 - force_loss: 0.0678 - 664ms/epoch - 83ms/step\n",
      "Epoch 1395/1500\n",
      "8/8 - 1s - loss: 1.5617 - energy_loss: 0.2485 - force_loss: 0.0657 - 640ms/epoch - 80ms/step\n",
      "Epoch 1396/1500\n",
      "8/8 - 1s - loss: 1.5966 - energy_loss: 0.2666 - force_loss: 0.0665 - 657ms/epoch - 82ms/step\n",
      "Epoch 1397/1500\n",
      "8/8 - 1s - loss: 1.6588 - energy_loss: 0.3377 - force_loss: 0.0661 - 658ms/epoch - 82ms/step\n",
      "Epoch 1398/1500\n",
      "8/8 - 1s - loss: 1.5932 - energy_loss: 0.2837 - force_loss: 0.0655 - 649ms/epoch - 81ms/step\n",
      "Epoch 1399/1500\n",
      "8/8 - 1s - loss: 1.5111 - energy_loss: 0.1437 - force_loss: 0.0684 - 628ms/epoch - 79ms/step\n",
      "Epoch 1400/1500\n",
      "8/8 - 1s - loss: 1.6707 - energy_loss: 0.2957 - force_loss: 0.0687 - 647ms/epoch - 81ms/step\n",
      "Epoch 1401/1500\n",
      "8/8 - 1s - loss: 1.8243 - energy_loss: 0.3690 - force_loss: 0.0728 - 649ms/epoch - 81ms/step\n",
      "Epoch 1402/1500\n",
      "8/8 - 1s - loss: 1.6282 - energy_loss: 0.2592 - force_loss: 0.0685 - 639ms/epoch - 80ms/step\n",
      "Epoch 1403/1500\n",
      "8/8 - 1s - loss: 1.6128 - energy_loss: 0.2803 - force_loss: 0.0666 - 646ms/epoch - 81ms/step\n",
      "Epoch 1404/1500\n",
      "8/8 - 1s - loss: 1.6836 - energy_loss: 0.3221 - force_loss: 0.0681 - 648ms/epoch - 81ms/step\n",
      "Epoch 1405/1500\n",
      "8/8 - 1s - loss: 1.7359 - energy_loss: 0.2449 - force_loss: 0.0746 - 655ms/epoch - 82ms/step\n",
      "Epoch 1406/1500\n",
      "8/8 - 1s - loss: 1.7485 - energy_loss: 0.2895 - force_loss: 0.0729 - 673ms/epoch - 84ms/step\n",
      "Epoch 1407/1500\n",
      "8/8 - 1s - loss: 1.9484 - energy_loss: 0.3296 - force_loss: 0.0809 - 696ms/epoch - 87ms/step\n",
      "Epoch 1408/1500\n",
      "8/8 - 1s - loss: 1.8973 - energy_loss: 0.2833 - force_loss: 0.0807 - 658ms/epoch - 82ms/step\n",
      "Epoch 1409/1500\n",
      "8/8 - 1s - loss: 1.8089 - energy_loss: 0.2803 - force_loss: 0.0764 - 655ms/epoch - 82ms/step\n",
      "Epoch 1410/1500\n",
      "8/8 - 1s - loss: 1.7477 - energy_loss: 0.3284 - force_loss: 0.0710 - 638ms/epoch - 80ms/step\n",
      "Epoch 1411/1500\n",
      "8/8 - 1s - loss: 1.7153 - energy_loss: 0.2890 - force_loss: 0.0713 - 670ms/epoch - 84ms/step\n",
      "Epoch 1412/1500\n",
      "8/8 - 1s - loss: 1.6956 - energy_loss: 0.3010 - force_loss: 0.0697 - 686ms/epoch - 86ms/step\n",
      "Epoch 1413/1500\n",
      "8/8 - 1s - loss: 1.7019 - energy_loss: 0.3191 - force_loss: 0.0691 - 685ms/epoch - 86ms/step\n",
      "Epoch 1414/1500\n",
      "8/8 - 1s - loss: 1.8382 - energy_loss: 0.4760 - force_loss: 0.0681 - 671ms/epoch - 84ms/step\n",
      "Epoch 1415/1500\n",
      "8/8 - 1s - loss: 1.7993 - energy_loss: 0.4470 - force_loss: 0.0676 - 644ms/epoch - 80ms/step\n",
      "Epoch 1416/1500\n",
      "8/8 - 1s - loss: 1.7758 - energy_loss: 0.4756 - force_loss: 0.0650 - 658ms/epoch - 82ms/step\n",
      "Epoch 1417/1500\n",
      "8/8 - 1s - loss: 1.6865 - energy_loss: 0.2799 - force_loss: 0.0703 - 717ms/epoch - 90ms/step\n",
      "Epoch 1418/1500\n",
      "8/8 - 1s - loss: 1.6962 - energy_loss: 0.2431 - force_loss: 0.0727 - 648ms/epoch - 81ms/step\n",
      "Epoch 1419/1500\n",
      "8/8 - 1s - loss: 1.4673 - energy_loss: 0.1168 - force_loss: 0.0675 - 668ms/epoch - 83ms/step\n",
      "Epoch 1420/1500\n",
      "8/8 - 1s - loss: 1.5534 - energy_loss: 0.2731 - force_loss: 0.0640 - 656ms/epoch - 82ms/step\n",
      "Epoch 1421/1500\n",
      "8/8 - 1s - loss: 1.7662 - energy_loss: 0.4910 - force_loss: 0.0638 - 633ms/epoch - 79ms/step\n",
      "Epoch 1422/1500\n",
      "8/8 - 1s - loss: 1.8449 - energy_loss: 0.5511 - force_loss: 0.0647 - 648ms/epoch - 81ms/step\n",
      "Epoch 1423/1500\n",
      "8/8 - 1s - loss: 1.8635 - energy_loss: 0.5468 - force_loss: 0.0658 - 659ms/epoch - 82ms/step\n",
      "Epoch 1424/1500\n",
      "8/8 - 1s - loss: 1.8491 - energy_loss: 0.4840 - force_loss: 0.0683 - 675ms/epoch - 84ms/step\n",
      "Epoch 1425/1500\n",
      "8/8 - 1s - loss: 1.7180 - energy_loss: 0.2966 - force_loss: 0.0711 - 689ms/epoch - 86ms/step\n",
      "Epoch 1426/1500\n",
      "8/8 - 1s - loss: 1.5557 - energy_loss: 0.1430 - force_loss: 0.0706 - 692ms/epoch - 86ms/step\n",
      "Epoch 1427/1500\n",
      "8/8 - 1s - loss: 1.4310 - energy_loss: 0.1353 - force_loss: 0.0648 - 681ms/epoch - 85ms/step\n",
      "Epoch 1428/1500\n",
      "8/8 - 1s - loss: 1.4400 - energy_loss: 0.1277 - force_loss: 0.0656 - 687ms/epoch - 86ms/step\n",
      "Epoch 1429/1500\n",
      "8/8 - 1s - loss: 1.3928 - energy_loss: 0.1321 - force_loss: 0.0630 - 669ms/epoch - 84ms/step\n",
      "Epoch 1430/1500\n",
      "8/8 - 1s - loss: 1.5857 - energy_loss: 0.2777 - force_loss: 0.0654 - 642ms/epoch - 80ms/step\n",
      "Epoch 1431/1500\n",
      "8/8 - 1s - loss: 1.6403 - energy_loss: 0.2757 - force_loss: 0.0682 - 650ms/epoch - 81ms/step\n",
      "Epoch 1432/1500\n",
      "8/8 - 1s - loss: 1.7409 - energy_loss: 0.2782 - force_loss: 0.0731 - 645ms/epoch - 81ms/step\n",
      "Epoch 1433/1500\n",
      "8/8 - 1s - loss: 1.6728 - energy_loss: 0.3154 - force_loss: 0.0679 - 638ms/epoch - 80ms/step\n",
      "Epoch 1434/1500\n",
      "8/8 - 1s - loss: 1.5408 - energy_loss: 0.2457 - force_loss: 0.0648 - 634ms/epoch - 79ms/step\n",
      "Epoch 1435/1500\n",
      "8/8 - 1s - loss: 1.6620 - energy_loss: 0.2496 - force_loss: 0.0706 - 625ms/epoch - 78ms/step\n",
      "Epoch 1436/1500\n",
      "8/8 - 1s - loss: 1.7414 - energy_loss: 0.3205 - force_loss: 0.0710 - 652ms/epoch - 81ms/step\n",
      "Epoch 1437/1500\n",
      "8/8 - 1s - loss: 1.6350 - energy_loss: 0.1977 - force_loss: 0.0719 - 651ms/epoch - 81ms/step\n",
      "Epoch 1438/1500\n",
      "8/8 - 1s - loss: 1.5441 - energy_loss: 0.1384 - force_loss: 0.0703 - 670ms/epoch - 84ms/step\n",
      "Epoch 1439/1500\n",
      "8/8 - 1s - loss: 1.7597 - energy_loss: 0.3626 - force_loss: 0.0699 - 680ms/epoch - 85ms/step\n",
      "Epoch 1440/1500\n",
      "8/8 - 1s - loss: 1.8546 - energy_loss: 0.2919 - force_loss: 0.0781 - 678ms/epoch - 85ms/step\n",
      "Epoch 1441/1500\n",
      "8/8 - 1s - loss: 2.0568 - energy_loss: 0.5646 - force_loss: 0.0746 - 663ms/epoch - 83ms/step\n",
      "Epoch 1442/1500\n",
      "8/8 - 1s - loss: 1.7122 - energy_loss: 0.2826 - force_loss: 0.0715 - 788ms/epoch - 99ms/step\n",
      "Epoch 1443/1500\n",
      "8/8 - 1s - loss: 1.7196 - energy_loss: 0.2454 - force_loss: 0.0737 - 718ms/epoch - 90ms/step\n",
      "Epoch 1444/1500\n",
      "8/8 - 1s - loss: 2.0667 - energy_loss: 0.5886 - force_loss: 0.0739 - 683ms/epoch - 85ms/step\n",
      "Epoch 1445/1500\n",
      "8/8 - 1s - loss: 1.7022 - energy_loss: 0.3008 - force_loss: 0.0701 - 666ms/epoch - 83ms/step\n"
     ]
    },
    {
     "name": "stdout",
     "output_type": "stream",
     "text": [
      "Epoch 1446/1500\n",
      "8/8 - 1s - loss: 1.7595 - energy_loss: 0.3143 - force_loss: 0.0723 - 668ms/epoch - 83ms/step\n",
      "Epoch 1447/1500\n",
      "8/8 - 1s - loss: 1.7839 - energy_loss: 0.2968 - force_loss: 0.0744 - 637ms/epoch - 80ms/step\n",
      "Epoch 1448/1500\n",
      "8/8 - 1s - loss: 1.8501 - energy_loss: 0.3171 - force_loss: 0.0766 - 607ms/epoch - 76ms/step\n",
      "Epoch 1449/1500\n",
      "8/8 - 1s - loss: 1.8423 - energy_loss: 0.3111 - force_loss: 0.0766 - 599ms/epoch - 75ms/step\n",
      "Epoch 1450/1500\n",
      "8/8 - 1s - loss: 1.7719 - energy_loss: 0.3149 - force_loss: 0.0729 - 590ms/epoch - 74ms/step\n",
      "Epoch 1451/1500\n",
      "8/8 - 1s - loss: 1.6898 - energy_loss: 0.3050 - force_loss: 0.0692 - 605ms/epoch - 76ms/step\n",
      "Epoch 1452/1500\n",
      "8/8 - 1s - loss: 1.7285 - energy_loss: 0.3019 - force_loss: 0.0713 - 587ms/epoch - 73ms/step\n",
      "Epoch 1453/1500\n",
      "8/8 - 1s - loss: 1.7353 - energy_loss: 0.2921 - force_loss: 0.0722 - 631ms/epoch - 79ms/step\n",
      "Epoch 1454/1500\n",
      "8/8 - 1s - loss: 1.7460 - energy_loss: 0.2918 - force_loss: 0.0727 - 610ms/epoch - 76ms/step\n",
      "Epoch 1455/1500\n",
      "8/8 - 1s - loss: 1.7187 - energy_loss: 0.2989 - force_loss: 0.0710 - 634ms/epoch - 79ms/step\n",
      "Epoch 1456/1500\n",
      "8/8 - 1s - loss: 1.7916 - energy_loss: 0.2919 - force_loss: 0.0750 - 652ms/epoch - 81ms/step\n",
      "Epoch 1457/1500\n",
      "8/8 - 1s - loss: 1.7417 - energy_loss: 0.3003 - force_loss: 0.0721 - 631ms/epoch - 79ms/step\n",
      "Epoch 1458/1500\n",
      "8/8 - 1s - loss: 1.7099 - energy_loss: 0.2765 - force_loss: 0.0717 - 648ms/epoch - 81ms/step\n",
      "Epoch 1459/1500\n",
      "8/8 - 1s - loss: 1.7110 - energy_loss: 0.2656 - force_loss: 0.0723 - 606ms/epoch - 76ms/step\n",
      "Epoch 1460/1500\n",
      "8/8 - 1s - loss: 1.9387 - energy_loss: 0.5766 - force_loss: 0.0681 - 591ms/epoch - 74ms/step\n",
      "Epoch 1461/1500\n",
      "8/8 - 1s - loss: 1.8903 - energy_loss: 0.5047 - force_loss: 0.0693 - 583ms/epoch - 73ms/step\n",
      "Epoch 1462/1500\n",
      "8/8 - 1s - loss: 1.8582 - energy_loss: 0.5004 - force_loss: 0.0679 - 585ms/epoch - 73ms/step\n",
      "Epoch 1463/1500\n",
      "8/8 - 1s - loss: 1.8011 - energy_loss: 0.4982 - force_loss: 0.0651 - 583ms/epoch - 73ms/step\n",
      "Epoch 1464/1500\n",
      "8/8 - 1s - loss: 1.7966 - energy_loss: 0.4657 - force_loss: 0.0665 - 596ms/epoch - 75ms/step\n",
      "Epoch 1465/1500\n",
      "8/8 - 1s - loss: 1.8388 - energy_loss: 0.5297 - force_loss: 0.0655 - 597ms/epoch - 75ms/step\n",
      "Epoch 1466/1500\n",
      "8/8 - 1s - loss: 1.5447 - energy_loss: 0.1717 - force_loss: 0.0686 - 584ms/epoch - 73ms/step\n",
      "Epoch 1467/1500\n",
      "8/8 - 1s - loss: 1.3845 - energy_loss: 0.1101 - force_loss: 0.0637 - 605ms/epoch - 76ms/step\n",
      "Epoch 1468/1500\n",
      "8/8 - 1s - loss: 1.3904 - energy_loss: 0.1377 - force_loss: 0.0626 - 582ms/epoch - 73ms/step\n",
      "Epoch 1469/1500\n",
      "8/8 - 1s - loss: 1.3685 - energy_loss: 0.1459 - force_loss: 0.0611 - 584ms/epoch - 73ms/step\n",
      "Epoch 1470/1500\n",
      "8/8 - 1s - loss: 1.4077 - energy_loss: 0.1618 - force_loss: 0.0623 - 580ms/epoch - 72ms/step\n",
      "Epoch 1471/1500\n",
      "8/8 - 1s - loss: 1.3751 - energy_loss: 0.1512 - force_loss: 0.0612 - 589ms/epoch - 74ms/step\n",
      "Epoch 1472/1500\n",
      "8/8 - 1s - loss: 1.3620 - energy_loss: 0.1332 - force_loss: 0.0614 - 586ms/epoch - 73ms/step\n",
      "Epoch 1473/1500\n",
      "8/8 - 1s - loss: 1.3658 - energy_loss: 0.1460 - force_loss: 0.0610 - 583ms/epoch - 73ms/step\n",
      "Epoch 1474/1500\n",
      "8/8 - 1s - loss: 1.3466 - energy_loss: 0.1399 - force_loss: 0.0603 - 648ms/epoch - 81ms/step\n",
      "Epoch 1475/1500\n",
      "8/8 - 1s - loss: 1.6958 - energy_loss: 0.3982 - force_loss: 0.0649 - 599ms/epoch - 75ms/step\n",
      "Epoch 1476/1500\n",
      "8/8 - 1s - loss: 1.8292 - energy_loss: 0.5429 - force_loss: 0.0643 - 614ms/epoch - 77ms/step\n",
      "Epoch 1477/1500\n",
      "8/8 - 1s - loss: 1.6539 - energy_loss: 0.2435 - force_loss: 0.0705 - 602ms/epoch - 75ms/step\n",
      "Epoch 1478/1500\n",
      "8/8 - 1s - loss: 2.2165 - energy_loss: 0.5061 - force_loss: 0.0855 - 588ms/epoch - 73ms/step\n",
      "Epoch 1479/1500\n",
      "8/8 - 1s - loss: 2.2316 - energy_loss: 0.5006 - force_loss: 0.0865 - 594ms/epoch - 74ms/step\n",
      "Epoch 1480/1500\n",
      "8/8 - 1s - loss: 1.6919 - energy_loss: 0.1395 - force_loss: 0.0776 - 642ms/epoch - 80ms/step\n",
      "Epoch 1481/1500\n",
      "8/8 - 1s - loss: 1.5496 - energy_loss: 0.1370 - force_loss: 0.0706 - 590ms/epoch - 74ms/step\n",
      "Epoch 1482/1500\n",
      "8/8 - 1s - loss: 1.6186 - energy_loss: 0.2404 - force_loss: 0.0689 - 634ms/epoch - 79ms/step\n",
      "Epoch 1483/1500\n",
      "8/8 - 1s - loss: 1.6250 - energy_loss: 0.1576 - force_loss: 0.0734 - 589ms/epoch - 74ms/step\n",
      "Epoch 1484/1500\n",
      "8/8 - 1s - loss: 1.4499 - energy_loss: 0.1349 - force_loss: 0.0658 - 586ms/epoch - 73ms/step\n",
      "Epoch 1485/1500\n",
      "8/8 - 1s - loss: 1.4434 - energy_loss: 0.1549 - force_loss: 0.0644 - 615ms/epoch - 77ms/step\n",
      "Epoch 1486/1500\n",
      "8/8 - 1s - loss: 1.3931 - energy_loss: 0.1358 - force_loss: 0.0629 - 588ms/epoch - 74ms/step\n",
      "Epoch 1487/1500\n",
      "8/8 - 1s - loss: 1.5054 - energy_loss: 0.2412 - force_loss: 0.0632 - 584ms/epoch - 73ms/step\n",
      "Epoch 1488/1500\n",
      "8/8 - 1s - loss: 1.4749 - energy_loss: 0.1472 - force_loss: 0.0664 - 597ms/epoch - 75ms/step\n",
      "Epoch 1489/1500\n",
      "8/8 - 1s - loss: 1.4261 - energy_loss: 0.1522 - force_loss: 0.0637 - 592ms/epoch - 74ms/step\n",
      "Epoch 1490/1500\n",
      "8/8 - 1s - loss: 1.4459 - energy_loss: 0.1570 - force_loss: 0.0644 - 598ms/epoch - 75ms/step\n",
      "Epoch 1491/1500\n",
      "8/8 - 1s - loss: 1.3956 - energy_loss: 0.1552 - force_loss: 0.0620 - 591ms/epoch - 74ms/step\n",
      "Epoch 1492/1500\n",
      "8/8 - 1s - loss: 1.3533 - energy_loss: 0.1365 - force_loss: 0.0608 - 609ms/epoch - 76ms/step\n",
      "Epoch 1493/1500\n",
      "8/8 - 1s - loss: 1.3799 - energy_loss: 0.1502 - force_loss: 0.0615 - 592ms/epoch - 74ms/step\n",
      "Epoch 1494/1500\n",
      "8/8 - 1s - loss: 1.4150 - energy_loss: 0.1398 - force_loss: 0.0638 - 584ms/epoch - 73ms/step\n",
      "Epoch 1495/1500\n",
      "8/8 - 1s - loss: 1.5756 - energy_loss: 0.2479 - force_loss: 0.0664 - 577ms/epoch - 72ms/step\n",
      "Epoch 1496/1500\n",
      "8/8 - 1s - loss: 1.4159 - energy_loss: 0.1364 - force_loss: 0.0640 - 562ms/epoch - 70ms/step\n",
      "Epoch 1497/1500\n",
      "8/8 - 1s - loss: 1.4557 - energy_loss: 0.1473 - force_loss: 0.0654 - 571ms/epoch - 71ms/step\n",
      "Epoch 1498/1500\n",
      "8/8 - 1s - loss: 1.4696 - energy_loss: 0.1643 - force_loss: 0.0653 - 570ms/epoch - 71ms/step\n",
      "Epoch 1499/1500\n",
      "8/8 - 1s - loss: 1.7963 - energy_loss: 0.3854 - force_loss: 0.0705 - 568ms/epoch - 71ms/step\n",
      "Epoch 1500/1500\n",
      "8/8 - 1s - loss: 1.4900 - energy_loss: 0.1466 - force_loss: 0.0672 - 567ms/epoch - 71ms/step\n"
     ]
    }
   ],
   "source": [
    "hist = model.fit(\n",
    "    x_tensor, {\"energy\": eng, \"force\": forces},\n",
    "    shuffle=True,\n",
    "    batch_size=64,\n",
    "    epochs=1500,\n",
    "    verbose=0,\n",
    ")"
   ]
  },
  {
   "cell_type": "code",
   "execution_count": 16,
   "id": "e312e998",
   "metadata": {},
   "outputs": [],
   "source": [
    "from kgcnn.utils.plots import plot_train_test_loss"
   ]
  },
  {
   "cell_type": "code",
   "execution_count": 17,
   "id": "1370f095",
   "metadata": {},
   "outputs": [
    {
     "data": {
      "image/png": "[encoded data removed]",
      "text/plain": [
       "<Figure size 640x480 with 1 Axes>"
      ]
     },
     "metadata": {},
     "output_type": "display_data"
    }
   ],
   "source": [
    "plot_train_test_loss([hist]);"
   ]
  },
  {
   "cell_type": "markdown",
   "id": "8d0a0440",
   "metadata": {},
   "source": [
    "## 3. `MolDynamicsModelPredictor` wrapping pre- and postprocessing"
   ]
  },
  {
   "cell_type": "code",
   "execution_count": 18,
   "id": "957e8025",
   "metadata": {},
   "outputs": [],
   "source": [
    "from kgcnn.molecule.dynamics.base import MolDynamicsModelPredictor\n",
    "from kgcnn.graph.postprocessor import ExtensiveEnergyForceScalerPostprocessor\n",
    "from kgcnn.graph.preprocessor import SetRange, CountNodesAndEdges"
   ]
  },
  {
   "cell_type": "code",
   "execution_count": 19,
   "id": "a239c889",
   "metadata": {},
   "outputs": [],
   "source": [
    "dyn_model = MolDynamicsModelPredictor(\n",
    "    model=model, \n",
    "    model_inputs=model_config[\"model_energy\"][\"config\"][\"inputs\"], \n",
    "    model_outputs={\"energy\":\"energy\", \"forces\": \"force\"},\n",
    "    graph_preprocessors=[\n",
    "        SetRange(node_coordinates=\"node_coordinates\", overwrite=False), \n",
    "        CountNodesAndEdges(total_edges=\"total_ranges\", count_edges=\"range_indices\", count_nodes=\"atomic_number\", total_nodes=\"total_nodes\")\n",
    "    ],  # To use \n",
    "    graph_postprocessors=[\n",
    "        ExtensiveEnergyForceScalerPostprocessor(\n",
    "            scaler, energy=\"energy\", force=\"forces\", atomic_number=\"atomic_number\")],\n",
    "    store_last_input=True,\n",
    "    update_from_last_input=[\"range_indices\"],  # and \"range_images\" if periodic.\n",
    "    update_from_last_input_skip=3,\n",
    "    use_predict=True\n",
    ")"
   ]
  },
  {
   "cell_type": "code",
   "execution_count": 20,
   "id": "9f62e23f",
   "metadata": {},
   "outputs": [
    {
     "data": {
      "text/plain": [
       "{'energy': array([-17469.83828173]),\n",
       " 'forces': array([[-2.670555  ,  2.6772392 , -0.9047204 ],\n",
       "        [-0.99556243, -0.8928257 ,  2.115237  ],\n",
       "        [ 3.0201063 , -2.1920564 , -0.10269466],\n",
       "        [-0.3934617 ,  1.6692059 , -0.10940111],\n",
       "        [-0.0665977 ,  1.8290963 ,  0.9220997 ],\n",
       "        [-0.6138771 ,  0.35973954, -0.12089539],\n",
       "        [ 0.07644939,  0.7710326 , -2.137013  ],\n",
       "        [-0.3606711 , -1.1926634 , -0.03478914],\n",
       "        [ 0.6117526 ,  3.666739  ,  1.8770413 ],\n",
       "        [-0.78135276,  1.9039568 ,  0.8194084 ],\n",
       "        [ 1.1729598 , -1.1987687 ,  0.53568983],\n",
       "        [ 0.52312624, -3.6745806 , -1.8835176 ],\n",
       "        [ 2.1295605 , -1.0608826 , -0.69878817],\n",
       "        [-0.2534858 , -0.50828743,  0.338701  ],\n",
       "        [ 1.2685527 , -1.9717028 ,  1.4492956 ],\n",
       "        [ 0.08581114,  0.35703838, -0.92711794],\n",
       "        [-1.0106573 ,  0.34707612, -0.18868059],\n",
       "        [-0.41618347,  0.49094236, -0.32614136],\n",
       "        [-0.28099245, -1.0225637 , -0.6689911 ],\n",
       "        [-0.503161  ,  0.32071835, -0.55113465],\n",
       "        [-0.54176235, -0.6784541 ,  0.59641206]], dtype=float32)}"
      ]
     },
     "execution_count": 20,
     "metadata": {},
     "output_type": "execute_result"
    }
   ],
   "source": [
    "dyn_model(dataset[0:510])[0]"
   ]
  },
  {
   "cell_type": "markdown",
   "id": "ecd94305",
   "metadata": {},
   "source": [
    "## 4. Use ASE compatible `KgcnnSingleCalculator`"
   ]
  },
  {
   "cell_type": "code",
   "execution_count": 21,
   "id": "c78027e9",
   "metadata": {},
   "outputs": [],
   "source": [
    "from ase import Atoms\n",
    "from kgcnn.molecule.dynamics.ase_calc import KgcnnSingleCalculator, AtomsToGraphConverter"
   ]
  },
  {
   "cell_type": "code",
   "execution_count": 22,
   "id": "ff3a525d",
   "metadata": {},
   "outputs": [
    {
     "data": {
      "text/plain": [
       "Atoms(symbols='C7O3C2OH8', pbc=False)"
      ]
     },
     "execution_count": 22,
     "metadata": {},
     "output_type": "execute_result"
    }
   ],
   "source": [
    "atoms = Atoms(dataset[0][\"atomic_number\"], positions=dataset[0][\"node_coordinates\"])\n",
    "atoms"
   ]
  },
  {
   "cell_type": "code",
   "execution_count": 23,
   "id": "b86c71fa",
   "metadata": {},
   "outputs": [
    {
     "data": {
      "text/plain": [
       "<MemoryGraphList [{'atomic_number': array([6, 6, 6, 6, 6, 6, 6, 8, 8, 8, 6, 6, 8, 1, 1, 1, 1, 1, 1, 1, 1]), 'node_coordinates': array([[ 2.15275078, -0.93790121, -0.05378575],\n",
       "       [ 0.99956719,  1.13262738, -1.67300307],\n",
       "       [ 2.73218273, -0.44859684, -1.19275553],\n",
       "       [ 2.14794307,  0.41880283, -2.08405233],\n",
       "       [-3.15705489,  1.42240939,  0.33067654],\n",
       "       [ 0.91168856, -0.33727827,  0.29772754],\n",
       "       [ 0.36105629,  0.72618343, -0.42339745],\n",
       "       [-0.40166094, -0.12259909,  2.26219435],\n",
       "       [-2.13128849, -0.48888369, -0.80224462],\n",
       "       [ 0.29867456, -2.24990948,  1.44246368],\n",
       "       [ 0.1239993 , -0.83296539,  1.42230211],\n",
       "       [-2.04596577,  0.64616435, -0.22107209],\n",
       "       [-0.88096468,  1.36265193, -0.06099633],\n",
       "       [-0.02472582, -2.46371902,  2.33402192],\n",
       "       [ 2.47956412, -1.70739289,  0.55101985],\n",
       "       [ 0.49126967,  1.99943374, -2.09234064],\n",
       "       [ 3.77819263, -0.85891833, -1.40897491],\n",
       "       [ 2.75656656,  0.58901616, -2.98423316],\n",
       "       [-2.82095412,  2.33964098,  0.93973904],\n",
       "       [-3.76033286,  1.76801371, -0.50670433],\n",
       "       [-3.80678333,  0.80577181,  0.93093152]])} ...]>"
      ]
     },
     "execution_count": 23,
     "metadata": {},
     "output_type": "execute_result"
    }
   ],
   "source": [
    "conv=AtomsToGraphConverter({\"atomic_number\": \"get_atomic_numbers\", \"node_coordinates\": \"get_positions\"})\n",
    "conv(atoms)"
   ]
  },
  {
   "cell_type": "code",
   "execution_count": 24,
   "id": "f886b267",
   "metadata": {},
   "outputs": [
    {
     "data": {
      "text/plain": [
       "<kgcnn.molecule.dynamics.ase_calc.KgcnnSingleCalculator at 0x202e46eb220>"
      ]
     },
     "execution_count": 24,
     "metadata": {},
     "output_type": "execute_result"
    }
   ],
   "source": [
    "calc = KgcnnSingleCalculator(model_predictor=dyn_model, atoms_converter=conv)\n",
    "calc"
   ]
  },
  {
   "cell_type": "code",
   "execution_count": 25,
   "id": "5e323e89",
   "metadata": {},
   "outputs": [],
   "source": [
    "from ase.md.velocitydistribution import MaxwellBoltzmannDistribution\n",
    "from ase.md.verlet import VelocityVerlet\n",
    "from ase import units"
   ]
  },
  {
   "cell_type": "code",
   "execution_count": 26,
   "id": "e0d59a45",
   "metadata": {},
   "outputs": [
    {
     "name": "stdout",
     "output_type": "stream",
     "text": [
      "{'energy': array(-17469.83828191), 'forces': array([[-2.6705542 ,  2.6772387 , -0.9047214 ],\n",
      "       [-0.9955634 , -0.8928251 ,  2.1152375 ],\n",
      "       [ 3.0201075 , -2.192057  , -0.10269532],\n",
      "       [-0.39346123,  1.6692051 , -0.10939991],\n",
      "       [-0.06659603,  1.8290954 ,  0.92209923],\n",
      "       [-0.6138769 ,  0.35974014, -0.12089533],\n",
      "       [ 0.07644919,  0.77103245, -2.1370127 ],\n",
      "       [-0.36067158, -1.1926638 , -0.03478879],\n",
      "       [ 0.61175245,  3.6667366 ,  1.8770401 ],\n",
      "       [-0.7813537 ,  1.9039577 ,  0.8194096 ],\n",
      "       [ 1.1729604 , -1.1987686 ,  0.5356884 ],\n",
      "       [ 0.5231255 , -3.6745777 , -1.8835161 ],\n",
      "       [ 2.12956   , -1.0608817 , -0.69878805],\n",
      "       [-0.25348562, -0.50828815,  0.338701  ],\n",
      "       [ 1.2685529 , -1.9717036 ,  1.4492959 ],\n",
      "       [ 0.08581102,  0.35703826, -0.9271178 ],\n",
      "       [-1.0106578 ,  0.34707642, -0.1886805 ],\n",
      "       [-0.41618264,  0.49094242, -0.3261423 ],\n",
      "       [-0.28099155, -1.0225631 , -0.6689911 ],\n",
      "       [-0.5031617 ,  0.32071868, -0.55113506],\n",
      "       [-0.5417628 , -0.6784543 ,  0.5964118 ]], dtype=float32)}\n"
     ]
    }
   ],
   "source": [
    "atoms.calc = calc\n",
    "calc.calculate(atoms)\n",
    "print(calc.results)\n",
    "\n",
    "# Set the momenta corresponding to T=300K\n",
    "MaxwellBoltzmannDistribution(atoms, temperature_K=300)\n",
    "\n",
    "# We want to run MD with constant energy using the VelocityVerlet algorithm.\n",
    "dyn = VelocityVerlet(atoms, 1 * units.fs)  # 5 fs time step."
   ]
  },
  {
   "cell_type": "code",
   "execution_count": 27,
   "id": "e9f42dc3",
   "metadata": {},
   "outputs": [
    {
     "name": "stdout",
     "output_type": "stream",
     "text": [
      "Energy per atom: Epot = -831.897eV  Ekin = 0.052eV (T=399K)  Etot = -831.846eV\n",
      "Energy per atom: Epot = -831.892eV  Ekin = 0.051eV (T=392K)  Etot = -831.841eV\n",
      "Energy per atom: Epot = -831.918eV  Ekin = 0.074eV (T=569K)  Etot = -831.844eV\n",
      "Energy per atom: Epot = -831.913eV  Ekin = 0.068eV (T=524K)  Etot = -831.845eV\n",
      "Energy per atom: Epot = -831.896eV  Ekin = 0.056eV (T=437K)  Etot = -831.839eV\n",
      "Energy per atom: Epot = -831.908eV  Ekin = 0.072eV (T=560K)  Etot = -831.836eV\n",
      "Energy per atom: Epot = -831.908eV  Ekin = 0.068eV (T=525K)  Etot = -831.840eV\n",
      "Energy per atom: Epot = -831.914eV  Ekin = 0.070eV (T=541K)  Etot = -831.844eV\n",
      "Energy per atom: Epot = -831.904eV  Ekin = 0.067eV (T=518K)  Etot = -831.837eV\n",
      "Energy per atom: Epot = -831.900eV  Ekin = 0.063eV (T=491K)  Etot = -831.837eV\n",
      "Energy per atom: Epot = -831.901eV  Ekin = 0.057eV (T=442K)  Etot = -831.844eV\n",
      "Energy per atom: Epot = -831.906eV  Ekin = 0.063eV (T=489K)  Etot = -831.843eV\n",
      "Energy per atom: Epot = -831.903eV  Ekin = 0.065eV (T=505K)  Etot = -831.838eV\n",
      "Energy per atom: Epot = -831.903eV  Ekin = 0.067eV (T=516K)  Etot = -831.836eV\n",
      "Energy per atom: Epot = -831.893eV  Ekin = 0.057eV (T=443K)  Etot = -831.836eV\n",
      "Energy per atom: Epot = -831.903eV  Ekin = 0.065eV (T=499K)  Etot = -831.838eV\n",
      "Energy per atom: Epot = -831.911eV  Ekin = 0.068eV (T=525K)  Etot = -831.843eV\n",
      "Energy per atom: Epot = -831.903eV  Ekin = 0.057eV (T=442K)  Etot = -831.846eV\n",
      "Energy per atom: Epot = -831.908eV  Ekin = 0.064eV (T=492K)  Etot = -831.844eV\n",
      "Energy per atom: Epot = -831.911eV  Ekin = 0.069eV (T=532K)  Etot = -831.842eV\n",
      "Energy per atom: Epot = -831.903eV  Ekin = 0.068eV (T=527K)  Etot = -831.835eV\n"
     ]
    }
   ],
   "source": [
    "def printenergy(a):\n",
    "    \"\"\"Function to print the potential, kinetic and total energy\"\"\"\n",
    "    epot = a.get_potential_energy() / len(a)\n",
    "    ekin = a.get_kinetic_energy() / len(a)\n",
    "    print('Energy per atom: Epot = %.3feV  Ekin = %.3feV (T=%3.0fK)  '\n",
    "          'Etot = %.3feV' % (epot, ekin, ekin / (1.5 * units.kB), epot + ekin))\n",
    "\n",
    "\n",
    "# Now run the dynamics\n",
    "printenergy(atoms)\n",
    "for i in range(20):\n",
    "    dyn.run(10)\n",
    "    printenergy(atoms)"
   ]
  },
  {
   "cell_type": "code",
   "execution_count": 28,
   "id": "be5ef139",
   "metadata": {},
   "outputs": [],
   "source": [
    "calc.model_predictor._last_input;"
   ]
  },
  {
   "cell_type": "code",
   "execution_count": 29,
   "id": "aead5d3d",
   "metadata": {},
   "outputs": [
    {
     "data": {
      "text/plain": [
       "0.018125"
      ]
     },
     "execution_count": 29,
     "metadata": {},
     "output_type": "execute_result"
    }
   ],
   "source": [
    "dyn_model._test_timing(conv(atoms))"
   ]
  }
 ],
 "metadata": {
  "kernelspec": {
   "display_name": "Python 3 (ipykernel)",
   "language": "python",
   "name": "python3"
  },
  "language_info": {
   "codemirror_mode": {
    "name": "ipython",
    "version": 3
   },
   "file_extension": ".py",
   "mimetype": "text/x-python",
   "name": "python",
   "nbconvert_exporter": "python",
   "pygments_lexer": "ipython3",
   "version": "3.10.5"
  }
 },
 "nbformat": 4,
 "nbformat_minor": 5
}
