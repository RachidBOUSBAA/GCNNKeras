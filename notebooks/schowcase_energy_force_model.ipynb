{
 "cells": [
  {
   "cell_type": "markdown",
   "id": "8bf28f0c",
   "metadata": {},
   "source": [
    "# Molecular dynamics from NN potentials"
   ]
  },
  {
   "cell_type": "markdown",
   "id": "9c14ef85",
   "metadata": {},
   "source": [
    "## 1. Datset with energy and forces"
   ]
  },
  {
   "cell_type": "code",
   "execution_count": 1,
   "id": "9039a4c8",
   "metadata": {},
   "outputs": [],
   "source": [
    "import numpy as np\n",
    "from kgcnn.data.datasets.MD17RevisedDataset import MD17RevisedDataset"
   ]
  },
  {
   "cell_type": "code",
   "execution_count": 2,
   "id": "968d1d52",
   "metadata": {},
   "outputs": [
    {
     "name": "stderr",
     "output_type": "stream",
     "text": [
      "INFO:kgcnn.data.download:Checking and possibly downloading dataset with name MD17Revised\n",
      "INFO:kgcnn.data.download:Dataset directory located at C:\\Users\\patri\\.kgcnn\\datasets\n",
      "INFO:kgcnn.data.download:Dataset directory found. Done.\n",
      "INFO:kgcnn.data.download:Dataset found. Done.\n",
      "INFO:kgcnn.data.download:Directory for extraction exists. Done.\n",
      "INFO:kgcnn.data.download:Not extracting tar File. Stopped.\n"
     ]
    },
    {
     "name": "stdout",
     "output_type": "stream",
     "text": [
      "Number of steps 100000\n"
     ]
    }
   ],
   "source": [
    "dataset = MD17RevisedDataset(\"aspirin\")\n",
    "print(\"Number of steps\", len(dataset))"
   ]
  },
  {
   "cell_type": "code",
   "execution_count": 3,
   "id": "31504d0a",
   "metadata": {},
   "outputs": [
    {
     "data": {
      "text/plain": [
       "dict_keys(['old_indices', 'old_energies', 'old_forces', 'energy', 'force', 'atomic_number', 'node_coordinates', 'range_indices', 'range_attributes', 'total_nodes', 'total_ranges'])"
      ]
     },
     "execution_count": 3,
     "metadata": {},
     "output_type": "execute_result"
    }
   ],
   "source": [
    "dataset.rename_property_on_graphs(old_property_name=\"energies\", new_property_name=\"energy\")\n",
    "dataset.rename_property_on_graphs(old_property_name=\"forces\", new_property_name=\"force\")\n",
    "dataset.rename_property_on_graphs(old_property_name=\"nuclear_charges\", new_property_name=\"atomic_number\")\n",
    "dataset.rename_property_on_graphs(old_property_name=\"coords\", new_property_name=\"node_coordinates\")\n",
    "data = dataset[:500]\n",
    "data.map_list(method=\"set_range\", node_coordinates=\"node_coordinates\")\n",
    "data.map_list(method=\"count_nodes_and_edges\", total_edges=\"total_ranges\", count_edges=\"range_indices\", \n",
    "    count_nodes=\"atomic_number\", total_nodes=\"total_nodes\")\n",
    "data[0].keys()"
   ]
  },
  {
   "cell_type": "code",
   "execution_count": 4,
   "id": "b4fce4b0",
   "metadata": {},
   "outputs": [
    {
     "data": {
      "text/plain": [
       "((500, 1), array([-17469.90164208]))"
      ]
     },
     "execution_count": 4,
     "metadata": {},
     "output_type": "execute_result"
    }
   ],
   "source": [
    "eng = np.array(data.get(\"energy\"))*0.043  # kcal/mol to eV\n",
    "eng.shape, eng[0]"
   ]
  },
  {
   "cell_type": "code",
   "execution_count": 5,
   "id": "4b0e78fa",
   "metadata": {},
   "outputs": [
    {
     "data": {
      "text/plain": [
       "array([[-2.74137341,  2.67700611, -0.75129579],\n",
       "       [-0.90631249, -0.85888416,  2.00726686],\n",
       "       [ 3.08056969, -2.19163918, -0.22727128],\n",
       "       [-0.37739256,  1.81854455, -0.04203819],\n",
       "       [ 0.06849278,  1.909797  ,  0.88471585],\n",
       "       [-0.57261954,  0.14867004, -0.18995724],\n",
       "       [ 0.22410948,  0.77632092, -2.1626258 ],\n",
       "       [-0.33297714, -1.23917868, -0.10066419],\n",
       "       [ 0.52634416,  3.8645722 ,  2.08451895],\n",
       "       [-0.72435461,  1.99949058,  0.7122311 ],\n",
       "       [ 1.25228829, -1.18763783,  0.57869244],\n",
       "       [ 0.61277482, -3.80501328, -2.03832495],\n",
       "       [ 1.67075583, -0.99873548, -0.52365172],\n",
       "       [-0.30834985, -0.53698349,  0.41058368],\n",
       "       [ 1.24551168, -1.9163207 ,  1.40335446],\n",
       "       [ 0.13337422,  0.1260334 , -0.94909162],\n",
       "       [-1.12054561,  0.36520689, -0.17419492],\n",
       "       [-0.46182796,  0.5091511 , -0.24017999],\n",
       "       [-0.29275676, -1.11448041, -0.71522209],\n",
       "       [-0.47046873,  0.30675033, -0.52878298],\n",
       "       [-0.50524218, -0.65266984,  0.56193748]])"
      ]
     },
     "execution_count": 5,
     "metadata": {},
     "output_type": "execute_result"
    }
   ],
   "source": [
    "forces = data.tensor({\"name\": \"force\", \"shape\": (None, 3)})*0.043  # kcal/mol to eV\n",
    "atoms = data.get(\"atomic_number\")\n",
    "forces[0]"
   ]
  },
  {
   "cell_type": "code",
   "execution_count": 6,
   "id": "44e093c6",
   "metadata": {},
   "outputs": [
    {
     "data": {
      "text/plain": [
       "array([[-0.09150233],\n",
       "       [ 0.09685228],\n",
       "       [-0.32295041]])"
      ]
     },
     "execution_count": 6,
     "metadata": {},
     "output_type": "execute_result"
    }
   ],
   "source": [
    "from kgcnn.data.transform.scaler.force import EnergyForceExtensiveLabelScaler\n",
    "scaler = EnergyForceExtensiveLabelScaler(standardize_coordinates=False, standardize_scale=False)  # For testing no scale.\n",
    "eng, _ = scaler.fit_transform(X=None, y=eng, force=forces, atomic_number=atoms)\n",
    "eng[:3]"
   ]
  },
  {
   "cell_type": "markdown",
   "id": "8970c9a2",
   "metadata": {},
   "source": [
    "## 2. `EnergyForceModel` container"
   ]
  },
  {
   "cell_type": "code",
   "execution_count": 7,
   "id": "a4e73b9b",
   "metadata": {},
   "outputs": [],
   "source": [
    "from kgcnn.models.force import EnergyForceModel"
   ]
  },
  {
   "cell_type": "code",
   "execution_count": 8,
   "id": "893c1b09",
   "metadata": {},
   "outputs": [
    {
     "name": "stderr",
     "output_type": "stream",
     "text": [
      "WARNING:kgcnn.models.utils:Model kwargs: Overwriting dictionary of output_mlp with None\n",
      "INFO:kgcnn.models.utils:Updated model kwargs: '{'name': 'Schnet', 'inputs': [{'shape': [None], 'name': 'atomic_number', 'dtype': 'int32'}, {'shape': [None, 3], 'name': 'node_coordinates', 'dtype': 'float32'}, {'shape': [None, 2], 'name': 'range_indices', 'dtype': 'int64'}, {'shape': (), 'name': 'total_nodes', 'dtype': 'int64'}, {'shape': (), 'name': 'total_ranges', 'dtype': 'int64'}], 'input_tensor_type': 'padded', 'input_embedding': None, 'cast_disjoint_kwargs': {'padded_disjoint': False}, 'input_node_embedding': {'input_dim': 95, 'output_dim': 64}, 'make_distance': True, 'expand_distance': True, 'interaction_args': {'units': 128, 'use_bias': True, 'activation': {'class_name': 'function', 'config': 'kgcnn>shifted_softplus'}, 'cfconv_pool': 'scatter_sum'}, 'node_pooling_args': {'pooling_method': 'scatter_sum'}, 'depth': 4, 'gauss_args': {'bins': 20, 'distance': 4, 'offset': 0.0, 'sigma': 0.4}, 'verbose': 10, 'last_mlp': {'use_bias': [True, True, True], 'units': [128, 64, 1], 'activation': [{'class_name': 'function', 'config': 'kgcnn>shifted_softplus'}, {'class_name': 'function', 'config': 'kgcnn>shifted_softplus'}, 'linear']}, 'output_embedding': 'graph', 'output_to_tensor': None, 'use_output_mlp': False, 'output_tensor_type': 'padded', 'output_scaling': None, 'output_mlp': None}'.\n"
     ]
    }
   ],
   "source": [
    "model_config = {\n",
    "    \"name\": \"Schnet\",\n",
    "    \"coordinate_input\": 1,\n",
    "    \"inputs\": [\n",
    "        {\"shape\": [None], \"name\": \"node_number\", \"dtype\": \"int32\"},\n",
    "        {\"shape\": [None, 3], \"name\": \"node_coordinates\", \"dtype\": \"float32\"},\n",
    "        {\"shape\": [None, 2], \"name\": \"range_indices\", \"dtype\": \"int64\"},\n",
    "        {\"shape\": (), \"name\": \"total_nodes\", \"dtype\": \"int64\"},\n",
    "        {\"shape\": (), \"name\": \"total_ranges\", \"dtype\": \"int64\"}\n",
    "    ],\n",
    "    \"nested_model_config\": True,\n",
    "    \"output_to_tensor\": True,\n",
    "    \"output_squeeze_states\": True,\n",
    "    \"model_energy\": {\n",
    "        \"class_name\": \"make_model\",\n",
    "        \"module_name\": \"kgcnn.literature.Schnet\",\n",
    "        \"config\": {\n",
    "            \"name\": \"Schnet\",\n",
    "            \"inputs\": [\n",
    "                {\"shape\": [None], \"name\": \"atomic_number\", \"dtype\": \"int32\"},\n",
    "                {\"shape\": [None, 3], \"name\": \"node_coordinates\", \"dtype\": \"float32\"},\n",
    "                {\"shape\": [None, 2], \"name\": \"range_indices\", \"dtype\": \"int64\"},\n",
    "                {\"shape\": (), \"name\": \"total_nodes\", \"dtype\": \"int64\"},\n",
    "                {\"shape\": (), \"name\": \"total_ranges\", \"dtype\": \"int64\"}\n",
    "            ],\n",
    "            \"cast_disjoint_kwargs\": {\"padded_disjoint\": False},\n",
    "            \"input_node_embedding\": {\"input_dim\": 95, \"output_dim\": 64},\n",
    "            \"last_mlp\": {\"use_bias\": [True, True, True], \"units\": [128, 64, 1],\n",
    "                         \"activation\": [\n",
    "                             {\"class_name\": \"function\", \"config\": \"kgcnn>shifted_softplus\"}, \n",
    "                             {\"class_name\": \"function\", \"config\": \"kgcnn>shifted_softplus\"}, \n",
    "                             'linear'\n",
    "                         ]},\n",
    "            \"interaction_args\": {\n",
    "                \"units\": 128, \"use_bias\": True, \n",
    "                \"activation\": {\"class_name\": \"function\", \"config\": \"kgcnn>shifted_softplus\"},\n",
    "                \"cfconv_pool\": \"scatter_sum\"\n",
    "            },\n",
    "            \"node_pooling_args\": {\"pooling_method\": \"scatter_sum\"},\n",
    "            \"depth\": 4,\n",
    "            \"gauss_args\": {\"bins\": 20, \"distance\": 4, \"offset\": 0.0, \"sigma\": 0.4}, \"verbose\": 10,\n",
    "            \"output_embedding\": \"graph\",\n",
    "            \"use_output_mlp\": False,\n",
    "            \"output_mlp\": None\n",
    "        }\n",
    "    },\n",
    "    \"outputs\": {\"energy\": {\"name\": \"energy\", \"shape\": (1,)},\n",
    "                \"forces\": {\"name\": \"force\", \"shape\": (None, 3)}}\n",
    "\n",
    "}\n",
    "model = EnergyForceModel(**model_config)"
   ]
  },
  {
   "cell_type": "code",
   "execution_count": 9,
   "id": "95618ef0",
   "metadata": {},
   "outputs": [
    {
     "name": "stdout",
     "output_type": "stream",
     "text": [
      "[(500, 21), (500, 21, 3), (500, 232, 2), (500,), (500,)]\n"
     ]
    }
   ],
   "source": [
    "x_tensor = data.tensor(model_config[\"model_energy\"][\"config\"][\"inputs\"])\n",
    "print([x.shape for x in x_tensor])"
   ]
  },
  {
   "cell_type": "code",
   "execution_count": 10,
   "id": "4c51344b",
   "metadata": {},
   "outputs": [
    {
     "name": "stdout",
     "output_type": "stream",
     "text": [
      "\u001b[1m16/16\u001b[0m \u001b[32m━━━━━━━━━━━━━━━━━━━━\u001b[0m\u001b[37m\u001b[0m \u001b[1m1s\u001b[0m 26ms/step\n"
     ]
    }
   ],
   "source": [
    "test_out = model.predict(x_tensor)"
   ]
  },
  {
   "cell_type": "code",
   "execution_count": 11,
   "id": "c031e38b",
   "metadata": {},
   "outputs": [
    {
     "data": {
      "text/plain": [
       "[(500, 1), (500, 21, 3)]"
      ]
     },
     "execution_count": 11,
     "metadata": {},
     "output_type": "execute_result"
    }
   ],
   "source": [
    "[i.shape for i in test_out.values()]"
   ]
  },
  {
   "cell_type": "code",
   "execution_count": 12,
   "id": "9d43121c",
   "metadata": {},
   "outputs": [],
   "source": [
    "from keras.optimizers import Adam"
   ]
  },
  {
   "cell_type": "code",
   "execution_count": 13,
   "id": "654166f5",
   "metadata": {},
   "outputs": [],
   "source": [
    "model.compile(\n",
    "    loss={\"energy\": \"mean_absolute_error\", \"force\": \"mean_absolute_error\"},\n",
    "    optimizer=Adam(learning_rate=5e-04),\n",
    "    metrics=None,\n",
    "    loss_weights={\"energy\":1.0, \"force\":20.0},\n",
    ")"
   ]
  },
  {
   "cell_type": "code",
   "execution_count": 14,
   "id": "2b8f903a-1c54-4132-8133-704859832bcc",
   "metadata": {},
   "outputs": [
    {
     "name": "stdout",
     "output_type": "stream",
     "text": [
      "\u001b[1m16/16\u001b[0m \u001b[32m━━━━━━━━━━━━━━━━━━━━\u001b[0m\u001b[37m\u001b[0m \u001b[1m0s\u001b[0m 21ms/step\n"
     ]
    }
   ],
   "source": [
    "model.predict(x_tensor)\n",
    "model._compile_loss.build({\"energy\": eng, \"force\": forces}, {\"energy\": eng, \"force\": forces})"
   ]
  },
  {
   "cell_type": "code",
   "execution_count": 15,
   "id": "4747a58b",
   "metadata": {},
   "outputs": [
    {
     "name": "stdout",
     "output_type": "stream",
     "text": [
      "Epoch 1142/1500\n",
      "8/8 - 1s - loss: 1.7628 - energy_loss: 0.3109 - force_loss: 0.0726 - 568ms/epoch - 71ms/step\n",
      "Epoch 1143/1500\n",
      "8/8 - 1s - loss: 1.8375 - energy_loss: 0.3384 - force_loss: 0.0750 - 573ms/epoch - 72ms/step\n",
      "Epoch 1144/1500\n",
      "8/8 - 1s - loss: 1.8913 - energy_loss: 0.3271 - force_loss: 0.0782 - 573ms/epoch - 72ms/step\n",
      "Epoch 1145/1500\n",
      "8/8 - 1s - loss: 1.9532 - energy_loss: 0.3296 - force_loss: 0.0812 - 571ms/epoch - 71ms/step\n",
      "Epoch 1146/1500\n",
      "8/8 - 1s - loss: 1.7836 - energy_loss: 0.1518 - force_loss: 0.0816 - 572ms/epoch - 72ms/step\n",
      "Epoch 1147/1500\n",
      "8/8 - 1s - loss: 1.6513 - energy_loss: 0.1623 - force_loss: 0.0744 - 569ms/epoch - 71ms/step\n",
      "Epoch 1148/1500\n",
      "8/8 - 1s - loss: 1.5832 - energy_loss: 0.1443 - force_loss: 0.0719 - 574ms/epoch - 72ms/step\n",
      "Epoch 1149/1500\n",
      "8/8 - 1s - loss: 1.5962 - energy_loss: 0.1546 - force_loss: 0.0721 - 569ms/epoch - 71ms/step\n",
      "Epoch 1150/1500\n",
      "8/8 - 1s - loss: 1.5537 - energy_loss: 0.1331 - force_loss: 0.0710 - 566ms/epoch - 71ms/step\n",
      "Epoch 1151/1500\n",
      "8/8 - 1s - loss: 1.5600 - energy_loss: 0.1714 - force_loss: 0.0694 - 570ms/epoch - 71ms/step\n",
      "Epoch 1152/1500\n",
      "8/8 - 1s - loss: 1.5157 - energy_loss: 0.1468 - force_loss: 0.0684 - 575ms/epoch - 72ms/step\n",
      "Epoch 1153/1500\n",
      "8/8 - 1s - loss: 1.5651 - energy_loss: 0.1620 - force_loss: 0.0702 - 569ms/epoch - 71ms/step\n",
      "Epoch 1154/1500\n",
      "8/8 - 1s - loss: 1.5407 - energy_loss: 0.1365 - force_loss: 0.0702 - 566ms/epoch - 71ms/step\n",
      "Epoch 1155/1500\n",
      "8/8 - 1s - loss: 1.5707 - energy_loss: 0.1686 - force_loss: 0.0701 - 575ms/epoch - 72ms/step\n",
      "Epoch 1156/1500\n",
      "8/8 - 1s - loss: 1.6003 - energy_loss: 0.1698 - force_loss: 0.0715 - 566ms/epoch - 71ms/step\n",
      "Epoch 1157/1500\n",
      "8/8 - 1s - loss: 1.6705 - energy_loss: 0.1584 - force_loss: 0.0756 - 566ms/epoch - 71ms/step\n",
      "Epoch 1158/1500\n",
      "8/8 - 1s - loss: 1.6314 - energy_loss: 0.1584 - force_loss: 0.0736 - 568ms/epoch - 71ms/step\n",
      "Epoch 1159/1500\n",
      "8/8 - 1s - loss: 1.6118 - energy_loss: 0.1643 - force_loss: 0.0724 - 569ms/epoch - 71ms/step\n",
      "Epoch 1160/1500\n",
      "8/8 - 1s - loss: 1.5450 - energy_loss: 0.1431 - force_loss: 0.0701 - 570ms/epoch - 71ms/step\n",
      "Epoch 1161/1500\n",
      "8/8 - 1s - loss: 1.8191 - energy_loss: 0.3010 - force_loss: 0.0759 - 574ms/epoch - 72ms/step\n",
      "Epoch 1162/1500\n",
      "8/8 - 1s - loss: 1.5940 - energy_loss: 0.1300 - force_loss: 0.0732 - 567ms/epoch - 71ms/step\n",
      "Epoch 1163/1500\n",
      "8/8 - 1s - loss: 1.5882 - energy_loss: 0.1587 - force_loss: 0.0715 - 574ms/epoch - 72ms/step\n",
      "Epoch 1164/1500\n",
      "8/8 - 1s - loss: 1.5942 - energy_loss: 0.1683 - force_loss: 0.0713 - 571ms/epoch - 71ms/step\n",
      "Epoch 1165/1500\n",
      "8/8 - 1s - loss: 1.5568 - energy_loss: 0.1451 - force_loss: 0.0706 - 579ms/epoch - 72ms/step\n",
      "Epoch 1166/1500\n",
      "8/8 - 1s - loss: 1.7260 - energy_loss: 0.3109 - force_loss: 0.0708 - 567ms/epoch - 71ms/step\n",
      "Epoch 1167/1500\n",
      "8/8 - 1s - loss: 1.8861 - energy_loss: 0.3062 - force_loss: 0.0790 - 569ms/epoch - 71ms/step\n",
      "Epoch 1168/1500\n",
      "8/8 - 1s - loss: 1.8718 - energy_loss: 0.3471 - force_loss: 0.0762 - 567ms/epoch - 71ms/step\n",
      "Epoch 1169/1500\n",
      "8/8 - 1s - loss: 1.8568 - energy_loss: 0.3290 - force_loss: 0.0764 - 573ms/epoch - 72ms/step\n",
      "Epoch 1170/1500\n",
      "8/8 - 1s - loss: 1.8548 - energy_loss: 0.3410 - force_loss: 0.0757 - 567ms/epoch - 71ms/step\n",
      "Epoch 1171/1500\n",
      "8/8 - 1s - loss: 2.0026 - energy_loss: 0.3314 - force_loss: 0.0836 - 574ms/epoch - 72ms/step\n",
      "Epoch 1172/1500\n",
      "8/8 - 1s - loss: 1.9595 - energy_loss: 0.3379 - force_loss: 0.0811 - 572ms/epoch - 71ms/step\n",
      "Epoch 1173/1500\n",
      "8/8 - 1s - loss: 2.0820 - energy_loss: 0.3369 - force_loss: 0.0873 - 571ms/epoch - 71ms/step\n",
      "Epoch 1174/1500\n",
      "8/8 - 1s - loss: 2.0878 - energy_loss: 0.3302 - force_loss: 0.0879 - 567ms/epoch - 71ms/step\n",
      "Epoch 1175/1500\n",
      "8/8 - 1s - loss: 2.0244 - energy_loss: 0.3270 - force_loss: 0.0849 - 570ms/epoch - 71ms/step\n",
      "Epoch 1176/1500\n",
      "8/8 - 1s - loss: 1.8786 - energy_loss: 0.3167 - force_loss: 0.0781 - 571ms/epoch - 71ms/step\n",
      "Epoch 1177/1500\n",
      "8/8 - 1s - loss: 1.8626 - energy_loss: 0.2678 - force_loss: 0.0797 - 573ms/epoch - 72ms/step\n",
      "Epoch 1178/1500\n",
      "8/8 - 1s - loss: 1.9686 - energy_loss: 0.2773 - force_loss: 0.0846 - 569ms/epoch - 71ms/step\n",
      "Epoch 1179/1500\n",
      "8/8 - 1s - loss: 2.1561 - energy_loss: 0.4741 - force_loss: 0.0841 - 572ms/epoch - 72ms/step\n",
      "Epoch 1180/1500\n",
      "8/8 - 1s - loss: 2.1108 - energy_loss: 0.5407 - force_loss: 0.0785 - 586ms/epoch - 73ms/step\n",
      "Epoch 1181/1500\n",
      "8/8 - 1s - loss: 2.1838 - energy_loss: 0.5657 - force_loss: 0.0809 - 616ms/epoch - 77ms/step\n",
      "Epoch 1182/1500\n",
      "8/8 - 1s - loss: 2.1935 - energy_loss: 0.5406 - force_loss: 0.0826 - 574ms/epoch - 72ms/step\n",
      "Epoch 1183/1500\n",
      "8/8 - 1s - loss: 2.0698 - energy_loss: 0.4088 - force_loss: 0.0830 - 570ms/epoch - 71ms/step\n",
      "Epoch 1184/1500\n",
      "8/8 - 1s - loss: 2.1067 - energy_loss: 0.3452 - force_loss: 0.0881 - 571ms/epoch - 71ms/step\n",
      "Epoch 1185/1500\n",
      "8/8 - 1s - loss: 2.1134 - energy_loss: 0.3820 - force_loss: 0.0866 - 572ms/epoch - 71ms/step\n",
      "Epoch 1186/1500\n",
      "8/8 - 1s - loss: 2.0679 - energy_loss: 0.3246 - force_loss: 0.0872 - 570ms/epoch - 71ms/step\n",
      "Epoch 1187/1500\n",
      "8/8 - 1s - loss: 1.9742 - energy_loss: 0.2952 - force_loss: 0.0840 - 574ms/epoch - 72ms/step\n",
      "Epoch 1188/1500\n",
      "8/8 - 1s - loss: 1.8368 - energy_loss: 0.1792 - force_loss: 0.0829 - 563ms/epoch - 70ms/step\n",
      "Epoch 1189/1500\n",
      "8/8 - 1s - loss: 2.1392 - energy_loss: 0.5915 - force_loss: 0.0774 - 574ms/epoch - 72ms/step\n",
      "Epoch 1190/1500\n",
      "8/8 - 1s - loss: 1.7894 - energy_loss: 0.1892 - force_loss: 0.0800 - 570ms/epoch - 71ms/step\n",
      "Epoch 1191/1500\n",
      "8/8 - 1s - loss: 1.5797 - energy_loss: 0.1122 - force_loss: 0.0734 - 571ms/epoch - 71ms/step\n",
      "Epoch 1192/1500\n",
      "8/8 - 1s - loss: 1.5747 - energy_loss: 0.1571 - force_loss: 0.0709 - 578ms/epoch - 72ms/step\n",
      "Epoch 1193/1500\n",
      "8/8 - 1s - loss: 1.5760 - energy_loss: 0.1568 - force_loss: 0.0710 - 569ms/epoch - 71ms/step\n",
      "Epoch 1194/1500\n",
      "8/8 - 1s - loss: 1.6131 - energy_loss: 0.2180 - force_loss: 0.0698 - 570ms/epoch - 71ms/step\n",
      "Epoch 1195/1500\n",
      "8/8 - 1s - loss: 1.8257 - energy_loss: 0.3345 - force_loss: 0.0746 - 572ms/epoch - 72ms/step\n",
      "Epoch 1196/1500\n",
      "8/8 - 1s - loss: 1.9057 - energy_loss: 0.3028 - force_loss: 0.0801 - 572ms/epoch - 71ms/step\n",
      "Epoch 1197/1500\n",
      "8/8 - 1s - loss: 1.8669 - energy_loss: 0.3122 - force_loss: 0.0777 - 568ms/epoch - 71ms/step\n",
      "Epoch 1198/1500\n",
      "8/8 - 1s - loss: 1.8100 - energy_loss: 0.3104 - force_loss: 0.0750 - 570ms/epoch - 71ms/step\n",
      "Epoch 1199/1500\n",
      "8/8 - 1s - loss: 1.9263 - energy_loss: 0.3054 - force_loss: 0.0810 - 577ms/epoch - 72ms/step\n",
      "Epoch 1200/1500\n",
      "8/8 - 1s - loss: 2.1975 - energy_loss: 0.3611 - force_loss: 0.0918 - 569ms/epoch - 71ms/step\n",
      "Epoch 1201/1500\n",
      "8/8 - 1s - loss: 2.3655 - energy_loss: 0.3587 - force_loss: 0.1003 - 572ms/epoch - 71ms/step\n",
      "Epoch 1202/1500\n",
      "8/8 - 1s - loss: 2.1536 - energy_loss: 0.3884 - force_loss: 0.0883 - 571ms/epoch - 71ms/step\n",
      "Epoch 1203/1500\n",
      "8/8 - 1s - loss: 1.8296 - energy_loss: 0.3528 - force_loss: 0.0738 - 567ms/epoch - 71ms/step\n",
      "Epoch 1204/1500\n",
      "8/8 - 1s - loss: 1.7515 - energy_loss: 0.3331 - force_loss: 0.0709 - 571ms/epoch - 71ms/step\n",
      "Epoch 1205/1500\n",
      "8/8 - 1s - loss: 1.7269 - energy_loss: 0.3320 - force_loss: 0.0697 - 574ms/epoch - 72ms/step\n",
      "Epoch 1206/1500\n",
      "8/8 - 1s - loss: 1.7345 - energy_loss: 0.3366 - force_loss: 0.0699 - 585ms/epoch - 73ms/step\n",
      "Epoch 1207/1500\n",
      "8/8 - 1s - loss: 1.8011 - energy_loss: 0.3402 - force_loss: 0.0730 - 570ms/epoch - 71ms/step\n",
      "Epoch 1208/1500\n",
      "8/8 - 1s - loss: 1.8666 - energy_loss: 0.3008 - force_loss: 0.0783 - 597ms/epoch - 75ms/step\n",
      "Epoch 1209/1500\n",
      "8/8 - 1s - loss: 1.7696 - energy_loss: 0.2133 - force_loss: 0.0778 - 591ms/epoch - 74ms/step\n",
      "Epoch 1210/1500\n",
      "8/8 - 1s - loss: 1.7030 - energy_loss: 0.2060 - force_loss: 0.0749 - 585ms/epoch - 73ms/step\n",
      "Epoch 1211/1500\n",
      "8/8 - 1s - loss: 1.7442 - energy_loss: 0.3112 - force_loss: 0.0717 - 581ms/epoch - 73ms/step\n",
      "Epoch 1212/1500\n",
      "8/8 - 1s - loss: 1.6934 - energy_loss: 0.3176 - force_loss: 0.0688 - 574ms/epoch - 72ms/step\n",
      "Epoch 1213/1500\n",
      "8/8 - 1s - loss: 1.7586 - energy_loss: 0.3366 - force_loss: 0.0711 - 606ms/epoch - 76ms/step\n",
      "Epoch 1214/1500\n",
      "8/8 - 1s - loss: 1.8631 - energy_loss: 0.3339 - force_loss: 0.0765 - 589ms/epoch - 74ms/step\n",
      "Epoch 1215/1500\n",
      "8/8 - 1s - loss: 1.8597 - energy_loss: 0.3265 - force_loss: 0.0767 - 571ms/epoch - 71ms/step\n",
      "Epoch 1216/1500\n",
      "8/8 - 1s - loss: 1.9168 - energy_loss: 0.3175 - force_loss: 0.0800 - 567ms/epoch - 71ms/step\n",
      "Epoch 1217/1500\n",
      "8/8 - 1s - loss: 1.9071 - energy_loss: 0.3272 - force_loss: 0.0790 - 575ms/epoch - 72ms/step\n"
     ]
    },
    {
     "name": "stdout",
     "output_type": "stream",
     "text": [
      "Epoch 1218/1500\n",
      "8/8 - 1s - loss: 1.8765 - energy_loss: 0.3325 - force_loss: 0.0772 - 569ms/epoch - 71ms/step\n",
      "Epoch 1219/1500\n",
      "8/8 - 1s - loss: 1.8138 - energy_loss: 0.3137 - force_loss: 0.0750 - 608ms/epoch - 76ms/step\n",
      "Epoch 1220/1500\n",
      "8/8 - 1s - loss: 1.8041 - energy_loss: 0.3196 - force_loss: 0.0742 - 575ms/epoch - 72ms/step\n",
      "Epoch 1221/1500\n",
      "8/8 - 1s - loss: 1.8811 - energy_loss: 0.3093 - force_loss: 0.0786 - 567ms/epoch - 71ms/step\n",
      "Epoch 1222/1500\n",
      "8/8 - 1s - loss: 1.8883 - energy_loss: 0.3338 - force_loss: 0.0777 - 564ms/epoch - 71ms/step\n",
      "Epoch 1223/1500\n",
      "8/8 - 1s - loss: 1.8464 - energy_loss: 0.3251 - force_loss: 0.0761 - 569ms/epoch - 71ms/step\n",
      "Epoch 1224/1500\n",
      "8/8 - 1s - loss: 1.8031 - energy_loss: 0.3220 - force_loss: 0.0741 - 568ms/epoch - 71ms/step\n",
      "Epoch 1225/1500\n",
      "8/8 - 1s - loss: 1.7746 - energy_loss: 0.3093 - force_loss: 0.0733 - 573ms/epoch - 72ms/step\n",
      "Epoch 1226/1500\n",
      "8/8 - 1s - loss: 1.7120 - energy_loss: 0.3208 - force_loss: 0.0696 - 577ms/epoch - 72ms/step\n",
      "Epoch 1227/1500\n",
      "8/8 - 1s - loss: 1.7617 - energy_loss: 0.3153 - force_loss: 0.0723 - 587ms/epoch - 73ms/step\n",
      "Epoch 1228/1500\n",
      "8/8 - 1s - loss: 1.7759 - energy_loss: 0.3136 - force_loss: 0.0731 - 601ms/epoch - 75ms/step\n",
      "Epoch 1229/1500\n",
      "8/8 - 1s - loss: 1.7532 - energy_loss: 0.3032 - force_loss: 0.0725 - 613ms/epoch - 77ms/step\n",
      "Epoch 1230/1500\n",
      "8/8 - 1s - loss: 1.8792 - energy_loss: 0.3270 - force_loss: 0.0776 - 612ms/epoch - 77ms/step\n",
      "Epoch 1231/1500\n",
      "8/8 - 1s - loss: 1.9117 - energy_loss: 0.3033 - force_loss: 0.0804 - 589ms/epoch - 74ms/step\n",
      "Epoch 1232/1500\n",
      "8/8 - 1s - loss: 1.8683 - energy_loss: 0.3082 - force_loss: 0.0780 - 569ms/epoch - 71ms/step\n",
      "Epoch 1233/1500\n",
      "8/8 - 1s - loss: 1.8002 - energy_loss: 0.3027 - force_loss: 0.0749 - 591ms/epoch - 74ms/step\n",
      "Epoch 1234/1500\n",
      "8/8 - 1s - loss: 1.8101 - energy_loss: 0.3009 - force_loss: 0.0755 - 591ms/epoch - 74ms/step\n",
      "Epoch 1235/1500\n",
      "8/8 - 1s - loss: 1.6539 - energy_loss: 0.1888 - force_loss: 0.0733 - 776ms/epoch - 97ms/step\n",
      "Epoch 1236/1500\n",
      "8/8 - 1s - loss: 1.6203 - energy_loss: 0.2355 - force_loss: 0.0692 - 719ms/epoch - 90ms/step\n",
      "Epoch 1237/1500\n",
      "8/8 - 1s - loss: 1.7665 - energy_loss: 0.2818 - force_loss: 0.0742 - 789ms/epoch - 99ms/step\n",
      "Epoch 1238/1500\n",
      "8/8 - 1s - loss: 1.8762 - energy_loss: 0.2804 - force_loss: 0.0798 - 649ms/epoch - 81ms/step\n",
      "Epoch 1239/1500\n",
      "8/8 - 1s - loss: 1.7720 - energy_loss: 0.2020 - force_loss: 0.0785 - 607ms/epoch - 76ms/step\n",
      "Epoch 1240/1500\n",
      "8/8 - 1s - loss: 2.1151 - energy_loss: 0.3538 - force_loss: 0.0881 - 596ms/epoch - 74ms/step\n",
      "Epoch 1241/1500\n",
      "8/8 - 1s - loss: 2.1625 - energy_loss: 0.3908 - force_loss: 0.0886 - 586ms/epoch - 73ms/step\n",
      "Epoch 1242/1500\n",
      "8/8 - 1s - loss: 2.2205 - energy_loss: 0.5758 - force_loss: 0.0822 - 781ms/epoch - 98ms/step\n",
      "Epoch 1243/1500\n",
      "8/8 - 1s - loss: 2.0866 - energy_loss: 0.5793 - force_loss: 0.0754 - 686ms/epoch - 86ms/step\n",
      "Epoch 1244/1500\n",
      "8/8 - 1s - loss: 2.0517 - energy_loss: 0.5355 - force_loss: 0.0758 - 677ms/epoch - 85ms/step\n",
      "Epoch 1245/1500\n",
      "8/8 - 1s - loss: 2.0974 - energy_loss: 0.5496 - force_loss: 0.0774 - 645ms/epoch - 81ms/step\n",
      "Epoch 1246/1500\n",
      "8/8 - 1s - loss: 1.8504 - energy_loss: 0.3085 - force_loss: 0.0771 - 646ms/epoch - 81ms/step\n",
      "Epoch 1247/1500\n",
      "8/8 - 1s - loss: 1.8474 - energy_loss: 0.2355 - force_loss: 0.0806 - 635ms/epoch - 79ms/step\n",
      "Epoch 1248/1500\n",
      "8/8 - 1s - loss: 1.8157 - energy_loss: 0.2879 - force_loss: 0.0764 - 660ms/epoch - 83ms/step\n",
      "Epoch 1249/1500\n",
      "8/8 - 1s - loss: 1.9376 - energy_loss: 0.2804 - force_loss: 0.0829 - 656ms/epoch - 82ms/step\n",
      "Epoch 1250/1500\n",
      "8/8 - 1s - loss: 1.7868 - energy_loss: 0.2626 - force_loss: 0.0762 - 634ms/epoch - 79ms/step\n",
      "Epoch 1251/1500\n",
      "8/8 - 1s - loss: 1.7723 - energy_loss: 0.2942 - force_loss: 0.0739 - 708ms/epoch - 89ms/step\n",
      "Epoch 1252/1500\n",
      "8/8 - 1s - loss: 1.7701 - energy_loss: 0.2847 - force_loss: 0.0743 - 649ms/epoch - 81ms/step\n",
      "Epoch 1253/1500\n",
      "8/8 - 1s - loss: 1.5775 - energy_loss: 0.1453 - force_loss: 0.0716 - 649ms/epoch - 81ms/step\n",
      "Epoch 1254/1500\n",
      "8/8 - 1s - loss: 1.6921 - energy_loss: 0.3274 - force_loss: 0.0682 - 701ms/epoch - 88ms/step\n",
      "Epoch 1255/1500\n",
      "8/8 - 1s - loss: 1.8564 - energy_loss: 0.3017 - force_loss: 0.0777 - 671ms/epoch - 84ms/step\n",
      "Epoch 1256/1500\n",
      "8/8 - 1s - loss: 2.0430 - energy_loss: 0.3084 - force_loss: 0.0867 - 641ms/epoch - 80ms/step\n",
      "Epoch 1257/1500\n",
      "8/8 - 1s - loss: 2.0883 - energy_loss: 0.3575 - force_loss: 0.0865 - 639ms/epoch - 80ms/step\n",
      "Epoch 1258/1500\n",
      "8/8 - 1s - loss: 1.9531 - energy_loss: 0.3342 - force_loss: 0.0809 - 638ms/epoch - 80ms/step\n",
      "Epoch 1259/1500\n",
      "8/8 - 1s - loss: 1.8621 - energy_loss: 0.3331 - force_loss: 0.0765 - 662ms/epoch - 83ms/step\n",
      "Epoch 1260/1500\n",
      "8/8 - 1s - loss: 1.7979 - energy_loss: 0.2835 - force_loss: 0.0757 - 664ms/epoch - 83ms/step\n",
      "Epoch 1261/1500\n",
      "8/8 - 1s - loss: 1.8157 - energy_loss: 0.3296 - force_loss: 0.0743 - 642ms/epoch - 80ms/step\n",
      "Epoch 1262/1500\n",
      "8/8 - 1s - loss: 1.9515 - energy_loss: 0.2893 - force_loss: 0.0831 - 692ms/epoch - 87ms/step\n",
      "Epoch 1263/1500\n",
      "8/8 - 1s - loss: 1.9157 - energy_loss: 0.3196 - force_loss: 0.0798 - 636ms/epoch - 80ms/step\n",
      "Epoch 1264/1500\n",
      "8/8 - 1s - loss: 1.9519 - energy_loss: 0.3583 - force_loss: 0.0797 - 657ms/epoch - 82ms/step\n",
      "Epoch 1265/1500\n",
      "8/8 - 1s - loss: 1.6195 - energy_loss: 0.1832 - force_loss: 0.0718 - 670ms/epoch - 84ms/step\n",
      "Epoch 1266/1500\n",
      "8/8 - 1s - loss: 1.5330 - energy_loss: 0.1449 - force_loss: 0.0694 - 687ms/epoch - 86ms/step\n",
      "Epoch 1267/1500\n",
      "8/8 - 1s - loss: 1.4932 - energy_loss: 0.1420 - force_loss: 0.0676 - 653ms/epoch - 82ms/step\n",
      "Epoch 1268/1500\n",
      "8/8 - 1s - loss: 1.4791 - energy_loss: 0.1554 - force_loss: 0.0662 - 609ms/epoch - 76ms/step\n",
      "Epoch 1269/1500\n",
      "8/8 - 1s - loss: 1.4441 - energy_loss: 0.1366 - force_loss: 0.0654 - 627ms/epoch - 78ms/step\n",
      "Epoch 1270/1500\n",
      "8/8 - 1s - loss: 1.4448 - energy_loss: 0.1374 - force_loss: 0.0654 - 631ms/epoch - 79ms/step\n",
      "Epoch 1271/1500\n",
      "8/8 - 1s - loss: 1.4489 - energy_loss: 0.1320 - force_loss: 0.0658 - 654ms/epoch - 82ms/step\n",
      "Epoch 1272/1500\n",
      "8/8 - 1s - loss: 1.4801 - energy_loss: 0.1522 - force_loss: 0.0664 - 671ms/epoch - 84ms/step\n",
      "Epoch 1273/1500\n",
      "8/8 - 1s - loss: 1.4894 - energy_loss: 0.1585 - force_loss: 0.0665 - 614ms/epoch - 77ms/step\n",
      "Epoch 1274/1500\n",
      "8/8 - 1s - loss: 1.5040 - energy_loss: 0.1384 - force_loss: 0.0683 - 618ms/epoch - 77ms/step\n",
      "Epoch 1275/1500\n",
      "8/8 - 1s - loss: 1.5656 - energy_loss: 0.1962 - force_loss: 0.0685 - 714ms/epoch - 89ms/step\n",
      "Epoch 1276/1500\n",
      "8/8 - 1s - loss: 1.8327 - energy_loss: 0.3411 - force_loss: 0.0746 - 635ms/epoch - 79ms/step\n",
      "Epoch 1277/1500\n",
      "8/8 - 1s - loss: 1.9744 - energy_loss: 0.2881 - force_loss: 0.0843 - 615ms/epoch - 77ms/step\n",
      "Epoch 1278/1500\n",
      "8/8 - 1s - loss: 1.9509 - energy_loss: 0.3342 - force_loss: 0.0808 - 610ms/epoch - 76ms/step\n",
      "Epoch 1279/1500\n",
      "8/8 - 1s - loss: 1.8175 - energy_loss: 0.3509 - force_loss: 0.0733 - 602ms/epoch - 75ms/step\n",
      "Epoch 1280/1500\n",
      "8/8 - 1s - loss: 1.8305 - energy_loss: 0.3700 - force_loss: 0.0730 - 698ms/epoch - 87ms/step\n",
      "Epoch 1281/1500\n",
      "8/8 - 1s - loss: 1.8580 - energy_loss: 0.3590 - force_loss: 0.0749 - 662ms/epoch - 83ms/step\n",
      "Epoch 1282/1500\n",
      "8/8 - 1s - loss: 2.0538 - energy_loss: 0.5224 - force_loss: 0.0766 - 615ms/epoch - 77ms/step\n",
      "Epoch 1283/1500\n",
      "8/8 - 1s - loss: 1.8119 - energy_loss: 0.3226 - force_loss: 0.0745 - 612ms/epoch - 76ms/step\n",
      "Epoch 1284/1500\n",
      "8/8 - 1s - loss: 1.7482 - energy_loss: 0.3359 - force_loss: 0.0706 - 653ms/epoch - 82ms/step\n",
      "Epoch 1285/1500\n",
      "8/8 - 1s - loss: 1.7240 - energy_loss: 0.3026 - force_loss: 0.0711 - 666ms/epoch - 83ms/step\n",
      "Epoch 1286/1500\n",
      "8/8 - 1s - loss: 1.8093 - energy_loss: 0.2059 - force_loss: 0.0802 - 628ms/epoch - 79ms/step\n",
      "Epoch 1287/1500\n",
      "8/8 - 1s - loss: 1.6650 - energy_loss: 0.1234 - force_loss: 0.0771 - 670ms/epoch - 84ms/step\n",
      "Epoch 1288/1500\n",
      "8/8 - 1s - loss: 1.6845 - energy_loss: 0.1416 - force_loss: 0.0771 - 628ms/epoch - 78ms/step\n",
      "Epoch 1289/1500\n",
      "8/8 - 1s - loss: 1.5823 - energy_loss: 0.1550 - force_loss: 0.0714 - 625ms/epoch - 78ms/step\n",
      "Epoch 1290/1500\n",
      "8/8 - 1s - loss: 1.6037 - energy_loss: 0.2444 - force_loss: 0.0680 - 648ms/epoch - 81ms/step\n",
      "Epoch 1291/1500\n",
      "8/8 - 1s - loss: 1.5530 - energy_loss: 0.1648 - force_loss: 0.0694 - 650ms/epoch - 81ms/step\n",
      "Epoch 1292/1500\n",
      "8/8 - 1s - loss: 1.7255 - energy_loss: 0.3050 - force_loss: 0.0710 - 645ms/epoch - 81ms/step\n",
      "Epoch 1293/1500\n",
      "8/8 - 1s - loss: 2.1017 - energy_loss: 0.5783 - force_loss: 0.0762 - 649ms/epoch - 81ms/step\n"
     ]
    },
    {
     "name": "stdout",
     "output_type": "stream",
     "text": [
      "Epoch 1294/1500\n",
      "8/8 - 1s - loss: 1.8698 - energy_loss: 0.3706 - force_loss: 0.0750 - 610ms/epoch - 76ms/step\n",
      "Epoch 1295/1500\n",
      "8/8 - 1s - loss: 1.8268 - energy_loss: 0.2774 - force_loss: 0.0775 - 645ms/epoch - 81ms/step\n",
      "Epoch 1296/1500\n",
      "8/8 - 1s - loss: 1.7237 - energy_loss: 0.3004 - force_loss: 0.0712 - 611ms/epoch - 76ms/step\n",
      "Epoch 1297/1500\n",
      "8/8 - 1s - loss: 1.7796 - energy_loss: 0.3744 - force_loss: 0.0703 - 603ms/epoch - 75ms/step\n",
      "Epoch 1298/1500\n",
      "8/8 - 1s - loss: 1.6922 - energy_loss: 0.2727 - force_loss: 0.0710 - 598ms/epoch - 75ms/step\n",
      "Epoch 1299/1500\n",
      "8/8 - 1s - loss: 1.7245 - energy_loss: 0.2860 - force_loss: 0.0719 - 614ms/epoch - 77ms/step\n",
      "Epoch 1300/1500\n",
      "8/8 - 1s - loss: 1.8538 - energy_loss: 0.2733 - force_loss: 0.0790 - 618ms/epoch - 77ms/step\n",
      "Epoch 1301/1500\n",
      "8/8 - 1s - loss: 1.9914 - energy_loss: 0.3206 - force_loss: 0.0835 - 652ms/epoch - 81ms/step\n",
      "Epoch 1302/1500\n",
      "8/8 - 1s - loss: 2.0053 - energy_loss: 0.3555 - force_loss: 0.0825 - 633ms/epoch - 79ms/step\n",
      "Epoch 1303/1500\n",
      "8/8 - 1s - loss: 1.9532 - energy_loss: 0.3366 - force_loss: 0.0808 - 626ms/epoch - 78ms/step\n",
      "Epoch 1304/1500\n",
      "8/8 - 1s - loss: 1.8114 - energy_loss: 0.3398 - force_loss: 0.0736 - 700ms/epoch - 88ms/step\n",
      "Epoch 1305/1500\n",
      "8/8 - 1s - loss: 1.7916 - energy_loss: 0.3008 - force_loss: 0.0745 - 622ms/epoch - 78ms/step\n",
      "Epoch 1306/1500\n",
      "8/8 - 1s - loss: 1.8668 - energy_loss: 0.3107 - force_loss: 0.0778 - 643ms/epoch - 80ms/step\n",
      "Epoch 1307/1500\n",
      "8/8 - 1s - loss: 1.8482 - energy_loss: 0.3210 - force_loss: 0.0764 - 656ms/epoch - 82ms/step\n",
      "Epoch 1308/1500\n",
      "8/8 - 1s - loss: 1.7902 - energy_loss: 0.3178 - force_loss: 0.0736 - 608ms/epoch - 76ms/step\n",
      "Epoch 1309/1500\n",
      "8/8 - 1s - loss: 1.8800 - energy_loss: 0.3030 - force_loss: 0.0788 - 608ms/epoch - 76ms/step\n",
      "Epoch 1310/1500\n",
      "8/8 - 1s - loss: 1.8607 - energy_loss: 0.3030 - force_loss: 0.0779 - 613ms/epoch - 77ms/step\n",
      "Epoch 1311/1500\n",
      "8/8 - 1s - loss: 1.8861 - energy_loss: 0.3625 - force_loss: 0.0762 - 688ms/epoch - 86ms/step\n",
      "Epoch 1312/1500\n",
      "8/8 - 1s - loss: 1.8314 - energy_loss: 0.3846 - force_loss: 0.0723 - 682ms/epoch - 85ms/step\n",
      "Epoch 1313/1500\n",
      "8/8 - 1s - loss: 1.7122 - energy_loss: 0.2850 - force_loss: 0.0714 - 624ms/epoch - 78ms/step\n",
      "Epoch 1314/1500\n",
      "8/8 - 1s - loss: 1.7456 - energy_loss: 0.3504 - force_loss: 0.0698 - 623ms/epoch - 78ms/step\n",
      "Epoch 1315/1500\n",
      "8/8 - 1s - loss: 1.7063 - energy_loss: 0.3121 - force_loss: 0.0697 - 622ms/epoch - 78ms/step\n",
      "Epoch 1316/1500\n",
      "8/8 - 1s - loss: 1.8857 - energy_loss: 0.5552 - force_loss: 0.0665 - 631ms/epoch - 79ms/step\n",
      "Epoch 1317/1500\n",
      "8/8 - 1s - loss: 1.6442 - energy_loss: 0.2896 - force_loss: 0.0677 - 593ms/epoch - 74ms/step\n",
      "Epoch 1318/1500\n",
      "8/8 - 1s - loss: 1.6358 - energy_loss: 0.2713 - force_loss: 0.0682 - 551ms/epoch - 69ms/step\n",
      "Epoch 1319/1500\n",
      "8/8 - 1s - loss: 1.9531 - energy_loss: 0.5791 - force_loss: 0.0687 - 551ms/epoch - 69ms/step\n",
      "Epoch 1320/1500\n",
      "8/8 - 1s - loss: 2.0096 - energy_loss: 0.5549 - force_loss: 0.0727 - 550ms/epoch - 69ms/step\n",
      "Epoch 1321/1500\n",
      "8/8 - 1s - loss: 1.6032 - energy_loss: 0.1511 - force_loss: 0.0726 - 543ms/epoch - 68ms/step\n",
      "Epoch 1322/1500\n",
      "8/8 - 1s - loss: 1.5218 - energy_loss: 0.1413 - force_loss: 0.0690 - 555ms/epoch - 69ms/step\n",
      "Epoch 1323/1500\n",
      "8/8 - 1s - loss: 1.4943 - energy_loss: 0.1413 - force_loss: 0.0676 - 545ms/epoch - 68ms/step\n",
      "Epoch 1324/1500\n",
      "8/8 - 1s - loss: 1.4555 - energy_loss: 0.1461 - force_loss: 0.0655 - 548ms/epoch - 69ms/step\n",
      "Epoch 1325/1500\n",
      "8/8 - 1s - loss: 1.4779 - energy_loss: 0.1428 - force_loss: 0.0668 - 545ms/epoch - 68ms/step\n",
      "Epoch 1326/1500\n",
      "8/8 - 1s - loss: 1.9965 - energy_loss: 0.6132 - force_loss: 0.0692 - 550ms/epoch - 69ms/step\n",
      "Epoch 1327/1500\n",
      "8/8 - 1s - loss: 1.9107 - energy_loss: 0.5445 - force_loss: 0.0683 - 553ms/epoch - 69ms/step\n",
      "Epoch 1328/1500\n",
      "8/8 - 1s - loss: 1.9064 - energy_loss: 0.4953 - force_loss: 0.0706 - 569ms/epoch - 71ms/step\n",
      "Epoch 1329/1500\n",
      "8/8 - 1s - loss: 2.0184 - energy_loss: 0.5366 - force_loss: 0.0741 - 555ms/epoch - 69ms/step\n",
      "Epoch 1330/1500\n",
      "8/8 - 1s - loss: 1.7325 - energy_loss: 0.2032 - force_loss: 0.0765 - 552ms/epoch - 69ms/step\n",
      "Epoch 1331/1500\n",
      "8/8 - 1s - loss: 1.8084 - energy_loss: 0.3060 - force_loss: 0.0751 - 561ms/epoch - 70ms/step\n",
      "Epoch 1332/1500\n",
      "8/8 - 1s - loss: 1.9649 - energy_loss: 0.4145 - force_loss: 0.0775 - 555ms/epoch - 69ms/step\n",
      "Epoch 1333/1500\n",
      "8/8 - 1s - loss: 1.7471 - energy_loss: 0.2308 - force_loss: 0.0758 - 564ms/epoch - 70ms/step\n",
      "Epoch 1334/1500\n",
      "8/8 - 1s - loss: 1.8575 - energy_loss: 0.2861 - force_loss: 0.0786 - 604ms/epoch - 76ms/step\n",
      "Epoch 1335/1500\n",
      "8/8 - 1s - loss: 1.5489 - energy_loss: 0.1508 - force_loss: 0.0699 - 592ms/epoch - 74ms/step\n",
      "Epoch 1336/1500\n",
      "8/8 - 1s - loss: 1.5171 - energy_loss: 0.2153 - force_loss: 0.0651 - 566ms/epoch - 71ms/step\n",
      "Epoch 1337/1500\n",
      "8/8 - 1s - loss: 1.9267 - energy_loss: 0.5114 - force_loss: 0.0708 - 555ms/epoch - 69ms/step\n",
      "Epoch 1338/1500\n",
      "8/8 - 1s - loss: 2.0011 - energy_loss: 0.5551 - force_loss: 0.0723 - 556ms/epoch - 69ms/step\n",
      "Epoch 1339/1500\n",
      "8/8 - 1s - loss: 1.9602 - energy_loss: 0.5046 - force_loss: 0.0728 - 550ms/epoch - 69ms/step\n",
      "Epoch 1340/1500\n",
      "8/8 - 1s - loss: 2.0389 - energy_loss: 0.4959 - force_loss: 0.0771 - 574ms/epoch - 72ms/step\n",
      "Epoch 1341/1500\n",
      "8/8 - 1s - loss: 1.7677 - energy_loss: 0.2068 - force_loss: 0.0780 - 548ms/epoch - 68ms/step\n",
      "Epoch 1342/1500\n",
      "8/8 - 1s - loss: 1.9272 - energy_loss: 0.3756 - force_loss: 0.0776 - 554ms/epoch - 69ms/step\n",
      "Epoch 1343/1500\n",
      "8/8 - 1s - loss: 1.8437 - energy_loss: 0.2634 - force_loss: 0.0790 - 551ms/epoch - 69ms/step\n",
      "Epoch 1344/1500\n",
      "8/8 - 1s - loss: 1.5960 - energy_loss: 0.1641 - force_loss: 0.0716 - 556ms/epoch - 70ms/step\n",
      "Epoch 1345/1500\n",
      "8/8 - 1s - loss: 1.5234 - energy_loss: 0.1488 - force_loss: 0.0687 - 552ms/epoch - 69ms/step\n",
      "Epoch 1346/1500\n",
      "8/8 - 1s - loss: 1.7121 - energy_loss: 0.2717 - force_loss: 0.0720 - 545ms/epoch - 68ms/step\n",
      "Epoch 1347/1500\n",
      "8/8 - 1s - loss: 1.5657 - energy_loss: 0.1385 - force_loss: 0.0714 - 552ms/epoch - 69ms/step\n",
      "Epoch 1348/1500\n",
      "8/8 - 1s - loss: 1.5822 - energy_loss: 0.1553 - force_loss: 0.0713 - 551ms/epoch - 69ms/step\n",
      "Epoch 1349/1500\n",
      "8/8 - 1s - loss: 1.6498 - energy_loss: 0.2428 - force_loss: 0.0704 - 559ms/epoch - 70ms/step\n",
      "Epoch 1350/1500\n",
      "8/8 - 1s - loss: 1.6609 - energy_loss: 0.1821 - force_loss: 0.0739 - 564ms/epoch - 70ms/step\n",
      "Epoch 1351/1500\n",
      "8/8 - 1s - loss: 1.5474 - energy_loss: 0.1568 - force_loss: 0.0695 - 566ms/epoch - 71ms/step\n",
      "Epoch 1352/1500\n",
      "8/8 - 1s - loss: 1.5891 - energy_loss: 0.2398 - force_loss: 0.0675 - 638ms/epoch - 80ms/step\n",
      "Epoch 1353/1500\n",
      "8/8 - 1s - loss: 1.5455 - energy_loss: 0.1689 - force_loss: 0.0688 - 723ms/epoch - 90ms/step\n",
      "Epoch 1354/1500\n",
      "8/8 - 1s - loss: 1.5816 - energy_loss: 0.2057 - force_loss: 0.0688 - 668ms/epoch - 83ms/step\n",
      "Epoch 1355/1500\n",
      "8/8 - 1s - loss: 1.7079 - energy_loss: 0.3165 - force_loss: 0.0696 - 595ms/epoch - 74ms/step\n",
      "Epoch 1356/1500\n",
      "8/8 - 1s - loss: 1.7344 - energy_loss: 0.3037 - force_loss: 0.0715 - 586ms/epoch - 73ms/step\n",
      "Epoch 1357/1500\n",
      "8/8 - 1s - loss: 1.7894 - energy_loss: 0.2999 - force_loss: 0.0745 - 586ms/epoch - 73ms/step\n",
      "Epoch 1358/1500\n",
      "8/8 - 1s - loss: 1.8854 - energy_loss: 0.3148 - force_loss: 0.0785 - 580ms/epoch - 72ms/step\n",
      "Epoch 1359/1500\n",
      "8/8 - 1s - loss: 2.1008 - energy_loss: 0.3338 - force_loss: 0.0884 - 576ms/epoch - 72ms/step\n",
      "Epoch 1360/1500\n",
      "8/8 - 1s - loss: 2.0157 - energy_loss: 0.3440 - force_loss: 0.0836 - 567ms/epoch - 71ms/step\n",
      "Epoch 1361/1500\n",
      "8/8 - 1s - loss: 1.9676 - energy_loss: 0.3260 - force_loss: 0.0821 - 575ms/epoch - 72ms/step\n",
      "Epoch 1362/1500\n",
      "8/8 - 1s - loss: 1.9627 - energy_loss: 0.3308 - force_loss: 0.0816 - 570ms/epoch - 71ms/step\n",
      "Epoch 1363/1500\n",
      "8/8 - 1s - loss: 1.8339 - energy_loss: 0.3027 - force_loss: 0.0766 - 581ms/epoch - 73ms/step\n",
      "Epoch 1364/1500\n",
      "8/8 - 1s - loss: 1.7370 - energy_loss: 0.2971 - force_loss: 0.0720 - 581ms/epoch - 73ms/step\n",
      "Epoch 1365/1500\n",
      "8/8 - 1s - loss: 1.7098 - energy_loss: 0.3056 - force_loss: 0.0702 - 579ms/epoch - 72ms/step\n",
      "Epoch 1366/1500\n",
      "8/8 - 1s - loss: 1.7968 - energy_loss: 0.3052 - force_loss: 0.0746 - 578ms/epoch - 72ms/step\n",
      "Epoch 1367/1500\n",
      "8/8 - 1s - loss: 1.8571 - energy_loss: 0.3102 - force_loss: 0.0773 - 582ms/epoch - 73ms/step\n",
      "Epoch 1368/1500\n",
      "8/8 - 1s - loss: 1.7911 - energy_loss: 0.3017 - force_loss: 0.0745 - 587ms/epoch - 73ms/step\n",
      "Epoch 1369/1500\n",
      "8/8 - 1s - loss: 1.7614 - energy_loss: 0.3122 - force_loss: 0.0725 - 579ms/epoch - 72ms/step\n"
     ]
    },
    {
     "name": "stdout",
     "output_type": "stream",
     "text": [
      "Epoch 1370/1500\n",
      "8/8 - 1s - loss: 1.7885 - energy_loss: 0.3029 - force_loss: 0.0743 - 584ms/epoch - 73ms/step\n",
      "Epoch 1371/1500\n",
      "8/8 - 1s - loss: 1.8967 - energy_loss: 0.3072 - force_loss: 0.0795 - 579ms/epoch - 72ms/step\n",
      "Epoch 1372/1500\n",
      "8/8 - 1s - loss: 1.7590 - energy_loss: 0.3019 - force_loss: 0.0729 - 668ms/epoch - 83ms/step\n",
      "Epoch 1373/1500\n",
      "8/8 - 1s - loss: 1.7160 - energy_loss: 0.3050 - force_loss: 0.0706 - 657ms/epoch - 82ms/step\n",
      "Epoch 1374/1500\n",
      "8/8 - 1s - loss: 1.7361 - energy_loss: 0.2934 - force_loss: 0.0721 - 631ms/epoch - 79ms/step\n",
      "Epoch 1375/1500\n",
      "8/8 - 1s - loss: 1.7108 - energy_loss: 0.3144 - force_loss: 0.0698 - 656ms/epoch - 82ms/step\n",
      "Epoch 1376/1500\n",
      "8/8 - 1s - loss: 1.7204 - energy_loss: 0.2977 - force_loss: 0.0711 - 671ms/epoch - 84ms/step\n",
      "Epoch 1377/1500\n",
      "8/8 - 1s - loss: 1.7563 - energy_loss: 0.2909 - force_loss: 0.0733 - 668ms/epoch - 84ms/step\n",
      "Epoch 1378/1500\n",
      "8/8 - 1s - loss: 1.6346 - energy_loss: 0.2272 - force_loss: 0.0704 - 677ms/epoch - 85ms/step\n",
      "Epoch 1379/1500\n",
      "8/8 - 1s - loss: 1.4787 - energy_loss: 0.1299 - force_loss: 0.0674 - 650ms/epoch - 81ms/step\n",
      "Epoch 1380/1500\n",
      "8/8 - 1s - loss: 1.4705 - energy_loss: 0.1207 - force_loss: 0.0675 - 650ms/epoch - 81ms/step\n",
      "Epoch 1381/1500\n",
      "8/8 - 1s - loss: 1.4323 - energy_loss: 0.1204 - force_loss: 0.0656 - 636ms/epoch - 80ms/step\n",
      "Epoch 1382/1500\n",
      "8/8 - 1s - loss: 1.4460 - energy_loss: 0.1421 - force_loss: 0.0652 - 693ms/epoch - 87ms/step\n",
      "Epoch 1383/1500\n",
      "8/8 - 1s - loss: 1.4287 - energy_loss: 0.1408 - force_loss: 0.0644 - 699ms/epoch - 87ms/step\n",
      "Epoch 1384/1500\n",
      "8/8 - 1s - loss: 1.4174 - energy_loss: 0.1463 - force_loss: 0.0636 - 668ms/epoch - 84ms/step\n",
      "Epoch 1385/1500\n",
      "8/8 - 1s - loss: 1.6143 - energy_loss: 0.3707 - force_loss: 0.0622 - 641ms/epoch - 80ms/step\n",
      "Epoch 1386/1500\n",
      "8/8 - 1s - loss: 1.5389 - energy_loss: 0.2857 - force_loss: 0.0627 - 635ms/epoch - 79ms/step\n",
      "Epoch 1387/1500\n",
      "8/8 - 1s - loss: 1.6808 - energy_loss: 0.3181 - force_loss: 0.0681 - 687ms/epoch - 86ms/step\n",
      "Epoch 1388/1500\n",
      "8/8 - 1s - loss: 1.7815 - energy_loss: 0.3039 - force_loss: 0.0739 - 678ms/epoch - 85ms/step\n",
      "Epoch 1389/1500\n",
      "8/8 - 1s - loss: 1.7883 - energy_loss: 0.2923 - force_loss: 0.0748 - 623ms/epoch - 78ms/step\n",
      "Epoch 1390/1500\n",
      "8/8 - 1s - loss: 1.9108 - energy_loss: 0.2961 - force_loss: 0.0807 - 667ms/epoch - 83ms/step\n",
      "Epoch 1391/1500\n",
      "8/8 - 1s - loss: 1.8718 - energy_loss: 0.3324 - force_loss: 0.0770 - 680ms/epoch - 85ms/step\n",
      "Epoch 1392/1500\n",
      "8/8 - 1s - loss: 1.8189 - energy_loss: 0.3300 - force_loss: 0.0744 - 644ms/epoch - 80ms/step\n",
      "Epoch 1393/1500\n",
      "8/8 - 1s - loss: 1.6770 - energy_loss: 0.2717 - force_loss: 0.0703 - 669ms/epoch - 84ms/step\n",
      "Epoch 1394/1500\n",
      "8/8 - 1s - loss: 1.4869 - energy_loss: 0.1313 - force_loss: 0.0678 - 664ms/epoch - 83ms/step\n",
      "Epoch 1395/1500\n",
      "8/8 - 1s - loss: 1.5617 - energy_loss: 0.2485 - force_loss: 0.0657 - 640ms/epoch - 80ms/step\n",
      "Epoch 1396/1500\n",
      "8/8 - 1s - loss: 1.5966 - energy_loss: 0.2666 - force_loss: 0.0665 - 657ms/epoch - 82ms/step\n",
      "Epoch 1397/1500\n",
      "8/8 - 1s - loss: 1.6588 - energy_loss: 0.3377 - force_loss: 0.0661 - 658ms/epoch - 82ms/step\n",
      "Epoch 1398/1500\n",
      "8/8 - 1s - loss: 1.5932 - energy_loss: 0.2837 - force_loss: 0.0655 - 649ms/epoch - 81ms/step\n",
      "Epoch 1399/1500\n",
      "8/8 - 1s - loss: 1.5111 - energy_loss: 0.1437 - force_loss: 0.0684 - 628ms/epoch - 79ms/step\n",
      "Epoch 1400/1500\n",
      "8/8 - 1s - loss: 1.6707 - energy_loss: 0.2957 - force_loss: 0.0687 - 647ms/epoch - 81ms/step\n",
      "Epoch 1401/1500\n",
      "8/8 - 1s - loss: 1.8243 - energy_loss: 0.3690 - force_loss: 0.0728 - 649ms/epoch - 81ms/step\n",
      "Epoch 1402/1500\n",
      "8/8 - 1s - loss: 1.6282 - energy_loss: 0.2592 - force_loss: 0.0685 - 639ms/epoch - 80ms/step\n",
      "Epoch 1403/1500\n",
      "8/8 - 1s - loss: 1.6128 - energy_loss: 0.2803 - force_loss: 0.0666 - 646ms/epoch - 81ms/step\n",
      "Epoch 1404/1500\n",
      "8/8 - 1s - loss: 1.6836 - energy_loss: 0.3221 - force_loss: 0.0681 - 648ms/epoch - 81ms/step\n",
      "Epoch 1405/1500\n",
      "8/8 - 1s - loss: 1.7359 - energy_loss: 0.2449 - force_loss: 0.0746 - 655ms/epoch - 82ms/step\n",
      "Epoch 1406/1500\n",
      "8/8 - 1s - loss: 1.7485 - energy_loss: 0.2895 - force_loss: 0.0729 - 673ms/epoch - 84ms/step\n",
      "Epoch 1407/1500\n",
      "8/8 - 1s - loss: 1.9484 - energy_loss: 0.3296 - force_loss: 0.0809 - 696ms/epoch - 87ms/step\n",
      "Epoch 1408/1500\n",
      "8/8 - 1s - loss: 1.8973 - energy_loss: 0.2833 - force_loss: 0.0807 - 658ms/epoch - 82ms/step\n",
      "Epoch 1409/1500\n",
      "8/8 - 1s - loss: 1.8089 - energy_loss: 0.2803 - force_loss: 0.0764 - 655ms/epoch - 82ms/step\n",
      "Epoch 1410/1500\n",
      "8/8 - 1s - loss: 1.7477 - energy_loss: 0.3284 - force_loss: 0.0710 - 638ms/epoch - 80ms/step\n",
      "Epoch 1411/1500\n",
      "8/8 - 1s - loss: 1.7153 - energy_loss: 0.2890 - force_loss: 0.0713 - 670ms/epoch - 84ms/step\n",
      "Epoch 1412/1500\n",
      "8/8 - 1s - loss: 1.6956 - energy_loss: 0.3010 - force_loss: 0.0697 - 686ms/epoch - 86ms/step\n",
      "Epoch 1413/1500\n",
      "8/8 - 1s - loss: 1.7019 - energy_loss: 0.3191 - force_loss: 0.0691 - 685ms/epoch - 86ms/step\n",
      "Epoch 1414/1500\n",
      "8/8 - 1s - loss: 1.8382 - energy_loss: 0.4760 - force_loss: 0.0681 - 671ms/epoch - 84ms/step\n",
      "Epoch 1415/1500\n",
      "8/8 - 1s - loss: 1.7993 - energy_loss: 0.4470 - force_loss: 0.0676 - 644ms/epoch - 80ms/step\n",
      "Epoch 1416/1500\n",
      "8/8 - 1s - loss: 1.7758 - energy_loss: 0.4756 - force_loss: 0.0650 - 658ms/epoch - 82ms/step\n",
      "Epoch 1417/1500\n",
      "8/8 - 1s - loss: 1.6865 - energy_loss: 0.2799 - force_loss: 0.0703 - 717ms/epoch - 90ms/step\n",
      "Epoch 1418/1500\n",
      "8/8 - 1s - loss: 1.6962 - energy_loss: 0.2431 - force_loss: 0.0727 - 648ms/epoch - 81ms/step\n",
      "Epoch 1419/1500\n",
      "8/8 - 1s - loss: 1.4673 - energy_loss: 0.1168 - force_loss: 0.0675 - 668ms/epoch - 83ms/step\n",
      "Epoch 1420/1500\n",
      "8/8 - 1s - loss: 1.5534 - energy_loss: 0.2731 - force_loss: 0.0640 - 656ms/epoch - 82ms/step\n",
      "Epoch 1421/1500\n",
      "8/8 - 1s - loss: 1.7662 - energy_loss: 0.4910 - force_loss: 0.0638 - 633ms/epoch - 79ms/step\n",
      "Epoch 1422/1500\n",
      "8/8 - 1s - loss: 1.8449 - energy_loss: 0.5511 - force_loss: 0.0647 - 648ms/epoch - 81ms/step\n",
      "Epoch 1423/1500\n",
      "8/8 - 1s - loss: 1.8635 - energy_loss: 0.5468 - force_loss: 0.0658 - 659ms/epoch - 82ms/step\n",
      "Epoch 1424/1500\n",
      "8/8 - 1s - loss: 1.8491 - energy_loss: 0.4840 - force_loss: 0.0683 - 675ms/epoch - 84ms/step\n",
      "Epoch 1425/1500\n",
      "8/8 - 1s - loss: 1.7180 - energy_loss: 0.2966 - force_loss: 0.0711 - 689ms/epoch - 86ms/step\n",
      "Epoch 1426/1500\n",
      "8/8 - 1s - loss: 1.5557 - energy_loss: 0.1430 - force_loss: 0.0706 - 692ms/epoch - 86ms/step\n",
      "Epoch 1427/1500\n",
      "8/8 - 1s - loss: 1.4310 - energy_loss: 0.1353 - force_loss: 0.0648 - 681ms/epoch - 85ms/step\n",
      "Epoch 1428/1500\n",
      "8/8 - 1s - loss: 1.4400 - energy_loss: 0.1277 - force_loss: 0.0656 - 687ms/epoch - 86ms/step\n",
      "Epoch 1429/1500\n",
      "8/8 - 1s - loss: 1.3928 - energy_loss: 0.1321 - force_loss: 0.0630 - 669ms/epoch - 84ms/step\n",
      "Epoch 1430/1500\n",
      "8/8 - 1s - loss: 1.5857 - energy_loss: 0.2777 - force_loss: 0.0654 - 642ms/epoch - 80ms/step\n",
      "Epoch 1431/1500\n",
      "8/8 - 1s - loss: 1.6403 - energy_loss: 0.2757 - force_loss: 0.0682 - 650ms/epoch - 81ms/step\n",
      "Epoch 1432/1500\n",
      "8/8 - 1s - loss: 1.7409 - energy_loss: 0.2782 - force_loss: 0.0731 - 645ms/epoch - 81ms/step\n",
      "Epoch 1433/1500\n",
      "8/8 - 1s - loss: 1.6728 - energy_loss: 0.3154 - force_loss: 0.0679 - 638ms/epoch - 80ms/step\n",
      "Epoch 1434/1500\n",
      "8/8 - 1s - loss: 1.5408 - energy_loss: 0.2457 - force_loss: 0.0648 - 634ms/epoch - 79ms/step\n",
      "Epoch 1435/1500\n",
      "8/8 - 1s - loss: 1.6620 - energy_loss: 0.2496 - force_loss: 0.0706 - 625ms/epoch - 78ms/step\n",
      "Epoch 1436/1500\n",
      "8/8 - 1s - loss: 1.7414 - energy_loss: 0.3205 - force_loss: 0.0710 - 652ms/epoch - 81ms/step\n",
      "Epoch 1437/1500\n",
      "8/8 - 1s - loss: 1.6350 - energy_loss: 0.1977 - force_loss: 0.0719 - 651ms/epoch - 81ms/step\n",
      "Epoch 1438/1500\n",
      "8/8 - 1s - loss: 1.5441 - energy_loss: 0.1384 - force_loss: 0.0703 - 670ms/epoch - 84ms/step\n",
      "Epoch 1439/1500\n",
      "8/8 - 1s - loss: 1.7597 - energy_loss: 0.3626 - force_loss: 0.0699 - 680ms/epoch - 85ms/step\n",
      "Epoch 1440/1500\n",
      "8/8 - 1s - loss: 1.8546 - energy_loss: 0.2919 - force_loss: 0.0781 - 678ms/epoch - 85ms/step\n",
      "Epoch 1441/1500\n",
      "8/8 - 1s - loss: 2.0568 - energy_loss: 0.5646 - force_loss: 0.0746 - 663ms/epoch - 83ms/step\n",
      "Epoch 1442/1500\n",
      "8/8 - 1s - loss: 1.7122 - energy_loss: 0.2826 - force_loss: 0.0715 - 788ms/epoch - 99ms/step\n",
      "Epoch 1443/1500\n",
      "8/8 - 1s - loss: 1.7196 - energy_loss: 0.2454 - force_loss: 0.0737 - 718ms/epoch - 90ms/step\n",
      "Epoch 1444/1500\n",
      "8/8 - 1s - loss: 2.0667 - energy_loss: 0.5886 - force_loss: 0.0739 - 683ms/epoch - 85ms/step\n",
      "Epoch 1445/1500\n",
      "8/8 - 1s - loss: 1.7022 - energy_loss: 0.3008 - force_loss: 0.0701 - 666ms/epoch - 83ms/step\n"
     ]
    },
    {
     "name": "stdout",
     "output_type": "stream",
     "text": [
      "Epoch 1446/1500\n",
      "8/8 - 1s - loss: 1.7595 - energy_loss: 0.3143 - force_loss: 0.0723 - 668ms/epoch - 83ms/step\n",
      "Epoch 1447/1500\n",
      "8/8 - 1s - loss: 1.7839 - energy_loss: 0.2968 - force_loss: 0.0744 - 637ms/epoch - 80ms/step\n",
      "Epoch 1448/1500\n",
      "8/8 - 1s - loss: 1.8501 - energy_loss: 0.3171 - force_loss: 0.0766 - 607ms/epoch - 76ms/step\n",
      "Epoch 1449/1500\n",
      "8/8 - 1s - loss: 1.8423 - energy_loss: 0.3111 - force_loss: 0.0766 - 599ms/epoch - 75ms/step\n",
      "Epoch 1450/1500\n",
      "8/8 - 1s - loss: 1.7719 - energy_loss: 0.3149 - force_loss: 0.0729 - 590ms/epoch - 74ms/step\n",
      "Epoch 1451/1500\n",
      "8/8 - 1s - loss: 1.6898 - energy_loss: 0.3050 - force_loss: 0.0692 - 605ms/epoch - 76ms/step\n",
      "Epoch 1452/1500\n",
      "8/8 - 1s - loss: 1.7285 - energy_loss: 0.3019 - force_loss: 0.0713 - 587ms/epoch - 73ms/step\n",
      "Epoch 1453/1500\n",
      "8/8 - 1s - loss: 1.7353 - energy_loss: 0.2921 - force_loss: 0.0722 - 631ms/epoch - 79ms/step\n",
      "Epoch 1454/1500\n",
      "8/8 - 1s - loss: 1.7460 - energy_loss: 0.2918 - force_loss: 0.0727 - 610ms/epoch - 76ms/step\n",
      "Epoch 1455/1500\n",
      "8/8 - 1s - loss: 1.7187 - energy_loss: 0.2989 - force_loss: 0.0710 - 634ms/epoch - 79ms/step\n",
      "Epoch 1456/1500\n",
      "8/8 - 1s - loss: 1.7916 - energy_loss: 0.2919 - force_loss: 0.0750 - 652ms/epoch - 81ms/step\n",
      "Epoch 1457/1500\n",
      "8/8 - 1s - loss: 1.7417 - energy_loss: 0.3003 - force_loss: 0.0721 - 631ms/epoch - 79ms/step\n",
      "Epoch 1458/1500\n",
      "8/8 - 1s - loss: 1.7099 - energy_loss: 0.2765 - force_loss: 0.0717 - 648ms/epoch - 81ms/step\n",
      "Epoch 1459/1500\n",
      "8/8 - 1s - loss: 1.7110 - energy_loss: 0.2656 - force_loss: 0.0723 - 606ms/epoch - 76ms/step\n",
      "Epoch 1460/1500\n",
      "8/8 - 1s - loss: 1.9387 - energy_loss: 0.5766 - force_loss: 0.0681 - 591ms/epoch - 74ms/step\n",
      "Epoch 1461/1500\n",
      "8/8 - 1s - loss: 1.8903 - energy_loss: 0.5047 - force_loss: 0.0693 - 583ms/epoch - 73ms/step\n",
      "Epoch 1462/1500\n",
      "8/8 - 1s - loss: 1.8582 - energy_loss: 0.5004 - force_loss: 0.0679 - 585ms/epoch - 73ms/step\n",
      "Epoch 1463/1500\n",
      "8/8 - 1s - loss: 1.8011 - energy_loss: 0.4982 - force_loss: 0.0651 - 583ms/epoch - 73ms/step\n",
      "Epoch 1464/1500\n",
      "8/8 - 1s - loss: 1.7966 - energy_loss: 0.4657 - force_loss: 0.0665 - 596ms/epoch - 75ms/step\n",
      "Epoch 1465/1500\n",
      "8/8 - 1s - loss: 1.8388 - energy_loss: 0.5297 - force_loss: 0.0655 - 597ms/epoch - 75ms/step\n",
      "Epoch 1466/1500\n",
      "8/8 - 1s - loss: 1.5447 - energy_loss: 0.1717 - force_loss: 0.0686 - 584ms/epoch - 73ms/step\n",
      "Epoch 1467/1500\n",
      "8/8 - 1s - loss: 1.3845 - energy_loss: 0.1101 - force_loss: 0.0637 - 605ms/epoch - 76ms/step\n",
      "Epoch 1468/1500\n",
      "8/8 - 1s - loss: 1.3904 - energy_loss: 0.1377 - force_loss: 0.0626 - 582ms/epoch - 73ms/step\n",
      "Epoch 1469/1500\n",
      "8/8 - 1s - loss: 1.3685 - energy_loss: 0.1459 - force_loss: 0.0611 - 584ms/epoch - 73ms/step\n",
      "Epoch 1470/1500\n",
      "8/8 - 1s - loss: 1.4077 - energy_loss: 0.1618 - force_loss: 0.0623 - 580ms/epoch - 72ms/step\n",
      "Epoch 1471/1500\n",
      "8/8 - 1s - loss: 1.3751 - energy_loss: 0.1512 - force_loss: 0.0612 - 589ms/epoch - 74ms/step\n",
      "Epoch 1472/1500\n",
      "8/8 - 1s - loss: 1.3620 - energy_loss: 0.1332 - force_loss: 0.0614 - 586ms/epoch - 73ms/step\n",
      "Epoch 1473/1500\n",
      "8/8 - 1s - loss: 1.3658 - energy_loss: 0.1460 - force_loss: 0.0610 - 583ms/epoch - 73ms/step\n",
      "Epoch 1474/1500\n",
      "8/8 - 1s - loss: 1.3466 - energy_loss: 0.1399 - force_loss: 0.0603 - 648ms/epoch - 81ms/step\n",
      "Epoch 1475/1500\n",
      "8/8 - 1s - loss: 1.6958 - energy_loss: 0.3982 - force_loss: 0.0649 - 599ms/epoch - 75ms/step\n",
      "Epoch 1476/1500\n",
      "8/8 - 1s - loss: 1.8292 - energy_loss: 0.5429 - force_loss: 0.0643 - 614ms/epoch - 77ms/step\n",
      "Epoch 1477/1500\n",
      "8/8 - 1s - loss: 1.6539 - energy_loss: 0.2435 - force_loss: 0.0705 - 602ms/epoch - 75ms/step\n",
      "Epoch 1478/1500\n",
      "8/8 - 1s - loss: 2.2165 - energy_loss: 0.5061 - force_loss: 0.0855 - 588ms/epoch - 73ms/step\n",
      "Epoch 1479/1500\n",
      "8/8 - 1s - loss: 2.2316 - energy_loss: 0.5006 - force_loss: 0.0865 - 594ms/epoch - 74ms/step\n",
      "Epoch 1480/1500\n",
      "8/8 - 1s - loss: 1.6919 - energy_loss: 0.1395 - force_loss: 0.0776 - 642ms/epoch - 80ms/step\n",
      "Epoch 1481/1500\n",
      "8/8 - 1s - loss: 1.5496 - energy_loss: 0.1370 - force_loss: 0.0706 - 590ms/epoch - 74ms/step\n",
      "Epoch 1482/1500\n",
      "8/8 - 1s - loss: 1.6186 - energy_loss: 0.2404 - force_loss: 0.0689 - 634ms/epoch - 79ms/step\n",
      "Epoch 1483/1500\n",
      "8/8 - 1s - loss: 1.6250 - energy_loss: 0.1576 - force_loss: 0.0734 - 589ms/epoch - 74ms/step\n",
      "Epoch 1484/1500\n",
      "8/8 - 1s - loss: 1.4499 - energy_loss: 0.1349 - force_loss: 0.0658 - 586ms/epoch - 73ms/step\n",
      "Epoch 1485/1500\n",
      "8/8 - 1s - loss: 1.4434 - energy_loss: 0.1549 - force_loss: 0.0644 - 615ms/epoch - 77ms/step\n",
      "Epoch 1486/1500\n",
      "8/8 - 1s - loss: 1.3931 - energy_loss: 0.1358 - force_loss: 0.0629 - 588ms/epoch - 74ms/step\n",
      "Epoch 1487/1500\n",
      "8/8 - 1s - loss: 1.5054 - energy_loss: 0.2412 - force_loss: 0.0632 - 584ms/epoch - 73ms/step\n",
      "Epoch 1488/1500\n",
      "8/8 - 1s - loss: 1.4749 - energy_loss: 0.1472 - force_loss: 0.0664 - 597ms/epoch - 75ms/step\n",
      "Epoch 1489/1500\n",
      "8/8 - 1s - loss: 1.4261 - energy_loss: 0.1522 - force_loss: 0.0637 - 592ms/epoch - 74ms/step\n",
      "Epoch 1490/1500\n",
      "8/8 - 1s - loss: 1.4459 - energy_loss: 0.1570 - force_loss: 0.0644 - 598ms/epoch - 75ms/step\n",
      "Epoch 1491/1500\n",
      "8/8 - 1s - loss: 1.3956 - energy_loss: 0.1552 - force_loss: 0.0620 - 591ms/epoch - 74ms/step\n",
      "Epoch 1492/1500\n",
      "8/8 - 1s - loss: 1.3533 - energy_loss: 0.1365 - force_loss: 0.0608 - 609ms/epoch - 76ms/step\n",
      "Epoch 1493/1500\n",
      "8/8 - 1s - loss: 1.3799 - energy_loss: 0.1502 - force_loss: 0.0615 - 592ms/epoch - 74ms/step\n",
      "Epoch 1494/1500\n",
      "8/8 - 1s - loss: 1.4150 - energy_loss: 0.1398 - force_loss: 0.0638 - 584ms/epoch - 73ms/step\n",
      "Epoch 1495/1500\n",
      "8/8 - 1s - loss: 1.5756 - energy_loss: 0.2479 - force_loss: 0.0664 - 577ms/epoch - 72ms/step\n",
      "Epoch 1496/1500\n",
      "8/8 - 1s - loss: 1.4159 - energy_loss: 0.1364 - force_loss: 0.0640 - 562ms/epoch - 70ms/step\n",
      "Epoch 1497/1500\n",
      "8/8 - 1s - loss: 1.4557 - energy_loss: 0.1473 - force_loss: 0.0654 - 571ms/epoch - 71ms/step\n",
      "Epoch 1498/1500\n",
      "8/8 - 1s - loss: 1.4696 - energy_loss: 0.1643 - force_loss: 0.0653 - 570ms/epoch - 71ms/step\n",
      "Epoch 1499/1500\n",
      "8/8 - 1s - loss: 1.7963 - energy_loss: 0.3854 - force_loss: 0.0705 - 568ms/epoch - 71ms/step\n",
      "Epoch 1500/1500\n",
      "8/8 - 1s - loss: 1.4900 - energy_loss: 0.1466 - force_loss: 0.0672 - 567ms/epoch - 71ms/step\n"
     ]
    }
   ],
   "source": [
    "hist = model.fit(\n",
    "    x_tensor, {\"energy\": eng, \"force\": forces},\n",
    "    shuffle=True,\n",
    "    batch_size=64,\n",
    "    epochs=1500,\n",
    "    verbose=0,\n",
    ")"
   ]
  },
  {
   "cell_type": "code",
   "execution_count": 16,
   "id": "e312e998",
   "metadata": {},
   "outputs": [],
   "source": [
    "from kgcnn.utils.plots import plot_train_test_loss"
   ]
  },
  {
   "cell_type": "code",
   "execution_count": 17,
   "id": "1370f095",
   "metadata": {},
   "outputs": [
    {
     "data": {
      "image/png": "[encoded data removed]",
      "text/plain": [
       "<Figure size 640x480 with 1 Axes>"
      ]
     },
     "metadata": {},
     "output_type": "display_data"
    }
   ],
   "source": [
    "plot_train_test_loss([hist]);"
   ]
  },
  {
   "cell_type": "markdown",
   "id": "8d0a0440",
   "metadata": {},
   "source": [
    "## 3. `MolDynamicsModelPredictor` wrapping pre- and postprocessing"
   ]
  },
  {
   "cell_type": "code",
   "execution_count": 18,
   "id": "957e8025",
   "metadata": {},
   "outputs": [],
   "source": [
    "from kgcnn.molecule.dynamics.base import MolDynamicsModelPredictor\n",
    "from kgcnn.graph.postprocessor import ExtensiveEnergyForceScalerPostprocessor\n",
    "from kgcnn.graph.preprocessor import SetRange, CountNodesAndEdges"
   ]
  },
  {
   "cell_type": "code",
   "execution_count": 19,
   "id": "a239c889",
   "metadata": {},
   "outputs": [],
   "source": [
    "dyn_model = MolDynamicsModelPredictor(\n",
    "    model=model, \n",
    "    model_inputs=model_config[\"model_energy\"][\"config\"][\"inputs\"], \n",
    "    model_outputs={\"energy\":\"energy\", \"forces\": \"force\"},\n",
    "    graph_preprocessors=[\n",
    "        SetRange(node_coordinates=\"node_coordinates\", overwrite=False), \n",
    "        CountNodesAndEdges(total_edges=\"total_ranges\", count_edges=\"range_indices\", count_nodes=\"atomic_number\", total_nodes=\"total_nodes\")\n",
    "    ],  # To use \n",
    "    graph_postprocessors=[\n",
    "        ExtensiveEnergyForceScalerPostprocessor(\n",
    "            scaler, energy=\"energy\", force=\"forces\", atomic_number=\"atomic_number\")],\n",
    "    store_last_input=True,\n",
    "    update_from_last_input=[\"range_indices\"],  # and \"range_images\" if periodic.\n",
    "    update_from_last_input_skip=3,\n",
    "    use_predict=True\n",
    ")"
   ]
  },
  {
   "cell_type": "code",
   "execution_count": 20,
   "id": "9f62e23f",
   "metadata": {},
   "outputs": [
    {
     "data": {
      "text/plain": [
       "{'energy': array([-17470.25697003]),\n",
       " 'forces': array([[-2.7326694 ,  2.8095162 , -1.0081939 ],\n",
       "        [-0.8803222 , -0.86334133,  2.016132  ],\n",
       "        [ 2.9769983 , -2.1848364 , -0.09486255],\n",
       "        [-0.44726467,  1.6309819 ,  0.05299461],\n",
       "        [ 0.19444036,  1.7827463 ,  0.83609724],\n",
       "        [-0.45722616,  0.20939216, -0.10256988],\n",
       "        [ 0.30063868,  0.64775467, -2.246342  ],\n",
       "        [-0.32841522, -1.3030164 , -0.0383088 ],\n",
       "        [ 0.5304326 ,  3.7981    ,  1.9469571 ],\n",
       "        [-0.69502366,  2.156969  ,  0.7068677 ],\n",
       "        [ 1.214899  , -1.2909838 ,  0.52889943],\n",
       "        [ 0.35981703, -3.6793942 , -1.8234814 ],\n",
       "        [ 1.7419589 , -0.8810475 , -0.65317625],\n",
       "        [-0.28501046, -0.5473276 ,  0.46010852],\n",
       "        [ 1.1710788 , -1.8928065 ,  1.3704097 ],\n",
       "        [ 0.10250306,  0.3020569 , -0.87027705],\n",
       "        [-1.1083761 ,  0.37424076, -0.1715999 ],\n",
       "        [-0.43617833,  0.4260102 , -0.20696497],\n",
       "        [-0.29224873, -1.118567  , -0.73191905],\n",
       "        [-0.42571226,  0.28614816, -0.52152324],\n",
       "        [-0.5043203 , -0.6625966 ,  0.5507541 ]], dtype=float32)}"
      ]
     },
     "execution_count": 20,
     "metadata": {},
     "output_type": "execute_result"
    }
   ],
   "source": [
    "dyn_model(dataset[0:510])[0]"
   ]
  },
  {
   "cell_type": "markdown",
   "id": "ecd94305",
   "metadata": {},
   "source": [
    "## 4. Use ASE compatible `KgcnnSingleCalculator`"
   ]
  },
  {
   "cell_type": "code",
   "execution_count": 21,
   "id": "c78027e9",
   "metadata": {},
   "outputs": [],
   "source": [
    "from ase import Atoms\n",
    "from kgcnn.molecule.dynamics.ase_calc import KgcnnSingleCalculator, AtomsToGraphConverter"
   ]
  },
  {
   "cell_type": "code",
   "execution_count": 22,
   "id": "ff3a525d",
   "metadata": {},
   "outputs": [
    {
     "data": {
      "text/plain": [
       "Atoms(symbols='C7O3C2OH8', pbc=False)"
      ]
     },
     "execution_count": 22,
     "metadata": {},
     "output_type": "execute_result"
    }
   ],
   "source": [
    "atoms = Atoms(dataset[0][\"atomic_number\"], positions=dataset[0][\"node_coordinates\"])\n",
    "atoms"
   ]
  },
  {
   "cell_type": "code",
   "execution_count": 23,
   "id": "b86c71fa",
   "metadata": {},
   "outputs": [
    {
     "data": {
      "text/plain": [
       "<MemoryGraphList [{'atomic_number': array([6, 6, 6, 6, 6, 6, 6, 8, 8, 8, 6, 6, 8, 1, 1, 1, 1, 1, 1, 1, 1]), 'node_coordinates': array([[ 2.15275078, -0.93790121, -0.05378575],\n",
       "       [ 0.99956719,  1.13262738, -1.67300307],\n",
       "       [ 2.73218273, -0.44859684, -1.19275553],\n",
       "       [ 2.14794307,  0.41880283, -2.08405233],\n",
       "       [-3.15705489,  1.42240939,  0.33067654],\n",
       "       [ 0.91168856, -0.33727827,  0.29772754],\n",
       "       [ 0.36105629,  0.72618343, -0.42339745],\n",
       "       [-0.40166094, -0.12259909,  2.26219435],\n",
       "       [-2.13128849, -0.48888369, -0.80224462],\n",
       "       [ 0.29867456, -2.24990948,  1.44246368],\n",
       "       [ 0.1239993 , -0.83296539,  1.42230211],\n",
       "       [-2.04596577,  0.64616435, -0.22107209],\n",
       "       [-0.88096468,  1.36265193, -0.06099633],\n",
       "       [-0.02472582, -2.46371902,  2.33402192],\n",
       "       [ 2.47956412, -1.70739289,  0.55101985],\n",
       "       [ 0.49126967,  1.99943374, -2.09234064],\n",
       "       [ 3.77819263, -0.85891833, -1.40897491],\n",
       "       [ 2.75656656,  0.58901616, -2.98423316],\n",
       "       [-2.82095412,  2.33964098,  0.93973904],\n",
       "       [-3.76033286,  1.76801371, -0.50670433],\n",
       "       [-3.80678333,  0.80577181,  0.93093152]])} ...]>"
      ]
     },
     "execution_count": 23,
     "metadata": {},
     "output_type": "execute_result"
    }
   ],
   "source": [
    "conv=AtomsToGraphConverter({\"atomic_number\": \"get_atomic_numbers\", \"node_coordinates\": \"get_positions\"})\n",
    "conv(atoms)"
   ]
  },
  {
   "cell_type": "code",
   "execution_count": 24,
   "id": "f886b267",
   "metadata": {},
   "outputs": [
    {
     "data": {
      "text/plain": [
       "<kgcnn.molecule.dynamics.ase_calc.KgcnnSingleCalculator at 0x20e3c67f250>"
      ]
     },
     "execution_count": 24,
     "metadata": {},
     "output_type": "execute_result"
    }
   ],
   "source": [
    "calc = KgcnnSingleCalculator(model_predictor=dyn_model, atoms_converter=conv)\n",
    "calc"
   ]
  },
  {
   "cell_type": "code",
   "execution_count": 25,
   "id": "5e323e89",
   "metadata": {},
   "outputs": [],
   "source": [
    "from ase.md.velocitydistribution import MaxwellBoltzmannDistribution\n",
    "from ase.md.verlet import VelocityVerlet\n",
    "from ase import units"
   ]
  },
  {
   "cell_type": "code",
   "execution_count": 26,
   "id": "e0d59a45",
   "metadata": {},
   "outputs": [
    {
     "name": "stdout",
     "output_type": "stream",
     "text": [
      "{'energy': array(-17470.25696997), 'forces': array([[-2.7326698 ,  2.8095155 , -1.0081942 ],\n",
      "       [-0.880322  , -0.8633419 ,  2.0161314 ],\n",
      "       [ 2.9769976 , -2.1848354 , -0.09486365],\n",
      "       [-0.44726324,  1.6309814 ,  0.05299556],\n",
      "       [ 0.19443965,  1.7827473 ,  0.8360969 ],\n",
      "       [-0.4572265 ,  0.20939235, -0.10256892],\n",
      "       [ 0.3006397 ,  0.64775455, -2.2463417 ],\n",
      "       [-0.32841408, -1.3030175 , -0.03830934],\n",
      "       [ 0.53043246,  3.798101  ,  1.9469569 ],\n",
      "       [-0.69502413,  2.156969  ,  0.7068684 ],\n",
      "       [ 1.2148997 , -1.2909844 ,  0.52890015],\n",
      "       [ 0.3598175 , -3.679396  , -1.8234823 ],\n",
      "       [ 1.7419591 , -0.88104665, -0.65317667],\n",
      "       [-0.28501004, -0.54732656,  0.4601071 ],\n",
      "       [ 1.1710788 , -1.8928063 ,  1.37041   ],\n",
      "       [ 0.10250258,  0.30205786, -0.87027735],\n",
      "       [-1.1083764 ,  0.37424082, -0.17160007],\n",
      "       [-0.43617785,  0.4260096 , -0.20696521],\n",
      "       [-0.29224867, -1.1185669 , -0.73191905],\n",
      "       [-0.42571217,  0.28614807, -0.521523  ],\n",
      "       [-0.50432116, -0.66259634,  0.5507548 ]], dtype=float32)}\n"
     ]
    }
   ],
   "source": [
    "atoms.calc = calc\n",
    "calc.calculate(atoms)\n",
    "print(calc.results)\n",
    "\n",
    "# Set the momenta corresponding to T=300K\n",
    "MaxwellBoltzmannDistribution(atoms, temperature_K=300)\n",
    "\n",
    "# We want to run MD with constant energy using the VelocityVerlet algorithm.\n",
    "dyn = VelocityVerlet(atoms, 1 * units.fs)  # 5 fs time step."
   ]
  },
  {
   "cell_type": "code",
   "execution_count": 27,
   "id": "e9f42dc3",
   "metadata": {},
   "outputs": [
    {
     "name": "stdout",
     "output_type": "stream",
     "text": [
      "Energy per atom: Epot = -831.917eV  Ekin = 0.034eV (T=264K)  Etot = -831.883eV\n",
      "Energy per atom: Epot = -831.929eV  Ekin = 0.046eV (T=359K)  Etot = -831.883eV\n",
      "Energy per atom: Epot = -831.928eV  Ekin = 0.046eV (T=354K)  Etot = -831.883eV\n",
      "Energy per atom: Epot = -831.938eV  Ekin = 0.055eV (T=427K)  Etot = -831.883eV\n",
      "Energy per atom: Epot = -831.934eV  Ekin = 0.053eV (T=411K)  Etot = -831.881eV\n",
      "Energy per atom: Epot = -831.934eV  Ekin = 0.058eV (T=445K)  Etot = -831.876eV\n",
      "Energy per atom: Epot = -831.934eV  Ekin = 0.056eV (T=430K)  Etot = -831.878eV\n",
      "Energy per atom: Epot = -831.935eV  Ekin = 0.055eV (T=428K)  Etot = -831.880eV\n",
      "Energy per atom: Epot = -831.928eV  Ekin = 0.052eV (T=399K)  Etot = -831.877eV\n",
      "Energy per atom: Epot = -831.913eV  Ekin = 0.044eV (T=337K)  Etot = -831.870eV\n",
      "Energy per atom: Epot = -831.929eV  Ekin = 0.055eV (T=423K)  Etot = -831.875eV\n",
      "Energy per atom: Epot = -831.920eV  Ekin = 0.048eV (T=368K)  Etot = -831.872eV\n",
      "Energy per atom: Epot = -831.919eV  Ekin = 0.046eV (T=355K)  Etot = -831.873eV\n",
      "Energy per atom: Epot = -831.923eV  Ekin = 0.048eV (T=370K)  Etot = -831.875eV\n",
      "Energy per atom: Epot = -831.916eV  Ekin = 0.040eV (T=307K)  Etot = -831.877eV\n",
      "Energy per atom: Epot = -831.932eV  Ekin = 0.054eV (T=419K)  Etot = -831.878eV\n",
      "Energy per atom: Epot = -831.932eV  Ekin = 0.050eV (T=383K)  Etot = -831.882eV\n",
      "Energy per atom: Epot = -831.914eV  Ekin = 0.037eV (T=286K)  Etot = -831.877eV\n",
      "Energy per atom: Epot = -831.930eV  Ekin = 0.055eV (T=423K)  Etot = -831.875eV\n",
      "Energy per atom: Epot = -831.920eV  Ekin = 0.052eV (T=404K)  Etot = -831.868eV\n",
      "Energy per atom: Epot = -831.922eV  Ekin = 0.047eV (T=361K)  Etot = -831.876eV\n"
     ]
    }
   ],
   "source": [
    "def printenergy(a):\n",
    "    \"\"\"Function to print the potential, kinetic and total energy\"\"\"\n",
    "    epot = a.get_potential_energy() / len(a)\n",
    "    ekin = a.get_kinetic_energy() / len(a)\n",
    "    print('Energy per atom: Epot = %.3feV  Ekin = %.3feV (T=%3.0fK)  '\n",
    "          'Etot = %.3feV' % (epot, ekin, ekin / (1.5 * units.kB), epot + ekin))\n",
    "\n",
    "\n",
    "# Now run the dynamics\n",
    "printenergy(atoms)\n",
    "for i in range(20):\n",
    "    dyn.run(10)\n",
    "    printenergy(atoms)"
   ]
  },
  {
   "cell_type": "code",
   "execution_count": 28,
   "id": "be5ef139",
   "metadata": {},
   "outputs": [],
   "source": [
    "calc.model_predictor._last_input;"
   ]
  },
  {
   "cell_type": "code",
   "execution_count": 29,
   "id": "aead5d3d",
   "metadata": {},
   "outputs": [
    {
     "data": {
      "text/plain": [
       "0.0159375"
      ]
     },
     "execution_count": 29,
     "metadata": {},
     "output_type": "execute_result"
    }
   ],
   "source": [
    "dyn_model._test_timing(conv(atoms))"
   ]
  }
 ],
 "metadata": {
  "kernelspec": {
   "display_name": "Python 3 (ipykernel)",
   "language": "python",
   "name": "python3"
  },
  "language_info": {
   "codemirror_mode": {
    "name": "ipython",
    "version": 3
   },
   "file_extension": ".py",
   "mimetype": "text/x-python",
   "name": "python",
   "nbconvert_exporter": "python",
   "pygments_lexer": "ipython3",
   "version": "3.10.5"
  }
 },
 "nbformat": 4,
 "nbformat_minor": 5
}
