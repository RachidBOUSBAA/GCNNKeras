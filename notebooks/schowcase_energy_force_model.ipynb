{
 "cells": [
  {
   "cell_type": "code",
   "execution_count": 1,
   "id": "9039a4c8",
   "metadata": {},
   "outputs": [],
   "source": [
    "import numpy as np\n",
    "from kgcnn.data.datasets.MD17RevisedDataset import MD17RevisedDataset"
   ]
  },
  {
   "cell_type": "code",
   "execution_count": 2,
   "id": "968d1d52",
   "metadata": {},
   "outputs": [
    {
     "name": "stderr",
     "output_type": "stream",
     "text": [
      "INFO:kgcnn.data.download:Checking and possibly downloading dataset with name MD17Revised\n",
      "INFO:kgcnn.data.download:Dataset directory located at C:\\Users\\patri\\.kgcnn\\datasets\n",
      "INFO:kgcnn.data.download:Dataset directory found. Done.\n",
      "INFO:kgcnn.data.download:Dataset found. Done.\n",
      "INFO:kgcnn.data.download:Directory for extraction exists. Done.\n",
      "INFO:kgcnn.data.download:Not extracting tar File. Stopped.\n"
     ]
    },
    {
     "name": "stdout",
     "output_type": "stream",
     "text": [
      "Number of steps 100000\n"
     ]
    }
   ],
   "source": [
    "dataset = MD17RevisedDataset(\"aspirin\")\n",
    "print(\"Number of steps\", len(dataset))"
   ]
  },
  {
   "cell_type": "code",
   "execution_count": 3,
   "id": "31504d0a",
   "metadata": {},
   "outputs": [
    {
     "data": {
      "text/plain": [
       "dict_keys(['coords', 'energies', 'forces', 'old_indices', 'old_energies', 'old_forces', 'nuclear_charges', 'range_indices', 'range_attributes'])"
      ]
     },
     "execution_count": 3,
     "metadata": {},
     "output_type": "execute_result"
    }
   ],
   "source": [
    "data = dataset[:500]\n",
    "data.map_list(method=\"set_range\", node_coordinates=\"coords\")\n",
    "data[0].keys()"
   ]
  },
  {
   "cell_type": "code",
   "execution_count": 4,
   "id": "b4fce4b0",
   "metadata": {},
   "outputs": [
    {
     "data": {
      "text/plain": [
       "((500, 1),\n",
       " array([[-406276.78237402],\n",
       "        [-406272.40203419],\n",
       "        [-406282.16488753]]))"
      ]
     },
     "execution_count": 4,
     "metadata": {},
     "output_type": "execute_result"
    }
   ],
   "source": [
    "eng = np.expand_dims(data.get(\"energies\"), axis=-1)\n",
    "eng.shape, eng[:3]"
   ]
  },
  {
   "cell_type": "code",
   "execution_count": 5,
   "id": "4b0e78fa",
   "metadata": {},
   "outputs": [
    {
     "data": {
      "text/plain": [
       "TensorShape([500, None, 3])"
      ]
     },
     "execution_count": 5,
     "metadata": {},
     "output_type": "execute_result"
    }
   ],
   "source": [
    "forces = data.tensor({\"name\": \"forces\", \"ragged\": True, \"shape\": (None, 3)})\n",
    "atoms = data.get(\"nuclear_charges\")\n",
    "forces.shape"
   ]
  },
  {
   "cell_type": "code",
   "execution_count": 6,
   "id": "44e093c6",
   "metadata": {},
   "outputs": [
    {
     "data": {
      "text/plain": [
       "array([[-2.12796113],\n",
       "       [ 2.25237869],\n",
       "       [-7.51047464]])"
      ]
     },
     "execution_count": 6,
     "metadata": {},
     "output_type": "execute_result"
    }
   ],
   "source": [
    "from kgcnn.scaler.force import EnergyForceExtensiveScaler\n",
    "scaler = EnergyForceExtensiveScaler(standardize_coordinates=False, standardize_scale=False)  # For testing no scale.\n",
    "_, eng, _ = scaler.fit_transform(X=None, y=eng, force=forces, atomic_number=atoms)\n",
    "eng[:3]"
   ]
  },
  {
   "cell_type": "code",
   "execution_count": 7,
   "id": "a4e73b9b",
   "metadata": {},
   "outputs": [],
   "source": [
    "from kgcnn.model.force import EnergyForceModel"
   ]
  },
  {
   "cell_type": "code",
   "execution_count": 8,
   "id": "893c1b09",
   "metadata": {},
   "outputs": [
    {
     "name": "stderr",
     "output_type": "stream",
     "text": [
      "INFO:kgcnn.model.utils:Updated model kwargs:\n",
      "INFO:kgcnn.model.utils:{'name': 'Schnet', 'inputs': ListWrapper([DictWrapper({'shape': (None,), 'name': 'nuclear_charges', 'dtype': 'float32', 'ragged': True}), DictWrapper({'shape': (None, 3), 'name': 'coords', 'dtype': 'float32', 'ragged': True}), DictWrapper({'shape': (None, 2), 'name': 'range_indices', 'dtype': 'int64', 'ragged': True})]), 'input_embedding': {'node': {'input_dim': 95, 'output_dim': 64}}, 'make_distance': True, 'expand_distance': True, 'interaction_args': {'units': 128, 'use_bias': True, 'activation': 'kgcnn>shifted_softplus', 'cfconv_pool': 'sum'}, 'node_pooling_args': {'pooling_method': 'sum'}, 'depth': 4, 'gauss_args': {'bins': 20, 'distance': 4, 'offset': 0.0, 'sigma': 0.4}, 'verbose': 10, 'last_mlp': {'use_bias': ListWrapper([True, True]), 'units': ListWrapper([128, 64]), 'activation': ListWrapper(['kgcnn>shifted_softplus', 'kgcnn>shifted_softplus'])}, 'output_embedding': 'graph', 'output_to_tensor': True, 'use_output_mlp': True, 'output_mlp': {'use_bias': ListWrapper([True, True]), 'units': ListWrapper([64, 1]), 'activation': ListWrapper(['kgcnn>shifted_softplus', 'linear'])}}\n"
     ]
    }
   ],
   "source": [
    "model_config = {\n",
    "    \"module_name\": \"kgcnn.literature.Schnet\", \n",
    "    \"class_name\":\"make_model\", \n",
    "    \"output_as_dict\":True,\n",
    "    \"config\":{\n",
    "        \"name\": \"Schnet\",\n",
    "        \"inputs\": [{\"shape\": (None,), \"name\": \"nuclear_charges\", \"dtype\": \"float32\", \"ragged\": True},\n",
    "                   {\"shape\": (None, 3), \"name\": \"coords\", \"dtype\": \"float32\", \"ragged\": True},\n",
    "                   {\"shape\": (None, 2), \"name\": \"range_indices\", \"dtype\": \"int64\", \"ragged\": True}],\n",
    "        \"input_embedding\": {\"node\": {\"input_dim\": 95, \"output_dim\": 64}},\n",
    "        \"make_distance\": True, \"expand_distance\": True,\n",
    "        \"interaction_args\": {\"units\": 128, \"use_bias\": True,\n",
    "                             \"activation\": \"kgcnn>shifted_softplus\", \"cfconv_pool\": \"sum\"},\n",
    "        \"node_pooling_args\": {\"pooling_method\": \"sum\"},\n",
    "        \"depth\": 4,\n",
    "        \"gauss_args\": {\"bins\": 20, \"distance\": 4, \"offset\": 0.0, \"sigma\": 0.4},\n",
    "        \"verbose\": 10,\n",
    "        \"last_mlp\": {\"use_bias\": [True, True], \"units\": [128, 64],\n",
    "                     \"activation\": [\"kgcnn>shifted_softplus\", \"kgcnn>shifted_softplus\"]},\n",
    "        \"output_embedding\": \"graph\", \"output_to_tensor\": True,\n",
    "        \"use_output_mlp\": True,\n",
    "        \"output_mlp\": {\"use_bias\": [True, True], \"units\": [64, 1],\n",
    "                       \"activation\": [\"kgcnn>shifted_softplus\", \"linear\"]}},\n",
    "    \"output_to_tensor\":False,\n",
    "    \"output_squeeze_states\":True,\n",
    "}\n",
    "model = EnergyForceModel(**model_config)"
   ]
  },
  {
   "cell_type": "code",
   "execution_count": 9,
   "id": "95618ef0",
   "metadata": {},
   "outputs": [
    {
     "name": "stdout",
     "output_type": "stream",
     "text": [
      "[TensorShape([500, None]), TensorShape([500, None, 3]), TensorShape([500, None, 2])]\n"
     ]
    }
   ],
   "source": [
    "x_tensor = data.tensor(model.model_config[\"inputs\"])\n",
    "print([x.shape for x in x_tensor])"
   ]
  },
  {
   "cell_type": "code",
   "execution_count": 10,
   "id": "4c51344b",
   "metadata": {},
   "outputs": [
    {
     "name": "stderr",
     "output_type": "stream",
     "text": [
      "C:\\Users\\patri\\anaconda3\\envs\\gcnn_keras_test\\lib\\site-packages\\tensorflow\\python\\framework\\indexed_slices.py:444: UserWarning: Converting sparse IndexedSlices(IndexedSlices(indices=Tensor(\"gradient_tape/energy_force_model/model/sch_net_interaction_3/sch_net_c_fconv_3/pooling_local_edges_3/Reshape_1:0\", shape=(None,), dtype=int32), values=Tensor(\"gradient_tape/energy_force_model/model/sch_net_interaction_3/sch_net_c_fconv_3/pooling_local_edges_3/Reshape:0\", shape=(None, 128), dtype=float32), dense_shape=Tensor(\"gradient_tape/energy_force_model/model/sch_net_interaction_3/sch_net_c_fconv_3/pooling_local_edges_3/Cast:0\", shape=(2,), dtype=int32))) to a dense Tensor of unknown shape. This may consume a large amount of memory.\n",
      "  warnings.warn(\n",
      "C:\\Users\\patri\\anaconda3\\envs\\gcnn_keras_test\\lib\\site-packages\\tensorflow\\python\\framework\\indexed_slices.py:444: UserWarning: Converting sparse IndexedSlices(IndexedSlices(indices=Tensor(\"gradient_tape/energy_force_model/model/sch_net_interaction_3/sch_net_c_fconv_3/gather_nodes_outgoing_3/Reshape_1:0\", shape=(None,), dtype=int64), values=Tensor(\"gradient_tape/energy_force_model/model/sch_net_interaction_3/sch_net_c_fconv_3/gather_nodes_outgoing_3/Reshape:0\", shape=(None, 128), dtype=float32), dense_shape=Tensor(\"gradient_tape/energy_force_model/model/sch_net_interaction_3/sch_net_c_fconv_3/gather_nodes_outgoing_3/Cast:0\", shape=(2,), dtype=int32))) to a dense Tensor of unknown shape. This may consume a large amount of memory.\n",
      "  warnings.warn(\n",
      "C:\\Users\\patri\\anaconda3\\envs\\gcnn_keras_test\\lib\\site-packages\\tensorflow\\python\\framework\\indexed_slices.py:444: UserWarning: Converting sparse IndexedSlices(IndexedSlices(indices=Tensor(\"gradient_tape/energy_force_model/model/sch_net_interaction_2/sch_net_c_fconv_2/pooling_local_edges_2/Reshape_1:0\", shape=(None,), dtype=int32), values=Tensor(\"gradient_tape/energy_force_model/model/sch_net_interaction_2/sch_net_c_fconv_2/pooling_local_edges_2/Reshape:0\", shape=(None, 128), dtype=float32), dense_shape=Tensor(\"gradient_tape/energy_force_model/model/sch_net_interaction_2/sch_net_c_fconv_2/pooling_local_edges_2/Cast:0\", shape=(2,), dtype=int32))) to a dense Tensor of unknown shape. This may consume a large amount of memory.\n",
      "  warnings.warn(\n",
      "C:\\Users\\patri\\anaconda3\\envs\\gcnn_keras_test\\lib\\site-packages\\tensorflow\\python\\framework\\indexed_slices.py:444: UserWarning: Converting sparse IndexedSlices(IndexedSlices(indices=Tensor(\"gradient_tape/energy_force_model/model/sch_net_interaction_2/sch_net_c_fconv_2/gather_nodes_outgoing_2/Reshape_1:0\", shape=(None,), dtype=int64), values=Tensor(\"gradient_tape/energy_force_model/model/sch_net_interaction_2/sch_net_c_fconv_2/gather_nodes_outgoing_2/Reshape:0\", shape=(None, 128), dtype=float32), dense_shape=Tensor(\"gradient_tape/energy_force_model/model/sch_net_interaction_2/sch_net_c_fconv_2/gather_nodes_outgoing_2/Cast:0\", shape=(2,), dtype=int32))) to a dense Tensor of unknown shape. This may consume a large amount of memory.\n",
      "  warnings.warn(\n",
      "C:\\Users\\patri\\anaconda3\\envs\\gcnn_keras_test\\lib\\site-packages\\tensorflow\\python\\framework\\indexed_slices.py:444: UserWarning: Converting sparse IndexedSlices(IndexedSlices(indices=Tensor(\"gradient_tape/energy_force_model/model/sch_net_interaction_1/sch_net_c_fconv_1/pooling_local_edges_1/Reshape_1:0\", shape=(None,), dtype=int32), values=Tensor(\"gradient_tape/energy_force_model/model/sch_net_interaction_1/sch_net_c_fconv_1/pooling_local_edges_1/Reshape:0\", shape=(None, 128), dtype=float32), dense_shape=Tensor(\"gradient_tape/energy_force_model/model/sch_net_interaction_1/sch_net_c_fconv_1/pooling_local_edges_1/Cast:0\", shape=(2,), dtype=int32))) to a dense Tensor of unknown shape. This may consume a large amount of memory.\n",
      "  warnings.warn(\n",
      "C:\\Users\\patri\\anaconda3\\envs\\gcnn_keras_test\\lib\\site-packages\\tensorflow\\python\\framework\\indexed_slices.py:444: UserWarning: Converting sparse IndexedSlices(IndexedSlices(indices=Tensor(\"gradient_tape/energy_force_model/model/sch_net_interaction_1/sch_net_c_fconv_1/gather_nodes_outgoing_1/Reshape_1:0\", shape=(None,), dtype=int64), values=Tensor(\"gradient_tape/energy_force_model/model/sch_net_interaction_1/sch_net_c_fconv_1/gather_nodes_outgoing_1/Reshape:0\", shape=(None, 128), dtype=float32), dense_shape=Tensor(\"gradient_tape/energy_force_model/model/sch_net_interaction_1/sch_net_c_fconv_1/gather_nodes_outgoing_1/Cast:0\", shape=(2,), dtype=int32))) to a dense Tensor of unknown shape. This may consume a large amount of memory.\n",
      "  warnings.warn(\n",
      "C:\\Users\\patri\\anaconda3\\envs\\gcnn_keras_test\\lib\\site-packages\\tensorflow\\python\\framework\\indexed_slices.py:444: UserWarning: Converting sparse IndexedSlices(IndexedSlices(indices=Tensor(\"gradient_tape/energy_force_model/model/sch_net_interaction/sch_net_c_fconv/pooling_local_edges/Reshape_1:0\", shape=(None,), dtype=int32), values=Tensor(\"gradient_tape/energy_force_model/model/sch_net_interaction/sch_net_c_fconv/pooling_local_edges/Reshape:0\", shape=(None, 128), dtype=float32), dense_shape=Tensor(\"gradient_tape/energy_force_model/model/sch_net_interaction/sch_net_c_fconv/pooling_local_edges/Cast:0\", shape=(2,), dtype=int32))) to a dense Tensor of unknown shape. This may consume a large amount of memory.\n",
      "  warnings.warn(\n",
      "C:\\Users\\patri\\anaconda3\\envs\\gcnn_keras_test\\lib\\site-packages\\tensorflow\\python\\framework\\indexed_slices.py:444: UserWarning: Converting sparse IndexedSlices(IndexedSlices(indices=Tensor(\"gradient_tape/energy_force_model/model/sch_net_interaction/sch_net_c_fconv/gather_nodes_outgoing/Reshape_1:0\", shape=(None,), dtype=int64), values=Tensor(\"gradient_tape/energy_force_model/model/sch_net_interaction/sch_net_c_fconv/gather_nodes_outgoing/Reshape:0\", shape=(None, 128), dtype=float32), dense_shape=Tensor(\"gradient_tape/energy_force_model/model/sch_net_interaction/sch_net_c_fconv/gather_nodes_outgoing/Cast:0\", shape=(2,), dtype=int32))) to a dense Tensor of unknown shape. This may consume a large amount of memory.\n",
      "  warnings.warn(\n",
      "C:\\Users\\patri\\anaconda3\\envs\\gcnn_keras_test\\lib\\site-packages\\tensorflow\\python\\framework\\indexed_slices.py:444: UserWarning: Converting sparse IndexedSlices(IndexedSlices(indices=Tensor(\"energy_force_model/loop_body/concat_1:0\", shape=(None,), dtype=int64), values=Tensor(\"energy_force_model/loop_body/concat:0\", shape=(None, 3), dtype=float32), dense_shape=Tensor(\"gradient_tape/energy_force_model/model/node_position/gather_embedding_selection/Cast:0\", shape=(2,), dtype=int32))) to a dense Tensor of unknown shape. This may consume a large amount of memory.\n",
      "  warnings.warn(\n"
     ]
    },
    {
     "name": "stdout",
     "output_type": "stream",
     "text": [
      "16/16 [==============================] - 5s 27ms/step\n"
     ]
    }
   ],
   "source": [
    "test_out = model.predict(x_tensor)"
   ]
  },
  {
   "cell_type": "code",
   "execution_count": 11,
   "id": "c031e38b",
   "metadata": {},
   "outputs": [
    {
     "data": {
      "text/plain": [
       "[(500, 1), TensorShape([500, None, 3])]"
      ]
     },
     "execution_count": 11,
     "metadata": {},
     "output_type": "execute_result"
    }
   ],
   "source": [
    "[i.shape for i in test_out.values()]"
   ]
  },
  {
   "cell_type": "code",
   "execution_count": 12,
   "id": "9d43121c",
   "metadata": {},
   "outputs": [],
   "source": [
    "from kgcnn.metrics.loss import RaggedMeanAbsoluteError\n",
    "from tensorflow.keras.optimizers import Adam"
   ]
  },
  {
   "cell_type": "code",
   "execution_count": 13,
   "id": "654166f5",
   "metadata": {},
   "outputs": [],
   "source": [
    "model.compile(\n",
    "    loss={\"energy\": \"mean_absolute_error\", \"force\": RaggedMeanAbsoluteError()},\n",
    "    optimizer=Adam(learning_rate=5e-04),\n",
    "    metrics=None,\n",
    "    loss_weights=[1, 20],\n",
    ")"
   ]
  },
  {
   "cell_type": "markdown",
   "id": "780ab140",
   "metadata": {},
   "source": [
    "hist = model.fit(\n",
    "    x_tensor, {\"energy\": eng, \"force\": forces},\n",
    "    shuffle=True,\n",
    "    batch_size=64,\n",
    "    epochs=1500,\n",
    "    verbose=2,\n",
    ")"
   ]
  },
  {
   "cell_type": "code",
   "execution_count": 14,
   "id": "e312e998",
   "metadata": {},
   "outputs": [],
   "source": [
    "from kgcnn.utils.plots import plot_train_test_loss"
   ]
  },
  {
   "cell_type": "code",
   "execution_count": 15,
   "id": "1370f095",
   "metadata": {},
   "outputs": [],
   "source": [
    "# plot_train_test_loss([hist]);"
   ]
  },
  {
   "cell_type": "code",
   "execution_count": 16,
   "id": "957e8025",
   "metadata": {},
   "outputs": [],
   "source": [
    "from kgcnn.md.base import MolDynamicsModelPredictor, MolDynamicsModelPostprocessorBase\n",
    "from kgcnn.graph.postprocessor import ExtensiveEnergyForceScalerPostprocessor"
   ]
  },
  {
   "cell_type": "code",
   "execution_count": 17,
   "id": "a239c889",
   "metadata": {},
   "outputs": [],
   "source": [
    "dyn_model = MolDynamicsModelPredictor(\n",
    "    model=model, \n",
    "    model_inputs=model_config[\"config\"][\"inputs\"], \n",
    "    model_outputs={\"energy\":\"energy\", \"forces\": \"force\"},\n",
    "    graph_preprocessors=[{\"method\": \"set_range\", \"node_coordinates\": \"coords\"}],\n",
    "    model_postprocessors=[\n",
    "        ExtensiveEnergyForceScalerPostprocessor(\n",
    "            scaler, force=\"forces\", atomic_number=\"nuclear_charges\", coordinates=\"coords\")]\n",
    ")"
   ]
  },
  {
   "cell_type": "code",
   "execution_count": 18,
   "id": "9f62e23f",
   "metadata": {},
   "outputs": [
    {
     "name": "stderr",
     "output_type": "stream",
     "text": [
      "C:\\Users\\patri\\anaconda3\\envs\\gcnn_keras_test\\lib\\site-packages\\tensorflow\\python\\framework\\indexed_slices.py:444: UserWarning: Converting sparse IndexedSlices(IndexedSlices(indices=Tensor(\"gradients/boolean_mask/GatherV2_grad/Reshape_1:0\", shape=(None,), dtype=int64), values=Tensor(\"gradients/boolean_mask/GatherV2_grad/Reshape:0\", shape=(None, 3), dtype=float32), dense_shape=Tensor(\"gradients/boolean_mask/GatherV2_grad/Cast:0\", shape=(2,), dtype=int32))) to a dense Tensor of unknown shape. This may consume a large amount of memory.\n",
      "  warnings.warn(\n"
     ]
    }
   ],
   "source": [
    "dyn_model(dataset[500:510]);"
   ]
  },
  {
   "cell_type": "code",
   "execution_count": 19,
   "id": "c78027e9",
   "metadata": {},
   "outputs": [],
   "source": [
    "from ase import Atoms\n",
    "from kgcnn.md.ase_calc import KgcnnSingleCalculator, AtomsToGraphConverter"
   ]
  },
  {
   "cell_type": "code",
   "execution_count": 20,
   "id": "ff3a525d",
   "metadata": {},
   "outputs": [
    {
     "data": {
      "text/plain": [
       "Atoms(symbols='C7O3C2OH8', pbc=False)"
      ]
     },
     "execution_count": 20,
     "metadata": {},
     "output_type": "execute_result"
    }
   ],
   "source": [
    "atoms = Atoms(dataset[0][\"nuclear_charges\"], positions=dataset[0][\"coords\"])\n",
    "atoms"
   ]
  },
  {
   "cell_type": "code",
   "execution_count": 21,
   "id": "d0463198",
   "metadata": {},
   "outputs": [
    {
     "data": {
      "text/plain": [
       "<kgcnn.data.base.MemoryGraphList at 0x21b8d542700>"
      ]
     },
     "execution_count": 21,
     "metadata": {},
     "output_type": "execute_result"
    }
   ],
   "source": [
    "conv=AtomsToGraphConverter({\"nuclear_charges\": \"get_atomic_numbers\", \"coords\": \"get_positions\"})\n",
    "conv(atoms)"
   ]
  },
  {
   "cell_type": "code",
   "execution_count": 22,
   "id": "0c6eacf8",
   "metadata": {},
   "outputs": [
    {
     "data": {
      "text/plain": [
       "<kgcnn.md.ase_calc.KgcnnSingleCalculator at 0x21b8d542190>"
      ]
     },
     "execution_count": 22,
     "metadata": {},
     "output_type": "execute_result"
    }
   ],
   "source": [
    "calc = KgcnnSingleCalculator(model_predictor=dyn_model, atoms_converter=conv)\n",
    "calc"
   ]
  },
  {
   "cell_type": "code",
   "execution_count": 23,
   "id": "83d926a8",
   "metadata": {},
   "outputs": [],
   "source": [
    "from ase.md.velocitydistribution import MaxwellBoltzmannDistribution\n",
    "from ase.md.verlet import VelocityVerlet\n",
    "from ase import units"
   ]
  },
  {
   "cell_type": "code",
   "execution_count": 24,
   "id": "70c9c6b0",
   "metadata": {},
   "outputs": [],
   "source": [
    "atoms.calc = calc\n",
    "\n",
    "# Set the momenta corresponding to T=300K\n",
    "MaxwellBoltzmannDistribution(atoms, temperature_K=300)\n",
    "\n",
    "# We want to run MD with constant energy using the VelocityVerlet algorithm.\n",
    "dyn = VelocityVerlet(atoms, 5 * units.fs)  # 5 fs time step."
   ]
  },
  {
   "cell_type": "code",
   "execution_count": 25,
   "id": "4f66d35a",
   "metadata": {},
   "outputs": [
    {
     "ename": "PropertyNotImplementedError",
     "evalue": "energy property not implemented",
     "output_type": "error",
     "traceback": [
      "\u001b[1;31m---------------------------------------------------------------------------\u001b[0m",
      "\u001b[1;31mPropertyNotImplementedError\u001b[0m               Traceback (most recent call last)",
      "Input \u001b[1;32mIn [25]\u001b[0m, in \u001b[0;36m<module>\u001b[1;34m\u001b[0m\n\u001b[0;32m      5\u001b[0m     \u001b[38;5;28mprint\u001b[39m(\u001b[38;5;124m'\u001b[39m\u001b[38;5;124mEnergy per atom: Epot = \u001b[39m\u001b[38;5;132;01m%.3f\u001b[39;00m\u001b[38;5;124meV  Ekin = \u001b[39m\u001b[38;5;132;01m%.3f\u001b[39;00m\u001b[38;5;124meV (T=\u001b[39m\u001b[38;5;132;01m%3.0f\u001b[39;00m\u001b[38;5;124mK)  \u001b[39m\u001b[38;5;124m'\u001b[39m\n\u001b[0;32m      6\u001b[0m           \u001b[38;5;124m'\u001b[39m\u001b[38;5;124mEtot = \u001b[39m\u001b[38;5;132;01m%.3f\u001b[39;00m\u001b[38;5;124meV\u001b[39m\u001b[38;5;124m'\u001b[39m \u001b[38;5;241m%\u001b[39m (epot, ekin, ekin \u001b[38;5;241m/\u001b[39m (\u001b[38;5;241m1.5\u001b[39m \u001b[38;5;241m*\u001b[39m units\u001b[38;5;241m.\u001b[39mkB), epot \u001b[38;5;241m+\u001b[39m ekin))\n\u001b[0;32m      9\u001b[0m \u001b[38;5;66;03m# Now run the dynamics\u001b[39;00m\n\u001b[1;32m---> 10\u001b[0m \u001b[43mprintenergy\u001b[49m\u001b[43m(\u001b[49m\u001b[43matoms\u001b[49m\u001b[43m)\u001b[49m\n\u001b[0;32m     11\u001b[0m \u001b[38;5;28;01mfor\u001b[39;00m i \u001b[38;5;129;01min\u001b[39;00m \u001b[38;5;28mrange\u001b[39m(\u001b[38;5;241m20\u001b[39m):\n\u001b[0;32m     12\u001b[0m     dyn\u001b[38;5;241m.\u001b[39mrun(\u001b[38;5;241m10\u001b[39m)\n",
      "Input \u001b[1;32mIn [25]\u001b[0m, in \u001b[0;36mprintenergy\u001b[1;34m(a)\u001b[0m\n\u001b[0;32m      1\u001b[0m \u001b[38;5;28;01mdef\u001b[39;00m \u001b[38;5;21mprintenergy\u001b[39m(a):\n\u001b[0;32m      2\u001b[0m     \u001b[38;5;124;03m\"\"\"Function to print the potential, kinetic and total energy\"\"\"\u001b[39;00m\n\u001b[1;32m----> 3\u001b[0m     epot \u001b[38;5;241m=\u001b[39m \u001b[43ma\u001b[49m\u001b[38;5;241;43m.\u001b[39;49m\u001b[43mget_potential_energy\u001b[49m\u001b[43m(\u001b[49m\u001b[43m)\u001b[49m \u001b[38;5;241m/\u001b[39m \u001b[38;5;28mlen\u001b[39m(a)\n\u001b[0;32m      4\u001b[0m     ekin \u001b[38;5;241m=\u001b[39m a\u001b[38;5;241m.\u001b[39mget_kinetic_energy() \u001b[38;5;241m/\u001b[39m \u001b[38;5;28mlen\u001b[39m(a)\n\u001b[0;32m      5\u001b[0m     \u001b[38;5;28mprint\u001b[39m(\u001b[38;5;124m'\u001b[39m\u001b[38;5;124mEnergy per atom: Epot = \u001b[39m\u001b[38;5;132;01m%.3f\u001b[39;00m\u001b[38;5;124meV  Ekin = \u001b[39m\u001b[38;5;132;01m%.3f\u001b[39;00m\u001b[38;5;124meV (T=\u001b[39m\u001b[38;5;132;01m%3.0f\u001b[39;00m\u001b[38;5;124mK)  \u001b[39m\u001b[38;5;124m'\u001b[39m\n\u001b[0;32m      6\u001b[0m           \u001b[38;5;124m'\u001b[39m\u001b[38;5;124mEtot = \u001b[39m\u001b[38;5;132;01m%.3f\u001b[39;00m\u001b[38;5;124meV\u001b[39m\u001b[38;5;124m'\u001b[39m \u001b[38;5;241m%\u001b[39m (epot, ekin, ekin \u001b[38;5;241m/\u001b[39m (\u001b[38;5;241m1.5\u001b[39m \u001b[38;5;241m*\u001b[39m units\u001b[38;5;241m.\u001b[39mkB), epot \u001b[38;5;241m+\u001b[39m ekin))\n",
      "File \u001b[1;32m~\\anaconda3\\envs\\gcnn_keras_test\\lib\\site-packages\\ase\\atoms.py:731\u001b[0m, in \u001b[0;36mAtoms.get_potential_energy\u001b[1;34m(self, force_consistent, apply_constraint)\u001b[0m\n\u001b[0;32m    728\u001b[0m     energy \u001b[38;5;241m=\u001b[39m \u001b[38;5;28mself\u001b[39m\u001b[38;5;241m.\u001b[39m_calc\u001b[38;5;241m.\u001b[39mget_potential_energy(\n\u001b[0;32m    729\u001b[0m         \u001b[38;5;28mself\u001b[39m, force_consistent\u001b[38;5;241m=\u001b[39mforce_consistent)\n\u001b[0;32m    730\u001b[0m \u001b[38;5;28;01melse\u001b[39;00m:\n\u001b[1;32m--> 731\u001b[0m     energy \u001b[38;5;241m=\u001b[39m \u001b[38;5;28;43mself\u001b[39;49m\u001b[38;5;241;43m.\u001b[39;49m\u001b[43m_calc\u001b[49m\u001b[38;5;241;43m.\u001b[39;49m\u001b[43mget_potential_energy\u001b[49m\u001b[43m(\u001b[49m\u001b[38;5;28;43mself\u001b[39;49m\u001b[43m)\u001b[49m\n\u001b[0;32m    732\u001b[0m \u001b[38;5;28;01mif\u001b[39;00m apply_constraint:\n\u001b[0;32m    733\u001b[0m     \u001b[38;5;28;01mfor\u001b[39;00m constraint \u001b[38;5;129;01min\u001b[39;00m \u001b[38;5;28mself\u001b[39m\u001b[38;5;241m.\u001b[39mconstraints:\n",
      "File \u001b[1;32m~\\anaconda3\\envs\\gcnn_keras_test\\lib\\site-packages\\ase\\calculators\\calculator.py:709\u001b[0m, in \u001b[0;36mCalculator.get_potential_energy\u001b[1;34m(self, atoms, force_consistent)\u001b[0m\n\u001b[0;32m    708\u001b[0m \u001b[38;5;28;01mdef\u001b[39;00m \u001b[38;5;21mget_potential_energy\u001b[39m(\u001b[38;5;28mself\u001b[39m, atoms\u001b[38;5;241m=\u001b[39m\u001b[38;5;28;01mNone\u001b[39;00m, force_consistent\u001b[38;5;241m=\u001b[39m\u001b[38;5;28;01mFalse\u001b[39;00m):\n\u001b[1;32m--> 709\u001b[0m     energy \u001b[38;5;241m=\u001b[39m \u001b[38;5;28;43mself\u001b[39;49m\u001b[38;5;241;43m.\u001b[39;49m\u001b[43mget_property\u001b[49m\u001b[43m(\u001b[49m\u001b[38;5;124;43m'\u001b[39;49m\u001b[38;5;124;43menergy\u001b[39;49m\u001b[38;5;124;43m'\u001b[39;49m\u001b[43m,\u001b[49m\u001b[43m \u001b[49m\u001b[43matoms\u001b[49m\u001b[43m)\u001b[49m\n\u001b[0;32m    710\u001b[0m     \u001b[38;5;28;01mif\u001b[39;00m force_consistent:\n\u001b[0;32m    711\u001b[0m         \u001b[38;5;28;01mif\u001b[39;00m \u001b[38;5;124m'\u001b[39m\u001b[38;5;124mfree_energy\u001b[39m\u001b[38;5;124m'\u001b[39m \u001b[38;5;129;01mnot\u001b[39;00m \u001b[38;5;129;01min\u001b[39;00m \u001b[38;5;28mself\u001b[39m\u001b[38;5;241m.\u001b[39mresults:\n",
      "File \u001b[1;32m~\\anaconda3\\envs\\gcnn_keras_test\\lib\\site-packages\\ase\\calculators\\calculator.py:724\u001b[0m, in \u001b[0;36mCalculator.get_property\u001b[1;34m(self, name, atoms, allow_calculation)\u001b[0m\n\u001b[0;32m    722\u001b[0m \u001b[38;5;28;01mdef\u001b[39;00m \u001b[38;5;21mget_property\u001b[39m(\u001b[38;5;28mself\u001b[39m, name, atoms\u001b[38;5;241m=\u001b[39m\u001b[38;5;28;01mNone\u001b[39;00m, allow_calculation\u001b[38;5;241m=\u001b[39m\u001b[38;5;28;01mTrue\u001b[39;00m):\n\u001b[0;32m    723\u001b[0m     \u001b[38;5;28;01mif\u001b[39;00m name \u001b[38;5;129;01mnot\u001b[39;00m \u001b[38;5;129;01min\u001b[39;00m \u001b[38;5;28mself\u001b[39m\u001b[38;5;241m.\u001b[39mimplemented_properties:\n\u001b[1;32m--> 724\u001b[0m         \u001b[38;5;28;01mraise\u001b[39;00m PropertyNotImplementedError(\u001b[38;5;124m'\u001b[39m\u001b[38;5;132;01m{}\u001b[39;00m\u001b[38;5;124m property not implemented\u001b[39m\u001b[38;5;124m'\u001b[39m\n\u001b[0;32m    725\u001b[0m                                           \u001b[38;5;241m.\u001b[39mformat(name))\n\u001b[0;32m    727\u001b[0m     \u001b[38;5;28;01mif\u001b[39;00m atoms \u001b[38;5;129;01mis\u001b[39;00m \u001b[38;5;28;01mNone\u001b[39;00m:\n\u001b[0;32m    728\u001b[0m         atoms \u001b[38;5;241m=\u001b[39m \u001b[38;5;28mself\u001b[39m\u001b[38;5;241m.\u001b[39matoms\n",
      "\u001b[1;31mPropertyNotImplementedError\u001b[0m: energy property not implemented"
     ]
    }
   ],
   "source": [
    "def printenergy(a):\n",
    "    \"\"\"Function to print the potential, kinetic and total energy\"\"\"\n",
    "    epot = a.get_potential_energy() / len(a)\n",
    "    ekin = a.get_kinetic_energy() / len(a)\n",
    "    print('Energy per atom: Epot = %.3feV  Ekin = %.3feV (T=%3.0fK)  '\n",
    "          'Etot = %.3feV' % (epot, ekin, ekin / (1.5 * units.kB), epot + ekin))\n",
    "\n",
    "\n",
    "# Now run the dynamics\n",
    "printenergy(atoms)\n",
    "for i in range(20):\n",
    "    dyn.run(10)\n",
    "    printenergy(atoms)"
   ]
  },
  {
   "cell_type": "code",
   "execution_count": null,
   "id": "2516f5af",
   "metadata": {},
   "outputs": [],
   "source": []
  }
 ],
 "metadata": {
  "kernelspec": {
   "display_name": "Python 3 (ipykernel)",
   "language": "python",
   "name": "python3"
  },
  "language_info": {
   "codemirror_mode": {
    "name": "ipython",
    "version": 3
   },
   "file_extension": ".py",
   "mimetype": "text/x-python",
   "name": "python",
   "nbconvert_exporter": "python",
   "pygments_lexer": "ipython3",
   "version": "3.9.7"
  }
 },
 "nbformat": 4,
 "nbformat_minor": 5
}
