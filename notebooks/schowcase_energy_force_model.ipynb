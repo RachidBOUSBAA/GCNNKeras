{
 "cells": [
  {
   "cell_type": "code",
   "execution_count": 1,
   "id": "9039a4c8",
   "metadata": {},
   "outputs": [],
   "source": [
    "import numpy as np\n",
    "from kgcnn.data.datasets.MD17RevisedDataset import MD17RevisedDataset"
   ]
  },
  {
   "cell_type": "code",
   "execution_count": 2,
   "id": "968d1d52",
   "metadata": {},
   "outputs": [
    {
     "name": "stderr",
     "output_type": "stream",
     "text": [
      "INFO:kgcnn.data.download:Checking and possibly downloading dataset with name MD17Revised\n",
      "INFO:kgcnn.data.download:Dataset directory located at C:\\Users\\patri\\.kgcnn\\datasets\n",
      "INFO:kgcnn.data.download:Dataset directory found. Done.\n",
      "INFO:kgcnn.data.download:Dataset found. Done.\n",
      "INFO:kgcnn.data.download:Directory for extraction exists. Done.\n",
      "INFO:kgcnn.data.download:Not extracting tar File. Stopped.\n"
     ]
    },
    {
     "name": "stdout",
     "output_type": "stream",
     "text": [
      "Number of steps 100000\n"
     ]
    }
   ],
   "source": [
    "dataset = MD17RevisedDataset(\"aspirin\")\n",
    "print(\"Number of steps\", len(dataset))"
   ]
  },
  {
   "cell_type": "code",
   "execution_count": 3,
   "id": "31504d0a",
   "metadata": {},
   "outputs": [
    {
     "data": {
      "text/plain": [
       "dict_keys(['coords', 'energies', 'forces', 'old_indices', 'old_energies', 'old_forces', 'nuclear_charges', 'range_indices', 'range_attributes'])"
      ]
     },
     "execution_count": 3,
     "metadata": {},
     "output_type": "execute_result"
    }
   ],
   "source": [
    "data = dataset[:500]\n",
    "data.map_list(method=\"set_range\", node_coordinates=\"coords\")\n",
    "data[0].keys()"
   ]
  },
  {
   "cell_type": "code",
   "execution_count": 4,
   "id": "b4fce4b0",
   "metadata": {},
   "outputs": [
    {
     "data": {
      "text/plain": [
       "((500, 1),\n",
       " array([[-406276.78237402],\n",
       "        [-406272.40203419],\n",
       "        [-406282.16488753]]))"
      ]
     },
     "execution_count": 4,
     "metadata": {},
     "output_type": "execute_result"
    }
   ],
   "source": [
    "eng = np.expand_dims(data.get(\"energies\"), axis=-1)\n",
    "eng.shape, eng[:3]"
   ]
  },
  {
   "cell_type": "code",
   "execution_count": 5,
   "id": "4b0e78fa",
   "metadata": {},
   "outputs": [
    {
     "data": {
      "text/plain": [
       "TensorShape([500, None, 3])"
      ]
     },
     "execution_count": 5,
     "metadata": {},
     "output_type": "execute_result"
    }
   ],
   "source": [
    "forces = data.tensor({\"name\": \"forces\", \"ragged\": True, \"shape\": (None, 3)})\n",
    "atoms = data.get(\"nuclear_charges\")\n",
    "forces.shape"
   ]
  },
  {
   "cell_type": "code",
   "execution_count": 6,
   "id": "44e093c6",
   "metadata": {},
   "outputs": [
    {
     "data": {
      "text/plain": [
       "array([[-2.12796113],\n",
       "       [ 2.25237869],\n",
       "       [-7.51047464]])"
      ]
     },
     "execution_count": 6,
     "metadata": {},
     "output_type": "execute_result"
    }
   ],
   "source": [
    "from kgcnn.scaler.force import EnergyForceExtensiveScaler\n",
    "scaler = EnergyForceExtensiveScaler(standardize_coordinates=False, standardize_scale=False)  # For testing no scale.\n",
    "_, eng, _ = scaler.fit_transform(X=None, y=eng, force=forces, atomic_number=atoms)\n",
    "eng[:3]"
   ]
  },
  {
   "cell_type": "code",
   "execution_count": 7,
   "id": "a4e73b9b",
   "metadata": {},
   "outputs": [],
   "source": [
    "from kgcnn.model.force import EnergyForceModel"
   ]
  },
  {
   "cell_type": "code",
   "execution_count": 8,
   "id": "893c1b09",
   "metadata": {},
   "outputs": [
    {
     "name": "stderr",
     "output_type": "stream",
     "text": [
      "INFO:kgcnn.model.utils:Updated model kwargs:\n",
      "INFO:kgcnn.model.utils:{'name': 'Schnet', 'inputs': ListWrapper([DictWrapper({'shape': (None,), 'name': 'nuclear_charges', 'dtype': 'float32', 'ragged': True}), DictWrapper({'shape': (None, 3), 'name': 'coords', 'dtype': 'float32', 'ragged': True}), DictWrapper({'shape': (None, 2), 'name': 'range_indices', 'dtype': 'int64', 'ragged': True})]), 'input_embedding': {'node': {'input_dim': 95, 'output_dim': 64}}, 'make_distance': True, 'expand_distance': True, 'interaction_args': {'units': 128, 'use_bias': True, 'activation': 'kgcnn>shifted_softplus', 'cfconv_pool': 'sum'}, 'node_pooling_args': {'pooling_method': 'sum'}, 'depth': 4, 'gauss_args': {'bins': 20, 'distance': 4, 'offset': 0.0, 'sigma': 0.4}, 'verbose': 10, 'last_mlp': {'use_bias': ListWrapper([True, True]), 'units': ListWrapper([128, 64]), 'activation': ListWrapper(['kgcnn>shifted_softplus', 'kgcnn>shifted_softplus'])}, 'output_embedding': 'graph', 'output_to_tensor': True, 'use_output_mlp': True, 'output_mlp': {'use_bias': ListWrapper([True, True]), 'units': ListWrapper([64, 1]), 'activation': ListWrapper(['kgcnn>shifted_softplus', 'linear'])}}\n"
     ]
    }
   ],
   "source": [
    "model_config = {\n",
    "    \"module_name\": \"kgcnn.literature.Schnet\", \n",
    "    \"class_name\":\"make_model\", \n",
    "    \"output_as_dict\":True,\n",
    "    \"config\":{\n",
    "        \"name\": \"Schnet\",\n",
    "        \"inputs\": [{\"shape\": (None,), \"name\": \"nuclear_charges\", \"dtype\": \"float32\", \"ragged\": True},\n",
    "                   {\"shape\": (None, 3), \"name\": \"coords\", \"dtype\": \"float32\", \"ragged\": True},\n",
    "                   {\"shape\": (None, 2), \"name\": \"range_indices\", \"dtype\": \"int64\", \"ragged\": True}],\n",
    "        \"input_embedding\": {\"node\": {\"input_dim\": 95, \"output_dim\": 64}},\n",
    "        \"make_distance\": True, \"expand_distance\": True,\n",
    "        \"interaction_args\": {\"units\": 128, \"use_bias\": True,\n",
    "                             \"activation\": \"kgcnn>shifted_softplus\", \"cfconv_pool\": \"sum\"},\n",
    "        \"node_pooling_args\": {\"pooling_method\": \"sum\"},\n",
    "        \"depth\": 4,\n",
    "        \"gauss_args\": {\"bins\": 20, \"distance\": 4, \"offset\": 0.0, \"sigma\": 0.4},\n",
    "        \"verbose\": 10,\n",
    "        \"last_mlp\": {\"use_bias\": [True, True], \"units\": [128, 64],\n",
    "                     \"activation\": [\"kgcnn>shifted_softplus\", \"kgcnn>shifted_softplus\"]},\n",
    "        \"output_embedding\": \"graph\", \"output_to_tensor\": True,\n",
    "        \"use_output_mlp\": True,\n",
    "        \"output_mlp\": {\"use_bias\": [True, True], \"units\": [64, 1],\n",
    "                       \"activation\": [\"kgcnn>shifted_softplus\", \"linear\"]}},\n",
    "    \"output_to_tensor\":False,\n",
    "    \"output_squeeze_states\":True,\n",
    "}\n",
    "model = EnergyForceModel(**model_config)"
   ]
  },
  {
   "cell_type": "code",
   "execution_count": 9,
   "id": "95618ef0",
   "metadata": {},
   "outputs": [
    {
     "name": "stdout",
     "output_type": "stream",
     "text": [
      "[TensorShape([500, None]), TensorShape([500, None, 3]), TensorShape([500, None, 2])]\n"
     ]
    }
   ],
   "source": [
    "x_tensor = data.tensor(model.model_config[\"inputs\"])\n",
    "print([x.shape for x in x_tensor])"
   ]
  },
  {
   "cell_type": "code",
   "execution_count": 10,
   "id": "4c51344b",
   "metadata": {},
   "outputs": [
    {
     "name": "stderr",
     "output_type": "stream",
     "text": [
      "C:\\Users\\patri\\anaconda3\\envs\\gcnn_keras_test\\lib\\site-packages\\tensorflow\\python\\framework\\indexed_slices.py:444: UserWarning: Converting sparse IndexedSlices(IndexedSlices(indices=Tensor(\"gradient_tape/energy_force_model/model/sch_net_interaction_3/sch_net_c_fconv_3/pooling_local_edges_3/Reshape_1:0\", shape=(None,), dtype=int32), values=Tensor(\"gradient_tape/energy_force_model/model/sch_net_interaction_3/sch_net_c_fconv_3/pooling_local_edges_3/Reshape:0\", shape=(None, 128), dtype=float32), dense_shape=Tensor(\"gradient_tape/energy_force_model/model/sch_net_interaction_3/sch_net_c_fconv_3/pooling_local_edges_3/Cast:0\", shape=(2,), dtype=int32))) to a dense Tensor of unknown shape. This may consume a large amount of memory.\n",
      "  warnings.warn(\n",
      "C:\\Users\\patri\\anaconda3\\envs\\gcnn_keras_test\\lib\\site-packages\\tensorflow\\python\\framework\\indexed_slices.py:444: UserWarning: Converting sparse IndexedSlices(IndexedSlices(indices=Tensor(\"gradient_tape/energy_force_model/model/sch_net_interaction_3/sch_net_c_fconv_3/gather_nodes_outgoing_3/Reshape_1:0\", shape=(None,), dtype=int64), values=Tensor(\"gradient_tape/energy_force_model/model/sch_net_interaction_3/sch_net_c_fconv_3/gather_nodes_outgoing_3/Reshape:0\", shape=(None, 128), dtype=float32), dense_shape=Tensor(\"gradient_tape/energy_force_model/model/sch_net_interaction_3/sch_net_c_fconv_3/gather_nodes_outgoing_3/Cast:0\", shape=(2,), dtype=int32))) to a dense Tensor of unknown shape. This may consume a large amount of memory.\n",
      "  warnings.warn(\n",
      "C:\\Users\\patri\\anaconda3\\envs\\gcnn_keras_test\\lib\\site-packages\\tensorflow\\python\\framework\\indexed_slices.py:444: UserWarning: Converting sparse IndexedSlices(IndexedSlices(indices=Tensor(\"gradient_tape/energy_force_model/model/sch_net_interaction_2/sch_net_c_fconv_2/pooling_local_edges_2/Reshape_1:0\", shape=(None,), dtype=int32), values=Tensor(\"gradient_tape/energy_force_model/model/sch_net_interaction_2/sch_net_c_fconv_2/pooling_local_edges_2/Reshape:0\", shape=(None, 128), dtype=float32), dense_shape=Tensor(\"gradient_tape/energy_force_model/model/sch_net_interaction_2/sch_net_c_fconv_2/pooling_local_edges_2/Cast:0\", shape=(2,), dtype=int32))) to a dense Tensor of unknown shape. This may consume a large amount of memory.\n",
      "  warnings.warn(\n",
      "C:\\Users\\patri\\anaconda3\\envs\\gcnn_keras_test\\lib\\site-packages\\tensorflow\\python\\framework\\indexed_slices.py:444: UserWarning: Converting sparse IndexedSlices(IndexedSlices(indices=Tensor(\"gradient_tape/energy_force_model/model/sch_net_interaction_2/sch_net_c_fconv_2/gather_nodes_outgoing_2/Reshape_1:0\", shape=(None,), dtype=int64), values=Tensor(\"gradient_tape/energy_force_model/model/sch_net_interaction_2/sch_net_c_fconv_2/gather_nodes_outgoing_2/Reshape:0\", shape=(None, 128), dtype=float32), dense_shape=Tensor(\"gradient_tape/energy_force_model/model/sch_net_interaction_2/sch_net_c_fconv_2/gather_nodes_outgoing_2/Cast:0\", shape=(2,), dtype=int32))) to a dense Tensor of unknown shape. This may consume a large amount of memory.\n",
      "  warnings.warn(\n",
      "C:\\Users\\patri\\anaconda3\\envs\\gcnn_keras_test\\lib\\site-packages\\tensorflow\\python\\framework\\indexed_slices.py:444: UserWarning: Converting sparse IndexedSlices(IndexedSlices(indices=Tensor(\"gradient_tape/energy_force_model/model/sch_net_interaction_1/sch_net_c_fconv_1/pooling_local_edges_1/Reshape_1:0\", shape=(None,), dtype=int32), values=Tensor(\"gradient_tape/energy_force_model/model/sch_net_interaction_1/sch_net_c_fconv_1/pooling_local_edges_1/Reshape:0\", shape=(None, 128), dtype=float32), dense_shape=Tensor(\"gradient_tape/energy_force_model/model/sch_net_interaction_1/sch_net_c_fconv_1/pooling_local_edges_1/Cast:0\", shape=(2,), dtype=int32))) to a dense Tensor of unknown shape. This may consume a large amount of memory.\n",
      "  warnings.warn(\n",
      "C:\\Users\\patri\\anaconda3\\envs\\gcnn_keras_test\\lib\\site-packages\\tensorflow\\python\\framework\\indexed_slices.py:444: UserWarning: Converting sparse IndexedSlices(IndexedSlices(indices=Tensor(\"gradient_tape/energy_force_model/model/sch_net_interaction_1/sch_net_c_fconv_1/gather_nodes_outgoing_1/Reshape_1:0\", shape=(None,), dtype=int64), values=Tensor(\"gradient_tape/energy_force_model/model/sch_net_interaction_1/sch_net_c_fconv_1/gather_nodes_outgoing_1/Reshape:0\", shape=(None, 128), dtype=float32), dense_shape=Tensor(\"gradient_tape/energy_force_model/model/sch_net_interaction_1/sch_net_c_fconv_1/gather_nodes_outgoing_1/Cast:0\", shape=(2,), dtype=int32))) to a dense Tensor of unknown shape. This may consume a large amount of memory.\n",
      "  warnings.warn(\n",
      "C:\\Users\\patri\\anaconda3\\envs\\gcnn_keras_test\\lib\\site-packages\\tensorflow\\python\\framework\\indexed_slices.py:444: UserWarning: Converting sparse IndexedSlices(IndexedSlices(indices=Tensor(\"gradient_tape/energy_force_model/model/sch_net_interaction/sch_net_c_fconv/pooling_local_edges/Reshape_1:0\", shape=(None,), dtype=int32), values=Tensor(\"gradient_tape/energy_force_model/model/sch_net_interaction/sch_net_c_fconv/pooling_local_edges/Reshape:0\", shape=(None, 128), dtype=float32), dense_shape=Tensor(\"gradient_tape/energy_force_model/model/sch_net_interaction/sch_net_c_fconv/pooling_local_edges/Cast:0\", shape=(2,), dtype=int32))) to a dense Tensor of unknown shape. This may consume a large amount of memory.\n",
      "  warnings.warn(\n",
      "C:\\Users\\patri\\anaconda3\\envs\\gcnn_keras_test\\lib\\site-packages\\tensorflow\\python\\framework\\indexed_slices.py:444: UserWarning: Converting sparse IndexedSlices(IndexedSlices(indices=Tensor(\"gradient_tape/energy_force_model/model/sch_net_interaction/sch_net_c_fconv/gather_nodes_outgoing/Reshape_1:0\", shape=(None,), dtype=int64), values=Tensor(\"gradient_tape/energy_force_model/model/sch_net_interaction/sch_net_c_fconv/gather_nodes_outgoing/Reshape:0\", shape=(None, 128), dtype=float32), dense_shape=Tensor(\"gradient_tape/energy_force_model/model/sch_net_interaction/sch_net_c_fconv/gather_nodes_outgoing/Cast:0\", shape=(2,), dtype=int32))) to a dense Tensor of unknown shape. This may consume a large amount of memory.\n",
      "  warnings.warn(\n",
      "C:\\Users\\patri\\anaconda3\\envs\\gcnn_keras_test\\lib\\site-packages\\tensorflow\\python\\framework\\indexed_slices.py:444: UserWarning: Converting sparse IndexedSlices(IndexedSlices(indices=Tensor(\"energy_force_model/loop_body/concat_1:0\", shape=(None,), dtype=int64), values=Tensor(\"energy_force_model/loop_body/concat:0\", shape=(None, 3), dtype=float32), dense_shape=Tensor(\"gradient_tape/energy_force_model/model/node_position/gather_embedding_selection/Cast:0\", shape=(2,), dtype=int32))) to a dense Tensor of unknown shape. This may consume a large amount of memory.\n",
      "  warnings.warn(\n"
     ]
    },
    {
     "name": "stdout",
     "output_type": "stream",
     "text": [
      "16/16 [==============================] - 5s 29ms/step\n"
     ]
    }
   ],
   "source": [
    "test_out = model.predict(x_tensor)"
   ]
  },
  {
   "cell_type": "code",
   "execution_count": 11,
   "id": "c031e38b",
   "metadata": {},
   "outputs": [
    {
     "data": {
      "text/plain": [
       "[(500, 1), TensorShape([500, None, 3])]"
      ]
     },
     "execution_count": 11,
     "metadata": {},
     "output_type": "execute_result"
    }
   ],
   "source": [
    "[i.shape for i in test_out.values()]"
   ]
  },
  {
   "cell_type": "code",
   "execution_count": 12,
   "id": "9d43121c",
   "metadata": {},
   "outputs": [],
   "source": [
    "from kgcnn.metrics.loss import RaggedMeanAbsoluteError\n",
    "from tensorflow.keras.optimizers import Adam"
   ]
  },
  {
   "cell_type": "code",
   "execution_count": 13,
   "id": "798e1efb",
   "metadata": {},
   "outputs": [],
   "source": [
    "model.compile(\n",
    "    loss={\"energy\": \"mean_absolute_error\", \"force\": RaggedMeanAbsoluteError()},\n",
    "    optimizer=Adam(learning_rate=5e-04),\n",
    "    metrics=None,\n",
    "    loss_weights=[1, 20],\n",
    ")"
   ]
  },
  {
   "cell_type": "markdown",
   "id": "a3f7d7ce",
   "metadata": {},
   "source": [
    "hist = model.fit(\n",
    "    x_tensor, {\"energy\": eng, \"force\": forces},\n",
    "    shuffle=True,\n",
    "    batch_size=64,\n",
    "    epochs=1500,\n",
    "    verbose=2,\n",
    ")"
   ]
  },
  {
   "cell_type": "code",
   "execution_count": 14,
   "id": "e312e998",
   "metadata": {},
   "outputs": [],
   "source": [
    "from kgcnn.utils.plots import plot_train_test_loss"
   ]
  },
  {
   "cell_type": "code",
   "execution_count": 16,
   "id": "1370f095",
   "metadata": {},
   "outputs": [],
   "source": [
    "# plot_train_test_loss([hist]);"
   ]
  },
  {
   "cell_type": "code",
   "execution_count": 24,
   "id": "957e8025",
   "metadata": {},
   "outputs": [],
   "source": [
    "from kgcnn.md.base import MolDynamicsModelPredictor, MolDynamicsModelPostprocessorBase"
   ]
  },
  {
   "cell_type": "code",
   "execution_count": 25,
   "id": "1ed90014",
   "metadata": {},
   "outputs": [],
   "source": [
    "class ExtensiveEnergyForceScalerPostProcessor(MolDynamicsModelPostprocessorBase):\n",
    "    \n",
    "    def __init__(self, scaler=None, energy_key=\"energy\", force_key=\"forces\", atomic_number_key=\"node_number\"):\n",
    "        self.scaler=scaler\n",
    "    \n",
    "    def __call__(self, x, y):\n",
    "        _, y, forces = self.scaler.inverse_transform(X=None, y=[y[\"energy\"]], force=[y[\"forces\"]], atomic_number=x[\"node_number\"])\n",
    "        y.udpate()"
   ]
  },
  {
   "cell_type": "code",
   "execution_count": 20,
   "id": "9492e35e",
   "metadata": {},
   "outputs": [],
   "source": [
    "dyn_model = MolDynamicsModelPredictor(\n",
    "    model=model, \n",
    "    model_inputs=model_config[\"config\"][\"inputs\"], \n",
    "    model_outputs={\"energy\":\"energy\", \"forces\": \"force\"},\n",
    "    graph_preprocessors=[{\"method\": \"set_range\", \"node_coordinates\": \"coords\"}],\n",
    "    model_postprocessors=[]\n",
    ")"
   ]
  },
  {
   "cell_type": "code",
   "execution_count": 21,
   "id": "3c3b77b1",
   "metadata": {},
   "outputs": [
    {
     "data": {
      "text/plain": [
       "[{'energy': array([-0.06797101], dtype=float32),\n",
       "  'forces': array([[-1.8314649e-03,  3.6576260e-03, -4.5695604e-04],\n",
       "         [ 3.7442998e-03,  1.2417401e-03, -9.9266137e-05],\n",
       "         [ 1.5709931e-03,  2.0535409e-03, -2.2504595e-05],\n",
       "         [-4.3749745e-04, -1.3863982e-03,  2.2349555e-04],\n",
       "         [ 1.7847682e-04,  3.5513099e-04, -2.2926083e-04],\n",
       "         [ 1.6972204e-03,  1.5914502e-03, -8.5451647e-06],\n",
       "         [ 3.7249760e-04, -8.1027835e-04,  1.1499882e-03],\n",
       "         [-2.2408157e-04,  1.7101439e-03, -7.0502341e-04],\n",
       "         [-2.6327354e-04,  4.7402042e-03, -5.9944917e-03],\n",
       "         [-3.0927006e-03,  5.9563218e-04,  1.5192307e-03],\n",
       "         [-2.6641127e-03, -4.0802620e-03,  1.3006423e-03],\n",
       "         [-2.3875667e-03, -3.1099624e-03,  1.2218144e-03],\n",
       "         [ 5.0539947e-03, -3.7004778e-03,  2.4854958e-03],\n",
       "         [ 2.8393797e-03,  2.9339902e-03, -1.2315839e-03],\n",
       "         [-4.6455525e-03, -9.5430762e-05, -5.1842636e-04],\n",
       "         [ 5.2910987e-03,  1.1143128e-03,  4.9953500e-04],\n",
       "         [-1.1678835e-03, -6.5159716e-04,  1.7388586e-04],\n",
       "         [-1.6590810e-03, -2.1980342e-03, -3.0364754e-06],\n",
       "         [-2.2972170e-03, -1.1228856e-03,  1.4345178e-03],\n",
       "         [-2.8576353e-03, -1.1152920e-03,  1.6757894e-03],\n",
       "         [ 2.7801085e-03, -1.7231527e-03, -2.4152994e-03]], dtype=float32)},\n",
       " {'energy': array([-0.06909248], dtype=float32),\n",
       "  'forces': array([[-1.0709877e-03,  1.9786495e-03, -9.6595095e-04],\n",
       "         [ 2.4814848e-03, -1.0709864e-03, -1.5741369e-03],\n",
       "         [ 8.0017542e-04,  1.1414274e-03, -1.9322275e-03],\n",
       "         [-3.6722372e-04, -7.5046805e-04,  1.0889440e-03],\n",
       "         [-2.6112102e-05, -1.6514125e-05, -3.5932777e-04],\n",
       "         [ 2.8914879e-03,  8.4051391e-04, -3.6035725e-03],\n",
       "         [ 1.6510723e-03, -9.2836190e-04,  1.0044056e-03],\n",
       "         [-5.7793967e-03,  2.4895836e-03, -1.7290507e-03],\n",
       "         [-3.3881816e-03, -1.8106222e-03, -6.6277264e-03],\n",
       "         [-1.9327877e-03,  3.4107012e-03,  6.8622403e-04],\n",
       "         [-1.3562087e-03, -1.4245608e-03,  4.0894113e-03],\n",
       "         [-8.7275892e-04, -6.0854171e-04,  1.9475893e-03],\n",
       "         [ 6.1459015e-03, -2.6247916e-03,  3.4656562e-03],\n",
       "         [ 2.3275584e-03, -4.4713763e-04, -2.9379416e-03],\n",
       "         [-6.2691193e-04,  1.2066923e-03, -2.5075156e-04],\n",
       "         [ 4.7236304e-03, -1.0763458e-04, -9.9422352e-04],\n",
       "         [-1.1239646e-03,  6.2829704e-04,  5.6537893e-04],\n",
       "         [-1.3904714e-03, -7.5732893e-04,  2.2740029e-03],\n",
       "         [ 1.0971306e-04,  4.7755920e-04,  1.4691820e-03],\n",
       "         [ 1.2318583e-04, -2.2829613e-03,  2.5082389e-03],\n",
       "         [-3.3192043e-03,  6.5648532e-04,  1.8758771e-03]], dtype=float32)},\n",
       " {'energy': array([-0.0707551], dtype=float32),\n",
       "  'forces': array([[-4.5378771e-04,  2.5738971e-03, -9.5321727e-04],\n",
       "         [ 3.7325284e-04, -1.1211373e-03, -1.0811714e-03],\n",
       "         [ 1.4489247e-03,  7.5785298e-04, -9.5824391e-04],\n",
       "         [-8.8920817e-05, -4.8987765e-04,  4.3625041e-04],\n",
       "         [ 2.2094077e-04,  5.7549839e-04, -5.6878669e-04],\n",
       "         [ 1.0187745e-05, -2.0251382e-04, -1.6793096e-03],\n",
       "         [ 1.5350578e-03,  9.5235510e-04,  1.8855743e-04],\n",
       "         [ 2.0714724e-03, -4.4814316e-03, -2.5114261e-03],\n",
       "         [ 4.9798898e-03, -2.5896712e-03, -2.7608660e-03],\n",
       "         [-3.7982737e-04, -5.4782699e-04,  2.2686189e-03],\n",
       "         [-3.0336853e-03, -1.4836870e-03,  2.4992684e-03],\n",
       "         [ 2.1668051e-03, -3.8993248e-04,  5.4925086e-04],\n",
       "         [ 6.1003105e-03,  3.1844182e-03,  8.3083258e-04],\n",
       "         [ 2.9410457e-04,  5.1275472e-04, -1.3267231e-04],\n",
       "         [-3.2842807e-03,  3.2961760e-03, -8.2176970e-04],\n",
       "         [-1.7175109e-03, -2.8110133e-03, -1.7701794e-04],\n",
       "         [-4.8374053e-04,  8.2247716e-04, -2.6711248e-04],\n",
       "         [-1.2444949e-03, -3.9908697e-04,  8.0715050e-04],\n",
       "         [-2.8227188e-03,  1.2559412e-03,  7.9062185e-04],\n",
       "         [-1.7874030e-03,  8.6572854e-04,  2.0226259e-03],\n",
       "         [-3.9045755e-03, -2.8092100e-04,  1.5184173e-03]], dtype=float32)},\n",
       " {'energy': array([-0.06946515], dtype=float32),\n",
       "  'forces': array([[-0.00158693,  0.00278555, -0.00144536],\n",
       "         [ 0.0010481 , -0.00175189, -0.00137263],\n",
       "         [ 0.00094205,  0.00102523, -0.0012177 ],\n",
       "         [-0.00048428, -0.00085402,  0.00058307],\n",
       "         [-0.00086185,  0.00074211, -0.00064643],\n",
       "         [ 0.00277696, -0.00180614, -0.0005147 ],\n",
       "         [ 0.00237643,  0.00078216, -0.00036361],\n",
       "         [ 0.00324592, -0.0041446 ,  0.00427629],\n",
       "         [ 0.00144428, -0.00469722, -0.00482478],\n",
       "         [-0.00092198, -0.00157093,  0.00198468],\n",
       "         [-0.00124372, -0.00207501,  0.00305568],\n",
       "         [ 0.00028748,  0.00193671, -0.00127842],\n",
       "         [ 0.00376852,  0.0023468 , -0.00234265],\n",
       "         [ 0.00026601,  0.00073581, -0.00053092],\n",
       "         [-0.00212817,  0.00387635, -0.00022254],\n",
       "         [-0.00059957, -0.00283889,  0.00120965],\n",
       "         [-0.00044504,  0.00031838, -0.00020903],\n",
       "         [-0.00094485,  0.00026894,  0.00076199],\n",
       "         [-0.00415119,  0.00191952,  0.00091998],\n",
       "         [-0.00368063,  0.0019614 ,  0.00088774],\n",
       "         [ 0.00089245,  0.00103975,  0.0012897 ]], dtype=float32)},\n",
       " {'energy': array([-0.06476054], dtype=float32),\n",
       "  'forces': array([[-5.0898641e-05,  2.3181499e-03, -1.1956654e-04],\n",
       "         [ 1.9401200e-03, -1.2494633e-03, -1.1480910e-03],\n",
       "         [ 6.1388023e-04,  8.3106116e-04, -5.2456511e-04],\n",
       "         [-5.0511752e-04,  2.4368975e-04,  6.5819841e-05],\n",
       "         [-4.7428906e-04,  2.4660435e-04,  5.3490669e-05],\n",
       "         [ 1.9693666e-04,  2.0534894e-03, -2.0830191e-03],\n",
       "         [ 3.1285747e-03, -1.1943030e-03,  6.7754590e-06],\n",
       "         [-9.8605175e-04,  2.7658632e-03, -1.0663528e-03],\n",
       "         [ 1.9531674e-03, -7.1372851e-03, -4.2144470e-03],\n",
       "         [-2.9005795e-03, -1.5036665e-03, -1.8693275e-04],\n",
       "         [-2.9276842e-03, -1.8765770e-03,  3.3589461e-04],\n",
       "         [-1.5402271e-03,  2.1088806e-04,  2.1951762e-03],\n",
       "         [ 4.8041218e-03,  4.0677103e-05,  2.1504578e-03],\n",
       "         [ 3.8796654e-03,  1.5758406e-03, -1.5369607e-03],\n",
       "         [-3.1552459e-03,  2.7624576e-03,  1.5742155e-03],\n",
       "         [ 4.5112348e-03, -4.0579389e-04, -6.7557674e-05],\n",
       "         [-1.1770556e-03,  2.2013730e-05,  9.0099254e-04],\n",
       "         [-1.3036144e-03, -3.9447588e-04,  7.2125846e-04],\n",
       "         [-2.1748189e-03,  1.0581836e-03,  1.4438865e-03],\n",
       "         [-3.0645079e-03,  1.5792869e-03,  1.6459890e-03],\n",
       "         [-7.6761132e-04, -1.9466399e-03, -1.4646244e-04]], dtype=float32)},\n",
       " {'energy': array([-0.06285705], dtype=float32),\n",
       "  'forces': array([[-1.0256603e-03,  2.5718019e-03,  1.3222120e-04],\n",
       "         [ 2.3275490e-03,  1.4771956e-03,  3.1934315e-04],\n",
       "         [ 6.7777612e-05,  1.7840844e-03,  4.3476943e-05],\n",
       "         [ 1.1640484e-05, -8.3807984e-04,  1.7233222e-04],\n",
       "         [ 1.3720747e-03,  5.8725744e-04, -4.6041896e-04],\n",
       "         [ 2.6304249e-03,  1.2192330e-03, -1.8662801e-04],\n",
       "         [ 2.8895333e-03,  1.1322199e-03,  7.6079369e-04],\n",
       "         [-1.4587251e-03,  1.3739226e-04,  5.7931704e-04],\n",
       "         [-5.7423604e-06,  7.7771215e-04, -7.4091190e-03],\n",
       "         [-8.2669390e-04, -2.4948921e-03, -6.5484748e-04],\n",
       "         [-7.3170406e-04, -4.8699104e-03, -4.9071165e-04],\n",
       "         [-1.9018485e-03, -9.7163738e-04,  7.5613742e-04],\n",
       "         [ 2.1464743e-03, -6.2272826e-04,  1.6107637e-03],\n",
       "         [ 1.5036510e-03,  2.1362114e-03,  2.5061594e-04],\n",
       "         [-3.2582711e-03,  1.0443446e-03,  3.8944915e-04],\n",
       "         [-8.4893627e-04, -6.4333610e-04,  1.5676736e-03],\n",
       "         [-5.8449310e-04, -4.9848744e-04, -2.4967309e-04],\n",
       "         [-4.2793108e-04, -2.1293035e-03,  1.0492565e-04],\n",
       "         [-1.2162022e-03,  1.6948993e-03,  1.4802048e-03],\n",
       "         [-4.7018135e-04, -7.2161498e-04,  2.0154417e-03],\n",
       "         [-1.9273610e-04, -7.7236199e-04, -7.3129841e-04]], dtype=float32)},\n",
       " {'energy': array([-0.06874351], dtype=float32),\n",
       "  'forces': array([[-5.68467949e-04,  3.30574578e-03, -1.48946210e-03],\n",
       "         [ 2.24058214e-03, -2.42913302e-05, -1.52928242e-03],\n",
       "         [ 6.95617753e-04,  3.75443400e-04, -6.40589802e-04],\n",
       "         [ 8.88321083e-05, -4.28734347e-04,  7.33224442e-04],\n",
       "         [-2.07505174e-04, -3.42311570e-04,  6.24272623e-04],\n",
       "         [ 9.81959747e-04, -1.01158256e-03, -9.57674987e-04],\n",
       "         [ 3.20540392e-03,  5.48311102e-04, -1.69978512e-03],\n",
       "         [-8.13202758e-04, -2.49320827e-03,  8.72823235e-04],\n",
       "         [-1.80634076e-03, -4.75220010e-03, -3.60112218e-03],\n",
       "         [ 5.71374735e-03, -3.63320787e-03,  4.66675218e-03],\n",
       "         [-3.82480701e-03,  4.70611092e-04,  2.21735751e-03],\n",
       "         [ 3.94940551e-04,  1.23850699e-03,  9.57470038e-04],\n",
       "         [ 5.99305006e-03, -5.67796524e-04, -1.20282429e-03],\n",
       "         [ 9.00673389e-04,  1.79688586e-03, -4.27593850e-03],\n",
       "         [-2.50774575e-03,  3.32595431e-03, -5.14105719e-04],\n",
       "         [-7.14958180e-04, -2.98013887e-03,  2.34478200e-03],\n",
       "         [-8.90554278e-04,  6.37756253e-04,  1.01706544e-04],\n",
       "         [-6.59602520e-04, -6.72052265e-04,  4.53629647e-04],\n",
       "         [-2.20707012e-03,  2.66883289e-04,  6.09130599e-04],\n",
       "         [-6.98215154e-04,  1.26339914e-03,  9.21866624e-04],\n",
       "         [-5.31633664e-03,  3.67602729e-03,  1.40776811e-03]], dtype=float32)},\n",
       " {'energy': array([-0.0716006], dtype=float32),\n",
       "  'forces': array([[-2.86618480e-03,  1.66388636e-03, -4.28042724e-04],\n",
       "         [ 2.48812325e-03,  1.95419183e-04,  7.05226266e-04],\n",
       "         [ 6.33017218e-04,  1.55493512e-03,  4.75831766e-04],\n",
       "         [-1.54956768e-04, -6.64665247e-04, -1.53507586e-04],\n",
       "         [ 5.14825864e-04,  1.10933332e-04,  1.04898965e-04],\n",
       "         [-2.53572187e-04,  2.37059384e-03,  1.45859120e-03],\n",
       "         [ 3.39580956e-03,  8.44120805e-05, -1.00286095e-03],\n",
       "         [ 2.41921656e-03,  5.16726752e-04,  3.53776244e-03],\n",
       "         [ 2.70459591e-03, -1.63372839e-03,  3.46781244e-03],\n",
       "         [-6.76550902e-04, -2.22200365e-03, -1.33904791e-03],\n",
       "         [-2.22664530e-05, -3.91739560e-03, -9.51074762e-04],\n",
       "         [ 1.18371483e-03, -3.52217292e-04, -6.54108473e-04],\n",
       "         [ 2.63712858e-03,  2.16905680e-03, -4.28056065e-03],\n",
       "         [ 9.73903341e-04,  1.21764618e-03,  3.42067069e-04],\n",
       "         [-3.88394389e-03,  2.30893935e-03,  1.23620586e-04],\n",
       "         [ 3.01277079e-03, -8.03363684e-04, -1.15174742e-04],\n",
       "         [-1.53171155e-03, -2.06236728e-05, -2.88935844e-04],\n",
       "         [-1.32596912e-03, -5.10483049e-04, -5.32671460e-04],\n",
       "         [-2.19261856e-03, -1.45648059e-03, -1.06882362e-03],\n",
       "         [-3.07346787e-03,  5.08816913e-04,  1.24355691e-04],\n",
       "         [-3.98186455e-03, -1.12040434e-03,  4.74643079e-04]], dtype=float32)},\n",
       " {'energy': array([-0.06978842], dtype=float32),\n",
       "  'forces': array([[-1.51939946e-03,  1.98037317e-03, -2.96866929e-04],\n",
       "         [ 1.13741565e-03,  1.78041038e-04,  6.00371859e-04],\n",
       "         [ 8.17579974e-04,  1.12500379e-03, -1.56231085e-03],\n",
       "         [ 5.49401506e-04, -1.12810428e-03,  5.83003275e-04],\n",
       "         [ 1.96541281e-04,  2.64459057e-04, -3.84954154e-04],\n",
       "         [ 2.44128797e-03, -3.09105584e-04, -7.68528727e-04],\n",
       "         [ 7.00258301e-04,  1.11950096e-04, -2.55351444e-03],\n",
       "         [ 2.65303475e-04, -4.14239429e-03,  1.29060331e-03],\n",
       "         [ 7.68818567e-03,  2.04433291e-03, -1.08189567e-03],\n",
       "         [-2.01207469e-03, -2.18399218e-03,  1.15348410e-03],\n",
       "         [-2.93101138e-03,  6.95972180e-04,  3.43495072e-03],\n",
       "         [-4.85385768e-04, -3.28338618e-04, -1.43533002e-03],\n",
       "         [ 1.70626328e-03, -8.48356693e-04, -5.93824172e-03],\n",
       "         [ 2.88700173e-03,  7.63002608e-04, -2.39528692e-03],\n",
       "         [-3.60026583e-03,  2.89740274e-03,  7.46472040e-04],\n",
       "         [ 8.13032035e-04, -1.28218927e-03,  3.05195828e-03],\n",
       "         [-1.02952286e-03,  7.73493492e-04, -1.19107426e-05],\n",
       "         [-3.75544798e-04, -7.02990103e-04,  8.92192940e-04],\n",
       "         [-5.36849210e-03,  1.37738686e-03,  2.33215047e-03],\n",
       "         [-2.06325576e-03,  3.10213305e-04, -9.82677957e-05],\n",
       "         [ 1.82682241e-04, -1.59616093e-03,  2.44192174e-03]], dtype=float32)},\n",
       " {'energy': array([-0.06909914], dtype=float32),\n",
       "  'forces': array([[-2.3613723e-03,  2.7527427e-03, -1.2950653e-03],\n",
       "         [ 1.3214217e-03,  4.6923943e-04,  1.7442447e-03],\n",
       "         [ 1.3117520e-03,  8.8997121e-04,  3.7839363e-04],\n",
       "         [-8.4739405e-04, -6.4891588e-05, -6.1241130e-04],\n",
       "         [ 6.9173408e-04, -8.8992802e-04,  4.2878717e-05],\n",
       "         [ 2.3268296e-03, -2.2154889e-04, -1.5473881e-04],\n",
       "         [ 1.2179406e-03, -8.2765619e-05, -2.8286080e-04],\n",
       "         [-1.3762006e-03,  1.2176762e-03,  7.8900432e-04],\n",
       "         [ 6.8489979e-03,  1.4646505e-03,  3.5394623e-03],\n",
       "         [-5.3128973e-04, -1.7631450e-03,  7.6628861e-04],\n",
       "         [-1.8251243e-03, -2.7306757e-03,  7.6124322e-04],\n",
       "         [ 1.7960601e-03, -2.4240519e-04, -2.2953243e-03],\n",
       "         [ 3.6800213e-03,  1.7963861e-03, -3.5560005e-03],\n",
       "         [-1.0150652e-03, -5.4236792e-04, -1.4336507e-05],\n",
       "         [-5.8307697e-04,  4.5545199e-03, -1.6664495e-03],\n",
       "         [-4.3590710e-04, -3.4972061e-03,  3.5091867e-03],\n",
       "         [-1.1888187e-03, -1.4838062e-03, -3.6203582e-04],\n",
       "         [-1.4150816e-03, -3.1310154e-04,  1.2213750e-04],\n",
       "         [-2.4705511e-03, -5.3829084e-05,  4.2050611e-04],\n",
       "         [-2.2490269e-03, -1.6554249e-03, -4.9150817e-04],\n",
       "         [-2.8958484e-03,  3.9591012e-04, -1.3426146e-03]], dtype=float32)}]"
      ]
     },
     "execution_count": 21,
     "metadata": {},
     "output_type": "execute_result"
    }
   ],
   "source": [
    "dyn_model(dataset[500:510])"
   ]
  },
  {
   "cell_type": "code",
   "execution_count": null,
   "id": "69f9468e",
   "metadata": {},
   "outputs": [],
   "source": []
  }
 ],
 "metadata": {
  "kernelspec": {
   "display_name": "Python 3 (ipykernel)",
   "language": "python",
   "name": "python3"
  },
  "language_info": {
   "codemirror_mode": {
    "name": "ipython",
    "version": 3
   },
   "file_extension": ".py",
   "mimetype": "text/x-python",
   "name": "python",
   "nbconvert_exporter": "python",
   "pygments_lexer": "ipython3",
   "version": "3.9.7"
  }
 },
 "nbformat": 4,
 "nbformat_minor": 5
}
