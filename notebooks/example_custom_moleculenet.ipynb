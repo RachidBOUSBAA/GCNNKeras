{
 "cells": [
  {
   "cell_type": "code",
   "execution_count": 1,
   "metadata": {},
   "outputs": [
    {
     "name": "stdout",
     "output_type": "stream",
     "text": [
      "ERROR:kgcnn: This module needs Rdkit To be installed\n"
     ]
    },
    {
     "ename": "NameError",
     "evalue": "name 'rdkit' is not defined",
     "output_type": "error",
     "traceback": [
      "\u001b[1;31m---------------------------------------------------------------------------\u001b[0m",
      "\u001b[1;31mNameError\u001b[0m                                 Traceback (most recent call last)",
      "\u001b[1;32m~\\AppData\\Local\\Temp/ipykernel_20756/23915502.py\u001b[0m in \u001b[0;36m<module>\u001b[1;34m\u001b[0m\n\u001b[0;32m      1\u001b[0m \u001b[1;32mimport\u001b[0m \u001b[0mos\u001b[0m\u001b[1;33m\u001b[0m\u001b[1;33m\u001b[0m\u001b[0m\n\u001b[1;32m----> 2\u001b[1;33m \u001b[1;32mfrom\u001b[0m \u001b[0mkgcnn\u001b[0m\u001b[1;33m.\u001b[0m\u001b[0mdata\u001b[0m\u001b[1;33m.\u001b[0m\u001b[0mmoleculenet\u001b[0m \u001b[1;32mimport\u001b[0m \u001b[0mMoleculeNetDataset\u001b[0m\u001b[1;33m\u001b[0m\u001b[1;33m\u001b[0m\u001b[0m\n\u001b[0m\u001b[0;32m      3\u001b[0m \u001b[1;32mfrom\u001b[0m \u001b[0mkgcnn\u001b[0m\u001b[1;33m.\u001b[0m\u001b[0mmol\u001b[0m\u001b[1;33m.\u001b[0m\u001b[0mmolgraph\u001b[0m \u001b[1;32mimport\u001b[0m \u001b[0mOneHotEncoder\u001b[0m\u001b[1;33m\u001b[0m\u001b[1;33m\u001b[0m\u001b[0m\n",
      "\u001b[1;32m~\\.conda\\envs\\gcnn_keras_test\\lib\\site-packages\\kgcnn\\data\\moleculenet.py\u001b[0m in \u001b[0;36m<module>\u001b[1;34m\u001b[0m\n\u001b[0;32m      5\u001b[0m \u001b[1;32mfrom\u001b[0m \u001b[0mkgcnn\u001b[0m\u001b[1;33m.\u001b[0m\u001b[0mdata\u001b[0m\u001b[1;33m.\u001b[0m\u001b[0mbase\u001b[0m \u001b[1;32mimport\u001b[0m \u001b[0mMemoryGraphDataset\u001b[0m\u001b[1;33m\u001b[0m\u001b[1;33m\u001b[0m\u001b[0m\n\u001b[0;32m      6\u001b[0m \u001b[1;32mfrom\u001b[0m \u001b[0mkgcnn\u001b[0m\u001b[1;33m.\u001b[0m\u001b[0mutils\u001b[0m\u001b[1;33m.\u001b[0m\u001b[0mdata\u001b[0m \u001b[1;32mimport\u001b[0m \u001b[0msave_json_file\u001b[0m\u001b[1;33m,\u001b[0m \u001b[0mload_json_file\u001b[0m\u001b[1;33m\u001b[0m\u001b[1;33m\u001b[0m\u001b[0m\n\u001b[1;32m----> 7\u001b[1;33m \u001b[1;32mfrom\u001b[0m \u001b[0mkgcnn\u001b[0m\u001b[1;33m.\u001b[0m\u001b[0mmol\u001b[0m\u001b[1;33m.\u001b[0m\u001b[0mmolgraph\u001b[0m \u001b[1;32mimport\u001b[0m \u001b[0mMolecularGraphRDKit\u001b[0m\u001b[1;33m,\u001b[0m \u001b[0mOneHotEncoder\u001b[0m\u001b[1;33m\u001b[0m\u001b[1;33m\u001b[0m\u001b[0m\n\u001b[0m\u001b[0;32m      8\u001b[0m \u001b[1;32mfrom\u001b[0m \u001b[0mkgcnn\u001b[0m\u001b[1;33m.\u001b[0m\u001b[0mmol\u001b[0m\u001b[1;33m.\u001b[0m\u001b[0mconvert\u001b[0m \u001b[1;32mimport\u001b[0m \u001b[0mwrite_mol_block_list_to_sdf\u001b[0m\u001b[1;33m,\u001b[0m \u001b[0mdummy_load_sdf_file\u001b[0m\u001b[1;33m\u001b[0m\u001b[1;33m\u001b[0m\u001b[0m\n\u001b[0;32m      9\u001b[0m \u001b[1;33m\u001b[0m\u001b[0m\n",
      "\u001b[1;32m~\\.conda\\envs\\gcnn_keras_test\\lib\\site-packages\\kgcnn\\mol\\molgraph.py\u001b[0m in \u001b[0;36m<module>\u001b[1;34m\u001b[0m\n\u001b[0;32m     66\u001b[0m \u001b[1;33m\u001b[0m\u001b[0m\n\u001b[0;32m     67\u001b[0m \u001b[1;33m\u001b[0m\u001b[0m\n\u001b[1;32m---> 68\u001b[1;33m \u001b[1;32mclass\u001b[0m \u001b[0mMolecularGraphRDKit\u001b[0m\u001b[1;33m(\u001b[0m\u001b[0mMolGraphInterface\u001b[0m\u001b[1;33m)\u001b[0m\u001b[1;33m:\u001b[0m\u001b[1;33m\u001b[0m\u001b[1;33m\u001b[0m\u001b[0m\n\u001b[0m\u001b[0;32m     69\u001b[0m     \u001b[1;34m\"\"\"A graph object representing a strict molecular graph, e.g. only chemical bonds.\"\"\"\u001b[0m\u001b[1;33m\u001b[0m\u001b[1;33m\u001b[0m\u001b[0m\n\u001b[0;32m     70\u001b[0m \u001b[1;33m\u001b[0m\u001b[0m\n",
      "\u001b[1;32m~\\.conda\\envs\\gcnn_keras_test\\lib\\site-packages\\kgcnn\\mol\\molgraph.py\u001b[0m in \u001b[0;36mMolecularGraphRDKit\u001b[1;34m()\u001b[0m\n\u001b[0;32m     99\u001b[0m \u001b[1;33m\u001b[0m\u001b[0m\n\u001b[0;32m    100\u001b[0m     mol_fun_dict = {\n\u001b[1;32m--> 101\u001b[1;33m         \u001b[1;34m\"ExactMolWt\"\u001b[0m\u001b[1;33m:\u001b[0m \u001b[0mrdkit\u001b[0m\u001b[1;33m.\u001b[0m\u001b[0mChem\u001b[0m\u001b[1;33m.\u001b[0m\u001b[0mDescriptors\u001b[0m\u001b[1;33m.\u001b[0m\u001b[0mExactMolWt\u001b[0m\u001b[1;33m,\u001b[0m\u001b[1;33m\u001b[0m\u001b[1;33m\u001b[0m\u001b[0m\n\u001b[0m\u001b[0;32m    102\u001b[0m         \u001b[1;34m\"NumAtoms\"\u001b[0m\u001b[1;33m:\u001b[0m \u001b[1;32mlambda\u001b[0m \u001b[0mmol_arg_lam\u001b[0m\u001b[1;33m:\u001b[0m \u001b[0mmol_arg_lam\u001b[0m\u001b[1;33m.\u001b[0m\u001b[0mGetNumAtoms\u001b[0m\u001b[1;33m(\u001b[0m\u001b[1;33m)\u001b[0m\u001b[1;33m\u001b[0m\u001b[1;33m\u001b[0m\u001b[0m\n\u001b[0;32m    103\u001b[0m     }\n",
      "\u001b[1;31mNameError\u001b[0m: name 'rdkit' is not defined"
     ]
    }
   ],
   "source": [
    "import os\n",
    "from kgcnn.data.moleculenet import MoleculeNetDataset\n",
    "from kgcnn.mol.molgraph import OneHotEncoder"
   ]
  },
  {
   "cell_type": "code",
   "execution_count": 2,
   "metadata": {},
   "outputs": [],
   "source": [
    "os.makedirs(\"ExampleMol\", exist_ok=True)\n",
    "csv_data = \"smiles,Values1,Values2\\nCCC, 1, 0.1\\nCCCO, 2, 0.3\\nCCCN, 3, 0.2\\nCCCC=O, 4, 0.4\\n\"\n",
    "with open(\"ExampleMol/data.csv\", \"w\") as f:\n",
    "    f.write(csv_data)"
   ]
  },
  {
   "cell_type": "markdown",
   "metadata": {},
   "source": [
    "To load the dataset from memeory the ``MoleculeNetDataset`` class requires the information of the directory the data is in and the name of the csv-file. Also recommended is to provide a name of the dataset."
   ]
  },
  {
   "cell_type": "code",
   "execution_count": 3,
   "metadata": {},
   "outputs": [],
   "source": [
    "dts = MoleculeNetDataset(file_name=\"data.csv\", data_directory=\"ExampleMol/\", dataset_name=\"ExampleMol\")"
   ]
  },
  {
   "cell_type": "markdown",
   "metadata": {},
   "source": [
    "Precompute molecular features and cache the information to file in the same folder as provided in the class initialization."
   ]
  },
  {
   "cell_type": "code",
   "execution_count": 4,
   "metadata": {},
   "outputs": [
    {
     "name": "stdout",
     "output_type": "stream",
     "text": [
      "INFO:kgcnn: Generating molecules and store data.json to disk...\n",
      " ... converted molecules 0 from 4\n",
      "done\n"
     ]
    },
    {
     "data": {
      "text/plain": [
       "<kgcnn.data.moleculenet.MoleculeNetDataset at 0x2ba657d8e08>"
      ]
     },
     "execution_count": 4,
     "metadata": {},
     "output_type": "execute_result"
    }
   ],
   "source": [
    "dts.prepare_data(overwrite=True, smiles_column_name=\"smiles\", make_conformers=True)"
   ]
  },
  {
   "cell_type": "markdown",
   "metadata": {},
   "source": [
    "After ``prepare_data()`` is called, the cached mol-file can be read directly from the data-directory."
   ]
  },
  {
   "cell_type": "code",
   "execution_count": 5,
   "metadata": {},
   "outputs": [
    {
     "name": "stdout",
     "output_type": "stream",
     "text": [
      "INFO:kgcnn: Read mol-blocks from mol.json of pre-computed structures...\n",
      " ... read molecules 0 from 4\n",
      "done\n"
     ]
    },
    {
     "data": {
      "text/plain": [
       "<kgcnn.data.moleculenet.MoleculeNetDataset at 0x2ba657d8e08>"
      ]
     },
     "execution_count": 5,
     "metadata": {},
     "output_type": "execute_result"
    }
   ],
   "source": [
    "dts.read_in_memory(label_column_name=\"Values1\", add_hydrogen=False)"
   ]
  },
  {
   "cell_type": "code",
   "execution_count": 8,
   "metadata": {},
   "outputs": [],
   "source": [
    "import networkx as nx\n",
    "import rdkit.Chem as Chem"
   ]
  },
  {
   "cell_type": "code",
   "execution_count": 9,
   "metadata": {},
   "outputs": [
    {
     "data": {
      "text/plain": [
       "([array([6, 6, 6]),\n",
       "  array([6, 6, 6, 8]),\n",
       "  array([6, 6, 6, 7]),\n",
       "  array([6, 6, 6, 6, 8])],\n",
       " [['C', 'C', 'C'],\n",
       "  ['C', 'C', 'C', 'O'],\n",
       "  ['C', 'C', 'C', 'N'],\n",
       "  ['C', 'C', 'C', 'C', 'O']])"
      ]
     },
     "execution_count": 9,
     "metadata": {},
     "output_type": "execute_result"
    }
   ],
   "source": [
    "dts.node_number, dts.node_symbol"
   ]
  },
  {
   "cell_type": "code",
   "execution_count": 11,
   "metadata": {},
   "outputs": [
    {
     "data": {
      "text/plain": [
       "([array([[0, 1],\n",
       "         [1, 0],\n",
       "         [1, 2],\n",
       "         [2, 1]], dtype=int64),\n",
       "  array([[0, 1],\n",
       "         [1, 0],\n",
       "         [1, 2],\n",
       "         [2, 1],\n",
       "         [2, 3],\n",
       "         [3, 2]], dtype=int64),\n",
       "  array([[0, 1],\n",
       "         [1, 0],\n",
       "         [1, 2],\n",
       "         [2, 1],\n",
       "         [2, 3],\n",
       "         [3, 2]], dtype=int64),\n",
       "  array([[0, 1],\n",
       "         [1, 0],\n",
       "         [1, 2],\n",
       "         [2, 1],\n",
       "         [2, 3],\n",
       "         [3, 2],\n",
       "         [3, 4],\n",
       "         [4, 3]], dtype=int64)],\n",
       " [array([[1],\n",
       "         [1],\n",
       "         [1],\n",
       "         [1]]),\n",
       "  array([[1],\n",
       "         [1],\n",
       "         [1],\n",
       "         [1],\n",
       "         [1],\n",
       "         [1]]),\n",
       "  array([[1],\n",
       "         [1],\n",
       "         [1],\n",
       "         [1],\n",
       "         [1],\n",
       "         [1]]),\n",
       "  array([[1],\n",
       "         [1],\n",
       "         [1],\n",
       "         [1],\n",
       "         [1],\n",
       "         [1],\n",
       "         [2],\n",
       "         [2]])])"
      ]
     },
     "execution_count": 11,
     "metadata": {},
     "output_type": "execute_result"
    }
   ],
   "source": [
    "dts.edge_indices, dts.edge_number"
   ]
  },
  {
   "cell_type": "code",
   "execution_count": 12,
   "metadata": {},
   "outputs": [],
   "source": [
    "G = nx.Graph()\n",
    "G.add_nodes_from([(i, {\"atom\": x}) for i, x in enumerate(dts.node_symbol[3])])\n",
    "G.add_edges_from(dts.edge_indices[3])"
   ]
  },
  {
   "cell_type": "code",
   "execution_count": 13,
   "metadata": {},
   "outputs": [
    {
     "data": {
      "image/png": "[encoded data removed]",
      "text/plain": [
       "<Figure size 432x288 with 1 Axes>"
      ]
     },
     "metadata": {},
     "output_type": "display_data"
    }
   ],
   "source": [
    "labels = nx.get_node_attributes(G, 'atom') \n",
    "nx.draw(G,labels=labels)"
   ]
  },
  {
   "cell_type": "code",
   "execution_count": 11,
   "metadata": {},
   "outputs": [
    {
     "data": {
      "image/png": "[encoded data removed]",
      "text/plain": [
       "<rdkit.Chem.rdchem.Mol at 0x210c857fdf0>"
      ]
     },
     "execution_count": 11,
     "metadata": {},
     "output_type": "execute_result"
    }
   ],
   "source": [
    "Chem.MolFromSmiles(\"CCCC=O\")"
   ]
  },
  {
   "cell_type": "markdown",
   "metadata": {},
   "source": [
    "Adding further attributes from rdkit is possible using the ``set_attributes`` method"
   ]
  },
  {
   "cell_type": "code",
   "execution_count": 14,
   "metadata": {},
   "outputs": [
    {
     "name": "stdout",
     "output_type": "stream",
     "text": [
      "INFO:kgcnn: Making attributes...\n",
      " ... read molecules 0 from 4\n",
      "done\n",
      "INFO:kgcnn: OneHotEncoder Symbol found ['C', 'O', 'N']\n"
     ]
    },
    {
     "data": {
      "text/plain": [
       "<kgcnn.data.moleculenet.MoleculeNetDataset at 0x2ba657d8e08>"
      ]
     },
     "execution_count": 14,
     "metadata": {},
     "output_type": "execute_result"
    }
   ],
   "source": [
    "dts.set_attributes(nodes=[\"Symbol\", \"TotalNumHs\"], encoder_nodes = {\"Symbol\": OneHotEncoder([\"C\", \"N\", \"O\"], dtype=\"str\", add_unknown=False)},\n",
    "                   edges=[\"BondType\", \"Stereo\"], encoder_edges = {\"BondType\": int},\n",
    "                   graph=[\"ExactMolWt\"]\n",
    "                  )"
   ]
  },
  {
   "cell_type": "code",
   "execution_count": 15,
   "metadata": {},
   "outputs": [
    {
     "data": {
      "text/plain": [
       "[array([[1., 0., 0., 3.],\n",
       "        [1., 0., 0., 2.],\n",
       "        [1., 0., 0., 3.]], dtype=float32),\n",
       " array([[1., 0., 0., 3.],\n",
       "        [1., 0., 0., 2.],\n",
       "        [1., 0., 0., 2.],\n",
       "        [0., 0., 1., 1.]], dtype=float32),\n",
       " array([[1., 0., 0., 3.],\n",
       "        [1., 0., 0., 2.],\n",
       "        [1., 0., 0., 2.],\n",
       "        [0., 1., 0., 2.]], dtype=float32),\n",
       " array([[1., 0., 0., 3.],\n",
       "        [1., 0., 0., 2.],\n",
       "        [1., 0., 0., 2.],\n",
       "        [1., 0., 0., 1.],\n",
       "        [0., 0., 1., 0.]], dtype=float32)]"
      ]
     },
     "execution_count": 15,
     "metadata": {},
     "output_type": "execute_result"
    }
   ],
   "source": [
    "dts.node_attributes"
   ]
  },
  {
   "cell_type": "code",
   "execution_count": 16,
   "metadata": {},
   "outputs": [
    {
     "data": {
      "text/plain": [
       "[array([[1., 0.],\n",
       "        [1., 0.],\n",
       "        [1., 0.],\n",
       "        [1., 0.]], dtype=float32),\n",
       " array([[1., 0.],\n",
       "        [1., 0.],\n",
       "        [1., 0.],\n",
       "        [1., 0.],\n",
       "        [1., 0.],\n",
       "        [1., 0.]], dtype=float32),\n",
       " array([[1., 0.],\n",
       "        [1., 0.],\n",
       "        [1., 0.],\n",
       "        [1., 0.],\n",
       "        [1., 0.],\n",
       "        [1., 0.]], dtype=float32),\n",
       " array([[1., 0.],\n",
       "        [1., 0.],\n",
       "        [1., 0.],\n",
       "        [1., 0.],\n",
       "        [1., 0.],\n",
       "        [1., 0.],\n",
       "        [2., 0.],\n",
       "        [2., 0.]], dtype=float32)]"
      ]
     },
     "execution_count": 16,
     "metadata": {},
     "output_type": "execute_result"
    }
   ],
   "source": [
    "dts.edge_attributes"
   ]
  },
  {
   "cell_type": "code",
   "execution_count": 17,
   "metadata": {},
   "outputs": [
    {
     "data": {
      "text/plain": [
       "[array([44.0626], dtype=float32),\n",
       " array([60.057514], dtype=float32),\n",
       " array([59.073498], dtype=float32),\n",
       " array([72.05752], dtype=float32)]"
      ]
     },
     "execution_count": 17,
     "metadata": {},
     "output_type": "execute_result"
    }
   ],
   "source": [
    "dts.graph_attributes"
   ]
  },
  {
   "cell_type": "code",
   "execution_count": null,
   "metadata": {},
   "outputs": [],
   "source": []
  }
 ],
 "metadata": {
  "kernelspec": {
   "display_name": "Python 3 (ipykernel)",
   "language": "python",
   "name": "python3"
  },
  "language_info": {
   "codemirror_mode": {
    "name": "ipython",
    "version": 3
   },
   "file_extension": ".py",
   "mimetype": "text/x-python",
   "name": "python",
   "nbconvert_exporter": "python",
   "pygments_lexer": "ipython3",
   "version": "3.8.12"
  }
 },
 "nbformat": 4,
 "nbformat_minor": 4
}
