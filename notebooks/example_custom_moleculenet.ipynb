{
 "cells": [
  {
   "cell_type": "code",
   "execution_count": 1,
   "metadata": {},
   "outputs": [],
   "source": [
    "import os\n",
    "from kgcnn.data.moleculenet import MoleculeNetDataset\n",
    "from kgcnn.mol.molgraph import OneHotEncoder"
   ]
  },
  {
   "cell_type": "code",
   "execution_count": 2,
   "metadata": {},
   "outputs": [],
   "source": [
    "os.makedirs(\"ExampleMol\", exist_ok=True)\n",
    "csv_data = \"smiles,Values1,Values2\\nCCC, 1, 0.1\\nCCCO, 2, 0.3\\nCCCN, 3, 0.2\\nCCCC=O, 4, 0.4\\n\"\n",
    "with open(\"ExampleMol/data.csv\", \"w\") as f:\n",
    "    f.write(csv_data)"
   ]
  },
  {
   "cell_type": "markdown",
   "metadata": {},
   "source": [
    "To load the dataset from memeory the ``MoleculeNetDataset`` class requires the information of the directory the data is in and the name of the csv-file. Also recommended is to provide a name of the dataset."
   ]
  },
  {
   "cell_type": "code",
   "execution_count": 3,
   "metadata": {},
   "outputs": [],
   "source": [
    "dts = MoleculeNetDataset(file_name=\"data.csv\", data_directory=\"ExampleMol/\", dataset_name=\"ExampleMol\",)"
   ]
  },
  {
   "cell_type": "markdown",
   "metadata": {},
   "source": [
    "Precompute molecular features and cache the information to file in the same folder as provided in the class initialization."
   ]
  },
  {
   "cell_type": "code",
   "execution_count": 4,
   "metadata": {},
   "outputs": [
    {
     "name": "stdout",
     "output_type": "stream",
     "text": [
      "INFO:kgcnn: Generating molecules and store mol.json to disk...\n",
      " ... converted molecules 0 from 4\n",
      "done\n"
     ]
    },
    {
     "data": {
      "text/plain": [
       "<kgcnn.data.moleculenet.MoleculeNetDataset at 0x210c70ba9c8>"
      ]
     },
     "execution_count": 4,
     "metadata": {},
     "output_type": "execute_result"
    }
   ],
   "source": [
    "dts.prepare_data(overwrite=True, smiles_column_name=\"smiles\", make_conformers=True)"
   ]
  },
  {
   "cell_type": "markdown",
   "metadata": {},
   "source": [
    "After ``prepare_data()`` is called, the cached mol-file can be read directly from the data-directory."
   ]
  },
  {
   "cell_type": "code",
   "execution_count": 5,
   "metadata": {},
   "outputs": [
    {
     "name": "stdout",
     "output_type": "stream",
     "text": [
      "INFO:kgcnn: Read mol-blocks from mol.json of pre-computed structures...\n",
      " ... read molecules 0 from 4\n",
      "done\n"
     ]
    },
    {
     "data": {
      "text/plain": [
       "<kgcnn.data.moleculenet.MoleculeNetDataset at 0x210c70ba9c8>"
      ]
     },
     "execution_count": 5,
     "metadata": {},
     "output_type": "execute_result"
    }
   ],
   "source": [
    "dts.read_in_memory(label_column_name=\"Values1\", add_hydrogen=False)"
   ]
  },
  {
   "cell_type": "code",
   "execution_count": 6,
   "metadata": {},
   "outputs": [],
   "source": [
    "import networkx as nx\n",
    "import rdkit.Chem as Chem"
   ]
  },
  {
   "cell_type": "code",
   "execution_count": 7,
   "metadata": {},
   "outputs": [
    {
     "data": {
      "text/plain": [
       "([array([6, 6, 6]),\n",
       "  array([6, 6, 6, 8]),\n",
       "  array([6, 6, 6, 7]),\n",
       "  array([6, 6, 6, 6, 8])],\n",
       " [['C', 'C', 'C'],\n",
       "  ['C', 'C', 'C', 'O'],\n",
       "  ['C', 'C', 'C', 'N'],\n",
       "  ['C', 'C', 'C', 'C', 'O']])"
      ]
     },
     "execution_count": 7,
     "metadata": {},
     "output_type": "execute_result"
    }
   ],
   "source": [
    "dts.node_number, dts.node_symbol"
   ]
  },
  {
   "cell_type": "code",
   "execution_count": 8,
   "metadata": {},
   "outputs": [
    {
     "data": {
      "text/plain": [
       "([array([[0, 1],\n",
       "         [1, 0],\n",
       "         [1, 2],\n",
       "         [2, 1]], dtype=int64),\n",
       "  array([[0, 1],\n",
       "         [1, 0],\n",
       "         [1, 2],\n",
       "         [2, 1],\n",
       "         [2, 3],\n",
       "         [3, 2]], dtype=int64),\n",
       "  array([[0, 1],\n",
       "         [1, 0],\n",
       "         [1, 2],\n",
       "         [2, 1],\n",
       "         [2, 3],\n",
       "         [3, 2]], dtype=int64),\n",
       "  array([[0, 1],\n",
       "         [1, 0],\n",
       "         [1, 2],\n",
       "         [2, 1],\n",
       "         [2, 3],\n",
       "         [3, 2],\n",
       "         [3, 4],\n",
       "         [4, 3]], dtype=int64)],\n",
       " [array([[1],\n",
       "         [1],\n",
       "         [1],\n",
       "         [1]]),\n",
       "  array([[1],\n",
       "         [1],\n",
       "         [1],\n",
       "         [1],\n",
       "         [1],\n",
       "         [1]]),\n",
       "  array([[1],\n",
       "         [1],\n",
       "         [1],\n",
       "         [1],\n",
       "         [1],\n",
       "         [1]]),\n",
       "  array([[1],\n",
       "         [1],\n",
       "         [1],\n",
       "         [1],\n",
       "         [1],\n",
       "         [1],\n",
       "         [2],\n",
       "         [2]])])"
      ]
     },
     "execution_count": 8,
     "metadata": {},
     "output_type": "execute_result"
    }
   ],
   "source": [
    "dts.edge_indices, dts.edge_number"
   ]
  },
  {
   "cell_type": "code",
   "execution_count": 9,
   "metadata": {},
   "outputs": [],
   "source": [
    "G = nx.Graph()\n",
    "G.add_nodes_from([(i, {\"atom\": x}) for i, x in enumerate(dts.node_symbol[3])])\n",
    "G.add_edges_from(dts.edge_indices[3])"
   ]
  },
  {
   "cell_type": "code",
   "execution_count": 10,
   "metadata": {},
   "outputs": [
    {
     "data": {
      "image/png": "[encoded data removed]",
      "text/plain": [
       "<Figure size 432x288 with 1 Axes>"
      ]
     },
     "metadata": {},
     "output_type": "display_data"
    }
   ],
   "source": [
    "labels = nx.get_node_attributes(G, 'atom') \n",
    "nx.draw(G,labels=labels)"
   ]
  },
  {
   "cell_type": "code",
   "execution_count": 11,
   "metadata": {},
   "outputs": [
    {
     "data": {
      "image/png": "[encoded data removed]",
      "text/plain": [
       "<rdkit.Chem.rdchem.Mol at 0x210c857fdf0>"
      ]
     },
     "execution_count": 11,
     "metadata": {},
     "output_type": "execute_result"
    }
   ],
   "source": [
    "Chem.MolFromSmiles(\"CCCC=O\")"
   ]
  },
  {
   "cell_type": "markdown",
   "metadata": {},
   "source": [
    "Adding further attributes from rdkit is possible using the ``set_attributes`` method"
   ]
  },
  {
   "cell_type": "code",
   "execution_count": 12,
   "metadata": {},
   "outputs": [
    {
     "name": "stdout",
     "output_type": "stream",
     "text": [
      "INFO:kgcnn: Making attributes...\n",
      " ... read molecules 0 from 4\n",
      "done\n",
      "INFO:kgcnn: OneHotEncoder Symbol found ['C', 'O', 'N']\n"
     ]
    },
    {
     "data": {
      "text/plain": [
       "<kgcnn.data.moleculenet.MoleculeNetDataset at 0x210c70ba9c8>"
      ]
     },
     "execution_count": 12,
     "metadata": {},
     "output_type": "execute_result"
    }
   ],
   "source": [
    "dts.set_attributes(nodes=[\"Symbol\", \"TotalNumHs\"], encoder_nodes = {\"Symbol\": OneHotEncoder([\"C\", \"N\", \"O\"], dtype=\"str\", add_unknown=False)},\n",
    "                   edges=[\"BondType\", \"Stereo\"], encoder_edges = {\"BondType\": int},\n",
    "                   graph=[\"ExactMolWt\"]\n",
    "                  )"
   ]
  },
  {
   "cell_type": "code",
   "execution_count": 13,
   "metadata": {},
   "outputs": [
    {
     "data": {
      "text/plain": [
       "[array([[1., 0., 0., 3.],\n",
       "        [1., 0., 0., 2.],\n",
       "        [1., 0., 0., 3.]], dtype=float32),\n",
       " array([[1., 0., 0., 3.],\n",
       "        [1., 0., 0., 2.],\n",
       "        [1., 0., 0., 2.],\n",
       "        [0., 0., 1., 1.]], dtype=float32),\n",
       " array([[1., 0., 0., 3.],\n",
       "        [1., 0., 0., 2.],\n",
       "        [1., 0., 0., 2.],\n",
       "        [0., 1., 0., 2.]], dtype=float32),\n",
       " array([[1., 0., 0., 3.],\n",
       "        [1., 0., 0., 2.],\n",
       "        [1., 0., 0., 2.],\n",
       "        [1., 0., 0., 1.],\n",
       "        [0., 0., 1., 0.]], dtype=float32)]"
      ]
     },
     "execution_count": 13,
     "metadata": {},
     "output_type": "execute_result"
    }
   ],
   "source": [
    "dts.node_attributes"
   ]
  },
  {
   "cell_type": "code",
   "execution_count": 14,
   "metadata": {},
   "outputs": [
    {
     "data": {
      "text/plain": [
       "[array([[1., 0.],\n",
       "        [1., 0.],\n",
       "        [1., 0.],\n",
       "        [1., 0.]], dtype=float32),\n",
       " array([[1., 0.],\n",
       "        [1., 0.],\n",
       "        [1., 0.],\n",
       "        [1., 0.],\n",
       "        [1., 0.],\n",
       "        [1., 0.]], dtype=float32),\n",
       " array([[1., 0.],\n",
       "        [1., 0.],\n",
       "        [1., 0.],\n",
       "        [1., 0.],\n",
       "        [1., 0.],\n",
       "        [1., 0.]], dtype=float32),\n",
       " array([[1., 0.],\n",
       "        [1., 0.],\n",
       "        [1., 0.],\n",
       "        [1., 0.],\n",
       "        [1., 0.],\n",
       "        [1., 0.],\n",
       "        [2., 0.],\n",
       "        [2., 0.]], dtype=float32)]"
      ]
     },
     "execution_count": 14,
     "metadata": {},
     "output_type": "execute_result"
    }
   ],
   "source": [
    "dts.edge_attributes"
   ]
  },
  {
   "cell_type": "code",
   "execution_count": 15,
   "metadata": {},
   "outputs": [
    {
     "data": {
      "text/plain": [
       "[array([44.0626], dtype=float32),\n",
       " array([60.057514], dtype=float32),\n",
       " array([59.073498], dtype=float32),\n",
       " array([72.05752], dtype=float32)]"
      ]
     },
     "execution_count": 15,
     "metadata": {},
     "output_type": "execute_result"
    }
   ],
   "source": [
    "dts.graph_attributes"
   ]
  },
  {
   "cell_type": "code",
   "execution_count": null,
   "metadata": {},
   "outputs": [],
   "source": []
  }
 ],
 "metadata": {
  "kernelspec": {
   "display_name": "Python 3",
   "language": "python",
   "name": "python3"
  },
  "language_info": {
   "codemirror_mode": {
    "name": "ipython",
    "version": 3
   },
   "file_extension": ".py",
   "mimetype": "text/x-python",
   "name": "python",
   "nbconvert_exporter": "python",
   "pygments_lexer": "ipython3",
   "version": "3.7.6"
  }
 },
 "nbformat": 4,
 "nbformat_minor": 4
}
