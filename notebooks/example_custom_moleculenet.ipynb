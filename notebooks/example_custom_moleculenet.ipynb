{
 "cells": [
  {
   "cell_type": "code",
   "execution_count": 13,
   "metadata": {},
   "outputs": [],
   "source": [
    "import os\n",
    "from kgcnn.data.moleculenet import MoleculeNetDataset"
   ]
  },
  {
   "cell_type": "code",
   "execution_count": 18,
   "metadata": {},
   "outputs": [],
   "source": [
    "os.makedirs(\"ExampleMol\", exist_ok=True)\n",
    "csv_data = \"smiles,Values1,Values2\\nCCC, 1, 0.1\\nCCCO, 2, 0.3\\nCCCN, 3, 0.2\\nCCCC=O, 4, 0.4\\n\"\n",
    "with open(\"ExampleMol/data.csv\", \"w\") as f:\n",
    "    f.write(csv_data)"
   ]
  },
  {
   "cell_type": "code",
   "execution_count": 27,
   "metadata": {},
   "outputs": [
    {
     "name": "stdout",
     "output_type": "stream",
     "text": [
      "INFO:kgcnn: Generating molecules and store mol.json to disk...\n",
      " ... converted molecules 0 from 4\n",
      "done\n"
     ]
    },
    {
     "data": {
      "text/plain": [
       "<kgcnn.data.moleculenet.MoleculeNetDataset at 0x23340a9fa88>"
      ]
     },
     "execution_count": 27,
     "metadata": {},
     "output_type": "execute_result"
    }
   ],
   "source": [
    "dts = MoleculeNetDataset()\n",
    "dts.prepare_data(file_name=\"data.csv\", data_directory=\"ExampleMol/\", dataset_name=\"ExampleMol\", overwrite=True,\n",
    "                 smiles_column_name=\"smiles\", make_conformers=True)"
   ]
  },
  {
   "cell_type": "code",
   "execution_count": 28,
   "metadata": {},
   "outputs": [
    {
     "name": "stdout",
     "output_type": "stream",
     "text": [
      "INFO:kgcnn: Read mol-blocks from mol.json of pre-computed structures...\n",
      " ... read molecules 0 from 4\n",
      "done\n"
     ]
    },
    {
     "data": {
      "text/plain": [
       "<kgcnn.data.moleculenet.MoleculeNetDataset at 0x23340a9fa88>"
      ]
     },
     "execution_count": 28,
     "metadata": {},
     "output_type": "execute_result"
    }
   ],
   "source": [
    "dts.read_in_memory(label_column_name=\"Values1\", add_hydrogen=False)"
   ]
  },
  {
   "cell_type": "code",
   "execution_count": 29,
   "metadata": {},
   "outputs": [],
   "source": [
    "import networkx as nx\n",
    "import rdkit.Chem as Chem"
   ]
  },
  {
   "cell_type": "code",
   "execution_count": 30,
   "metadata": {},
   "outputs": [
    {
     "data": {
      "text/plain": [
       "[array([6, 6, 6]),\n",
       " array([6, 6, 6, 8]),\n",
       " array([6, 6, 6, 7]),\n",
       " array([6, 6, 6, 6, 8])]"
      ]
     },
     "execution_count": 30,
     "metadata": {},
     "output_type": "execute_result"
    }
   ],
   "source": [
    "dts.node_number"
   ]
  },
  {
   "cell_type": "code",
   "execution_count": 31,
   "metadata": {},
   "outputs": [
    {
     "data": {
      "text/plain": [
       "[array([[1, 0],\n",
       "        [1, 0],\n",
       "        [2, 1],\n",
       "        [2, 1]], dtype=int64),\n",
       " array([[1, 0],\n",
       "        [1, 0],\n",
       "        [2, 1],\n",
       "        [2, 1],\n",
       "        [3, 2],\n",
       "        [3, 2]], dtype=int64),\n",
       " array([[1, 0],\n",
       "        [1, 0],\n",
       "        [2, 1],\n",
       "        [2, 1],\n",
       "        [3, 2],\n",
       "        [3, 2]], dtype=int64),\n",
       " array([[1, 0],\n",
       "        [1, 0],\n",
       "        [2, 1],\n",
       "        [2, 1],\n",
       "        [3, 2],\n",
       "        [3, 2],\n",
       "        [4, 3],\n",
       "        [4, 3]], dtype=int64)]"
      ]
     },
     "execution_count": 31,
     "metadata": {},
     "output_type": "execute_result"
    }
   ],
   "source": [
    "dts.edge_indices"
   ]
  },
  {
   "cell_type": "code",
   "execution_count": 49,
   "metadata": {},
   "outputs": [],
   "source": [
    "G = nx.Graph()\n",
    "G.add_nodes_from([(i, {\"atom\": x}) for i, x in enumerate(dts.node_symbol[3])])\n",
    "G.add_edges_from(dts.edge_indices[3])"
   ]
  },
  {
   "cell_type": "code",
   "execution_count": 51,
   "metadata": {},
   "outputs": [
    {
     "data": {
      "image/png": "[encoded data removed]",
      "text/plain": [
       "<Figure size 432x288 with 1 Axes>"
      ]
     },
     "metadata": {},
     "output_type": "display_data"
    }
   ],
   "source": [
    "labels = nx.get_node_attributes(G, 'atom') \n",
    "nx.draw(G,labels=labels)"
   ]
  },
  {
   "cell_type": "code",
   "execution_count": 39,
   "metadata": {},
   "outputs": [
    {
     "data": {
      "image/png": "[encoded data removed]",
      "text/plain": [
       "<rdkit.Chem.rdchem.Mol at 0x2333c6c53f0>"
      ]
     },
     "execution_count": 39,
     "metadata": {},
     "output_type": "execute_result"
    }
   ],
   "source": [
    "Chem.MolFromSmiles(\"CCCC=O\")"
   ]
  },
  {
   "cell_type": "code",
   "execution_count": null,
   "metadata": {},
   "outputs": [],
   "source": []
  }
 ],
 "metadata": {
  "kernelspec": {
   "display_name": "Python 3",
   "language": "python",
   "name": "python3"
  },
  "language_info": {
   "codemirror_mode": {
    "name": "ipython",
    "version": 3
   },
   "file_extension": ".py",
   "mimetype": "text/x-python",
   "name": "python",
   "nbconvert_exporter": "python",
   "pygments_lexer": "ipython3",
   "version": "3.7.6"
  }
 },
 "nbformat": 4,
 "nbformat_minor": 4
}
