{
 "cells": [
  {
   "cell_type": "code",
   "execution_count": 1,
   "id": "6b9fd493",
   "metadata": {},
   "outputs": [],
   "source": [
    "import numpy as np\n",
    "import tensorflow as tf\n",
    "ks = tf.keras"
   ]
  },
  {
   "cell_type": "code",
   "execution_count": 2,
   "id": "c8e7380a",
   "metadata": {},
   "outputs": [
    {
     "name": "stderr",
     "output_type": "stream",
     "text": [
      "INFO:kgcnn.data.download:Checking and possibly downloading dataset with name ESOL\n",
      "INFO:kgcnn.data.download:Dataset directory located at C:\\Users\\patri\\.kgcnn\\datasets\n",
      "INFO:kgcnn.data.download:Dataset directory found. Done.\n",
      "INFO:kgcnn.data.download:Dataset found. Done.\n",
      "INFO:kgcnn.data.ESOL:Found SDF C:\\Users\\patri\\.kgcnn\\datasets\\ESOL\\delaney-processed.sdf of pre-computed structures.\n",
      "INFO:kgcnn.data.ESOL:Read molecules from mol-file.\n",
      "INFO:kgcnn.data.ESOL: ... process molecules 0 from 1128\n",
      "INFO:kgcnn.data.ESOL: ... process molecules 1000 from 1128\n",
      "INFO:kgcnn.mol.encoder:OneHotEncoder Symbol found ['O', 'C', 'N', 'S', 'Cl', 'P', 'F', 'I', 'Br']\n",
      "INFO:kgcnn.mol.encoder:OneHotEncoder Hybridization found [rdkit.Chem.rdchem.HybridizationType.SP3, rdkit.Chem.rdchem.HybridizationType.SP, rdkit.Chem.rdchem.HybridizationType.SP2]\n",
      "INFO:kgcnn.mol.encoder:OneHotEncoder TotalDegree found [2, 4, 1, 3]\n",
      "INFO:kgcnn.mol.encoder:OneHotEncoder TotalNumHs found [1, 2, 0, 3, 4]\n",
      "INFO:kgcnn.mol.encoder:OneHotEncoder CIPCode found [None, 'S', 'R']\n",
      "INFO:kgcnn.mol.encoder:OneHotEncoder ChiralityPossible found [None, '1']\n",
      "INFO:kgcnn.mol.encoder:OneHotEncoder BondType found [rdkit.Chem.rdchem.BondType.SINGLE, rdkit.Chem.rdchem.BondType.TRIPLE, rdkit.Chem.rdchem.BondType.AROMATIC, rdkit.Chem.rdchem.BondType.DOUBLE]\n",
      "INFO:kgcnn.mol.encoder:OneHotEncoder Stereo found [rdkit.Chem.rdchem.BondStereo.STEREONONE, rdkit.Chem.rdchem.BondStereo.STEREOZ, rdkit.Chem.rdchem.BondStereo.STEREOE]\n"
     ]
    },
    {
     "data": {
      "text/plain": [
       "<kgcnn.data.datasets.ESOLDataset.ESOLDataset at 0x20cdb0f2b20>"
      ]
     },
     "execution_count": 2,
     "metadata": {},
     "output_type": "execute_result"
    }
   ],
   "source": [
    "from kgcnn.data.datasets.ESOLDataset import ESOLDataset\n",
    "from sklearn.model_selection import train_test_split\n",
    "dataset = ESOLDataset()\n",
    "dataset.map_list(method=\"set_edge_indices_reverse\")"
   ]
  },
  {
   "cell_type": "code",
   "execution_count": 3,
   "id": "fb96cd43",
   "metadata": {},
   "outputs": [],
   "source": [
    "from kgcnn.literature.DMPNN import make_model\n",
    "from tensorflow.keras.optimizers import Adam"
   ]
  },
  {
   "cell_type": "code",
   "execution_count": 4,
   "id": "ec68fc99",
   "metadata": {},
   "outputs": [
    {
     "name": "stderr",
     "output_type": "stream",
     "text": [
      "INFO:kgcnn.utils.models:Updated model kwargs:\n",
      "INFO:kgcnn.utils.models:{'name': 'DMPNN', 'inputs': [{'shape': [None, 41], 'name': 'node_attributes', 'dtype': 'float32', 'ragged': True}, {'shape': [None, 11], 'name': 'edge_attributes', 'dtype': 'float32', 'ragged': True}, {'shape': [None, 2], 'name': 'edge_indices', 'dtype': 'int64', 'ragged': True}, {'shape': [None, 1], 'name': 'edge_indices_reverse', 'dtype': 'int64', 'ragged': True}], 'input_embedding': {'node': {'input_dim': 95, 'output_dim': 64}, 'edge': {'input_dim': 5, 'output_dim': 64}, 'graph': {'input_dim': 100, 'output_dim': 64}}, 'pooling_args': {'pooling_method': 'sum'}, 'use_graph_state': False, 'edge_initialize': {'units': 128, 'use_bias': True, 'activation': 'relu'}, 'edge_dense': {'units': 128, 'use_bias': True, 'activation': 'linear'}, 'edge_activation': {'activation': 'relu'}, 'node_dense': {'units': 128, 'use_bias': True, 'activation': 'relu'}, 'verbose': 10, 'depth': 5, 'dropout': {'rate': 0.1}, 'output_embedding': 'node', 'output_to_tensor': False, 'output_mlp': {'use_bias': [True, True, False], 'units': [64, 32, 1], 'activation': ['relu', 'relu', 'linear']}}\n"
     ]
    }
   ],
   "source": [
    "model_config = {\n",
    "    \"name\": \"DMPNN\",\n",
    "    \"inputs\": [\n",
    "        {\"shape\": [None, 41], \"name\": \"node_attributes\", \"dtype\": \"float32\", \"ragged\": True},\n",
    "        {\"shape\": [None, 11], \"name\": \"edge_attributes\", \"dtype\": \"float32\", \"ragged\": True},\n",
    "        {\"shape\": [None, 2], \"name\": \"edge_indices\", \"dtype\": \"int64\", \"ragged\": True},\n",
    "        {\"shape\": [None, 1], \"name\": \"edge_indices_reverse\", \"dtype\": \"int64\", \"ragged\": True}\n",
    "    ],\n",
    "    \"input_embedding\": {\"node\": {\"input_dim\": 95, \"output_dim\": 64},\n",
    "                        \"edge\": {\"input_dim\": 5, \"output_dim\": 64}},\n",
    "    \"pooling_args\": {\"pooling_method\": \"sum\"},\n",
    "    \"edge_initialize\": {\"units\": 128, \"use_bias\": True, \"activation\": \"relu\"},\n",
    "    \"edge_dense\": {\"units\": 128, \"use_bias\": True, \"activation\": \"linear\"},\n",
    "    \"edge_activation\": {\"activation\": \"relu\"},\n",
    "    \"node_dense\": {\"units\": 128, \"use_bias\": True, \"activation\": \"relu\"},\n",
    "    \"verbose\": 10, \"depth\": 5,\n",
    "    \"dropout\": {\"rate\": 0.1},\n",
    "    \"output_embedding\": \"node\",  # For node regression\n",
    "    \"output_to_tensor\": False,  # Return ragged tensor output!\n",
    "    \"output_mlp\": {\n",
    "        \"use_bias\": [True, True, False], \"units\": [64, 32, 1],\n",
    "        \"activation\": [\"relu\", \"relu\", \"linear\"]\n",
    "    }\n",
    "}\n",
    "# Test making model\n",
    "model = make_model(**model_config)"
   ]
  },
  {
   "cell_type": "code",
   "execution_count": 5,
   "id": "5ee1b3ac",
   "metadata": {},
   "outputs": [
    {
     "name": "stderr",
     "output_type": "stream",
     "text": [
      "INFO:kgcnn.data.ESOL:Property edge_attributes is an empty list for graph 934.\n",
      "INFO:kgcnn.data.ESOL:Property edge_indices is an empty list for graph 934.\n",
      "INFO:kgcnn.data.ESOL:Property edge_indices_reverse is an empty list for graph 934.\n",
      "WARNING:kgcnn.data.ESOL:Found invalid graphs for properties. Removing graphs [934].\n"
     ]
    },
    {
     "data": {
      "text/plain": [
       "array([934])"
      ]
     },
     "execution_count": 5,
     "metadata": {},
     "output_type": "execute_result"
    }
   ],
   "source": [
    "dataset.clean(model_config[\"inputs\"])"
   ]
  },
  {
   "cell_type": "code",
   "execution_count": 6,
   "id": "fba1727a",
   "metadata": {},
   "outputs": [],
   "source": [
    "for i in range(len(dataset)):\n",
    "    dataset[i].update({\"node_label\": np.array(np.expand_dims(dataset[i][\"node_number\"], axis=-1), dtype=\"float32\")})"
   ]
  },
  {
   "cell_type": "code",
   "execution_count": 7,
   "id": "3db5d189",
   "metadata": {},
   "outputs": [
    {
     "name": "stdout",
     "output_type": "stream",
     "text": [
      "inputs:\n",
      " [TensorShape([845, None, 41]), TensorShape([845, None, 11]), TensorShape([845, None, 2]), TensorShape([845, None, 1])]\n",
      "outputs:\n",
      " (845, None, 1)\n"
     ]
    }
   ],
   "source": [
    "train_index, test_index = train_test_split(np.arange(len(dataset)), test_size=0.25, random_state=42)\n",
    "x_train = dataset[train_index].tensor(model_config[\"inputs\"])\n",
    "y_train = dataset[train_index].tensor({\"name\": \"node_label\", \"ragged\": True})\n",
    "x_valid = dataset[test_index].tensor(model_config[\"inputs\"])\n",
    "y_valid = dataset[test_index].tensor({\"name\": \"node_label\", \"ragged\": True, \"dtype\": \"float32\"})\n",
    "print(\"inputs:\\n\", [x.shape for x in x_train])\n",
    "print(\"outputs:\\n\", y_train.shape)"
   ]
  },
  {
   "cell_type": "code",
   "execution_count": 8,
   "id": "361c5c0e",
   "metadata": {},
   "outputs": [
    {
     "name": "stdout",
     "output_type": "stream",
     "text": [
      "9/9 [==============================] - 1s 8ms/step\n",
      "(282, None, 1)\n"
     ]
    }
   ],
   "source": [
    "test = model.predict(x_valid)\n",
    "print(test.shape)"
   ]
  },
  {
   "cell_type": "code",
   "execution_count": 9,
   "id": "06993fb2",
   "metadata": {},
   "outputs": [],
   "source": [
    "from kgcnn.metrics.loss import RaggedMeanAbsoluteError"
   ]
  },
  {
   "cell_type": "code",
   "execution_count": 10,
   "id": "e1c89416",
   "metadata": {},
   "outputs": [
    {
     "name": "stdout",
     "output_type": "stream",
     "text": [
      "Epoch 1/100\n"
     ]
    },
    {
     "name": "stderr",
     "output_type": "stream",
     "text": [
      "C:\\Users\\patri\\anaconda3\\envs\\gcnn_keras_test\\lib\\site-packages\\tensorflow\\python\\framework\\indexed_slices.py:444: UserWarning: Converting sparse IndexedSlices(IndexedSlices(indices=Tensor(\"gradient_tape/DMPNN/pooling_local_edges_5/Reshape_1:0\", shape=(None,), dtype=int32), values=Tensor(\"gradient_tape/DMPNN/pooling_local_edges_5/Reshape:0\", shape=(None, 128), dtype=float32), dense_shape=Tensor(\"gradient_tape/DMPNN/pooling_local_edges_5/Cast:0\", shape=(2,), dtype=int32))) to a dense Tensor of unknown shape. This may consume a large amount of memory.\n",
      "  warnings.warn(\n",
      "C:\\Users\\patri\\anaconda3\\envs\\gcnn_keras_test\\lib\\site-packages\\tensorflow\\python\\framework\\indexed_slices.py:444: UserWarning: Converting sparse IndexedSlices(IndexedSlices(indices=Tensor(\"gradient_tape/DMPNN/dmpnnp_pooling_edges_directed_4/gather_nodes_outgoing_5/Reshape_1:0\", shape=(None,), dtype=int64), values=Tensor(\"gradient_tape/DMPNN/dmpnnp_pooling_edges_directed_4/gather_nodes_outgoing_5/Reshape:0\", shape=(None, 128), dtype=float32), dense_shape=Tensor(\"gradient_tape/DMPNN/dmpnnp_pooling_edges_directed_4/gather_nodes_outgoing_5/Cast:0\", shape=(2,), dtype=int32))) to a dense Tensor of unknown shape. This may consume a large amount of memory.\n",
      "  warnings.warn(\n",
      "C:\\Users\\patri\\anaconda3\\envs\\gcnn_keras_test\\lib\\site-packages\\tensorflow\\python\\framework\\indexed_slices.py:444: UserWarning: Converting sparse IndexedSlices(IndexedSlices(indices=Tensor(\"Adam/gradients/concat_1:0\", shape=(None,), dtype=int64), values=Tensor(\"Adam/gradients/concat:0\", shape=(None, 128), dtype=float32), dense_shape=Tensor(\"gradient_tape/DMPNN/dmpnnp_pooling_edges_directed_4/dmpnn_gather_edges_pairs_4/gather_nodes_ingoing_4/Cast:0\", shape=(2,), dtype=int32))) to a dense Tensor of unknown shape. This may consume a large amount of memory.\n",
      "  warnings.warn(\n",
      "C:\\Users\\patri\\anaconda3\\envs\\gcnn_keras_test\\lib\\site-packages\\tensorflow\\python\\framework\\indexed_slices.py:444: UserWarning: Converting sparse IndexedSlices(IndexedSlices(indices=Tensor(\"gradient_tape/DMPNN/dmpnnp_pooling_edges_directed_3/gather_nodes_outgoing_4/Reshape_1:0\", shape=(None,), dtype=int64), values=Tensor(\"gradient_tape/DMPNN/dmpnnp_pooling_edges_directed_3/gather_nodes_outgoing_4/Reshape:0\", shape=(None, 128), dtype=float32), dense_shape=Tensor(\"gradient_tape/DMPNN/dmpnnp_pooling_edges_directed_3/gather_nodes_outgoing_4/Cast:0\", shape=(2,), dtype=int32))) to a dense Tensor of unknown shape. This may consume a large amount of memory.\n",
      "  warnings.warn(\n",
      "C:\\Users\\patri\\anaconda3\\envs\\gcnn_keras_test\\lib\\site-packages\\tensorflow\\python\\framework\\indexed_slices.py:444: UserWarning: Converting sparse IndexedSlices(IndexedSlices(indices=Tensor(\"Adam/gradients/concat_3:0\", shape=(None,), dtype=int64), values=Tensor(\"Adam/gradients/concat_2:0\", shape=(None, 128), dtype=float32), dense_shape=Tensor(\"gradient_tape/DMPNN/dmpnnp_pooling_edges_directed_3/dmpnn_gather_edges_pairs_3/gather_nodes_ingoing_3/Cast:0\", shape=(2,), dtype=int32))) to a dense Tensor of unknown shape. This may consume a large amount of memory.\n",
      "  warnings.warn(\n",
      "C:\\Users\\patri\\anaconda3\\envs\\gcnn_keras_test\\lib\\site-packages\\tensorflow\\python\\framework\\indexed_slices.py:444: UserWarning: Converting sparse IndexedSlices(IndexedSlices(indices=Tensor(\"gradient_tape/DMPNN/dmpnnp_pooling_edges_directed_2/gather_nodes_outgoing_3/Reshape_1:0\", shape=(None,), dtype=int64), values=Tensor(\"gradient_tape/DMPNN/dmpnnp_pooling_edges_directed_2/gather_nodes_outgoing_3/Reshape:0\", shape=(None, 128), dtype=float32), dense_shape=Tensor(\"gradient_tape/DMPNN/dmpnnp_pooling_edges_directed_2/gather_nodes_outgoing_3/Cast:0\", shape=(2,), dtype=int32))) to a dense Tensor of unknown shape. This may consume a large amount of memory.\n",
      "  warnings.warn(\n",
      "C:\\Users\\patri\\anaconda3\\envs\\gcnn_keras_test\\lib\\site-packages\\tensorflow\\python\\framework\\indexed_slices.py:444: UserWarning: Converting sparse IndexedSlices(IndexedSlices(indices=Tensor(\"Adam/gradients/concat_5:0\", shape=(None,), dtype=int64), values=Tensor(\"Adam/gradients/concat_4:0\", shape=(None, 128), dtype=float32), dense_shape=Tensor(\"gradient_tape/DMPNN/dmpnnp_pooling_edges_directed_2/dmpnn_gather_edges_pairs_2/gather_nodes_ingoing_2/Cast:0\", shape=(2,), dtype=int32))) to a dense Tensor of unknown shape. This may consume a large amount of memory.\n",
      "  warnings.warn(\n",
      "C:\\Users\\patri\\anaconda3\\envs\\gcnn_keras_test\\lib\\site-packages\\tensorflow\\python\\framework\\indexed_slices.py:444: UserWarning: Converting sparse IndexedSlices(IndexedSlices(indices=Tensor(\"gradient_tape/DMPNN/dmpnnp_pooling_edges_directed_1/gather_nodes_outgoing_2/Reshape_1:0\", shape=(None,), dtype=int64), values=Tensor(\"gradient_tape/DMPNN/dmpnnp_pooling_edges_directed_1/gather_nodes_outgoing_2/Reshape:0\", shape=(None, 128), dtype=float32), dense_shape=Tensor(\"gradient_tape/DMPNN/dmpnnp_pooling_edges_directed_1/gather_nodes_outgoing_2/Cast:0\", shape=(2,), dtype=int32))) to a dense Tensor of unknown shape. This may consume a large amount of memory.\n",
      "  warnings.warn(\n",
      "C:\\Users\\patri\\anaconda3\\envs\\gcnn_keras_test\\lib\\site-packages\\tensorflow\\python\\framework\\indexed_slices.py:444: UserWarning: Converting sparse IndexedSlices(IndexedSlices(indices=Tensor(\"Adam/gradients/concat_7:0\", shape=(None,), dtype=int64), values=Tensor(\"Adam/gradients/concat_6:0\", shape=(None, 128), dtype=float32), dense_shape=Tensor(\"gradient_tape/DMPNN/dmpnnp_pooling_edges_directed_1/dmpnn_gather_edges_pairs_1/gather_nodes_ingoing_1/Cast:0\", shape=(2,), dtype=int32))) to a dense Tensor of unknown shape. This may consume a large amount of memory.\n",
      "  warnings.warn(\n",
      "C:\\Users\\patri\\anaconda3\\envs\\gcnn_keras_test\\lib\\site-packages\\tensorflow\\python\\framework\\indexed_slices.py:444: UserWarning: Converting sparse IndexedSlices(IndexedSlices(indices=Tensor(\"gradient_tape/DMPNN/dmpnnp_pooling_edges_directed/gather_nodes_outgoing_1/Reshape_1:0\", shape=(None,), dtype=int64), values=Tensor(\"gradient_tape/DMPNN/dmpnnp_pooling_edges_directed/gather_nodes_outgoing_1/Reshape:0\", shape=(None, 128), dtype=float32), dense_shape=Tensor(\"gradient_tape/DMPNN/dmpnnp_pooling_edges_directed/gather_nodes_outgoing_1/Cast:0\", shape=(2,), dtype=int32))) to a dense Tensor of unknown shape. This may consume a large amount of memory.\n",
      "  warnings.warn(\n",
      "C:\\Users\\patri\\anaconda3\\envs\\gcnn_keras_test\\lib\\site-packages\\tensorflow\\python\\framework\\indexed_slices.py:444: UserWarning: Converting sparse IndexedSlices(IndexedSlices(indices=Tensor(\"gradient_tape/DMPNN/dmpnnp_pooling_edges_directed/dmpnn_gather_edges_pairs/gather_nodes_ingoing/Reshape_1:0\", shape=(None,), dtype=int64), values=Tensor(\"gradient_tape/DMPNN/dmpnnp_pooling_edges_directed/dmpnn_gather_edges_pairs/gather_nodes_ingoing/Reshape:0\", shape=(None, 128), dtype=float32), dense_shape=Tensor(\"gradient_tape/DMPNN/dmpnnp_pooling_edges_directed/dmpnn_gather_edges_pairs/gather_nodes_ingoing/Cast:0\", shape=(2,), dtype=int32))) to a dense Tensor of unknown shape. This may consume a large amount of memory.\n",
      "  warnings.warn(\n",
      "C:\\Users\\patri\\anaconda3\\envs\\gcnn_keras_test\\lib\\site-packages\\tensorflow\\python\\framework\\indexed_slices.py:444: UserWarning: Converting sparse IndexedSlices(IndexedSlices(indices=Tensor(\"gradient_tape/DMPNN/dmpnnp_pooling_edges_directed/pooling_local_edges/Reshape_1:0\", shape=(None,), dtype=int32), values=Tensor(\"gradient_tape/DMPNN/dmpnnp_pooling_edges_directed/pooling_local_edges/Reshape:0\", shape=(None, 128), dtype=float32), dense_shape=Tensor(\"gradient_tape/DMPNN/dmpnnp_pooling_edges_directed/pooling_local_edges/Cast:0\", shape=(2,), dtype=int32))) to a dense Tensor of unknown shape. This may consume a large amount of memory.\n",
      "  warnings.warn(\n"
     ]
    },
    {
     "name": "stdout",
     "output_type": "stream",
     "text": [
      "27/27 - 4s - loss: 4.1462 - mean_absolute_error: 4.1089 - val_loss: 2.9602 - val_mean_absolute_error: 2.9550 - 4s/epoch - 140ms/step\n",
      "Epoch 2/100\n",
      "27/27 - 0s - loss: 2.5284 - mean_absolute_error: 2.5265 - val_loss: 2.2012 - val_mean_absolute_error: 2.1986 - 462ms/epoch - 17ms/step\n",
      "Epoch 3/100\n",
      "27/27 - 0s - loss: 2.0060 - mean_absolute_error: 2.0026 - val_loss: 1.6461 - val_mean_absolute_error: 1.6429 - 469ms/epoch - 17ms/step\n",
      "Epoch 4/100\n",
      "27/27 - 0s - loss: 1.4083 - mean_absolute_error: 1.4049 - val_loss: 1.0181 - val_mean_absolute_error: 1.0150 - 470ms/epoch - 17ms/step\n",
      "Epoch 5/100\n",
      "27/27 - 0s - loss: 0.9548 - mean_absolute_error: 0.9483 - val_loss: 0.8509 - val_mean_absolute_error: 0.8488 - 455ms/epoch - 17ms/step\n",
      "Epoch 6/100\n",
      "27/27 - 0s - loss: 0.7618 - mean_absolute_error: 0.7531 - val_loss: 0.6354 - val_mean_absolute_error: 0.6331 - 456ms/epoch - 17ms/step\n",
      "Epoch 7/100\n",
      "27/27 - 0s - loss: 0.5971 - mean_absolute_error: 0.5927 - val_loss: 0.4604 - val_mean_absolute_error: 0.4585 - 464ms/epoch - 17ms/step\n",
      "Epoch 8/100\n",
      "27/27 - 0s - loss: 0.4114 - mean_absolute_error: 0.4047 - val_loss: 0.3233 - val_mean_absolute_error: 0.3216 - 463ms/epoch - 17ms/step\n",
      "Epoch 9/100\n",
      "27/27 - 0s - loss: 0.3139 - mean_absolute_error: 0.3117 - val_loss: 0.2912 - val_mean_absolute_error: 0.2888 - 466ms/epoch - 17ms/step\n",
      "Epoch 10/100\n",
      "27/27 - 0s - loss: 0.2761 - mean_absolute_error: 0.2729 - val_loss: 0.2289 - val_mean_absolute_error: 0.2265 - 466ms/epoch - 17ms/step\n",
      "Epoch 11/100\n",
      "27/27 - 0s - loss: 0.2205 - mean_absolute_error: 0.2152 - val_loss: 0.2042 - val_mean_absolute_error: 0.2019 - 455ms/epoch - 17ms/step\n",
      "Epoch 12/100\n",
      "27/27 - 0s - loss: 0.1980 - mean_absolute_error: 0.1963 - val_loss: 0.1909 - val_mean_absolute_error: 0.1888 - 458ms/epoch - 17ms/step\n",
      "Epoch 13/100\n",
      "27/27 - 0s - loss: 0.1873 - mean_absolute_error: 0.1850 - val_loss: 0.1880 - val_mean_absolute_error: 0.1859 - 446ms/epoch - 17ms/step\n",
      "Epoch 14/100\n",
      "27/27 - 0s - loss: 0.2146 - mean_absolute_error: 0.2141 - val_loss: 0.2124 - val_mean_absolute_error: 0.2103 - 472ms/epoch - 17ms/step\n",
      "Epoch 15/100\n",
      "27/27 - 0s - loss: 0.1804 - mean_absolute_error: 0.1804 - val_loss: 0.1837 - val_mean_absolute_error: 0.1818 - 452ms/epoch - 17ms/step\n",
      "Epoch 16/100\n",
      "27/27 - 0s - loss: 0.1594 - mean_absolute_error: 0.1602 - val_loss: 0.1673 - val_mean_absolute_error: 0.1656 - 473ms/epoch - 18ms/step\n",
      "Epoch 17/100\n",
      "27/27 - 0s - loss: 0.1589 - mean_absolute_error: 0.1573 - val_loss: 0.1899 - val_mean_absolute_error: 0.1882 - 471ms/epoch - 17ms/step\n",
      "Epoch 18/100\n",
      "27/27 - 0s - loss: 0.1613 - mean_absolute_error: 0.1608 - val_loss: 0.1699 - val_mean_absolute_error: 0.1683 - 452ms/epoch - 17ms/step\n",
      "Epoch 19/100\n",
      "27/27 - 0s - loss: 0.1384 - mean_absolute_error: 0.1367 - val_loss: 0.1452 - val_mean_absolute_error: 0.1437 - 463ms/epoch - 17ms/step\n",
      "Epoch 20/100\n",
      "27/27 - 0s - loss: 0.1276 - mean_absolute_error: 0.1269 - val_loss: 0.1386 - val_mean_absolute_error: 0.1373 - 467ms/epoch - 17ms/step\n",
      "Epoch 21/100\n",
      "27/27 - 0s - loss: 0.1228 - mean_absolute_error: 0.1215 - val_loss: 0.1331 - val_mean_absolute_error: 0.1319 - 457ms/epoch - 17ms/step\n",
      "Epoch 22/100\n",
      "27/27 - 0s - loss: 0.1169 - mean_absolute_error: 0.1154 - val_loss: 0.1294 - val_mean_absolute_error: 0.1283 - 469ms/epoch - 17ms/step\n",
      "Epoch 23/100\n",
      "27/27 - 0s - loss: 0.1110 - mean_absolute_error: 0.1104 - val_loss: 0.1197 - val_mean_absolute_error: 0.1188 - 465ms/epoch - 17ms/step\n",
      "Epoch 24/100\n",
      "27/27 - 0s - loss: 0.1099 - mean_absolute_error: 0.1067 - val_loss: 0.1138 - val_mean_absolute_error: 0.1131 - 468ms/epoch - 17ms/step\n",
      "Epoch 25/100\n",
      "27/27 - 0s - loss: 0.1005 - mean_absolute_error: 0.0972 - val_loss: 0.1153 - val_mean_absolute_error: 0.1147 - 461ms/epoch - 17ms/step\n",
      "Epoch 26/100\n",
      "27/27 - 0s - loss: 0.0922 - mean_absolute_error: 0.0924 - val_loss: 0.1126 - val_mean_absolute_error: 0.1122 - 465ms/epoch - 17ms/step\n",
      "Epoch 27/100\n",
      "27/27 - 0s - loss: 0.0981 - mean_absolute_error: 0.0965 - val_loss: 0.1100 - val_mean_absolute_error: 0.1098 - 459ms/epoch - 17ms/step\n",
      "Epoch 28/100\n",
      "27/27 - 0s - loss: 0.0932 - mean_absolute_error: 0.0927 - val_loss: 0.0959 - val_mean_absolute_error: 0.0958 - 474ms/epoch - 18ms/step\n",
      "Epoch 29/100\n",
      "27/27 - 0s - loss: 0.0942 - mean_absolute_error: 0.0935 - val_loss: 0.1061 - val_mean_absolute_error: 0.1061 - 475ms/epoch - 18ms/step\n",
      "Epoch 30/100\n",
      "27/27 - 0s - loss: 0.0759 - mean_absolute_error: 0.0759 - val_loss: 0.0642 - val_mean_absolute_error: 0.0646 - 487ms/epoch - 18ms/step\n",
      "Epoch 31/100\n",
      "27/27 - 0s - loss: 0.0685 - mean_absolute_error: 0.0681 - val_loss: 0.0604 - val_mean_absolute_error: 0.0608 - 481ms/epoch - 18ms/step\n",
      "Epoch 32/100\n",
      "27/27 - 0s - loss: 0.0690 - mean_absolute_error: 0.0688 - val_loss: 0.0661 - val_mean_absolute_error: 0.0665 - 471ms/epoch - 17ms/step\n",
      "Epoch 33/100\n",
      "27/27 - 0s - loss: 0.0663 - mean_absolute_error: 0.0659 - val_loss: 0.0697 - val_mean_absolute_error: 0.0701 - 471ms/epoch - 17ms/step\n",
      "Epoch 34/100\n",
      "27/27 - 0s - loss: 0.0496 - mean_absolute_error: 0.0507 - val_loss: 0.0527 - val_mean_absolute_error: 0.0531 - 451ms/epoch - 17ms/step\n",
      "Epoch 35/100\n",
      "27/27 - 0s - loss: 0.0450 - mean_absolute_error: 0.0452 - val_loss: 0.0539 - val_mean_absolute_error: 0.0543 - 461ms/epoch - 17ms/step\n",
      "Epoch 36/100\n",
      "27/27 - 0s - loss: 0.0460 - mean_absolute_error: 0.0460 - val_loss: 0.0616 - val_mean_absolute_error: 0.0620 - 484ms/epoch - 18ms/step\n",
      "Epoch 37/100\n",
      "27/27 - 0s - loss: 0.0451 - mean_absolute_error: 0.0445 - val_loss: 0.0481 - val_mean_absolute_error: 0.0485 - 478ms/epoch - 18ms/step\n",
      "Epoch 38/100\n",
      "27/27 - 0s - loss: 0.0555 - mean_absolute_error: 0.0548 - val_loss: 0.0955 - val_mean_absolute_error: 0.0957 - 457ms/epoch - 17ms/step\n",
      "Epoch 39/100\n",
      "27/27 - 0s - loss: 0.0659 - mean_absolute_error: 0.0650 - val_loss: 0.0602 - val_mean_absolute_error: 0.0605 - 482ms/epoch - 18ms/step\n",
      "Epoch 40/100\n",
      "27/27 - 0s - loss: 0.0437 - mean_absolute_error: 0.0443 - val_loss: 0.0514 - val_mean_absolute_error: 0.0517 - 468ms/epoch - 17ms/step\n",
      "Epoch 41/100\n",
      "27/27 - 0s - loss: 0.0444 - mean_absolute_error: 0.0442 - val_loss: 0.0488 - val_mean_absolute_error: 0.0491 - 492ms/epoch - 18ms/step\n",
      "Epoch 42/100\n",
      "27/27 - 0s - loss: 0.0464 - mean_absolute_error: 0.0455 - val_loss: 0.0444 - val_mean_absolute_error: 0.0447 - 453ms/epoch - 17ms/step\n",
      "Epoch 43/100\n",
      "27/27 - 0s - loss: 0.0443 - mean_absolute_error: 0.0433 - val_loss: 0.0724 - val_mean_absolute_error: 0.0726 - 454ms/epoch - 17ms/step\n",
      "Epoch 44/100\n",
      "27/27 - 0s - loss: 0.0535 - mean_absolute_error: 0.0533 - val_loss: 0.0678 - val_mean_absolute_error: 0.0681 - 461ms/epoch - 17ms/step\n",
      "Epoch 45/100\n",
      "27/27 - 0s - loss: 0.0559 - mean_absolute_error: 0.0549 - val_loss: 0.0682 - val_mean_absolute_error: 0.0685 - 461ms/epoch - 17ms/step\n",
      "Epoch 46/100\n",
      "27/27 - 0s - loss: 0.0472 - mean_absolute_error: 0.0463 - val_loss: 0.0513 - val_mean_absolute_error: 0.0516 - 460ms/epoch - 17ms/step\n",
      "Epoch 47/100\n",
      "27/27 - 0s - loss: 0.0393 - mean_absolute_error: 0.0394 - val_loss: 0.0435 - val_mean_absolute_error: 0.0437 - 452ms/epoch - 17ms/step\n",
      "Epoch 48/100\n",
      "27/27 - 0s - loss: 0.0393 - mean_absolute_error: 0.0380 - val_loss: 0.0425 - val_mean_absolute_error: 0.0428 - 454ms/epoch - 17ms/step\n",
      "Epoch 49/100\n",
      "27/27 - 0s - loss: 0.0430 - mean_absolute_error: 0.0425 - val_loss: 0.0466 - val_mean_absolute_error: 0.0469 - 453ms/epoch - 17ms/step\n",
      "Epoch 50/100\n",
      "27/27 - 0s - loss: 0.0410 - mean_absolute_error: 0.0408 - val_loss: 0.0492 - val_mean_absolute_error: 0.0494 - 466ms/epoch - 17ms/step\n",
      "Epoch 51/100\n",
      "27/27 - 0s - loss: 0.0543 - mean_absolute_error: 0.0537 - val_loss: 0.0589 - val_mean_absolute_error: 0.0591 - 470ms/epoch - 17ms/step\n",
      "Epoch 52/100\n",
      "27/27 - 0s - loss: 0.0374 - mean_absolute_error: 0.0373 - val_loss: 0.0448 - val_mean_absolute_error: 0.0451 - 463ms/epoch - 17ms/step\n",
      "Epoch 53/100\n",
      "27/27 - 0s - loss: 0.0356 - mean_absolute_error: 0.0358 - val_loss: 0.0720 - val_mean_absolute_error: 0.0723 - 465ms/epoch - 17ms/step\n",
      "Epoch 54/100\n",
      "27/27 - 0s - loss: 0.0412 - mean_absolute_error: 0.0405 - val_loss: 0.0325 - val_mean_absolute_error: 0.0327 - 454ms/epoch - 17ms/step\n",
      "Epoch 55/100\n",
      "27/27 - 0s - loss: 0.0376 - mean_absolute_error: 0.0378 - val_loss: 0.0406 - val_mean_absolute_error: 0.0408 - 463ms/epoch - 17ms/step\n",
      "Epoch 56/100\n",
      "27/27 - 1s - loss: 0.0405 - mean_absolute_error: 0.0405 - val_loss: 0.0383 - val_mean_absolute_error: 0.0385 - 522ms/epoch - 19ms/step\n"
     ]
    },
    {
     "name": "stdout",
     "output_type": "stream",
     "text": [
      "Epoch 57/100\n",
      "27/27 - 1s - loss: 0.0349 - mean_absolute_error: 0.0347 - val_loss: 0.0337 - val_mean_absolute_error: 0.0338 - 526ms/epoch - 19ms/step\n",
      "Epoch 58/100\n",
      "27/27 - 1s - loss: 0.0303 - mean_absolute_error: 0.0301 - val_loss: 0.0595 - val_mean_absolute_error: 0.0597 - 526ms/epoch - 19ms/step\n",
      "Epoch 59/100\n",
      "27/27 - 1s - loss: 0.0426 - mean_absolute_error: 0.0423 - val_loss: 0.0578 - val_mean_absolute_error: 0.0580 - 515ms/epoch - 19ms/step\n",
      "Epoch 60/100\n",
      "27/27 - 1s - loss: 0.0508 - mean_absolute_error: 0.0508 - val_loss: 0.0371 - val_mean_absolute_error: 0.0373 - 525ms/epoch - 19ms/step\n",
      "Epoch 61/100\n",
      "27/27 - 1s - loss: 0.0329 - mean_absolute_error: 0.0329 - val_loss: 0.0277 - val_mean_absolute_error: 0.0279 - 516ms/epoch - 19ms/step\n",
      "Epoch 62/100\n",
      "27/27 - 1s - loss: 0.0239 - mean_absolute_error: 0.0236 - val_loss: 0.0242 - val_mean_absolute_error: 0.0243 - 516ms/epoch - 19ms/step\n",
      "Epoch 63/100\n",
      "27/27 - 1s - loss: 0.0270 - mean_absolute_error: 0.0267 - val_loss: 0.0349 - val_mean_absolute_error: 0.0350 - 519ms/epoch - 19ms/step\n",
      "Epoch 64/100\n",
      "27/27 - 1s - loss: 0.0323 - mean_absolute_error: 0.0322 - val_loss: 0.0237 - val_mean_absolute_error: 0.0238 - 520ms/epoch - 19ms/step\n",
      "Epoch 65/100\n",
      "27/27 - 1s - loss: 0.0344 - mean_absolute_error: 0.0345 - val_loss: 0.0300 - val_mean_absolute_error: 0.0301 - 529ms/epoch - 20ms/step\n",
      "Epoch 66/100\n",
      "27/27 - 1s - loss: 0.0297 - mean_absolute_error: 0.0300 - val_loss: 0.0616 - val_mean_absolute_error: 0.0617 - 518ms/epoch - 19ms/step\n",
      "Epoch 67/100\n",
      "27/27 - 1s - loss: 0.0403 - mean_absolute_error: 0.0399 - val_loss: 0.0227 - val_mean_absolute_error: 0.0228 - 516ms/epoch - 19ms/step\n",
      "Epoch 68/100\n",
      "27/27 - 1s - loss: 0.0191 - mean_absolute_error: 0.0186 - val_loss: 0.0192 - val_mean_absolute_error: 0.0192 - 514ms/epoch - 19ms/step\n",
      "Epoch 69/100\n",
      "27/27 - 1s - loss: 0.0333 - mean_absolute_error: 0.0335 - val_loss: 0.0452 - val_mean_absolute_error: 0.0452 - 532ms/epoch - 20ms/step\n",
      "Epoch 70/100\n",
      "27/27 - 0s - loss: 0.0313 - mean_absolute_error: 0.0309 - val_loss: 0.0192 - val_mean_absolute_error: 0.0192 - 494ms/epoch - 18ms/step\n",
      "Epoch 71/100\n",
      "27/27 - 0s - loss: 0.0326 - mean_absolute_error: 0.0323 - val_loss: 0.0397 - val_mean_absolute_error: 0.0397 - 476ms/epoch - 18ms/step\n",
      "Epoch 72/100\n",
      "27/27 - 0s - loss: 0.0307 - mean_absolute_error: 0.0307 - val_loss: 0.0285 - val_mean_absolute_error: 0.0286 - 473ms/epoch - 18ms/step\n",
      "Epoch 73/100\n",
      "27/27 - 1s - loss: 0.0179 - mean_absolute_error: 0.0179 - val_loss: 0.0183 - val_mean_absolute_error: 0.0184 - 512ms/epoch - 19ms/step\n",
      "Epoch 74/100\n",
      "27/27 - 0s - loss: 0.0172 - mean_absolute_error: 0.0173 - val_loss: 0.0217 - val_mean_absolute_error: 0.0217 - 485ms/epoch - 18ms/step\n",
      "Epoch 75/100\n",
      "27/27 - 0s - loss: 0.0230 - mean_absolute_error: 0.0232 - val_loss: 0.0187 - val_mean_absolute_error: 0.0187 - 484ms/epoch - 18ms/step\n",
      "Epoch 76/100\n",
      "27/27 - 0s - loss: 0.0208 - mean_absolute_error: 0.0207 - val_loss: 0.0163 - val_mean_absolute_error: 0.0163 - 472ms/epoch - 17ms/step\n",
      "Epoch 77/100\n",
      "27/27 - 0s - loss: 0.0185 - mean_absolute_error: 0.0185 - val_loss: 0.0235 - val_mean_absolute_error: 0.0235 - 479ms/epoch - 18ms/step\n",
      "Epoch 78/100\n",
      "27/27 - 0s - loss: 0.0297 - mean_absolute_error: 0.0297 - val_loss: 0.0183 - val_mean_absolute_error: 0.0182 - 467ms/epoch - 17ms/step\n",
      "Epoch 79/100\n",
      "27/27 - 0s - loss: 0.0231 - mean_absolute_error: 0.0234 - val_loss: 0.0127 - val_mean_absolute_error: 0.0128 - 474ms/epoch - 18ms/step\n",
      "Epoch 80/100\n",
      "27/27 - 0s - loss: 0.0369 - mean_absolute_error: 0.0369 - val_loss: 0.0191 - val_mean_absolute_error: 0.0191 - 471ms/epoch - 17ms/step\n",
      "Epoch 81/100\n",
      "27/27 - 0s - loss: 0.0238 - mean_absolute_error: 0.0237 - val_loss: 0.0192 - val_mean_absolute_error: 0.0192 - 470ms/epoch - 17ms/step\n",
      "Epoch 82/100\n",
      "27/27 - 0s - loss: 0.0175 - mean_absolute_error: 0.0176 - val_loss: 0.0230 - val_mean_absolute_error: 0.0230 - 471ms/epoch - 17ms/step\n",
      "Epoch 83/100\n",
      "27/27 - 0s - loss: 0.0201 - mean_absolute_error: 0.0200 - val_loss: 0.0308 - val_mean_absolute_error: 0.0308 - 467ms/epoch - 17ms/step\n",
      "Epoch 84/100\n",
      "27/27 - 0s - loss: 0.0219 - mean_absolute_error: 0.0220 - val_loss: 0.0178 - val_mean_absolute_error: 0.0179 - 487ms/epoch - 18ms/step\n",
      "Epoch 85/100\n",
      "27/27 - 0s - loss: 0.0149 - mean_absolute_error: 0.0149 - val_loss: 0.0162 - val_mean_absolute_error: 0.0162 - 486ms/epoch - 18ms/step\n",
      "Epoch 86/100\n",
      "27/27 - 0s - loss: 0.0248 - mean_absolute_error: 0.0247 - val_loss: 0.0442 - val_mean_absolute_error: 0.0443 - 476ms/epoch - 18ms/step\n",
      "Epoch 87/100\n",
      "27/27 - 0s - loss: 0.0218 - mean_absolute_error: 0.0218 - val_loss: 0.0148 - val_mean_absolute_error: 0.0148 - 469ms/epoch - 17ms/step\n",
      "Epoch 88/100\n",
      "27/27 - 0s - loss: 0.0197 - mean_absolute_error: 0.0196 - val_loss: 0.0304 - val_mean_absolute_error: 0.0304 - 488ms/epoch - 18ms/step\n",
      "Epoch 89/100\n",
      "27/27 - 0s - loss: 0.0211 - mean_absolute_error: 0.0209 - val_loss: 0.0167 - val_mean_absolute_error: 0.0167 - 474ms/epoch - 18ms/step\n",
      "Epoch 90/100\n",
      "27/27 - 0s - loss: 0.0206 - mean_absolute_error: 0.0207 - val_loss: 0.0406 - val_mean_absolute_error: 0.0407 - 475ms/epoch - 18ms/step\n",
      "Epoch 91/100\n",
      "27/27 - 0s - loss: 0.0371 - mean_absolute_error: 0.0373 - val_loss: 0.0302 - val_mean_absolute_error: 0.0302 - 475ms/epoch - 18ms/step\n",
      "Epoch 92/100\n",
      "27/27 - 0s - loss: 0.0273 - mean_absolute_error: 0.0275 - val_loss: 0.0159 - val_mean_absolute_error: 0.0159 - 476ms/epoch - 18ms/step\n",
      "Epoch 93/100\n",
      "27/27 - 0s - loss: 0.0143 - mean_absolute_error: 0.0143 - val_loss: 0.0188 - val_mean_absolute_error: 0.0189 - 488ms/epoch - 18ms/step\n",
      "Epoch 94/100\n",
      "27/27 - 0s - loss: 0.0205 - mean_absolute_error: 0.0203 - val_loss: 0.0203 - val_mean_absolute_error: 0.0203 - 477ms/epoch - 18ms/step\n",
      "Epoch 95/100\n",
      "27/27 - 0s - loss: 0.0187 - mean_absolute_error: 0.0187 - val_loss: 0.0152 - val_mean_absolute_error: 0.0152 - 480ms/epoch - 18ms/step\n",
      "Epoch 96/100\n",
      "27/27 - 0s - loss: 0.0260 - mean_absolute_error: 0.0257 - val_loss: 0.0412 - val_mean_absolute_error: 0.0412 - 466ms/epoch - 17ms/step\n",
      "Epoch 97/100\n",
      "27/27 - 0s - loss: 0.0227 - mean_absolute_error: 0.0226 - val_loss: 0.0136 - val_mean_absolute_error: 0.0136 - 468ms/epoch - 17ms/step\n",
      "Epoch 98/100\n",
      "27/27 - 0s - loss: 0.0158 - mean_absolute_error: 0.0159 - val_loss: 0.0130 - val_mean_absolute_error: 0.0130 - 472ms/epoch - 17ms/step\n",
      "Epoch 99/100\n",
      "27/27 - 0s - loss: 0.0158 - mean_absolute_error: 0.0158 - val_loss: 0.0077 - val_mean_absolute_error: 0.0077 - 480ms/epoch - 18ms/step\n",
      "Epoch 100/100\n",
      "27/27 - 0s - loss: 0.0322 - mean_absolute_error: 0.0323 - val_loss: 0.0357 - val_mean_absolute_error: 0.0357 - 480ms/epoch - 18ms/step\n"
     ]
    },
    {
     "data": {
      "text/plain": [
       "<keras.callbacks.History at 0x20ce2573fd0>"
      ]
     },
     "execution_count": 10,
     "metadata": {},
     "output_type": "execute_result"
    }
   ],
   "source": [
    "model.compile(\n",
    "    loss=RaggedMeanAbsoluteError(),\n",
    "    optimizer=Adam(learning_rate=1e-03),\n",
    "    metrics=[\"mean_absolute_error\"],\n",
    ")\n",
    "\n",
    "model.fit(\n",
    "    x_train, y_train,\n",
    "    validation_data=(x_valid, y_valid),\n",
    "    shuffle=True,\n",
    "    batch_size=32,\n",
    "    epochs=100,\n",
    "    verbose=2,\n",
    ")"
   ]
  },
  {
   "cell_type": "code",
   "execution_count": 11,
   "id": "d4cbaa8d",
   "metadata": {},
   "outputs": [
    {
     "name": "stdout",
     "output_type": "stream",
     "text": [
      "9/9 [==============================] - 1s 9ms/step\n"
     ]
    }
   ],
   "source": [
    "test2 = model.predict(x_valid)"
   ]
  },
  {
   "cell_type": "code",
   "execution_count": 12,
   "id": "479db5c9",
   "metadata": {},
   "outputs": [
    {
     "data": {
      "text/plain": [
       "(<tf.Tensor: shape=(5, 1), dtype=float32, numpy=\n",
       " array([[6.038315 ],\n",
       "        [6.0273557],\n",
       "        [6.0275574],\n",
       "        [6.030712 ],\n",
       "        [6.0420337]], dtype=float32)>,\n",
       " <tf.Tensor: shape=(5, 1), dtype=float32, numpy=\n",
       " array([[6.],\n",
       "        [6.],\n",
       "        [6.],\n",
       "        [6.],\n",
       "        [6.]], dtype=float32)>)"
      ]
     },
     "execution_count": 12,
     "metadata": {},
     "output_type": "execute_result"
    }
   ],
   "source": [
    "test2[0], y_valid[0]"
   ]
  },
  {
   "cell_type": "code",
   "execution_count": null,
   "id": "b76d7256",
   "metadata": {},
   "outputs": [],
   "source": []
  }
 ],
 "metadata": {
  "kernelspec": {
   "display_name": "Python 3 (ipykernel)",
   "language": "python",
   "name": "python3"
  },
  "language_info": {
   "codemirror_mode": {
    "name": "ipython",
    "version": 3
   },
   "file_extension": ".py",
   "mimetype": "text/x-python",
   "name": "python",
   "nbconvert_exporter": "python",
   "pygments_lexer": "ipython3",
   "version": "3.9.7"
  }
 },
 "nbformat": 4,
 "nbformat_minor": 5
}
