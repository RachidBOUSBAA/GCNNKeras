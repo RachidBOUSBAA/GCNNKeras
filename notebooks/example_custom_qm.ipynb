{
 "cells": [
  {
   "cell_type": "code",
   "execution_count": 21,
   "metadata": {},
   "outputs": [],
   "source": [
    "import os\n",
    "import numpy as np\n",
    "from kgcnn.data.qm import QMDataset"
   ]
  },
  {
   "cell_type": "code",
   "execution_count": 22,
   "metadata": {},
   "outputs": [],
   "source": [
    "os.makedirs(\"ExampleMol\", exist_ok=True)\n",
    "xyz_data = \"\".join([\"2\\n\",\"\\n\",\n",
    "               \"C 0.0 0.0 0.0\\n\",\n",
    "               \"C 1.0 0.0 0.0\\n\",\n",
    "               \"1\\n\",\"\\n\",\n",
    "               \"C 0.0 0.0 0.0\\n\"\n",
    "              ])\n",
    "with open(\"ExampleMol/qm.xyz\", \"w\") as f:\n",
    "    f.write(xyz_data)"
   ]
  },
  {
   "cell_type": "code",
   "execution_count": 23,
   "metadata": {},
   "outputs": [],
   "source": [
    "dts = QMDataset(file_name=\"qm.xyz\", data_directory=\"ExampleMol/\", dataset_name=\"ExampleQM\")"
   ]
  },
  {
   "cell_type": "code",
   "execution_count": 24,
   "metadata": {},
   "outputs": [
    {
     "name": "stdout",
     "output_type": "stream",
     "text": [
      "INFO:kgcnn: Reading single xyz-file ...INFO:kgcnn: Converting xyz to mol information (silent)..."
     ]
    },
    {
     "data": {
      "text/plain": [
       "<kgcnn.data.qm.QMDataset at 0x25fe72aeb50>"
      ]
     },
     "execution_count": 24,
     "metadata": {},
     "output_type": "execute_result"
    }
   ],
   "source": [
    "dts.prepare_data(overwrite=True)"
   ]
  },
  {
   "cell_type": "code",
   "execution_count": 25,
   "metadata": {},
   "outputs": [
    {
     "name": "stdout",
     "output_type": "stream",
     "text": [
      "INFO:kgcnn: Parsing mol information ...INFO:kgcnn: done\n"
     ]
    },
    {
     "data": {
      "text/plain": [
       "<kgcnn.data.qm.QMDataset at 0x25fe72aeb50>"
      ]
     },
     "execution_count": 25,
     "metadata": {},
     "output_type": "execute_result"
    }
   ],
   "source": [
    "dts.read_in_memory()"
   ]
  },
  {
   "cell_type": "code",
   "execution_count": 26,
   "metadata": {},
   "outputs": [
    {
     "data": {
      "text/plain": [
       "[array([[0., 0., 0.],\n",
       "        [1., 0., 0.]]),\n",
       " array([[0., 0., 0.]])]"
      ]
     },
     "execution_count": 26,
     "metadata": {},
     "output_type": "execute_result"
    }
   ],
   "source": [
    "dts.node_coordinates"
   ]
  },
  {
   "cell_type": "code",
   "execution_count": 27,
   "metadata": {},
   "outputs": [
    {
     "data": {
      "text/plain": [
       "[array([[3., 0., 0., 0., 0.],\n",
       "        [3., 0., 0., 0., 0.]]),\n",
       " array([], shape=(1, 0), dtype=float64)]"
      ]
     },
     "execution_count": 27,
     "metadata": {},
     "output_type": "execute_result"
    }
   ],
   "source": [
    "dts.edge_attributes"
   ]
  },
  {
   "cell_type": "code",
   "execution_count": null,
   "metadata": {},
   "outputs": [],
   "source": []
  }
 ],
 "metadata": {
  "kernelspec": {
   "display_name": "Python 3 (ipykernel)",
   "language": "python",
   "name": "python3"
  },
  "language_info": {
   "codemirror_mode": {
    "name": "ipython",
    "version": 3
   },
   "file_extension": ".py",
   "mimetype": "text/x-python",
   "name": "python",
   "nbconvert_exporter": "python",
   "pygments_lexer": "ipython3",
   "version": "3.8.12"
  }
 },
 "nbformat": 4,
 "nbformat_minor": 4
}
