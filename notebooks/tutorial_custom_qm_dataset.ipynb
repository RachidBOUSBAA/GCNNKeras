{
 "cells": [
  {
   "cell_type": "markdown",
   "metadata": {},
   "source": [
    "# QM Dataset"
   ]
  },
  {
   "cell_type": "markdown",
   "metadata": {},
   "source": [
    "This is a base class for 'quantum mechanical' datasets. It generates graph properties from a xyz-file, which\n",
    "stores atomic coordinates.\n",
    "\n",
    "Additionally, it should be possible to generate approximate chemical bonding information via `OpenBabel`, if this\n",
    "additional package is installed.\n",
    "The class inherits from `MemoryGraphDataset`.\n",
    "\n",
    "At the moment, there is no connection to `MoleculeNetDataset` since usually for geometric data, the usage is\n",
    "related to learning quantum properties like energy, orbitals or forces and no \"chemical\" feature information is\n",
    "required.\n",
    "\n",
    "For demonstration, we make an artifical table of coordinates and some target values and store them to file."
   ]
  },
  {
   "cell_type": "code",
   "execution_count": 1,
   "metadata": {},
   "outputs": [],
   "source": [
    "import os\n",
    "os.makedirs(\"ExampleQM\", exist_ok=True)\n",
    "xyz_list = [\n",
    "    \"4\\n\\nC 0.9949499369 0.0 0.0\\nC 2.1952097416 0.0 0.0\\nH -0.0707100034 0.0 0.0\\nH 3.2608699799 0.0 0.0\\n\",\n",
    "    \"5\\n\\nC 0.9982599616 -0.0024599999 -0.0043599997\\nH 2.0902099609 -0.0024299999 0.0041399999\\nH 0.6337899566 1.0268599987 0.0041399999\\nH 0.6270399690 -0.5277299881 0.8781099916\\nH 0.6413599849 -0.5074699521 -0.9053999186\\n\",\n",
    "    \"3\\n\\nO 0.00000 0.00000 0.11779\\nH 0.00000 0.75545 -0.47116\\nH 0.00000 -0.75545 -0.47116\"\n",
    "]\n",
    "xyz_data = \"\".join(xyz_list)\n",
    "with open(\"ExampleQM/qm.xyz\", \"w\") as f:\n",
    "    f.write(xyz_data)"
   ]
  },
  {
   "cell_type": "markdown",
   "metadata": {},
   "source": [
    "Or if single files are used"
   ]
  },
  {
   "cell_type": "code",
   "execution_count": 2,
   "metadata": {},
   "outputs": [],
   "source": [
    "os.makedirs(\"ExampleQM/XYZ_files\", exist_ok=True)\n",
    "for i, x in enumerate(xyz_list):\n",
    "    with open(\"ExampleQM/XYZ_files/mol_%i.xyz\" % i, \"w\") as f:\n",
    "        f.write(x)\n",
    "csv_info = \"ID,files,energy\\n0,mol_0.xyz,-13.0\\n1,mol_1.xyz,-20.0\\n2,mol_2.xyz,-34.0\"\n",
    "with open(\"ExampleQM/qm.csv\", \"w\") as f:\n",
    "    f.write(csv_info)"
   ]
  },
  {
   "cell_type": "markdown",
   "metadata": {},
   "source": [
    "The file structure is:\n",
    "\n",
    "\n",
    "```bash\n",
    "├── ExampleQM\n",
    "    ├── qm.csv\n",
    "    ├── XYZ_files  # Need a qm.csv if singe files are used.\n",
    "    │   ├── *.*\n",
    "    │   └── ... \n",
    "    ├── qm.xyz\n",
    "    └── qm.sdf  # After prepare_data\n",
    "```"
   ]
  },
  {
   "cell_type": "markdown",
   "metadata": {},
   "source": [
    "##  1. Initialization"
   ]
  },
  {
   "cell_type": "markdown",
   "metadata": {},
   "source": [
    "To load the dataset from memory the `QMDataset` class requires the information of the directory the data is in and the name of the xyz-file. Also required is to provide a name of the dataset. If no single xyz file is available, a csv file of the same base-name must have also a column of files-names in addition to labels."
   ]
  },
  {
   "cell_type": "code",
   "execution_count": 3,
   "metadata": {},
   "outputs": [],
   "source": [
    "import numpy as np\n",
    "from kgcnn.data.qm import QMDataset\n",
    "dts = QMDataset(\n",
    "    file_name=\"qm.xyz\",\n",
    "    file_directory=\"XYZ_files\",\n",
    "    data_directory=\"ExampleQM\", \n",
    "    dataset_name=\"ExampleQM\"\n",
    ")"
   ]
  },
  {
   "cell_type": "markdown",
   "metadata": {},
   "source": [
    "## 2. Prepare Data"
   ]
  },
  {
   "cell_type": "markdown",
   "metadata": {},
   "source": [
    "Prepare Data generates a single XYZ file if it is not available and also tries to maks a mol SDF file from XYZ information via `OpenBabel` if installed."
   ]
  },
  {
   "cell_type": "code",
   "execution_count": 4,
   "metadata": {},
   "outputs": [
    {
     "name": "stderr",
     "output_type": "stream",
     "text": [
      "INFO:kgcnn.data.ExampleQM:Converting xyz to mol information.\n"
     ]
    },
    {
     "data": {
      "text/plain": [
       "<QMDataset []>"
      ]
     },
     "execution_count": 4,
     "metadata": {},
     "output_type": "execute_result"
    }
   ],
   "source": [
    "dts.prepare_data(\n",
    "    overwrite=True,\n",
    "    file_column_name=\"files\",  # Delete qm.xyz file to see if it is generated from single files\n",
    "    make_sdf=True\n",
    ")"
   ]
  },
  {
   "cell_type": "markdown",
   "metadata": {},
   "source": [
    "## 3. Read Data"
   ]
  },
  {
   "cell_type": "markdown",
   "metadata": {},
   "source": [
    "The information from XYZ file and optinally also form SDF and CSV files are read from disk."
   ]
  },
  {
   "cell_type": "code",
   "execution_count": 5,
   "metadata": {},
   "outputs": [
    {
     "name": "stderr",
     "output_type": "stream",
     "text": [
      "INFO:kgcnn.data.ExampleQM:Reading structures from SDF file.\n",
      "[15:28:36] Warning: molecule is tagged as 3D, but all Z coords are zero\n",
      "INFO:kgcnn.data.ExampleQM: ... process molecules 0 from 3\n"
     ]
    },
    {
     "data": {
      "text/plain": [
       "<QMDataset [{'node_symbol': array(['C', 'C', 'H', 'H'], dtype='<U1'), 'node_number': array([6, 6, 1, 1]), 'node_coordinates': array([[ 0.9949,  0.    ,  0.    ],\n",
       "       [ 2.1952,  0.    ,  0.    ],\n",
       "       [-0.0707,  0.    ,  0.    ],\n",
       "       [ 3.2609,  0.    ,  0.    ]]), 'edge_indices': array([[0, 1],\n",
       "       [0, 2],\n",
       "       [1, 0],\n",
       "       [1, 3],\n",
       "       [2, 0],\n",
       "       [3, 1]], dtype=int64), 'edge_number': array([3, 1, 3, 1, 1, 1]), 'graph_labels': array(-13.)} ...]>"
      ]
     },
     "execution_count": 5,
     "metadata": {},
     "output_type": "execute_result"
    }
   ],
   "source": [
    "dts.read_in_memory(\n",
    "    label_column_name=\"energy\"\n",
    ")"
   ]
  },
  {
   "cell_type": "markdown",
   "metadata": {},
   "source": [
    "## 4. Check dataset and graphs"
   ]
  },
  {
   "cell_type": "markdown",
   "metadata": {},
   "source": [
    "With openbabel QMDataset has both geometric and apporximate bond information."
   ]
  },
  {
   "cell_type": "code",
   "execution_count": 6,
   "metadata": {},
   "outputs": [
    {
     "data": {
      "text/plain": [
       "[array([[ 0.9949,  0.    ,  0.    ],\n",
       "        [ 2.1952,  0.    ,  0.    ],\n",
       "        [-0.0707,  0.    ,  0.    ],\n",
       "        [ 3.2609,  0.    ,  0.    ]]),\n",
       " array([[ 0.9983, -0.0025, -0.0044],\n",
       "        [ 2.0902, -0.0024,  0.0041],\n",
       "        [ 0.6338,  1.0269,  0.0041],\n",
       "        [ 0.627 , -0.5277,  0.8781],\n",
       "        [ 0.6414, -0.5075, -0.9054]]),\n",
       " array([[ 0.    ,  0.    ,  0.1178],\n",
       "        [ 0.    ,  0.7554, -0.4712],\n",
       "        [ 0.    , -0.7554, -0.4712]])]"
      ]
     },
     "execution_count": 6,
     "metadata": {},
     "output_type": "execute_result"
    }
   ],
   "source": [
    "dts.obtain_property(\"node_coordinates\")"
   ]
  },
  {
   "cell_type": "markdown",
   "metadata": {},
   "source": [
    "The graph then must be constructed with edges based on pairwise distances:"
   ]
  },
  {
   "cell_type": "code",
   "execution_count": 7,
   "metadata": {},
   "outputs": [
    {
     "data": {
      "text/plain": [
       "<QMDataset [{'node_symbol': array(['C', 'C', 'H', 'H'], dtype='<U1'), 'node_number': array([6, 6, 1, 1]), 'node_coordinates': array([[ 0.9949,  0.    ,  0.    ],\n",
       "       [ 2.1952,  0.    ,  0.    ],\n",
       "       [-0.0707,  0.    ,  0.    ],\n",
       "       [ 3.2609,  0.    ,  0.    ]]), 'edge_indices': array([[0, 1],\n",
       "       [0, 2],\n",
       "       [1, 0],\n",
       "       [1, 3],\n",
       "       [2, 0],\n",
       "       [3, 1]], dtype=int64), 'edge_number': array([3, 1, 3, 1, 1, 1]), 'graph_labels': array(-13.), 'range_indices': array([[0, 1],\n",
       "       [0, 2],\n",
       "       [1, 0],\n",
       "       [1, 3],\n",
       "       [2, 0],\n",
       "       [3, 1]]), 'range_attributes': array([[1.2003],\n",
       "       [1.0656],\n",
       "       [1.2003],\n",
       "       [1.0657],\n",
       "       [1.0656],\n",
       "       [1.0657]])} ...]>"
      ]
     },
     "execution_count": 7,
     "metadata": {},
     "output_type": "execute_result"
    }
   ],
   "source": [
    "dts.map_list(\"set_range\", \n",
    "    max_distance=2,\n",
    "    max_neighbours=15,\n",
    "    do_invert_distance=False, \n",
    "    self_loops=False, \n",
    "    exclusive=True\n",
    ")"
   ]
  },
  {
   "cell_type": "code",
   "execution_count": 8,
   "metadata": {},
   "outputs": [
    {
     "data": {
      "text/plain": [
       "[array([[1.2003],\n",
       "        [1.0656],\n",
       "        [1.2003],\n",
       "        [1.0657],\n",
       "        [1.0656],\n",
       "        [1.0657]]),\n",
       " array([[1.09193309],\n",
       "        [1.09206083],\n",
       "        [1.09201876],\n",
       "        [1.09279623],\n",
       "        [1.09193309],\n",
       "        [1.78341231],\n",
       "        [1.78347143],\n",
       "        [1.78363048],\n",
       "        [1.09206083],\n",
       "        [1.78341231],\n",
       "        [1.78345266],\n",
       "        [1.7837128 ],\n",
       "        [1.09201876],\n",
       "        [1.78347143],\n",
       "        [1.78345266],\n",
       "        [1.78367252],\n",
       "        [1.09279623],\n",
       "        [1.78363048],\n",
       "        [1.7837128 ],\n",
       "        [1.78367252]]),\n",
       " array([[0.95788839],\n",
       "        [0.95788839],\n",
       "        [0.95788839],\n",
       "        [1.5108    ],\n",
       "        [0.95788839],\n",
       "        [1.5108    ]])]"
      ]
     },
     "execution_count": 8,
     "metadata": {},
     "output_type": "execute_result"
    }
   ],
   "source": [
    "dts.obtain_property(\"range_attributes\")"
   ]
  },
  {
   "cell_type": "code",
   "execution_count": 9,
   "metadata": {},
   "outputs": [
    {
     "data": {
      "text/plain": [
       "[array([[0, 1],\n",
       "        [0, 2],\n",
       "        [1, 0],\n",
       "        [1, 3],\n",
       "        [2, 0],\n",
       "        [3, 1]]),\n",
       " array([[0, 1],\n",
       "        [0, 2],\n",
       "        [0, 3],\n",
       "        [0, 4],\n",
       "        [1, 0],\n",
       "        [1, 2],\n",
       "        [1, 3],\n",
       "        [1, 4],\n",
       "        [2, 0],\n",
       "        [2, 1],\n",
       "        [2, 3],\n",
       "        [2, 4],\n",
       "        [3, 0],\n",
       "        [3, 1],\n",
       "        [3, 2],\n",
       "        [3, 4],\n",
       "        [4, 0],\n",
       "        [4, 1],\n",
       "        [4, 2],\n",
       "        [4, 3]]),\n",
       " array([[0, 1],\n",
       "        [0, 2],\n",
       "        [1, 0],\n",
       "        [1, 2],\n",
       "        [2, 0],\n",
       "        [2, 1]])]"
      ]
     },
     "execution_count": 9,
     "metadata": {},
     "output_type": "execute_result"
    }
   ],
   "source": [
    "dts.obtain_property(\"range_indices\")"
   ]
  },
  {
   "cell_type": "markdown",
   "metadata": {},
   "source": [
    "If openbabel is available, the also bond information are given."
   ]
  },
  {
   "cell_type": "code",
   "execution_count": 10,
   "metadata": {},
   "outputs": [
    {
     "data": {
      "text/plain": [
       "[array([[0, 1],\n",
       "        [0, 2],\n",
       "        [1, 0],\n",
       "        [1, 3],\n",
       "        [2, 0],\n",
       "        [3, 1]], dtype=int64),\n",
       " array([[0, 1],\n",
       "        [0, 2],\n",
       "        [0, 3],\n",
       "        [0, 4],\n",
       "        [1, 0],\n",
       "        [2, 0],\n",
       "        [3, 0],\n",
       "        [4, 0]], dtype=int64),\n",
       " array([[0, 1],\n",
       "        [0, 2],\n",
       "        [1, 0],\n",
       "        [2, 0]], dtype=int64)]"
      ]
     },
     "execution_count": 10,
     "metadata": {},
     "output_type": "execute_result"
    }
   ],
   "source": [
    "dts.obtain_property(\"edge_indices\")"
   ]
  },
  {
   "cell_type": "code",
   "execution_count": 11,
   "metadata": {},
   "outputs": [
    {
     "data": {
      "text/plain": [
       "[array([3, 1, 3, 1, 1, 1]),\n",
       " array([1, 1, 1, 1, 1, 1, 1, 1]),\n",
       " array([1, 1, 1, 1])]"
      ]
     },
     "execution_count": 11,
     "metadata": {},
     "output_type": "execute_result"
    }
   ],
   "source": [
    "dts.obtain_property(\"edge_number\")"
   ]
  },
  {
   "cell_type": "code",
   "execution_count": 12,
   "metadata": {},
   "outputs": [
    {
     "name": "stderr",
     "output_type": "stream",
     "text": [
      "INFO:kgcnn.data.ExampleQM:No invalid graphs for assigned properties found.\n"
     ]
    },
    {
     "data": {
      "text/plain": [
       "array([], dtype=int32)"
      ]
     },
     "execution_count": 12,
     "metadata": {},
     "output_type": "execute_result"
    }
   ],
   "source": [
    "# We can also clean the dataset to ensure there are no un-connected graphs or empty arrays.\n",
    "dts.clean(inputs=[\"edge_number\", \"edge_indices\"])"
   ]
  },
  {
   "cell_type": "markdown",
   "metadata": {},
   "source": [
    "Cleaned dataset without empty or zero-length nodes/edges"
   ]
  },
  {
   "cell_type": "code",
   "execution_count": 13,
   "metadata": {},
   "outputs": [
    {
     "data": {
      "text/plain": [
       "[array([[0, 1],\n",
       "        [0, 2],\n",
       "        [1, 0],\n",
       "        [1, 3],\n",
       "        [2, 0],\n",
       "        [3, 1]], dtype=int64),\n",
       " array([[0, 1],\n",
       "        [0, 2],\n",
       "        [0, 3],\n",
       "        [0, 4],\n",
       "        [1, 0],\n",
       "        [2, 0],\n",
       "        [3, 0],\n",
       "        [4, 0]], dtype=int64),\n",
       " array([[0, 1],\n",
       "        [0, 2],\n",
       "        [1, 0],\n",
       "        [2, 0]], dtype=int64)]"
      ]
     },
     "execution_count": 13,
     "metadata": {},
     "output_type": "execute_result"
    }
   ],
   "source": [
    "dts.obtain_property(\"edge_indices\")"
   ]
  },
  {
   "cell_type": "code",
   "execution_count": 14,
   "metadata": {},
   "outputs": [
    {
     "data": {
      "text/plain": [
       "{'node_symbol': array(['C', 'C', 'H', 'H'], dtype='<U1'),\n",
       " 'node_number': array([6, 6, 1, 1]),\n",
       " 'node_coordinates': array([[ 0.9949,  0.    ,  0.    ],\n",
       "        [ 2.1952,  0.    ,  0.    ],\n",
       "        [-0.0707,  0.    ,  0.    ],\n",
       "        [ 3.2609,  0.    ,  0.    ]]),\n",
       " 'edge_indices': array([[0, 1],\n",
       "        [0, 2],\n",
       "        [1, 0],\n",
       "        [1, 3],\n",
       "        [2, 0],\n",
       "        [3, 1]], dtype=int64),\n",
       " 'edge_number': array([3, 1, 3, 1, 1, 1]),\n",
       " 'graph_labels': array(-13.),\n",
       " 'range_indices': array([[0, 1],\n",
       "        [0, 2],\n",
       "        [1, 0],\n",
       "        [1, 3],\n",
       "        [2, 0],\n",
       "        [3, 1]]),\n",
       " 'range_attributes': array([[1.2003],\n",
       "        [1.0656],\n",
       "        [1.2003],\n",
       "        [1.0657],\n",
       "        [1.0656],\n",
       "        [1.0657]])}"
      ]
     },
     "execution_count": 14,
     "metadata": {},
     "output_type": "execute_result"
    }
   ],
   "source": [
    "dts[0]"
   ]
  },
  {
   "cell_type": "markdown",
   "metadata": {},
   "source": [
    "## 5. Extensive scaler"
   ]
  },
  {
   "cell_type": "markdown",
   "metadata": {},
   "source": [
    "For extensive targets like energies, it can be helpful to remove an energy offset which is like a sum of atomization energies. "
   ]
  },
  {
   "cell_type": "code",
   "execution_count": 15,
   "metadata": {},
   "outputs": [],
   "source": [
    "from kgcnn.data.transform.scaler.molecule import ExtensiveMolecularScaler"
   ]
  },
  {
   "cell_type": "code",
   "execution_count": 16,
   "metadata": {},
   "outputs": [
    {
     "data": {
      "text/plain": [
       "array([-0.5309174 ,  0.94275059, -1.48855294])"
      ]
     },
     "execution_count": 16,
     "metadata": {},
     "output_type": "execute_result"
    }
   ],
   "source": [
    "scaler = ExtensiveMolecularScaler()\n",
    "energies_scaled = scaler.fit_transform(X=dts.obtain_property(\"graph_labels\"), atomic_number=dts.obtain_property(\"node_number\"))\n",
    "energies_scaled"
   ]
  },
  {
   "cell_type": "code",
   "execution_count": 17,
   "metadata": {},
   "outputs": [
    {
     "data": {
      "image/png": "[encoded data removed]",
      "text/plain": [
       "<Figure size 640x480 with 1 Axes>"
      ]
     },
     "metadata": {},
     "output_type": "display_data"
    },
    {
     "data": {
      "image/png": "[encoded data removed]",
      "text/plain": [
       "<Figure size 640x480 with 1 Axes>"
      ]
     },
     "execution_count": 17,
     "metadata": {},
     "output_type": "execute_result"
    }
   ],
   "source": [
    "scaler._plot_predict(dts.obtain_property(\"graph_labels\"), dts.obtain_property(\"node_number\"))"
   ]
  }
 ],
 "metadata": {
  "kernelspec": {
   "display_name": "Python 3 (ipykernel)",
   "language": "python",
   "name": "python3"
  },
  "language_info": {
   "codemirror_mode": {
    "name": "ipython",
    "version": 3
   },
   "file_extension": ".py",
   "mimetype": "text/x-python",
   "name": "python",
   "nbconvert_exporter": "python",
   "pygments_lexer": "ipython3",
   "version": "3.10.5"
  }
 },
 "nbformat": 4,
 "nbformat_minor": 4
}
