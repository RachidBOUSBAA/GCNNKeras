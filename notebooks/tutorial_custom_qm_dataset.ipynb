{
 "cells": [
  {
   "cell_type": "markdown",
   "metadata": {},
   "source": [
    "# QM Dataset"
   ]
  },
  {
   "cell_type": "markdown",
   "metadata": {},
   "source": [
    "This is a base class for 'quantum mechanical' datasets. It generates graph properties from a xyz-file, which\n",
    "stores atomic coordinates.\n",
    "\n",
    "Additionally, it should be possible to generate approximate chemical bonding information via `OpenBabel`, if this\n",
    "additional package is installed.\n",
    "The class inherits from `MemoryGraphDataset`.\n",
    "\n",
    "At the moment, there is no connection to `MoleculeNetDataset` since usually for geometric data, the usage is\n",
    "related to learning quantum properties like energy, orbitals or forces and no \"chemical\" feature information is\n",
    "required.\n",
    "\n",
    "For demonstration, we make an artifical table of coordinates and some target values and store them to file."
   ]
  },
  {
   "cell_type": "code",
   "execution_count": 1,
   "metadata": {},
   "outputs": [],
   "source": [
    "import os\n",
    "os.makedirs(\"ExampleQM\", exist_ok=True)\n",
    "xyz_list = [\n",
    "    \"3\\n\\nC -0.8513 1.7563 0.5028\\nC -1.1415 0.2664 0.4371\\nC -0.7681 -0.3186 -0.9144\\n\",\n",
    "    \"4\\n\\nC 2.4098 0.5514 -2.1836\\nC 2.5000 -0.4800 -1.0676\\nC 1.1575 -0.7559 -0.3909\\nN 0.6356 0.4257 0.2851\\n\",\n",
    "    \"1\\n\\nC 0.0 0.0 0.0\\n\"\n",
    "]\n",
    "xyz_data = \"\".join(xyz_list)\n",
    "with open(\"ExampleQM/qm.xyz\", \"w\") as f:\n",
    "    f.write(xyz_data)"
   ]
  },
  {
   "cell_type": "markdown",
   "metadata": {},
   "source": [
    "Or if single files are used"
   ]
  },
  {
   "cell_type": "code",
   "execution_count": 2,
   "metadata": {},
   "outputs": [],
   "source": [
    "os.makedirs(\"ExampleQM/XYZ_files\", exist_ok=True)\n",
    "for i, x in enumerate(xyz_list):\n",
    "    with open(\"ExampleQM/XYZ_files/mol_%i.xyz\" % i, \"w\") as f:\n",
    "        f.write(x)\n",
    "csv_info = \"ID,files,energy\\n0,mol_0.xyz,-13.0\\n1,mol_1.xyz,-20.0\\n2,mol_2.xyz,-34.0\"\n",
    "with open(\"ExampleQM/qm.csv\", \"w\") as f:\n",
    "    f.write(csv_info)"
   ]
  },
  {
   "cell_type": "markdown",
   "metadata": {},
   "source": [
    "The file structure is:\n",
    "\n",
    "\n",
    "```bash\n",
    "├── ExampleQM\n",
    "    ├── qm.csv\n",
    "    ├── XYZ_files  # Need a qm.csv if singe files are used.\n",
    "    │   ├── *.*\n",
    "    │   └── ... \n",
    "    ├── qm.xyz\n",
    "    └── qm.sdf  # After prepare_data\n",
    "```"
   ]
  },
  {
   "cell_type": "markdown",
   "metadata": {},
   "source": [
    "##  1. Initialization"
   ]
  },
  {
   "cell_type": "markdown",
   "metadata": {},
   "source": [
    "To load the dataset from memory the `QMDataset` class requires the information of the directory the data is in and the name of the xyz-file. Also required is to provide a name of the dataset. If no single xyz file is available, a csv file of the same base-name must have also a column of files-names in addition to labels."
   ]
  },
  {
   "cell_type": "code",
   "execution_count": 3,
   "metadata": {},
   "outputs": [
    {
     "name": "stderr",
     "output_type": "stream",
     "text": [
      "ERROR:kgcnn.molecule.convert:Can not import `OpenBabel` package for conversion.\n"
     ]
    }
   ],
   "source": [
    "import numpy as np\n",
    "from kgcnn.data.qm import QMDataset\n",
    "dts = QMDataset(\n",
    "    file_name=\"qm.xyz\",\n",
    "    file_directory=\"XYZ_files\",\n",
    "    data_directory=\"ExampleQM\", \n",
    "    dataset_name=\"ExampleQM\"\n",
    ")"
   ]
  },
  {
   "cell_type": "markdown",
   "metadata": {},
   "source": [
    "## 2. Prepare Data"
   ]
  },
  {
   "cell_type": "markdown",
   "metadata": {},
   "source": [
    "Prepare Data generates a single XYZ file if it is not available and also tries to maks a mol SDF file from XYZ information via `OpenBabel` if installed."
   ]
  },
  {
   "cell_type": "code",
   "execution_count": 4,
   "metadata": {},
   "outputs": [
    {
     "name": "stderr",
     "output_type": "stream",
     "text": [
      "INFO:kgcnn.data.ExampleQM:Converting xyz to mol information.\n",
      "WARNING:kgcnn.molecule.convert:Failed conversion for xyz '3\n",
      "\n",
      "C -0.8513000000 1'... .\n"
     ]
    },
    {
     "data": {
      "text/plain": [
       "<QMDataset []>"
      ]
     },
     "execution_count": 4,
     "metadata": {},
     "output_type": "execute_result"
    }
   ],
   "source": [
    "dts.prepare_data(\n",
    "    overwrite=True,\n",
    "    file_column_name=\"files\",  # Delete qm.xyz file to see if it is generated from single files\n",
    "    make_sdf=True\n",
    ")"
   ]
  },
  {
   "cell_type": "markdown",
   "metadata": {},
   "source": [
    "## 3. Read Data"
   ]
  },
  {
   "cell_type": "markdown",
   "metadata": {},
   "source": [
    "The information from XYZ file and optinally also form SDF and CSV files are read from disk."
   ]
  },
  {
   "cell_type": "code",
   "execution_count": 5,
   "metadata": {},
   "outputs": [
    {
     "name": "stderr",
     "output_type": "stream",
     "text": [
      "INFO:kgcnn.data.ExampleQM:Reading structures from SDF file.\n",
      "[19:01:58] CTAB version string invalid at line 4\n",
      "INFO:kgcnn.data.ExampleQM: ... process molecules 0 from 3\n",
      "[19:01:58] Warning: molecule is tagged as 3D, but all Z coords are zero\n"
     ]
    },
    {
     "data": {
      "text/plain": [
       "<QMDataset [{} ...]>"
      ]
     },
     "execution_count": 5,
     "metadata": {},
     "output_type": "execute_result"
    }
   ],
   "source": [
    "dts.read_in_memory(\n",
    "    label_column_name=\"energy\"\n",
    ")"
   ]
  },
  {
   "cell_type": "markdown",
   "metadata": {},
   "source": [
    "## 4. Check dataset and graphs"
   ]
  },
  {
   "cell_type": "markdown",
   "metadata": {},
   "source": [
    "With openbabel QMDataset has both geometric and apporximate bond information."
   ]
  },
  {
   "cell_type": "code",
   "execution_count": 6,
   "metadata": {},
   "outputs": [
    {
     "data": {
      "text/plain": [
       "[None,\n",
       " array([[ 2.4098,  0.5514, -2.1836],\n",
       "        [ 2.5   , -0.48  , -1.0676],\n",
       "        [ 1.1575, -0.7559, -0.3909],\n",
       "        [ 0.6356,  0.4257,  0.2851]]),\n",
       " array([[0., 0., 0.]])]"
      ]
     },
     "execution_count": 6,
     "metadata": {},
     "output_type": "execute_result"
    }
   ],
   "source": [
    "dts.obtain_property(\"node_coordinates\")"
   ]
  },
  {
   "cell_type": "markdown",
   "metadata": {},
   "source": [
    "The graph then must be constructed with edges based on pairwise distances:"
   ]
  },
  {
   "cell_type": "code",
   "execution_count": 7,
   "metadata": {},
   "outputs": [
    {
     "name": "stderr",
     "output_type": "stream",
     "text": [
      "WARNING:kgcnn.graph.base:Missing 'node_coordinates' in 'GraphDict'\n"
     ]
    },
    {
     "data": {
      "text/plain": [
       "<QMDataset [{} ...]>"
      ]
     },
     "execution_count": 7,
     "metadata": {},
     "output_type": "execute_result"
    }
   ],
   "source": [
    "dts.map_list(\"set_range\", \n",
    "    max_distance=2,\n",
    "    max_neighbours=15,\n",
    "    do_invert_distance=False, \n",
    "    self_loops=False, \n",
    "    exclusive=True\n",
    ")"
   ]
  },
  {
   "cell_type": "code",
   "execution_count": 8,
   "metadata": {},
   "outputs": [
    {
     "data": {
      "text/plain": [
       "[None,\n",
       " array([[1.52229366],\n",
       "        [1.52229366],\n",
       "        [1.52851233],\n",
       "        [1.52851233],\n",
       "        [1.45792118],\n",
       "        [1.45792118]]),\n",
       " array([], shape=(0, 1), dtype=float64)]"
      ]
     },
     "execution_count": 8,
     "metadata": {},
     "output_type": "execute_result"
    }
   ],
   "source": [
    "dts.obtain_property(\"range_attributes\")"
   ]
  },
  {
   "cell_type": "code",
   "execution_count": 9,
   "metadata": {},
   "outputs": [
    {
     "data": {
      "text/plain": [
       "[None,\n",
       " array([[0, 1],\n",
       "        [1, 0],\n",
       "        [1, 2],\n",
       "        [2, 1],\n",
       "        [2, 3],\n",
       "        [3, 2]]),\n",
       " array([], shape=(0, 2), dtype=int32)]"
      ]
     },
     "execution_count": 9,
     "metadata": {},
     "output_type": "execute_result"
    }
   ],
   "source": [
    "dts.obtain_property(\"range_indices\")"
   ]
  },
  {
   "cell_type": "markdown",
   "metadata": {},
   "source": [
    "If openbabel is available, the also bond information are given."
   ]
  },
  {
   "cell_type": "code",
   "execution_count": 10,
   "metadata": {},
   "outputs": [
    {
     "data": {
      "text/plain": [
       "[None,\n",
       " array([[0, 1],\n",
       "        [1, 0],\n",
       "        [1, 2],\n",
       "        [2, 1],\n",
       "        [2, 3],\n",
       "        [3, 2]], dtype=int64),\n",
       " array([], dtype=int64)]"
      ]
     },
     "execution_count": 10,
     "metadata": {},
     "output_type": "execute_result"
    }
   ],
   "source": [
    "dts.obtain_property(\"edge_indices\")"
   ]
  },
  {
   "cell_type": "code",
   "execution_count": 11,
   "metadata": {},
   "outputs": [
    {
     "data": {
      "text/plain": [
       "[None, array([3, 3, 1, 1, 3, 3]), array([], dtype=int32)]"
      ]
     },
     "execution_count": 11,
     "metadata": {},
     "output_type": "execute_result"
    }
   ],
   "source": [
    "dts.obtain_property(\"edge_number\")"
   ]
  },
  {
   "cell_type": "code",
   "execution_count": 12,
   "metadata": {},
   "outputs": [
    {
     "name": "stderr",
     "output_type": "stream",
     "text": [
      "INFO:kgcnn.data.ExampleQM:Property 'edge_number' is not defined for graph '0'.\n",
      "INFO:kgcnn.data.ExampleQM:Property 'edge_number' is an empty list for graph '2'.\n",
      "INFO:kgcnn.data.ExampleQM:Property 'edge_indices' is not defined for graph '0'.\n",
      "INFO:kgcnn.data.ExampleQM:Property 'edge_indices' is an empty list for graph '2'.\n",
      "WARNING:kgcnn.data.ExampleQM:Found invalid graphs for properties. Removing graphs '[2 0]'.\n"
     ]
    },
    {
     "data": {
      "text/plain": [
       "array([2, 0])"
      ]
     },
     "execution_count": 12,
     "metadata": {},
     "output_type": "execute_result"
    }
   ],
   "source": [
    "# We can also clean the dataset to ensure there are no un-connected graphs or empty arrays.\n",
    "dts.clean(inputs=[\"edge_number\", \"edge_indices\"])"
   ]
  },
  {
   "cell_type": "markdown",
   "metadata": {},
   "source": [
    "Cleaned dataset without empty or zero-length nodes/edges"
   ]
  },
  {
   "cell_type": "code",
   "execution_count": 13,
   "metadata": {},
   "outputs": [
    {
     "data": {
      "text/plain": [
       "[array([[0, 1],\n",
       "        [1, 0],\n",
       "        [1, 2],\n",
       "        [2, 1],\n",
       "        [2, 3],\n",
       "        [3, 2]], dtype=int64)]"
      ]
     },
     "execution_count": 13,
     "metadata": {},
     "output_type": "execute_result"
    }
   ],
   "source": [
    "dts.obtain_property(\"edge_indices\")"
   ]
  },
  {
   "cell_type": "code",
   "execution_count": 14,
   "metadata": {},
   "outputs": [
    {
     "data": {
      "text/plain": [
       "{'node_symbol': array(['C', 'C', 'C', 'N'], dtype='<U1'),\n",
       " 'node_number': array([6, 6, 6, 7]),\n",
       " 'node_coordinates': array([[ 2.4098,  0.5514, -2.1836],\n",
       "        [ 2.5   , -0.48  , -1.0676],\n",
       "        [ 1.1575, -0.7559, -0.3909],\n",
       "        [ 0.6356,  0.4257,  0.2851]]),\n",
       " 'edge_indices': array([[0, 1],\n",
       "        [1, 0],\n",
       "        [1, 2],\n",
       "        [2, 1],\n",
       "        [2, 3],\n",
       "        [3, 2]], dtype=int64),\n",
       " 'edge_number': array([3, 3, 1, 1, 3, 3]),\n",
       " 'graph_labels': array(-20.),\n",
       " 'range_indices': array([[0, 1],\n",
       "        [1, 0],\n",
       "        [1, 2],\n",
       "        [2, 1],\n",
       "        [2, 3],\n",
       "        [3, 2]]),\n",
       " 'range_attributes': array([[1.52229366],\n",
       "        [1.52229366],\n",
       "        [1.52851233],\n",
       "        [1.52851233],\n",
       "        [1.45792118],\n",
       "        [1.45792118]])}"
      ]
     },
     "execution_count": 14,
     "metadata": {},
     "output_type": "execute_result"
    }
   ],
   "source": [
    "dts[0]"
   ]
  },
  {
   "cell_type": "markdown",
   "metadata": {},
   "source": [
    "## 5. Extensive scaler"
   ]
  },
  {
   "cell_type": "markdown",
   "metadata": {},
   "source": [
    "For extensive targets like energies, it can be helpful to remove an energy offset which is like a sum of atomization energies. "
   ]
  },
  {
   "cell_type": "code",
   "execution_count": 16,
   "metadata": {},
   "outputs": [],
   "source": [
    "from kgcnn.data.transform.scaler.molecule import ExtensiveMolecularScaler"
   ]
  },
  {
   "cell_type": "code",
   "execution_count": 17,
   "metadata": {},
   "outputs": [
    {
     "name": "stderr",
     "output_type": "stream",
     "text": [
      "h:\\postdoc\\project_pycharm\\gcnn_keras\\kgcnn\\data\\transform\\scaler\\molecule.py:135: RuntimeWarning: divide by zero encountered in divide\n",
      "  molecular_property = molecular_property / np.expand_dims(self.scale_, axis=0)\n"
     ]
    },
    {
     "data": {
      "text/plain": [
       "array([-inf])"
      ]
     },
     "execution_count": 17,
     "metadata": {},
     "output_type": "execute_result"
    }
   ],
   "source": [
    "scaler = ExtensiveMolecularScaler()\n",
    "energies_scaled = scaler.fit_transform(X=dts.obtain_property(\"graph_labels\"), atomic_number=dts.obtain_property(\"node_number\"))\n",
    "energies_scaled"
   ]
  },
  {
   "cell_type": "code",
   "execution_count": 18,
   "metadata": {},
   "outputs": [
    {
     "data": {
      "image/png": "[encoded data removed]",
      "text/plain": [
       "<Figure size 640x480 with 1 Axes>"
      ]
     },
     "metadata": {},
     "output_type": "display_data"
    },
    {
     "data": {
      "image/png": "[encoded data removed]",
      "text/plain": [
       "<Figure size 640x480 with 1 Axes>"
      ]
     },
     "execution_count": 18,
     "metadata": {},
     "output_type": "execute_result"
    }
   ],
   "source": [
    "scaler._plot_predict(dts.obtain_property(\"graph_labels\"), dts.obtain_property(\"node_number\"))"
   ]
  }
 ],
 "metadata": {
  "kernelspec": {
   "display_name": "Python 3 (ipykernel)",
   "language": "python",
   "name": "python3"
  },
  "language_info": {
   "codemirror_mode": {
    "name": "ipython",
    "version": 3
   },
   "file_extension": ".py",
   "mimetype": "text/x-python",
   "name": "python",
   "nbconvert_exporter": "python",
   "pygments_lexer": "ipython3",
   "version": "3.10.13"
  }
 },
 "nbformat": 4,
 "nbformat_minor": 4
}
